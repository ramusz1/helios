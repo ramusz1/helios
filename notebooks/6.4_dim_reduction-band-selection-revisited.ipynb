{
 "cells": [
  {
   "cell_type": "markdown",
   "id": "e919acd4",
   "metadata": {},
   "source": [
    "## Note\n",
    "\n",
    "* Band selection pipeline based on xgboost feature selection\n",
    "* Preprocessing steps such as denoising\n",
    "* Band selection regularization"
   ]
  },
  {
   "cell_type": "markdown",
   "id": "378cbdd1-2c38-4365-b093-bd6bfbedfc2e",
   "metadata": {},
   "source": [
    "## Imports"
   ]
  },
  {
   "cell_type": "code",
   "execution_count": 1,
   "id": "9dbdfcaa",
   "metadata": {},
   "outputs": [],
   "source": [
    "%load_ext autoreload"
   ]
  },
  {
   "cell_type": "code",
   "execution_count": 2,
   "id": "c4ae5fee",
   "metadata": {},
   "outputs": [],
   "source": [
    "%autoreload 2\n",
    "\n",
    "import numpy as np\n",
    "import torch\n",
    "import torch.nn as nn\n",
    "import numpy as np\n",
    "from sklearn.preprocessing import Normalizer, RobustScaler, MinMaxScaler\n",
    "from sklearn.pipeline import Pipeline\n",
    "import matplotlib.pyplot as plt\n",
    "import cv2\n",
    "from tqdm import tqdm\n",
    "import datetime\n",
    "import os\n",
    "\n",
    "import sys\n",
    "sys.path.append(\"../\")\n",
    "\n",
    "from src.util import draw_rect, HOTDatasetMultiCam"
   ]
  },
  {
   "cell_type": "code",
   "execution_count": 3,
   "id": "a7d0152b",
   "metadata": {},
   "outputs": [],
   "source": [
    "from src.dim_reduction_util import BandDenoiser, crop, CustomPreproc\n",
    "import xgboost as xgb"
   ]
  },
  {
   "cell_type": "markdown",
   "id": "72132e93",
   "metadata": {},
   "source": [
    "## Data"
   ]
  },
  {
   "cell_type": "code",
   "execution_count": 4,
   "id": "6332b436",
   "metadata": {},
   "outputs": [
    {
     "name": "stdout",
     "output_type": "stream",
     "text": [
      "train / test split: 96 14\n"
     ]
    }
   ],
   "source": [
    "dataset_type = \"training\"\n",
    "dataset_path = f\"/scratch/datasets/hot_2023/{dataset_type}\"\n",
    "dataset = HOTDatasetMultiCam(dataset_path)\n",
    "scene_names = {}\n",
    "for i in range(len(dataset)):\n",
    "    name = dataset[i].name\n",
    "    if name in scene_names:\n",
    "        scene_names[name].append(i)\n",
    "    else:\n",
    "        scene_names[name] = [i]\n",
    "\n",
    "scene_groups = list(scene_names.values())\n",
    "\n",
    "scenes = np.arange(len(dataset))\n",
    "rng = np.random.default_rng(seed = 15)\n",
    "rng.shuffle(scene_groups)\n",
    "train_n = int(len(scene_groups) * 0.9)\n",
    "train_scenes = np.concatenate(scene_groups[:train_n])\n",
    "test_scenes = np.concatenate(scene_groups[train_n:])\n",
    "print(\"train / test split:\", len(train_scenes), len(test_scenes))\n",
    "test_scenes\n",
    "\n",
    "\n",
    "val_dataset = HOTDatasetMultiCam(\"/scratch/datasets/hot_2023/validation\")\n",
    "val_scenes = np.arange(len(val_dataset))"
   ]
  },
  {
   "cell_type": "markdown",
   "id": "b5e9689c",
   "metadata": {},
   "source": [
    "## Experiments"
   ]
  },
  {
   "cell_type": "code",
   "execution_count": 5,
   "id": "032f0805",
   "metadata": {},
   "outputs": [],
   "source": [
    "import math\n",
    "\n",
    "# modified from ostrack source\n",
    "def get_ostrack_search_crop(im, target_bb, search_area_factor=5.0):\n",
    "\n",
    "    if not isinstance(target_bb, list):\n",
    "        x, y, w, h = target_bb.tolist()\n",
    "    else:\n",
    "        x, y, w, h = target_bb\n",
    "    # Crop image\n",
    "    crop_sz = math.ceil(math.sqrt(w * h) * search_area_factor)\n",
    "\n",
    "    if crop_sz < 1:\n",
    "        raise Exception('Too small bounding box.')\n",
    "\n",
    "    x1 = round(x + 0.5 * w - crop_sz * 0.5)\n",
    "    x2 = x1 + crop_sz\n",
    "\n",
    "    y1 = round(y + 0.5 * h - crop_sz * 0.5)\n",
    "    y2 = y1 + crop_sz\n",
    "\n",
    "    x1_pad = max(0, -x1)\n",
    "    x2_pad = max(x2 - im.shape[1] + 1, 0)\n",
    "\n",
    "    y1_pad = max(0, -y1)\n",
    "    y2_pad = max(y2 - im.shape[0] + 1, 0)\n",
    "\n",
    "    # Crop target\n",
    "#     im_crop = im[y1 + y1_pad:y2 - y2_pad, x1 + x1_pad:x2 - x2_pad, :]\n",
    "#     return im_crop\n",
    "    x1, y1, x2, y2 = x1 + x1_pad, y1 + y1_pad, x2 - x2_pad, y2 - y2_pad\n",
    "    return x1, y1, x2 - x1, y2 - y1\n"
   ]
  },
  {
   "cell_type": "code",
   "execution_count": 6,
   "id": "388abcf1",
   "metadata": {},
   "outputs": [
    {
     "name": "stdout",
     "output_type": "stream",
     "text": [
      "Alpha, bands, scores, adjusted score\n",
      "0 [10  1  0] [0.0819459  0.09221482 0.08796189] 0.26212261\n",
      "0.001 [15 10  1] [0.08131075 0.0819459  0.09221482] 0.2508048033333334\n",
      "0.005 [15 10  1] [0.08131075 0.0819459  0.09221482] 0.23213813666666672\n",
      "0.01 [15 10  1] [0.08131075 0.0819459  0.09221482] 0.20880480333333337\n",
      "0.05 [15 10  1] [0.08131075 0.0819459  0.09221482] 0.022138136666666725\n",
      "0.1 [15  9  1] [0.08131075 0.06673987 0.09221482] -0.19723455999999998\n",
      "0.5 [15  8  1] [0.08131075 0.05057602 0.09221482] -1.9187555528571427\n",
      "1.0 [15  8  1] [0.08131075 0.05057602 0.09221482] -4.0616126957142855\n"
     ]
    }
   ],
   "source": [
    "def pick_best_spread(fi, alpha=0.005):\n",
    "    i = np.argmax(fi)\n",
    "    n = len(fi)\n",
    "    best_score = -np.inf\n",
    "    for j in range(n):\n",
    "        for k in range(j+1, n):\n",
    "            if j == i or k == i:\n",
    "                continue\n",
    "            bands = np.array(sorted([i,j,k], reverse=True))\n",
    "            score = np.sum(fi[bands])\n",
    "            bn = bands / (n-1)\n",
    "            def spread_fn(x, y):\n",
    "                return 1.0 / np.abs(x - y)\n",
    "            spread = spread_fn(bn[0], bn[1]) + spread_fn(bn[1], bn[2]) \n",
    "            score -= spread * alpha\n",
    "            if score > best_score:\n",
    "                top_bands = bands\n",
    "                best_score = score\n",
    "\n",
    "    return top_bands, best_score\n",
    "\n",
    "\n",
    "fi =\"\"\"0.08796189 0.09221482 0.05206456 0.05772328 0.03985118 0.04093191\\\n",
    " 0.04739796 0.05800938 0.05057602 0.06673987 0.0819459 0.05645527\\\n",
    " 0.0517992 0.06167444 0.07334358 0.08131075\"\"\"\n",
    "\n",
    "fi = np.array([float(x) for x in fi.split(' ')])\n",
    "\n",
    "print(\"Alpha, bands, scores, adjusted score\")\n",
    "for alpha in [0, 0.001, 0.005, 0.01, 0.05, 0.1, 0.5, 1.0]:\n",
    "    bands, score = pick_best_spread(fi, alpha=alpha)\n",
    "    print(alpha, bands, fi[bands], score)"
   ]
  },
  {
   "cell_type": "code",
   "execution_count": 7,
   "id": "28e95d8b",
   "metadata": {},
   "outputs": [],
   "source": [
    "class ToUint8:\n",
    "    \n",
    "    def fit(self, X, y=None, **fit_params):\n",
    "        return self\n",
    "    \n",
    "    def transform(self, X):\n",
    "        return (X * 255.0).astype(np.uint8)\n",
    "\n",
    "\n",
    "\n",
    "class ImadjustV5:\n",
    "    \n",
    "    def __init__(self, alpha=0.5, transform_perc=(0.01,0.99), fit_perc=(0.0,1.0), hist_eq_strength=0.5, debug=False):\n",
    "        self.alpha = alpha\n",
    "        self.fit_perc = fit_perc\n",
    "        self.transform_perc = transform_perc\n",
    "        self.debug = debug\n",
    "        self.hist_eq_strength = hist_eq_strength\n",
    "    \n",
    "#         thanks to\n",
    "#         https://stackoverflow.com/questions/28518684/histogram-equalization-of-grayscale-images-with-numpy\n",
    "    \n",
    "    def _get_tonemapping(self, X, lowp, highp):\n",
    "        number_bins = 1024\n",
    "            \n",
    "        X = np.clip(X, 0, number_bins-1)\n",
    "        cdf = np.zeros((X.shape[-1], number_bins))\n",
    "        for i in range(X.shape[-1]):\n",
    "            channel = X[...,i].flatten()\n",
    "            bins = np.arange(number_bins + 1)\n",
    "            hist, bins = np.histogram(channel, bins=bins, density=True)\n",
    "            cdf[i] = hist.cumsum()\n",
    "            cdf[i] /= cdf[i][-1] # normalize\n",
    "            # normalize cdf and clip value range\n",
    "            low = np.min(np.argwhere(cdf[i] >= lowp))\n",
    "            high = np.max(np.argwhere(cdf[i] <= max(highp,cdf[i][0])))\n",
    "            span = cdf[i][high] - cdf[i][low]\n",
    "            if span > 0:\n",
    "                cdf[i] = np.clip((cdf[i] - cdf[i][low]) / span, 0, 1)\n",
    "            else:\n",
    "                cdf[i] = np.linspace(0, 1, number_bins)\n",
    "                \n",
    "            # also calculate a linear cdf and blend them\n",
    "            ln_cdf = np.zeros(number_bins, dtype=np.float32)\n",
    "#             idx = np.argwhere(hist > 0)\n",
    "#             low = max(np.min(idx) - 1, 0)\n",
    "#             high = np.max(idx)\n",
    "#             print(low, high)\n",
    "            ln_cdf[low:high+1] = np.linspace(0, 1, high + 1 - low)\n",
    "            ln_cdf[high+1:] = 1.0\n",
    "            \n",
    "            cdf[i] = self.hist_eq_strength * cdf[i] + (1-self.hist_eq_strength) * ln_cdf\n",
    "            cdf[i] /= cdf[i][-1] # renormalize to be sure\n",
    "        return cdf\n",
    "    \n",
    "    def fit(self, X, y=None, **fit_params):\n",
    "        self.cdf = self._get_tonemapping(X, *self.fit_perc)\n",
    "        \n",
    "    def transform(self, X):\n",
    "        # blend current frame cdf and the target cdf\n",
    "        frame_cdf = self._get_tonemapping(X, *self.transform_perc)\n",
    "        \n",
    "        if self.debug:\n",
    "            for i in range(3):\n",
    "                plt.plot(self.cdf[i], label=\"self_cdf\")\n",
    "                plt.plot(frame_cdf[i], label=\"frame_cdf\")\n",
    "                plt.legend()\n",
    "                plt.show()\n",
    "        \n",
    "        frame_cdf = self.alpha * frame_cdf + (1 - self.alpha) * self.cdf\n",
    "        \n",
    "        # apply the tonemapping\n",
    "        out = np.empty_like(X, dtype=np.float32)\n",
    "        X = np.clip(X, 0, frame_cdf.shape[1] - 1)\n",
    "        for i in range(X.shape[-1]):\n",
    "            channel = X[...,i].flatten()\n",
    "#             out[...,i] = frame_cdf[i][X[...,i].flatten()].reshape(*X.shape[:-1])\n",
    "            out[...,i] = frame_cdf[i][channel].reshape(out.shape[:-1])\n",
    "            \n",
    "        return out\n",
    "\n",
    "class XGBBandSelectorV6:\n",
    "    \n",
    "    def __init__(self, alpha=0.005, **params):\n",
    "        self.classifier = xgb.XGBClassifier(**params)\n",
    "        self.alpha = alpha\n",
    "        \n",
    "    def fit(self, X, y, **fit_params):\n",
    "        c = X.shape[-1]\n",
    "        self.classifier.fit(X.reshape(-1,c), y.flatten())\n",
    "        fi = self.classifier.feature_importances_\n",
    "        self.bands, pbs_score = pick_best_spread(fi, self.alpha)\n",
    "        self.scores = fi[self.bands]\n",
    "        return self\n",
    "    \n",
    "    def transform(self, X):\n",
    "        return X[..., self.bands]\n",
    "    \n",
    "    def predict_proba(self, X):\n",
    "        proba = self.classifier.predict_proba(X.reshape(-1, X.shape[-1]))\n",
    "        return proba.reshape(*X.shape[:-1], proba.shape[-1])\n",
    "\n",
    "class BilateralFilter:\n",
    "    \n",
    "    def __init__(self, d=5, sigma_color=10, sigma_space=10):\n",
    "        self.d = d\n",
    "        self.sigma_color = 10\n",
    "        self.sigma_space = 10\n",
    "    \n",
    "    def fit(self, X, y=None, **fit_params):\n",
    "        return self\n",
    "    \n",
    "    def transform(self, X, y=None, **fit_params):\n",
    "        out = X.astype(np.float32)\n",
    "        c = X.shape[-1]\n",
    "        if c <= 3:\n",
    "            out = cv2.bilateralFilter(out, self.d, self.sigma_color, self.sigma_space)\n",
    "        else:\n",
    "            for i in range(X.shape[-1]):\n",
    "                out[...,i] = cv2.bilateralFilter(out[...,i], self.d, self.sigma_color, self.sigma_space)\n",
    "        return out.astype(X.dtype)\n",
    "\n",
    "    \n",
    "class MedianFilter:\n",
    "    \n",
    "    def fit(self, X, y=None, **fit_params):\n",
    "        return self\n",
    "    \n",
    "    def transform(self, X):\n",
    "        c = X.shape[-1]\n",
    "        out = X.astype(np.float32)\n",
    "        if c <= 3:\n",
    "            out = cv2.medianBlur(out, ksize=3)\n",
    "        else:\n",
    "            out = X.astype(np.float32)\n",
    "            for i in range(c):\n",
    "                out[...,i] = cv2.medianBlur(out[...,i], ksize=3)\n",
    "        return out.astype(X.dtype)\n",
    "    \n",
    "                \n",
    "class DimReduceV4:\n",
    "    \n",
    "    def __init__(self, band_selector, imadjust, spatial_filtering):\n",
    "        self.bs = band_selector\n",
    "        self.imadjust = imadjust\n",
    "        self.spatial_filtering = spatial_filtering\n",
    "        \n",
    "    def initialize(self, hsi, init_bbox, camera_type):\n",
    "        self.camera_type = camera_type\n",
    "        # initial preprocessing\n",
    "        if self.camera_type == \"HSI-VIS\":\n",
    "            hsi = CustomPreproc().transform(hsi)\n",
    "        hsi = BandDenoiser().transform(hsi)\n",
    "#         hsi = BilateralFilter().transform(hsi)\n",
    "        hsi = self.spatial_filtering.transform(hsi)\n",
    "\n",
    "        # preapare target mask\n",
    "        h,w,c = hsi.shape\n",
    "        mask = draw_rect(np.zeros((h,w),dtype=np.uint8), init_bbox, color=1, thickness=-1).astype(bool)\n",
    "        roi = get_ostrack_search_crop(hsi, init_bbox)\n",
    "        X = crop(hsi, roi).copy()\n",
    "        y = crop(mask, roi)\n",
    "\n",
    "        # imadjus\n",
    "        self.imadjust.fit(crop(hsi, roi))\n",
    "        hsi = self.imadjust.transform(hsi)\n",
    "        hsi = (hsi * 255.0).astype(np.uint8)\n",
    "\n",
    "        # feature selection\n",
    "        X = crop(hsi, roi).copy()\n",
    "        y = crop(mask, roi)\n",
    "        self.bs.fit(X, y)\n",
    "        rgb = self.bs.transform(hsi)\n",
    "        \n",
    "        # select bands in imadjust\n",
    "        self.imadjust.cdf = self.imadjust.cdf[self.bs.bands]\n",
    "        \n",
    "        if self.camera_type == \"HSI-VIS\":\n",
    "            self.band_selection_pipeline = Pipeline([\n",
    "                (\"custom_preproc\", CustomPreproc()),\n",
    "                (\"denoising\", BandDenoiser()),\n",
    "                (\"bs\", self.bs),\n",
    "                (\"spatial_denoising\", self.spatial_filtering),\n",
    "            ])\n",
    "        else:\n",
    "            self.band_selection_pipeline = Pipeline([\n",
    "                (\"denoising\", BandDenoiser()),\n",
    "                (\"bs\", self.bs),\n",
    "                (\"spatial_denoising\", self.spatial_filtering),\n",
    "            ])\n",
    "            \n",
    "        return rgb\n",
    "\n",
    "    def __call__(self, frame, bbox):\n",
    "        frame = self.band_selection_pipeline.transform(frame)\n",
    "        roi = get_ostrack_search_crop(frame, bbox)\n",
    "        self.imadjust.fit(crop(frame, roi))\n",
    "        frame = self.imadjust.transform(frame)\n",
    "        return (frame * 255.0).astype(np.uint8)"
   ]
  },
  {
   "cell_type": "markdown",
   "id": "8a0c3aca",
   "metadata": {},
   "source": [
    "## Evaluate new dim reduction"
   ]
  },
  {
   "cell_type": "code",
   "execution_count": 8,
   "id": "8fc86ea7",
   "metadata": {},
   "outputs": [
    {
     "name": "stdout",
     "output_type": "stream",
     "text": [
      "test config:  {'MODEL': {'PRETRAIN_FILE': 'mae_pretrain_vit_base.pth', 'EXTRA_MERGER': False, 'RETURN_INTER': False, 'RETURN_STAGES': [], 'BACKBONE': {'TYPE': 'vit_base_patch16_224_ce', 'STRIDE': 16, 'MID_PE': False, 'SEP_SEG': False, 'CAT_MODE': 'direct', 'MERGE_LAYER': 0, 'ADD_CLS_TOKEN': False, 'CLS_TOKEN_USE_MODE': 'ignore', 'CE_LOC': [3, 6, 9], 'CE_KEEP_RATIO': [0.7, 0.7, 0.7], 'CE_TEMPLATE_RANGE': 'CTR_POINT'}, 'HEAD': {'TYPE': 'CENTER', 'NUM_CHANNELS': 256}}, 'TRAIN': {'LR': 0.0004, 'WEIGHT_DECAY': 0.0001, 'EPOCH': 300, 'LR_DROP_EPOCH': 240, 'BATCH_SIZE': 32, 'NUM_WORKER': 10, 'OPTIMIZER': 'ADAMW', 'BACKBONE_MULTIPLIER': 0.1, 'GIOU_WEIGHT': 2.0, 'L1_WEIGHT': 5.0, 'FREEZE_LAYERS': [0], 'PRINT_INTERVAL': 50, 'VAL_EPOCH_INTERVAL': 20, 'GRAD_CLIP_NORM': 0.1, 'AMP': False, 'CE_START_EPOCH': 20, 'CE_WARM_EPOCH': 80, 'DROP_PATH_RATE': 0.1, 'SCHEDULER': {'TYPE': 'step', 'DECAY_RATE': 0.1}}, 'DATA': {'SAMPLER_MODE': 'causal', 'MEAN': [0.485, 0.456, 0.406], 'STD': [0.229, 0.224, 0.225], 'MAX_SAMPLE_INTERVAL': 200, 'TRAIN': {'DATASETS_NAME': ['LASOT', 'GOT10K_vottrain', 'COCO17', 'TRACKINGNET'], 'DATASETS_RATIO': [1, 1, 1, 1], 'SAMPLE_PER_EPOCH': 60000}, 'VAL': {'DATASETS_NAME': ['GOT10K_votval'], 'DATASETS_RATIO': [1], 'SAMPLE_PER_EPOCH': 10000}, 'SEARCH': {'SIZE': 384, 'FACTOR': 5.0, 'CENTER_JITTER': 4.5, 'SCALE_JITTER': 0.5, 'NUMBER': 1}, 'TEMPLATE': {'NUMBER': 1, 'SIZE': 192, 'FACTOR': 2.0, 'CENTER_JITTER': 0, 'SCALE_JITTER': 0}}, 'TEST': {'TEMPLATE_FACTOR': 2.0, 'TEMPLATE_SIZE': 192, 'SEARCH_FACTOR': 5.0, 'SEARCH_SIZE': 384, 'EPOCH': 300}}\n"
     ]
    }
   ],
   "source": [
    "from src.util import save_rects\n",
    "from src.eval import eval_results, eval_results_v2\n",
    "from src.tracker import OSTrackWrapper, clip_box\n",
    "from src.HyperTools import overlap_ratio\n",
    "\n",
    "from tqdm.notebook import trange, tqdm\n",
    "from torch.utils.data import DataLoader\n",
    "from torchdata.datapipes.iter import Prefetcher\n",
    "\n",
    "class ImageLoaderRanged:\n",
    "    \n",
    "    def __init__(self, image_loader, start, end, inc):\n",
    "        self.image_loader = image_loader\n",
    "        self.start = start\n",
    "        self.end = end\n",
    "        self.inc = inc\n",
    "        \n",
    "    def __len__(self):\n",
    "        return (self.end - self.start) * self.inc\n",
    "\n",
    "    def __getitem__(self, i):\n",
    "        j = self.start + i * self.inc\n",
    "        if j < 0:\n",
    "            raise IndexError\n",
    "        return self.image_loader[j]\n",
    "\n",
    "ostrack = OSTrackWrapper(\n",
    "    use_hann=True,\n",
    "    candidate_bbox_threshold=0.7,\n",
    "    nms_iou_thresh=0.7,\n",
    "    max_candidates=3\n",
    ")"
   ]
  },
  {
   "cell_type": "code",
   "execution_count": 9,
   "id": "491c7c98",
   "metadata": {},
   "outputs": [],
   "source": [
    "\n",
    "def runv2(dim_reduction, version, dataset, scenes, skip_existing=False, debug=False):\n",
    "\n",
    "    for scene in tqdm(scenes):\n",
    "        print(\"scene id\", scene)\n",
    "        scene = dataset[scene]\n",
    "        print(\"scene name\", scene.name)\n",
    "\n",
    "        output_dir = f\"../outputs/model_predictions/6.4_dim_reduction_{version}/{dataset.dataset_type}/{scene.camera_type}\"\n",
    "        pred_path = f\"{output_dir}/{scene.name}.txt\"\n",
    "\n",
    "        if skip_existing and os.path.exists(pred_path):\n",
    "            print(\"skipping - already exists\")\n",
    "            continue\n",
    "\n",
    "        frames = scene.hsi\n",
    "        bbox_init = scene.y_true[0]\n",
    "        ct = scene.camera_type\n",
    "        forward = run_ostrack_pfv2(\n",
    "            ostrack, dim_reduction, scene, frames, bbox_init, 0, len(frames), debug)\n",
    "\n",
    "        os.makedirs(output_dir, exist_ok=True)\n",
    "        save_rects(pred_path, forward)\n",
    "\n",
    "\n",
    "def run_ostrack_pfv2(ostrack: OSTrackWrapper, dim_reduction, scene, frames, init_bbox, start, end, debug=False):\n",
    "    camera_type = scene.camera_type\n",
    "    if debug:\n",
    "        dbg_dir = f\"../outputs/6.4_dim_reduction_v7_blt/training/{camera_type}/{scene.name}/\"\n",
    "        os.makedirs(dbg_dir, exist_ok=True)\n",
    "    \n",
    "    if end > start:\n",
    "        desc = \"forward\"\n",
    "        inc = 1\n",
    "    else:\n",
    "        inc = -1\n",
    "        desc = \"backward\"\n",
    "        \n",
    "    frames_range = ImageLoaderRanged(frames, start, end, inc)\n",
    "    \n",
    "    for i, frame in enumerate(tqdm(Prefetcher(frames_range), desc=desc)):\n",
    "        if i == 0:\n",
    "            h,w = frame.shape[:2]\n",
    "            bbox = clip_box(init_bbox, h, w, margin=5)\n",
    "            dim_reduction.initialize(frame, bbox, camera_type)\n",
    "            frame = dim_reduction(frame, bbox)\n",
    "            ostrack.initialize(frame, bbox)\n",
    "            track = [bbox]\n",
    "        else:\n",
    "            bbox = clip_box(bbox, h, w, margin=5)\n",
    "            frame = dim_reduction(frame, bbox)\n",
    "            candidates, scores, response = ostrack.track(frame, bbox, 0)\n",
    "            bbox = candidates[0].tolist()\n",
    "            track.append(bbox)\n",
    "        if debug:\n",
    "            cv2.imwrite(f\"{dbg_dir}/{i:04d}.jpg\", frame)\n",
    "    return np.array(track, dtype=int)"
   ]
  },
  {
   "cell_type": "code",
   "execution_count": 10,
   "id": "ce7605e7",
   "metadata": {},
   "outputs": [
    {
     "data": {
      "application/vnd.jupyter.widget-view+json": {
       "model_id": "a730bc7f0663439b8800480115e7cfbd",
       "version_major": 2,
       "version_minor": 0
      },
      "text/plain": [
       "  0%|          | 0/87 [00:00<?, ?it/s]"
      ]
     },
     "metadata": {},
     "output_type": "display_data"
    },
    {
     "name": "stdout",
     "output_type": "stream",
     "text": [
      "scene id 0\n",
      "scene name car3\n"
     ]
    },
    {
     "data": {
      "application/vnd.jupyter.widget-view+json": {
       "model_id": "9f0356fcd27142e294d489765301aa85",
       "version_major": 2,
       "version_minor": 0
      },
      "text/plain": [
       "forward: 0it [00:00, ?it/s]"
      ]
     },
     "metadata": {},
     "output_type": "display_data"
    },
    {
     "name": "stdout",
     "output_type": "stream",
     "text": [
      "scene id 1\n",
      "scene name coin\n"
     ]
    },
    {
     "data": {
      "application/vnd.jupyter.widget-view+json": {
       "model_id": "3b8007967d6449348020902ab0138ee1",
       "version_major": 2,
       "version_minor": 0
      },
      "text/plain": [
       "forward: 0it [00:00, ?it/s]"
      ]
     },
     "metadata": {},
     "output_type": "display_data"
    },
    {
     "name": "stdout",
     "output_type": "stream",
     "text": [
      "scene id 2\n",
      "scene name cards19\n"
     ]
    },
    {
     "data": {
      "application/vnd.jupyter.widget-view+json": {
       "model_id": "e8a458e9fbaa4d5e90e106c1037234fe",
       "version_major": 2,
       "version_minor": 0
      },
      "text/plain": [
       "forward: 0it [00:00, ?it/s]"
      ]
     },
     "metadata": {},
     "output_type": "display_data"
    },
    {
     "name": "stdout",
     "output_type": "stream",
     "text": [
      "scene id 3\n",
      "scene name coke\n"
     ]
    },
    {
     "data": {
      "application/vnd.jupyter.widget-view+json": {
       "model_id": "3a7c7037882f4374af9788f9cf38feef",
       "version_major": 2,
       "version_minor": 0
      },
      "text/plain": [
       "forward: 0it [00:00, ?it/s]"
      ]
     },
     "metadata": {},
     "output_type": "display_data"
    },
    {
     "name": "stdout",
     "output_type": "stream",
     "text": [
      "scene id 4\n",
      "scene name hand\n"
     ]
    },
    {
     "data": {
      "application/vnd.jupyter.widget-view+json": {
       "model_id": "78186c46be724152aec02c87f29fbfab",
       "version_major": 2,
       "version_minor": 0
      },
      "text/plain": [
       "forward: 0it [00:00, ?it/s]"
      ]
     },
     "metadata": {},
     "output_type": "display_data"
    },
    {
     "name": "stdout",
     "output_type": "stream",
     "text": [
      "scene id 5\n",
      "scene name duck5\n"
     ]
    },
    {
     "data": {
      "application/vnd.jupyter.widget-view+json": {
       "model_id": "436dca7ff02b430bbb4e738a501817b5",
       "version_major": 2,
       "version_minor": 0
      },
      "text/plain": [
       "forward: 0it [00:00, ?it/s]"
      ]
     },
     "metadata": {},
     "output_type": "display_data"
    },
    {
     "name": "stdout",
     "output_type": "stream",
     "text": [
      "scene id 6\n",
      "scene name rubik\n"
     ]
    },
    {
     "data": {
      "application/vnd.jupyter.widget-view+json": {
       "model_id": "d1f43fb541d34b1f865380e76e8ba9ad",
       "version_major": 2,
       "version_minor": 0
      },
      "text/plain": [
       "forward: 0it [00:00, ?it/s]"
      ]
     },
     "metadata": {},
     "output_type": "display_data"
    },
    {
     "name": "stdout",
     "output_type": "stream",
     "text": [
      "scene id 7\n",
      "scene name pedestrain\n"
     ]
    },
    {
     "data": {
      "application/vnd.jupyter.widget-view+json": {
       "model_id": "90a1753094e948409652416b09cff612",
       "version_major": 2,
       "version_minor": 0
      },
      "text/plain": [
       "forward: 0it [00:00, ?it/s]"
      ]
     },
     "metadata": {},
     "output_type": "display_data"
    },
    {
     "name": "stdout",
     "output_type": "stream",
     "text": [
      "scene id 8\n",
      "scene name card\n"
     ]
    },
    {
     "data": {
      "application/vnd.jupyter.widget-view+json": {
       "model_id": "da947446b75641348a89a7bacc01073e",
       "version_major": 2,
       "version_minor": 0
      },
      "text/plain": [
       "forward: 0it [00:00, ?it/s]"
      ]
     },
     "metadata": {},
     "output_type": "display_data"
    },
    {
     "name": "stdout",
     "output_type": "stream",
     "text": [
      "scene id 9\n",
      "scene name pedestrian2\n"
     ]
    },
    {
     "data": {
      "application/vnd.jupyter.widget-view+json": {
       "model_id": "14a761da71c647fe9f9b8839624492cb",
       "version_major": 2,
       "version_minor": 0
      },
      "text/plain": [
       "forward: 0it [00:00, ?it/s]"
      ]
     },
     "metadata": {},
     "output_type": "display_data"
    },
    {
     "name": "stdout",
     "output_type": "stream",
     "text": [
      "scene id 10\n",
      "scene name basketball\n"
     ]
    },
    {
     "data": {
      "application/vnd.jupyter.widget-view+json": {
       "model_id": "3381c8221df64ee1a51b8a9d4f15b364",
       "version_major": 2,
       "version_minor": 0
      },
      "text/plain": [
       "forward: 0it [00:00, ?it/s]"
      ]
     },
     "metadata": {},
     "output_type": "display_data"
    },
    {
     "name": "stdout",
     "output_type": "stream",
     "text": [
      "scene id 11\n",
      "scene name student\n"
     ]
    },
    {
     "data": {
      "application/vnd.jupyter.widget-view+json": {
       "model_id": "b448e8bc44904a94a9390e9ac2345f17",
       "version_major": 2,
       "version_minor": 0
      },
      "text/plain": [
       "forward: 0it [00:00, ?it/s]"
      ]
     },
     "metadata": {},
     "output_type": "display_data"
    },
    {
     "name": "stdout",
     "output_type": "stream",
     "text": [
      "scene id 12\n",
      "scene name rainystreet16\n"
     ]
    },
    {
     "data": {
      "application/vnd.jupyter.widget-view+json": {
       "model_id": "0aa1ef776f2c4f6ea5b2375977cef2c0",
       "version_major": 2,
       "version_minor": 0
      },
      "text/plain": [
       "forward: 0it [00:00, ?it/s]"
      ]
     },
     "metadata": {},
     "output_type": "display_data"
    },
    {
     "name": "stdout",
     "output_type": "stream",
     "text": [
      "scene id 13\n",
      "scene name board\n"
     ]
    },
    {
     "data": {
      "application/vnd.jupyter.widget-view+json": {
       "model_id": "15041cc180ab4f4cb3b1564eeb23607e",
       "version_major": 2,
       "version_minor": 0
      },
      "text/plain": [
       "forward: 0it [00:00, ?it/s]"
      ]
     },
     "metadata": {},
     "output_type": "display_data"
    },
    {
     "name": "stdout",
     "output_type": "stream",
     "text": [
      "scene id 14\n",
      "scene name ball&mirror9\n"
     ]
    },
    {
     "data": {
      "application/vnd.jupyter.widget-view+json": {
       "model_id": "d5ff9736fccd4c47958640b2fe4ae5ea",
       "version_major": 2,
       "version_minor": 0
      },
      "text/plain": [
       "forward: 0it [00:00, ?it/s]"
      ]
     },
     "metadata": {},
     "output_type": "display_data"
    },
    {
     "name": "stdout",
     "output_type": "stream",
     "text": [
      "scene id 15\n",
      "scene name pool10\n"
     ]
    },
    {
     "data": {
      "application/vnd.jupyter.widget-view+json": {
       "model_id": "c049de43540249afaff4c2b9d208b5af",
       "version_major": 2,
       "version_minor": 0
      },
      "text/plain": [
       "forward: 0it [00:00, ?it/s]"
      ]
     },
     "metadata": {},
     "output_type": "display_data"
    },
    {
     "name": "stdout",
     "output_type": "stream",
     "text": [
      "scene id 16\n",
      "scene name worker\n"
     ]
    },
    {
     "data": {
      "application/vnd.jupyter.widget-view+json": {
       "model_id": "f3a9b44dc79e4d419587326b21d42216",
       "version_major": 2,
       "version_minor": 0
      },
      "text/plain": [
       "forward: 0it [00:00, ?it/s]"
      ]
     },
     "metadata": {},
     "output_type": "display_data"
    },
    {
     "name": "stdout",
     "output_type": "stream",
     "text": [
      "scene id 17\n",
      "scene name forest\n"
     ]
    },
    {
     "data": {
      "application/vnd.jupyter.widget-view+json": {
       "model_id": "1d431351ad1e4430a0e503ba19e69319",
       "version_major": 2,
       "version_minor": 0
      },
      "text/plain": [
       "forward: 0it [00:00, ?it/s]"
      ]
     },
     "metadata": {},
     "output_type": "display_data"
    },
    {
     "name": "stdout",
     "output_type": "stream",
     "text": [
      "scene id 18\n",
      "scene name kangaroo\n"
     ]
    },
    {
     "data": {
      "application/vnd.jupyter.widget-view+json": {
       "model_id": "991efd5b3d2940bbab3bbd954041ad37",
       "version_major": 2,
       "version_minor": 0
      },
      "text/plain": [
       "forward: 0it [00:00, ?it/s]"
      ]
     },
     "metadata": {},
     "output_type": "display_data"
    },
    {
     "name": "stdout",
     "output_type": "stream",
     "text": [
      "scene id 19\n",
      "scene name excavator\n"
     ]
    },
    {
     "data": {
      "application/vnd.jupyter.widget-view+json": {
       "model_id": "5794bc80197a446d99abc8961d8df2b2",
       "version_major": 2,
       "version_minor": 0
      },
      "text/plain": [
       "forward: 0it [00:00, ?it/s]"
      ]
     },
     "metadata": {},
     "output_type": "display_data"
    },
    {
     "name": "stdout",
     "output_type": "stream",
     "text": [
      "scene id 20\n",
      "scene name playground\n"
     ]
    },
    {
     "data": {
      "application/vnd.jupyter.widget-view+json": {
       "model_id": "40ade19f93b74e11a0130beb5156fb37",
       "version_major": 2,
       "version_minor": 0
      },
      "text/plain": [
       "forward: 0it [00:00, ?it/s]"
      ]
     },
     "metadata": {},
     "output_type": "display_data"
    },
    {
     "name": "stdout",
     "output_type": "stream",
     "text": [
      "scene id 21\n",
      "scene name car\n"
     ]
    },
    {
     "data": {
      "application/vnd.jupyter.widget-view+json": {
       "model_id": "50b3383176ab49b4b997b618717b8e19",
       "version_major": 2,
       "version_minor": 0
      },
      "text/plain": [
       "forward: 0it [00:00, ?it/s]"
      ]
     },
     "metadata": {},
     "output_type": "display_data"
    },
    {
     "name": "stdout",
     "output_type": "stream",
     "text": [
      "scene id 22\n",
      "scene name face\n"
     ]
    },
    {
     "data": {
      "application/vnd.jupyter.widget-view+json": {
       "model_id": "d524bda092e74680adac661a2563b887",
       "version_major": 2,
       "version_minor": 0
      },
      "text/plain": [
       "forward: 0it [00:00, ?it/s]"
      ]
     },
     "metadata": {},
     "output_type": "display_data"
    },
    {
     "name": "stdout",
     "output_type": "stream",
     "text": [
      "scene id 23\n",
      "scene name whitecup1\n"
     ]
    },
    {
     "data": {
      "application/vnd.jupyter.widget-view+json": {
       "model_id": "a80a7a938e3540c28590065896cb2911",
       "version_major": 2,
       "version_minor": 0
      },
      "text/plain": [
       "forward: 0it [00:00, ?it/s]"
      ]
     },
     "metadata": {},
     "output_type": "display_data"
    },
    {
     "name": "stdout",
     "output_type": "stream",
     "text": [
      "scene id 24\n",
      "scene name ball\n"
     ]
    },
    {
     "data": {
      "application/vnd.jupyter.widget-view+json": {
       "model_id": "2acdaca0a9e14e79b402f2ae20ca5bd5",
       "version_major": 2,
       "version_minor": 0
      },
      "text/plain": [
       "forward: 0it [00:00, ?it/s]"
      ]
     },
     "metadata": {},
     "output_type": "display_data"
    },
    {
     "name": "stdout",
     "output_type": "stream",
     "text": [
      "scene id 25\n",
      "scene name rider1\n"
     ]
    },
    {
     "data": {
      "application/vnd.jupyter.widget-view+json": {
       "model_id": "ba77836d64634772bbcce007ecbca9c9",
       "version_major": 2,
       "version_minor": 0
      },
      "text/plain": [
       "forward: 0it [00:00, ?it/s]"
      ]
     },
     "metadata": {},
     "output_type": "display_data"
    },
    {
     "name": "stdout",
     "output_type": "stream",
     "text": [
      "scene id 26\n",
      "scene name toy2\n"
     ]
    },
    {
     "data": {
      "application/vnd.jupyter.widget-view+json": {
       "model_id": "c94892b7c7474aeeb754949a4dd21af5",
       "version_major": 2,
       "version_minor": 0
      },
      "text/plain": [
       "forward: 0it [00:00, ?it/s]"
      ]
     },
     "metadata": {},
     "output_type": "display_data"
    },
    {
     "name": "stdout",
     "output_type": "stream",
     "text": [
      "scene id 27\n",
      "scene name car2\n"
     ]
    },
    {
     "data": {
      "application/vnd.jupyter.widget-view+json": {
       "model_id": "441a5e51614c40af98cfd340a91a6e68",
       "version_major": 2,
       "version_minor": 0
      },
      "text/plain": [
       "forward: 0it [00:00, ?it/s]"
      ]
     },
     "metadata": {},
     "output_type": "display_data"
    },
    {
     "name": "stdout",
     "output_type": "stream",
     "text": [
      "scene id 28\n",
      "scene name dice2\n"
     ]
    },
    {
     "data": {
      "application/vnd.jupyter.widget-view+json": {
       "model_id": "b9d9c81874004a1e80b7a8cee26336ee",
       "version_major": 2,
       "version_minor": 0
      },
      "text/plain": [
       "forward: 0it [00:00, ?it/s]"
      ]
     },
     "metadata": {},
     "output_type": "display_data"
    },
    {
     "name": "stdout",
     "output_type": "stream",
     "text": [
      "scene id 29\n",
      "scene name partylights6\n"
     ]
    },
    {
     "data": {
      "application/vnd.jupyter.widget-view+json": {
       "model_id": "2a8d2fd2dd9248d7b1d253de55052db9",
       "version_major": 2,
       "version_minor": 0
      },
      "text/plain": [
       "forward: 0it [00:00, ?it/s]"
      ]
     },
     "metadata": {},
     "output_type": "display_data"
    },
    {
     "name": "stdout",
     "output_type": "stream",
     "text": [
      "scene id 30\n",
      "scene name campus\n"
     ]
    },
    {
     "data": {
      "application/vnd.jupyter.widget-view+json": {
       "model_id": "f8209c3f030c498882451883ec200896",
       "version_major": 2,
       "version_minor": 0
      },
      "text/plain": [
       "forward: 0it [00:00, ?it/s]"
      ]
     },
     "metadata": {},
     "output_type": "display_data"
    },
    {
     "name": "stdout",
     "output_type": "stream",
     "text": [
      "scene id 31\n",
      "scene name book\n"
     ]
    },
    {
     "data": {
      "application/vnd.jupyter.widget-view+json": {
       "model_id": "74ef053508df465b85c87fbdf1c57f77",
       "version_major": 2,
       "version_minor": 0
      },
      "text/plain": [
       "forward: 0it [00:00, ?it/s]"
      ]
     },
     "metadata": {},
     "output_type": "display_data"
    },
    {
     "name": "stdout",
     "output_type": "stream",
     "text": [
      "scene id 32\n",
      "scene name rainystreet10\n"
     ]
    },
    {
     "data": {
      "application/vnd.jupyter.widget-view+json": {
       "model_id": "fed4324641fc4564ab70cbac563c6d82",
       "version_major": 2,
       "version_minor": 0
      },
      "text/plain": [
       "forward: 0it [00:00, ?it/s]"
      ]
     },
     "metadata": {},
     "output_type": "display_data"
    },
    {
     "name": "stdout",
     "output_type": "stream",
     "text": [
      "scene id 33\n",
      "scene name cards16\n"
     ]
    },
    {
     "data": {
      "application/vnd.jupyter.widget-view+json": {
       "model_id": "da6c139fe8b1458982af565d0ab7dc6a",
       "version_major": 2,
       "version_minor": 0
      },
      "text/plain": [
       "forward: 0it [00:00, ?it/s]"
      ]
     },
     "metadata": {},
     "output_type": "display_data"
    },
    {
     "name": "stdout",
     "output_type": "stream",
     "text": [
      "scene id 34\n",
      "scene name rider2\n"
     ]
    },
    {
     "data": {
      "application/vnd.jupyter.widget-view+json": {
       "model_id": "5bf31b6394464e2d9ea1e0ad7f4ea9db",
       "version_major": 2,
       "version_minor": 0
      },
      "text/plain": [
       "forward: 0it [00:00, ?it/s]"
      ]
     },
     "metadata": {},
     "output_type": "display_data"
    },
    {
     "name": "stdout",
     "output_type": "stream",
     "text": [
      "scene id 35\n",
      "scene name bus2\n"
     ]
    },
    {
     "data": {
      "application/vnd.jupyter.widget-view+json": {
       "model_id": "714b0d2cda634b758fcf0ea3ecbd338c",
       "version_major": 2,
       "version_minor": 0
      },
      "text/plain": [
       "forward: 0it [00:00, ?it/s]"
      ]
     },
     "metadata": {},
     "output_type": "display_data"
    },
    {
     "name": "stdout",
     "output_type": "stream",
     "text": [
      "scene id 36\n",
      "scene name trucker\n"
     ]
    },
    {
     "data": {
      "application/vnd.jupyter.widget-view+json": {
       "model_id": "b8524eac0418431895c9d79abc86d7b0",
       "version_major": 2,
       "version_minor": 0
      },
      "text/plain": [
       "forward: 0it [00:00, ?it/s]"
      ]
     },
     "metadata": {},
     "output_type": "display_data"
    },
    {
     "name": "stdout",
     "output_type": "stream",
     "text": [
      "scene id 37\n",
      "scene name drive\n"
     ]
    },
    {
     "data": {
      "application/vnd.jupyter.widget-view+json": {
       "model_id": "3314dc3547454b5dbf7b0859c0ece79c",
       "version_major": 2,
       "version_minor": 0
      },
      "text/plain": [
       "forward: 0it [00:00, ?it/s]"
      ]
     },
     "metadata": {},
     "output_type": "display_data"
    },
    {
     "name": "stdout",
     "output_type": "stream",
     "text": [
      "scene id 38\n",
      "scene name fruit\n"
     ]
    },
    {
     "data": {
      "application/vnd.jupyter.widget-view+json": {
       "model_id": "4ec280ae4a364403943be8fed31503ef",
       "version_major": 2,
       "version_minor": 0
      },
      "text/plain": [
       "forward: 0it [00:00, ?it/s]"
      ]
     },
     "metadata": {},
     "output_type": "display_data"
    },
    {
     "name": "stdout",
     "output_type": "stream",
     "text": [
      "scene id 39\n",
      "scene name paper\n"
     ]
    },
    {
     "data": {
      "application/vnd.jupyter.widget-view+json": {
       "model_id": "f9c24490c7604168b3c807dfbb99f0eb",
       "version_major": 2,
       "version_minor": 0
      },
      "text/plain": [
       "forward: 0it [00:00, ?it/s]"
      ]
     },
     "metadata": {},
     "output_type": "display_data"
    },
    {
     "name": "stdout",
     "output_type": "stream",
     "text": [
      "scene id 40\n",
      "scene name forest2\n"
     ]
    },
    {
     "data": {
      "application/vnd.jupyter.widget-view+json": {
       "model_id": "8fd4293b69944744b406108768fd3a66",
       "version_major": 2,
       "version_minor": 0
      },
      "text/plain": [
       "forward: 0it [00:00, ?it/s]"
      ]
     },
     "metadata": {},
     "output_type": "display_data"
    },
    {
     "name": "stdout",
     "output_type": "stream",
     "text": [
      "scene id 41\n",
      "scene name face2\n"
     ]
    },
    {
     "data": {
      "application/vnd.jupyter.widget-view+json": {
       "model_id": "8756827f469a486694b4783e2d8a41a3",
       "version_major": 2,
       "version_minor": 0
      },
      "text/plain": [
       "forward: 0it [00:00, ?it/s]"
      ]
     },
     "metadata": {},
     "output_type": "display_data"
    },
    {
     "name": "stdout",
     "output_type": "stream",
     "text": [
      "scene id 42\n",
      "scene name toy1\n"
     ]
    },
    {
     "data": {
      "application/vnd.jupyter.widget-view+json": {
       "model_id": "629d06706aa64e4a9efd875cb919e773",
       "version_major": 2,
       "version_minor": 0
      },
      "text/plain": [
       "forward: 0it [00:00, ?it/s]"
      ]
     },
     "metadata": {},
     "output_type": "display_data"
    },
    {
     "name": "stdout",
     "output_type": "stream",
     "text": [
      "scene id 43\n",
      "scene name bus\n"
     ]
    },
    {
     "data": {
      "application/vnd.jupyter.widget-view+json": {
       "model_id": "504ef6ce3dbf4d92b661a0ef5be96004",
       "version_major": 2,
       "version_minor": 0
      },
      "text/plain": [
       "forward: 0it [00:00, ?it/s]"
      ]
     },
     "metadata": {},
     "output_type": "display_data"
    },
    {
     "name": "stdout",
     "output_type": "stream",
     "text": [
      "scene id 44\n",
      "scene name pool11\n"
     ]
    },
    {
     "data": {
      "application/vnd.jupyter.widget-view+json": {
       "model_id": "4cf123cbc90e48a09c626f4ded788d50",
       "version_major": 2,
       "version_minor": 0
      },
      "text/plain": [
       "forward: 0it [00:00, ?it/s]"
      ]
     },
     "metadata": {},
     "output_type": "display_data"
    },
    {
     "name": "stdout",
     "output_type": "stream",
     "text": [
      "scene id 45\n",
      "scene name player\n"
     ]
    },
    {
     "data": {
      "application/vnd.jupyter.widget-view+json": {
       "model_id": "9e70a2eb8c8645e88e03051fc350d927",
       "version_major": 2,
       "version_minor": 0
      },
      "text/plain": [
       "forward: 0it [00:00, ?it/s]"
      ]
     },
     "metadata": {},
     "output_type": "display_data"
    },
    {
     "name": "stdout",
     "output_type": "stream",
     "text": [
      "scene id 46\n",
      "scene name car52\n"
     ]
    },
    {
     "data": {
      "application/vnd.jupyter.widget-view+json": {
       "model_id": "3169e5ca7343457fbf4194a39119075d",
       "version_major": 2,
       "version_minor": 0
      },
      "text/plain": [
       "forward: 0it [00:00, ?it/s]"
      ]
     },
     "metadata": {},
     "output_type": "display_data"
    },
    {
     "name": "stdout",
     "output_type": "stream",
     "text": [
      "scene id 47\n",
      "scene name car84\n"
     ]
    },
    {
     "data": {
      "application/vnd.jupyter.widget-view+json": {
       "model_id": "a404c384359341c193e55267060fb4c3",
       "version_major": 2,
       "version_minor": 0
      },
      "text/plain": [
       "forward: 0it [00:00, ?it/s]"
      ]
     },
     "metadata": {},
     "output_type": "display_data"
    },
    {
     "name": "stdout",
     "output_type": "stream",
     "text": [
      "scene id 48\n",
      "scene name car60\n"
     ]
    },
    {
     "data": {
      "application/vnd.jupyter.widget-view+json": {
       "model_id": "3b50c76f093d457482d73ccccc1c33a9",
       "version_major": 2,
       "version_minor": 0
      },
      "text/plain": [
       "forward: 0it [00:00, ?it/s]"
      ]
     },
     "metadata": {},
     "output_type": "display_data"
    },
    {
     "name": "stdout",
     "output_type": "stream",
     "text": [
      "scene id 49\n",
      "scene name car79\n"
     ]
    },
    {
     "data": {
      "application/vnd.jupyter.widget-view+json": {
       "model_id": "e60e984df926445d925fdfd15ab52fb4",
       "version_major": 2,
       "version_minor": 0
      },
      "text/plain": [
       "forward: 0it [00:00, ?it/s]"
      ]
     },
     "metadata": {},
     "output_type": "display_data"
    },
    {
     "name": "stdout",
     "output_type": "stream",
     "text": [
      "scene id 50\n",
      "scene name basketball3\n"
     ]
    },
    {
     "data": {
      "application/vnd.jupyter.widget-view+json": {
       "model_id": "dec23a6d01d44a7a8649dc7b24738b9f",
       "version_major": 2,
       "version_minor": 0
      },
      "text/plain": [
       "forward: 0it [00:00, ?it/s]"
      ]
     },
     "metadata": {},
     "output_type": "display_data"
    },
    {
     "name": "stdout",
     "output_type": "stream",
     "text": [
      "scene id 51\n",
      "scene name car83\n"
     ]
    },
    {
     "data": {
      "application/vnd.jupyter.widget-view+json": {
       "model_id": "6ae0fc01fd554cd69b42e4928b66bec0",
       "version_major": 2,
       "version_minor": 0
      },
      "text/plain": [
       "forward: 0it [00:00, ?it/s]"
      ]
     },
     "metadata": {},
     "output_type": "display_data"
    },
    {
     "name": "stdout",
     "output_type": "stream",
     "text": [
      "scene id 52\n",
      "scene name rider17\n"
     ]
    },
    {
     "data": {
      "application/vnd.jupyter.widget-view+json": {
       "model_id": "cc1a3bd690594f3abd7bc015475e8733",
       "version_major": 2,
       "version_minor": 0
      },
      "text/plain": [
       "forward: 0it [00:00, ?it/s]"
      ]
     },
     "metadata": {},
     "output_type": "display_data"
    },
    {
     "name": "stdout",
     "output_type": "stream",
     "text": [
      "scene id 53\n",
      "scene name pedestrian7\n"
     ]
    },
    {
     "data": {
      "application/vnd.jupyter.widget-view+json": {
       "model_id": "be7d4b71ae25473a947422b90f40e481",
       "version_major": 2,
       "version_minor": 0
      },
      "text/plain": [
       "forward: 0it [00:00, ?it/s]"
      ]
     },
     "metadata": {},
     "output_type": "display_data"
    },
    {
     "name": "stdout",
     "output_type": "stream",
     "text": [
      "scene id 54\n",
      "scene name car51\n"
     ]
    },
    {
     "data": {
      "application/vnd.jupyter.widget-view+json": {
       "model_id": "a5380eaa4c294c1b94f0268e9f8390a1",
       "version_major": 2,
       "version_minor": 0
      },
      "text/plain": [
       "forward: 0it [00:00, ?it/s]"
      ]
     },
     "metadata": {},
     "output_type": "display_data"
    },
    {
     "name": "stdout",
     "output_type": "stream",
     "text": [
      "scene id 55\n",
      "scene name rider19\n"
     ]
    },
    {
     "data": {
      "application/vnd.jupyter.widget-view+json": {
       "model_id": "e6588594853f411383d7cd624a4b7cf2",
       "version_major": 2,
       "version_minor": 0
      },
      "text/plain": [
       "forward: 0it [00:00, ?it/s]"
      ]
     },
     "metadata": {},
     "output_type": "display_data"
    },
    {
     "name": "stdout",
     "output_type": "stream",
     "text": [
      "scene id 56\n",
      "scene name car63\n"
     ]
    },
    {
     "data": {
      "application/vnd.jupyter.widget-view+json": {
       "model_id": "4d36520b16764636941a9fb3a72606f6",
       "version_major": 2,
       "version_minor": 0
      },
      "text/plain": [
       "forward: 0it [00:00, ?it/s]"
      ]
     },
     "metadata": {},
     "output_type": "display_data"
    },
    {
     "name": "stdout",
     "output_type": "stream",
     "text": [
      "scene id 57\n",
      "scene name car77\n"
     ]
    },
    {
     "data": {
      "application/vnd.jupyter.widget-view+json": {
       "model_id": "189f4356c1b647589a6a9b1e1f14aee6",
       "version_major": 2,
       "version_minor": 0
      },
      "text/plain": [
       "forward: 0it [00:00, ?it/s]"
      ]
     },
     "metadata": {},
     "output_type": "display_data"
    },
    {
     "name": "stdout",
     "output_type": "stream",
     "text": [
      "scene id 58\n",
      "scene name car64\n"
     ]
    },
    {
     "data": {
      "application/vnd.jupyter.widget-view+json": {
       "model_id": "aa84144fc60d4ba494b4c508f4cba701",
       "version_major": 2,
       "version_minor": 0
      },
      "text/plain": [
       "forward: 0it [00:00, ?it/s]"
      ]
     },
     "metadata": {},
     "output_type": "display_data"
    },
    {
     "name": "stdout",
     "output_type": "stream",
     "text": [
      "scene id 59\n",
      "scene name car80\n"
     ]
    },
    {
     "data": {
      "application/vnd.jupyter.widget-view+json": {
       "model_id": "db00cbc74f8a4d2d94342dc4e5036e3d",
       "version_major": 2,
       "version_minor": 0
      },
      "text/plain": [
       "forward: 0it [00:00, ?it/s]"
      ]
     },
     "metadata": {},
     "output_type": "display_data"
    },
    {
     "name": "stdout",
     "output_type": "stream",
     "text": [
      "scene id 60\n",
      "scene name car11\n"
     ]
    },
    {
     "data": {
      "application/vnd.jupyter.widget-view+json": {
       "model_id": "1fadb7559cfd46b2bba6137d05e3052c",
       "version_major": 2,
       "version_minor": 0
      },
      "text/plain": [
       "forward: 0it [00:00, ?it/s]"
      ]
     },
     "metadata": {},
     "output_type": "display_data"
    },
    {
     "name": "stdout",
     "output_type": "stream",
     "text": [
      "scene id 61\n",
      "scene name car82\n"
     ]
    },
    {
     "data": {
      "application/vnd.jupyter.widget-view+json": {
       "model_id": "80c712ca7def4581a27cdf2c9e4734b5",
       "version_major": 2,
       "version_minor": 0
      },
      "text/plain": [
       "forward: 0it [00:00, ?it/s]"
      ]
     },
     "metadata": {},
     "output_type": "display_data"
    },
    {
     "name": "stdout",
     "output_type": "stream",
     "text": [
      "scene id 62\n",
      "scene name rider16\n"
     ]
    },
    {
     "data": {
      "application/vnd.jupyter.widget-view+json": {
       "model_id": "4e1c479f3d0f4720bf8ab1d67746f382",
       "version_major": 2,
       "version_minor": 0
      },
      "text/plain": [
       "forward: 0it [00:00, ?it/s]"
      ]
     },
     "metadata": {},
     "output_type": "display_data"
    },
    {
     "name": "stdout",
     "output_type": "stream",
     "text": [
      "scene id 63\n",
      "scene name car78\n"
     ]
    },
    {
     "data": {
      "application/vnd.jupyter.widget-view+json": {
       "model_id": "f5d0cd2decea47109a5655ac1857bd95",
       "version_major": 2,
       "version_minor": 0
      },
      "text/plain": [
       "forward: 0it [00:00, ?it/s]"
      ]
     },
     "metadata": {},
     "output_type": "display_data"
    },
    {
     "name": "stdout",
     "output_type": "stream",
     "text": [
      "scene id 64\n",
      "scene name rider11\n"
     ]
    },
    {
     "data": {
      "application/vnd.jupyter.widget-view+json": {
       "model_id": "daa2a9ba5c3a49b7990dbcd55ba9a2f8",
       "version_major": 2,
       "version_minor": 0
      },
      "text/plain": [
       "forward: 0it [00:00, ?it/s]"
      ]
     },
     "metadata": {},
     "output_type": "display_data"
    },
    {
     "name": "stdout",
     "output_type": "stream",
     "text": [
      "scene id 65\n",
      "scene name car53\n"
     ]
    },
    {
     "data": {
      "application/vnd.jupyter.widget-view+json": {
       "model_id": "b81c633b85cb462f8e21df5a22ba8ab7",
       "version_major": 2,
       "version_minor": 0
      },
      "text/plain": [
       "forward: 0it [00:00, ?it/s]"
      ]
     },
     "metadata": {},
     "output_type": "display_data"
    },
    {
     "name": "stdout",
     "output_type": "stream",
     "text": [
      "scene id 66\n",
      "scene name car59\n"
     ]
    },
    {
     "data": {
      "application/vnd.jupyter.widget-view+json": {
       "model_id": "67c17e626da944aab7127773349e305f",
       "version_major": 2,
       "version_minor": 0
      },
      "text/plain": [
       "forward: 0it [00:00, ?it/s]"
      ]
     },
     "metadata": {},
     "output_type": "display_data"
    },
    {
     "name": "stdout",
     "output_type": "stream",
     "text": [
      "scene id 67\n",
      "scene name car61\n"
     ]
    },
    {
     "data": {
      "application/vnd.jupyter.widget-view+json": {
       "model_id": "1b34a2e0f86144528058f8833e44324a",
       "version_major": 2,
       "version_minor": 0
      },
      "text/plain": [
       "forward: 0it [00:00, ?it/s]"
      ]
     },
     "metadata": {},
     "output_type": "display_data"
    },
    {
     "name": "stdout",
     "output_type": "stream",
     "text": [
      "scene id 68\n",
      "scene name car85\n"
     ]
    },
    {
     "data": {
      "application/vnd.jupyter.widget-view+json": {
       "model_id": "dd142b73db61480f9eee7a646dad0c85",
       "version_major": 2,
       "version_minor": 0
      },
      "text/plain": [
       "forward: 0it [00:00, ?it/s]"
      ]
     },
     "metadata": {},
     "output_type": "display_data"
    },
    {
     "name": "stdout",
     "output_type": "stream",
     "text": [
      "scene id 69\n",
      "scene name car81\n"
     ]
    },
    {
     "data": {
      "application/vnd.jupyter.widget-view+json": {
       "model_id": "ca9650bc38b54b9685aa1064a62a3975",
       "version_major": 2,
       "version_minor": 0
      },
      "text/plain": [
       "forward: 0it [00:00, ?it/s]"
      ]
     },
     "metadata": {},
     "output_type": "display_data"
    },
    {
     "name": "stdout",
     "output_type": "stream",
     "text": [
      "scene id 70\n",
      "scene name car12\n"
     ]
    },
    {
     "data": {
      "application/vnd.jupyter.widget-view+json": {
       "model_id": "79009b3f5dbf4c67a25cf254d1a3adc4",
       "version_major": 2,
       "version_minor": 0
      },
      "text/plain": [
       "forward: 0it [00:00, ?it/s]"
      ]
     },
     "metadata": {},
     "output_type": "display_data"
    },
    {
     "name": "stdout",
     "output_type": "stream",
     "text": [
      "scene id 71\n",
      "scene name car76\n"
     ]
    },
    {
     "data": {
      "application/vnd.jupyter.widget-view+json": {
       "model_id": "668f1cfdef6d43668d65471578ecd16f",
       "version_major": 2,
       "version_minor": 0
      },
      "text/plain": [
       "forward: 0it [00:00, ?it/s]"
      ]
     },
     "metadata": {},
     "output_type": "display_data"
    },
    {
     "name": "stdout",
     "output_type": "stream",
     "text": [
      "scene id 72\n",
      "scene name car49\n"
     ]
    },
    {
     "data": {
      "application/vnd.jupyter.widget-view+json": {
       "model_id": "8ade0648322748539101a6584d2674cb",
       "version_major": 2,
       "version_minor": 0
      },
      "text/plain": [
       "forward: 0it [00:00, ?it/s]"
      ]
     },
     "metadata": {},
     "output_type": "display_data"
    },
    {
     "name": "stdout",
     "output_type": "stream",
     "text": [
      "scene id 73\n",
      "scene name car50\n"
     ]
    },
    {
     "data": {
      "application/vnd.jupyter.widget-view+json": {
       "model_id": "3f162f6468a948c6acaf0866c3aa5f25",
       "version_major": 2,
       "version_minor": 0
      },
      "text/plain": [
       "forward: 0it [00:00, ?it/s]"
      ]
     },
     "metadata": {},
     "output_type": "display_data"
    },
    {
     "name": "stdout",
     "output_type": "stream",
     "text": [
      "scene id 74\n",
      "scene name rider18\n"
     ]
    },
    {
     "data": {
      "application/vnd.jupyter.widget-view+json": {
       "model_id": "830819717bcd4936b380d8bd97711775",
       "version_major": 2,
       "version_minor": 0
      },
      "text/plain": [
       "forward: 0it [00:00, ?it/s]"
      ]
     },
     "metadata": {},
     "output_type": "display_data"
    },
    {
     "name": "stdout",
     "output_type": "stream",
     "text": [
      "scene id 75\n",
      "scene name car62\n"
     ]
    },
    {
     "data": {
      "application/vnd.jupyter.widget-view+json": {
       "model_id": "e0b1a7f783f044c3b82e629e6208f6e3",
       "version_major": 2,
       "version_minor": 0
      },
      "text/plain": [
       "forward: 0it [00:00, ?it/s]"
      ]
     },
     "metadata": {},
     "output_type": "display_data"
    },
    {
     "name": "stdout",
     "output_type": "stream",
     "text": [
      "scene id 76\n",
      "scene name pool11\n"
     ]
    },
    {
     "data": {
      "application/vnd.jupyter.widget-view+json": {
       "model_id": "acc96612d0c242a398d0a404d73924a1",
       "version_major": 2,
       "version_minor": 0
      },
      "text/plain": [
       "forward: 0it [00:00, ?it/s]"
      ]
     },
     "metadata": {},
     "output_type": "display_data"
    },
    {
     "name": "stdout",
     "output_type": "stream",
     "text": [
      "scene id 77\n",
      "scene name ball&mirror9\n"
     ]
    },
    {
     "data": {
      "application/vnd.jupyter.widget-view+json": {
       "model_id": "efed76c08f274e93a8b72c257ff98531",
       "version_major": 2,
       "version_minor": 0
      },
      "text/plain": [
       "forward: 0it [00:00, ?it/s]"
      ]
     },
     "metadata": {},
     "output_type": "display_data"
    },
    {
     "name": "stdout",
     "output_type": "stream",
     "text": [
      "scene id 78\n",
      "scene name cards19\n"
     ]
    },
    {
     "data": {
      "application/vnd.jupyter.widget-view+json": {
       "model_id": "9eb2ce28f6e447cb8284f501210675a3",
       "version_major": 2,
       "version_minor": 0
      },
      "text/plain": [
       "forward: 0it [00:00, ?it/s]"
      ]
     },
     "metadata": {},
     "output_type": "display_data"
    },
    {
     "name": "stdout",
     "output_type": "stream",
     "text": [
      "scene id 79\n",
      "scene name whitecup1\n"
     ]
    },
    {
     "data": {
      "application/vnd.jupyter.widget-view+json": {
       "model_id": "b39f7f19250b44c5b3bb9749f22590a3",
       "version_major": 2,
       "version_minor": 0
      },
      "text/plain": [
       "forward: 0it [00:00, ?it/s]"
      ]
     },
     "metadata": {},
     "output_type": "display_data"
    },
    {
     "name": "stdout",
     "output_type": "stream",
     "text": [
      "scene id 80\n",
      "scene name dice2\n"
     ]
    },
    {
     "data": {
      "application/vnd.jupyter.widget-view+json": {
       "model_id": "a4ce57f61bf84954b299fbc3cbed0228",
       "version_major": 2,
       "version_minor": 0
      },
      "text/plain": [
       "forward: 0it [00:00, ?it/s]"
      ]
     },
     "metadata": {},
     "output_type": "display_data"
    },
    {
     "name": "stdout",
     "output_type": "stream",
     "text": [
      "scene id 81\n",
      "scene name rainystreet16\n"
     ]
    },
    {
     "data": {
      "application/vnd.jupyter.widget-view+json": {
       "model_id": "8aa682f87feb4d35981c61753ebb75a3",
       "version_major": 2,
       "version_minor": 0
      },
      "text/plain": [
       "forward: 0it [00:00, ?it/s]"
      ]
     },
     "metadata": {},
     "output_type": "display_data"
    },
    {
     "name": "stdout",
     "output_type": "stream",
     "text": [
      "scene id 82\n",
      "scene name pool10\n"
     ]
    },
    {
     "data": {
      "application/vnd.jupyter.widget-view+json": {
       "model_id": "52b0431006224953a8fea8a2cd56e1e7",
       "version_major": 2,
       "version_minor": 0
      },
      "text/plain": [
       "forward: 0it [00:00, ?it/s]"
      ]
     },
     "metadata": {},
     "output_type": "display_data"
    },
    {
     "name": "stdout",
     "output_type": "stream",
     "text": [
      "scene id 83\n",
      "scene name partylights6\n"
     ]
    },
    {
     "data": {
      "application/vnd.jupyter.widget-view+json": {
       "model_id": "f0d85db3d07e49d39999ff136da36b5a",
       "version_major": 2,
       "version_minor": 0
      },
      "text/plain": [
       "forward: 0it [00:00, ?it/s]"
      ]
     },
     "metadata": {},
     "output_type": "display_data"
    },
    {
     "name": "stdout",
     "output_type": "stream",
     "text": [
      "scene id 84\n",
      "scene name duck5\n"
     ]
    },
    {
     "data": {
      "application/vnd.jupyter.widget-view+json": {
       "model_id": "3a77fcb69a7a467da6f1bcb01fdaacf6",
       "version_major": 2,
       "version_minor": 0
      },
      "text/plain": [
       "forward: 0it [00:00, ?it/s]"
      ]
     },
     "metadata": {},
     "output_type": "display_data"
    },
    {
     "name": "stdout",
     "output_type": "stream",
     "text": [
      "scene id 85\n",
      "scene name rainystreet10\n"
     ]
    },
    {
     "data": {
      "application/vnd.jupyter.widget-view+json": {
       "model_id": "f80af7bcf8654b7b9a62f9959b4bebe7",
       "version_major": 2,
       "version_minor": 0
      },
      "text/plain": [
       "forward: 0it [00:00, ?it/s]"
      ]
     },
     "metadata": {},
     "output_type": "display_data"
    },
    {
     "name": "stdout",
     "output_type": "stream",
     "text": [
      "scene id 86\n",
      "scene name cards16\n"
     ]
    },
    {
     "data": {
      "application/vnd.jupyter.widget-view+json": {
       "model_id": "77f451cfe12743c7af52234ea1f81ae4",
       "version_major": 2,
       "version_minor": 0
      },
      "text/plain": [
       "forward: 0it [00:00, ?it/s]"
      ]
     },
     "metadata": {},
     "output_type": "display_data"
    }
   ],
   "source": [
    "dim_reduction = DimReduceV4(\n",
    "    XGBBandSelectorV6(alpha=0.005),\n",
    "    ImadjustV5(0.1, (0.005, 0.995), (0.005, 0.995), 0.5, debug=False),\n",
    "    BilateralFilter()\n",
    ")\n",
    "# runv2(dim_reduction, \"v7.1_xgboost_blt_local_imadjust\", dataset, scenes, skip_existing=True, debug=False)\n",
    "runv2(dim_reduction, \"v7.1_xgboost_blt_local_imadjust\", val_dataset, val_scenes, skip_existing=True, debug=False)\n"
   ]
  },
  {
   "cell_type": "code",
   "execution_count": 11,
   "id": "8e049b80",
   "metadata": {},
   "outputs": [],
   "source": [
    "# dim_reduction = DimReduceV4(\n",
    "#     XGBBandSelectorV6(alpha=0.005),\n",
    "#     ImadjustV5(0.1, (0.005, 0.995), (0.005, 0.995), 0.5, debug=False),\n",
    "#     BilateralFilter(3,3,3)\n",
    "# )\n",
    "# runv2(dim_reduction, \"v7.2_xgboost_blt_local_imadjust\", dataset, scenes, skip_existing=True, debug=False)\n",
    "# runv2(dim_reduction, \"v7.2_xgboost_blt_local_imadjust\", val_dataset, val_scenes, skip_existing=True, debug=False)"
   ]
  },
  {
   "cell_type": "code",
   "execution_count": 12,
   "id": "bdd7b98d",
   "metadata": {},
   "outputs": [],
   "source": [
    "# dim_reduction = DimReduceV4(\n",
    "#     XGBBandSelectorV6(alpha=0.005),\n",
    "#     ImadjustV5(0.1, (0.005, 0.995), (0.005, 0.995), 0.7, debug=False),\n",
    "#     BilateralFilter()\n",
    "# )\n",
    "# runv2(dim_reduction, \"v7.3_xgboost_blt_local_imadjust\", dataset, scenes, skip_existing=True, debug=False)\n",
    "# runv2(dim_reduction, \"v7.3_xgboost_blt_local_imadjust\", val_dataset, val_scenes, skip_existing=True, debug=False)"
   ]
  },
  {
   "cell_type": "code",
   "execution_count": 13,
   "id": "10f7b483",
   "metadata": {},
   "outputs": [],
   "source": [
    "# dim_reduction = DimReduceV4(\n",
    "#     XGBBandSelectorV6(alpha=0.005),\n",
    "#     ImadjustV5(0.2, (0.005, 0.995), (0.01, 0.99), 0.6, debug=False),\n",
    "#     BilateralFilter()\n",
    "# )\n",
    "# runv2(dim_reduction, \"v7.4_xgboost_blt_local_imadjust\", dataset, scenes, skip_existing=True, debug=False)\n",
    "# runv2(dim_reduction, \"v7.4_xgboost_blt_local_imadjust\", val_dataset, val_scenes, skip_existing=True, debug=False)"
   ]
  },
  {
   "cell_type": "code",
   "execution_count": 14,
   "id": "d39f9323-6e8c-4c16-b38f-b543191038a2",
   "metadata": {},
   "outputs": [],
   "source": [
    "# _, summary = eval_results_v2(\n",
    "#     dataset,\n",
    "#     [\"forward-backward_baseline\",\n",
    "#     # \"6.4_dim_reduction_v7_xgboost_blt_local_imadjust\",\n",
    "#     \"6.4_dim_reduction_v7.1_xgboost_blt_local_imadjust\",\n",
    "#     \"6.4_dim_reduction_v7.2_xgboost_blt_local_imadjust\",\n",
    "#     \"6.4_dim_reduction_v7.3_xgboost_blt_local_imadjust\",\n",
    "#     \"6.4_dim_reduction_v7.4_xgboost_blt_local_imadjust\",\n",
    "#     ],\n",
    "#     plot=True,\n",
    "#     sequence_ids=scenes)\n",
    "# summary"
   ]
  },
  {
   "cell_type": "code",
   "execution_count": 15,
   "id": "aeeadef1-871d-4559-81f7-e3aa70944ddf",
   "metadata": {},
   "outputs": [
    {
     "data": {
      "text/html": [
       "<div>\n",
       "<style scoped>\n",
       "    .dataframe tbody tr th:only-of-type {\n",
       "        vertical-align: middle;\n",
       "    }\n",
       "\n",
       "    .dataframe tbody tr th {\n",
       "        vertical-align: top;\n",
       "    }\n",
       "\n",
       "    .dataframe thead th {\n",
       "        text-align: right;\n",
       "    }\n",
       "</style>\n",
       "<table border=\"1\" class=\"dataframe\">\n",
       "  <thead>\n",
       "    <tr style=\"text-align: right;\">\n",
       "      <th>metric</th>\n",
       "      <th>model</th>\n",
       "      <th>mean AUC</th>\n",
       "      <th>mean DP20</th>\n",
       "    </tr>\n",
       "  </thead>\n",
       "  <tbody>\n",
       "    <tr>\n",
       "      <th>0</th>\n",
       "      <td>6.4_dim_reduction_v7.1_xgboost_blt_local_imadjust</td>\n",
       "      <td>0.620763</td>\n",
       "      <td>0.820088</td>\n",
       "    </tr>\n",
       "    <tr>\n",
       "      <th>1</th>\n",
       "      <td>forward-backward_baseline</td>\n",
       "      <td>0.599976</td>\n",
       "      <td>0.805493</td>\n",
       "    </tr>\n",
       "  </tbody>\n",
       "</table>\n",
       "</div>"
      ],
      "text/plain": [
       "metric                                              model  mean AUC  mean DP20\n",
       "0       6.4_dim_reduction_v7.1_xgboost_blt_local_imadjust  0.620763   0.820088\n",
       "1                               forward-backward_baseline  0.599976   0.805493"
      ]
     },
     "metadata": {},
     "output_type": "display_data"
    },
    {
     "name": "stdout",
     "output_type": "stream",
     "text": [
      "metric                                              model  mean AUC  mean DP20\n",
      "0       6.4_dim_reduction_v7.1_xgboost_blt_local_imadjust  0.620763   0.820088\n",
      "1                               forward-backward_baseline  0.599976   0.805493\n"
     ]
    },
    {
     "data": {
      "image/png": "[encoded data removed]",
      "text/plain": [
       "<Figure size 1200x900 with 2 Axes>"
      ]
     },
     "metadata": {},
     "output_type": "display_data"
    }
   ],
   "source": [
    "_, summary = eval_results_v2(\n",
    "    val_dataset,\n",
    "    [\"forward-backward_baseline\",\n",
    "    # \"6.4_dim_reduction_v7_xgboost_blt_local_imadjust\",\n",
    "    \"6.4_dim_reduction_v7.1_xgboost_blt_local_imadjust\",\n",
    "    # \"6.4_dim_reduction_v7.1_xgboost_blt_local_imadjust-original\",\n",
    "    # \"6.4_dim_reduction_v7.1_xgboost_blt_local_imadjust-rerun2\",\n",
    "    # \"6.4_dim_reduction_v7.2_xgboost_blt_local_imadjust\",\n",
    "    # \"6.4_dim_reduction_v7.3_xgboost_blt_local_imadjust\",\n",
    "    # \"6.4_dim_reduction_v7.4_xgboost_blt_local_imadjust\",\n",
    "    ],\n",
    "    plot=True,\n",
    "    sequence_ids=val_scenes)\n",
    "display(summary)\n",
    "print(summary)"
   ]
  }
 ],
 "metadata": {
  "kernelspec": {
   "display_name": "Python 3 (ipykernel)",
   "language": "python",
   "name": "python3"
  },
  "language_info": {
   "codemirror_mode": {
    "name": "ipython",
    "version": 3
   },
   "file_extension": ".py",
   "mimetype": "text/x-python",
   "name": "python",
   "nbconvert_exporter": "python",
   "pygments_lexer": "ipython3",
   "version": "3.10.6"
  }
 },
 "nbformat": 4,
 "nbformat_minor": 5
}
