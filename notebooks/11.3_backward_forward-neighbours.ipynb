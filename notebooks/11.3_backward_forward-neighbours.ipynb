{
 "cells": [
  {
   "cell_type": "markdown",
   "id": "6b0f872e",
   "metadata": {},
   "source": [
    "## Note\n",
    "\n",
    "* Incorporate the information from the backward passes into the forward pass, to avoid making similar mistakes\n"
   ]
  },
  {
   "cell_type": "markdown",
   "id": "8458cce3",
   "metadata": {},
   "source": [
    "## Imports"
   ]
  },
  {
   "cell_type": "code",
   "execution_count": 1,
   "id": "9dbdfcaa",
   "metadata": {},
   "outputs": [],
   "source": [
    "%load_ext autoreload"
   ]
  },
  {
   "cell_type": "code",
   "execution_count": 2,
   "id": "c4ae5fee",
   "metadata": {},
   "outputs": [],
   "source": [
    "%autoreload 2\n",
    "\n",
    "import numpy as np\n",
    "import torch\n",
    "import torch.nn as nn\n",
    "import torch.nn.functional as F\n",
    "import numpy as np\n",
    "from sklearn.preprocessing import Normalizer, RobustScaler, MinMaxScaler\n",
    "from sklearn.pipeline import Pipeline\n",
    "import matplotlib.pyplot as plt\n",
    "import cv2\n",
    "from tqdm import tqdm\n",
    "import datetime\n",
    "import os\n",
    "import pickle\n",
    "\n",
    "import sys\n",
    "sys.path.append(\"../\")\n",
    "sys.path.append(\"../ext/OSTrack/\")\n",
    "\n",
    "from src.util import load_rects, draw_rect, HOTDataset, HOTDatasetMultiCam, save_rects\n",
    "from src.eval import eval_results, eval_results_v2\n",
    "from src.tracker import OSTrackWrapper, clip_box\n",
    "from src.HyperTools import overlap_ratio"
   ]
  },
  {
   "cell_type": "code",
   "execution_count": 3,
   "id": "8c0573c8",
   "metadata": {},
   "outputs": [],
   "source": [
    "device = 'cuda'"
   ]
  },
  {
   "cell_type": "markdown",
   "id": "72132e93",
   "metadata": {},
   "source": [
    "## Data"
   ]
  },
  {
   "cell_type": "code",
   "execution_count": 4,
   "id": "6332b436",
   "metadata": {},
   "outputs": [
    {
     "name": "stdout",
     "output_type": "stream",
     "text": [
      "train / test split: 96 14\n"
     ]
    }
   ],
   "source": [
    "dataset_type = \"training\"\n",
    "dataset_path = f\"/scratch/datasets/hot_2023/{dataset_type}\"\n",
    "dataset = HOTDatasetMultiCam(dataset_path)\n",
    "scene_names = {}\n",
    "for i in range(len(dataset)):\n",
    "    name = dataset[i].name\n",
    "    if name in scene_names:\n",
    "        scene_names[name].append(i)\n",
    "    else:\n",
    "        scene_names[name] = [i]\n",
    "\n",
    "scene_groups = list(scene_names.values())\n",
    "\n",
    "scenes = np.arange(len(dataset))\n",
    "rng = np.random.default_rng(seed = 15)\n",
    "rng.shuffle(scene_groups)\n",
    "train_n = int(len(scene_groups) * 0.9)\n",
    "train_scenes = np.concatenate(scene_groups[:train_n])\n",
    "test_scenes = np.concatenate(scene_groups[train_n:])\n",
    "print(\"train / test split:\", len(train_scenes), len(test_scenes))\n",
    "test_scenes\n",
    "\n",
    "\n",
    "val_dataset = HOTDatasetMultiCam(\"/scratch/datasets/hot_2023/validation\")\n",
    "val_scenes = np.arange(len(val_dataset))"
   ]
  },
  {
   "cell_type": "markdown",
   "id": "284db84c",
   "metadata": {},
   "source": [
    "## Tracking experiments"
   ]
  },
  {
   "cell_type": "code",
   "execution_count": 5,
   "id": "211dd2aa",
   "metadata": {},
   "outputs": [
    {
     "name": "stdout",
     "output_type": "stream",
     "text": [
      "test config:  {'MODEL': {'PRETRAIN_FILE': 'mae_pretrain_vit_base.pth', 'EXTRA_MERGER': False, 'RETURN_INTER': False, 'RETURN_STAGES': [], 'BACKBONE': {'TYPE': 'vit_base_patch16_224_ce', 'STRIDE': 16, 'MID_PE': False, 'SEP_SEG': False, 'CAT_MODE': 'direct', 'MERGE_LAYER': 0, 'ADD_CLS_TOKEN': False, 'CLS_TOKEN_USE_MODE': 'ignore', 'CE_LOC': [3, 6, 9], 'CE_KEEP_RATIO': [0.7, 0.7, 0.7], 'CE_TEMPLATE_RANGE': 'CTR_POINT'}, 'HEAD': {'TYPE': 'CENTER', 'NUM_CHANNELS': 256}}, 'TRAIN': {'LR': 0.0004, 'WEIGHT_DECAY': 0.0001, 'EPOCH': 300, 'LR_DROP_EPOCH': 240, 'BATCH_SIZE': 32, 'NUM_WORKER': 10, 'OPTIMIZER': 'ADAMW', 'BACKBONE_MULTIPLIER': 0.1, 'GIOU_WEIGHT': 2.0, 'L1_WEIGHT': 5.0, 'FREEZE_LAYERS': [0], 'PRINT_INTERVAL': 50, 'VAL_EPOCH_INTERVAL': 20, 'GRAD_CLIP_NORM': 0.1, 'AMP': False, 'CE_START_EPOCH': 20, 'CE_WARM_EPOCH': 80, 'DROP_PATH_RATE': 0.1, 'SCHEDULER': {'TYPE': 'step', 'DECAY_RATE': 0.1}}, 'DATA': {'SAMPLER_MODE': 'causal', 'MEAN': [0.485, 0.456, 0.406], 'STD': [0.229, 0.224, 0.225], 'MAX_SAMPLE_INTERVAL': 200, 'TRAIN': {'DATASETS_NAME': ['LASOT', 'GOT10K_vottrain', 'COCO17', 'TRACKINGNET'], 'DATASETS_RATIO': [1, 1, 1, 1], 'SAMPLE_PER_EPOCH': 60000}, 'VAL': {'DATASETS_NAME': ['GOT10K_votval'], 'DATASETS_RATIO': [1], 'SAMPLE_PER_EPOCH': 10000}, 'SEARCH': {'SIZE': 384, 'FACTOR': 5.0, 'CENTER_JITTER': 4.5, 'SCALE_JITTER': 0.5, 'NUMBER': 1}, 'TEMPLATE': {'NUMBER': 1, 'SIZE': 192, 'FACTOR': 2.0, 'CENTER_JITTER': 0, 'SCALE_JITTER': 0}}, 'TEST': {'TEMPLATE_FACTOR': 2.0, 'TEMPLATE_SIZE': 192, 'SEARCH_FACTOR': 5.0, 'SEARCH_SIZE': 384, 'EPOCH': 300}}\n"
     ]
    }
   ],
   "source": [
    "from src.util import load_rects, draw_rect, HOTDataset, HOTDatasetMultiCam, save_rects\n",
    "from src.eval import eval_results, eval_results_v2\n",
    "from src.tracker import OSTrackWrapper, clip_box\n",
    "from src.HyperTools import overlap_ratio\n",
    "\n",
    "from tqdm.notebook import trange, tqdm\n",
    "from torchdata.datapipes.iter import Prefetcher\n",
    "\n",
    "from dataclasses import dataclass\n",
    "\n",
    "@dataclass\n",
    "class Track:\n",
    "    bboxes: np.ndarray\n",
    "    scores: np.ndarray \n",
    "    \n",
    "    def __len__(self):\n",
    "        return len(self.bboxes)\n",
    "\n",
    "class ImageLoaderRanged:\n",
    "    \n",
    "    def __init__(self, image_loader, start, end, inc):\n",
    "        self.image_loader = image_loader\n",
    "        self.start = start\n",
    "        self.end = end\n",
    "        self.inc = inc\n",
    "        \n",
    "    def __len__(self):\n",
    "        return (self.end - self.start) * self.inc\n",
    "\n",
    "    def __getitem__(self, i):\n",
    "        if i >= len(self):\n",
    "            raise IndexError            \n",
    "        frame_id = self.start + i * self.inc\n",
    "        return frame_id, self.image_loader[frame_id]\n",
    "\n",
    "def get_distractions(bbox, prev_merged, score, tracks, frame_id, inc, start_frame_id, start_bbox, debug=False):\n",
    "    # the track is going in the other direction\n",
    "    if len(tracks) == 0:\n",
    "        return []\n",
    "    merged = []\n",
    "    distractions = []\n",
    "    for i,t in enumerate(tracks):\n",
    "        tbbox = t.bboxes[frame_id]\n",
    "        iou = overlap_ratio(bbox.reshape(-1,4), tbbox.reshape(-1,4))\n",
    "        original_iou = overlap_ratio(\n",
    "            start_bbox.reshape(-1,4),\n",
    "            t.bboxes[start_frame_id].reshape(-1,4))[0]\n",
    "        # calculate how well is the tbbox connected to other boxes in it's track\n",
    "        prev_frame_id = frame_id - inc\n",
    "        tfit = min(\n",
    "            t.scores[frame_id], # current score\n",
    "            t.scores[prev_frame_id]) # previous score\n",
    "        if iou > 0.8:\n",
    "            if score > 0.6 or i in prev_merged:\n",
    "                continue\n",
    "            elif tfit > 1.1 * score and original_iou < 0.2:\n",
    "#                 if debug:\n",
    "#                     print(\"iou, tfit, score, original_iou\", iou, tfit, score, original_iou)\n",
    "                distractions.append(i)\n",
    "    return distractions\n",
    "\n",
    "def run_ostrack(\n",
    "    ostrack: OSTrackWrapper,\n",
    "    frames, init_bbox, start, end,\n",
    "    known_tracks, debug=False\n",
    "):\n",
    "    if end > start:\n",
    "        desc = \"forward\"\n",
    "        known_tracks = known_tracks[\"backward\"]\n",
    "        inc = 1\n",
    "    else:\n",
    "        desc = \"backward\"\n",
    "        inc = -1\n",
    "        known_tracks = known_tracks[\"forward\"]\n",
    "        \n",
    "    frames_range = ImageLoaderRanged(frames, start, end, inc)\n",
    "    \n",
    "    for i, (frame_id, frame) in enumerate(tqdm(Prefetcher(frames_range), desc=desc)):\n",
    "        if i == 0:\n",
    "            h,w = frame.shape[:2]\n",
    "            init_bbox = np.array(clip_box(init_bbox, h, w, margin=5))\n",
    "            bbox = init_bbox\n",
    "            ostrack.initialize(frame, bbox)\n",
    "            track = [bbox]\n",
    "            track_scores = [1.0]\n",
    "            if debug:\n",
    "                init_frame = frame.copy()\n",
    "            merged = []\n",
    "        else:\n",
    "            bbox = np.array(clip_box(bbox, h, w, margin=5))\n",
    "            candidates, scores, _ = ostrack.track(frame, bbox, 0)\n",
    "            candidates = candidates.numpy(force=True)\n",
    "            n_pred = len(candidates)\n",
    "            scores = scores.numpy(force=True).flatten()\n",
    "            if len(known_tracks) > 0:\n",
    "                candidates = np.concatenate((candidates, [t.bboxes[frame_id] for t in known_tracks]))\n",
    "                scores = np.concatenate((scores, np.full(len(known_tracks), 0.2)))\n",
    "            for j, (c, s) in enumerate(zip(candidates, scores)):\n",
    "                distr = get_distractions(c, merged, s, known_tracks, frame_id, inc, start, init_bbox, debug)\n",
    "                if len(distr) > 0:\n",
    "                    scores[j] = 0\n",
    "                    distr_id = distr[0]\n",
    "#                     if debug:\n",
    "#                         print(\"frame id\", frame_id)\n",
    "#                         print(f\"distractor from track {j}\")\n",
    "#                         fig, axs = plt.subplots(1,2)\n",
    "#                         init_frame_copy = draw_rect(init_frame.copy(), init_bbox, color=(0,255,0))\n",
    "#                         init_frame_copy = draw_rect(init_frame_copy, known_tracks[distr_id].bboxes[start], color=(255,0,0))\n",
    "#                         axs[0].imshow(init_frame_copy)\n",
    "#                         frame_copy = draw_rect(frame.copy(), c)\n",
    "#                         axs[1].imshow(frame_copy)\n",
    "#                         plt.show()\n",
    "                        \n",
    "            j = np.argmax(scores)\n",
    "            if scores[j] > 0:\n",
    "                bbox, score = candidates[j], scores[j]\n",
    "                merged = []\n",
    "                for k,t in enumerate(known_tracks):\n",
    "                    if overlap_ratio(t.bboxes[frame_id].reshape(-1,4), bbox.reshape(-1,4)) > 0.8:\n",
    "                        merged.append(k)\n",
    "            else:\n",
    "                bbox, score = bbox, 0\n",
    "                merged = []\n",
    "            track.append(bbox)\n",
    "            track_scores.append(score)\n",
    "    return Track(np.array(track, dtype=int), np.array(track_scores))\n",
    "\n",
    "ostrack = OSTrackWrapper(\n",
    "    use_hann=True,\n",
    "    candidate_bbox_threshold=0.7,\n",
    "    nms_iou_thresh=0.7,\n",
    "    max_candidates=3\n",
    ")"
   ]
  },
  {
   "cell_type": "code",
   "execution_count": 6,
   "id": "ac32e258",
   "metadata": {},
   "outputs": [],
   "source": [
    "def backward_forward(ostrack: OSTrackWrapper, frames, bbox_init, scene, debug=False, iou_thrsh=0.2, maxiter=3):\n",
    "\n",
    "    if debug:\n",
    "        out_dir = f\"../outputs/forward_backward-neighbour/training/{scene.camera_type}/{scene.name}\"\n",
    "        os.makedirs(out_dir, exist_ok=True)\n",
    "    niter = 0\n",
    "    start = 0\n",
    "    end = len(frames)\n",
    "    tracks = {\"forward\": [], \"backward\": []}\n",
    "    dbg_backward = None\n",
    "    while start + 1 < end and niter < maxiter:\n",
    "        niter += 1\n",
    "        # run forward\n",
    "        forward = run_ostrack(ostrack, frames, bbox_init, start, end, tracks, debug)\n",
    "        if len(tracks[\"forward\"]) > 0:\n",
    "            # pad forward pass with the previous one\n",
    "            forward.bboxes = np.concatenate((tracks[\"forward\"][-1].bboxes[:start], forward.bboxes))\n",
    "            forward.scores = np.concatenate((np.ones(start), forward.scores))\n",
    "        tracks[\"forward\"].append(forward)\n",
    "        if debug:\n",
    "            save_rects(os.path.join(out_dir, f\"forward_{niter}.txt\"), forward.bboxes)\n",
    "            \n",
    "        if len(forward) != len(frames):\n",
    "            print(len(forward), len(frames))\n",
    "            assert False\n",
    "        \n",
    "        # bisect until backtracking is consistent\n",
    "        consistent = False\n",
    "        _start = start\n",
    "        _end = end\n",
    "        _backtracking_runs = 0\n",
    "        while not consistent and niter < maxiter:\n",
    "            _backtracking_runs += 1\n",
    "            if debug:\n",
    "                print(\"consistency check on:\", _start, _end)\n",
    "            backward = run_ostrack(\n",
    "                ostrack, frames, forward.bboxes[_end-1], _end - 1, _start - 1, tracks, debug)\n",
    "            backward.bboxes = backward.bboxes[::-1] # reverse\n",
    "            backward.scores = backward.scores[::-1] # reverse\n",
    "            # pad backward\n",
    "            backward.bboxes = np.concatenate((\n",
    "                np.zeros_like(forward.bboxes[:_start]),\n",
    "                backward.bboxes,\n",
    "                forward.bboxes[_end:]\n",
    "            ))\n",
    "            backward.scores = np.concatenate((\n",
    "                np.zeros_like(forward.scores[:_start]),\n",
    "                backward.scores,\n",
    "                forward.scores[_end:]\n",
    "            ))\n",
    "            if len(backward) != len(frames) or len(backward.bboxes) != len(backward.scores):\n",
    "                print(len(forward), len(frames), len(backward), len(backward.bboxes), len(backward.scores))\n",
    "                assert False\n",
    "            tracks[\"backward\"].append(backward)\n",
    "            if dbg_backward is None:\n",
    "                dbg_backward = backward.bboxes.copy()\n",
    "                if debug:\n",
    "                    save_rects(os.path.join(out_dir, f\"backward_0.txt\"), dbg_backward)\n",
    "            \n",
    "            iou = overlap_ratio(forward.bboxes[_start:_end], backward.bboxes[_start:_end])\n",
    "            if debug:\n",
    "                plt.plot(np.arange(_start, _end), iou, label=str(_backtracking_runs))\n",
    "            idx = np.argwhere(iou < iou_thrsh) # inconsistency check\n",
    "            idx += _start\n",
    "            if len(idx) == 0:\n",
    "                consistent = True\n",
    "                continue\n",
    "            last_consistent = np.max(idx)\n",
    "            _end = (last_consistent - _start) // 2\n",
    "#             _end = last_consistent - 1\n",
    "            if _start + 1 >= _end:\n",
    "                break\n",
    "\n",
    "        if not consistent:\n",
    "            if debug:\n",
    "                print(\"failure to find consistent backtracking\")\n",
    "            break\n",
    "        else:\n",
    "            if debug:\n",
    "                print(\"success, consistent range: \", _start, _end)\n",
    "            dbg_backward[_start:_end] = backward.bboxes[_start:_end]\n",
    "            if debug:\n",
    "                save_rects(os.path.join(out_dir, f\"backward_{niter}.txt\"), dbg_backward)\n",
    "            start = _end - 1\n",
    "            bbox_init = forward.bboxes[start]\n",
    "    \n",
    "        if debug:\n",
    "            plt.ylim(0,1)\n",
    "            plt.legend()\n",
    "            plt.show()\n",
    "    return tracks[\"forward\"][-1].bboxes"
   ]
  },
  {
   "cell_type": "code",
   "execution_count": 7,
   "id": "75297c19",
   "metadata": {},
   "outputs": [
    {
     "name": "stdout",
     "output_type": "stream",
     "text": [
      "scene id 0\n",
      "scene name officefan2\n"
     ]
    },
    {
     "data": {
      "application/vnd.jupyter.widget-view+json": {
       "model_id": "355be16973b44e9ea3eed624da788d94",
       "version_major": 2,
       "version_minor": 0
      },
      "text/plain": [
       "forward: 0it [00:00, ?it/s]"
      ]
     },
     "metadata": {},
     "output_type": "display_data"
    },
    {
     "data": {
      "application/vnd.jupyter.widget-view+json": {
       "model_id": "07c38a7d1e6e4bd18ff35557917c7484",
       "version_major": 2,
       "version_minor": 0
      },
      "text/plain": [
       "backward: 0it [00:00, ?it/s]"
      ]
     },
     "metadata": {},
     "output_type": "display_data"
    },
    {
     "name": "stdout",
     "output_type": "stream",
     "text": [
      "scene id 1\n",
      "scene name cards11\n"
     ]
    },
    {
     "data": {
      "application/vnd.jupyter.widget-view+json": {
       "model_id": "52ecc50a1a344cdf9c0f75a10f4d6fc1",
       "version_major": 2,
       "version_minor": 0
      },
      "text/plain": [
       "forward: 0it [00:00, ?it/s]"
      ]
     },
     "metadata": {},
     "output_type": "display_data"
    },
    {
     "data": {
      "application/vnd.jupyter.widget-view+json": {
       "model_id": "bc1090456ed64a32ae43b1d1c8264f41",
       "version_major": 2,
       "version_minor": 0
      },
      "text/plain": [
       "backward: 0it [00:00, ?it/s]"
      ]
     },
     "metadata": {},
     "output_type": "display_data"
    },
    {
     "data": {
      "application/vnd.jupyter.widget-view+json": {
       "model_id": "ecb1ef0acacc456588ecea8bb765f927",
       "version_major": 2,
       "version_minor": 0
      },
      "text/plain": [
       "backward: 0it [00:00, ?it/s]"
      ]
     },
     "metadata": {},
     "output_type": "display_data"
    },
    {
     "data": {
      "application/vnd.jupyter.widget-view+json": {
       "model_id": "29015ce3c18e4b8bb0a4fbbbc94189b9",
       "version_major": 2,
       "version_minor": 0
      },
      "text/plain": [
       "backward: 0it [00:00, ?it/s]"
      ]
     },
     "metadata": {},
     "output_type": "display_data"
    },
    {
     "data": {
      "application/vnd.jupyter.widget-view+json": {
       "model_id": "949a687526ce44df8fdea86d6e55e115",
       "version_major": 2,
       "version_minor": 0
      },
      "text/plain": [
       "forward: 0it [00:00, ?it/s]"
      ]
     },
     "metadata": {},
     "output_type": "display_data"
    },
    {
     "data": {
      "application/vnd.jupyter.widget-view+json": {
       "model_id": "2595068cb7ea454b8ef26d7f8b3cf212",
       "version_major": 2,
       "version_minor": 0
      },
      "text/plain": [
       "backward: 0it [00:00, ?it/s]"
      ]
     },
     "metadata": {},
     "output_type": "display_data"
    },
    {
     "data": {
      "application/vnd.jupyter.widget-view+json": {
       "model_id": "90a7c358d5f74faaa43b4d34443dcc8b",
       "version_major": 2,
       "version_minor": 0
      },
      "text/plain": [
       "backward: 0it [00:00, ?it/s]"
      ]
     },
     "metadata": {},
     "output_type": "display_data"
    },
    {
     "data": {
      "application/vnd.jupyter.widget-view+json": {
       "model_id": "f24de37d4eef44978a2e1b72612c24f4",
       "version_major": 2,
       "version_minor": 0
      },
      "text/plain": [
       "forward: 0it [00:00, ?it/s]"
      ]
     },
     "metadata": {},
     "output_type": "display_data"
    },
    {
     "name": "stdout",
     "output_type": "stream",
     "text": [
      "scene id 2\n",
      "scene name automobile10\n"
     ]
    },
    {
     "data": {
      "application/vnd.jupyter.widget-view+json": {
       "model_id": "e9432fac912b4d2d9c1be18873ff10e2",
       "version_major": 2,
       "version_minor": 0
      },
      "text/plain": [
       "forward: 0it [00:00, ?it/s]"
      ]
     },
     "metadata": {},
     "output_type": "display_data"
    },
    {
     "data": {
      "application/vnd.jupyter.widget-view+json": {
       "model_id": "9d4db2cf704646a6af14cc9f1f1ba943",
       "version_major": 2,
       "version_minor": 0
      },
      "text/plain": [
       "backward: 0it [00:00, ?it/s]"
      ]
     },
     "metadata": {},
     "output_type": "display_data"
    },
    {
     "data": {
      "application/vnd.jupyter.widget-view+json": {
       "model_id": "6f12537e1c264406913ddff99c503d6d",
       "version_major": 2,
       "version_minor": 0
      },
      "text/plain": [
       "backward: 0it [00:00, ?it/s]"
      ]
     },
     "metadata": {},
     "output_type": "display_data"
    },
    {
     "data": {
      "application/vnd.jupyter.widget-view+json": {
       "model_id": "c3bfb076090e4d0587ceb94aa72cb3eb",
       "version_major": 2,
       "version_minor": 0
      },
      "text/plain": [
       "backward: 0it [00:00, ?it/s]"
      ]
     },
     "metadata": {},
     "output_type": "display_data"
    },
    {
     "data": {
      "application/vnd.jupyter.widget-view+json": {
       "model_id": "3625ff22bf5b4fb58ad0b898af06f668",
       "version_major": 2,
       "version_minor": 0
      },
      "text/plain": [
       "forward: 0it [00:00, ?it/s]"
      ]
     },
     "metadata": {},
     "output_type": "display_data"
    },
    {
     "data": {
      "application/vnd.jupyter.widget-view+json": {
       "model_id": "736980af2ac1468cb1befb2ced148065",
       "version_major": 2,
       "version_minor": 0
      },
      "text/plain": [
       "backward: 0it [00:00, ?it/s]"
      ]
     },
     "metadata": {},
     "output_type": "display_data"
    },
    {
     "data": {
      "application/vnd.jupyter.widget-view+json": {
       "model_id": "a8628e8f691f46aa9fc609e02839648a",
       "version_major": 2,
       "version_minor": 0
      },
      "text/plain": [
       "backward: 0it [00:00, ?it/s]"
      ]
     },
     "metadata": {},
     "output_type": "display_data"
    },
    {
     "name": "stdout",
     "output_type": "stream",
     "text": [
      "scene id 3\n",
      "scene name rider4\n"
     ]
    },
    {
     "data": {
      "application/vnd.jupyter.widget-view+json": {
       "model_id": "8135326590ec433a9598497d047a5d84",
       "version_major": 2,
       "version_minor": 0
      },
      "text/plain": [
       "forward: 0it [00:00, ?it/s]"
      ]
     },
     "metadata": {},
     "output_type": "display_data"
    },
    {
     "data": {
      "application/vnd.jupyter.widget-view+json": {
       "model_id": "b39394ce97294cc7b19c6be7e180499b",
       "version_major": 2,
       "version_minor": 0
      },
      "text/plain": [
       "backward: 0it [00:00, ?it/s]"
      ]
     },
     "metadata": {},
     "output_type": "display_data"
    },
    {
     "data": {
      "application/vnd.jupyter.widget-view+json": {
       "model_id": "16294e9325614285ab1f8f6265f890c2",
       "version_major": 2,
       "version_minor": 0
      },
      "text/plain": [
       "backward: 0it [00:00, ?it/s]"
      ]
     },
     "metadata": {},
     "output_type": "display_data"
    },
    {
     "data": {
      "application/vnd.jupyter.widget-view+json": {
       "model_id": "55d3616c9c2648d8b9dd846533a4b304",
       "version_major": 2,
       "version_minor": 0
      },
      "text/plain": [
       "backward: 0it [00:00, ?it/s]"
      ]
     },
     "metadata": {},
     "output_type": "display_data"
    },
    {
     "data": {
      "application/vnd.jupyter.widget-view+json": {
       "model_id": "d89874bf838e4b4e9f4e9fef83cb0771",
       "version_major": 2,
       "version_minor": 0
      },
      "text/plain": [
       "forward: 0it [00:00, ?it/s]"
      ]
     },
     "metadata": {},
     "output_type": "display_data"
    },
    {
     "data": {
      "application/vnd.jupyter.widget-view+json": {
       "model_id": "c9f88e2891314ddea87e198c04ab5a30",
       "version_major": 2,
       "version_minor": 0
      },
      "text/plain": [
       "backward: 0it [00:00, ?it/s]"
      ]
     },
     "metadata": {},
     "output_type": "display_data"
    },
    {
     "data": {
      "application/vnd.jupyter.widget-view+json": {
       "model_id": "557406b6c90742c9992fbcc68cd0838e",
       "version_major": 2,
       "version_minor": 0
      },
      "text/plain": [
       "backward: 0it [00:00, ?it/s]"
      ]
     },
     "metadata": {},
     "output_type": "display_data"
    },
    {
     "data": {
      "application/vnd.jupyter.widget-view+json": {
       "model_id": "dad16718dcb2477b87f353da867e4211",
       "version_major": 2,
       "version_minor": 0
      },
      "text/plain": [
       "forward: 0it [00:00, ?it/s]"
      ]
     },
     "metadata": {},
     "output_type": "display_data"
    },
    {
     "name": "stdout",
     "output_type": "stream",
     "text": [
      "scene id 4\n",
      "scene name pool5\n"
     ]
    },
    {
     "data": {
      "application/vnd.jupyter.widget-view+json": {
       "model_id": "5341bab8dde848ccb1c2e50e54681cd8",
       "version_major": 2,
       "version_minor": 0
      },
      "text/plain": [
       "forward: 0it [00:00, ?it/s]"
      ]
     },
     "metadata": {},
     "output_type": "display_data"
    },
    {
     "data": {
      "application/vnd.jupyter.widget-view+json": {
       "model_id": "589688e2d302408d960ff7143df8596c",
       "version_major": 2,
       "version_minor": 0
      },
      "text/plain": [
       "backward: 0it [00:00, ?it/s]"
      ]
     },
     "metadata": {},
     "output_type": "display_data"
    },
    {
     "data": {
      "application/vnd.jupyter.widget-view+json": {
       "model_id": "b6c746c6bf8e4f26aaf7394d2e068d08",
       "version_major": 2,
       "version_minor": 0
      },
      "text/plain": [
       "backward: 0it [00:00, ?it/s]"
      ]
     },
     "metadata": {},
     "output_type": "display_data"
    },
    {
     "data": {
      "application/vnd.jupyter.widget-view+json": {
       "model_id": "52fedc44b3ff46aab7f6fbc96dad9ca6",
       "version_major": 2,
       "version_minor": 0
      },
      "text/plain": [
       "backward: 0it [00:00, ?it/s]"
      ]
     },
     "metadata": {},
     "output_type": "display_data"
    },
    {
     "data": {
      "application/vnd.jupyter.widget-view+json": {
       "model_id": "d6837cb143904aacaed0816cc17f5edf",
       "version_major": 2,
       "version_minor": 0
      },
      "text/plain": [
       "forward: 0it [00:00, ?it/s]"
      ]
     },
     "metadata": {},
     "output_type": "display_data"
    },
    {
     "data": {
      "application/vnd.jupyter.widget-view+json": {
       "model_id": "4f3340d1dc5e4432a2db2f3d4969bdd3",
       "version_major": 2,
       "version_minor": 0
      },
      "text/plain": [
       "backward: 0it [00:00, ?it/s]"
      ]
     },
     "metadata": {},
     "output_type": "display_data"
    },
    {
     "data": {
      "application/vnd.jupyter.widget-view+json": {
       "model_id": "9172c3b128ab4a15a2092739f1d3d062",
       "version_major": 2,
       "version_minor": 0
      },
      "text/plain": [
       "backward: 0it [00:00, ?it/s]"
      ]
     },
     "metadata": {},
     "output_type": "display_data"
    },
    {
     "name": "stdout",
     "output_type": "stream",
     "text": [
      "scene id 5\n",
      "scene name board\n"
     ]
    },
    {
     "data": {
      "application/vnd.jupyter.widget-view+json": {
       "model_id": "1914c6e1cd4c46bb881d184b61063454",
       "version_major": 2,
       "version_minor": 0
      },
      "text/plain": [
       "forward: 0it [00:00, ?it/s]"
      ]
     },
     "metadata": {},
     "output_type": "display_data"
    },
    {
     "data": {
      "application/vnd.jupyter.widget-view+json": {
       "model_id": "d7b146837a284bd99f841256e6db4aa8",
       "version_major": 2,
       "version_minor": 0
      },
      "text/plain": [
       "backward: 0it [00:00, ?it/s]"
      ]
     },
     "metadata": {},
     "output_type": "display_data"
    },
    {
     "name": "stdout",
     "output_type": "stream",
     "text": [
      "scene id 6\n",
      "scene name car4\n"
     ]
    },
    {
     "data": {
      "application/vnd.jupyter.widget-view+json": {
       "model_id": "68e920c84437459a9b956586f80301f7",
       "version_major": 2,
       "version_minor": 0
      },
      "text/plain": [
       "forward: 0it [00:00, ?it/s]"
      ]
     },
     "metadata": {},
     "output_type": "display_data"
    },
    {
     "data": {
      "application/vnd.jupyter.widget-view+json": {
       "model_id": "8539c2d91c2a43b69432b03136463fc5",
       "version_major": 2,
       "version_minor": 0
      },
      "text/plain": [
       "backward: 0it [00:00, ?it/s]"
      ]
     },
     "metadata": {},
     "output_type": "display_data"
    },
    {
     "data": {
      "application/vnd.jupyter.widget-view+json": {
       "model_id": "eb1bd0d2a27641b7bc17204c0f5304bb",
       "version_major": 2,
       "version_minor": 0
      },
      "text/plain": [
       "backward: 0it [00:00, ?it/s]"
      ]
     },
     "metadata": {},
     "output_type": "display_data"
    },
    {
     "data": {
      "application/vnd.jupyter.widget-view+json": {
       "model_id": "8947e5e7519c4c32998a1bb4a2abbacd",
       "version_major": 2,
       "version_minor": 0
      },
      "text/plain": [
       "backward: 0it [00:00, ?it/s]"
      ]
     },
     "metadata": {},
     "output_type": "display_data"
    },
    {
     "data": {
      "application/vnd.jupyter.widget-view+json": {
       "model_id": "3712ed4d2775470f80acff84f8291e43",
       "version_major": 2,
       "version_minor": 0
      },
      "text/plain": [
       "forward: 0it [00:00, ?it/s]"
      ]
     },
     "metadata": {},
     "output_type": "display_data"
    },
    {
     "data": {
      "application/vnd.jupyter.widget-view+json": {
       "model_id": "945b19c5b23f4f47a81b1e1efa4f0cf2",
       "version_major": 2,
       "version_minor": 0
      },
      "text/plain": [
       "backward: 0it [00:00, ?it/s]"
      ]
     },
     "metadata": {},
     "output_type": "display_data"
    },
    {
     "data": {
      "application/vnd.jupyter.widget-view+json": {
       "model_id": "382c3c626392436098068bcc6109d0f6",
       "version_major": 2,
       "version_minor": 0
      },
      "text/plain": [
       "backward: 0it [00:00, ?it/s]"
      ]
     },
     "metadata": {},
     "output_type": "display_data"
    },
    {
     "data": {
      "application/vnd.jupyter.widget-view+json": {
       "model_id": "55e4880f3fde40f5aedd3e6a4648b187",
       "version_major": 2,
       "version_minor": 0
      },
      "text/plain": [
       "forward: 0it [00:00, ?it/s]"
      ]
     },
     "metadata": {},
     "output_type": "display_data"
    },
    {
     "name": "stdout",
     "output_type": "stream",
     "text": [
      "scene id 7\n",
      "scene name officechair1\n"
     ]
    },
    {
     "data": {
      "application/vnd.jupyter.widget-view+json": {
       "model_id": "481bd6ea7e0e410c9b511d6fea88d991",
       "version_major": 2,
       "version_minor": 0
      },
      "text/plain": [
       "forward: 0it [00:00, ?it/s]"
      ]
     },
     "metadata": {},
     "output_type": "display_data"
    },
    {
     "data": {
      "application/vnd.jupyter.widget-view+json": {
       "model_id": "551b9378b2474261849684c093834afe",
       "version_major": 2,
       "version_minor": 0
      },
      "text/plain": [
       "backward: 0it [00:00, ?it/s]"
      ]
     },
     "metadata": {},
     "output_type": "display_data"
    },
    {
     "name": "stdout",
     "output_type": "stream",
     "text": [
      "scene id 8\n",
      "scene name car3\n"
     ]
    },
    {
     "data": {
      "application/vnd.jupyter.widget-view+json": {
       "model_id": "d0de094558ce41178ecf91debebe5fa7",
       "version_major": 2,
       "version_minor": 0
      },
      "text/plain": [
       "forward: 0it [00:00, ?it/s]"
      ]
     },
     "metadata": {},
     "output_type": "display_data"
    },
    {
     "data": {
      "application/vnd.jupyter.widget-view+json": {
       "model_id": "51b855d72df44145bf6bc84266305989",
       "version_major": 2,
       "version_minor": 0
      },
      "text/plain": [
       "backward: 0it [00:00, ?it/s]"
      ]
     },
     "metadata": {},
     "output_type": "display_data"
    },
    {
     "name": "stdout",
     "output_type": "stream",
     "text": [
      "scene id 9\n",
      "scene name car9\n"
     ]
    },
    {
     "data": {
      "application/vnd.jupyter.widget-view+json": {
       "model_id": "3f44c88392c147d885fafd042f15245c",
       "version_major": 2,
       "version_minor": 0
      },
      "text/plain": [
       "forward: 0it [00:00, ?it/s]"
      ]
     },
     "metadata": {},
     "output_type": "display_data"
    },
    {
     "data": {
      "application/vnd.jupyter.widget-view+json": {
       "model_id": "ecb1fef029954fdeb4b57d94dad39506",
       "version_major": 2,
       "version_minor": 0
      },
      "text/plain": [
       "backward: 0it [00:00, ?it/s]"
      ]
     },
     "metadata": {},
     "output_type": "display_data"
    },
    {
     "data": {
      "application/vnd.jupyter.widget-view+json": {
       "model_id": "7c19ae3df3804b739d81be05594b142e",
       "version_major": 2,
       "version_minor": 0
      },
      "text/plain": [
       "backward: 0it [00:00, ?it/s]"
      ]
     },
     "metadata": {},
     "output_type": "display_data"
    },
    {
     "data": {
      "application/vnd.jupyter.widget-view+json": {
       "model_id": "01ec53b632b24029a05055b1ec60ae4f",
       "version_major": 2,
       "version_minor": 0
      },
      "text/plain": [
       "forward: 0it [00:00, ?it/s]"
      ]
     },
     "metadata": {},
     "output_type": "display_data"
    },
    {
     "data": {
      "application/vnd.jupyter.widget-view+json": {
       "model_id": "e293ac7bac314c47939b482e28df0a23",
       "version_major": 2,
       "version_minor": 0
      },
      "text/plain": [
       "backward: 0it [00:00, ?it/s]"
      ]
     },
     "metadata": {},
     "output_type": "display_data"
    },
    {
     "name": "stdout",
     "output_type": "stream",
     "text": [
      "scene id 10\n",
      "scene name rider3\n"
     ]
    },
    {
     "data": {
      "application/vnd.jupyter.widget-view+json": {
       "model_id": "eb2bafcf9cca40e79b8c60f34ef92e59",
       "version_major": 2,
       "version_minor": 0
      },
      "text/plain": [
       "forward: 0it [00:00, ?it/s]"
      ]
     },
     "metadata": {},
     "output_type": "display_data"
    },
    {
     "data": {
      "application/vnd.jupyter.widget-view+json": {
       "model_id": "ed2f495c578b4140af257ec3d7f12588",
       "version_major": 2,
       "version_minor": 0
      },
      "text/plain": [
       "backward: 0it [00:00, ?it/s]"
      ]
     },
     "metadata": {},
     "output_type": "display_data"
    },
    {
     "data": {
      "application/vnd.jupyter.widget-view+json": {
       "model_id": "7b227afdfec44f58b4e1eb86bdb4e301",
       "version_major": 2,
       "version_minor": 0
      },
      "text/plain": [
       "backward: 0it [00:00, ?it/s]"
      ]
     },
     "metadata": {},
     "output_type": "display_data"
    },
    {
     "data": {
      "application/vnd.jupyter.widget-view+json": {
       "model_id": "2d0246349e71468184e0b3ec0f7d5fa8",
       "version_major": 2,
       "version_minor": 0
      },
      "text/plain": [
       "backward: 0it [00:00, ?it/s]"
      ]
     },
     "metadata": {},
     "output_type": "display_data"
    },
    {
     "data": {
      "application/vnd.jupyter.widget-view+json": {
       "model_id": "05610e44aa734f88b0fc916a07e95824",
       "version_major": 2,
       "version_minor": 0
      },
      "text/plain": [
       "forward: 0it [00:00, ?it/s]"
      ]
     },
     "metadata": {},
     "output_type": "display_data"
    },
    {
     "data": {
      "application/vnd.jupyter.widget-view+json": {
       "model_id": "ed75dbd6ba7147a8a7b5fa907b3cccd1",
       "version_major": 2,
       "version_minor": 0
      },
      "text/plain": [
       "backward: 0it [00:00, ?it/s]"
      ]
     },
     "metadata": {},
     "output_type": "display_data"
    },
    {
     "data": {
      "application/vnd.jupyter.widget-view+json": {
       "model_id": "5e76bdf27a9642c3981915890f5fadcf",
       "version_major": 2,
       "version_minor": 0
      },
      "text/plain": [
       "backward: 0it [00:00, ?it/s]"
      ]
     },
     "metadata": {},
     "output_type": "display_data"
    },
    {
     "data": {
      "application/vnd.jupyter.widget-view+json": {
       "model_id": "e8b15b9e9ba541888180995cd809392c",
       "version_major": 2,
       "version_minor": 0
      },
      "text/plain": [
       "forward: 0it [00:00, ?it/s]"
      ]
     },
     "metadata": {},
     "output_type": "display_data"
    },
    {
     "name": "stdout",
     "output_type": "stream",
     "text": [
      "scene id 11\n",
      "scene name automobile6\n"
     ]
    },
    {
     "data": {
      "application/vnd.jupyter.widget-view+json": {
       "model_id": "8f7c7f8c61344e2ba7e2b4ffe6e0ef68",
       "version_major": 2,
       "version_minor": 0
      },
      "text/plain": [
       "forward: 0it [00:00, ?it/s]"
      ]
     },
     "metadata": {},
     "output_type": "display_data"
    },
    {
     "data": {
      "application/vnd.jupyter.widget-view+json": {
       "model_id": "58236b6f02c244e2af05d3492a6dd87f",
       "version_major": 2,
       "version_minor": 0
      },
      "text/plain": [
       "backward: 0it [00:00, ?it/s]"
      ]
     },
     "metadata": {},
     "output_type": "display_data"
    },
    {
     "data": {
      "application/vnd.jupyter.widget-view+json": {
       "model_id": "e8c61b4f207f4a69bc8571fa1cb0fdc9",
       "version_major": 2,
       "version_minor": 0
      },
      "text/plain": [
       "backward: 0it [00:00, ?it/s]"
      ]
     },
     "metadata": {},
     "output_type": "display_data"
    },
    {
     "data": {
      "application/vnd.jupyter.widget-view+json": {
       "model_id": "7b51491b48394c78ba5be035f0165d15",
       "version_major": 2,
       "version_minor": 0
      },
      "text/plain": [
       "backward: 0it [00:00, ?it/s]"
      ]
     },
     "metadata": {},
     "output_type": "display_data"
    },
    {
     "data": {
      "application/vnd.jupyter.widget-view+json": {
       "model_id": "ff51e095e2754e65906e82ceab4f0367",
       "version_major": 2,
       "version_minor": 0
      },
      "text/plain": [
       "forward: 0it [00:00, ?it/s]"
      ]
     },
     "metadata": {},
     "output_type": "display_data"
    },
    {
     "data": {
      "application/vnd.jupyter.widget-view+json": {
       "model_id": "f7012f98087f4da1806b28d9841abcea",
       "version_major": 2,
       "version_minor": 0
      },
      "text/plain": [
       "backward: 0it [00:00, ?it/s]"
      ]
     },
     "metadata": {},
     "output_type": "display_data"
    },
    {
     "data": {
      "application/vnd.jupyter.widget-view+json": {
       "model_id": "5771d150a7d5440a89c8799c18acc9de",
       "version_major": 2,
       "version_minor": 0
      },
      "text/plain": [
       "backward: 0it [00:00, ?it/s]"
      ]
     },
     "metadata": {},
     "output_type": "display_data"
    },
    {
     "name": "stdout",
     "output_type": "stream",
     "text": [
      "scene id 12\n",
      "scene name automobile\n"
     ]
    },
    {
     "data": {
      "application/vnd.jupyter.widget-view+json": {
       "model_id": "253162370efc4f14a91b7fa370679c58",
       "version_major": 2,
       "version_minor": 0
      },
      "text/plain": [
       "forward: 0it [00:00, ?it/s]"
      ]
     },
     "metadata": {},
     "output_type": "display_data"
    },
    {
     "data": {
      "application/vnd.jupyter.widget-view+json": {
       "model_id": "f2a3ccc7e5ac430690bbcbff38335f48",
       "version_major": 2,
       "version_minor": 0
      },
      "text/plain": [
       "backward: 0it [00:00, ?it/s]"
      ]
     },
     "metadata": {},
     "output_type": "display_data"
    },
    {
     "data": {
      "application/vnd.jupyter.widget-view+json": {
       "model_id": "5862ad5c4e144386b80442441175c923",
       "version_major": 2,
       "version_minor": 0
      },
      "text/plain": [
       "backward: 0it [00:00, ?it/s]"
      ]
     },
     "metadata": {},
     "output_type": "display_data"
    },
    {
     "data": {
      "application/vnd.jupyter.widget-view+json": {
       "model_id": "2c68ea17749d448aadfa74c115d1a9d1",
       "version_major": 2,
       "version_minor": 0
      },
      "text/plain": [
       "backward: 0it [00:00, ?it/s]"
      ]
     },
     "metadata": {},
     "output_type": "display_data"
    },
    {
     "data": {
      "application/vnd.jupyter.widget-view+json": {
       "model_id": "3fb7c2fbd5cd49f8be5e753cc0489b43",
       "version_major": 2,
       "version_minor": 0
      },
      "text/plain": [
       "forward: 0it [00:00, ?it/s]"
      ]
     },
     "metadata": {},
     "output_type": "display_data"
    },
    {
     "data": {
      "application/vnd.jupyter.widget-view+json": {
       "model_id": "71b2d5a9c34c49d6abc7dc618faec230",
       "version_major": 2,
       "version_minor": 0
      },
      "text/plain": [
       "backward: 0it [00:00, ?it/s]"
      ]
     },
     "metadata": {},
     "output_type": "display_data"
    },
    {
     "data": {
      "application/vnd.jupyter.widget-view+json": {
       "model_id": "8ec85b85ccf4476c84bb7c6690c10fa9",
       "version_major": 2,
       "version_minor": 0
      },
      "text/plain": [
       "backward: 0it [00:00, ?it/s]"
      ]
     },
     "metadata": {},
     "output_type": "display_data"
    },
    {
     "name": "stdout",
     "output_type": "stream",
     "text": [
      "scene id 13\n",
      "scene name bus\n"
     ]
    },
    {
     "data": {
      "application/vnd.jupyter.widget-view+json": {
       "model_id": "3bae9025336444c3b5a87c71fc7ad515",
       "version_major": 2,
       "version_minor": 0
      },
      "text/plain": [
       "forward: 0it [00:00, ?it/s]"
      ]
     },
     "metadata": {},
     "output_type": "display_data"
    },
    {
     "data": {
      "application/vnd.jupyter.widget-view+json": {
       "model_id": "dd657a7d33f0468daa2e188829d828a0",
       "version_major": 2,
       "version_minor": 0
      },
      "text/plain": [
       "backward: 0it [00:00, ?it/s]"
      ]
     },
     "metadata": {},
     "output_type": "display_data"
    },
    {
     "name": "stdout",
     "output_type": "stream",
     "text": [
      "scene id 14\n",
      "scene name pedestrian4\n"
     ]
    },
    {
     "data": {
      "application/vnd.jupyter.widget-view+json": {
       "model_id": "cb8804c51877416fa07890ad2b1bc91c",
       "version_major": 2,
       "version_minor": 0
      },
      "text/plain": [
       "forward: 0it [00:00, ?it/s]"
      ]
     },
     "metadata": {},
     "output_type": "display_data"
    },
    {
     "data": {
      "application/vnd.jupyter.widget-view+json": {
       "model_id": "95dc01fa0e2f4708be34d8ad984f9cea",
       "version_major": 2,
       "version_minor": 0
      },
      "text/plain": [
       "backward: 0it [00:00, ?it/s]"
      ]
     },
     "metadata": {},
     "output_type": "display_data"
    },
    {
     "data": {
      "application/vnd.jupyter.widget-view+json": {
       "model_id": "64b710f538934b7eb0c3de9798212c18",
       "version_major": 2,
       "version_minor": 0
      },
      "text/plain": [
       "backward: 0it [00:00, ?it/s]"
      ]
     },
     "metadata": {},
     "output_type": "display_data"
    },
    {
     "data": {
      "application/vnd.jupyter.widget-view+json": {
       "model_id": "68db509c62ec41a2aaacedfe23a0787b",
       "version_major": 2,
       "version_minor": 0
      },
      "text/plain": [
       "forward: 0it [00:00, ?it/s]"
      ]
     },
     "metadata": {},
     "output_type": "display_data"
    },
    {
     "data": {
      "application/vnd.jupyter.widget-view+json": {
       "model_id": "5210cb3a10c549e697afec76478e3e66",
       "version_major": 2,
       "version_minor": 0
      },
      "text/plain": [
       "backward: 0it [00:00, ?it/s]"
      ]
     },
     "metadata": {},
     "output_type": "display_data"
    },
    {
     "name": "stdout",
     "output_type": "stream",
     "text": [
      "scene id 15\n",
      "scene name automobile8\n"
     ]
    },
    {
     "data": {
      "application/vnd.jupyter.widget-view+json": {
       "model_id": "7ef493e83699496db9a0ed58415f5d70",
       "version_major": 2,
       "version_minor": 0
      },
      "text/plain": [
       "forward: 0it [00:00, ?it/s]"
      ]
     },
     "metadata": {},
     "output_type": "display_data"
    },
    {
     "data": {
      "application/vnd.jupyter.widget-view+json": {
       "model_id": "6864c6d1cbee4abe80215a7ae899c7fa",
       "version_major": 2,
       "version_minor": 0
      },
      "text/plain": [
       "backward: 0it [00:00, ?it/s]"
      ]
     },
     "metadata": {},
     "output_type": "display_data"
    },
    {
     "data": {
      "application/vnd.jupyter.widget-view+json": {
       "model_id": "0a338d79d0ac4b208b4b3e2badfbdbea",
       "version_major": 2,
       "version_minor": 0
      },
      "text/plain": [
       "backward: 0it [00:00, ?it/s]"
      ]
     },
     "metadata": {},
     "output_type": "display_data"
    },
    {
     "data": {
      "application/vnd.jupyter.widget-view+json": {
       "model_id": "481edeca18794bdd9ff1796aef76dcc5",
       "version_major": 2,
       "version_minor": 0
      },
      "text/plain": [
       "backward: 0it [00:00, ?it/s]"
      ]
     },
     "metadata": {},
     "output_type": "display_data"
    },
    {
     "data": {
      "application/vnd.jupyter.widget-view+json": {
       "model_id": "c7bdb1d674da44b782ee47d16c08e142",
       "version_major": 2,
       "version_minor": 0
      },
      "text/plain": [
       "forward: 0it [00:00, ?it/s]"
      ]
     },
     "metadata": {},
     "output_type": "display_data"
    },
    {
     "data": {
      "application/vnd.jupyter.widget-view+json": {
       "model_id": "bfcab87f24fe4d888de099de864a182a",
       "version_major": 2,
       "version_minor": 0
      },
      "text/plain": [
       "backward: 0it [00:00, ?it/s]"
      ]
     },
     "metadata": {},
     "output_type": "display_data"
    },
    {
     "data": {
      "application/vnd.jupyter.widget-view+json": {
       "model_id": "462859ca40b040d5b597abf9c1649c83",
       "version_major": 2,
       "version_minor": 0
      },
      "text/plain": [
       "backward: 0it [00:00, ?it/s]"
      ]
     },
     "metadata": {},
     "output_type": "display_data"
    },
    {
     "data": {
      "application/vnd.jupyter.widget-view+json": {
       "model_id": "4a25de3b6cc347779df33d58c5cd5e94",
       "version_major": 2,
       "version_minor": 0
      },
      "text/plain": [
       "backward: 0it [00:00, ?it/s]"
      ]
     },
     "metadata": {},
     "output_type": "display_data"
    },
    {
     "name": "stdout",
     "output_type": "stream",
     "text": [
      "scene id 16\n",
      "scene name automobile2\n"
     ]
    },
    {
     "data": {
      "application/vnd.jupyter.widget-view+json": {
       "model_id": "1cb87aa8c11f4d3583fa9afecddda8b8",
       "version_major": 2,
       "version_minor": 0
      },
      "text/plain": [
       "forward: 0it [00:00, ?it/s]"
      ]
     },
     "metadata": {},
     "output_type": "display_data"
    },
    {
     "data": {
      "application/vnd.jupyter.widget-view+json": {
       "model_id": "f9e83880d7264950a14e238af20325d8",
       "version_major": 2,
       "version_minor": 0
      },
      "text/plain": [
       "backward: 0it [00:00, ?it/s]"
      ]
     },
     "metadata": {},
     "output_type": "display_data"
    },
    {
     "data": {
      "application/vnd.jupyter.widget-view+json": {
       "model_id": "cb8e3f83ec4f45e2b09668d0dd3b1f98",
       "version_major": 2,
       "version_minor": 0
      },
      "text/plain": [
       "backward: 0it [00:00, ?it/s]"
      ]
     },
     "metadata": {},
     "output_type": "display_data"
    },
    {
     "data": {
      "application/vnd.jupyter.widget-view+json": {
       "model_id": "07cf53f3e0d14a178b9c51436bb16edf",
       "version_major": 2,
       "version_minor": 0
      },
      "text/plain": [
       "backward: 0it [00:00, ?it/s]"
      ]
     },
     "metadata": {},
     "output_type": "display_data"
    },
    {
     "data": {
      "application/vnd.jupyter.widget-view+json": {
       "model_id": "22e34b605a074e9888bb49076f71c6b9",
       "version_major": 2,
       "version_minor": 0
      },
      "text/plain": [
       "backward: 0it [00:00, ?it/s]"
      ]
     },
     "metadata": {},
     "output_type": "display_data"
    },
    {
     "data": {
      "application/vnd.jupyter.widget-view+json": {
       "model_id": "e220f91f7ee244c7b019a322c16c4b78",
       "version_major": 2,
       "version_minor": 0
      },
      "text/plain": [
       "forward: 0it [00:00, ?it/s]"
      ]
     },
     "metadata": {},
     "output_type": "display_data"
    },
    {
     "data": {
      "application/vnd.jupyter.widget-view+json": {
       "model_id": "500ed40165a5422b902413c4e80e4acb",
       "version_major": 2,
       "version_minor": 0
      },
      "text/plain": [
       "backward: 0it [00:00, ?it/s]"
      ]
     },
     "metadata": {},
     "output_type": "display_data"
    },
    {
     "data": {
      "application/vnd.jupyter.widget-view+json": {
       "model_id": "58f6cf41d3a54da2917fa259cf3cc4b6",
       "version_major": 2,
       "version_minor": 0
      },
      "text/plain": [
       "backward: 0it [00:00, ?it/s]"
      ]
     },
     "metadata": {},
     "output_type": "display_data"
    },
    {
     "data": {
      "application/vnd.jupyter.widget-view+json": {
       "model_id": "279180503192439d9489be645d98b5f2",
       "version_major": 2,
       "version_minor": 0
      },
      "text/plain": [
       "backward: 0it [00:00, ?it/s]"
      ]
     },
     "metadata": {},
     "output_type": "display_data"
    },
    {
     "data": {
      "application/vnd.jupyter.widget-view+json": {
       "model_id": "43076431cdcd4358b5914ba15fb10ce7",
       "version_major": 2,
       "version_minor": 0
      },
      "text/plain": [
       "backward: 0it [00:00, ?it/s]"
      ]
     },
     "metadata": {},
     "output_type": "display_data"
    },
    {
     "data": {
      "application/vnd.jupyter.widget-view+json": {
       "model_id": "10740e23eb5143e29f0f6415e0dfd8e1",
       "version_major": 2,
       "version_minor": 0
      },
      "text/plain": [
       "forward: 0it [00:00, ?it/s]"
      ]
     },
     "metadata": {},
     "output_type": "display_data"
    },
    {
     "name": "stdout",
     "output_type": "stream",
     "text": [
      "scene id 17\n",
      "scene name automobile13\n"
     ]
    },
    {
     "data": {
      "application/vnd.jupyter.widget-view+json": {
       "model_id": "19a6ffe226c04f06bbbcbd0a2207e2db",
       "version_major": 2,
       "version_minor": 0
      },
      "text/plain": [
       "forward: 0it [00:00, ?it/s]"
      ]
     },
     "metadata": {},
     "output_type": "display_data"
    },
    {
     "data": {
      "application/vnd.jupyter.widget-view+json": {
       "model_id": "884e64b7868849a79af860403c328949",
       "version_major": 2,
       "version_minor": 0
      },
      "text/plain": [
       "backward: 0it [00:00, ?it/s]"
      ]
     },
     "metadata": {},
     "output_type": "display_data"
    },
    {
     "data": {
      "application/vnd.jupyter.widget-view+json": {
       "model_id": "5276fb10e47d4def822a77be085beb7b",
       "version_major": 2,
       "version_minor": 0
      },
      "text/plain": [
       "backward: 0it [00:00, ?it/s]"
      ]
     },
     "metadata": {},
     "output_type": "display_data"
    },
    {
     "data": {
      "application/vnd.jupyter.widget-view+json": {
       "model_id": "924fe9b539ad4135bea2541257d2b0f3",
       "version_major": 2,
       "version_minor": 0
      },
      "text/plain": [
       "forward: 0it [00:00, ?it/s]"
      ]
     },
     "metadata": {},
     "output_type": "display_data"
    },
    {
     "data": {
      "application/vnd.jupyter.widget-view+json": {
       "model_id": "4bcb07f5347c4c5b8af634dcdda05d83",
       "version_major": 2,
       "version_minor": 0
      },
      "text/plain": [
       "backward: 0it [00:00, ?it/s]"
      ]
     },
     "metadata": {},
     "output_type": "display_data"
    },
    {
     "name": "stdout",
     "output_type": "stream",
     "text": [
      "scene id 18\n",
      "scene name car7\n"
     ]
    },
    {
     "data": {
      "application/vnd.jupyter.widget-view+json": {
       "model_id": "68e796226a5c4787b38ee592b79f166a",
       "version_major": 2,
       "version_minor": 0
      },
      "text/plain": [
       "forward: 0it [00:00, ?it/s]"
      ]
     },
     "metadata": {},
     "output_type": "display_data"
    },
    {
     "data": {
      "application/vnd.jupyter.widget-view+json": {
       "model_id": "fce7a59702074cbeacba6cfca1062727",
       "version_major": 2,
       "version_minor": 0
      },
      "text/plain": [
       "backward: 0it [00:00, ?it/s]"
      ]
     },
     "metadata": {},
     "output_type": "display_data"
    },
    {
     "data": {
      "application/vnd.jupyter.widget-view+json": {
       "model_id": "7b207757764c4a62ab57e909c5f2d083",
       "version_major": 2,
       "version_minor": 0
      },
      "text/plain": [
       "backward: 0it [00:00, ?it/s]"
      ]
     },
     "metadata": {},
     "output_type": "display_data"
    },
    {
     "data": {
      "application/vnd.jupyter.widget-view+json": {
       "model_id": "b868ad02d9ca42bc8022a8dff12c037a",
       "version_major": 2,
       "version_minor": 0
      },
      "text/plain": [
       "forward: 0it [00:00, ?it/s]"
      ]
     },
     "metadata": {},
     "output_type": "display_data"
    },
    {
     "data": {
      "application/vnd.jupyter.widget-view+json": {
       "model_id": "80716c2464aa4742b36057f560397e39",
       "version_major": 2,
       "version_minor": 0
      },
      "text/plain": [
       "backward: 0it [00:00, ?it/s]"
      ]
     },
     "metadata": {},
     "output_type": "display_data"
    },
    {
     "data": {
      "application/vnd.jupyter.widget-view+json": {
       "model_id": "2ac45bbf84104d7180250292f04839a8",
       "version_major": 2,
       "version_minor": 0
      },
      "text/plain": [
       "backward: 0it [00:00, ?it/s]"
      ]
     },
     "metadata": {},
     "output_type": "display_data"
    },
    {
     "data": {
      "application/vnd.jupyter.widget-view+json": {
       "model_id": "188023804ff145bd807debc91cfbb077",
       "version_major": 2,
       "version_minor": 0
      },
      "text/plain": [
       "forward: 0it [00:00, ?it/s]"
      ]
     },
     "metadata": {},
     "output_type": "display_data"
    },
    {
     "name": "stdout",
     "output_type": "stream",
     "text": [
      "scene id 19\n",
      "scene name glass2\n"
     ]
    },
    {
     "data": {
      "application/vnd.jupyter.widget-view+json": {
       "model_id": "a9044fc2a39648ff8b6f146f6a0acef5",
       "version_major": 2,
       "version_minor": 0
      },
      "text/plain": [
       "forward: 0it [00:00, ?it/s]"
      ]
     },
     "metadata": {},
     "output_type": "display_data"
    },
    {
     "data": {
      "application/vnd.jupyter.widget-view+json": {
       "model_id": "c4844f127a2e4f8abf71ded31e15097d",
       "version_major": 2,
       "version_minor": 0
      },
      "text/plain": [
       "backward: 0it [00:00, ?it/s]"
      ]
     },
     "metadata": {},
     "output_type": "display_data"
    },
    {
     "name": "stdout",
     "output_type": "stream",
     "text": [
      "scene id 20\n",
      "scene name automobile14\n"
     ]
    },
    {
     "data": {
      "application/vnd.jupyter.widget-view+json": {
       "model_id": "c5a5ac118c6e445fba16c1dee5fdc2a8",
       "version_major": 2,
       "version_minor": 0
      },
      "text/plain": [
       "forward: 0it [00:00, ?it/s]"
      ]
     },
     "metadata": {},
     "output_type": "display_data"
    },
    {
     "data": {
      "application/vnd.jupyter.widget-view+json": {
       "model_id": "39e03158a68741b482c5f2138590f110",
       "version_major": 2,
       "version_minor": 0
      },
      "text/plain": [
       "backward: 0it [00:00, ?it/s]"
      ]
     },
     "metadata": {},
     "output_type": "display_data"
    },
    {
     "data": {
      "application/vnd.jupyter.widget-view+json": {
       "model_id": "0ce676d6ebc044ec8dd732ce5d529e56",
       "version_major": 2,
       "version_minor": 0
      },
      "text/plain": [
       "backward: 0it [00:00, ?it/s]"
      ]
     },
     "metadata": {},
     "output_type": "display_data"
    },
    {
     "data": {
      "application/vnd.jupyter.widget-view+json": {
       "model_id": "6c16f2a223df4c91b200bedcb7158c30",
       "version_major": 2,
       "version_minor": 0
      },
      "text/plain": [
       "forward: 0it [00:00, ?it/s]"
      ]
     },
     "metadata": {},
     "output_type": "display_data"
    },
    {
     "data": {
      "application/vnd.jupyter.widget-view+json": {
       "model_id": "3efea74621bc471d853f139b701fa47f",
       "version_major": 2,
       "version_minor": 0
      },
      "text/plain": [
       "backward: 0it [00:00, ?it/s]"
      ]
     },
     "metadata": {},
     "output_type": "display_data"
    },
    {
     "name": "stdout",
     "output_type": "stream",
     "text": [
      "scene id 21\n",
      "scene name automobile5\n"
     ]
    },
    {
     "data": {
      "application/vnd.jupyter.widget-view+json": {
       "model_id": "f5ef74041f2e47c9a54e87412cff5277",
       "version_major": 2,
       "version_minor": 0
      },
      "text/plain": [
       "forward: 0it [00:00, ?it/s]"
      ]
     },
     "metadata": {},
     "output_type": "display_data"
    },
    {
     "data": {
      "application/vnd.jupyter.widget-view+json": {
       "model_id": "6e250e67b0db426ba58ae8b544194944",
       "version_major": 2,
       "version_minor": 0
      },
      "text/plain": [
       "backward: 0it [00:00, ?it/s]"
      ]
     },
     "metadata": {},
     "output_type": "display_data"
    },
    {
     "data": {
      "application/vnd.jupyter.widget-view+json": {
       "model_id": "7e53b9ad83ae4db79226e3f812ca96a7",
       "version_major": 2,
       "version_minor": 0
      },
      "text/plain": [
       "backward: 0it [00:00, ?it/s]"
      ]
     },
     "metadata": {},
     "output_type": "display_data"
    },
    {
     "data": {
      "application/vnd.jupyter.widget-view+json": {
       "model_id": "29018b4baf644f0eb0bea00403a23adc",
       "version_major": 2,
       "version_minor": 0
      },
      "text/plain": [
       "backward: 0it [00:00, ?it/s]"
      ]
     },
     "metadata": {},
     "output_type": "display_data"
    },
    {
     "data": {
      "application/vnd.jupyter.widget-view+json": {
       "model_id": "6a09ab0be6864039bd5acea1ad7496bf",
       "version_major": 2,
       "version_minor": 0
      },
      "text/plain": [
       "forward: 0it [00:00, ?it/s]"
      ]
     },
     "metadata": {},
     "output_type": "display_data"
    },
    {
     "data": {
      "application/vnd.jupyter.widget-view+json": {
       "model_id": "8f00d9a43ef744c29e5b36325d59a1c6",
       "version_major": 2,
       "version_minor": 0
      },
      "text/plain": [
       "backward: 0it [00:00, ?it/s]"
      ]
     },
     "metadata": {},
     "output_type": "display_data"
    },
    {
     "data": {
      "application/vnd.jupyter.widget-view+json": {
       "model_id": "028a675705a64d75b14b9209e61e14cc",
       "version_major": 2,
       "version_minor": 0
      },
      "text/plain": [
       "backward: 0it [00:00, ?it/s]"
      ]
     },
     "metadata": {},
     "output_type": "display_data"
    },
    {
     "data": {
      "application/vnd.jupyter.widget-view+json": {
       "model_id": "574f807a59a3422885781d31c60ee30f",
       "version_major": 2,
       "version_minor": 0
      },
      "text/plain": [
       "forward: 0it [00:00, ?it/s]"
      ]
     },
     "metadata": {},
     "output_type": "display_data"
    },
    {
     "name": "stdout",
     "output_type": "stream",
     "text": [
      "scene id 22\n",
      "scene name car10\n"
     ]
    },
    {
     "data": {
      "application/vnd.jupyter.widget-view+json": {
       "model_id": "0955d2bc7a8c45238ee18d0295200b3d",
       "version_major": 2,
       "version_minor": 0
      },
      "text/plain": [
       "forward: 0it [00:00, ?it/s]"
      ]
     },
     "metadata": {},
     "output_type": "display_data"
    },
    {
     "data": {
      "application/vnd.jupyter.widget-view+json": {
       "model_id": "362be7605ddc4a19a8dea42a2095d6aa",
       "version_major": 2,
       "version_minor": 0
      },
      "text/plain": [
       "backward: 0it [00:00, ?it/s]"
      ]
     },
     "metadata": {},
     "output_type": "display_data"
    },
    {
     "data": {
      "application/vnd.jupyter.widget-view+json": {
       "model_id": "af31267019ec43a8aacebfb2e4bf6082",
       "version_major": 2,
       "version_minor": 0
      },
      "text/plain": [
       "backward: 0it [00:00, ?it/s]"
      ]
     },
     "metadata": {},
     "output_type": "display_data"
    },
    {
     "data": {
      "application/vnd.jupyter.widget-view+json": {
       "model_id": "958ffe2d50d941bbb5e5edb85f1171b9",
       "version_major": 2,
       "version_minor": 0
      },
      "text/plain": [
       "backward: 0it [00:00, ?it/s]"
      ]
     },
     "metadata": {},
     "output_type": "display_data"
    },
    {
     "data": {
      "application/vnd.jupyter.widget-view+json": {
       "model_id": "91e21507190d4d8dafc895afeefe6cef",
       "version_major": 2,
       "version_minor": 0
      },
      "text/plain": [
       "forward: 0it [00:00, ?it/s]"
      ]
     },
     "metadata": {},
     "output_type": "display_data"
    },
    {
     "data": {
      "application/vnd.jupyter.widget-view+json": {
       "model_id": "5ad8dbd0c519432f87297581ce3aa647",
       "version_major": 2,
       "version_minor": 0
      },
      "text/plain": [
       "backward: 0it [00:00, ?it/s]"
      ]
     },
     "metadata": {},
     "output_type": "display_data"
    },
    {
     "data": {
      "application/vnd.jupyter.widget-view+json": {
       "model_id": "651a54dff6a24618a85b5e53990ca7bd",
       "version_major": 2,
       "version_minor": 0
      },
      "text/plain": [
       "backward: 0it [00:00, ?it/s]"
      ]
     },
     "metadata": {},
     "output_type": "display_data"
    },
    {
     "name": "stdout",
     "output_type": "stream",
     "text": [
      "scene id 23\n",
      "scene name pedestrian3\n"
     ]
    },
    {
     "data": {
      "application/vnd.jupyter.widget-view+json": {
       "model_id": "d4cc7fec56c1496ea72c3f8d03b90e81",
       "version_major": 2,
       "version_minor": 0
      },
      "text/plain": [
       "forward: 0it [00:00, ?it/s]"
      ]
     },
     "metadata": {},
     "output_type": "display_data"
    },
    {
     "data": {
      "application/vnd.jupyter.widget-view+json": {
       "model_id": "8afdfe5e30d24cc7805507f266204d78",
       "version_major": 2,
       "version_minor": 0
      },
      "text/plain": [
       "backward: 0it [00:00, ?it/s]"
      ]
     },
     "metadata": {},
     "output_type": "display_data"
    },
    {
     "data": {
      "application/vnd.jupyter.widget-view+json": {
       "model_id": "f171d873655846f0a9936dfe7d31a176",
       "version_major": 2,
       "version_minor": 0
      },
      "text/plain": [
       "backward: 0it [00:00, ?it/s]"
      ]
     },
     "metadata": {},
     "output_type": "display_data"
    },
    {
     "data": {
      "application/vnd.jupyter.widget-view+json": {
       "model_id": "be2c094194fe4d36b041ae4f32e89a6e",
       "version_major": 2,
       "version_minor": 0
      },
      "text/plain": [
       "backward: 0it [00:00, ?it/s]"
      ]
     },
     "metadata": {},
     "output_type": "display_data"
    },
    {
     "data": {
      "application/vnd.jupyter.widget-view+json": {
       "model_id": "6ef9c0a348ca479bbe927d94c0cf8f2f",
       "version_major": 2,
       "version_minor": 0
      },
      "text/plain": [
       "forward: 0it [00:00, ?it/s]"
      ]
     },
     "metadata": {},
     "output_type": "display_data"
    },
    {
     "data": {
      "application/vnd.jupyter.widget-view+json": {
       "model_id": "0e8203c3fadd4b7da9345dba1b16a1a0",
       "version_major": 2,
       "version_minor": 0
      },
      "text/plain": [
       "backward: 0it [00:00, ?it/s]"
      ]
     },
     "metadata": {},
     "output_type": "display_data"
    },
    {
     "data": {
      "application/vnd.jupyter.widget-view+json": {
       "model_id": "85e17bdea3d947ecadd128e6129d8bc1",
       "version_major": 2,
       "version_minor": 0
      },
      "text/plain": [
       "backward: 0it [00:00, ?it/s]"
      ]
     },
     "metadata": {},
     "output_type": "display_data"
    },
    {
     "name": "stdout",
     "output_type": "stream",
     "text": [
      "scene id 24\n",
      "scene name whitecup3\n"
     ]
    },
    {
     "data": {
      "application/vnd.jupyter.widget-view+json": {
       "model_id": "722a0d7e57344502a24127b1a7ffdc20",
       "version_major": 2,
       "version_minor": 0
      },
      "text/plain": [
       "forward: 0it [00:00, ?it/s]"
      ]
     },
     "metadata": {},
     "output_type": "display_data"
    },
    {
     "data": {
      "application/vnd.jupyter.widget-view+json": {
       "model_id": "35d34a7455cc44909afa76f234f8ce6a",
       "version_major": 2,
       "version_minor": 0
      },
      "text/plain": [
       "backward: 0it [00:00, ?it/s]"
      ]
     },
     "metadata": {},
     "output_type": "display_data"
    },
    {
     "data": {
      "application/vnd.jupyter.widget-view+json": {
       "model_id": "47dc878e14b24245b7aa688230bb5add",
       "version_major": 2,
       "version_minor": 0
      },
      "text/plain": [
       "backward: 0it [00:00, ?it/s]"
      ]
     },
     "metadata": {},
     "output_type": "display_data"
    },
    {
     "data": {
      "application/vnd.jupyter.widget-view+json": {
       "model_id": "0c5aa55f977b4544997dc58c6cd68800",
       "version_major": 2,
       "version_minor": 0
      },
      "text/plain": [
       "backward: 0it [00:00, ?it/s]"
      ]
     },
     "metadata": {},
     "output_type": "display_data"
    },
    {
     "data": {
      "application/vnd.jupyter.widget-view+json": {
       "model_id": "46d815b4a106459fb71b03668d7b8409",
       "version_major": 2,
       "version_minor": 0
      },
      "text/plain": [
       "forward: 0it [00:00, ?it/s]"
      ]
     },
     "metadata": {},
     "output_type": "display_data"
    },
    {
     "data": {
      "application/vnd.jupyter.widget-view+json": {
       "model_id": "6973ad021c614c5b91e4f4e5f7b0f3e4",
       "version_major": 2,
       "version_minor": 0
      },
      "text/plain": [
       "backward: 0it [00:00, ?it/s]"
      ]
     },
     "metadata": {},
     "output_type": "display_data"
    },
    {
     "data": {
      "application/vnd.jupyter.widget-view+json": {
       "model_id": "bb50abefedd2454b88e508d29be95cbd",
       "version_major": 2,
       "version_minor": 0
      },
      "text/plain": [
       "backward: 0it [00:00, ?it/s]"
      ]
     },
     "metadata": {},
     "output_type": "display_data"
    },
    {
     "data": {
      "application/vnd.jupyter.widget-view+json": {
       "model_id": "9dfe77c9e63f4bed8f2fddcb4396795c",
       "version_major": 2,
       "version_minor": 0
      },
      "text/plain": [
       "forward: 0it [00:00, ?it/s]"
      ]
     },
     "metadata": {},
     "output_type": "display_data"
    },
    {
     "name": "stdout",
     "output_type": "stream",
     "text": [
      "scene id 25\n",
      "scene name rainystreet2\n"
     ]
    },
    {
     "data": {
      "application/vnd.jupyter.widget-view+json": {
       "model_id": "a9c95fb9019e40a09c1070338bf6d553",
       "version_major": 2,
       "version_minor": 0
      },
      "text/plain": [
       "forward: 0it [00:00, ?it/s]"
      ]
     },
     "metadata": {},
     "output_type": "display_data"
    },
    {
     "data": {
      "application/vnd.jupyter.widget-view+json": {
       "model_id": "72c19f8ac4df4f3091c7b22adfb1a21a",
       "version_major": 2,
       "version_minor": 0
      },
      "text/plain": [
       "backward: 0it [00:00, ?it/s]"
      ]
     },
     "metadata": {},
     "output_type": "display_data"
    },
    {
     "data": {
      "application/vnd.jupyter.widget-view+json": {
       "model_id": "316b9087235d437abfd4d8cffd086d81",
       "version_major": 2,
       "version_minor": 0
      },
      "text/plain": [
       "backward: 0it [00:00, ?it/s]"
      ]
     },
     "metadata": {},
     "output_type": "display_data"
    },
    {
     "data": {
      "application/vnd.jupyter.widget-view+json": {
       "model_id": "0e5ab3ec25cf4fe39e58f3a539bca352",
       "version_major": 2,
       "version_minor": 0
      },
      "text/plain": [
       "backward: 0it [00:00, ?it/s]"
      ]
     },
     "metadata": {},
     "output_type": "display_data"
    },
    {
     "data": {
      "application/vnd.jupyter.widget-view+json": {
       "model_id": "8d7d882a5c0347f7a280a510c8a8eaa6",
       "version_major": 2,
       "version_minor": 0
      },
      "text/plain": [
       "backward: 0it [00:00, ?it/s]"
      ]
     },
     "metadata": {},
     "output_type": "display_data"
    },
    {
     "data": {
      "application/vnd.jupyter.widget-view+json": {
       "model_id": "934788921a7343c6b3a3989533a51978",
       "version_major": 2,
       "version_minor": 0
      },
      "text/plain": [
       "forward: 0it [00:00, ?it/s]"
      ]
     },
     "metadata": {},
     "output_type": "display_data"
    },
    {
     "data": {
      "application/vnd.jupyter.widget-view+json": {
       "model_id": "9914821168a84fe8875a3909605e5c51",
       "version_major": 2,
       "version_minor": 0
      },
      "text/plain": [
       "backward: 0it [00:00, ?it/s]"
      ]
     },
     "metadata": {},
     "output_type": "display_data"
    },
    {
     "data": {
      "application/vnd.jupyter.widget-view+json": {
       "model_id": "bf84468c86c44b0ebb31f3f712e4ccfd",
       "version_major": 2,
       "version_minor": 0
      },
      "text/plain": [
       "backward: 0it [00:00, ?it/s]"
      ]
     },
     "metadata": {},
     "output_type": "display_data"
    },
    {
     "name": "stdout",
     "output_type": "stream",
     "text": [
      "scene id 26\n",
      "scene name toy2\n"
     ]
    },
    {
     "data": {
      "application/vnd.jupyter.widget-view+json": {
       "model_id": "5db9bc25900b470aa23e59baa52cd1a7",
       "version_major": 2,
       "version_minor": 0
      },
      "text/plain": [
       "forward: 0it [00:00, ?it/s]"
      ]
     },
     "metadata": {},
     "output_type": "display_data"
    },
    {
     "data": {
      "application/vnd.jupyter.widget-view+json": {
       "model_id": "98d0367e7fa1415895396dd277bc56b3",
       "version_major": 2,
       "version_minor": 0
      },
      "text/plain": [
       "backward: 0it [00:00, ?it/s]"
      ]
     },
     "metadata": {},
     "output_type": "display_data"
    },
    {
     "name": "stdout",
     "output_type": "stream",
     "text": [
      "scene id 27\n",
      "scene name partylights3\n"
     ]
    },
    {
     "data": {
      "application/vnd.jupyter.widget-view+json": {
       "model_id": "9faaf9ea38ee46f99b772dcf8ed17fda",
       "version_major": 2,
       "version_minor": 0
      },
      "text/plain": [
       "forward: 0it [00:00, ?it/s]"
      ]
     },
     "metadata": {},
     "output_type": "display_data"
    },
    {
     "data": {
      "application/vnd.jupyter.widget-view+json": {
       "model_id": "6dcec5dfec1d4433a5ccf9cd42643e35",
       "version_major": 2,
       "version_minor": 0
      },
      "text/plain": [
       "backward: 0it [00:00, ?it/s]"
      ]
     },
     "metadata": {},
     "output_type": "display_data"
    },
    {
     "data": {
      "application/vnd.jupyter.widget-view+json": {
       "model_id": "3eb99f338b8a4821adb07fb35bbe7ec9",
       "version_major": 2,
       "version_minor": 0
      },
      "text/plain": [
       "backward: 0it [00:00, ?it/s]"
      ]
     },
     "metadata": {},
     "output_type": "display_data"
    },
    {
     "data": {
      "application/vnd.jupyter.widget-view+json": {
       "model_id": "85d02266eb454c83becd5b190ff14af0",
       "version_major": 2,
       "version_minor": 0
      },
      "text/plain": [
       "backward: 0it [00:00, ?it/s]"
      ]
     },
     "metadata": {},
     "output_type": "display_data"
    },
    {
     "data": {
      "application/vnd.jupyter.widget-view+json": {
       "model_id": "84cfc6c7014c4cccbe45d2c28769d02f",
       "version_major": 2,
       "version_minor": 0
      },
      "text/plain": [
       "backward: 0it [00:00, ?it/s]"
      ]
     },
     "metadata": {},
     "output_type": "display_data"
    },
    {
     "data": {
      "application/vnd.jupyter.widget-view+json": {
       "model_id": "ec10f3196c4a463eb0443c7d1a22e5c8",
       "version_major": 2,
       "version_minor": 0
      },
      "text/plain": [
       "forward: 0it [00:00, ?it/s]"
      ]
     },
     "metadata": {},
     "output_type": "display_data"
    },
    {
     "data": {
      "application/vnd.jupyter.widget-view+json": {
       "model_id": "26399e9d6c794564bfdac984dfe7fe69",
       "version_major": 2,
       "version_minor": 0
      },
      "text/plain": [
       "backward: 0it [00:00, ?it/s]"
      ]
     },
     "metadata": {},
     "output_type": "display_data"
    },
    {
     "data": {
      "application/vnd.jupyter.widget-view+json": {
       "model_id": "605795ea684642518f1ba248fc4de4a3",
       "version_major": 2,
       "version_minor": 0
      },
      "text/plain": [
       "backward: 0it [00:00, ?it/s]"
      ]
     },
     "metadata": {},
     "output_type": "display_data"
    },
    {
     "data": {
      "application/vnd.jupyter.widget-view+json": {
       "model_id": "f21beaeeaceb48a3a5e4b66535cb2d57",
       "version_major": 2,
       "version_minor": 0
      },
      "text/plain": [
       "backward: 0it [00:00, ?it/s]"
      ]
     },
     "metadata": {},
     "output_type": "display_data"
    },
    {
     "data": {
      "application/vnd.jupyter.widget-view+json": {
       "model_id": "dca61710ffa44b6b8da3e032e84edfa7",
       "version_major": 2,
       "version_minor": 0
      },
      "text/plain": [
       "backward: 0it [00:00, ?it/s]"
      ]
     },
     "metadata": {},
     "output_type": "display_data"
    },
    {
     "name": "stdout",
     "output_type": "stream",
     "text": [
      "scene id 28\n",
      "scene name car8\n"
     ]
    },
    {
     "data": {
      "application/vnd.jupyter.widget-view+json": {
       "model_id": "3abf077a8ce84312af75c141ac4d36fe",
       "version_major": 2,
       "version_minor": 0
      },
      "text/plain": [
       "forward: 0it [00:00, ?it/s]"
      ]
     },
     "metadata": {},
     "output_type": "display_data"
    },
    {
     "data": {
      "application/vnd.jupyter.widget-view+json": {
       "model_id": "884fff55abe24b88acc78aedf9fc4ce0",
       "version_major": 2,
       "version_minor": 0
      },
      "text/plain": [
       "backward: 0it [00:00, ?it/s]"
      ]
     },
     "metadata": {},
     "output_type": "display_data"
    },
    {
     "data": {
      "application/vnd.jupyter.widget-view+json": {
       "model_id": "c533452c7cff4000a620afe8a25e9173",
       "version_major": 2,
       "version_minor": 0
      },
      "text/plain": [
       "backward: 0it [00:00, ?it/s]"
      ]
     },
     "metadata": {},
     "output_type": "display_data"
    },
    {
     "data": {
      "application/vnd.jupyter.widget-view+json": {
       "model_id": "c77d08012aa84b79b5fb2ace38b6cad7",
       "version_major": 2,
       "version_minor": 0
      },
      "text/plain": [
       "backward: 0it [00:00, ?it/s]"
      ]
     },
     "metadata": {},
     "output_type": "display_data"
    },
    {
     "data": {
      "application/vnd.jupyter.widget-view+json": {
       "model_id": "c2c9265992334ab6a6538fca731c566b",
       "version_major": 2,
       "version_minor": 0
      },
      "text/plain": [
       "forward: 0it [00:00, ?it/s]"
      ]
     },
     "metadata": {},
     "output_type": "display_data"
    },
    {
     "data": {
      "application/vnd.jupyter.widget-view+json": {
       "model_id": "e84c486d86634561a6fa99a1aa8d6239",
       "version_major": 2,
       "version_minor": 0
      },
      "text/plain": [
       "backward: 0it [00:00, ?it/s]"
      ]
     },
     "metadata": {},
     "output_type": "display_data"
    },
    {
     "data": {
      "application/vnd.jupyter.widget-view+json": {
       "model_id": "ae560dbe56a64c42adea0a1f5ccb1697",
       "version_major": 2,
       "version_minor": 0
      },
      "text/plain": [
       "backward: 0it [00:00, ?it/s]"
      ]
     },
     "metadata": {},
     "output_type": "display_data"
    },
    {
     "data": {
      "application/vnd.jupyter.widget-view+json": {
       "model_id": "7f9d4878b0f54a0e929eea4997e0b34b",
       "version_major": 2,
       "version_minor": 0
      },
      "text/plain": [
       "forward: 0it [00:00, ?it/s]"
      ]
     },
     "metadata": {},
     "output_type": "display_data"
    },
    {
     "name": "stdout",
     "output_type": "stream",
     "text": [
      "scene id 29\n",
      "scene name car2\n"
     ]
    },
    {
     "data": {
      "application/vnd.jupyter.widget-view+json": {
       "model_id": "f6ed362f4a68433db4f91b9f1c11d3d4",
       "version_major": 2,
       "version_minor": 0
      },
      "text/plain": [
       "forward: 0it [00:00, ?it/s]"
      ]
     },
     "metadata": {},
     "output_type": "display_data"
    },
    {
     "data": {
      "application/vnd.jupyter.widget-view+json": {
       "model_id": "14b61c1341ea4297ad1b9c23f9cfa86a",
       "version_major": 2,
       "version_minor": 0
      },
      "text/plain": [
       "backward: 0it [00:00, ?it/s]"
      ]
     },
     "metadata": {},
     "output_type": "display_data"
    },
    {
     "data": {
      "application/vnd.jupyter.widget-view+json": {
       "model_id": "d1571ce244f2475f8136762e97f36752",
       "version_major": 2,
       "version_minor": 0
      },
      "text/plain": [
       "backward: 0it [00:00, ?it/s]"
      ]
     },
     "metadata": {},
     "output_type": "display_data"
    },
    {
     "data": {
      "application/vnd.jupyter.widget-view+json": {
       "model_id": "a4cffd86eb954098866831957902f602",
       "version_major": 2,
       "version_minor": 0
      },
      "text/plain": [
       "forward: 0it [00:00, ?it/s]"
      ]
     },
     "metadata": {},
     "output_type": "display_data"
    },
    {
     "data": {
      "application/vnd.jupyter.widget-view+json": {
       "model_id": "56c2fa8c83524498a84797bb014c7138",
       "version_major": 2,
       "version_minor": 0
      },
      "text/plain": [
       "backward: 0it [00:00, ?it/s]"
      ]
     },
     "metadata": {},
     "output_type": "display_data"
    },
    {
     "name": "stdout",
     "output_type": "stream",
     "text": [
      "scene id 30\n",
      "scene name pedestrian\n"
     ]
    },
    {
     "data": {
      "application/vnd.jupyter.widget-view+json": {
       "model_id": "f0324fc873dc4b37a1f2b3841e3d390b",
       "version_major": 2,
       "version_minor": 0
      },
      "text/plain": [
       "forward: 0it [00:00, ?it/s]"
      ]
     },
     "metadata": {},
     "output_type": "display_data"
    },
    {
     "data": {
      "application/vnd.jupyter.widget-view+json": {
       "model_id": "eedc9f8b3a454c958f058bad98459d93",
       "version_major": 2,
       "version_minor": 0
      },
      "text/plain": [
       "backward: 0it [00:00, ?it/s]"
      ]
     },
     "metadata": {},
     "output_type": "display_data"
    },
    {
     "data": {
      "application/vnd.jupyter.widget-view+json": {
       "model_id": "861433eb55f24a398943d3622e935f40",
       "version_major": 2,
       "version_minor": 0
      },
      "text/plain": [
       "backward: 0it [00:00, ?it/s]"
      ]
     },
     "metadata": {},
     "output_type": "display_data"
    },
    {
     "data": {
      "application/vnd.jupyter.widget-view+json": {
       "model_id": "9a7030f96fa34855bd0b6132bea1dc92",
       "version_major": 2,
       "version_minor": 0
      },
      "text/plain": [
       "forward: 0it [00:00, ?it/s]"
      ]
     },
     "metadata": {},
     "output_type": "display_data"
    },
    {
     "data": {
      "application/vnd.jupyter.widget-view+json": {
       "model_id": "07f60ac933124921b8aba2efebb7f1c6",
       "version_major": 2,
       "version_minor": 0
      },
      "text/plain": [
       "backward: 0it [00:00, ?it/s]"
      ]
     },
     "metadata": {},
     "output_type": "display_data"
    },
    {
     "data": {
      "application/vnd.jupyter.widget-view+json": {
       "model_id": "5e7d7ce851f8436e8c9308cf05bb7d0d",
       "version_major": 2,
       "version_minor": 0
      },
      "text/plain": [
       "backward: 0it [00:00, ?it/s]"
      ]
     },
     "metadata": {},
     "output_type": "display_data"
    },
    {
     "data": {
      "application/vnd.jupyter.widget-view+json": {
       "model_id": "8f8f85995eea45b88e005aa1d68c4fbe",
       "version_major": 2,
       "version_minor": 0
      },
      "text/plain": [
       "backward: 0it [00:00, ?it/s]"
      ]
     },
     "metadata": {},
     "output_type": "display_data"
    },
    {
     "name": "stdout",
     "output_type": "stream",
     "text": [
      "scene id 31\n",
      "scene name rider2\n"
     ]
    },
    {
     "data": {
      "application/vnd.jupyter.widget-view+json": {
       "model_id": "64452f64fed54a0cbc1dd481fa948334",
       "version_major": 2,
       "version_minor": 0
      },
      "text/plain": [
       "forward: 0it [00:00, ?it/s]"
      ]
     },
     "metadata": {},
     "output_type": "display_data"
    },
    {
     "data": {
      "application/vnd.jupyter.widget-view+json": {
       "model_id": "d11bfbe0969e42d881db1c0b081a2b80",
       "version_major": 2,
       "version_minor": 0
      },
      "text/plain": [
       "backward: 0it [00:00, ?it/s]"
      ]
     },
     "metadata": {},
     "output_type": "display_data"
    },
    {
     "data": {
      "application/vnd.jupyter.widget-view+json": {
       "model_id": "a06f63185b9d41f48720d2615184e166",
       "version_major": 2,
       "version_minor": 0
      },
      "text/plain": [
       "backward: 0it [00:00, ?it/s]"
      ]
     },
     "metadata": {},
     "output_type": "display_data"
    },
    {
     "data": {
      "application/vnd.jupyter.widget-view+json": {
       "model_id": "bcce1a10566d43678fa5168a0070de64",
       "version_major": 2,
       "version_minor": 0
      },
      "text/plain": [
       "forward: 0it [00:00, ?it/s]"
      ]
     },
     "metadata": {},
     "output_type": "display_data"
    },
    {
     "data": {
      "application/vnd.jupyter.widget-view+json": {
       "model_id": "4e9bf1eabe984e27a467600eefd7cbfb",
       "version_major": 2,
       "version_minor": 0
      },
      "text/plain": [
       "backward: 0it [00:00, ?it/s]"
      ]
     },
     "metadata": {},
     "output_type": "display_data"
    },
    {
     "data": {
      "application/vnd.jupyter.widget-view+json": {
       "model_id": "18385ea6dafa4add8a22584ff2de606f",
       "version_major": 2,
       "version_minor": 0
      },
      "text/plain": [
       "backward: 0it [00:00, ?it/s]"
      ]
     },
     "metadata": {},
     "output_type": "display_data"
    },
    {
     "name": "stdout",
     "output_type": "stream",
     "text": [
      "scene id 32\n",
      "scene name taxi\n"
     ]
    },
    {
     "data": {
      "application/vnd.jupyter.widget-view+json": {
       "model_id": "0b747845d614403ab152f047212cca15",
       "version_major": 2,
       "version_minor": 0
      },
      "text/plain": [
       "forward: 0it [00:00, ?it/s]"
      ]
     },
     "metadata": {},
     "output_type": "display_data"
    },
    {
     "data": {
      "application/vnd.jupyter.widget-view+json": {
       "model_id": "181a6e90056f4458b4a835217ab4fd4b",
       "version_major": 2,
       "version_minor": 0
      },
      "text/plain": [
       "backward: 0it [00:00, ?it/s]"
      ]
     },
     "metadata": {},
     "output_type": "display_data"
    },
    {
     "data": {
      "application/vnd.jupyter.widget-view+json": {
       "model_id": "f6e23c636129410db2eff62c142e1cdc",
       "version_major": 2,
       "version_minor": 0
      },
      "text/plain": [
       "backward: 0it [00:00, ?it/s]"
      ]
     },
     "metadata": {},
     "output_type": "display_data"
    },
    {
     "data": {
      "application/vnd.jupyter.widget-view+json": {
       "model_id": "084af4710a9e4703b083079edbebe0be",
       "version_major": 2,
       "version_minor": 0
      },
      "text/plain": [
       "backward: 0it [00:00, ?it/s]"
      ]
     },
     "metadata": {},
     "output_type": "display_data"
    },
    {
     "data": {
      "application/vnd.jupyter.widget-view+json": {
       "model_id": "8b89785e4fc642bcadf9ecfca02d178b",
       "version_major": 2,
       "version_minor": 0
      },
      "text/plain": [
       "backward: 0it [00:00, ?it/s]"
      ]
     },
     "metadata": {},
     "output_type": "display_data"
    },
    {
     "data": {
      "application/vnd.jupyter.widget-view+json": {
       "model_id": "6f660f0742d34b278a7af114fa8305dc",
       "version_major": 2,
       "version_minor": 0
      },
      "text/plain": [
       "forward: 0it [00:00, ?it/s]"
      ]
     },
     "metadata": {},
     "output_type": "display_data"
    },
    {
     "data": {
      "application/vnd.jupyter.widget-view+json": {
       "model_id": "e4b3b73bb42d4f858fb2de5368f6ff4d",
       "version_major": 2,
       "version_minor": 0
      },
      "text/plain": [
       "backward: 0it [00:00, ?it/s]"
      ]
     },
     "metadata": {},
     "output_type": "display_data"
    },
    {
     "data": {
      "application/vnd.jupyter.widget-view+json": {
       "model_id": "faa12555c7de4b4c89beab3c3a149ae9",
       "version_major": 2,
       "version_minor": 0
      },
      "text/plain": [
       "backward: 0it [00:00, ?it/s]"
      ]
     },
     "metadata": {},
     "output_type": "display_data"
    },
    {
     "name": "stdout",
     "output_type": "stream",
     "text": [
      "scene id 33\n",
      "scene name automobile7\n"
     ]
    },
    {
     "data": {
      "application/vnd.jupyter.widget-view+json": {
       "model_id": "3530d03d85714933866b08946718111d",
       "version_major": 2,
       "version_minor": 0
      },
      "text/plain": [
       "forward: 0it [00:00, ?it/s]"
      ]
     },
     "metadata": {},
     "output_type": "display_data"
    },
    {
     "data": {
      "application/vnd.jupyter.widget-view+json": {
       "model_id": "5452d02999ed4ed884c5898ddeb62acd",
       "version_major": 2,
       "version_minor": 0
      },
      "text/plain": [
       "backward: 0it [00:00, ?it/s]"
      ]
     },
     "metadata": {},
     "output_type": "display_data"
    },
    {
     "data": {
      "application/vnd.jupyter.widget-view+json": {
       "model_id": "97ce9f380d3d43a6ac46538e0bcc3ffc",
       "version_major": 2,
       "version_minor": 0
      },
      "text/plain": [
       "backward: 0it [00:00, ?it/s]"
      ]
     },
     "metadata": {},
     "output_type": "display_data"
    },
    {
     "data": {
      "application/vnd.jupyter.widget-view+json": {
       "model_id": "8cff41c4d5d943beabee797461233f23",
       "version_major": 2,
       "version_minor": 0
      },
      "text/plain": [
       "forward: 0it [00:00, ?it/s]"
      ]
     },
     "metadata": {},
     "output_type": "display_data"
    },
    {
     "data": {
      "application/vnd.jupyter.widget-view+json": {
       "model_id": "02a06e30e2a64a709dafa43d80203e2d",
       "version_major": 2,
       "version_minor": 0
      },
      "text/plain": [
       "backward: 0it [00:00, ?it/s]"
      ]
     },
     "metadata": {},
     "output_type": "display_data"
    },
    {
     "name": "stdout",
     "output_type": "stream",
     "text": [
      "scene id 34\n",
      "scene name automobile11\n"
     ]
    },
    {
     "data": {
      "application/vnd.jupyter.widget-view+json": {
       "model_id": "d43d7a7a0258484eb2c87e9fac350b0b",
       "version_major": 2,
       "version_minor": 0
      },
      "text/plain": [
       "forward: 0it [00:00, ?it/s]"
      ]
     },
     "metadata": {},
     "output_type": "display_data"
    },
    {
     "data": {
      "application/vnd.jupyter.widget-view+json": {
       "model_id": "d41816197b2343c6a6e71ccdbe9ba87b",
       "version_major": 2,
       "version_minor": 0
      },
      "text/plain": [
       "backward: 0it [00:00, ?it/s]"
      ]
     },
     "metadata": {},
     "output_type": "display_data"
    },
    {
     "data": {
      "application/vnd.jupyter.widget-view+json": {
       "model_id": "181d27aa9f90423db369d374e7dac3ca",
       "version_major": 2,
       "version_minor": 0
      },
      "text/plain": [
       "backward: 0it [00:00, ?it/s]"
      ]
     },
     "metadata": {},
     "output_type": "display_data"
    },
    {
     "data": {
      "application/vnd.jupyter.widget-view+json": {
       "model_id": "125f4688e9264c9c80ca786228b901c9",
       "version_major": 2,
       "version_minor": 0
      },
      "text/plain": [
       "forward: 0it [00:00, ?it/s]"
      ]
     },
     "metadata": {},
     "output_type": "display_data"
    },
    {
     "data": {
      "application/vnd.jupyter.widget-view+json": {
       "model_id": "afe8036bc2a1429097cc32bcac7e87f6",
       "version_major": 2,
       "version_minor": 0
      },
      "text/plain": [
       "backward: 0it [00:00, ?it/s]"
      ]
     },
     "metadata": {},
     "output_type": "display_data"
    },
    {
     "name": "stdout",
     "output_type": "stream",
     "text": [
      "scene id 35\n",
      "scene name car5\n"
     ]
    },
    {
     "data": {
      "application/vnd.jupyter.widget-view+json": {
       "model_id": "b2fb23428bd64cf1ba0e47a0a2e378ec",
       "version_major": 2,
       "version_minor": 0
      },
      "text/plain": [
       "forward: 0it [00:00, ?it/s]"
      ]
     },
     "metadata": {},
     "output_type": "display_data"
    },
    {
     "data": {
      "application/vnd.jupyter.widget-view+json": {
       "model_id": "c1065645604446ec9f399af271c82f57",
       "version_major": 2,
       "version_minor": 0
      },
      "text/plain": [
       "backward: 0it [00:00, ?it/s]"
      ]
     },
     "metadata": {},
     "output_type": "display_data"
    },
    {
     "data": {
      "application/vnd.jupyter.widget-view+json": {
       "model_id": "c921fa3cb4f44bbab0f1fcdfcf655979",
       "version_major": 2,
       "version_minor": 0
      },
      "text/plain": [
       "backward: 0it [00:00, ?it/s]"
      ]
     },
     "metadata": {},
     "output_type": "display_data"
    },
    {
     "data": {
      "application/vnd.jupyter.widget-view+json": {
       "model_id": "4daf1347836d4a7192559cad7b63ff4b",
       "version_major": 2,
       "version_minor": 0
      },
      "text/plain": [
       "forward: 0it [00:00, ?it/s]"
      ]
     },
     "metadata": {},
     "output_type": "display_data"
    },
    {
     "data": {
      "application/vnd.jupyter.widget-view+json": {
       "model_id": "f2bafd3d207b4664a5d0ef6a5b7cefa6",
       "version_major": 2,
       "version_minor": 0
      },
      "text/plain": [
       "backward: 0it [00:00, ?it/s]"
      ]
     },
     "metadata": {},
     "output_type": "display_data"
    },
    {
     "name": "stdout",
     "output_type": "stream",
     "text": [
      "scene id 36\n",
      "scene name rainystreet5\n"
     ]
    },
    {
     "data": {
      "application/vnd.jupyter.widget-view+json": {
       "model_id": "8e6d18278fb94123bc72662031ceabc6",
       "version_major": 2,
       "version_minor": 0
      },
      "text/plain": [
       "forward: 0it [00:00, ?it/s]"
      ]
     },
     "metadata": {},
     "output_type": "display_data"
    },
    {
     "data": {
      "application/vnd.jupyter.widget-view+json": {
       "model_id": "78a91ac8937245bd98a6922e02df801b",
       "version_major": 2,
       "version_minor": 0
      },
      "text/plain": [
       "backward: 0it [00:00, ?it/s]"
      ]
     },
     "metadata": {},
     "output_type": "display_data"
    },
    {
     "data": {
      "application/vnd.jupyter.widget-view+json": {
       "model_id": "881cca1d2ef34429aa72b670f483d42e",
       "version_major": 2,
       "version_minor": 0
      },
      "text/plain": [
       "backward: 0it [00:00, ?it/s]"
      ]
     },
     "metadata": {},
     "output_type": "display_data"
    },
    {
     "data": {
      "application/vnd.jupyter.widget-view+json": {
       "model_id": "523dc3333a4c48d6b9fa48e2b7abd1ea",
       "version_major": 2,
       "version_minor": 0
      },
      "text/plain": [
       "backward: 0it [00:00, ?it/s]"
      ]
     },
     "metadata": {},
     "output_type": "display_data"
    },
    {
     "data": {
      "application/vnd.jupyter.widget-view+json": {
       "model_id": "97e075c46d96446daa17b52a0e4eeed9",
       "version_major": 2,
       "version_minor": 0
      },
      "text/plain": [
       "forward: 0it [00:00, ?it/s]"
      ]
     },
     "metadata": {},
     "output_type": "display_data"
    },
    {
     "data": {
      "application/vnd.jupyter.widget-view+json": {
       "model_id": "923f7cbd178f43d68eb2ba547e195fe9",
       "version_major": 2,
       "version_minor": 0
      },
      "text/plain": [
       "backward: 0it [00:00, ?it/s]"
      ]
     },
     "metadata": {},
     "output_type": "display_data"
    },
    {
     "data": {
      "application/vnd.jupyter.widget-view+json": {
       "model_id": "12f5a16dc231489f9ca28466319ec840",
       "version_major": 2,
       "version_minor": 0
      },
      "text/plain": [
       "backward: 0it [00:00, ?it/s]"
      ]
     },
     "metadata": {},
     "output_type": "display_data"
    },
    {
     "name": "stdout",
     "output_type": "stream",
     "text": [
      "scene id 37\n",
      "scene name dice1\n"
     ]
    },
    {
     "data": {
      "application/vnd.jupyter.widget-view+json": {
       "model_id": "77492ae4ff6545df88554c492e53d48a",
       "version_major": 2,
       "version_minor": 0
      },
      "text/plain": [
       "forward: 0it [00:00, ?it/s]"
      ]
     },
     "metadata": {},
     "output_type": "display_data"
    },
    {
     "data": {
      "application/vnd.jupyter.widget-view+json": {
       "model_id": "db40ca05a30a441f83e924bdaa7654bd",
       "version_major": 2,
       "version_minor": 0
      },
      "text/plain": [
       "backward: 0it [00:00, ?it/s]"
      ]
     },
     "metadata": {},
     "output_type": "display_data"
    },
    {
     "data": {
      "application/vnd.jupyter.widget-view+json": {
       "model_id": "02efcbcd73ac4abf8126caea983e5bbb",
       "version_major": 2,
       "version_minor": 0
      },
      "text/plain": [
       "backward: 0it [00:00, ?it/s]"
      ]
     },
     "metadata": {},
     "output_type": "display_data"
    },
    {
     "data": {
      "application/vnd.jupyter.widget-view+json": {
       "model_id": "e0d15cc8e76c4a09a6da807ec70ce47f",
       "version_major": 2,
       "version_minor": 0
      },
      "text/plain": [
       "forward: 0it [00:00, ?it/s]"
      ]
     },
     "metadata": {},
     "output_type": "display_data"
    },
    {
     "data": {
      "application/vnd.jupyter.widget-view+json": {
       "model_id": "548056992ce44687aed0f18735615834",
       "version_major": 2,
       "version_minor": 0
      },
      "text/plain": [
       "backward: 0it [00:00, ?it/s]"
      ]
     },
     "metadata": {},
     "output_type": "display_data"
    },
    {
     "name": "stdout",
     "output_type": "stream",
     "text": [
      "scene id 38\n",
      "scene name pedestrian2\n"
     ]
    },
    {
     "data": {
      "application/vnd.jupyter.widget-view+json": {
       "model_id": "441a133f655d4854872e95272388d002",
       "version_major": 2,
       "version_minor": 0
      },
      "text/plain": [
       "forward: 0it [00:00, ?it/s]"
      ]
     },
     "metadata": {},
     "output_type": "display_data"
    },
    {
     "data": {
      "application/vnd.jupyter.widget-view+json": {
       "model_id": "23c8fea38b7847a69868cc619a0ac8d4",
       "version_major": 2,
       "version_minor": 0
      },
      "text/plain": [
       "backward: 0it [00:00, ?it/s]"
      ]
     },
     "metadata": {},
     "output_type": "display_data"
    },
    {
     "data": {
      "application/vnd.jupyter.widget-view+json": {
       "model_id": "785427ee4057437098dd33b340a74f25",
       "version_major": 2,
       "version_minor": 0
      },
      "text/plain": [
       "backward: 0it [00:00, ?it/s]"
      ]
     },
     "metadata": {},
     "output_type": "display_data"
    },
    {
     "data": {
      "application/vnd.jupyter.widget-view+json": {
       "model_id": "44381e0b25334b72a6424949b93434ea",
       "version_major": 2,
       "version_minor": 0
      },
      "text/plain": [
       "backward: 0it [00:00, ?it/s]"
      ]
     },
     "metadata": {},
     "output_type": "display_data"
    },
    {
     "data": {
      "application/vnd.jupyter.widget-view+json": {
       "model_id": "6856b75dd3b446058c0f70678a2c11e0",
       "version_major": 2,
       "version_minor": 0
      },
      "text/plain": [
       "backward: 0it [00:00, ?it/s]"
      ]
     },
     "metadata": {},
     "output_type": "display_data"
    },
    {
     "data": {
      "application/vnd.jupyter.widget-view+json": {
       "model_id": "f999a07bb8d74cb69f6f84809894a1c8",
       "version_major": 2,
       "version_minor": 0
      },
      "text/plain": [
       "forward: 0it [00:00, ?it/s]"
      ]
     },
     "metadata": {},
     "output_type": "display_data"
    },
    {
     "data": {
      "application/vnd.jupyter.widget-view+json": {
       "model_id": "7e271682586f400a99f1578b23bdab03",
       "version_major": 2,
       "version_minor": 0
      },
      "text/plain": [
       "backward: 0it [00:00, ?it/s]"
      ]
     },
     "metadata": {},
     "output_type": "display_data"
    },
    {
     "data": {
      "application/vnd.jupyter.widget-view+json": {
       "model_id": "cc641afcecb54c86ac062387d25c265b",
       "version_major": 2,
       "version_minor": 0
      },
      "text/plain": [
       "backward: 0it [00:00, ?it/s]"
      ]
     },
     "metadata": {},
     "output_type": "display_data"
    },
    {
     "name": "stdout",
     "output_type": "stream",
     "text": [
      "scene id 39\n",
      "scene name bytheriver1\n"
     ]
    },
    {
     "data": {
      "application/vnd.jupyter.widget-view+json": {
       "model_id": "e293444c8f994e639c8307497cb4ac27",
       "version_major": 2,
       "version_minor": 0
      },
      "text/plain": [
       "forward: 0it [00:00, ?it/s]"
      ]
     },
     "metadata": {},
     "output_type": "display_data"
    },
    {
     "data": {
      "application/vnd.jupyter.widget-view+json": {
       "model_id": "b5ee126ad5ca48aea0455e6e6c9ab167",
       "version_major": 2,
       "version_minor": 0
      },
      "text/plain": [
       "backward: 0it [00:00, ?it/s]"
      ]
     },
     "metadata": {},
     "output_type": "display_data"
    },
    {
     "name": "stdout",
     "output_type": "stream",
     "text": [
      "scene id 40\n",
      "scene name car1\n"
     ]
    },
    {
     "data": {
      "application/vnd.jupyter.widget-view+json": {
       "model_id": "9b236f0c53bf437299eb1f445d479508",
       "version_major": 2,
       "version_minor": 0
      },
      "text/plain": [
       "forward: 0it [00:00, ?it/s]"
      ]
     },
     "metadata": {},
     "output_type": "display_data"
    },
    {
     "data": {
      "application/vnd.jupyter.widget-view+json": {
       "model_id": "54c727e1bae34b158326ea6abbc3efff",
       "version_major": 2,
       "version_minor": 0
      },
      "text/plain": [
       "backward: 0it [00:00, ?it/s]"
      ]
     },
     "metadata": {},
     "output_type": "display_data"
    },
    {
     "data": {
      "application/vnd.jupyter.widget-view+json": {
       "model_id": "ea55630c5b5e48c5bde14d5ab99adaa0",
       "version_major": 2,
       "version_minor": 0
      },
      "text/plain": [
       "backward: 0it [00:00, ?it/s]"
      ]
     },
     "metadata": {},
     "output_type": "display_data"
    },
    {
     "data": {
      "application/vnd.jupyter.widget-view+json": {
       "model_id": "b5854b2372ab4946bbf4d184283adcbf",
       "version_major": 2,
       "version_minor": 0
      },
      "text/plain": [
       "forward: 0it [00:00, ?it/s]"
      ]
     },
     "metadata": {},
     "output_type": "display_data"
    },
    {
     "data": {
      "application/vnd.jupyter.widget-view+json": {
       "model_id": "91248ac075dd46f0afcc09289370b9eb",
       "version_major": 2,
       "version_minor": 0
      },
      "text/plain": [
       "backward: 0it [00:00, ?it/s]"
      ]
     },
     "metadata": {},
     "output_type": "display_data"
    },
    {
     "name": "stdout",
     "output_type": "stream",
     "text": [
      "scene id 41\n",
      "scene name automobile4\n"
     ]
    },
    {
     "data": {
      "application/vnd.jupyter.widget-view+json": {
       "model_id": "c1d150bbe1ab462b90a3c73751ef08c2",
       "version_major": 2,
       "version_minor": 0
      },
      "text/plain": [
       "forward: 0it [00:00, ?it/s]"
      ]
     },
     "metadata": {},
     "output_type": "display_data"
    },
    {
     "data": {
      "application/vnd.jupyter.widget-view+json": {
       "model_id": "81e316cbe34740b09459d7fbf2fb74e8",
       "version_major": 2,
       "version_minor": 0
      },
      "text/plain": [
       "backward: 0it [00:00, ?it/s]"
      ]
     },
     "metadata": {},
     "output_type": "display_data"
    },
    {
     "data": {
      "application/vnd.jupyter.widget-view+json": {
       "model_id": "b9985259b7f04f959dbc762a19e77ba7",
       "version_major": 2,
       "version_minor": 0
      },
      "text/plain": [
       "backward: 0it [00:00, ?it/s]"
      ]
     },
     "metadata": {},
     "output_type": "display_data"
    },
    {
     "data": {
      "application/vnd.jupyter.widget-view+json": {
       "model_id": "4db473803ec441379f05632b47f2fd95",
       "version_major": 2,
       "version_minor": 0
      },
      "text/plain": [
       "forward: 0it [00:00, ?it/s]"
      ]
     },
     "metadata": {},
     "output_type": "display_data"
    },
    {
     "data": {
      "application/vnd.jupyter.widget-view+json": {
       "model_id": "3ff98744b80e46f99ac8c6b53dd1b14d",
       "version_major": 2,
       "version_minor": 0
      },
      "text/plain": [
       "backward: 0it [00:00, ?it/s]"
      ]
     },
     "metadata": {},
     "output_type": "display_data"
    },
    {
     "name": "stdout",
     "output_type": "stream",
     "text": [
      "scene id 42\n",
      "scene name rider1\n"
     ]
    },
    {
     "data": {
      "application/vnd.jupyter.widget-view+json": {
       "model_id": "e7aca005ee84445ab0f028e7cf240e8a",
       "version_major": 2,
       "version_minor": 0
      },
      "text/plain": [
       "forward: 0it [00:00, ?it/s]"
      ]
     },
     "metadata": {},
     "output_type": "display_data"
    },
    {
     "data": {
      "application/vnd.jupyter.widget-view+json": {
       "model_id": "1eb41b84db2e44d6bea8c64fc81ff907",
       "version_major": 2,
       "version_minor": 0
      },
      "text/plain": [
       "backward: 0it [00:00, ?it/s]"
      ]
     },
     "metadata": {},
     "output_type": "display_data"
    },
    {
     "name": "stdout",
     "output_type": "stream",
     "text": [
      "scene id 43\n",
      "scene name ball&mirror7\n"
     ]
    },
    {
     "data": {
      "application/vnd.jupyter.widget-view+json": {
       "model_id": "abbb0b3a2e39498fbacfc6a309f6ace5",
       "version_major": 2,
       "version_minor": 0
      },
      "text/plain": [
       "forward: 0it [00:00, ?it/s]"
      ]
     },
     "metadata": {},
     "output_type": "display_data"
    },
    {
     "data": {
      "application/vnd.jupyter.widget-view+json": {
       "model_id": "536b6026fc5d4af385fb8c9cb0384051",
       "version_major": 2,
       "version_minor": 0
      },
      "text/plain": [
       "backward: 0it [00:00, ?it/s]"
      ]
     },
     "metadata": {},
     "output_type": "display_data"
    },
    {
     "data": {
      "application/vnd.jupyter.widget-view+json": {
       "model_id": "c90307c4464a42d8b11d3be3da5f005b",
       "version_major": 2,
       "version_minor": 0
      },
      "text/plain": [
       "backward: 0it [00:00, ?it/s]"
      ]
     },
     "metadata": {},
     "output_type": "display_data"
    },
    {
     "data": {
      "application/vnd.jupyter.widget-view+json": {
       "model_id": "a7ffa95b30114e19a06719a6f48df113",
       "version_major": 2,
       "version_minor": 0
      },
      "text/plain": [
       "forward: 0it [00:00, ?it/s]"
      ]
     },
     "metadata": {},
     "output_type": "display_data"
    },
    {
     "data": {
      "application/vnd.jupyter.widget-view+json": {
       "model_id": "736fca9d7f2942a1b05cbc7da084e2a7",
       "version_major": 2,
       "version_minor": 0
      },
      "text/plain": [
       "backward: 0it [00:00, ?it/s]"
      ]
     },
     "metadata": {},
     "output_type": "display_data"
    },
    {
     "name": "stdout",
     "output_type": "stream",
     "text": [
      "scene id 44\n",
      "scene name automobile12\n"
     ]
    },
    {
     "data": {
      "application/vnd.jupyter.widget-view+json": {
       "model_id": "20ab4452d56d4b1ba60e9d4105b9ec32",
       "version_major": 2,
       "version_minor": 0
      },
      "text/plain": [
       "forward: 0it [00:00, ?it/s]"
      ]
     },
     "metadata": {},
     "output_type": "display_data"
    },
    {
     "data": {
      "application/vnd.jupyter.widget-view+json": {
       "model_id": "79a321f556b54b91ac5ac34073fa9e1f",
       "version_major": 2,
       "version_minor": 0
      },
      "text/plain": [
       "backward: 0it [00:00, ?it/s]"
      ]
     },
     "metadata": {},
     "output_type": "display_data"
    },
    {
     "name": "stdout",
     "output_type": "stream",
     "text": [
      "scene id 45\n",
      "scene name automobile3\n"
     ]
    },
    {
     "data": {
      "application/vnd.jupyter.widget-view+json": {
       "model_id": "1b8713f761bf4bee8dbf88982253b0ce",
       "version_major": 2,
       "version_minor": 0
      },
      "text/plain": [
       "forward: 0it [00:00, ?it/s]"
      ]
     },
     "metadata": {},
     "output_type": "display_data"
    },
    {
     "data": {
      "application/vnd.jupyter.widget-view+json": {
       "model_id": "8500377fc1bb4555a63f90b60d540541",
       "version_major": 2,
       "version_minor": 0
      },
      "text/plain": [
       "backward: 0it [00:00, ?it/s]"
      ]
     },
     "metadata": {},
     "output_type": "display_data"
    },
    {
     "data": {
      "application/vnd.jupyter.widget-view+json": {
       "model_id": "e835e93704d14c7bbc092c28fe7e3912",
       "version_major": 2,
       "version_minor": 0
      },
      "text/plain": [
       "backward: 0it [00:00, ?it/s]"
      ]
     },
     "metadata": {},
     "output_type": "display_data"
    },
    {
     "data": {
      "application/vnd.jupyter.widget-view+json": {
       "model_id": "e5063da5b3ca414b8081c671fc40db91",
       "version_major": 2,
       "version_minor": 0
      },
      "text/plain": [
       "backward: 0it [00:00, ?it/s]"
      ]
     },
     "metadata": {},
     "output_type": "display_data"
    },
    {
     "data": {
      "application/vnd.jupyter.widget-view+json": {
       "model_id": "5c03014932674768a0b1ad58ef1267fe",
       "version_major": 2,
       "version_minor": 0
      },
      "text/plain": [
       "forward: 0it [00:00, ?it/s]"
      ]
     },
     "metadata": {},
     "output_type": "display_data"
    },
    {
     "data": {
      "application/vnd.jupyter.widget-view+json": {
       "model_id": "80ee4f52be684837b072f1ded2676d81",
       "version_major": 2,
       "version_minor": 0
      },
      "text/plain": [
       "backward: 0it [00:00, ?it/s]"
      ]
     },
     "metadata": {},
     "output_type": "display_data"
    },
    {
     "data": {
      "application/vnd.jupyter.widget-view+json": {
       "model_id": "f7ae9cc731a64759a739e0b71fcc971f",
       "version_major": 2,
       "version_minor": 0
      },
      "text/plain": [
       "backward: 0it [00:00, ?it/s]"
      ]
     },
     "metadata": {},
     "output_type": "display_data"
    },
    {
     "name": "stdout",
     "output_type": "stream",
     "text": [
      "scene id 46\n",
      "scene name duck3\n"
     ]
    },
    {
     "data": {
      "application/vnd.jupyter.widget-view+json": {
       "model_id": "1945544e3550408eaf78af4d469011e2",
       "version_major": 2,
       "version_minor": 0
      },
      "text/plain": [
       "forward: 0it [00:00, ?it/s]"
      ]
     },
     "metadata": {},
     "output_type": "display_data"
    },
    {
     "data": {
      "application/vnd.jupyter.widget-view+json": {
       "model_id": "3a18dbcdd2414a2080e81c7cfd6ce35e",
       "version_major": 2,
       "version_minor": 0
      },
      "text/plain": [
       "backward: 0it [00:00, ?it/s]"
      ]
     },
     "metadata": {},
     "output_type": "display_data"
    },
    {
     "data": {
      "application/vnd.jupyter.widget-view+json": {
       "model_id": "d563f6a1e2914f78a6a9f7016d4aa23d",
       "version_major": 2,
       "version_minor": 0
      },
      "text/plain": [
       "backward: 0it [00:00, ?it/s]"
      ]
     },
     "metadata": {},
     "output_type": "display_data"
    },
    {
     "data": {
      "application/vnd.jupyter.widget-view+json": {
       "model_id": "c818b9c6f637492f90dfa1618a713777",
       "version_major": 2,
       "version_minor": 0
      },
      "text/plain": [
       "forward: 0it [00:00, ?it/s]"
      ]
     },
     "metadata": {},
     "output_type": "display_data"
    },
    {
     "data": {
      "application/vnd.jupyter.widget-view+json": {
       "model_id": "d02bddd35c504300b443ee51a81cd930",
       "version_major": 2,
       "version_minor": 0
      },
      "text/plain": [
       "backward: 0it [00:00, ?it/s]"
      ]
     },
     "metadata": {},
     "output_type": "display_data"
    },
    {
     "name": "stdout",
     "output_type": "stream",
     "text": [
      "scene id 47\n",
      "scene name automobile9\n"
     ]
    },
    {
     "data": {
      "application/vnd.jupyter.widget-view+json": {
       "model_id": "619b4a1489b14e05a6d3b38bb9d3cd6f",
       "version_major": 2,
       "version_minor": 0
      },
      "text/plain": [
       "forward: 0it [00:00, ?it/s]"
      ]
     },
     "metadata": {},
     "output_type": "display_data"
    },
    {
     "data": {
      "application/vnd.jupyter.widget-view+json": {
       "model_id": "3ae88b77e80e4ca4ac6fcc0a92727652",
       "version_major": 2,
       "version_minor": 0
      },
      "text/plain": [
       "backward: 0it [00:00, ?it/s]"
      ]
     },
     "metadata": {},
     "output_type": "display_data"
    },
    {
     "data": {
      "application/vnd.jupyter.widget-view+json": {
       "model_id": "7ebc9600429d4f83b748fbe638662dbf",
       "version_major": 2,
       "version_minor": 0
      },
      "text/plain": [
       "backward: 0it [00:00, ?it/s]"
      ]
     },
     "metadata": {},
     "output_type": "display_data"
    },
    {
     "data": {
      "application/vnd.jupyter.widget-view+json": {
       "model_id": "487065df08184b188ecabe6707bb7e26",
       "version_major": 2,
       "version_minor": 0
      },
      "text/plain": [
       "forward: 0it [00:00, ?it/s]"
      ]
     },
     "metadata": {},
     "output_type": "display_data"
    },
    {
     "data": {
      "application/vnd.jupyter.widget-view+json": {
       "model_id": "9724530b662640dc80b276302a393578",
       "version_major": 2,
       "version_minor": 0
      },
      "text/plain": [
       "backward: 0it [00:00, ?it/s]"
      ]
     },
     "metadata": {},
     "output_type": "display_data"
    },
    {
     "name": "stdout",
     "output_type": "stream",
     "text": [
      "scene id 48\n",
      "scene name car6\n"
     ]
    },
    {
     "data": {
      "application/vnd.jupyter.widget-view+json": {
       "model_id": "911ab66053384e53b41241a580acdeb3",
       "version_major": 2,
       "version_minor": 0
      },
      "text/plain": [
       "forward: 0it [00:00, ?it/s]"
      ]
     },
     "metadata": {},
     "output_type": "display_data"
    },
    {
     "data": {
      "application/vnd.jupyter.widget-view+json": {
       "model_id": "7a7e0d1dd87b41ea82d8b0214f37a508",
       "version_major": 2,
       "version_minor": 0
      },
      "text/plain": [
       "backward: 0it [00:00, ?it/s]"
      ]
     },
     "metadata": {},
     "output_type": "display_data"
    },
    {
     "data": {
      "application/vnd.jupyter.widget-view+json": {
       "model_id": "3643f4f5700045a8945d700fde762ca8",
       "version_major": 2,
       "version_minor": 0
      },
      "text/plain": [
       "backward: 0it [00:00, ?it/s]"
      ]
     },
     "metadata": {},
     "output_type": "display_data"
    },
    {
     "data": {
      "application/vnd.jupyter.widget-view+json": {
       "model_id": "ee6ea6803f014a61b6ec79f4f8d3398b",
       "version_major": 2,
       "version_minor": 0
      },
      "text/plain": [
       "backward: 0it [00:00, ?it/s]"
      ]
     },
     "metadata": {},
     "output_type": "display_data"
    },
    {
     "data": {
      "application/vnd.jupyter.widget-view+json": {
       "model_id": "d5bdb5b9434342f5b51dc1b310eddc50",
       "version_major": 2,
       "version_minor": 0
      },
      "text/plain": [
       "forward: 0it [00:00, ?it/s]"
      ]
     },
     "metadata": {},
     "output_type": "display_data"
    },
    {
     "data": {
      "application/vnd.jupyter.widget-view+json": {
       "model_id": "805b5f70ddc54c51b63eeae08f6a5552",
       "version_major": 2,
       "version_minor": 0
      },
      "text/plain": [
       "backward: 0it [00:00, ?it/s]"
      ]
     },
     "metadata": {},
     "output_type": "display_data"
    },
    {
     "data": {
      "application/vnd.jupyter.widget-view+json": {
       "model_id": "ed6bbda9d6fc442491e3e058c92de420",
       "version_major": 2,
       "version_minor": 0
      },
      "text/plain": [
       "backward: 0it [00:00, ?it/s]"
      ]
     },
     "metadata": {},
     "output_type": "display_data"
    },
    {
     "name": "stdout",
     "output_type": "stream",
     "text": [
      "scene id 49\n",
      "scene name cloth1\n"
     ]
    },
    {
     "data": {
      "application/vnd.jupyter.widget-view+json": {
       "model_id": "56df67e451a04edabfae1e5013029eed",
       "version_major": 2,
       "version_minor": 0
      },
      "text/plain": [
       "forward: 0it [00:00, ?it/s]"
      ]
     },
     "metadata": {},
     "output_type": "display_data"
    },
    {
     "data": {
      "application/vnd.jupyter.widget-view+json": {
       "model_id": "ff2945e037384d649ad8efbcd55de2a7",
       "version_major": 2,
       "version_minor": 0
      },
      "text/plain": [
       "backward: 0it [00:00, ?it/s]"
      ]
     },
     "metadata": {},
     "output_type": "display_data"
    },
    {
     "name": "stdout",
     "output_type": "stream",
     "text": [
      "scene id 50\n",
      "scene name basketball\n"
     ]
    },
    {
     "data": {
      "application/vnd.jupyter.widget-view+json": {
       "model_id": "ece29c9791b547d3a9d7b906795c487e",
       "version_major": 2,
       "version_minor": 0
      },
      "text/plain": [
       "forward: 0it [00:00, ?it/s]"
      ]
     },
     "metadata": {},
     "output_type": "display_data"
    },
    {
     "data": {
      "application/vnd.jupyter.widget-view+json": {
       "model_id": "6169baacd4c04f4d8c31f12a98b4bc01",
       "version_major": 2,
       "version_minor": 0
      },
      "text/plain": [
       "backward: 0it [00:00, ?it/s]"
      ]
     },
     "metadata": {},
     "output_type": "display_data"
    },
    {
     "data": {
      "application/vnd.jupyter.widget-view+json": {
       "model_id": "c232c2c081b145259508a609a44aa5f2",
       "version_major": 2,
       "version_minor": 0
      },
      "text/plain": [
       "backward: 0it [00:00, ?it/s]"
      ]
     },
     "metadata": {},
     "output_type": "display_data"
    },
    {
     "data": {
      "application/vnd.jupyter.widget-view+json": {
       "model_id": "7423d84bff024fa6947915916cf469ac",
       "version_major": 2,
       "version_minor": 0
      },
      "text/plain": [
       "backward: 0it [00:00, ?it/s]"
      ]
     },
     "metadata": {},
     "output_type": "display_data"
    },
    {
     "data": {
      "application/vnd.jupyter.widget-view+json": {
       "model_id": "32015152a3374b1b86ae2e418a5ec321",
       "version_major": 2,
       "version_minor": 0
      },
      "text/plain": [
       "backward: 0it [00:00, ?it/s]"
      ]
     },
     "metadata": {},
     "output_type": "display_data"
    },
    {
     "data": {
      "application/vnd.jupyter.widget-view+json": {
       "model_id": "d4e8042850214b48bde5ada973483ff0",
       "version_major": 2,
       "version_minor": 0
      },
      "text/plain": [
       "backward: 0it [00:00, ?it/s]"
      ]
     },
     "metadata": {},
     "output_type": "display_data"
    },
    {
     "data": {
      "application/vnd.jupyter.widget-view+json": {
       "model_id": "56d539c4ad5b4c10b007cc38c1f00815",
       "version_major": 2,
       "version_minor": 0
      },
      "text/plain": [
       "forward: 0it [00:00, ?it/s]"
      ]
     },
     "metadata": {},
     "output_type": "display_data"
    },
    {
     "data": {
      "application/vnd.jupyter.widget-view+json": {
       "model_id": "ad1a0eeecf674f6fbebb5ad3305731ee",
       "version_major": 2,
       "version_minor": 0
      },
      "text/plain": [
       "backward: 0it [00:00, ?it/s]"
      ]
     },
     "metadata": {},
     "output_type": "display_data"
    },
    {
     "data": {
      "application/vnd.jupyter.widget-view+json": {
       "model_id": "a61192819c5744119dd1ac02b42801c7",
       "version_major": 2,
       "version_minor": 0
      },
      "text/plain": [
       "backward: 0it [00:00, ?it/s]"
      ]
     },
     "metadata": {},
     "output_type": "display_data"
    },
    {
     "data": {
      "application/vnd.jupyter.widget-view+json": {
       "model_id": "a9f21ca771b848e0995af9d8195a938e",
       "version_major": 2,
       "version_minor": 0
      },
      "text/plain": [
       "backward: 0it [00:00, ?it/s]"
      ]
     },
     "metadata": {},
     "output_type": "display_data"
    },
    {
     "data": {
      "application/vnd.jupyter.widget-view+json": {
       "model_id": "726bf4bbf71546889bc9f4a197a592f2",
       "version_major": 2,
       "version_minor": 0
      },
      "text/plain": [
       "backward: 0it [00:00, ?it/s]"
      ]
     },
     "metadata": {},
     "output_type": "display_data"
    },
    {
     "data": {
      "application/vnd.jupyter.widget-view+json": {
       "model_id": "8c8980a26bd54c9f8cb5d30408c7ac5f",
       "version_major": 2,
       "version_minor": 0
      },
      "text/plain": [
       "backward: 0it [00:00, ?it/s]"
      ]
     },
     "metadata": {},
     "output_type": "display_data"
    },
    {
     "data": {
      "application/vnd.jupyter.widget-view+json": {
       "model_id": "572558621c5145dfa70264b488bab5fe",
       "version_major": 2,
       "version_minor": 0
      },
      "text/plain": [
       "forward: 0it [00:00, ?it/s]"
      ]
     },
     "metadata": {},
     "output_type": "display_data"
    },
    {
     "name": "stdout",
     "output_type": "stream",
     "text": [
      "scene id 51\n",
      "scene name toy\n"
     ]
    },
    {
     "data": {
      "application/vnd.jupyter.widget-view+json": {
       "model_id": "1eefc63828ec412d8ac5e4b920075886",
       "version_major": 2,
       "version_minor": 0
      },
      "text/plain": [
       "forward: 0it [00:00, ?it/s]"
      ]
     },
     "metadata": {},
     "output_type": "display_data"
    },
    {
     "data": {
      "application/vnd.jupyter.widget-view+json": {
       "model_id": "7628b9a79187431ca14e82881429238b",
       "version_major": 2,
       "version_minor": 0
      },
      "text/plain": [
       "backward: 0it [00:00, ?it/s]"
      ]
     },
     "metadata": {},
     "output_type": "display_data"
    },
    {
     "data": {
      "application/vnd.jupyter.widget-view+json": {
       "model_id": "002f06a49b54437f87b241b00210ee5c",
       "version_major": 2,
       "version_minor": 0
      },
      "text/plain": [
       "backward: 0it [00:00, ?it/s]"
      ]
     },
     "metadata": {},
     "output_type": "display_data"
    },
    {
     "data": {
      "application/vnd.jupyter.widget-view+json": {
       "model_id": "8505780c863147efbb7acca2e1348be9",
       "version_major": 2,
       "version_minor": 0
      },
      "text/plain": [
       "backward: 0it [00:00, ?it/s]"
      ]
     },
     "metadata": {},
     "output_type": "display_data"
    },
    {
     "data": {
      "application/vnd.jupyter.widget-view+json": {
       "model_id": "f9adf7238f714eb5ab34009388fe4f42",
       "version_major": 2,
       "version_minor": 0
      },
      "text/plain": [
       "backward: 0it [00:00, ?it/s]"
      ]
     },
     "metadata": {},
     "output_type": "display_data"
    },
    {
     "data": {
      "application/vnd.jupyter.widget-view+json": {
       "model_id": "ff14d18cae5c4b3c8a74fbe1013a69ff",
       "version_major": 2,
       "version_minor": 0
      },
      "text/plain": [
       "forward: 0it [00:00, ?it/s]"
      ]
     },
     "metadata": {},
     "output_type": "display_data"
    },
    {
     "data": {
      "application/vnd.jupyter.widget-view+json": {
       "model_id": "b587817f640244b198faa264f87ef340",
       "version_major": 2,
       "version_minor": 0
      },
      "text/plain": [
       "backward: 0it [00:00, ?it/s]"
      ]
     },
     "metadata": {},
     "output_type": "display_data"
    },
    {
     "data": {
      "application/vnd.jupyter.widget-view+json": {
       "model_id": "9f70353ff2ba4d70b33237297064fe63",
       "version_major": 2,
       "version_minor": 0
      },
      "text/plain": [
       "backward: 0it [00:00, ?it/s]"
      ]
     },
     "metadata": {},
     "output_type": "display_data"
    },
    {
     "data": {
      "application/vnd.jupyter.widget-view+json": {
       "model_id": "9c3200a1113a419b8606dbb0d25b6f09",
       "version_major": 2,
       "version_minor": 0
      },
      "text/plain": [
       "backward: 0it [00:00, ?it/s]"
      ]
     },
     "metadata": {},
     "output_type": "display_data"
    },
    {
     "data": {
      "application/vnd.jupyter.widget-view+json": {
       "model_id": "0331017af8ae44c0906d9d2ea2d9bd82",
       "version_major": 2,
       "version_minor": 0
      },
      "text/plain": [
       "forward: 0it [00:00, ?it/s]"
      ]
     },
     "metadata": {},
     "output_type": "display_data"
    },
    {
     "name": "stdout",
     "output_type": "stream",
     "text": [
      "scene id 52\n",
      "scene name bus2\n"
     ]
    },
    {
     "data": {
      "application/vnd.jupyter.widget-view+json": {
       "model_id": "fbdb9a11115d4481b155f7fdfcec3d06",
       "version_major": 2,
       "version_minor": 0
      },
      "text/plain": [
       "forward: 0it [00:00, ?it/s]"
      ]
     },
     "metadata": {},
     "output_type": "display_data"
    },
    {
     "data": {
      "application/vnd.jupyter.widget-view+json": {
       "model_id": "32cff1b66bfa4c76ae5bc3631e776a2c",
       "version_major": 2,
       "version_minor": 0
      },
      "text/plain": [
       "backward: 0it [00:00, ?it/s]"
      ]
     },
     "metadata": {},
     "output_type": "display_data"
    },
    {
     "data": {
      "application/vnd.jupyter.widget-view+json": {
       "model_id": "66fc5b38f0524302ad9f6042f2f2161b",
       "version_major": 2,
       "version_minor": 0
      },
      "text/plain": [
       "backward: 0it [00:00, ?it/s]"
      ]
     },
     "metadata": {},
     "output_type": "display_data"
    },
    {
     "data": {
      "application/vnd.jupyter.widget-view+json": {
       "model_id": "964d50f9b8bc4245a6b33dad2f2afdd4",
       "version_major": 2,
       "version_minor": 0
      },
      "text/plain": [
       "backward: 0it [00:00, ?it/s]"
      ]
     },
     "metadata": {},
     "output_type": "display_data"
    },
    {
     "data": {
      "application/vnd.jupyter.widget-view+json": {
       "model_id": "5d541633fbbd409292030dfa3a6e4bc5",
       "version_major": 2,
       "version_minor": 0
      },
      "text/plain": [
       "forward: 0it [00:00, ?it/s]"
      ]
     },
     "metadata": {},
     "output_type": "display_data"
    },
    {
     "data": {
      "application/vnd.jupyter.widget-view+json": {
       "model_id": "c79d1a4d923a44db9a74814b1601ad23",
       "version_major": 2,
       "version_minor": 0
      },
      "text/plain": [
       "backward: 0it [00:00, ?it/s]"
      ]
     },
     "metadata": {},
     "output_type": "display_data"
    },
    {
     "data": {
      "application/vnd.jupyter.widget-view+json": {
       "model_id": "6df791c81d6149ac98b471678c5b59ca",
       "version_major": 2,
       "version_minor": 0
      },
      "text/plain": [
       "backward: 0it [00:00, ?it/s]"
      ]
     },
     "metadata": {},
     "output_type": "display_data"
    },
    {
     "data": {
      "application/vnd.jupyter.widget-view+json": {
       "model_id": "ec62618a57c74b918b90efc326c0a32d",
       "version_major": 2,
       "version_minor": 0
      },
      "text/plain": [
       "forward: 0it [00:00, ?it/s]"
      ]
     },
     "metadata": {},
     "output_type": "display_data"
    },
    {
     "name": "stdout",
     "output_type": "stream",
     "text": [
      "scene id 53\n",
      "scene name kangaroo\n"
     ]
    },
    {
     "data": {
      "application/vnd.jupyter.widget-view+json": {
       "model_id": "a1de8a18d9804b25ad7ea072b85ac3c1",
       "version_major": 2,
       "version_minor": 0
      },
      "text/plain": [
       "forward: 0it [00:00, ?it/s]"
      ]
     },
     "metadata": {},
     "output_type": "display_data"
    },
    {
     "data": {
      "application/vnd.jupyter.widget-view+json": {
       "model_id": "751deb2d8efd4bb8b3e3a60c8a043f70",
       "version_major": 2,
       "version_minor": 0
      },
      "text/plain": [
       "backward: 0it [00:00, ?it/s]"
      ]
     },
     "metadata": {},
     "output_type": "display_data"
    },
    {
     "data": {
      "application/vnd.jupyter.widget-view+json": {
       "model_id": "00a34957da8b4cfe842e56e86738bb93",
       "version_major": 2,
       "version_minor": 0
      },
      "text/plain": [
       "backward: 0it [00:00, ?it/s]"
      ]
     },
     "metadata": {},
     "output_type": "display_data"
    },
    {
     "data": {
      "application/vnd.jupyter.widget-view+json": {
       "model_id": "20fb361a5bb74e6ebfeb2a801b1e67bb",
       "version_major": 2,
       "version_minor": 0
      },
      "text/plain": [
       "forward: 0it [00:00, ?it/s]"
      ]
     },
     "metadata": {},
     "output_type": "display_data"
    },
    {
     "data": {
      "application/vnd.jupyter.widget-view+json": {
       "model_id": "ab122910e61049b7bb7c863f9834affc",
       "version_major": 2,
       "version_minor": 0
      },
      "text/plain": [
       "backward: 0it [00:00, ?it/s]"
      ]
     },
     "metadata": {},
     "output_type": "display_data"
    },
    {
     "name": "stdout",
     "output_type": "stream",
     "text": [
      "scene id 54\n",
      "scene name receipts3\n"
     ]
    },
    {
     "data": {
      "application/vnd.jupyter.widget-view+json": {
       "model_id": "0f06da462a1348a79472dbb2e9a0ee9e",
       "version_major": 2,
       "version_minor": 0
      },
      "text/plain": [
       "forward: 0it [00:00, ?it/s]"
      ]
     },
     "metadata": {},
     "output_type": "display_data"
    },
    {
     "data": {
      "application/vnd.jupyter.widget-view+json": {
       "model_id": "73062d95737f40e1a3f4d905cf0c691e",
       "version_major": 2,
       "version_minor": 0
      },
      "text/plain": [
       "backward: 0it [00:00, ?it/s]"
      ]
     },
     "metadata": {},
     "output_type": "display_data"
    },
    {
     "data": {
      "application/vnd.jupyter.widget-view+json": {
       "model_id": "7f698e25f31045af9d9660d43a36de33",
       "version_major": 2,
       "version_minor": 0
      },
      "text/plain": [
       "backward: 0it [00:00, ?it/s]"
      ]
     },
     "metadata": {},
     "output_type": "display_data"
    },
    {
     "data": {
      "application/vnd.jupyter.widget-view+json": {
       "model_id": "3c4829d103a7444bbabf828f0fc0110d",
       "version_major": 2,
       "version_minor": 0
      },
      "text/plain": [
       "backward: 0it [00:00, ?it/s]"
      ]
     },
     "metadata": {},
     "output_type": "display_data"
    },
    {
     "data": {
      "application/vnd.jupyter.widget-view+json": {
       "model_id": "c263b45f10254778af8a583794da8bd6",
       "version_major": 2,
       "version_minor": 0
      },
      "text/plain": [
       "forward: 0it [00:00, ?it/s]"
      ]
     },
     "metadata": {},
     "output_type": "display_data"
    },
    {
     "data": {
      "application/vnd.jupyter.widget-view+json": {
       "model_id": "7fe89ac79bed4217ade625693a42e387",
       "version_major": 2,
       "version_minor": 0
      },
      "text/plain": [
       "backward: 0it [00:00, ?it/s]"
      ]
     },
     "metadata": {},
     "output_type": "display_data"
    },
    {
     "data": {
      "application/vnd.jupyter.widget-view+json": {
       "model_id": "1dd06ae62b414082a0f1cc597f7cc6a3",
       "version_major": 2,
       "version_minor": 0
      },
      "text/plain": [
       "backward: 0it [00:00, ?it/s]"
      ]
     },
     "metadata": {},
     "output_type": "display_data"
    },
    {
     "data": {
      "application/vnd.jupyter.widget-view+json": {
       "model_id": "33d7eacba4974cc6a08346c3f31497ae",
       "version_major": 2,
       "version_minor": 0
      },
      "text/plain": [
       "forward: 0it [00:00, ?it/s]"
      ]
     },
     "metadata": {},
     "output_type": "display_data"
    },
    {
     "name": "stdout",
     "output_type": "stream",
     "text": [
      "scene id 55\n",
      "scene name car22\n"
     ]
    },
    {
     "data": {
      "application/vnd.jupyter.widget-view+json": {
       "model_id": "3f6d0634cbca47468b7de8d7851484f7",
       "version_major": 2,
       "version_minor": 0
      },
      "text/plain": [
       "forward: 0it [00:00, ?it/s]"
      ]
     },
     "metadata": {},
     "output_type": "display_data"
    },
    {
     "data": {
      "application/vnd.jupyter.widget-view+json": {
       "model_id": "cea69db4a45f45d3a84129b368cad3a4",
       "version_major": 2,
       "version_minor": 0
      },
      "text/plain": [
       "backward: 0it [00:00, ?it/s]"
      ]
     },
     "metadata": {},
     "output_type": "display_data"
    },
    {
     "name": "stdout",
     "output_type": "stream",
     "text": [
      "scene id 56\n",
      "scene name car28\n"
     ]
    },
    {
     "data": {
      "application/vnd.jupyter.widget-view+json": {
       "model_id": "b1055ae9b2df4c399904a07a379c74f0",
       "version_major": 2,
       "version_minor": 0
      },
      "text/plain": [
       "forward: 0it [00:00, ?it/s]"
      ]
     },
     "metadata": {},
     "output_type": "display_data"
    },
    {
     "data": {
      "application/vnd.jupyter.widget-view+json": {
       "model_id": "4ed8c8a802904b56a5df5c81f4db591e",
       "version_major": 2,
       "version_minor": 0
      },
      "text/plain": [
       "backward: 0it [00:00, ?it/s]"
      ]
     },
     "metadata": {},
     "output_type": "display_data"
    },
    {
     "data": {
      "application/vnd.jupyter.widget-view+json": {
       "model_id": "eccb4b9f5b834a8bab72777d184450c4",
       "version_major": 2,
       "version_minor": 0
      },
      "text/plain": [
       "backward: 0it [00:00, ?it/s]"
      ]
     },
     "metadata": {},
     "output_type": "display_data"
    },
    {
     "data": {
      "application/vnd.jupyter.widget-view+json": {
       "model_id": "c67cf8184509481f9c9f3a0cba7b1b2c",
       "version_major": 2,
       "version_minor": 0
      },
      "text/plain": [
       "forward: 0it [00:00, ?it/s]"
      ]
     },
     "metadata": {},
     "output_type": "display_data"
    },
    {
     "data": {
      "application/vnd.jupyter.widget-view+json": {
       "model_id": "86cca974bfe14b2bae2bb31f66e16a59",
       "version_major": 2,
       "version_minor": 0
      },
      "text/plain": [
       "backward: 0it [00:00, ?it/s]"
      ]
     },
     "metadata": {},
     "output_type": "display_data"
    },
    {
     "name": "stdout",
     "output_type": "stream",
     "text": [
      "scene id 57\n",
      "scene name bus3\n"
     ]
    },
    {
     "data": {
      "application/vnd.jupyter.widget-view+json": {
       "model_id": "826bbbab8f134e4e964bc01db4a68792",
       "version_major": 2,
       "version_minor": 0
      },
      "text/plain": [
       "forward: 0it [00:00, ?it/s]"
      ]
     },
     "metadata": {},
     "output_type": "display_data"
    },
    {
     "data": {
      "application/vnd.jupyter.widget-view+json": {
       "model_id": "746022f339e64abaac4ed1608bc3bf69",
       "version_major": 2,
       "version_minor": 0
      },
      "text/plain": [
       "backward: 0it [00:00, ?it/s]"
      ]
     },
     "metadata": {},
     "output_type": "display_data"
    },
    {
     "data": {
      "application/vnd.jupyter.widget-view+json": {
       "model_id": "37206fada9674cf5b15736c28acdf7b3",
       "version_major": 2,
       "version_minor": 0
      },
      "text/plain": [
       "backward: 0it [00:00, ?it/s]"
      ]
     },
     "metadata": {},
     "output_type": "display_data"
    },
    {
     "data": {
      "application/vnd.jupyter.widget-view+json": {
       "model_id": "75ce2f55f4f84a3babccdb9208a7cd1d",
       "version_major": 2,
       "version_minor": 0
      },
      "text/plain": [
       "backward: 0it [00:00, ?it/s]"
      ]
     },
     "metadata": {},
     "output_type": "display_data"
    },
    {
     "data": {
      "application/vnd.jupyter.widget-view+json": {
       "model_id": "06b204a5f9024ff4808efb870ca1eef7",
       "version_major": 2,
       "version_minor": 0
      },
      "text/plain": [
       "forward: 0it [00:00, ?it/s]"
      ]
     },
     "metadata": {},
     "output_type": "display_data"
    },
    {
     "data": {
      "application/vnd.jupyter.widget-view+json": {
       "model_id": "5e7ce67c191e4438825c94000ae1f463",
       "version_major": 2,
       "version_minor": 0
      },
      "text/plain": [
       "backward: 0it [00:00, ?it/s]"
      ]
     },
     "metadata": {},
     "output_type": "display_data"
    },
    {
     "data": {
      "application/vnd.jupyter.widget-view+json": {
       "model_id": "214fc431162040d8a35496d29762d54b",
       "version_major": 2,
       "version_minor": 0
      },
      "text/plain": [
       "backward: 0it [00:00, ?it/s]"
      ]
     },
     "metadata": {},
     "output_type": "display_data"
    },
    {
     "data": {
      "application/vnd.jupyter.widget-view+json": {
       "model_id": "a273711ce70a42c2a85f4d89f7813780",
       "version_major": 2,
       "version_minor": 0
      },
      "text/plain": [
       "forward: 0it [00:00, ?it/s]"
      ]
     },
     "metadata": {},
     "output_type": "display_data"
    },
    {
     "name": "stdout",
     "output_type": "stream",
     "text": [
      "scene id 58\n",
      "scene name car31\n"
     ]
    },
    {
     "data": {
      "application/vnd.jupyter.widget-view+json": {
       "model_id": "96dbb55178804cdf9ff9cec73457c2dd",
       "version_major": 2,
       "version_minor": 0
      },
      "text/plain": [
       "forward: 0it [00:00, ?it/s]"
      ]
     },
     "metadata": {},
     "output_type": "display_data"
    },
    {
     "data": {
      "application/vnd.jupyter.widget-view+json": {
       "model_id": "7aaaa031f7b24d139cbb95958f9d1571",
       "version_major": 2,
       "version_minor": 0
      },
      "text/plain": [
       "backward: 0it [00:00, ?it/s]"
      ]
     },
     "metadata": {},
     "output_type": "display_data"
    },
    {
     "name": "stdout",
     "output_type": "stream",
     "text": [
      "scene id 59\n",
      "scene name pedestrian5\n"
     ]
    },
    {
     "data": {
      "application/vnd.jupyter.widget-view+json": {
       "model_id": "01221b4996d342148f85e9d541f38e0f",
       "version_major": 2,
       "version_minor": 0
      },
      "text/plain": [
       "forward: 0it [00:00, ?it/s]"
      ]
     },
     "metadata": {},
     "output_type": "display_data"
    },
    {
     "data": {
      "application/vnd.jupyter.widget-view+json": {
       "model_id": "c83b40457e384df7be61c92853c1f7ea",
       "version_major": 2,
       "version_minor": 0
      },
      "text/plain": [
       "backward: 0it [00:00, ?it/s]"
      ]
     },
     "metadata": {},
     "output_type": "display_data"
    },
    {
     "data": {
      "application/vnd.jupyter.widget-view+json": {
       "model_id": "ed35c8c9bc29443ea223feadfc915fa7",
       "version_major": 2,
       "version_minor": 0
      },
      "text/plain": [
       "backward: 0it [00:00, ?it/s]"
      ]
     },
     "metadata": {},
     "output_type": "display_data"
    },
    {
     "data": {
      "application/vnd.jupyter.widget-view+json": {
       "model_id": "24c599cc8ceb43dba4b5e430714044dd",
       "version_major": 2,
       "version_minor": 0
      },
      "text/plain": [
       "forward: 0it [00:00, ?it/s]"
      ]
     },
     "metadata": {},
     "output_type": "display_data"
    },
    {
     "data": {
      "application/vnd.jupyter.widget-view+json": {
       "model_id": "d3eccaaa5c86409993959e5adef907aa",
       "version_major": 2,
       "version_minor": 0
      },
      "text/plain": [
       "backward: 0it [00:00, ?it/s]"
      ]
     },
     "metadata": {},
     "output_type": "display_data"
    },
    {
     "name": "stdout",
     "output_type": "stream",
     "text": [
      "scene id 60\n",
      "scene name car36\n"
     ]
    },
    {
     "data": {
      "application/vnd.jupyter.widget-view+json": {
       "model_id": "55ffb38f8af74de1b4b4e5ecaf11fa02",
       "version_major": 2,
       "version_minor": 0
      },
      "text/plain": [
       "forward: 0it [00:00, ?it/s]"
      ]
     },
     "metadata": {},
     "output_type": "display_data"
    },
    {
     "data": {
      "application/vnd.jupyter.widget-view+json": {
       "model_id": "8f601cea08fd4774bf591dc322eb391d",
       "version_major": 2,
       "version_minor": 0
      },
      "text/plain": [
       "backward: 0it [00:00, ?it/s]"
      ]
     },
     "metadata": {},
     "output_type": "display_data"
    },
    {
     "data": {
      "application/vnd.jupyter.widget-view+json": {
       "model_id": "2bc1d6439d904873bf8889a75a87d602",
       "version_major": 2,
       "version_minor": 0
      },
      "text/plain": [
       "backward: 0it [00:00, ?it/s]"
      ]
     },
     "metadata": {},
     "output_type": "display_data"
    },
    {
     "data": {
      "application/vnd.jupyter.widget-view+json": {
       "model_id": "a29f9e90d6c74c13b1fc4d512df7f33b",
       "version_major": 2,
       "version_minor": 0
      },
      "text/plain": [
       "forward: 0it [00:00, ?it/s]"
      ]
     },
     "metadata": {},
     "output_type": "display_data"
    },
    {
     "data": {
      "application/vnd.jupyter.widget-view+json": {
       "model_id": "acae1d5f1c1b44948c4257dd88c83a6b",
       "version_major": 2,
       "version_minor": 0
      },
      "text/plain": [
       "backward: 0it [00:00, ?it/s]"
      ]
     },
     "metadata": {},
     "output_type": "display_data"
    },
    {
     "name": "stdout",
     "output_type": "stream",
     "text": [
      "scene id 61\n",
      "scene name car41\n"
     ]
    },
    {
     "data": {
      "application/vnd.jupyter.widget-view+json": {
       "model_id": "db677dfc96cf40f8aa566fadca0148d6",
       "version_major": 2,
       "version_minor": 0
      },
      "text/plain": [
       "forward: 0it [00:00, ?it/s]"
      ]
     },
     "metadata": {},
     "output_type": "display_data"
    },
    {
     "data": {
      "application/vnd.jupyter.widget-view+json": {
       "model_id": "a12b01011f9f409e92b6fce2cf3a779e",
       "version_major": 2,
       "version_minor": 0
      },
      "text/plain": [
       "backward: 0it [00:00, ?it/s]"
      ]
     },
     "metadata": {},
     "output_type": "display_data"
    },
    {
     "data": {
      "application/vnd.jupyter.widget-view+json": {
       "model_id": "3b153a58c0fc4bb9bdf0631140fa96e3",
       "version_major": 2,
       "version_minor": 0
      },
      "text/plain": [
       "backward: 0it [00:00, ?it/s]"
      ]
     },
     "metadata": {},
     "output_type": "display_data"
    },
    {
     "data": {
      "application/vnd.jupyter.widget-view+json": {
       "model_id": "c3d19641dab844f38c4b124a8335960d",
       "version_major": 2,
       "version_minor": 0
      },
      "text/plain": [
       "forward: 0it [00:00, ?it/s]"
      ]
     },
     "metadata": {},
     "output_type": "display_data"
    },
    {
     "data": {
      "application/vnd.jupyter.widget-view+json": {
       "model_id": "9ba99153887242ffb11d7514bbbac365",
       "version_major": 2,
       "version_minor": 0
      },
      "text/plain": [
       "backward: 0it [00:00, ?it/s]"
      ]
     },
     "metadata": {},
     "output_type": "display_data"
    },
    {
     "name": "stdout",
     "output_type": "stream",
     "text": [
      "scene id 62\n",
      "scene name bus4\n"
     ]
    },
    {
     "data": {
      "application/vnd.jupyter.widget-view+json": {
       "model_id": "8ec519f45acb41ad8aabf2ff30c17b22",
       "version_major": 2,
       "version_minor": 0
      },
      "text/plain": [
       "forward: 0it [00:00, ?it/s]"
      ]
     },
     "metadata": {},
     "output_type": "display_data"
    },
    {
     "data": {
      "application/vnd.jupyter.widget-view+json": {
       "model_id": "b0cbf8cf124141aebd395e5eb7a73995",
       "version_major": 2,
       "version_minor": 0
      },
      "text/plain": [
       "backward: 0it [00:00, ?it/s]"
      ]
     },
     "metadata": {},
     "output_type": "display_data"
    },
    {
     "name": "stdout",
     "output_type": "stream",
     "text": [
      "scene id 63\n",
      "scene name car17\n"
     ]
    },
    {
     "data": {
      "application/vnd.jupyter.widget-view+json": {
       "model_id": "ad8a19051de2477d975467337df76aec",
       "version_major": 2,
       "version_minor": 0
      },
      "text/plain": [
       "forward: 0it [00:00, ?it/s]"
      ]
     },
     "metadata": {},
     "output_type": "display_data"
    },
    {
     "data": {
      "application/vnd.jupyter.widget-view+json": {
       "model_id": "8935fe42975c4e1586f4f23e575cc2d2",
       "version_major": 2,
       "version_minor": 0
      },
      "text/plain": [
       "backward: 0it [00:00, ?it/s]"
      ]
     },
     "metadata": {},
     "output_type": "display_data"
    },
    {
     "data": {
      "application/vnd.jupyter.widget-view+json": {
       "model_id": "e5902f55eca1427f9aa81605797c20d4",
       "version_major": 2,
       "version_minor": 0
      },
      "text/plain": [
       "backward: 0it [00:00, ?it/s]"
      ]
     },
     "metadata": {},
     "output_type": "display_data"
    },
    {
     "data": {
      "application/vnd.jupyter.widget-view+json": {
       "model_id": "5bcdeefc84d34e0fb74dd3fc0aa2ffad",
       "version_major": 2,
       "version_minor": 0
      },
      "text/plain": [
       "forward: 0it [00:00, ?it/s]"
      ]
     },
     "metadata": {},
     "output_type": "display_data"
    },
    {
     "data": {
      "application/vnd.jupyter.widget-view+json": {
       "model_id": "f6bcac4591484a208c75a2d04502d779",
       "version_major": 2,
       "version_minor": 0
      },
      "text/plain": [
       "backward: 0it [00:00, ?it/s]"
      ]
     },
     "metadata": {},
     "output_type": "display_data"
    },
    {
     "name": "stdout",
     "output_type": "stream",
     "text": [
      "scene id 64\n",
      "scene name rider7\n"
     ]
    },
    {
     "data": {
      "application/vnd.jupyter.widget-view+json": {
       "model_id": "d8ed4017715f425cb337b860a10eba9a",
       "version_major": 2,
       "version_minor": 0
      },
      "text/plain": [
       "forward: 0it [00:00, ?it/s]"
      ]
     },
     "metadata": {},
     "output_type": "display_data"
    },
    {
     "data": {
      "application/vnd.jupyter.widget-view+json": {
       "model_id": "10cff7a1afed4cdb9abf8e75bb9c1f48",
       "version_major": 2,
       "version_minor": 0
      },
      "text/plain": [
       "backward: 0it [00:00, ?it/s]"
      ]
     },
     "metadata": {},
     "output_type": "display_data"
    },
    {
     "name": "stdout",
     "output_type": "stream",
     "text": [
      "scene id 65\n",
      "scene name car25\n"
     ]
    },
    {
     "data": {
      "application/vnd.jupyter.widget-view+json": {
       "model_id": "27d66c0e0f964c32b01e3dbeb8378cbe",
       "version_major": 2,
       "version_minor": 0
      },
      "text/plain": [
       "forward: 0it [00:00, ?it/s]"
      ]
     },
     "metadata": {},
     "output_type": "display_data"
    },
    {
     "data": {
      "application/vnd.jupyter.widget-view+json": {
       "model_id": "ce489f2de8b34564b1aec13d9c415972",
       "version_major": 2,
       "version_minor": 0
      },
      "text/plain": [
       "backward: 0it [00:00, ?it/s]"
      ]
     },
     "metadata": {},
     "output_type": "display_data"
    },
    {
     "data": {
      "application/vnd.jupyter.widget-view+json": {
       "model_id": "fd75fc33202049d7b20ac1132a0b4a5f",
       "version_major": 2,
       "version_minor": 0
      },
      "text/plain": [
       "backward: 0it [00:00, ?it/s]"
      ]
     },
     "metadata": {},
     "output_type": "display_data"
    },
    {
     "data": {
      "application/vnd.jupyter.widget-view+json": {
       "model_id": "e541a66cbf6f46b3bdb2b211838beb70",
       "version_major": 2,
       "version_minor": 0
      },
      "text/plain": [
       "backward: 0it [00:00, ?it/s]"
      ]
     },
     "metadata": {},
     "output_type": "display_data"
    },
    {
     "data": {
      "application/vnd.jupyter.widget-view+json": {
       "model_id": "949024983ff54a1bb67878a713ae9280",
       "version_major": 2,
       "version_minor": 0
      },
      "text/plain": [
       "backward: 0it [00:00, ?it/s]"
      ]
     },
     "metadata": {},
     "output_type": "display_data"
    },
    {
     "data": {
      "application/vnd.jupyter.widget-view+json": {
       "model_id": "44e4825fbc724f029b752c55a6f58051",
       "version_major": 2,
       "version_minor": 0
      },
      "text/plain": [
       "forward: 0it [00:00, ?it/s]"
      ]
     },
     "metadata": {},
     "output_type": "display_data"
    },
    {
     "data": {
      "application/vnd.jupyter.widget-view+json": {
       "model_id": "634ca890fa3d48d1a07364658982ddbf",
       "version_major": 2,
       "version_minor": 0
      },
      "text/plain": [
       "backward: 0it [00:00, ?it/s]"
      ]
     },
     "metadata": {},
     "output_type": "display_data"
    },
    {
     "data": {
      "application/vnd.jupyter.widget-view+json": {
       "model_id": "1c7706f10b414a0d85b5354943a4a7b1",
       "version_major": 2,
       "version_minor": 0
      },
      "text/plain": [
       "backward: 0it [00:00, ?it/s]"
      ]
     },
     "metadata": {},
     "output_type": "display_data"
    },
    {
     "data": {
      "application/vnd.jupyter.widget-view+json": {
       "model_id": "2404d52d313949c5b2791d9e25ea7e84",
       "version_major": 2,
       "version_minor": 0
      },
      "text/plain": [
       "backward: 0it [00:00, ?it/s]"
      ]
     },
     "metadata": {},
     "output_type": "display_data"
    },
    {
     "data": {
      "application/vnd.jupyter.widget-view+json": {
       "model_id": "b9d5bc7fd14d45f0a506152329b7425d",
       "version_major": 2,
       "version_minor": 0
      },
      "text/plain": [
       "forward: 0it [00:00, ?it/s]"
      ]
     },
     "metadata": {},
     "output_type": "display_data"
    },
    {
     "name": "stdout",
     "output_type": "stream",
     "text": [
      "scene id 66\n",
      "scene name car21\n"
     ]
    },
    {
     "data": {
      "application/vnd.jupyter.widget-view+json": {
       "model_id": "106138c10e8e40d1a7d87f45514a84cd",
       "version_major": 2,
       "version_minor": 0
      },
      "text/plain": [
       "forward: 0it [00:00, ?it/s]"
      ]
     },
     "metadata": {},
     "output_type": "display_data"
    },
    {
     "data": {
      "application/vnd.jupyter.widget-view+json": {
       "model_id": "155ba29482f447cdb1da9ee9b2d630b3",
       "version_major": 2,
       "version_minor": 0
      },
      "text/plain": [
       "backward: 0it [00:00, ?it/s]"
      ]
     },
     "metadata": {},
     "output_type": "display_data"
    },
    {
     "data": {
      "application/vnd.jupyter.widget-view+json": {
       "model_id": "8ac3552edd944cb1ad3f83ecac7181b0",
       "version_major": 2,
       "version_minor": 0
      },
      "text/plain": [
       "backward: 0it [00:00, ?it/s]"
      ]
     },
     "metadata": {},
     "output_type": "display_data"
    },
    {
     "data": {
      "application/vnd.jupyter.widget-view+json": {
       "model_id": "2a9fb26b8d554f24959c82e18a6218d0",
       "version_major": 2,
       "version_minor": 0
      },
      "text/plain": [
       "forward: 0it [00:00, ?it/s]"
      ]
     },
     "metadata": {},
     "output_type": "display_data"
    },
    {
     "data": {
      "application/vnd.jupyter.widget-view+json": {
       "model_id": "2f34cff2bc5e41fb80d5c858d49f4ef9",
       "version_major": 2,
       "version_minor": 0
      },
      "text/plain": [
       "backward: 0it [00:00, ?it/s]"
      ]
     },
     "metadata": {},
     "output_type": "display_data"
    },
    {
     "name": "stdout",
     "output_type": "stream",
     "text": [
      "scene id 67\n",
      "scene name car19\n"
     ]
    },
    {
     "data": {
      "application/vnd.jupyter.widget-view+json": {
       "model_id": "6b3d5b506e044a18bfbfa8beb1562ed8",
       "version_major": 2,
       "version_minor": 0
      },
      "text/plain": [
       "forward: 0it [00:00, ?it/s]"
      ]
     },
     "metadata": {},
     "output_type": "display_data"
    },
    {
     "data": {
      "application/vnd.jupyter.widget-view+json": {
       "model_id": "c3e478840fe443a0b1862e561e83db37",
       "version_major": 2,
       "version_minor": 0
      },
      "text/plain": [
       "backward: 0it [00:00, ?it/s]"
      ]
     },
     "metadata": {},
     "output_type": "display_data"
    },
    {
     "data": {
      "application/vnd.jupyter.widget-view+json": {
       "model_id": "df818221227e488bb5856fdfe8b8a911",
       "version_major": 2,
       "version_minor": 0
      },
      "text/plain": [
       "backward: 0it [00:00, ?it/s]"
      ]
     },
     "metadata": {},
     "output_type": "display_data"
    },
    {
     "data": {
      "application/vnd.jupyter.widget-view+json": {
       "model_id": "08095e519fa54392a6237223d4f97bab",
       "version_major": 2,
       "version_minor": 0
      },
      "text/plain": [
       "forward: 0it [00:00, ?it/s]"
      ]
     },
     "metadata": {},
     "output_type": "display_data"
    },
    {
     "data": {
      "application/vnd.jupyter.widget-view+json": {
       "model_id": "ee2adceea30846c8a348204dc5e8323c",
       "version_major": 2,
       "version_minor": 0
      },
      "text/plain": [
       "backward: 0it [00:00, ?it/s]"
      ]
     },
     "metadata": {},
     "output_type": "display_data"
    },
    {
     "name": "stdout",
     "output_type": "stream",
     "text": [
      "scene id 68\n",
      "scene name car13\n"
     ]
    },
    {
     "data": {
      "application/vnd.jupyter.widget-view+json": {
       "model_id": "e1858e01dcb644b6a4277f74fd78968e",
       "version_major": 2,
       "version_minor": 0
      },
      "text/plain": [
       "forward: 0it [00:00, ?it/s]"
      ]
     },
     "metadata": {},
     "output_type": "display_data"
    },
    {
     "data": {
      "application/vnd.jupyter.widget-view+json": {
       "model_id": "b5c3a95b7234452ca4160f916c855812",
       "version_major": 2,
       "version_minor": 0
      },
      "text/plain": [
       "backward: 0it [00:00, ?it/s]"
      ]
     },
     "metadata": {},
     "output_type": "display_data"
    },
    {
     "data": {
      "application/vnd.jupyter.widget-view+json": {
       "model_id": "ffcd7cd361b5465c8f02aba589d93a2b",
       "version_major": 2,
       "version_minor": 0
      },
      "text/plain": [
       "backward: 0it [00:00, ?it/s]"
      ]
     },
     "metadata": {},
     "output_type": "display_data"
    },
    {
     "data": {
      "application/vnd.jupyter.widget-view+json": {
       "model_id": "92a86f49368c4514a75a393a78c2d93f",
       "version_major": 2,
       "version_minor": 0
      },
      "text/plain": [
       "forward: 0it [00:00, ?it/s]"
      ]
     },
     "metadata": {},
     "output_type": "display_data"
    },
    {
     "data": {
      "application/vnd.jupyter.widget-view+json": {
       "model_id": "29e0f14ad1704de696d0b4a42c885bd8",
       "version_major": 2,
       "version_minor": 0
      },
      "text/plain": [
       "backward: 0it [00:00, ?it/s]"
      ]
     },
     "metadata": {},
     "output_type": "display_data"
    },
    {
     "name": "stdout",
     "output_type": "stream",
     "text": [
      "scene id 69\n",
      "scene name car32\n"
     ]
    },
    {
     "data": {
      "application/vnd.jupyter.widget-view+json": {
       "model_id": "86c407c795eb4218a47c2d8bd5e90264",
       "version_major": 2,
       "version_minor": 0
      },
      "text/plain": [
       "forward: 0it [00:00, ?it/s]"
      ]
     },
     "metadata": {},
     "output_type": "display_data"
    },
    {
     "data": {
      "application/vnd.jupyter.widget-view+json": {
       "model_id": "927aa1edf6c9438488833e14c0da9e83",
       "version_major": 2,
       "version_minor": 0
      },
      "text/plain": [
       "backward: 0it [00:00, ?it/s]"
      ]
     },
     "metadata": {},
     "output_type": "display_data"
    },
    {
     "data": {
      "application/vnd.jupyter.widget-view+json": {
       "model_id": "9559e5c5071f42f68fc0ef08b17b2f7c",
       "version_major": 2,
       "version_minor": 0
      },
      "text/plain": [
       "backward: 0it [00:00, ?it/s]"
      ]
     },
     "metadata": {},
     "output_type": "display_data"
    },
    {
     "data": {
      "application/vnd.jupyter.widget-view+json": {
       "model_id": "ccf40f92e35a4409a49cb252a6e227a1",
       "version_major": 2,
       "version_minor": 0
      },
      "text/plain": [
       "backward: 0it [00:00, ?it/s]"
      ]
     },
     "metadata": {},
     "output_type": "display_data"
    },
    {
     "data": {
      "application/vnd.jupyter.widget-view+json": {
       "model_id": "af09e1989ef345f795642d18a9a6f0c1",
       "version_major": 2,
       "version_minor": 0
      },
      "text/plain": [
       "forward: 0it [00:00, ?it/s]"
      ]
     },
     "metadata": {},
     "output_type": "display_data"
    },
    {
     "data": {
      "application/vnd.jupyter.widget-view+json": {
       "model_id": "2f95b3e6ba59463d9f73ce8e97d03bc6",
       "version_major": 2,
       "version_minor": 0
      },
      "text/plain": [
       "backward: 0it [00:00, ?it/s]"
      ]
     },
     "metadata": {},
     "output_type": "display_data"
    },
    {
     "data": {
      "application/vnd.jupyter.widget-view+json": {
       "model_id": "72562054be48419388ae0e906eec8baa",
       "version_major": 2,
       "version_minor": 0
      },
      "text/plain": [
       "backward: 0it [00:00, ?it/s]"
      ]
     },
     "metadata": {},
     "output_type": "display_data"
    },
    {
     "name": "stdout",
     "output_type": "stream",
     "text": [
      "scene id 70\n",
      "scene name car38\n"
     ]
    },
    {
     "data": {
      "application/vnd.jupyter.widget-view+json": {
       "model_id": "0f535510d0174413ab20c0462caf5051",
       "version_major": 2,
       "version_minor": 0
      },
      "text/plain": [
       "forward: 0it [00:00, ?it/s]"
      ]
     },
     "metadata": {},
     "output_type": "display_data"
    },
    {
     "data": {
      "application/vnd.jupyter.widget-view+json": {
       "model_id": "607181c3f19f4fb4b1b86fffe32bc09f",
       "version_major": 2,
       "version_minor": 0
      },
      "text/plain": [
       "backward: 0it [00:00, ?it/s]"
      ]
     },
     "metadata": {},
     "output_type": "display_data"
    },
    {
     "data": {
      "application/vnd.jupyter.widget-view+json": {
       "model_id": "2aab25c397f94567979755d7898d5a2b",
       "version_major": 2,
       "version_minor": 0
      },
      "text/plain": [
       "backward: 0it [00:00, ?it/s]"
      ]
     },
     "metadata": {},
     "output_type": "display_data"
    },
    {
     "data": {
      "application/vnd.jupyter.widget-view+json": {
       "model_id": "0fe8759dfb9840199b6d2ed1b7606032",
       "version_major": 2,
       "version_minor": 0
      },
      "text/plain": [
       "backward: 0it [00:00, ?it/s]"
      ]
     },
     "metadata": {},
     "output_type": "display_data"
    },
    {
     "data": {
      "application/vnd.jupyter.widget-view+json": {
       "model_id": "a8c44019a85d44289e413bb759f8808a",
       "version_major": 2,
       "version_minor": 0
      },
      "text/plain": [
       "forward: 0it [00:00, ?it/s]"
      ]
     },
     "metadata": {},
     "output_type": "display_data"
    },
    {
     "data": {
      "application/vnd.jupyter.widget-view+json": {
       "model_id": "c815ca8baa29454f9c4e517e28b8ee99",
       "version_major": 2,
       "version_minor": 0
      },
      "text/plain": [
       "backward: 0it [00:00, ?it/s]"
      ]
     },
     "metadata": {},
     "output_type": "display_data"
    },
    {
     "data": {
      "application/vnd.jupyter.widget-view+json": {
       "model_id": "b864eba827bd4db6a006dc150461b709",
       "version_major": 2,
       "version_minor": 0
      },
      "text/plain": [
       "backward: 0it [00:00, ?it/s]"
      ]
     },
     "metadata": {},
     "output_type": "display_data"
    },
    {
     "data": {
      "application/vnd.jupyter.widget-view+json": {
       "model_id": "54d0593a16804006bca344e826630137",
       "version_major": 2,
       "version_minor": 0
      },
      "text/plain": [
       "forward: 0it [00:00, ?it/s]"
      ]
     },
     "metadata": {},
     "output_type": "display_data"
    },
    {
     "name": "stdout",
     "output_type": "stream",
     "text": [
      "scene id 71\n",
      "scene name rider12\n"
     ]
    },
    {
     "data": {
      "application/vnd.jupyter.widget-view+json": {
       "model_id": "fed6dd44ad5b450687c532b06ff08e42",
       "version_major": 2,
       "version_minor": 0
      },
      "text/plain": [
       "forward: 0it [00:00, ?it/s]"
      ]
     },
     "metadata": {},
     "output_type": "display_data"
    },
    {
     "data": {
      "application/vnd.jupyter.widget-view+json": {
       "model_id": "ec1782698f5542e7a85e1743fe2c865e",
       "version_major": 2,
       "version_minor": 0
      },
      "text/plain": [
       "backward: 0it [00:00, ?it/s]"
      ]
     },
     "metadata": {},
     "output_type": "display_data"
    },
    {
     "data": {
      "application/vnd.jupyter.widget-view+json": {
       "model_id": "d52a2d5d56ff49c28792ebf91e589779",
       "version_major": 2,
       "version_minor": 0
      },
      "text/plain": [
       "backward: 0it [00:00, ?it/s]"
      ]
     },
     "metadata": {},
     "output_type": "display_data"
    },
    {
     "data": {
      "application/vnd.jupyter.widget-view+json": {
       "model_id": "2c0986a722ac4fafa4ae99942953e93e",
       "version_major": 2,
       "version_minor": 0
      },
      "text/plain": [
       "forward: 0it [00:00, ?it/s]"
      ]
     },
     "metadata": {},
     "output_type": "display_data"
    },
    {
     "data": {
      "application/vnd.jupyter.widget-view+json": {
       "model_id": "17ab9c1431f64d0da9d863cce2f7b30b",
       "version_major": 2,
       "version_minor": 0
      },
      "text/plain": [
       "backward: 0it [00:00, ?it/s]"
      ]
     },
     "metadata": {},
     "output_type": "display_data"
    },
    {
     "name": "stdout",
     "output_type": "stream",
     "text": [
      "scene id 72\n",
      "scene name car35\n"
     ]
    },
    {
     "data": {
      "application/vnd.jupyter.widget-view+json": {
       "model_id": "c593868fe27c4f238f1d28e66779e005",
       "version_major": 2,
       "version_minor": 0
      },
      "text/plain": [
       "forward: 0it [00:00, ?it/s]"
      ]
     },
     "metadata": {},
     "output_type": "display_data"
    },
    {
     "data": {
      "application/vnd.jupyter.widget-view+json": {
       "model_id": "c3a40b6f13a64b7b8c4cc85b21ac93d8",
       "version_major": 2,
       "version_minor": 0
      },
      "text/plain": [
       "backward: 0it [00:00, ?it/s]"
      ]
     },
     "metadata": {},
     "output_type": "display_data"
    },
    {
     "data": {
      "application/vnd.jupyter.widget-view+json": {
       "model_id": "a9eac36e499a42578684e3bf930a69ce",
       "version_major": 2,
       "version_minor": 0
      },
      "text/plain": [
       "backward: 0it [00:00, ?it/s]"
      ]
     },
     "metadata": {},
     "output_type": "display_data"
    },
    {
     "data": {
      "application/vnd.jupyter.widget-view+json": {
       "model_id": "446e23837c7d49ac9011de3f1c3fe103",
       "version_major": 2,
       "version_minor": 0
      },
      "text/plain": [
       "forward: 0it [00:00, ?it/s]"
      ]
     },
     "metadata": {},
     "output_type": "display_data"
    },
    {
     "data": {
      "application/vnd.jupyter.widget-view+json": {
       "model_id": "57b4cf6385274664992c399f60a0cb16",
       "version_major": 2,
       "version_minor": 0
      },
      "text/plain": [
       "backward: 0it [00:00, ?it/s]"
      ]
     },
     "metadata": {},
     "output_type": "display_data"
    },
    {
     "name": "stdout",
     "output_type": "stream",
     "text": [
      "scene id 73\n",
      "scene name basketball1\n"
     ]
    },
    {
     "data": {
      "application/vnd.jupyter.widget-view+json": {
       "model_id": "bf45989c23c94e0e81ea757506f8fce0",
       "version_major": 2,
       "version_minor": 0
      },
      "text/plain": [
       "forward: 0it [00:00, ?it/s]"
      ]
     },
     "metadata": {},
     "output_type": "display_data"
    },
    {
     "data": {
      "application/vnd.jupyter.widget-view+json": {
       "model_id": "1b634aad4df94206b5b700a172976637",
       "version_major": 2,
       "version_minor": 0
      },
      "text/plain": [
       "backward: 0it [00:00, ?it/s]"
      ]
     },
     "metadata": {},
     "output_type": "display_data"
    },
    {
     "data": {
      "application/vnd.jupyter.widget-view+json": {
       "model_id": "7f6ea4dd68f44c38baa9840516d9f0e7",
       "version_major": 2,
       "version_minor": 0
      },
      "text/plain": [
       "backward: 0it [00:00, ?it/s]"
      ]
     },
     "metadata": {},
     "output_type": "display_data"
    },
    {
     "data": {
      "application/vnd.jupyter.widget-view+json": {
       "model_id": "8e3bd35b71e94fcdb6bf6612b115893a",
       "version_major": 2,
       "version_minor": 0
      },
      "text/plain": [
       "backward: 0it [00:00, ?it/s]"
      ]
     },
     "metadata": {},
     "output_type": "display_data"
    },
    {
     "data": {
      "application/vnd.jupyter.widget-view+json": {
       "model_id": "92adbb92c396440cb346748e5fd5d62a",
       "version_major": 2,
       "version_minor": 0
      },
      "text/plain": [
       "backward: 0it [00:00, ?it/s]"
      ]
     },
     "metadata": {},
     "output_type": "display_data"
    },
    {
     "data": {
      "application/vnd.jupyter.widget-view+json": {
       "model_id": "53bb2cdcc37a426b916945d978270cae",
       "version_major": 2,
       "version_minor": 0
      },
      "text/plain": [
       "forward: 0it [00:00, ?it/s]"
      ]
     },
     "metadata": {},
     "output_type": "display_data"
    },
    {
     "data": {
      "application/vnd.jupyter.widget-view+json": {
       "model_id": "048dd37e6f754c15a9ffccd8bf9267f7",
       "version_major": 2,
       "version_minor": 0
      },
      "text/plain": [
       "backward: 0it [00:00, ?it/s]"
      ]
     },
     "metadata": {},
     "output_type": "display_data"
    },
    {
     "data": {
      "application/vnd.jupyter.widget-view+json": {
       "model_id": "9c1a5db6566a4198bb4a4ae970c1eb5b",
       "version_major": 2,
       "version_minor": 0
      },
      "text/plain": [
       "backward: 0it [00:00, ?it/s]"
      ]
     },
     "metadata": {},
     "output_type": "display_data"
    },
    {
     "name": "stdout",
     "output_type": "stream",
     "text": [
      "scene id 74\n",
      "scene name car14\n"
     ]
    },
    {
     "data": {
      "application/vnd.jupyter.widget-view+json": {
       "model_id": "7985e32761cd43c4b009bc9762bfad56",
       "version_major": 2,
       "version_minor": 0
      },
      "text/plain": [
       "forward: 0it [00:00, ?it/s]"
      ]
     },
     "metadata": {},
     "output_type": "display_data"
    },
    {
     "data": {
      "application/vnd.jupyter.widget-view+json": {
       "model_id": "525dc59e8ff04aa4b5c33bd429debcbe",
       "version_major": 2,
       "version_minor": 0
      },
      "text/plain": [
       "backward: 0it [00:00, ?it/s]"
      ]
     },
     "metadata": {},
     "output_type": "display_data"
    },
    {
     "data": {
      "application/vnd.jupyter.widget-view+json": {
       "model_id": "6ce161e7381d4ec19672f30863772055",
       "version_major": 2,
       "version_minor": 0
      },
      "text/plain": [
       "backward: 0it [00:00, ?it/s]"
      ]
     },
     "metadata": {},
     "output_type": "display_data"
    },
    {
     "data": {
      "application/vnd.jupyter.widget-view+json": {
       "model_id": "3b151602d5834c69b10320249a210037",
       "version_major": 2,
       "version_minor": 0
      },
      "text/plain": [
       "forward: 0it [00:00, ?it/s]"
      ]
     },
     "metadata": {},
     "output_type": "display_data"
    },
    {
     "data": {
      "application/vnd.jupyter.widget-view+json": {
       "model_id": "059ff9dca819419db22e51d46f8e3970",
       "version_major": 2,
       "version_minor": 0
      },
      "text/plain": [
       "backward: 0it [00:00, ?it/s]"
      ]
     },
     "metadata": {},
     "output_type": "display_data"
    },
    {
     "name": "stdout",
     "output_type": "stream",
     "text": [
      "scene id 75\n",
      "scene name car26\n"
     ]
    },
    {
     "data": {
      "application/vnd.jupyter.widget-view+json": {
       "model_id": "94ebc66f11b445908dd7ed328e655a2f",
       "version_major": 2,
       "version_minor": 0
      },
      "text/plain": [
       "forward: 0it [00:00, ?it/s]"
      ]
     },
     "metadata": {},
     "output_type": "display_data"
    },
    {
     "data": {
      "application/vnd.jupyter.widget-view+json": {
       "model_id": "697294fabb1547b3968cdd08288f8653",
       "version_major": 2,
       "version_minor": 0
      },
      "text/plain": [
       "backward: 0it [00:00, ?it/s]"
      ]
     },
     "metadata": {},
     "output_type": "display_data"
    },
    {
     "data": {
      "application/vnd.jupyter.widget-view+json": {
       "model_id": "ab4e7787b2ae4169909669b39496ac63",
       "version_major": 2,
       "version_minor": 0
      },
      "text/plain": [
       "backward: 0it [00:00, ?it/s]"
      ]
     },
     "metadata": {},
     "output_type": "display_data"
    },
    {
     "data": {
      "application/vnd.jupyter.widget-view+json": {
       "model_id": "e4e61f8e6e154a728be0b20147ab283e",
       "version_major": 2,
       "version_minor": 0
      },
      "text/plain": [
       "forward: 0it [00:00, ?it/s]"
      ]
     },
     "metadata": {},
     "output_type": "display_data"
    },
    {
     "data": {
      "application/vnd.jupyter.widget-view+json": {
       "model_id": "792e312d5b034dd09c2867e8caa37ac9",
       "version_major": 2,
       "version_minor": 0
      },
      "text/plain": [
       "backward: 0it [00:00, ?it/s]"
      ]
     },
     "metadata": {},
     "output_type": "display_data"
    },
    {
     "name": "stdout",
     "output_type": "stream",
     "text": [
      "scene id 76\n",
      "scene name rider6\n"
     ]
    },
    {
     "data": {
      "application/vnd.jupyter.widget-view+json": {
       "model_id": "b72076eb8fdb4581abf9af8ec4a90ab6",
       "version_major": 2,
       "version_minor": 0
      },
      "text/plain": [
       "forward: 0it [00:00, ?it/s]"
      ]
     },
     "metadata": {},
     "output_type": "display_data"
    },
    {
     "data": {
      "application/vnd.jupyter.widget-view+json": {
       "model_id": "88073aa91c82418eb6e56de28d136baa",
       "version_major": 2,
       "version_minor": 0
      },
      "text/plain": [
       "backward: 0it [00:00, ?it/s]"
      ]
     },
     "metadata": {},
     "output_type": "display_data"
    },
    {
     "data": {
      "application/vnd.jupyter.widget-view+json": {
       "model_id": "d21c5bff4f41441a9f8ef857b10c64f3",
       "version_major": 2,
       "version_minor": 0
      },
      "text/plain": [
       "backward: 0it [00:00, ?it/s]"
      ]
     },
     "metadata": {},
     "output_type": "display_data"
    },
    {
     "data": {
      "application/vnd.jupyter.widget-view+json": {
       "model_id": "ffd52a0ec1964df189cb91e21126ea1a",
       "version_major": 2,
       "version_minor": 0
      },
      "text/plain": [
       "forward: 0it [00:00, ?it/s]"
      ]
     },
     "metadata": {},
     "output_type": "display_data"
    },
    {
     "data": {
      "application/vnd.jupyter.widget-view+json": {
       "model_id": "2b9e39915b224ebd9712a76defbeb343",
       "version_major": 2,
       "version_minor": 0
      },
      "text/plain": [
       "backward: 0it [00:00, ?it/s]"
      ]
     },
     "metadata": {},
     "output_type": "display_data"
    },
    {
     "name": "stdout",
     "output_type": "stream",
     "text": [
      "scene id 77\n",
      "scene name car16\n"
     ]
    },
    {
     "data": {
      "application/vnd.jupyter.widget-view+json": {
       "model_id": "68895cd6a52d418f9caa004282a428b6",
       "version_major": 2,
       "version_minor": 0
      },
      "text/plain": [
       "forward: 0it [00:00, ?it/s]"
      ]
     },
     "metadata": {},
     "output_type": "display_data"
    },
    {
     "data": {
      "application/vnd.jupyter.widget-view+json": {
       "model_id": "6b6e9c918c88430cbda47c4950fd5477",
       "version_major": 2,
       "version_minor": 0
      },
      "text/plain": [
       "backward: 0it [00:00, ?it/s]"
      ]
     },
     "metadata": {},
     "output_type": "display_data"
    },
    {
     "name": "stdout",
     "output_type": "stream",
     "text": [
      "scene id 78\n",
      "scene name car24\n"
     ]
    },
    {
     "data": {
      "application/vnd.jupyter.widget-view+json": {
       "model_id": "5e3618fee0c94eddbf130abf3b06b315",
       "version_major": 2,
       "version_minor": 0
      },
      "text/plain": [
       "forward: 0it [00:00, ?it/s]"
      ]
     },
     "metadata": {},
     "output_type": "display_data"
    },
    {
     "data": {
      "application/vnd.jupyter.widget-view+json": {
       "model_id": "af212b27aa5741f5b6bd893011b1f5ba",
       "version_major": 2,
       "version_minor": 0
      },
      "text/plain": [
       "backward: 0it [00:00, ?it/s]"
      ]
     },
     "metadata": {},
     "output_type": "display_data"
    },
    {
     "data": {
      "application/vnd.jupyter.widget-view+json": {
       "model_id": "c3ca32649c6d4ccfa81255fdcd2b7fc9",
       "version_major": 2,
       "version_minor": 0
      },
      "text/plain": [
       "backward: 0it [00:00, ?it/s]"
      ]
     },
     "metadata": {},
     "output_type": "display_data"
    },
    {
     "data": {
      "application/vnd.jupyter.widget-view+json": {
       "model_id": "53677c3f3e244fe981db563899b7777f",
       "version_major": 2,
       "version_minor": 0
      },
      "text/plain": [
       "forward: 0it [00:00, ?it/s]"
      ]
     },
     "metadata": {},
     "output_type": "display_data"
    },
    {
     "data": {
      "application/vnd.jupyter.widget-view+json": {
       "model_id": "3dfe7b29ac6546409508b893e5dba63f",
       "version_major": 2,
       "version_minor": 0
      },
      "text/plain": [
       "backward: 0it [00:00, ?it/s]"
      ]
     },
     "metadata": {},
     "output_type": "display_data"
    },
    {
     "name": "stdout",
     "output_type": "stream",
     "text": [
      "scene id 79\n",
      "scene name car40\n"
     ]
    },
    {
     "data": {
      "application/vnd.jupyter.widget-view+json": {
       "model_id": "831be5cce1704f97aaa15614ead7d834",
       "version_major": 2,
       "version_minor": 0
      },
      "text/plain": [
       "forward: 0it [00:00, ?it/s]"
      ]
     },
     "metadata": {},
     "output_type": "display_data"
    },
    {
     "data": {
      "application/vnd.jupyter.widget-view+json": {
       "model_id": "6cce181b948840889e4c5c6873721c59",
       "version_major": 2,
       "version_minor": 0
      },
      "text/plain": [
       "backward: 0it [00:00, ?it/s]"
      ]
     },
     "metadata": {},
     "output_type": "display_data"
    },
    {
     "data": {
      "application/vnd.jupyter.widget-view+json": {
       "model_id": "00302d95446c46ffb80d45db5776f5e5",
       "version_major": 2,
       "version_minor": 0
      },
      "text/plain": [
       "backward: 0it [00:00, ?it/s]"
      ]
     },
     "metadata": {},
     "output_type": "display_data"
    },
    {
     "data": {
      "application/vnd.jupyter.widget-view+json": {
       "model_id": "31e74fb66d0b4354b40ee3e94204a0a6",
       "version_major": 2,
       "version_minor": 0
      },
      "text/plain": [
       "forward: 0it [00:00, ?it/s]"
      ]
     },
     "metadata": {},
     "output_type": "display_data"
    },
    {
     "data": {
      "application/vnd.jupyter.widget-view+json": {
       "model_id": "357e7cbb07f34d928eba3509f6571df5",
       "version_major": 2,
       "version_minor": 0
      },
      "text/plain": [
       "backward: 0it [00:00, ?it/s]"
      ]
     },
     "metadata": {},
     "output_type": "display_data"
    },
    {
     "name": "stdout",
     "output_type": "stream",
     "text": [
      "scene id 80\n",
      "scene name car37\n"
     ]
    },
    {
     "data": {
      "application/vnd.jupyter.widget-view+json": {
       "model_id": "bf94153c0dd9484da07098a31ac7c25e",
       "version_major": 2,
       "version_minor": 0
      },
      "text/plain": [
       "forward: 0it [00:00, ?it/s]"
      ]
     },
     "metadata": {},
     "output_type": "display_data"
    },
    {
     "data": {
      "application/vnd.jupyter.widget-view+json": {
       "model_id": "60b21f8d6aeb429bbedd6a1ccb30471d",
       "version_major": 2,
       "version_minor": 0
      },
      "text/plain": [
       "backward: 0it [00:00, ?it/s]"
      ]
     },
     "metadata": {},
     "output_type": "display_data"
    },
    {
     "data": {
      "application/vnd.jupyter.widget-view+json": {
       "model_id": "04ebf81903b740e7adfc4ebbeffb06f3",
       "version_major": 2,
       "version_minor": 0
      },
      "text/plain": [
       "backward: 0it [00:00, ?it/s]"
      ]
     },
     "metadata": {},
     "output_type": "display_data"
    },
    {
     "data": {
      "application/vnd.jupyter.widget-view+json": {
       "model_id": "2540e97980a7428694b656df2db30892",
       "version_major": 2,
       "version_minor": 0
      },
      "text/plain": [
       "backward: 0it [00:00, ?it/s]"
      ]
     },
     "metadata": {},
     "output_type": "display_data"
    },
    {
     "data": {
      "application/vnd.jupyter.widget-view+json": {
       "model_id": "b9138df5d7d74d7f8dbea1810135ab5d",
       "version_major": 2,
       "version_minor": 0
      },
      "text/plain": [
       "forward: 0it [00:00, ?it/s]"
      ]
     },
     "metadata": {},
     "output_type": "display_data"
    },
    {
     "data": {
      "application/vnd.jupyter.widget-view+json": {
       "model_id": "da8e47fe60a445c795ffc74260d33898",
       "version_major": 2,
       "version_minor": 0
      },
      "text/plain": [
       "backward: 0it [00:00, ?it/s]"
      ]
     },
     "metadata": {},
     "output_type": "display_data"
    },
    {
     "data": {
      "application/vnd.jupyter.widget-view+json": {
       "model_id": "f1c89a1ffa47451e9f4c982959aafa47",
       "version_major": 2,
       "version_minor": 0
      },
      "text/plain": [
       "backward: 0it [00:00, ?it/s]"
      ]
     },
     "metadata": {},
     "output_type": "display_data"
    },
    {
     "name": "stdout",
     "output_type": "stream",
     "text": [
      "scene id 81\n",
      "scene name car30\n"
     ]
    },
    {
     "data": {
      "application/vnd.jupyter.widget-view+json": {
       "model_id": "a96b384a4d674218905cb6a88ff44a6c",
       "version_major": 2,
       "version_minor": 0
      },
      "text/plain": [
       "forward: 0it [00:00, ?it/s]"
      ]
     },
     "metadata": {},
     "output_type": "display_data"
    },
    {
     "data": {
      "application/vnd.jupyter.widget-view+json": {
       "model_id": "de4db88593a245b998a253d6c0425ff8",
       "version_major": 2,
       "version_minor": 0
      },
      "text/plain": [
       "backward: 0it [00:00, ?it/s]"
      ]
     },
     "metadata": {},
     "output_type": "display_data"
    },
    {
     "data": {
      "application/vnd.jupyter.widget-view+json": {
       "model_id": "c0cc572183164bdb995960e99a22493c",
       "version_major": 2,
       "version_minor": 0
      },
      "text/plain": [
       "backward: 0it [00:00, ?it/s]"
      ]
     },
     "metadata": {},
     "output_type": "display_data"
    },
    {
     "data": {
      "application/vnd.jupyter.widget-view+json": {
       "model_id": "c0f35d07413a46b4b31c805d033482bc",
       "version_major": 2,
       "version_minor": 0
      },
      "text/plain": [
       "backward: 0it [00:00, ?it/s]"
      ]
     },
     "metadata": {},
     "output_type": "display_data"
    },
    {
     "data": {
      "application/vnd.jupyter.widget-view+json": {
       "model_id": "64f0869314d94b2c871d1bce6c9a60a9",
       "version_major": 2,
       "version_minor": 0
      },
      "text/plain": [
       "forward: 0it [00:00, ?it/s]"
      ]
     },
     "metadata": {},
     "output_type": "display_data"
    },
    {
     "data": {
      "application/vnd.jupyter.widget-view+json": {
       "model_id": "fe4c495cfa444fc196c1e54014ff3f08",
       "version_major": 2,
       "version_minor": 0
      },
      "text/plain": [
       "backward: 0it [00:00, ?it/s]"
      ]
     },
     "metadata": {},
     "output_type": "display_data"
    },
    {
     "data": {
      "application/vnd.jupyter.widget-view+json": {
       "model_id": "78f050532fa742da8a242c00839173eb",
       "version_major": 2,
       "version_minor": 0
      },
      "text/plain": [
       "backward: 0it [00:00, ?it/s]"
      ]
     },
     "metadata": {},
     "output_type": "display_data"
    },
    {
     "data": {
      "application/vnd.jupyter.widget-view+json": {
       "model_id": "7763c9ac7a424a3aa58d5563a6f57257",
       "version_major": 2,
       "version_minor": 0
      },
      "text/plain": [
       "backward: 0it [00:00, ?it/s]"
      ]
     },
     "metadata": {},
     "output_type": "display_data"
    },
    {
     "data": {
      "application/vnd.jupyter.widget-view+json": {
       "model_id": "3fbc88561f5c4b90bd813cae424f77c2",
       "version_major": 2,
       "version_minor": 0
      },
      "text/plain": [
       "forward: 0it [00:00, ?it/s]"
      ]
     },
     "metadata": {},
     "output_type": "display_data"
    },
    {
     "name": "stdout",
     "output_type": "stream",
     "text": [
      "scene id 82\n",
      "scene name car29\n"
     ]
    },
    {
     "data": {
      "application/vnd.jupyter.widget-view+json": {
       "model_id": "ed6dbec48cbf4c4c9ead675f99d3e1b2",
       "version_major": 2,
       "version_minor": 0
      },
      "text/plain": [
       "forward: 0it [00:00, ?it/s]"
      ]
     },
     "metadata": {},
     "output_type": "display_data"
    },
    {
     "data": {
      "application/vnd.jupyter.widget-view+json": {
       "model_id": "84e594f925184a66ba0432dcaf32f7fb",
       "version_major": 2,
       "version_minor": 0
      },
      "text/plain": [
       "backward: 0it [00:00, ?it/s]"
      ]
     },
     "metadata": {},
     "output_type": "display_data"
    },
    {
     "data": {
      "application/vnd.jupyter.widget-view+json": {
       "model_id": "2975fe0ab41c48d7b9b14c3ccd43364f",
       "version_major": 2,
       "version_minor": 0
      },
      "text/plain": [
       "backward: 0it [00:00, ?it/s]"
      ]
     },
     "metadata": {},
     "output_type": "display_data"
    },
    {
     "data": {
      "application/vnd.jupyter.widget-view+json": {
       "model_id": "3ba83da4bcee4317ac9d3580a9a174c8",
       "version_major": 2,
       "version_minor": 0
      },
      "text/plain": [
       "backward: 0it [00:00, ?it/s]"
      ]
     },
     "metadata": {},
     "output_type": "display_data"
    },
    {
     "data": {
      "application/vnd.jupyter.widget-view+json": {
       "model_id": "6d4ee7da336e40e491259aa697d896c5",
       "version_major": 2,
       "version_minor": 0
      },
      "text/plain": [
       "forward: 0it [00:00, ?it/s]"
      ]
     },
     "metadata": {},
     "output_type": "display_data"
    },
    {
     "data": {
      "application/vnd.jupyter.widget-view+json": {
       "model_id": "8adceec91097489c9b11164df3e7a2e6",
       "version_major": 2,
       "version_minor": 0
      },
      "text/plain": [
       "backward: 0it [00:00, ?it/s]"
      ]
     },
     "metadata": {},
     "output_type": "display_data"
    },
    {
     "data": {
      "application/vnd.jupyter.widget-view+json": {
       "model_id": "061cece640ab488dbe6157d8239aff3b",
       "version_major": 2,
       "version_minor": 0
      },
      "text/plain": [
       "backward: 0it [00:00, ?it/s]"
      ]
     },
     "metadata": {},
     "output_type": "display_data"
    },
    {
     "name": "stdout",
     "output_type": "stream",
     "text": [
      "scene id 83\n",
      "scene name car23\n"
     ]
    },
    {
     "data": {
      "application/vnd.jupyter.widget-view+json": {
       "model_id": "09923904f23e41d5b7b414e484399746",
       "version_major": 2,
       "version_minor": 0
      },
      "text/plain": [
       "forward: 0it [00:00, ?it/s]"
      ]
     },
     "metadata": {},
     "output_type": "display_data"
    },
    {
     "data": {
      "application/vnd.jupyter.widget-view+json": {
       "model_id": "547c1f5b51b04fbfb1e8e53bd783c7e8",
       "version_major": 2,
       "version_minor": 0
      },
      "text/plain": [
       "backward: 0it [00:00, ?it/s]"
      ]
     },
     "metadata": {},
     "output_type": "display_data"
    },
    {
     "data": {
      "application/vnd.jupyter.widget-view+json": {
       "model_id": "7f3c5745224949b7b6958505a92e590a",
       "version_major": 2,
       "version_minor": 0
      },
      "text/plain": [
       "backward: 0it [00:00, ?it/s]"
      ]
     },
     "metadata": {},
     "output_type": "display_data"
    },
    {
     "data": {
      "application/vnd.jupyter.widget-view+json": {
       "model_id": "094fc56e45d04984be6496557a6d0061",
       "version_major": 2,
       "version_minor": 0
      },
      "text/plain": [
       "forward: 0it [00:00, ?it/s]"
      ]
     },
     "metadata": {},
     "output_type": "display_data"
    },
    {
     "data": {
      "application/vnd.jupyter.widget-view+json": {
       "model_id": "dda68d4295ec4bdcb6abee951bc1be3a",
       "version_major": 2,
       "version_minor": 0
      },
      "text/plain": [
       "backward: 0it [00:00, ?it/s]"
      ]
     },
     "metadata": {},
     "output_type": "display_data"
    },
    {
     "name": "stdout",
     "output_type": "stream",
     "text": [
      "scene id 84\n",
      "scene name truck1\n"
     ]
    },
    {
     "data": {
      "application/vnd.jupyter.widget-view+json": {
       "model_id": "e05d4f1bd123484ba0ee3355009ef013",
       "version_major": 2,
       "version_minor": 0
      },
      "text/plain": [
       "forward: 0it [00:00, ?it/s]"
      ]
     },
     "metadata": {},
     "output_type": "display_data"
    },
    {
     "data": {
      "application/vnd.jupyter.widget-view+json": {
       "model_id": "b991d5cde554454a945ae37433c4b66b",
       "version_major": 2,
       "version_minor": 0
      },
      "text/plain": [
       "backward: 0it [00:00, ?it/s]"
      ]
     },
     "metadata": {},
     "output_type": "display_data"
    },
    {
     "data": {
      "application/vnd.jupyter.widget-view+json": {
       "model_id": "f6058eee21674a76bfaab404b3c320f3",
       "version_major": 2,
       "version_minor": 0
      },
      "text/plain": [
       "backward: 0it [00:00, ?it/s]"
      ]
     },
     "metadata": {},
     "output_type": "display_data"
    },
    {
     "data": {
      "application/vnd.jupyter.widget-view+json": {
       "model_id": "48f9b856b8154f4aab70b0a56ab24915",
       "version_major": 2,
       "version_minor": 0
      },
      "text/plain": [
       "forward: 0it [00:00, ?it/s]"
      ]
     },
     "metadata": {},
     "output_type": "display_data"
    },
    {
     "data": {
      "application/vnd.jupyter.widget-view+json": {
       "model_id": "52c5b86bf42a4f12ae7fea6871d12c79",
       "version_major": 2,
       "version_minor": 0
      },
      "text/plain": [
       "backward: 0it [00:00, ?it/s]"
      ]
     },
     "metadata": {},
     "output_type": "display_data"
    },
    {
     "name": "stdout",
     "output_type": "stream",
     "text": [
      "scene id 85\n",
      "scene name car15\n"
     ]
    },
    {
     "data": {
      "application/vnd.jupyter.widget-view+json": {
       "model_id": "3d5c76dacc2a430aad2a5d4b0d2f29b2",
       "version_major": 2,
       "version_minor": 0
      },
      "text/plain": [
       "forward: 0it [00:00, ?it/s]"
      ]
     },
     "metadata": {},
     "output_type": "display_data"
    },
    {
     "data": {
      "application/vnd.jupyter.widget-view+json": {
       "model_id": "30b728ff77a74c2d9ecfe17cd1e62733",
       "version_major": 2,
       "version_minor": 0
      },
      "text/plain": [
       "backward: 0it [00:00, ?it/s]"
      ]
     },
     "metadata": {},
     "output_type": "display_data"
    },
    {
     "data": {
      "application/vnd.jupyter.widget-view+json": {
       "model_id": "4305fb76662041e3b617d68ff5ab6f7c",
       "version_major": 2,
       "version_minor": 0
      },
      "text/plain": [
       "backward: 0it [00:00, ?it/s]"
      ]
     },
     "metadata": {},
     "output_type": "display_data"
    },
    {
     "data": {
      "application/vnd.jupyter.widget-view+json": {
       "model_id": "785b29b8de0c47ee8dd3c7fe55f74619",
       "version_major": 2,
       "version_minor": 0
      },
      "text/plain": [
       "forward: 0it [00:00, ?it/s]"
      ]
     },
     "metadata": {},
     "output_type": "display_data"
    },
    {
     "data": {
      "application/vnd.jupyter.widget-view+json": {
       "model_id": "7df005767dfb44c6a6b0abce70b792c1",
       "version_major": 2,
       "version_minor": 0
      },
      "text/plain": [
       "backward: 0it [00:00, ?it/s]"
      ]
     },
     "metadata": {},
     "output_type": "display_data"
    },
    {
     "name": "stdout",
     "output_type": "stream",
     "text": [
      "scene id 86\n",
      "scene name rider5\n"
     ]
    },
    {
     "data": {
      "application/vnd.jupyter.widget-view+json": {
       "model_id": "d187a7b53cef4c9285a7d80c6a6406b3",
       "version_major": 2,
       "version_minor": 0
      },
      "text/plain": [
       "forward: 0it [00:00, ?it/s]"
      ]
     },
     "metadata": {},
     "output_type": "display_data"
    },
    {
     "data": {
      "application/vnd.jupyter.widget-view+json": {
       "model_id": "1c68cd93eb50446aa01bd41a946fb747",
       "version_major": 2,
       "version_minor": 0
      },
      "text/plain": [
       "backward: 0it [00:00, ?it/s]"
      ]
     },
     "metadata": {},
     "output_type": "display_data"
    },
    {
     "data": {
      "application/vnd.jupyter.widget-view+json": {
       "model_id": "98a98a841b0a4731846367b42b6c3c8e",
       "version_major": 2,
       "version_minor": 0
      },
      "text/plain": [
       "backward: 0it [00:00, ?it/s]"
      ]
     },
     "metadata": {},
     "output_type": "display_data"
    },
    {
     "data": {
      "application/vnd.jupyter.widget-view+json": {
       "model_id": "2e71112c65a34988ab19fec7b8051247",
       "version_major": 2,
       "version_minor": 0
      },
      "text/plain": [
       "forward: 0it [00:00, ?it/s]"
      ]
     },
     "metadata": {},
     "output_type": "display_data"
    },
    {
     "data": {
      "application/vnd.jupyter.widget-view+json": {
       "model_id": "00b020b49abc4cf99670b33dd0bb8763",
       "version_major": 2,
       "version_minor": 0
      },
      "text/plain": [
       "backward: 0it [00:00, ?it/s]"
      ]
     },
     "metadata": {},
     "output_type": "display_data"
    },
    {
     "name": "stdout",
     "output_type": "stream",
     "text": [
      "scene id 87\n",
      "scene name car27\n"
     ]
    },
    {
     "data": {
      "application/vnd.jupyter.widget-view+json": {
       "model_id": "5c3fdef7fe6d44e38651862ffb64b13f",
       "version_major": 2,
       "version_minor": 0
      },
      "text/plain": [
       "forward: 0it [00:00, ?it/s]"
      ]
     },
     "metadata": {},
     "output_type": "display_data"
    },
    {
     "data": {
      "application/vnd.jupyter.widget-view+json": {
       "model_id": "c442017fc17445d0b1124506f499901a",
       "version_major": 2,
       "version_minor": 0
      },
      "text/plain": [
       "backward: 0it [00:00, ?it/s]"
      ]
     },
     "metadata": {},
     "output_type": "display_data"
    },
    {
     "name": "stdout",
     "output_type": "stream",
     "text": [
      "scene id 88\n",
      "scene name rider13\n"
     ]
    },
    {
     "data": {
      "application/vnd.jupyter.widget-view+json": {
       "model_id": "3dc7234df44c4286bdcc3292e4e3138f",
       "version_major": 2,
       "version_minor": 0
      },
      "text/plain": [
       "forward: 0it [00:00, ?it/s]"
      ]
     },
     "metadata": {},
     "output_type": "display_data"
    },
    {
     "data": {
      "application/vnd.jupyter.widget-view+json": {
       "model_id": "3656ff7218d34ca0bb444e6d0dd204b6",
       "version_major": 2,
       "version_minor": 0
      },
      "text/plain": [
       "backward: 0it [00:00, ?it/s]"
      ]
     },
     "metadata": {},
     "output_type": "display_data"
    },
    {
     "data": {
      "application/vnd.jupyter.widget-view+json": {
       "model_id": "3dc78a49b6294f7796717c346fe2b7b6",
       "version_major": 2,
       "version_minor": 0
      },
      "text/plain": [
       "backward: 0it [00:00, ?it/s]"
      ]
     },
     "metadata": {},
     "output_type": "display_data"
    },
    {
     "data": {
      "application/vnd.jupyter.widget-view+json": {
       "model_id": "03237d20625240b3bd813a97562a34f6",
       "version_major": 2,
       "version_minor": 0
      },
      "text/plain": [
       "backward: 0it [00:00, ?it/s]"
      ]
     },
     "metadata": {},
     "output_type": "display_data"
    },
    {
     "data": {
      "application/vnd.jupyter.widget-view+json": {
       "model_id": "11a306b87d534623955245fc1e72c160",
       "version_major": 2,
       "version_minor": 0
      },
      "text/plain": [
       "forward: 0it [00:00, ?it/s]"
      ]
     },
     "metadata": {},
     "output_type": "display_data"
    },
    {
     "data": {
      "application/vnd.jupyter.widget-view+json": {
       "model_id": "e7e73fb19611410f8aae7faf0367d909",
       "version_major": 2,
       "version_minor": 0
      },
      "text/plain": [
       "backward: 0it [00:00, ?it/s]"
      ]
     },
     "metadata": {},
     "output_type": "display_data"
    },
    {
     "data": {
      "application/vnd.jupyter.widget-view+json": {
       "model_id": "3069fc983eb645f98ceca974843bbfff",
       "version_major": 2,
       "version_minor": 0
      },
      "text/plain": [
       "backward: 0it [00:00, ?it/s]"
      ]
     },
     "metadata": {},
     "output_type": "display_data"
    },
    {
     "data": {
      "application/vnd.jupyter.widget-view+json": {
       "model_id": "bd75fc44ac3b45b69f1fae17d2a637ac",
       "version_major": 2,
       "version_minor": 0
      },
      "text/plain": [
       "forward: 0it [00:00, ?it/s]"
      ]
     },
     "metadata": {},
     "output_type": "display_data"
    },
    {
     "name": "stdout",
     "output_type": "stream",
     "text": [
      "scene id 89\n",
      "scene name car34\n"
     ]
    },
    {
     "data": {
      "application/vnd.jupyter.widget-view+json": {
       "model_id": "183a24f42a74457c8746391d777626d1",
       "version_major": 2,
       "version_minor": 0
      },
      "text/plain": [
       "forward: 0it [00:00, ?it/s]"
      ]
     },
     "metadata": {},
     "output_type": "display_data"
    },
    {
     "data": {
      "application/vnd.jupyter.widget-view+json": {
       "model_id": "c389e084604a48f48648ee6f434fd31b",
       "version_major": 2,
       "version_minor": 0
      },
      "text/plain": [
       "backward: 0it [00:00, ?it/s]"
      ]
     },
     "metadata": {},
     "output_type": "display_data"
    },
    {
     "name": "stdout",
     "output_type": "stream",
     "text": [
      "scene id 90\n",
      "scene name car39\n"
     ]
    },
    {
     "data": {
      "application/vnd.jupyter.widget-view+json": {
       "model_id": "13c8d71d2c5644e8bbed6630f5c2c366",
       "version_major": 2,
       "version_minor": 0
      },
      "text/plain": [
       "forward: 0it [00:00, ?it/s]"
      ]
     },
     "metadata": {},
     "output_type": "display_data"
    },
    {
     "data": {
      "application/vnd.jupyter.widget-view+json": {
       "model_id": "9354f9589f3845188f5ee0cbb193a66d",
       "version_major": 2,
       "version_minor": 0
      },
      "text/plain": [
       "backward: 0it [00:00, ?it/s]"
      ]
     },
     "metadata": {},
     "output_type": "display_data"
    },
    {
     "data": {
      "application/vnd.jupyter.widget-view+json": {
       "model_id": "b6a43695e994407d91815401cfd28525",
       "version_major": 2,
       "version_minor": 0
      },
      "text/plain": [
       "backward: 0it [00:00, ?it/s]"
      ]
     },
     "metadata": {},
     "output_type": "display_data"
    },
    {
     "data": {
      "application/vnd.jupyter.widget-view+json": {
       "model_id": "42d51b08116349818f35505288c0fe2b",
       "version_major": 2,
       "version_minor": 0
      },
      "text/plain": [
       "forward: 0it [00:00, ?it/s]"
      ]
     },
     "metadata": {},
     "output_type": "display_data"
    },
    {
     "data": {
      "application/vnd.jupyter.widget-view+json": {
       "model_id": "a3709915eca949b18f5ce653c916522c",
       "version_major": 2,
       "version_minor": 0
      },
      "text/plain": [
       "backward: 0it [00:00, ?it/s]"
      ]
     },
     "metadata": {},
     "output_type": "display_data"
    },
    {
     "data": {
      "application/vnd.jupyter.widget-view+json": {
       "model_id": "92842959cbb241e4bba072e133f0e602",
       "version_major": 2,
       "version_minor": 0
      },
      "text/plain": [
       "backward: 0it [00:00, ?it/s]"
      ]
     },
     "metadata": {},
     "output_type": "display_data"
    },
    {
     "data": {
      "application/vnd.jupyter.widget-view+json": {
       "model_id": "d40b65802c924980998b85694f463dc6",
       "version_major": 2,
       "version_minor": 0
      },
      "text/plain": [
       "forward: 0it [00:00, ?it/s]"
      ]
     },
     "metadata": {},
     "output_type": "display_data"
    },
    {
     "name": "stdout",
     "output_type": "stream",
     "text": [
      "scene id 91\n",
      "scene name car33\n"
     ]
    },
    {
     "data": {
      "application/vnd.jupyter.widget-view+json": {
       "model_id": "72644e2fd4984c289c0962af7dff555c",
       "version_major": 2,
       "version_minor": 0
      },
      "text/plain": [
       "forward: 0it [00:00, ?it/s]"
      ]
     },
     "metadata": {},
     "output_type": "display_data"
    },
    {
     "data": {
      "application/vnd.jupyter.widget-view+json": {
       "model_id": "277537c4ad7f449abcb7041a9d5176ab",
       "version_major": 2,
       "version_minor": 0
      },
      "text/plain": [
       "backward: 0it [00:00, ?it/s]"
      ]
     },
     "metadata": {},
     "output_type": "display_data"
    },
    {
     "data": {
      "application/vnd.jupyter.widget-view+json": {
       "model_id": "a0c69080d4374366ad9a74e32adbb8d0",
       "version_major": 2,
       "version_minor": 0
      },
      "text/plain": [
       "backward: 0it [00:00, ?it/s]"
      ]
     },
     "metadata": {},
     "output_type": "display_data"
    },
    {
     "data": {
      "application/vnd.jupyter.widget-view+json": {
       "model_id": "ca1e8a97d4344f8d981fd9aa151b1b36",
       "version_major": 2,
       "version_minor": 0
      },
      "text/plain": [
       "forward: 0it [00:00, ?it/s]"
      ]
     },
     "metadata": {},
     "output_type": "display_data"
    },
    {
     "data": {
      "application/vnd.jupyter.widget-view+json": {
       "model_id": "ac414d457b334c46ab6f329802ff4710",
       "version_major": 2,
       "version_minor": 0
      },
      "text/plain": [
       "backward: 0it [00:00, ?it/s]"
      ]
     },
     "metadata": {},
     "output_type": "display_data"
    },
    {
     "name": "stdout",
     "output_type": "stream",
     "text": [
      "scene id 92\n",
      "scene name car20\n"
     ]
    },
    {
     "data": {
      "application/vnd.jupyter.widget-view+json": {
       "model_id": "21af11abfedc48328793d76d4cb20e45",
       "version_major": 2,
       "version_minor": 0
      },
      "text/plain": [
       "forward: 0it [00:00, ?it/s]"
      ]
     },
     "metadata": {},
     "output_type": "display_data"
    },
    {
     "data": {
      "application/vnd.jupyter.widget-view+json": {
       "model_id": "5f38557881764a04aea511a4b267cb00",
       "version_major": 2,
       "version_minor": 0
      },
      "text/plain": [
       "backward: 0it [00:00, ?it/s]"
      ]
     },
     "metadata": {},
     "output_type": "display_data"
    },
    {
     "data": {
      "application/vnd.jupyter.widget-view+json": {
       "model_id": "ead757757b394ddfbda9772ce6c483df",
       "version_major": 2,
       "version_minor": 0
      },
      "text/plain": [
       "backward: 0it [00:00, ?it/s]"
      ]
     },
     "metadata": {},
     "output_type": "display_data"
    },
    {
     "data": {
      "application/vnd.jupyter.widget-view+json": {
       "model_id": "a312e203a8a74efc8247fd8499779659",
       "version_major": 2,
       "version_minor": 0
      },
      "text/plain": [
       "forward: 0it [00:00, ?it/s]"
      ]
     },
     "metadata": {},
     "output_type": "display_data"
    },
    {
     "data": {
      "application/vnd.jupyter.widget-view+json": {
       "model_id": "e0ca0cf1d0324e7c9577a3f0d8ea0a4c",
       "version_major": 2,
       "version_minor": 0
      },
      "text/plain": [
       "backward: 0it [00:00, ?it/s]"
      ]
     },
     "metadata": {},
     "output_type": "display_data"
    },
    {
     "name": "stdout",
     "output_type": "stream",
     "text": [
      "scene id 93\n",
      "scene name rider8\n"
     ]
    },
    {
     "data": {
      "application/vnd.jupyter.widget-view+json": {
       "model_id": "729d0e423722448a9c11208718225d24",
       "version_major": 2,
       "version_minor": 0
      },
      "text/plain": [
       "forward: 0it [00:00, ?it/s]"
      ]
     },
     "metadata": {},
     "output_type": "display_data"
    },
    {
     "data": {
      "application/vnd.jupyter.widget-view+json": {
       "model_id": "50f7f644562446f68f4b4bfb851465eb",
       "version_major": 2,
       "version_minor": 0
      },
      "text/plain": [
       "backward: 0it [00:00, ?it/s]"
      ]
     },
     "metadata": {},
     "output_type": "display_data"
    },
    {
     "data": {
      "application/vnd.jupyter.widget-view+json": {
       "model_id": "0e9b34ee75d2470b859bd03edec58b39",
       "version_major": 2,
       "version_minor": 0
      },
      "text/plain": [
       "backward: 0it [00:00, ?it/s]"
      ]
     },
     "metadata": {},
     "output_type": "display_data"
    },
    {
     "data": {
      "application/vnd.jupyter.widget-view+json": {
       "model_id": "8575210364f140d5b995f817edd760d7",
       "version_major": 2,
       "version_minor": 0
      },
      "text/plain": [
       "forward: 0it [00:00, ?it/s]"
      ]
     },
     "metadata": {},
     "output_type": "display_data"
    },
    {
     "data": {
      "application/vnd.jupyter.widget-view+json": {
       "model_id": "a32d52b68827467194a847ec3e5120fb",
       "version_major": 2,
       "version_minor": 0
      },
      "text/plain": [
       "backward: 0it [00:00, ?it/s]"
      ]
     },
     "metadata": {},
     "output_type": "display_data"
    },
    {
     "name": "stdout",
     "output_type": "stream",
     "text": [
      "scene id 94\n",
      "scene name car18\n"
     ]
    },
    {
     "data": {
      "application/vnd.jupyter.widget-view+json": {
       "model_id": "a51ff86c2dcc47ce8ef33432f2332fda",
       "version_major": 2,
       "version_minor": 0
      },
      "text/plain": [
       "forward: 0it [00:00, ?it/s]"
      ]
     },
     "metadata": {},
     "output_type": "display_data"
    },
    {
     "data": {
      "application/vnd.jupyter.widget-view+json": {
       "model_id": "88c89ffa871947a3ba9bffae98a66255",
       "version_major": 2,
       "version_minor": 0
      },
      "text/plain": [
       "backward: 0it [00:00, ?it/s]"
      ]
     },
     "metadata": {},
     "output_type": "display_data"
    },
    {
     "data": {
      "application/vnd.jupyter.widget-view+json": {
       "model_id": "db71d6bbdcc44c5cb33c11e600388e68",
       "version_major": 2,
       "version_minor": 0
      },
      "text/plain": [
       "backward: 0it [00:00, ?it/s]"
      ]
     },
     "metadata": {},
     "output_type": "display_data"
    },
    {
     "data": {
      "application/vnd.jupyter.widget-view+json": {
       "model_id": "37cc92f344d2477b9a4883dbb9aa7041",
       "version_major": 2,
       "version_minor": 0
      },
      "text/plain": [
       "backward: 0it [00:00, ?it/s]"
      ]
     },
     "metadata": {},
     "output_type": "display_data"
    },
    {
     "data": {
      "application/vnd.jupyter.widget-view+json": {
       "model_id": "b39418f837fd4d67a0993d30d9cc0592",
       "version_major": 2,
       "version_minor": 0
      },
      "text/plain": [
       "backward: 0it [00:00, ?it/s]"
      ]
     },
     "metadata": {},
     "output_type": "display_data"
    },
    {
     "data": {
      "application/vnd.jupyter.widget-view+json": {
       "model_id": "8676628553e442ffafdeeea67cb38b13",
       "version_major": 2,
       "version_minor": 0
      },
      "text/plain": [
       "forward: 0it [00:00, ?it/s]"
      ]
     },
     "metadata": {},
     "output_type": "display_data"
    },
    {
     "data": {
      "application/vnd.jupyter.widget-view+json": {
       "model_id": "a468733e4506452f829686790fe00327",
       "version_major": 2,
       "version_minor": 0
      },
      "text/plain": [
       "backward: 0it [00:00, ?it/s]"
      ]
     },
     "metadata": {},
     "output_type": "display_data"
    },
    {
     "data": {
      "application/vnd.jupyter.widget-view+json": {
       "model_id": "a6ae0c3fd0bf49c6ad1824e6e6334786",
       "version_major": 2,
       "version_minor": 0
      },
      "text/plain": [
       "backward: 0it [00:00, ?it/s]"
      ]
     },
     "metadata": {},
     "output_type": "display_data"
    },
    {
     "data": {
      "application/vnd.jupyter.widget-view+json": {
       "model_id": "17bab97230ed43a699522965854efe0b",
       "version_major": 2,
       "version_minor": 0
      },
      "text/plain": [
       "backward: 0it [00:00, ?it/s]"
      ]
     },
     "metadata": {},
     "output_type": "display_data"
    },
    {
     "name": "stdout",
     "output_type": "stream",
     "text": [
      "scene id 95\n",
      "scene name rainystreet5\n"
     ]
    },
    {
     "data": {
      "application/vnd.jupyter.widget-view+json": {
       "model_id": "b49296599ed54a93924ed1b11a4d9676",
       "version_major": 2,
       "version_minor": 0
      },
      "text/plain": [
       "forward: 0it [00:00, ?it/s]"
      ]
     },
     "metadata": {},
     "output_type": "display_data"
    },
    {
     "data": {
      "application/vnd.jupyter.widget-view+json": {
       "model_id": "ab9816d5ad3d4c679345fcb3843997b5",
       "version_major": 2,
       "version_minor": 0
      },
      "text/plain": [
       "backward: 0it [00:00, ?it/s]"
      ]
     },
     "metadata": {},
     "output_type": "display_data"
    },
    {
     "data": {
      "application/vnd.jupyter.widget-view+json": {
       "model_id": "778b87830ff24ee293ee6ad9c086371f",
       "version_major": 2,
       "version_minor": 0
      },
      "text/plain": [
       "backward: 0it [00:00, ?it/s]"
      ]
     },
     "metadata": {},
     "output_type": "display_data"
    },
    {
     "data": {
      "application/vnd.jupyter.widget-view+json": {
       "model_id": "34f0a1fbbd4b4408a7cbf0f22168c436",
       "version_major": 2,
       "version_minor": 0
      },
      "text/plain": [
       "backward: 0it [00:00, ?it/s]"
      ]
     },
     "metadata": {},
     "output_type": "display_data"
    },
    {
     "data": {
      "application/vnd.jupyter.widget-view+json": {
       "model_id": "6b1149afea844105a1bc5bcca577eb41",
       "version_major": 2,
       "version_minor": 0
      },
      "text/plain": [
       "backward: 0it [00:00, ?it/s]"
      ]
     },
     "metadata": {},
     "output_type": "display_data"
    },
    {
     "data": {
      "application/vnd.jupyter.widget-view+json": {
       "model_id": "7417a64fef144ec8860105cf1a68eb38",
       "version_major": 2,
       "version_minor": 0
      },
      "text/plain": [
       "forward: 0it [00:00, ?it/s]"
      ]
     },
     "metadata": {},
     "output_type": "display_data"
    },
    {
     "data": {
      "application/vnd.jupyter.widget-view+json": {
       "model_id": "3429c6b3b56b4d688001477a343a8800",
       "version_major": 2,
       "version_minor": 0
      },
      "text/plain": [
       "backward: 0it [00:00, ?it/s]"
      ]
     },
     "metadata": {},
     "output_type": "display_data"
    },
    {
     "data": {
      "application/vnd.jupyter.widget-view+json": {
       "model_id": "c803c81e890f4637a5caf88d0a1f068d",
       "version_major": 2,
       "version_minor": 0
      },
      "text/plain": [
       "backward: 0it [00:00, ?it/s]"
      ]
     },
     "metadata": {},
     "output_type": "display_data"
    },
    {
     "data": {
      "application/vnd.jupyter.widget-view+json": {
       "model_id": "d77131b3ae3641efbcee884534cc0451",
       "version_major": 2,
       "version_minor": 0
      },
      "text/plain": [
       "backward: 0it [00:00, ?it/s]"
      ]
     },
     "metadata": {},
     "output_type": "display_data"
    },
    {
     "data": {
      "application/vnd.jupyter.widget-view+json": {
       "model_id": "a983011349854c6db563be583c89bb26",
       "version_major": 2,
       "version_minor": 0
      },
      "text/plain": [
       "forward: 0it [00:00, ?it/s]"
      ]
     },
     "metadata": {},
     "output_type": "display_data"
    },
    {
     "name": "stdout",
     "output_type": "stream",
     "text": [
      "scene id 96\n",
      "scene name duck3\n"
     ]
    },
    {
     "data": {
      "application/vnd.jupyter.widget-view+json": {
       "model_id": "a333d68d47ee4985b55387eb5796a4ff",
       "version_major": 2,
       "version_minor": 0
      },
      "text/plain": [
       "forward: 0it [00:00, ?it/s]"
      ]
     },
     "metadata": {},
     "output_type": "display_data"
    },
    {
     "data": {
      "application/vnd.jupyter.widget-view+json": {
       "model_id": "4d2e413630fd4ecb8e6cec565396fa1b",
       "version_major": 2,
       "version_minor": 0
      },
      "text/plain": [
       "backward: 0it [00:00, ?it/s]"
      ]
     },
     "metadata": {},
     "output_type": "display_data"
    },
    {
     "data": {
      "application/vnd.jupyter.widget-view+json": {
       "model_id": "6e67d3a65e214edcabb19ad9e3dc72fe",
       "version_major": 2,
       "version_minor": 0
      },
      "text/plain": [
       "backward: 0it [00:00, ?it/s]"
      ]
     },
     "metadata": {},
     "output_type": "display_data"
    },
    {
     "data": {
      "application/vnd.jupyter.widget-view+json": {
       "model_id": "678ff890f26f497b926e20f4f8b53d3a",
       "version_major": 2,
       "version_minor": 0
      },
      "text/plain": [
       "forward: 0it [00:00, ?it/s]"
      ]
     },
     "metadata": {},
     "output_type": "display_data"
    },
    {
     "data": {
      "application/vnd.jupyter.widget-view+json": {
       "model_id": "8586714213a84ed6a2826fab1dd7be4b",
       "version_major": 2,
       "version_minor": 0
      },
      "text/plain": [
       "backward: 0it [00:00, ?it/s]"
      ]
     },
     "metadata": {},
     "output_type": "display_data"
    },
    {
     "name": "stdout",
     "output_type": "stream",
     "text": [
      "scene id 97\n",
      "scene name bytheriver1\n"
     ]
    },
    {
     "data": {
      "application/vnd.jupyter.widget-view+json": {
       "model_id": "5d6fc5040c4e43b0a778d45c049b2ecc",
       "version_major": 2,
       "version_minor": 0
      },
      "text/plain": [
       "forward: 0it [00:00, ?it/s]"
      ]
     },
     "metadata": {},
     "output_type": "display_data"
    },
    {
     "data": {
      "application/vnd.jupyter.widget-view+json": {
       "model_id": "dcd477daf3344004b2718f5e32fb4ea5",
       "version_major": 2,
       "version_minor": 0
      },
      "text/plain": [
       "backward: 0it [00:00, ?it/s]"
      ]
     },
     "metadata": {},
     "output_type": "display_data"
    },
    {
     "data": {
      "application/vnd.jupyter.widget-view+json": {
       "model_id": "fd19fb26026b4d0ca5fe0472a7e61d6a",
       "version_major": 2,
       "version_minor": 0
      },
      "text/plain": [
       "backward: 0it [00:00, ?it/s]"
      ]
     },
     "metadata": {},
     "output_type": "display_data"
    },
    {
     "data": {
      "application/vnd.jupyter.widget-view+json": {
       "model_id": "a616369a60524ea89c2ae387dff8803e",
       "version_major": 2,
       "version_minor": 0
      },
      "text/plain": [
       "forward: 0it [00:00, ?it/s]"
      ]
     },
     "metadata": {},
     "output_type": "display_data"
    },
    {
     "data": {
      "application/vnd.jupyter.widget-view+json": {
       "model_id": "71e17cf2f55147e7bb43a9796b50126c",
       "version_major": 2,
       "version_minor": 0
      },
      "text/plain": [
       "backward: 0it [00:00, ?it/s]"
      ]
     },
     "metadata": {},
     "output_type": "display_data"
    },
    {
     "name": "stdout",
     "output_type": "stream",
     "text": [
      "scene id 98\n",
      "scene name partylights3\n"
     ]
    },
    {
     "data": {
      "application/vnd.jupyter.widget-view+json": {
       "model_id": "11a39f60b0604397b89f0d38f8e572cb",
       "version_major": 2,
       "version_minor": 0
      },
      "text/plain": [
       "forward: 0it [00:00, ?it/s]"
      ]
     },
     "metadata": {},
     "output_type": "display_data"
    },
    {
     "data": {
      "application/vnd.jupyter.widget-view+json": {
       "model_id": "67185093d84c4097a168c877a8357a89",
       "version_major": 2,
       "version_minor": 0
      },
      "text/plain": [
       "backward: 0it [00:00, ?it/s]"
      ]
     },
     "metadata": {},
     "output_type": "display_data"
    },
    {
     "data": {
      "application/vnd.jupyter.widget-view+json": {
       "model_id": "cb6e05d5578849acba7abb8f9bbabfd6",
       "version_major": 2,
       "version_minor": 0
      },
      "text/plain": [
       "backward: 0it [00:00, ?it/s]"
      ]
     },
     "metadata": {},
     "output_type": "display_data"
    },
    {
     "data": {
      "application/vnd.jupyter.widget-view+json": {
       "model_id": "3ce33eaab5484c1eb63b2ed69d136e27",
       "version_major": 2,
       "version_minor": 0
      },
      "text/plain": [
       "backward: 0it [00:00, ?it/s]"
      ]
     },
     "metadata": {},
     "output_type": "display_data"
    },
    {
     "data": {
      "application/vnd.jupyter.widget-view+json": {
       "model_id": "edfcffaa5261435e8215dc2f6e7f3700",
       "version_major": 2,
       "version_minor": 0
      },
      "text/plain": [
       "backward: 0it [00:00, ?it/s]"
      ]
     },
     "metadata": {},
     "output_type": "display_data"
    },
    {
     "data": {
      "application/vnd.jupyter.widget-view+json": {
       "model_id": "46e99522525548d285b8eceb3b9fffb7",
       "version_major": 2,
       "version_minor": 0
      },
      "text/plain": [
       "forward: 0it [00:00, ?it/s]"
      ]
     },
     "metadata": {},
     "output_type": "display_data"
    },
    {
     "data": {
      "application/vnd.jupyter.widget-view+json": {
       "model_id": "ee114aaa505b42a79d3cecae6413de4a",
       "version_major": 2,
       "version_minor": 0
      },
      "text/plain": [
       "backward: 0it [00:00, ?it/s]"
      ]
     },
     "metadata": {},
     "output_type": "display_data"
    },
    {
     "data": {
      "application/vnd.jupyter.widget-view+json": {
       "model_id": "7390675b4ed64aaab32488e75b7cf83b",
       "version_major": 2,
       "version_minor": 0
      },
      "text/plain": [
       "backward: 0it [00:00, ?it/s]"
      ]
     },
     "metadata": {},
     "output_type": "display_data"
    },
    {
     "data": {
      "application/vnd.jupyter.widget-view+json": {
       "model_id": "49364f17cb784902bc8ed479878e7677",
       "version_major": 2,
       "version_minor": 0
      },
      "text/plain": [
       "forward: 0it [00:00, ?it/s]"
      ]
     },
     "metadata": {},
     "output_type": "display_data"
    },
    {
     "name": "stdout",
     "output_type": "stream",
     "text": [
      "scene id 99\n",
      "scene name rainystreet2\n"
     ]
    },
    {
     "data": {
      "application/vnd.jupyter.widget-view+json": {
       "model_id": "72fabe290a0a4b93a6d56eac6b16cdcc",
       "version_major": 2,
       "version_minor": 0
      },
      "text/plain": [
       "forward: 0it [00:00, ?it/s]"
      ]
     },
     "metadata": {},
     "output_type": "display_data"
    },
    {
     "data": {
      "application/vnd.jupyter.widget-view+json": {
       "model_id": "dd3a7cd214cc41d0a05c85560153ba74",
       "version_major": 2,
       "version_minor": 0
      },
      "text/plain": [
       "backward: 0it [00:00, ?it/s]"
      ]
     },
     "metadata": {},
     "output_type": "display_data"
    },
    {
     "data": {
      "application/vnd.jupyter.widget-view+json": {
       "model_id": "cf7a91eae9dc4ea2840288d88a0b1355",
       "version_major": 2,
       "version_minor": 0
      },
      "text/plain": [
       "backward: 0it [00:00, ?it/s]"
      ]
     },
     "metadata": {},
     "output_type": "display_data"
    },
    {
     "data": {
      "application/vnd.jupyter.widget-view+json": {
       "model_id": "0276147076c54f4380b5d7c51d549040",
       "version_major": 2,
       "version_minor": 0
      },
      "text/plain": [
       "backward: 0it [00:00, ?it/s]"
      ]
     },
     "metadata": {},
     "output_type": "display_data"
    },
    {
     "data": {
      "application/vnd.jupyter.widget-view+json": {
       "model_id": "088623692c5f49a3a22b683c8fab1d5d",
       "version_major": 2,
       "version_minor": 0
      },
      "text/plain": [
       "forward: 0it [00:00, ?it/s]"
      ]
     },
     "metadata": {},
     "output_type": "display_data"
    },
    {
     "data": {
      "application/vnd.jupyter.widget-view+json": {
       "model_id": "9cf0933c8d66400a9e8fe4bfc7fa0b44",
       "version_major": 2,
       "version_minor": 0
      },
      "text/plain": [
       "backward: 0it [00:00, ?it/s]"
      ]
     },
     "metadata": {},
     "output_type": "display_data"
    },
    {
     "data": {
      "application/vnd.jupyter.widget-view+json": {
       "model_id": "5b0fbe575ef349cdb14a7a275cc58212",
       "version_major": 2,
       "version_minor": 0
      },
      "text/plain": [
       "backward: 0it [00:00, ?it/s]"
      ]
     },
     "metadata": {},
     "output_type": "display_data"
    },
    {
     "data": {
      "application/vnd.jupyter.widget-view+json": {
       "model_id": "170613d2f95949fb99f0074c6dbce9fd",
       "version_major": 2,
       "version_minor": 0
      },
      "text/plain": [
       "forward: 0it [00:00, ?it/s]"
      ]
     },
     "metadata": {},
     "output_type": "display_data"
    },
    {
     "name": "stdout",
     "output_type": "stream",
     "text": [
      "scene id 100\n",
      "scene name glass2\n"
     ]
    },
    {
     "data": {
      "application/vnd.jupyter.widget-view+json": {
       "model_id": "c5b8ae0de2d84ee8951414f3104589e0",
       "version_major": 2,
       "version_minor": 0
      },
      "text/plain": [
       "forward: 0it [00:00, ?it/s]"
      ]
     },
     "metadata": {},
     "output_type": "display_data"
    },
    {
     "data": {
      "application/vnd.jupyter.widget-view+json": {
       "model_id": "c6fb7f3f6ebd4dfba490b1577a36eb6d",
       "version_major": 2,
       "version_minor": 0
      },
      "text/plain": [
       "backward: 0it [00:00, ?it/s]"
      ]
     },
     "metadata": {},
     "output_type": "display_data"
    },
    {
     "name": "stdout",
     "output_type": "stream",
     "text": [
      "scene id 101\n",
      "scene name cards11\n"
     ]
    },
    {
     "data": {
      "application/vnd.jupyter.widget-view+json": {
       "model_id": "2fe2cc5df7194d4aa1308054ca1e6271",
       "version_major": 2,
       "version_minor": 0
      },
      "text/plain": [
       "forward: 0it [00:00, ?it/s]"
      ]
     },
     "metadata": {},
     "output_type": "display_data"
    },
    {
     "data": {
      "application/vnd.jupyter.widget-view+json": {
       "model_id": "ce4b165a521d46f58ae6b44fbfdd2acd",
       "version_major": 2,
       "version_minor": 0
      },
      "text/plain": [
       "backward: 0it [00:00, ?it/s]"
      ]
     },
     "metadata": {},
     "output_type": "display_data"
    },
    {
     "data": {
      "application/vnd.jupyter.widget-view+json": {
       "model_id": "a85a8f442b4a45059dc09a15a53f150a",
       "version_major": 2,
       "version_minor": 0
      },
      "text/plain": [
       "backward: 0it [00:00, ?it/s]"
      ]
     },
     "metadata": {},
     "output_type": "display_data"
    },
    {
     "data": {
      "application/vnd.jupyter.widget-view+json": {
       "model_id": "62b6b3c35ab3453f95dd6a13e5a744a1",
       "version_major": 2,
       "version_minor": 0
      },
      "text/plain": [
       "backward: 0it [00:00, ?it/s]"
      ]
     },
     "metadata": {},
     "output_type": "display_data"
    },
    {
     "data": {
      "application/vnd.jupyter.widget-view+json": {
       "model_id": "5fea70b7984a4fd1bba74f80e3f1f665",
       "version_major": 2,
       "version_minor": 0
      },
      "text/plain": [
       "forward: 0it [00:00, ?it/s]"
      ]
     },
     "metadata": {},
     "output_type": "display_data"
    },
    {
     "data": {
      "application/vnd.jupyter.widget-view+json": {
       "model_id": "a542c4bccede4cd886e1fe85eec5cfd4",
       "version_major": 2,
       "version_minor": 0
      },
      "text/plain": [
       "backward: 0it [00:00, ?it/s]"
      ]
     },
     "metadata": {},
     "output_type": "display_data"
    },
    {
     "data": {
      "application/vnd.jupyter.widget-view+json": {
       "model_id": "92b4153efa0044c882f936da463e0b1d",
       "version_major": 2,
       "version_minor": 0
      },
      "text/plain": [
       "backward: 0it [00:00, ?it/s]"
      ]
     },
     "metadata": {},
     "output_type": "display_data"
    },
    {
     "name": "stdout",
     "output_type": "stream",
     "text": [
      "scene id 102\n",
      "scene name ball&mirror7\n"
     ]
    },
    {
     "data": {
      "application/vnd.jupyter.widget-view+json": {
       "model_id": "3d4143fb69d34c35a54f318399a7c806",
       "version_major": 2,
       "version_minor": 0
      },
      "text/plain": [
       "forward: 0it [00:00, ?it/s]"
      ]
     },
     "metadata": {},
     "output_type": "display_data"
    },
    {
     "data": {
      "application/vnd.jupyter.widget-view+json": {
       "model_id": "13a2d235121d458dbbefb7b7f9b26d10",
       "version_major": 2,
       "version_minor": 0
      },
      "text/plain": [
       "backward: 0it [00:00, ?it/s]"
      ]
     },
     "metadata": {},
     "output_type": "display_data"
    },
    {
     "data": {
      "application/vnd.jupyter.widget-view+json": {
       "model_id": "6f2e4c0eb46c48919641edd9e6c8d51a",
       "version_major": 2,
       "version_minor": 0
      },
      "text/plain": [
       "backward: 0it [00:00, ?it/s]"
      ]
     },
     "metadata": {},
     "output_type": "display_data"
    },
    {
     "data": {
      "application/vnd.jupyter.widget-view+json": {
       "model_id": "fa261542d8c4474d9501ea95bc6d3a95",
       "version_major": 2,
       "version_minor": 0
      },
      "text/plain": [
       "forward: 0it [00:00, ?it/s]"
      ]
     },
     "metadata": {},
     "output_type": "display_data"
    },
    {
     "data": {
      "application/vnd.jupyter.widget-view+json": {
       "model_id": "a052cbf8490d4f08bfdcc8fc9593959e",
       "version_major": 2,
       "version_minor": 0
      },
      "text/plain": [
       "backward: 0it [00:00, ?it/s]"
      ]
     },
     "metadata": {},
     "output_type": "display_data"
    },
    {
     "name": "stdout",
     "output_type": "stream",
     "text": [
      "scene id 103\n",
      "scene name dice1\n"
     ]
    },
    {
     "data": {
      "application/vnd.jupyter.widget-view+json": {
       "model_id": "b1cc94c2b55349bda0d4851055e98086",
       "version_major": 2,
       "version_minor": 0
      },
      "text/plain": [
       "forward: 0it [00:00, ?it/s]"
      ]
     },
     "metadata": {},
     "output_type": "display_data"
    },
    {
     "data": {
      "application/vnd.jupyter.widget-view+json": {
       "model_id": "df6d0794a66244e88647c31c04acb63c",
       "version_major": 2,
       "version_minor": 0
      },
      "text/plain": [
       "backward: 0it [00:00, ?it/s]"
      ]
     },
     "metadata": {},
     "output_type": "display_data"
    },
    {
     "data": {
      "application/vnd.jupyter.widget-view+json": {
       "model_id": "2596d1cb1560418aab4e08b255f4f271",
       "version_major": 2,
       "version_minor": 0
      },
      "text/plain": [
       "backward: 0it [00:00, ?it/s]"
      ]
     },
     "metadata": {},
     "output_type": "display_data"
    },
    {
     "data": {
      "application/vnd.jupyter.widget-view+json": {
       "model_id": "71f0da46ed2041cba567f01a78dfe601",
       "version_major": 2,
       "version_minor": 0
      },
      "text/plain": [
       "forward: 0it [00:00, ?it/s]"
      ]
     },
     "metadata": {},
     "output_type": "display_data"
    },
    {
     "data": {
      "application/vnd.jupyter.widget-view+json": {
       "model_id": "62cb71b36a2045d9a0f3e735a4414b26",
       "version_major": 2,
       "version_minor": 0
      },
      "text/plain": [
       "backward: 0it [00:00, ?it/s]"
      ]
     },
     "metadata": {},
     "output_type": "display_data"
    },
    {
     "name": "stdout",
     "output_type": "stream",
     "text": [
      "scene id 104\n",
      "scene name receipts3\n"
     ]
    },
    {
     "data": {
      "application/vnd.jupyter.widget-view+json": {
       "model_id": "05f19d438ba4440a988717b1425bbf9a",
       "version_major": 2,
       "version_minor": 0
      },
      "text/plain": [
       "forward: 0it [00:00, ?it/s]"
      ]
     },
     "metadata": {},
     "output_type": "display_data"
    },
    {
     "data": {
      "application/vnd.jupyter.widget-view+json": {
       "model_id": "60f096210c1d41c4a6c7a62af9218a60",
       "version_major": 2,
       "version_minor": 0
      },
      "text/plain": [
       "backward: 0it [00:00, ?it/s]"
      ]
     },
     "metadata": {},
     "output_type": "display_data"
    },
    {
     "data": {
      "application/vnd.jupyter.widget-view+json": {
       "model_id": "5b60b604b2244ef3afbdf5600aa09817",
       "version_major": 2,
       "version_minor": 0
      },
      "text/plain": [
       "backward: 0it [00:00, ?it/s]"
      ]
     },
     "metadata": {},
     "output_type": "display_data"
    },
    {
     "data": {
      "application/vnd.jupyter.widget-view+json": {
       "model_id": "97700e4361fa4bffaa8d80918b4baf54",
       "version_major": 2,
       "version_minor": 0
      },
      "text/plain": [
       "forward: 0it [00:00, ?it/s]"
      ]
     },
     "metadata": {},
     "output_type": "display_data"
    },
    {
     "data": {
      "application/vnd.jupyter.widget-view+json": {
       "model_id": "f6674c399e394e13b499af3f0ff528d2",
       "version_major": 2,
       "version_minor": 0
      },
      "text/plain": [
       "backward: 0it [00:00, ?it/s]"
      ]
     },
     "metadata": {},
     "output_type": "display_data"
    },
    {
     "data": {
      "application/vnd.jupyter.widget-view+json": {
       "model_id": "aeefaad71bbf42a8b2db3415a48ebb16",
       "version_major": 2,
       "version_minor": 0
      },
      "text/plain": [
       "backward: 0it [00:00, ?it/s]"
      ]
     },
     "metadata": {},
     "output_type": "display_data"
    },
    {
     "data": {
      "application/vnd.jupyter.widget-view+json": {
       "model_id": "3272c561e96a4f01960364b0e2ebfd25",
       "version_major": 2,
       "version_minor": 0
      },
      "text/plain": [
       "forward: 0it [00:00, ?it/s]"
      ]
     },
     "metadata": {},
     "output_type": "display_data"
    },
    {
     "name": "stdout",
     "output_type": "stream",
     "text": [
      "scene id 105\n",
      "scene name officefan2\n"
     ]
    },
    {
     "data": {
      "application/vnd.jupyter.widget-view+json": {
       "model_id": "b727abfc183644c5b6198b76abe0c599",
       "version_major": 2,
       "version_minor": 0
      },
      "text/plain": [
       "forward: 0it [00:00, ?it/s]"
      ]
     },
     "metadata": {},
     "output_type": "display_data"
    },
    {
     "data": {
      "application/vnd.jupyter.widget-view+json": {
       "model_id": "aae36d2d47ae43acbd83e569adbca199",
       "version_major": 2,
       "version_minor": 0
      },
      "text/plain": [
       "backward: 0it [00:00, ?it/s]"
      ]
     },
     "metadata": {},
     "output_type": "display_data"
    },
    {
     "name": "stdout",
     "output_type": "stream",
     "text": [
      "scene id 106\n",
      "scene name officechair1\n"
     ]
    },
    {
     "data": {
      "application/vnd.jupyter.widget-view+json": {
       "model_id": "c67867b577e549b594eac17a65678be9",
       "version_major": 2,
       "version_minor": 0
      },
      "text/plain": [
       "forward: 0it [00:00, ?it/s]"
      ]
     },
     "metadata": {},
     "output_type": "display_data"
    },
    {
     "data": {
      "application/vnd.jupyter.widget-view+json": {
       "model_id": "fb3c7e3532c04424ad51c346f2e44c4f",
       "version_major": 2,
       "version_minor": 0
      },
      "text/plain": [
       "backward: 0it [00:00, ?it/s]"
      ]
     },
     "metadata": {},
     "output_type": "display_data"
    },
    {
     "data": {
      "application/vnd.jupyter.widget-view+json": {
       "model_id": "0cdb4532e3964001ab43584319030fe4",
       "version_major": 2,
       "version_minor": 0
      },
      "text/plain": [
       "backward: 0it [00:00, ?it/s]"
      ]
     },
     "metadata": {},
     "output_type": "display_data"
    },
    {
     "data": {
      "application/vnd.jupyter.widget-view+json": {
       "model_id": "90c6c6d315ca498a8c4db4796591ccae",
       "version_major": 2,
       "version_minor": 0
      },
      "text/plain": [
       "backward: 0it [00:00, ?it/s]"
      ]
     },
     "metadata": {},
     "output_type": "display_data"
    },
    {
     "data": {
      "application/vnd.jupyter.widget-view+json": {
       "model_id": "8cd5e75aeec94d008fd1a852c2108e27",
       "version_major": 2,
       "version_minor": 0
      },
      "text/plain": [
       "forward: 0it [00:00, ?it/s]"
      ]
     },
     "metadata": {},
     "output_type": "display_data"
    },
    {
     "data": {
      "application/vnd.jupyter.widget-view+json": {
       "model_id": "27ae89a58adf4c338c8ffea2345d4962",
       "version_major": 2,
       "version_minor": 0
      },
      "text/plain": [
       "backward: 0it [00:00, ?it/s]"
      ]
     },
     "metadata": {},
     "output_type": "display_data"
    },
    {
     "data": {
      "application/vnd.jupyter.widget-view+json": {
       "model_id": "6cb2b0ed49f94f84b54e0794b89a9375",
       "version_major": 2,
       "version_minor": 0
      },
      "text/plain": [
       "backward: 0it [00:00, ?it/s]"
      ]
     },
     "metadata": {},
     "output_type": "display_data"
    },
    {
     "data": {
      "application/vnd.jupyter.widget-view+json": {
       "model_id": "80db11a3a868402390866bdb6cff5cec",
       "version_major": 2,
       "version_minor": 0
      },
      "text/plain": [
       "backward: 0it [00:00, ?it/s]"
      ]
     },
     "metadata": {},
     "output_type": "display_data"
    },
    {
     "data": {
      "application/vnd.jupyter.widget-view+json": {
       "model_id": "a9a2b5f14b5d46ebad411284b8045b45",
       "version_major": 2,
       "version_minor": 0
      },
      "text/plain": [
       "forward: 0it [00:00, ?it/s]"
      ]
     },
     "metadata": {},
     "output_type": "display_data"
    },
    {
     "name": "stdout",
     "output_type": "stream",
     "text": [
      "scene id 107\n",
      "scene name cloth1\n"
     ]
    },
    {
     "data": {
      "application/vnd.jupyter.widget-view+json": {
       "model_id": "dae51a7b5c06412fb4dc4ae2168b4b66",
       "version_major": 2,
       "version_minor": 0
      },
      "text/plain": [
       "forward: 0it [00:00, ?it/s]"
      ]
     },
     "metadata": {},
     "output_type": "display_data"
    },
    {
     "data": {
      "application/vnd.jupyter.widget-view+json": {
       "model_id": "bfabedd16ee9434e9f29f67d21ad098c",
       "version_major": 2,
       "version_minor": 0
      },
      "text/plain": [
       "backward: 0it [00:00, ?it/s]"
      ]
     },
     "metadata": {},
     "output_type": "display_data"
    },
    {
     "name": "stdout",
     "output_type": "stream",
     "text": [
      "scene id 108\n",
      "scene name pool5\n"
     ]
    },
    {
     "data": {
      "application/vnd.jupyter.widget-view+json": {
       "model_id": "a982899e3f9c42ad9c896701ad930dc2",
       "version_major": 2,
       "version_minor": 0
      },
      "text/plain": [
       "forward: 0it [00:00, ?it/s]"
      ]
     },
     "metadata": {},
     "output_type": "display_data"
    },
    {
     "data": {
      "application/vnd.jupyter.widget-view+json": {
       "model_id": "e41991cc121b4b2d94fa6a7c9770bcce",
       "version_major": 2,
       "version_minor": 0
      },
      "text/plain": [
       "backward: 0it [00:00, ?it/s]"
      ]
     },
     "metadata": {},
     "output_type": "display_data"
    },
    {
     "data": {
      "application/vnd.jupyter.widget-view+json": {
       "model_id": "0ddc3989cd9e4b4f87ab2a7a8d492994",
       "version_major": 2,
       "version_minor": 0
      },
      "text/plain": [
       "backward: 0it [00:00, ?it/s]"
      ]
     },
     "metadata": {},
     "output_type": "display_data"
    },
    {
     "data": {
      "application/vnd.jupyter.widget-view+json": {
       "model_id": "89f1f824fb8441fbad8b3ff8d825d163",
       "version_major": 2,
       "version_minor": 0
      },
      "text/plain": [
       "backward: 0it [00:00, ?it/s]"
      ]
     },
     "metadata": {},
     "output_type": "display_data"
    },
    {
     "data": {
      "application/vnd.jupyter.widget-view+json": {
       "model_id": "4cefb15ce60842e9aeefcb18cedb08c6",
       "version_major": 2,
       "version_minor": 0
      },
      "text/plain": [
       "forward: 0it [00:00, ?it/s]"
      ]
     },
     "metadata": {},
     "output_type": "display_data"
    },
    {
     "data": {
      "application/vnd.jupyter.widget-view+json": {
       "model_id": "01c8cdf3d22c4559a49b923eab928e0a",
       "version_major": 2,
       "version_minor": 0
      },
      "text/plain": [
       "backward: 0it [00:00, ?it/s]"
      ]
     },
     "metadata": {},
     "output_type": "display_data"
    },
    {
     "data": {
      "application/vnd.jupyter.widget-view+json": {
       "model_id": "25b1936ebc7844148968c7519b934301",
       "version_major": 2,
       "version_minor": 0
      },
      "text/plain": [
       "backward: 0it [00:00, ?it/s]"
      ]
     },
     "metadata": {},
     "output_type": "display_data"
    },
    {
     "name": "stdout",
     "output_type": "stream",
     "text": [
      "scene id 109\n",
      "scene name whitecup3\n"
     ]
    },
    {
     "data": {
      "application/vnd.jupyter.widget-view+json": {
       "model_id": "5fc2d79fa4794dd6b9e8123d246645ff",
       "version_major": 2,
       "version_minor": 0
      },
      "text/plain": [
       "forward: 0it [00:00, ?it/s]"
      ]
     },
     "metadata": {},
     "output_type": "display_data"
    },
    {
     "data": {
      "application/vnd.jupyter.widget-view+json": {
       "model_id": "5b0fdd16ec80427bb0a9ff7ef2a0f81c",
       "version_major": 2,
       "version_minor": 0
      },
      "text/plain": [
       "backward: 0it [00:00, ?it/s]"
      ]
     },
     "metadata": {},
     "output_type": "display_data"
    },
    {
     "data": {
      "application/vnd.jupyter.widget-view+json": {
       "model_id": "be91b65a5761440fbbc6bb0da6c064f5",
       "version_major": 2,
       "version_minor": 0
      },
      "text/plain": [
       "backward: 0it [00:00, ?it/s]"
      ]
     },
     "metadata": {},
     "output_type": "display_data"
    },
    {
     "data": {
      "application/vnd.jupyter.widget-view+json": {
       "model_id": "9729e24a28d746b4aad46a35cb2d5c8c",
       "version_major": 2,
       "version_minor": 0
      },
      "text/plain": [
       "backward: 0it [00:00, ?it/s]"
      ]
     },
     "metadata": {},
     "output_type": "display_data"
    },
    {
     "data": {
      "application/vnd.jupyter.widget-view+json": {
       "model_id": "27fca5a222a44eaa9fdeba75c3bd8bc2",
       "version_major": 2,
       "version_minor": 0
      },
      "text/plain": [
       "forward: 0it [00:00, ?it/s]"
      ]
     },
     "metadata": {},
     "output_type": "display_data"
    },
    {
     "data": {
      "application/vnd.jupyter.widget-view+json": {
       "model_id": "c704bebf2a8e4bb38f2f20196788c693",
       "version_major": 2,
       "version_minor": 0
      },
      "text/plain": [
       "backward: 0it [00:00, ?it/s]"
      ]
     },
     "metadata": {},
     "output_type": "display_data"
    },
    {
     "data": {
      "application/vnd.jupyter.widget-view+json": {
       "model_id": "00841288c1f645399599cc4dd4277a7c",
       "version_major": 2,
       "version_minor": 0
      },
      "text/plain": [
       "backward: 0it [00:00, ?it/s]"
      ]
     },
     "metadata": {},
     "output_type": "display_data"
    },
    {
     "data": {
      "application/vnd.jupyter.widget-view+json": {
       "model_id": "b59d7d744b794c78b46e256f0c9e71de",
       "version_major": 2,
       "version_minor": 0
      },
      "text/plain": [
       "forward: 0it [00:00, ?it/s]"
      ]
     },
     "metadata": {},
     "output_type": "display_data"
    },
    {
     "name": "stdout",
     "output_type": "stream",
     "text": [
      "scene id 0\n",
      "scene name car3\n"
     ]
    },
    {
     "data": {
      "application/vnd.jupyter.widget-view+json": {
       "model_id": "bd7c21ea7faa47439034d1dd0040db2c",
       "version_major": 2,
       "version_minor": 0
      },
      "text/plain": [
       "forward: 0it [00:00, ?it/s]"
      ]
     },
     "metadata": {},
     "output_type": "display_data"
    },
    {
     "data": {
      "application/vnd.jupyter.widget-view+json": {
       "model_id": "2ec4c91f2c9d43cf9b50db105b814a79",
       "version_major": 2,
       "version_minor": 0
      },
      "text/plain": [
       "backward: 0it [00:00, ?it/s]"
      ]
     },
     "metadata": {},
     "output_type": "display_data"
    },
    {
     "data": {
      "application/vnd.jupyter.widget-view+json": {
       "model_id": "d7f30006f1be488593a0e5c7062539a0",
       "version_major": 2,
       "version_minor": 0
      },
      "text/plain": [
       "backward: 0it [00:00, ?it/s]"
      ]
     },
     "metadata": {},
     "output_type": "display_data"
    },
    {
     "data": {
      "application/vnd.jupyter.widget-view+json": {
       "model_id": "eb349b6e581c4117acea125e2a896573",
       "version_major": 2,
       "version_minor": 0
      },
      "text/plain": [
       "forward: 0it [00:00, ?it/s]"
      ]
     },
     "metadata": {},
     "output_type": "display_data"
    },
    {
     "data": {
      "application/vnd.jupyter.widget-view+json": {
       "model_id": "0da2a8e084a84c5b88830339716d7a43",
       "version_major": 2,
       "version_minor": 0
      },
      "text/plain": [
       "backward: 0it [00:00, ?it/s]"
      ]
     },
     "metadata": {},
     "output_type": "display_data"
    },
    {
     "name": "stdout",
     "output_type": "stream",
     "text": [
      "scene id 1\n",
      "scene name coin\n"
     ]
    },
    {
     "data": {
      "application/vnd.jupyter.widget-view+json": {
       "model_id": "cbb7912858994e12ad0d5788029c960d",
       "version_major": 2,
       "version_minor": 0
      },
      "text/plain": [
       "forward: 0it [00:00, ?it/s]"
      ]
     },
     "metadata": {},
     "output_type": "display_data"
    },
    {
     "data": {
      "application/vnd.jupyter.widget-view+json": {
       "model_id": "5d76523251b344618237c8a82139f524",
       "version_major": 2,
       "version_minor": 0
      },
      "text/plain": [
       "backward: 0it [00:00, ?it/s]"
      ]
     },
     "metadata": {},
     "output_type": "display_data"
    },
    {
     "data": {
      "application/vnd.jupyter.widget-view+json": {
       "model_id": "d9ef1a24b99c4903a661527b3e4a996a",
       "version_major": 2,
       "version_minor": 0
      },
      "text/plain": [
       "backward: 0it [00:00, ?it/s]"
      ]
     },
     "metadata": {},
     "output_type": "display_data"
    },
    {
     "data": {
      "application/vnd.jupyter.widget-view+json": {
       "model_id": "6e467ea9cde9460ca80fad2012d09898",
       "version_major": 2,
       "version_minor": 0
      },
      "text/plain": [
       "backward: 0it [00:00, ?it/s]"
      ]
     },
     "metadata": {},
     "output_type": "display_data"
    },
    {
     "data": {
      "application/vnd.jupyter.widget-view+json": {
       "model_id": "22c53bcd94be442b9fdad991f072c9f3",
       "version_major": 2,
       "version_minor": 0
      },
      "text/plain": [
       "forward: 0it [00:00, ?it/s]"
      ]
     },
     "metadata": {},
     "output_type": "display_data"
    },
    {
     "data": {
      "application/vnd.jupyter.widget-view+json": {
       "model_id": "dcd1f8d74fb64380b5f07144827a0fe4",
       "version_major": 2,
       "version_minor": 0
      },
      "text/plain": [
       "backward: 0it [00:00, ?it/s]"
      ]
     },
     "metadata": {},
     "output_type": "display_data"
    },
    {
     "name": "stdout",
     "output_type": "stream",
     "text": [
      "scene id 2\n",
      "scene name cards19\n"
     ]
    },
    {
     "data": {
      "application/vnd.jupyter.widget-view+json": {
       "model_id": "08f1218026154d97bd06eeb61b768cc0",
       "version_major": 2,
       "version_minor": 0
      },
      "text/plain": [
       "forward: 0it [00:00, ?it/s]"
      ]
     },
     "metadata": {},
     "output_type": "display_data"
    },
    {
     "data": {
      "application/vnd.jupyter.widget-view+json": {
       "model_id": "bfdd492221384bfba0a9b43eaf80144d",
       "version_major": 2,
       "version_minor": 0
      },
      "text/plain": [
       "backward: 0it [00:00, ?it/s]"
      ]
     },
     "metadata": {},
     "output_type": "display_data"
    },
    {
     "data": {
      "application/vnd.jupyter.widget-view+json": {
       "model_id": "8d2777c7f62c4e65b3cc1fafe1ba9845",
       "version_major": 2,
       "version_minor": 0
      },
      "text/plain": [
       "backward: 0it [00:00, ?it/s]"
      ]
     },
     "metadata": {},
     "output_type": "display_data"
    },
    {
     "data": {
      "application/vnd.jupyter.widget-view+json": {
       "model_id": "3fe9f625293945719f4742d670396a24",
       "version_major": 2,
       "version_minor": 0
      },
      "text/plain": [
       "backward: 0it [00:00, ?it/s]"
      ]
     },
     "metadata": {},
     "output_type": "display_data"
    },
    {
     "data": {
      "application/vnd.jupyter.widget-view+json": {
       "model_id": "339eaddfaee54097bf0555f802378831",
       "version_major": 2,
       "version_minor": 0
      },
      "text/plain": [
       "forward: 0it [00:00, ?it/s]"
      ]
     },
     "metadata": {},
     "output_type": "display_data"
    },
    {
     "data": {
      "application/vnd.jupyter.widget-view+json": {
       "model_id": "be80bb4641af47eba3a9f712604d9a12",
       "version_major": 2,
       "version_minor": 0
      },
      "text/plain": [
       "backward: 0it [00:00, ?it/s]"
      ]
     },
     "metadata": {},
     "output_type": "display_data"
    },
    {
     "name": "stdout",
     "output_type": "stream",
     "text": [
      "scene id 3\n",
      "scene name coke\n"
     ]
    },
    {
     "data": {
      "application/vnd.jupyter.widget-view+json": {
       "model_id": "8659461a3ff341b89e75066d85041abb",
       "version_major": 2,
       "version_minor": 0
      },
      "text/plain": [
       "forward: 0it [00:00, ?it/s]"
      ]
     },
     "metadata": {},
     "output_type": "display_data"
    },
    {
     "data": {
      "application/vnd.jupyter.widget-view+json": {
       "model_id": "7325d1af62f04dc7976117f6bafb23bb",
       "version_major": 2,
       "version_minor": 0
      },
      "text/plain": [
       "backward: 0it [00:00, ?it/s]"
      ]
     },
     "metadata": {},
     "output_type": "display_data"
    },
    {
     "data": {
      "application/vnd.jupyter.widget-view+json": {
       "model_id": "09e87881c685482c82d7b10769c5346d",
       "version_major": 2,
       "version_minor": 0
      },
      "text/plain": [
       "backward: 0it [00:00, ?it/s]"
      ]
     },
     "metadata": {},
     "output_type": "display_data"
    },
    {
     "data": {
      "application/vnd.jupyter.widget-view+json": {
       "model_id": "d81dc41d336f42dea781f161242a6899",
       "version_major": 2,
       "version_minor": 0
      },
      "text/plain": [
       "forward: 0it [00:00, ?it/s]"
      ]
     },
     "metadata": {},
     "output_type": "display_data"
    },
    {
     "data": {
      "application/vnd.jupyter.widget-view+json": {
       "model_id": "85526dceb9454cd687072a8660f0f3f3",
       "version_major": 2,
       "version_minor": 0
      },
      "text/plain": [
       "backward: 0it [00:00, ?it/s]"
      ]
     },
     "metadata": {},
     "output_type": "display_data"
    },
    {
     "name": "stdout",
     "output_type": "stream",
     "text": [
      "scene id 4\n",
      "scene name hand\n"
     ]
    },
    {
     "data": {
      "application/vnd.jupyter.widget-view+json": {
       "model_id": "fcaf61c47a17458c94c690e658dc1ae7",
       "version_major": 2,
       "version_minor": 0
      },
      "text/plain": [
       "forward: 0it [00:00, ?it/s]"
      ]
     },
     "metadata": {},
     "output_type": "display_data"
    },
    {
     "data": {
      "application/vnd.jupyter.widget-view+json": {
       "model_id": "3060deb219d94351815d3e493be32e1f",
       "version_major": 2,
       "version_minor": 0
      },
      "text/plain": [
       "backward: 0it [00:00, ?it/s]"
      ]
     },
     "metadata": {},
     "output_type": "display_data"
    },
    {
     "name": "stdout",
     "output_type": "stream",
     "text": [
      "scene id 5\n",
      "scene name duck5\n"
     ]
    },
    {
     "data": {
      "application/vnd.jupyter.widget-view+json": {
       "model_id": "d93fc39079e84bd09a83541fe2972ef3",
       "version_major": 2,
       "version_minor": 0
      },
      "text/plain": [
       "forward: 0it [00:00, ?it/s]"
      ]
     },
     "metadata": {},
     "output_type": "display_data"
    },
    {
     "data": {
      "application/vnd.jupyter.widget-view+json": {
       "model_id": "c0ab71a67a94439db96086e2f3787ab0",
       "version_major": 2,
       "version_minor": 0
      },
      "text/plain": [
       "backward: 0it [00:00, ?it/s]"
      ]
     },
     "metadata": {},
     "output_type": "display_data"
    },
    {
     "data": {
      "application/vnd.jupyter.widget-view+json": {
       "model_id": "77041c176201418ea618283149f06206",
       "version_major": 2,
       "version_minor": 0
      },
      "text/plain": [
       "backward: 0it [00:00, ?it/s]"
      ]
     },
     "metadata": {},
     "output_type": "display_data"
    },
    {
     "data": {
      "application/vnd.jupyter.widget-view+json": {
       "model_id": "887a45cf93974890878ad213493fe441",
       "version_major": 2,
       "version_minor": 0
      },
      "text/plain": [
       "forward: 0it [00:00, ?it/s]"
      ]
     },
     "metadata": {},
     "output_type": "display_data"
    },
    {
     "data": {
      "application/vnd.jupyter.widget-view+json": {
       "model_id": "e5f36ec6ebaa43b489160e443c2b3487",
       "version_major": 2,
       "version_minor": 0
      },
      "text/plain": [
       "backward: 0it [00:00, ?it/s]"
      ]
     },
     "metadata": {},
     "output_type": "display_data"
    },
    {
     "name": "stdout",
     "output_type": "stream",
     "text": [
      "scene id 6\n",
      "scene name rubik\n"
     ]
    },
    {
     "data": {
      "application/vnd.jupyter.widget-view+json": {
       "model_id": "90ad35348441438c9d64f2f7a4e8afa3",
       "version_major": 2,
       "version_minor": 0
      },
      "text/plain": [
       "forward: 0it [00:00, ?it/s]"
      ]
     },
     "metadata": {},
     "output_type": "display_data"
    },
    {
     "data": {
      "application/vnd.jupyter.widget-view+json": {
       "model_id": "8f502d73fda0400d8fd399d0adb3eef0",
       "version_major": 2,
       "version_minor": 0
      },
      "text/plain": [
       "backward: 0it [00:00, ?it/s]"
      ]
     },
     "metadata": {},
     "output_type": "display_data"
    },
    {
     "name": "stdout",
     "output_type": "stream",
     "text": [
      "scene id 7\n",
      "scene name pedestrain\n"
     ]
    },
    {
     "data": {
      "application/vnd.jupyter.widget-view+json": {
       "model_id": "154d8b6162bb4da08897bd811358faf2",
       "version_major": 2,
       "version_minor": 0
      },
      "text/plain": [
       "forward: 0it [00:00, ?it/s]"
      ]
     },
     "metadata": {},
     "output_type": "display_data"
    },
    {
     "data": {
      "application/vnd.jupyter.widget-view+json": {
       "model_id": "29c801158b184721acbdc65ad028411e",
       "version_major": 2,
       "version_minor": 0
      },
      "text/plain": [
       "backward: 0it [00:00, ?it/s]"
      ]
     },
     "metadata": {},
     "output_type": "display_data"
    },
    {
     "data": {
      "application/vnd.jupyter.widget-view+json": {
       "model_id": "214d40ce5b124e05982e17a2097b537a",
       "version_major": 2,
       "version_minor": 0
      },
      "text/plain": [
       "backward: 0it [00:00, ?it/s]"
      ]
     },
     "metadata": {},
     "output_type": "display_data"
    },
    {
     "data": {
      "application/vnd.jupyter.widget-view+json": {
       "model_id": "f0b9ac3b3ad145fa8d3c3491f0d22f86",
       "version_major": 2,
       "version_minor": 0
      },
      "text/plain": [
       "backward: 0it [00:00, ?it/s]"
      ]
     },
     "metadata": {},
     "output_type": "display_data"
    },
    {
     "data": {
      "application/vnd.jupyter.widget-view+json": {
       "model_id": "3945b3b7393a49a2b57bcad5d4508d17",
       "version_major": 2,
       "version_minor": 0
      },
      "text/plain": [
       "forward: 0it [00:00, ?it/s]"
      ]
     },
     "metadata": {},
     "output_type": "display_data"
    },
    {
     "data": {
      "application/vnd.jupyter.widget-view+json": {
       "model_id": "e883cd08903f4776a220ddd37189561f",
       "version_major": 2,
       "version_minor": 0
      },
      "text/plain": [
       "backward: 0it [00:00, ?it/s]"
      ]
     },
     "metadata": {},
     "output_type": "display_data"
    },
    {
     "data": {
      "application/vnd.jupyter.widget-view+json": {
       "model_id": "3dc021a9142a42f2a0ef5daacdf66a09",
       "version_major": 2,
       "version_minor": 0
      },
      "text/plain": [
       "backward: 0it [00:00, ?it/s]"
      ]
     },
     "metadata": {},
     "output_type": "display_data"
    },
    {
     "name": "stdout",
     "output_type": "stream",
     "text": [
      "scene id 8\n",
      "scene name card\n"
     ]
    },
    {
     "data": {
      "application/vnd.jupyter.widget-view+json": {
       "model_id": "6ba0d69e426a4278bc4684f8e384a436",
       "version_major": 2,
       "version_minor": 0
      },
      "text/plain": [
       "forward: 0it [00:00, ?it/s]"
      ]
     },
     "metadata": {},
     "output_type": "display_data"
    },
    {
     "data": {
      "application/vnd.jupyter.widget-view+json": {
       "model_id": "1270d28ee2c94669aa13a3ba3b624059",
       "version_major": 2,
       "version_minor": 0
      },
      "text/plain": [
       "backward: 0it [00:00, ?it/s]"
      ]
     },
     "metadata": {},
     "output_type": "display_data"
    },
    {
     "data": {
      "application/vnd.jupyter.widget-view+json": {
       "model_id": "88612b04f289469aa8182393aa43a2b4",
       "version_major": 2,
       "version_minor": 0
      },
      "text/plain": [
       "backward: 0it [00:00, ?it/s]"
      ]
     },
     "metadata": {},
     "output_type": "display_data"
    },
    {
     "data": {
      "application/vnd.jupyter.widget-view+json": {
       "model_id": "d798d38a2b9a4344aad16739a5f80ea6",
       "version_major": 2,
       "version_minor": 0
      },
      "text/plain": [
       "backward: 0it [00:00, ?it/s]"
      ]
     },
     "metadata": {},
     "output_type": "display_data"
    },
    {
     "data": {
      "application/vnd.jupyter.widget-view+json": {
       "model_id": "a88298b6cc9e4cfb89278585912a21b6",
       "version_major": 2,
       "version_minor": 0
      },
      "text/plain": [
       "forward: 0it [00:00, ?it/s]"
      ]
     },
     "metadata": {},
     "output_type": "display_data"
    },
    {
     "data": {
      "application/vnd.jupyter.widget-view+json": {
       "model_id": "4c2c6f0d5fef465597af254869ebf8d5",
       "version_major": 2,
       "version_minor": 0
      },
      "text/plain": [
       "backward: 0it [00:00, ?it/s]"
      ]
     },
     "metadata": {},
     "output_type": "display_data"
    },
    {
     "data": {
      "application/vnd.jupyter.widget-view+json": {
       "model_id": "300e091ff6ab4bf8acc6ec7267778707",
       "version_major": 2,
       "version_minor": 0
      },
      "text/plain": [
       "backward: 0it [00:00, ?it/s]"
      ]
     },
     "metadata": {},
     "output_type": "display_data"
    },
    {
     "name": "stdout",
     "output_type": "stream",
     "text": [
      "scene id 9\n",
      "scene name pedestrian2\n"
     ]
    },
    {
     "data": {
      "application/vnd.jupyter.widget-view+json": {
       "model_id": "9c4ca47ad35248f790d61e7e06306b70",
       "version_major": 2,
       "version_minor": 0
      },
      "text/plain": [
       "forward: 0it [00:00, ?it/s]"
      ]
     },
     "metadata": {},
     "output_type": "display_data"
    },
    {
     "data": {
      "application/vnd.jupyter.widget-view+json": {
       "model_id": "64a9d68171c240b49579a8b7af55a92c",
       "version_major": 2,
       "version_minor": 0
      },
      "text/plain": [
       "backward: 0it [00:00, ?it/s]"
      ]
     },
     "metadata": {},
     "output_type": "display_data"
    },
    {
     "data": {
      "application/vnd.jupyter.widget-view+json": {
       "model_id": "d7e7e773fd984f8883e7c793ea608360",
       "version_major": 2,
       "version_minor": 0
      },
      "text/plain": [
       "backward: 0it [00:00, ?it/s]"
      ]
     },
     "metadata": {},
     "output_type": "display_data"
    },
    {
     "data": {
      "application/vnd.jupyter.widget-view+json": {
       "model_id": "4293747582a145aa8761bf12e3662895",
       "version_major": 2,
       "version_minor": 0
      },
      "text/plain": [
       "forward: 0it [00:00, ?it/s]"
      ]
     },
     "metadata": {},
     "output_type": "display_data"
    },
    {
     "data": {
      "application/vnd.jupyter.widget-view+json": {
       "model_id": "c7f2df0f03f04817bb3f3058ce7f093a",
       "version_major": 2,
       "version_minor": 0
      },
      "text/plain": [
       "backward: 0it [00:00, ?it/s]"
      ]
     },
     "metadata": {},
     "output_type": "display_data"
    },
    {
     "name": "stdout",
     "output_type": "stream",
     "text": [
      "scene id 10\n",
      "scene name basketball\n"
     ]
    },
    {
     "data": {
      "application/vnd.jupyter.widget-view+json": {
       "model_id": "061e99a5f2e940f8970ca49c9c39efaa",
       "version_major": 2,
       "version_minor": 0
      },
      "text/plain": [
       "forward: 0it [00:00, ?it/s]"
      ]
     },
     "metadata": {},
     "output_type": "display_data"
    },
    {
     "data": {
      "application/vnd.jupyter.widget-view+json": {
       "model_id": "d7de505e480f4a7386e820b390173857",
       "version_major": 2,
       "version_minor": 0
      },
      "text/plain": [
       "backward: 0it [00:00, ?it/s]"
      ]
     },
     "metadata": {},
     "output_type": "display_data"
    },
    {
     "data": {
      "application/vnd.jupyter.widget-view+json": {
       "model_id": "1ab464fe694745f085f5df82a4fb205d",
       "version_major": 2,
       "version_minor": 0
      },
      "text/plain": [
       "backward: 0it [00:00, ?it/s]"
      ]
     },
     "metadata": {},
     "output_type": "display_data"
    },
    {
     "data": {
      "application/vnd.jupyter.widget-view+json": {
       "model_id": "6177775f15b5436fb3d2b9a2b63280d0",
       "version_major": 2,
       "version_minor": 0
      },
      "text/plain": [
       "backward: 0it [00:00, ?it/s]"
      ]
     },
     "metadata": {},
     "output_type": "display_data"
    },
    {
     "data": {
      "application/vnd.jupyter.widget-view+json": {
       "model_id": "ed25a4da014b460184c60ca1b06d2f1b",
       "version_major": 2,
       "version_minor": 0
      },
      "text/plain": [
       "forward: 0it [00:00, ?it/s]"
      ]
     },
     "metadata": {},
     "output_type": "display_data"
    },
    {
     "data": {
      "application/vnd.jupyter.widget-view+json": {
       "model_id": "2f4a013d91794e319ee3bb03b3aed960",
       "version_major": 2,
       "version_minor": 0
      },
      "text/plain": [
       "backward: 0it [00:00, ?it/s]"
      ]
     },
     "metadata": {},
     "output_type": "display_data"
    },
    {
     "data": {
      "application/vnd.jupyter.widget-view+json": {
       "model_id": "9c7e014c14ae4cf79de41cb44c72c25d",
       "version_major": 2,
       "version_minor": 0
      },
      "text/plain": [
       "backward: 0it [00:00, ?it/s]"
      ]
     },
     "metadata": {},
     "output_type": "display_data"
    },
    {
     "name": "stdout",
     "output_type": "stream",
     "text": [
      "scene id 11\n",
      "scene name student\n"
     ]
    },
    {
     "data": {
      "application/vnd.jupyter.widget-view+json": {
       "model_id": "999e76b2fa074ba792fd66bda554556c",
       "version_major": 2,
       "version_minor": 0
      },
      "text/plain": [
       "forward: 0it [00:00, ?it/s]"
      ]
     },
     "metadata": {},
     "output_type": "display_data"
    },
    {
     "data": {
      "application/vnd.jupyter.widget-view+json": {
       "model_id": "d3a6b38bbc02493f80760b02e1f22e45",
       "version_major": 2,
       "version_minor": 0
      },
      "text/plain": [
       "backward: 0it [00:00, ?it/s]"
      ]
     },
     "metadata": {},
     "output_type": "display_data"
    },
    {
     "name": "stdout",
     "output_type": "stream",
     "text": [
      "scene id 12\n",
      "scene name rainystreet16\n"
     ]
    },
    {
     "data": {
      "application/vnd.jupyter.widget-view+json": {
       "model_id": "845d7d63f9514f289dee5d2f0ac4a1de",
       "version_major": 2,
       "version_minor": 0
      },
      "text/plain": [
       "forward: 0it [00:00, ?it/s]"
      ]
     },
     "metadata": {},
     "output_type": "display_data"
    },
    {
     "data": {
      "application/vnd.jupyter.widget-view+json": {
       "model_id": "623ce1b6010642bba83a33bfaf5de0d2",
       "version_major": 2,
       "version_minor": 0
      },
      "text/plain": [
       "backward: 0it [00:00, ?it/s]"
      ]
     },
     "metadata": {},
     "output_type": "display_data"
    },
    {
     "data": {
      "application/vnd.jupyter.widget-view+json": {
       "model_id": "0a38e5edcb9644c08db4ca1db7cce6f7",
       "version_major": 2,
       "version_minor": 0
      },
      "text/plain": [
       "backward: 0it [00:00, ?it/s]"
      ]
     },
     "metadata": {},
     "output_type": "display_data"
    },
    {
     "data": {
      "application/vnd.jupyter.widget-view+json": {
       "model_id": "0ed265c57018463680382fe71f73f9cf",
       "version_major": 2,
       "version_minor": 0
      },
      "text/plain": [
       "backward: 0it [00:00, ?it/s]"
      ]
     },
     "metadata": {},
     "output_type": "display_data"
    },
    {
     "data": {
      "application/vnd.jupyter.widget-view+json": {
       "model_id": "284fd4e52eb44b149fa40a224582be2a",
       "version_major": 2,
       "version_minor": 0
      },
      "text/plain": [
       "forward: 0it [00:00, ?it/s]"
      ]
     },
     "metadata": {},
     "output_type": "display_data"
    },
    {
     "data": {
      "application/vnd.jupyter.widget-view+json": {
       "model_id": "8e58ec90cf3c41688ecebffc0d7fbbd7",
       "version_major": 2,
       "version_minor": 0
      },
      "text/plain": [
       "backward: 0it [00:00, ?it/s]"
      ]
     },
     "metadata": {},
     "output_type": "display_data"
    },
    {
     "data": {
      "application/vnd.jupyter.widget-view+json": {
       "model_id": "8124c95ce3a843229984d3b8db5abedd",
       "version_major": 2,
       "version_minor": 0
      },
      "text/plain": [
       "backward: 0it [00:00, ?it/s]"
      ]
     },
     "metadata": {},
     "output_type": "display_data"
    },
    {
     "data": {
      "application/vnd.jupyter.widget-view+json": {
       "model_id": "294abcbb182649aa81b89b2591d3d424",
       "version_major": 2,
       "version_minor": 0
      },
      "text/plain": [
       "forward: 0it [00:00, ?it/s]"
      ]
     },
     "metadata": {},
     "output_type": "display_data"
    },
    {
     "name": "stdout",
     "output_type": "stream",
     "text": [
      "scene id 13\n",
      "scene name board\n"
     ]
    },
    {
     "data": {
      "application/vnd.jupyter.widget-view+json": {
       "model_id": "79e2eec4c3c84bf5b19aaf575cb9edc8",
       "version_major": 2,
       "version_minor": 0
      },
      "text/plain": [
       "forward: 0it [00:00, ?it/s]"
      ]
     },
     "metadata": {},
     "output_type": "display_data"
    },
    {
     "data": {
      "application/vnd.jupyter.widget-view+json": {
       "model_id": "7168113bad564b5abca6e9820e7d188d",
       "version_major": 2,
       "version_minor": 0
      },
      "text/plain": [
       "backward: 0it [00:00, ?it/s]"
      ]
     },
     "metadata": {},
     "output_type": "display_data"
    },
    {
     "name": "stdout",
     "output_type": "stream",
     "text": [
      "scene id 14\n",
      "scene name ball&mirror9\n"
     ]
    },
    {
     "data": {
      "application/vnd.jupyter.widget-view+json": {
       "model_id": "d49e4b33fa4a4b53ada4a1d5fc404c76",
       "version_major": 2,
       "version_minor": 0
      },
      "text/plain": [
       "forward: 0it [00:00, ?it/s]"
      ]
     },
     "metadata": {},
     "output_type": "display_data"
    },
    {
     "data": {
      "application/vnd.jupyter.widget-view+json": {
       "model_id": "d66de06a76bc4ab1be78eaf5e5817f98",
       "version_major": 2,
       "version_minor": 0
      },
      "text/plain": [
       "backward: 0it [00:00, ?it/s]"
      ]
     },
     "metadata": {},
     "output_type": "display_data"
    },
    {
     "data": {
      "application/vnd.jupyter.widget-view+json": {
       "model_id": "2b0eaf9bdfc04411ac9d45ba2fd24835",
       "version_major": 2,
       "version_minor": 0
      },
      "text/plain": [
       "backward: 0it [00:00, ?it/s]"
      ]
     },
     "metadata": {},
     "output_type": "display_data"
    },
    {
     "data": {
      "application/vnd.jupyter.widget-view+json": {
       "model_id": "6924200284374fe49429a1eac5108bc8",
       "version_major": 2,
       "version_minor": 0
      },
      "text/plain": [
       "forward: 0it [00:00, ?it/s]"
      ]
     },
     "metadata": {},
     "output_type": "display_data"
    },
    {
     "data": {
      "application/vnd.jupyter.widget-view+json": {
       "model_id": "42a2cb326ee446299d94420dc117a6c5",
       "version_major": 2,
       "version_minor": 0
      },
      "text/plain": [
       "backward: 0it [00:00, ?it/s]"
      ]
     },
     "metadata": {},
     "output_type": "display_data"
    },
    {
     "name": "stdout",
     "output_type": "stream",
     "text": [
      "scene id 15\n",
      "scene name pool10\n"
     ]
    },
    {
     "data": {
      "application/vnd.jupyter.widget-view+json": {
       "model_id": "7be649bc3b9c41a587c26fa116e1995a",
       "version_major": 2,
       "version_minor": 0
      },
      "text/plain": [
       "forward: 0it [00:00, ?it/s]"
      ]
     },
     "metadata": {},
     "output_type": "display_data"
    },
    {
     "data": {
      "application/vnd.jupyter.widget-view+json": {
       "model_id": "5089c65a1b224b4db77268e749594c2b",
       "version_major": 2,
       "version_minor": 0
      },
      "text/plain": [
       "backward: 0it [00:00, ?it/s]"
      ]
     },
     "metadata": {},
     "output_type": "display_data"
    },
    {
     "data": {
      "application/vnd.jupyter.widget-view+json": {
       "model_id": "f9068ede296149ec82876d4d98435aec",
       "version_major": 2,
       "version_minor": 0
      },
      "text/plain": [
       "backward: 0it [00:00, ?it/s]"
      ]
     },
     "metadata": {},
     "output_type": "display_data"
    },
    {
     "data": {
      "application/vnd.jupyter.widget-view+json": {
       "model_id": "4ee0ca68587b46efb1078c2034797afa",
       "version_major": 2,
       "version_minor": 0
      },
      "text/plain": [
       "backward: 0it [00:00, ?it/s]"
      ]
     },
     "metadata": {},
     "output_type": "display_data"
    },
    {
     "data": {
      "application/vnd.jupyter.widget-view+json": {
       "model_id": "17afbe35a773426495e2dfc2570ac521",
       "version_major": 2,
       "version_minor": 0
      },
      "text/plain": [
       "forward: 0it [00:00, ?it/s]"
      ]
     },
     "metadata": {},
     "output_type": "display_data"
    },
    {
     "data": {
      "application/vnd.jupyter.widget-view+json": {
       "model_id": "f6bea37313c6499ba7c868c85014a2ee",
       "version_major": 2,
       "version_minor": 0
      },
      "text/plain": [
       "backward: 0it [00:00, ?it/s]"
      ]
     },
     "metadata": {},
     "output_type": "display_data"
    },
    {
     "data": {
      "application/vnd.jupyter.widget-view+json": {
       "model_id": "995265ab1efe46c2b1cee3a2cb8c80f4",
       "version_major": 2,
       "version_minor": 0
      },
      "text/plain": [
       "backward: 0it [00:00, ?it/s]"
      ]
     },
     "metadata": {},
     "output_type": "display_data"
    },
    {
     "name": "stdout",
     "output_type": "stream",
     "text": [
      "scene id 16\n",
      "scene name worker\n"
     ]
    },
    {
     "data": {
      "application/vnd.jupyter.widget-view+json": {
       "model_id": "4fc956bd44a74e03ab9fa36626162548",
       "version_major": 2,
       "version_minor": 0
      },
      "text/plain": [
       "forward: 0it [00:00, ?it/s]"
      ]
     },
     "metadata": {},
     "output_type": "display_data"
    },
    {
     "data": {
      "application/vnd.jupyter.widget-view+json": {
       "model_id": "ba66ca75b5f941c1b51455d4c02dec85",
       "version_major": 2,
       "version_minor": 0
      },
      "text/plain": [
       "backward: 0it [00:00, ?it/s]"
      ]
     },
     "metadata": {},
     "output_type": "display_data"
    },
    {
     "data": {
      "application/vnd.jupyter.widget-view+json": {
       "model_id": "e025c8c3243249bdb0a616fe734674fe",
       "version_major": 2,
       "version_minor": 0
      },
      "text/plain": [
       "backward: 0it [00:00, ?it/s]"
      ]
     },
     "metadata": {},
     "output_type": "display_data"
    },
    {
     "data": {
      "application/vnd.jupyter.widget-view+json": {
       "model_id": "1337b1f78c744def81d3fa57ff00864a",
       "version_major": 2,
       "version_minor": 0
      },
      "text/plain": [
       "backward: 0it [00:00, ?it/s]"
      ]
     },
     "metadata": {},
     "output_type": "display_data"
    },
    {
     "data": {
      "application/vnd.jupyter.widget-view+json": {
       "model_id": "ab9730220e4c4044909184f733cfabe3",
       "version_major": 2,
       "version_minor": 0
      },
      "text/plain": [
       "backward: 0it [00:00, ?it/s]"
      ]
     },
     "metadata": {},
     "output_type": "display_data"
    },
    {
     "data": {
      "application/vnd.jupyter.widget-view+json": {
       "model_id": "22bbe96a1d454a46887930d44a7df14b",
       "version_major": 2,
       "version_minor": 0
      },
      "text/plain": [
       "forward: 0it [00:00, ?it/s]"
      ]
     },
     "metadata": {},
     "output_type": "display_data"
    },
    {
     "data": {
      "application/vnd.jupyter.widget-view+json": {
       "model_id": "fb202ef5d275405faa68109e6aea19df",
       "version_major": 2,
       "version_minor": 0
      },
      "text/plain": [
       "backward: 0it [00:00, ?it/s]"
      ]
     },
     "metadata": {},
     "output_type": "display_data"
    },
    {
     "data": {
      "application/vnd.jupyter.widget-view+json": {
       "model_id": "5e4a0a1d8168445cbbb8709a358a56e3",
       "version_major": 2,
       "version_minor": 0
      },
      "text/plain": [
       "backward: 0it [00:00, ?it/s]"
      ]
     },
     "metadata": {},
     "output_type": "display_data"
    },
    {
     "data": {
      "application/vnd.jupyter.widget-view+json": {
       "model_id": "80c2ba4cba29439c91ac671523c75a7a",
       "version_major": 2,
       "version_minor": 0
      },
      "text/plain": [
       "backward: 0it [00:00, ?it/s]"
      ]
     },
     "metadata": {},
     "output_type": "display_data"
    },
    {
     "data": {
      "application/vnd.jupyter.widget-view+json": {
       "model_id": "11d49379b8f34d2dad299349bdd70e6d",
       "version_major": 2,
       "version_minor": 0
      },
      "text/plain": [
       "backward: 0it [00:00, ?it/s]"
      ]
     },
     "metadata": {},
     "output_type": "display_data"
    },
    {
     "data": {
      "application/vnd.jupyter.widget-view+json": {
       "model_id": "21bc04a03bc5493083647f43ad36a1e0",
       "version_major": 2,
       "version_minor": 0
      },
      "text/plain": [
       "forward: 0it [00:00, ?it/s]"
      ]
     },
     "metadata": {},
     "output_type": "display_data"
    },
    {
     "name": "stdout",
     "output_type": "stream",
     "text": [
      "scene id 17\n",
      "scene name forest\n"
     ]
    },
    {
     "data": {
      "application/vnd.jupyter.widget-view+json": {
       "model_id": "abc06a0d8aa94887b9930fe043af8de5",
       "version_major": 2,
       "version_minor": 0
      },
      "text/plain": [
       "forward: 0it [00:00, ?it/s]"
      ]
     },
     "metadata": {},
     "output_type": "display_data"
    },
    {
     "data": {
      "application/vnd.jupyter.widget-view+json": {
       "model_id": "b0f6c19ef5be41dd84d59fccdc70288f",
       "version_major": 2,
       "version_minor": 0
      },
      "text/plain": [
       "backward: 0it [00:00, ?it/s]"
      ]
     },
     "metadata": {},
     "output_type": "display_data"
    },
    {
     "data": {
      "application/vnd.jupyter.widget-view+json": {
       "model_id": "d537d8cfd09247f894f98f1b0f55df05",
       "version_major": 2,
       "version_minor": 0
      },
      "text/plain": [
       "backward: 0it [00:00, ?it/s]"
      ]
     },
     "metadata": {},
     "output_type": "display_data"
    },
    {
     "data": {
      "application/vnd.jupyter.widget-view+json": {
       "model_id": "b99922f53bc146fb9e37ca22aa847b30",
       "version_major": 2,
       "version_minor": 0
      },
      "text/plain": [
       "forward: 0it [00:00, ?it/s]"
      ]
     },
     "metadata": {},
     "output_type": "display_data"
    },
    {
     "data": {
      "application/vnd.jupyter.widget-view+json": {
       "model_id": "f0b42b90e37d4e5bb46c6c0fb83d5d70",
       "version_major": 2,
       "version_minor": 0
      },
      "text/plain": [
       "backward: 0it [00:00, ?it/s]"
      ]
     },
     "metadata": {},
     "output_type": "display_data"
    },
    {
     "name": "stdout",
     "output_type": "stream",
     "text": [
      "scene id 18\n",
      "scene name kangaroo\n"
     ]
    },
    {
     "data": {
      "application/vnd.jupyter.widget-view+json": {
       "model_id": "75cf04f7f707491ebd5fc4d1e2265db5",
       "version_major": 2,
       "version_minor": 0
      },
      "text/plain": [
       "forward: 0it [00:00, ?it/s]"
      ]
     },
     "metadata": {},
     "output_type": "display_data"
    },
    {
     "data": {
      "application/vnd.jupyter.widget-view+json": {
       "model_id": "e90829c68c3b4a1e91ca9db582436840",
       "version_major": 2,
       "version_minor": 0
      },
      "text/plain": [
       "backward: 0it [00:00, ?it/s]"
      ]
     },
     "metadata": {},
     "output_type": "display_data"
    },
    {
     "data": {
      "application/vnd.jupyter.widget-view+json": {
       "model_id": "6bb192b9f72444be93791858b3960ff9",
       "version_major": 2,
       "version_minor": 0
      },
      "text/plain": [
       "backward: 0it [00:00, ?it/s]"
      ]
     },
     "metadata": {},
     "output_type": "display_data"
    },
    {
     "data": {
      "application/vnd.jupyter.widget-view+json": {
       "model_id": "95fcc1be482d457a838365bb0a5e2d28",
       "version_major": 2,
       "version_minor": 0
      },
      "text/plain": [
       "backward: 0it [00:00, ?it/s]"
      ]
     },
     "metadata": {},
     "output_type": "display_data"
    },
    {
     "data": {
      "application/vnd.jupyter.widget-view+json": {
       "model_id": "f06d7b171720444fad62bcde6b770356",
       "version_major": 2,
       "version_minor": 0
      },
      "text/plain": [
       "forward: 0it [00:00, ?it/s]"
      ]
     },
     "metadata": {},
     "output_type": "display_data"
    },
    {
     "data": {
      "application/vnd.jupyter.widget-view+json": {
       "model_id": "cf7d38d8400e4746828f5d12227af0da",
       "version_major": 2,
       "version_minor": 0
      },
      "text/plain": [
       "backward: 0it [00:00, ?it/s]"
      ]
     },
     "metadata": {},
     "output_type": "display_data"
    },
    {
     "data": {
      "application/vnd.jupyter.widget-view+json": {
       "model_id": "b20175c724ee49a19fbbff9aaa357ebe",
       "version_major": 2,
       "version_minor": 0
      },
      "text/plain": [
       "backward: 0it [00:00, ?it/s]"
      ]
     },
     "metadata": {},
     "output_type": "display_data"
    },
    {
     "data": {
      "application/vnd.jupyter.widget-view+json": {
       "model_id": "d8b6548796244214a11fa299f19e0cf9",
       "version_major": 2,
       "version_minor": 0
      },
      "text/plain": [
       "forward: 0it [00:00, ?it/s]"
      ]
     },
     "metadata": {},
     "output_type": "display_data"
    },
    {
     "name": "stdout",
     "output_type": "stream",
     "text": [
      "scene id 19\n",
      "scene name excavator\n"
     ]
    },
    {
     "data": {
      "application/vnd.jupyter.widget-view+json": {
       "model_id": "b55561e0b1e943ecb55982825eddec63",
       "version_major": 2,
       "version_minor": 0
      },
      "text/plain": [
       "forward: 0it [00:00, ?it/s]"
      ]
     },
     "metadata": {},
     "output_type": "display_data"
    },
    {
     "data": {
      "application/vnd.jupyter.widget-view+json": {
       "model_id": "90d1c0411f1e477f8d00f05d854e17c0",
       "version_major": 2,
       "version_minor": 0
      },
      "text/plain": [
       "backward: 0it [00:00, ?it/s]"
      ]
     },
     "metadata": {},
     "output_type": "display_data"
    },
    {
     "name": "stdout",
     "output_type": "stream",
     "text": [
      "scene id 20\n",
      "scene name playground\n"
     ]
    },
    {
     "data": {
      "application/vnd.jupyter.widget-view+json": {
       "model_id": "100a0a7eb0c14d34b760e2fef4856d1c",
       "version_major": 2,
       "version_minor": 0
      },
      "text/plain": [
       "forward: 0it [00:00, ?it/s]"
      ]
     },
     "metadata": {},
     "output_type": "display_data"
    },
    {
     "data": {
      "application/vnd.jupyter.widget-view+json": {
       "model_id": "241564f2cae2490584ec9d654cc2f801",
       "version_major": 2,
       "version_minor": 0
      },
      "text/plain": [
       "backward: 0it [00:00, ?it/s]"
      ]
     },
     "metadata": {},
     "output_type": "display_data"
    },
    {
     "data": {
      "application/vnd.jupyter.widget-view+json": {
       "model_id": "3576f5b516204077a08c9dd7c108fb32",
       "version_major": 2,
       "version_minor": 0
      },
      "text/plain": [
       "backward: 0it [00:00, ?it/s]"
      ]
     },
     "metadata": {},
     "output_type": "display_data"
    },
    {
     "data": {
      "application/vnd.jupyter.widget-view+json": {
       "model_id": "908b7038fc3241b6a60baaa7df61e8da",
       "version_major": 2,
       "version_minor": 0
      },
      "text/plain": [
       "backward: 0it [00:00, ?it/s]"
      ]
     },
     "metadata": {},
     "output_type": "display_data"
    },
    {
     "data": {
      "application/vnd.jupyter.widget-view+json": {
       "model_id": "836e403f5375432c87cbea123cb2434a",
       "version_major": 2,
       "version_minor": 0
      },
      "text/plain": [
       "backward: 0it [00:00, ?it/s]"
      ]
     },
     "metadata": {},
     "output_type": "display_data"
    },
    {
     "data": {
      "application/vnd.jupyter.widget-view+json": {
       "model_id": "f5c1b1703d7c4dab898bd8c27c672e1f",
       "version_major": 2,
       "version_minor": 0
      },
      "text/plain": [
       "forward: 0it [00:00, ?it/s]"
      ]
     },
     "metadata": {},
     "output_type": "display_data"
    },
    {
     "data": {
      "application/vnd.jupyter.widget-view+json": {
       "model_id": "10d6753f6a8249eb8eaf8ad921964eaa",
       "version_major": 2,
       "version_minor": 0
      },
      "text/plain": [
       "backward: 0it [00:00, ?it/s]"
      ]
     },
     "metadata": {},
     "output_type": "display_data"
    },
    {
     "data": {
      "application/vnd.jupyter.widget-view+json": {
       "model_id": "1eca3dc53b62463494981aa2368de7ef",
       "version_major": 2,
       "version_minor": 0
      },
      "text/plain": [
       "backward: 0it [00:00, ?it/s]"
      ]
     },
     "metadata": {},
     "output_type": "display_data"
    },
    {
     "name": "stdout",
     "output_type": "stream",
     "text": [
      "scene id 21\n",
      "scene name car\n"
     ]
    },
    {
     "data": {
      "application/vnd.jupyter.widget-view+json": {
       "model_id": "4c05b3412e2349a1bf62df044977b9a5",
       "version_major": 2,
       "version_minor": 0
      },
      "text/plain": [
       "forward: 0it [00:00, ?it/s]"
      ]
     },
     "metadata": {},
     "output_type": "display_data"
    },
    {
     "data": {
      "application/vnd.jupyter.widget-view+json": {
       "model_id": "da31e53659f448cea47e0ea9afaa5dc7",
       "version_major": 2,
       "version_minor": 0
      },
      "text/plain": [
       "backward: 0it [00:00, ?it/s]"
      ]
     },
     "metadata": {},
     "output_type": "display_data"
    },
    {
     "name": "stdout",
     "output_type": "stream",
     "text": [
      "scene id 22\n",
      "scene name face\n"
     ]
    },
    {
     "data": {
      "application/vnd.jupyter.widget-view+json": {
       "model_id": "3e4b60ab00a2474ab8c91c2381bc076f",
       "version_major": 2,
       "version_minor": 0
      },
      "text/plain": [
       "forward: 0it [00:00, ?it/s]"
      ]
     },
     "metadata": {},
     "output_type": "display_data"
    },
    {
     "data": {
      "application/vnd.jupyter.widget-view+json": {
       "model_id": "8c3bb9915b1d4b5e81f1641b64914a51",
       "version_major": 2,
       "version_minor": 0
      },
      "text/plain": [
       "backward: 0it [00:00, ?it/s]"
      ]
     },
     "metadata": {},
     "output_type": "display_data"
    },
    {
     "name": "stdout",
     "output_type": "stream",
     "text": [
      "scene id 23\n",
      "scene name whitecup1\n"
     ]
    },
    {
     "data": {
      "application/vnd.jupyter.widget-view+json": {
       "model_id": "22d213f903704a4c8877f27b21a93999",
       "version_major": 2,
       "version_minor": 0
      },
      "text/plain": [
       "forward: 0it [00:00, ?it/s]"
      ]
     },
     "metadata": {},
     "output_type": "display_data"
    },
    {
     "data": {
      "application/vnd.jupyter.widget-view+json": {
       "model_id": "a4d8f7754b8d439fbd53d6da93c341df",
       "version_major": 2,
       "version_minor": 0
      },
      "text/plain": [
       "backward: 0it [00:00, ?it/s]"
      ]
     },
     "metadata": {},
     "output_type": "display_data"
    },
    {
     "name": "stdout",
     "output_type": "stream",
     "text": [
      "scene id 24\n",
      "scene name ball\n"
     ]
    },
    {
     "data": {
      "application/vnd.jupyter.widget-view+json": {
       "model_id": "74336385dc35415a91dc0a98047132ac",
       "version_major": 2,
       "version_minor": 0
      },
      "text/plain": [
       "forward: 0it [00:00, ?it/s]"
      ]
     },
     "metadata": {},
     "output_type": "display_data"
    },
    {
     "data": {
      "application/vnd.jupyter.widget-view+json": {
       "model_id": "f0813ad598e943f484e388000f502255",
       "version_major": 2,
       "version_minor": 0
      },
      "text/plain": [
       "backward: 0it [00:00, ?it/s]"
      ]
     },
     "metadata": {},
     "output_type": "display_data"
    },
    {
     "data": {
      "application/vnd.jupyter.widget-view+json": {
       "model_id": "9922f95165a44dada228f93035284815",
       "version_major": 2,
       "version_minor": 0
      },
      "text/plain": [
       "backward: 0it [00:00, ?it/s]"
      ]
     },
     "metadata": {},
     "output_type": "display_data"
    },
    {
     "data": {
      "application/vnd.jupyter.widget-view+json": {
       "model_id": "af7860e8e2534cf1971bef7c9e95458f",
       "version_major": 2,
       "version_minor": 0
      },
      "text/plain": [
       "backward: 0it [00:00, ?it/s]"
      ]
     },
     "metadata": {},
     "output_type": "display_data"
    },
    {
     "data": {
      "application/vnd.jupyter.widget-view+json": {
       "model_id": "f68adc42b801477996f3141dbf1e24fb",
       "version_major": 2,
       "version_minor": 0
      },
      "text/plain": [
       "backward: 0it [00:00, ?it/s]"
      ]
     },
     "metadata": {},
     "output_type": "display_data"
    },
    {
     "data": {
      "application/vnd.jupyter.widget-view+json": {
       "model_id": "87e503f747cf46d8a7b233d7759c040d",
       "version_major": 2,
       "version_minor": 0
      },
      "text/plain": [
       "backward: 0it [00:00, ?it/s]"
      ]
     },
     "metadata": {},
     "output_type": "display_data"
    },
    {
     "data": {
      "application/vnd.jupyter.widget-view+json": {
       "model_id": "8fc22374b32b4bafa575e1f41041b9b2",
       "version_major": 2,
       "version_minor": 0
      },
      "text/plain": [
       "forward: 0it [00:00, ?it/s]"
      ]
     },
     "metadata": {},
     "output_type": "display_data"
    },
    {
     "data": {
      "application/vnd.jupyter.widget-view+json": {
       "model_id": "acafc3292e3549bcb761d938da2e53e0",
       "version_major": 2,
       "version_minor": 0
      },
      "text/plain": [
       "backward: 0it [00:00, ?it/s]"
      ]
     },
     "metadata": {},
     "output_type": "display_data"
    },
    {
     "data": {
      "application/vnd.jupyter.widget-view+json": {
       "model_id": "87bce6910e37410d8a3c851be63dff72",
       "version_major": 2,
       "version_minor": 0
      },
      "text/plain": [
       "backward: 0it [00:00, ?it/s]"
      ]
     },
     "metadata": {},
     "output_type": "display_data"
    },
    {
     "data": {
      "application/vnd.jupyter.widget-view+json": {
       "model_id": "4f62df3f3338427f8ec5e89f9b74b855",
       "version_major": 2,
       "version_minor": 0
      },
      "text/plain": [
       "backward: 0it [00:00, ?it/s]"
      ]
     },
     "metadata": {},
     "output_type": "display_data"
    },
    {
     "name": "stdout",
     "output_type": "stream",
     "text": [
      "scene id 25\n",
      "scene name rider1\n"
     ]
    },
    {
     "data": {
      "application/vnd.jupyter.widget-view+json": {
       "model_id": "e3463f51654148518018c74808302d7b",
       "version_major": 2,
       "version_minor": 0
      },
      "text/plain": [
       "forward: 0it [00:00, ?it/s]"
      ]
     },
     "metadata": {},
     "output_type": "display_data"
    },
    {
     "data": {
      "application/vnd.jupyter.widget-view+json": {
       "model_id": "4a786429d07c4301a7ec68c3ead94e2a",
       "version_major": 2,
       "version_minor": 0
      },
      "text/plain": [
       "backward: 0it [00:00, ?it/s]"
      ]
     },
     "metadata": {},
     "output_type": "display_data"
    },
    {
     "data": {
      "application/vnd.jupyter.widget-view+json": {
       "model_id": "81eaf7f5f121480fa4df4f4f270d8f73",
       "version_major": 2,
       "version_minor": 0
      },
      "text/plain": [
       "backward: 0it [00:00, ?it/s]"
      ]
     },
     "metadata": {},
     "output_type": "display_data"
    },
    {
     "data": {
      "application/vnd.jupyter.widget-view+json": {
       "model_id": "5dcc291591a34c17bb96add09040b5c4",
       "version_major": 2,
       "version_minor": 0
      },
      "text/plain": [
       "forward: 0it [00:00, ?it/s]"
      ]
     },
     "metadata": {},
     "output_type": "display_data"
    },
    {
     "data": {
      "application/vnd.jupyter.widget-view+json": {
       "model_id": "04797d0131c1492d89694a979e70d643",
       "version_major": 2,
       "version_minor": 0
      },
      "text/plain": [
       "backward: 0it [00:00, ?it/s]"
      ]
     },
     "metadata": {},
     "output_type": "display_data"
    },
    {
     "name": "stdout",
     "output_type": "stream",
     "text": [
      "scene id 26\n",
      "scene name toy2\n"
     ]
    },
    {
     "data": {
      "application/vnd.jupyter.widget-view+json": {
       "model_id": "26c1e36ea91b4c029fd9f831dba4e06f",
       "version_major": 2,
       "version_minor": 0
      },
      "text/plain": [
       "forward: 0it [00:00, ?it/s]"
      ]
     },
     "metadata": {},
     "output_type": "display_data"
    },
    {
     "data": {
      "application/vnd.jupyter.widget-view+json": {
       "model_id": "f6466887edeb4f57ae4f0251a42caf9e",
       "version_major": 2,
       "version_minor": 0
      },
      "text/plain": [
       "backward: 0it [00:00, ?it/s]"
      ]
     },
     "metadata": {},
     "output_type": "display_data"
    },
    {
     "data": {
      "application/vnd.jupyter.widget-view+json": {
       "model_id": "7246ee4acde34e26bec60edf9d092bd7",
       "version_major": 2,
       "version_minor": 0
      },
      "text/plain": [
       "backward: 0it [00:00, ?it/s]"
      ]
     },
     "metadata": {},
     "output_type": "display_data"
    },
    {
     "data": {
      "application/vnd.jupyter.widget-view+json": {
       "model_id": "eb16943b9a7e44499cd7063ca6f34f80",
       "version_major": 2,
       "version_minor": 0
      },
      "text/plain": [
       "backward: 0it [00:00, ?it/s]"
      ]
     },
     "metadata": {},
     "output_type": "display_data"
    },
    {
     "data": {
      "application/vnd.jupyter.widget-view+json": {
       "model_id": "0bdb821d370b4af0900410eaaabb9ee4",
       "version_major": 2,
       "version_minor": 0
      },
      "text/plain": [
       "forward: 0it [00:00, ?it/s]"
      ]
     },
     "metadata": {},
     "output_type": "display_data"
    },
    {
     "data": {
      "application/vnd.jupyter.widget-view+json": {
       "model_id": "09f005333a6c4ae0b1d4f52f218527cc",
       "version_major": 2,
       "version_minor": 0
      },
      "text/plain": [
       "backward: 0it [00:00, ?it/s]"
      ]
     },
     "metadata": {},
     "output_type": "display_data"
    },
    {
     "data": {
      "application/vnd.jupyter.widget-view+json": {
       "model_id": "d71bb27d620c4672a037e428d6e4646d",
       "version_major": 2,
       "version_minor": 0
      },
      "text/plain": [
       "backward: 0it [00:00, ?it/s]"
      ]
     },
     "metadata": {},
     "output_type": "display_data"
    },
    {
     "name": "stdout",
     "output_type": "stream",
     "text": [
      "scene id 27\n",
      "scene name car2\n"
     ]
    },
    {
     "data": {
      "application/vnd.jupyter.widget-view+json": {
       "model_id": "ddffd165c76f455296b3ed3a0d51bf1a",
       "version_major": 2,
       "version_minor": 0
      },
      "text/plain": [
       "forward: 0it [00:00, ?it/s]"
      ]
     },
     "metadata": {},
     "output_type": "display_data"
    },
    {
     "data": {
      "application/vnd.jupyter.widget-view+json": {
       "model_id": "9c2c36c04ec64601872fdf52ec6adcd1",
       "version_major": 2,
       "version_minor": 0
      },
      "text/plain": [
       "backward: 0it [00:00, ?it/s]"
      ]
     },
     "metadata": {},
     "output_type": "display_data"
    },
    {
     "data": {
      "application/vnd.jupyter.widget-view+json": {
       "model_id": "37f3b44ee379423082cf2fae98ad69ec",
       "version_major": 2,
       "version_minor": 0
      },
      "text/plain": [
       "backward: 0it [00:00, ?it/s]"
      ]
     },
     "metadata": {},
     "output_type": "display_data"
    },
    {
     "data": {
      "application/vnd.jupyter.widget-view+json": {
       "model_id": "dcda890cac6c440ba40fbb2f3ef64c2b",
       "version_major": 2,
       "version_minor": 0
      },
      "text/plain": [
       "forward: 0it [00:00, ?it/s]"
      ]
     },
     "metadata": {},
     "output_type": "display_data"
    },
    {
     "data": {
      "application/vnd.jupyter.widget-view+json": {
       "model_id": "5e06f91e54b146a5aae94f3d785505a0",
       "version_major": 2,
       "version_minor": 0
      },
      "text/plain": [
       "backward: 0it [00:00, ?it/s]"
      ]
     },
     "metadata": {},
     "output_type": "display_data"
    },
    {
     "name": "stdout",
     "output_type": "stream",
     "text": [
      "scene id 28\n",
      "scene name dice2\n"
     ]
    },
    {
     "data": {
      "application/vnd.jupyter.widget-view+json": {
       "model_id": "4bbfab8210d7413591cc220f629a6dd2",
       "version_major": 2,
       "version_minor": 0
      },
      "text/plain": [
       "forward: 0it [00:00, ?it/s]"
      ]
     },
     "metadata": {},
     "output_type": "display_data"
    },
    {
     "data": {
      "application/vnd.jupyter.widget-view+json": {
       "model_id": "039c3d60f1ba40aa82564d023f2e3d07",
       "version_major": 2,
       "version_minor": 0
      },
      "text/plain": [
       "backward: 0it [00:00, ?it/s]"
      ]
     },
     "metadata": {},
     "output_type": "display_data"
    },
    {
     "data": {
      "application/vnd.jupyter.widget-view+json": {
       "model_id": "b6db4d7b859048fd8138107433cb48c6",
       "version_major": 2,
       "version_minor": 0
      },
      "text/plain": [
       "backward: 0it [00:00, ?it/s]"
      ]
     },
     "metadata": {},
     "output_type": "display_data"
    },
    {
     "data": {
      "application/vnd.jupyter.widget-view+json": {
       "model_id": "5f349ba48308419991d698a9fdd7fd3c",
       "version_major": 2,
       "version_minor": 0
      },
      "text/plain": [
       "forward: 0it [00:00, ?it/s]"
      ]
     },
     "metadata": {},
     "output_type": "display_data"
    },
    {
     "data": {
      "application/vnd.jupyter.widget-view+json": {
       "model_id": "d41852c214994e37a6a2c6bdae0e3bc8",
       "version_major": 2,
       "version_minor": 0
      },
      "text/plain": [
       "backward: 0it [00:00, ?it/s]"
      ]
     },
     "metadata": {},
     "output_type": "display_data"
    },
    {
     "name": "stdout",
     "output_type": "stream",
     "text": [
      "scene id 29\n",
      "scene name partylights6\n"
     ]
    },
    {
     "data": {
      "application/vnd.jupyter.widget-view+json": {
       "model_id": "b1d05bc65b2e4ac69521b70aa4d3eb2e",
       "version_major": 2,
       "version_minor": 0
      },
      "text/plain": [
       "forward: 0it [00:00, ?it/s]"
      ]
     },
     "metadata": {},
     "output_type": "display_data"
    },
    {
     "data": {
      "application/vnd.jupyter.widget-view+json": {
       "model_id": "288fee0189ff4fe2868b141227ee9799",
       "version_major": 2,
       "version_minor": 0
      },
      "text/plain": [
       "backward: 0it [00:00, ?it/s]"
      ]
     },
     "metadata": {},
     "output_type": "display_data"
    },
    {
     "data": {
      "application/vnd.jupyter.widget-view+json": {
       "model_id": "9d8ea54e9d8446938bd7918b82cfb72d",
       "version_major": 2,
       "version_minor": 0
      },
      "text/plain": [
       "backward: 0it [00:00, ?it/s]"
      ]
     },
     "metadata": {},
     "output_type": "display_data"
    },
    {
     "data": {
      "application/vnd.jupyter.widget-view+json": {
       "model_id": "00c762954399424abb5d9df2a2975f10",
       "version_major": 2,
       "version_minor": 0
      },
      "text/plain": [
       "backward: 0it [00:00, ?it/s]"
      ]
     },
     "metadata": {},
     "output_type": "display_data"
    },
    {
     "data": {
      "application/vnd.jupyter.widget-view+json": {
       "model_id": "dad9105ffa47467fbc4c5b86c6de04a3",
       "version_major": 2,
       "version_minor": 0
      },
      "text/plain": [
       "backward: 0it [00:00, ?it/s]"
      ]
     },
     "metadata": {},
     "output_type": "display_data"
    },
    {
     "data": {
      "application/vnd.jupyter.widget-view+json": {
       "model_id": "e503fcf000f64ffdbf289d359d95d358",
       "version_major": 2,
       "version_minor": 0
      },
      "text/plain": [
       "backward: 0it [00:00, ?it/s]"
      ]
     },
     "metadata": {},
     "output_type": "display_data"
    },
    {
     "data": {
      "application/vnd.jupyter.widget-view+json": {
       "model_id": "a048a81aabbf421ca73e820869d1ece2",
       "version_major": 2,
       "version_minor": 0
      },
      "text/plain": [
       "forward: 0it [00:00, ?it/s]"
      ]
     },
     "metadata": {},
     "output_type": "display_data"
    },
    {
     "data": {
      "application/vnd.jupyter.widget-view+json": {
       "model_id": "8e1002dd85c9471b9d9239fad8ad4874",
       "version_major": 2,
       "version_minor": 0
      },
      "text/plain": [
       "backward: 0it [00:00, ?it/s]"
      ]
     },
     "metadata": {},
     "output_type": "display_data"
    },
    {
     "data": {
      "application/vnd.jupyter.widget-view+json": {
       "model_id": "68c77d1c550d48c1a9371f7ca0bedca3",
       "version_major": 2,
       "version_minor": 0
      },
      "text/plain": [
       "backward: 0it [00:00, ?it/s]"
      ]
     },
     "metadata": {},
     "output_type": "display_data"
    },
    {
     "data": {
      "application/vnd.jupyter.widget-view+json": {
       "model_id": "5e9d613edee74b729581852e75cdccee",
       "version_major": 2,
       "version_minor": 0
      },
      "text/plain": [
       "backward: 0it [00:00, ?it/s]"
      ]
     },
     "metadata": {},
     "output_type": "display_data"
    },
    {
     "data": {
      "application/vnd.jupyter.widget-view+json": {
       "model_id": "e51794efa168459c8be78ed80fc4975a",
       "version_major": 2,
       "version_minor": 0
      },
      "text/plain": [
       "backward: 0it [00:00, ?it/s]"
      ]
     },
     "metadata": {},
     "output_type": "display_data"
    },
    {
     "name": "stdout",
     "output_type": "stream",
     "text": [
      "scene id 30\n",
      "scene name campus\n"
     ]
    },
    {
     "data": {
      "application/vnd.jupyter.widget-view+json": {
       "model_id": "068ad82111b643ef90066c28d1f3be92",
       "version_major": 2,
       "version_minor": 0
      },
      "text/plain": [
       "forward: 0it [00:00, ?it/s]"
      ]
     },
     "metadata": {},
     "output_type": "display_data"
    },
    {
     "data": {
      "application/vnd.jupyter.widget-view+json": {
       "model_id": "4474f3c1651a451aa071356381a20a76",
       "version_major": 2,
       "version_minor": 0
      },
      "text/plain": [
       "backward: 0it [00:00, ?it/s]"
      ]
     },
     "metadata": {},
     "output_type": "display_data"
    },
    {
     "data": {
      "application/vnd.jupyter.widget-view+json": {
       "model_id": "91cc22ea30124df28cf420f07ebd8135",
       "version_major": 2,
       "version_minor": 0
      },
      "text/plain": [
       "backward: 0it [00:00, ?it/s]"
      ]
     },
     "metadata": {},
     "output_type": "display_data"
    },
    {
     "data": {
      "application/vnd.jupyter.widget-view+json": {
       "model_id": "a61ad1e410d942b1921bbbaaf50b804d",
       "version_major": 2,
       "version_minor": 0
      },
      "text/plain": [
       "backward: 0it [00:00, ?it/s]"
      ]
     },
     "metadata": {},
     "output_type": "display_data"
    },
    {
     "data": {
      "application/vnd.jupyter.widget-view+json": {
       "model_id": "7924cc2981bf4edd89543010232d9753",
       "version_major": 2,
       "version_minor": 0
      },
      "text/plain": [
       "backward: 0it [00:00, ?it/s]"
      ]
     },
     "metadata": {},
     "output_type": "display_data"
    },
    {
     "data": {
      "application/vnd.jupyter.widget-view+json": {
       "model_id": "77e8cd6ceb4a44a88a6977d45a6cd7d5",
       "version_major": 2,
       "version_minor": 0
      },
      "text/plain": [
       "backward: 0it [00:00, ?it/s]"
      ]
     },
     "metadata": {},
     "output_type": "display_data"
    },
    {
     "data": {
      "application/vnd.jupyter.widget-view+json": {
       "model_id": "c70ba0f1c11b450aa3b0ae186a82d20a",
       "version_major": 2,
       "version_minor": 0
      },
      "text/plain": [
       "forward: 0it [00:00, ?it/s]"
      ]
     },
     "metadata": {},
     "output_type": "display_data"
    },
    {
     "data": {
      "application/vnd.jupyter.widget-view+json": {
       "model_id": "cc0057a4212146018930934832a55e83",
       "version_major": 2,
       "version_minor": 0
      },
      "text/plain": [
       "backward: 0it [00:00, ?it/s]"
      ]
     },
     "metadata": {},
     "output_type": "display_data"
    },
    {
     "data": {
      "application/vnd.jupyter.widget-view+json": {
       "model_id": "4f0b401acba84f2596fe43bbc1d53c13",
       "version_major": 2,
       "version_minor": 0
      },
      "text/plain": [
       "backward: 0it [00:00, ?it/s]"
      ]
     },
     "metadata": {},
     "output_type": "display_data"
    },
    {
     "data": {
      "application/vnd.jupyter.widget-view+json": {
       "model_id": "185f9ff6bf7148a08a2a9a6311676e6b",
       "version_major": 2,
       "version_minor": 0
      },
      "text/plain": [
       "backward: 0it [00:00, ?it/s]"
      ]
     },
     "metadata": {},
     "output_type": "display_data"
    },
    {
     "data": {
      "application/vnd.jupyter.widget-view+json": {
       "model_id": "5bc1c338049e47deb30ef6a021d91dd6",
       "version_major": 2,
       "version_minor": 0
      },
      "text/plain": [
       "backward: 0it [00:00, ?it/s]"
      ]
     },
     "metadata": {},
     "output_type": "display_data"
    },
    {
     "name": "stdout",
     "output_type": "stream",
     "text": [
      "scene id 31\n",
      "scene name book\n"
     ]
    },
    {
     "data": {
      "application/vnd.jupyter.widget-view+json": {
       "model_id": "b5d2f2657af34b8d94585589b6fb5b20",
       "version_major": 2,
       "version_minor": 0
      },
      "text/plain": [
       "forward: 0it [00:00, ?it/s]"
      ]
     },
     "metadata": {},
     "output_type": "display_data"
    },
    {
     "data": {
      "application/vnd.jupyter.widget-view+json": {
       "model_id": "1756247f2c6746bfba9bb72d7aa512d6",
       "version_major": 2,
       "version_minor": 0
      },
      "text/plain": [
       "backward: 0it [00:00, ?it/s]"
      ]
     },
     "metadata": {},
     "output_type": "display_data"
    },
    {
     "name": "stdout",
     "output_type": "stream",
     "text": [
      "scene id 32\n",
      "scene name rainystreet10\n"
     ]
    },
    {
     "data": {
      "application/vnd.jupyter.widget-view+json": {
       "model_id": "04de67819f674afc8c7454322546ce37",
       "version_major": 2,
       "version_minor": 0
      },
      "text/plain": [
       "forward: 0it [00:00, ?it/s]"
      ]
     },
     "metadata": {},
     "output_type": "display_data"
    },
    {
     "data": {
      "application/vnd.jupyter.widget-view+json": {
       "model_id": "272e29e43fdc4c268ff4f840bd602539",
       "version_major": 2,
       "version_minor": 0
      },
      "text/plain": [
       "backward: 0it [00:00, ?it/s]"
      ]
     },
     "metadata": {},
     "output_type": "display_data"
    },
    {
     "data": {
      "application/vnd.jupyter.widget-view+json": {
       "model_id": "4aaf0e1ede4e4d56bc3b745c29781202",
       "version_major": 2,
       "version_minor": 0
      },
      "text/plain": [
       "backward: 0it [00:00, ?it/s]"
      ]
     },
     "metadata": {},
     "output_type": "display_data"
    },
    {
     "data": {
      "application/vnd.jupyter.widget-view+json": {
       "model_id": "19a8c6240b2246a6bbd5bf8d4333f564",
       "version_major": 2,
       "version_minor": 0
      },
      "text/plain": [
       "backward: 0it [00:00, ?it/s]"
      ]
     },
     "metadata": {},
     "output_type": "display_data"
    },
    {
     "data": {
      "application/vnd.jupyter.widget-view+json": {
       "model_id": "f2743d55db404032b76de675382afa02",
       "version_major": 2,
       "version_minor": 0
      },
      "text/plain": [
       "forward: 0it [00:00, ?it/s]"
      ]
     },
     "metadata": {},
     "output_type": "display_data"
    },
    {
     "data": {
      "application/vnd.jupyter.widget-view+json": {
       "model_id": "c04349cf58f5480d9a6ae81d0e4103fe",
       "version_major": 2,
       "version_minor": 0
      },
      "text/plain": [
       "backward: 0it [00:00, ?it/s]"
      ]
     },
     "metadata": {},
     "output_type": "display_data"
    },
    {
     "data": {
      "application/vnd.jupyter.widget-view+json": {
       "model_id": "1ebdd5ce3c224f84869872b1b79117d9",
       "version_major": 2,
       "version_minor": 0
      },
      "text/plain": [
       "backward: 0it [00:00, ?it/s]"
      ]
     },
     "metadata": {},
     "output_type": "display_data"
    },
    {
     "name": "stdout",
     "output_type": "stream",
     "text": [
      "scene id 33\n",
      "scene name cards16\n"
     ]
    },
    {
     "data": {
      "application/vnd.jupyter.widget-view+json": {
       "model_id": "13d169d00b4f42be84b6b842106c12a3",
       "version_major": 2,
       "version_minor": 0
      },
      "text/plain": [
       "forward: 0it [00:00, ?it/s]"
      ]
     },
     "metadata": {},
     "output_type": "display_data"
    },
    {
     "data": {
      "application/vnd.jupyter.widget-view+json": {
       "model_id": "36f67863c9754600a39dc6fe78222cf1",
       "version_major": 2,
       "version_minor": 0
      },
      "text/plain": [
       "backward: 0it [00:00, ?it/s]"
      ]
     },
     "metadata": {},
     "output_type": "display_data"
    },
    {
     "data": {
      "application/vnd.jupyter.widget-view+json": {
       "model_id": "f4bf2db1b97046bd920ed8892277d987",
       "version_major": 2,
       "version_minor": 0
      },
      "text/plain": [
       "backward: 0it [00:00, ?it/s]"
      ]
     },
     "metadata": {},
     "output_type": "display_data"
    },
    {
     "data": {
      "application/vnd.jupyter.widget-view+json": {
       "model_id": "0e6ebaee0f894f91a1a699eb95104945",
       "version_major": 2,
       "version_minor": 0
      },
      "text/plain": [
       "backward: 0it [00:00, ?it/s]"
      ]
     },
     "metadata": {},
     "output_type": "display_data"
    },
    {
     "name": "stdout",
     "output_type": "stream",
     "text": [
      "scene id 34\n",
      "scene name rider2\n"
     ]
    },
    {
     "data": {
      "application/vnd.jupyter.widget-view+json": {
       "model_id": "4a00274c5f654e4d970cf4aaef397eeb",
       "version_major": 2,
       "version_minor": 0
      },
      "text/plain": [
       "forward: 0it [00:00, ?it/s]"
      ]
     },
     "metadata": {},
     "output_type": "display_data"
    },
    {
     "data": {
      "application/vnd.jupyter.widget-view+json": {
       "model_id": "29ea773788024eceb4c56a524ce04d5b",
       "version_major": 2,
       "version_minor": 0
      },
      "text/plain": [
       "backward: 0it [00:00, ?it/s]"
      ]
     },
     "metadata": {},
     "output_type": "display_data"
    },
    {
     "data": {
      "application/vnd.jupyter.widget-view+json": {
       "model_id": "35724976196c4c248aafd3363bd7ef3e",
       "version_major": 2,
       "version_minor": 0
      },
      "text/plain": [
       "backward: 0it [00:00, ?it/s]"
      ]
     },
     "metadata": {},
     "output_type": "display_data"
    },
    {
     "data": {
      "application/vnd.jupyter.widget-view+json": {
       "model_id": "48e94b430d944a40b2f2c8e811608dc2",
       "version_major": 2,
       "version_minor": 0
      },
      "text/plain": [
       "forward: 0it [00:00, ?it/s]"
      ]
     },
     "metadata": {},
     "output_type": "display_data"
    },
    {
     "data": {
      "application/vnd.jupyter.widget-view+json": {
       "model_id": "eeb27d6d9ab74bfaa0afc49ec6de9fa5",
       "version_major": 2,
       "version_minor": 0
      },
      "text/plain": [
       "backward: 0it [00:00, ?it/s]"
      ]
     },
     "metadata": {},
     "output_type": "display_data"
    },
    {
     "name": "stdout",
     "output_type": "stream",
     "text": [
      "scene id 35\n",
      "scene name bus2\n"
     ]
    },
    {
     "data": {
      "application/vnd.jupyter.widget-view+json": {
       "model_id": "ffa0568a36594b8a8b99f9198050fc90",
       "version_major": 2,
       "version_minor": 0
      },
      "text/plain": [
       "forward: 0it [00:00, ?it/s]"
      ]
     },
     "metadata": {},
     "output_type": "display_data"
    },
    {
     "data": {
      "application/vnd.jupyter.widget-view+json": {
       "model_id": "16c12dd8168848c2aec4d9b2ebe508a2",
       "version_major": 2,
       "version_minor": 0
      },
      "text/plain": [
       "backward: 0it [00:00, ?it/s]"
      ]
     },
     "metadata": {},
     "output_type": "display_data"
    },
    {
     "name": "stdout",
     "output_type": "stream",
     "text": [
      "scene id 36\n",
      "scene name trucker\n"
     ]
    },
    {
     "data": {
      "application/vnd.jupyter.widget-view+json": {
       "model_id": "68c45c0fcf1c496baf970c02cfb68b7c",
       "version_major": 2,
       "version_minor": 0
      },
      "text/plain": [
       "forward: 0it [00:00, ?it/s]"
      ]
     },
     "metadata": {},
     "output_type": "display_data"
    },
    {
     "data": {
      "application/vnd.jupyter.widget-view+json": {
       "model_id": "51c492f4bdf04825b81b622426f9134f",
       "version_major": 2,
       "version_minor": 0
      },
      "text/plain": [
       "backward: 0it [00:00, ?it/s]"
      ]
     },
     "metadata": {},
     "output_type": "display_data"
    },
    {
     "name": "stdout",
     "output_type": "stream",
     "text": [
      "scene id 37\n",
      "scene name drive\n"
     ]
    },
    {
     "data": {
      "application/vnd.jupyter.widget-view+json": {
       "model_id": "831c959e320e48efa431667478b44f11",
       "version_major": 2,
       "version_minor": 0
      },
      "text/plain": [
       "forward: 0it [00:00, ?it/s]"
      ]
     },
     "metadata": {},
     "output_type": "display_data"
    },
    {
     "data": {
      "application/vnd.jupyter.widget-view+json": {
       "model_id": "63901e5fda0b4e7fb704e8df6c7bad24",
       "version_major": 2,
       "version_minor": 0
      },
      "text/plain": [
       "backward: 0it [00:00, ?it/s]"
      ]
     },
     "metadata": {},
     "output_type": "display_data"
    },
    {
     "data": {
      "application/vnd.jupyter.widget-view+json": {
       "model_id": "ec44bb9dcb574ce79663c508de6000b8",
       "version_major": 2,
       "version_minor": 0
      },
      "text/plain": [
       "backward: 0it [00:00, ?it/s]"
      ]
     },
     "metadata": {},
     "output_type": "display_data"
    },
    {
     "data": {
      "application/vnd.jupyter.widget-view+json": {
       "model_id": "85cb949a41024f5a843ce2dfefacec5b",
       "version_major": 2,
       "version_minor": 0
      },
      "text/plain": [
       "backward: 0it [00:00, ?it/s]"
      ]
     },
     "metadata": {},
     "output_type": "display_data"
    },
    {
     "data": {
      "application/vnd.jupyter.widget-view+json": {
       "model_id": "79038d25a7cc433b9e1fdf6cb3a628ae",
       "version_major": 2,
       "version_minor": 0
      },
      "text/plain": [
       "backward: 0it [00:00, ?it/s]"
      ]
     },
     "metadata": {},
     "output_type": "display_data"
    },
    {
     "data": {
      "application/vnd.jupyter.widget-view+json": {
       "model_id": "1c31bd0253824f8d8c3352559999ae74",
       "version_major": 2,
       "version_minor": 0
      },
      "text/plain": [
       "forward: 0it [00:00, ?it/s]"
      ]
     },
     "metadata": {},
     "output_type": "display_data"
    },
    {
     "data": {
      "application/vnd.jupyter.widget-view+json": {
       "model_id": "129fd925a5e94f128734bf72972148de",
       "version_major": 2,
       "version_minor": 0
      },
      "text/plain": [
       "backward: 0it [00:00, ?it/s]"
      ]
     },
     "metadata": {},
     "output_type": "display_data"
    },
    {
     "data": {
      "application/vnd.jupyter.widget-view+json": {
       "model_id": "5256f100a49a4e94be6b5c83c6a123af",
       "version_major": 2,
       "version_minor": 0
      },
      "text/plain": [
       "backward: 0it [00:00, ?it/s]"
      ]
     },
     "metadata": {},
     "output_type": "display_data"
    },
    {
     "name": "stdout",
     "output_type": "stream",
     "text": [
      "scene id 38\n",
      "scene name fruit\n"
     ]
    },
    {
     "data": {
      "application/vnd.jupyter.widget-view+json": {
       "model_id": "840b2113b2d340518411042f290f06ec",
       "version_major": 2,
       "version_minor": 0
      },
      "text/plain": [
       "forward: 0it [00:00, ?it/s]"
      ]
     },
     "metadata": {},
     "output_type": "display_data"
    },
    {
     "data": {
      "application/vnd.jupyter.widget-view+json": {
       "model_id": "e58f7eeebb4147dd86a1e030c655b970",
       "version_major": 2,
       "version_minor": 0
      },
      "text/plain": [
       "backward: 0it [00:00, ?it/s]"
      ]
     },
     "metadata": {},
     "output_type": "display_data"
    },
    {
     "data": {
      "application/vnd.jupyter.widget-view+json": {
       "model_id": "5e32795ed0f646d38755795640b06ae6",
       "version_major": 2,
       "version_minor": 0
      },
      "text/plain": [
       "backward: 0it [00:00, ?it/s]"
      ]
     },
     "metadata": {},
     "output_type": "display_data"
    },
    {
     "data": {
      "application/vnd.jupyter.widget-view+json": {
       "model_id": "1e1081fd080e47eeb46d2f502d02d477",
       "version_major": 2,
       "version_minor": 0
      },
      "text/plain": [
       "backward: 0it [00:00, ?it/s]"
      ]
     },
     "metadata": {},
     "output_type": "display_data"
    },
    {
     "data": {
      "application/vnd.jupyter.widget-view+json": {
       "model_id": "1ea8a873aac146c4b5bdfc867ed1523d",
       "version_major": 2,
       "version_minor": 0
      },
      "text/plain": [
       "forward: 0it [00:00, ?it/s]"
      ]
     },
     "metadata": {},
     "output_type": "display_data"
    },
    {
     "data": {
      "application/vnd.jupyter.widget-view+json": {
       "model_id": "394ff9c67c3443efa289f4bf20c41a0a",
       "version_major": 2,
       "version_minor": 0
      },
      "text/plain": [
       "backward: 0it [00:00, ?it/s]"
      ]
     },
     "metadata": {},
     "output_type": "display_data"
    },
    {
     "data": {
      "application/vnd.jupyter.widget-view+json": {
       "model_id": "7be0ef8a9ad14f9cbc5bd9be1867300b",
       "version_major": 2,
       "version_minor": 0
      },
      "text/plain": [
       "backward: 0it [00:00, ?it/s]"
      ]
     },
     "metadata": {},
     "output_type": "display_data"
    },
    {
     "data": {
      "application/vnd.jupyter.widget-view+json": {
       "model_id": "ee60c4136abf4829b3d96130fb9ed7f4",
       "version_major": 2,
       "version_minor": 0
      },
      "text/plain": [
       "backward: 0it [00:00, ?it/s]"
      ]
     },
     "metadata": {},
     "output_type": "display_data"
    },
    {
     "data": {
      "application/vnd.jupyter.widget-view+json": {
       "model_id": "00fabace49ff4f649d355e5c4e7df356",
       "version_major": 2,
       "version_minor": 0
      },
      "text/plain": [
       "forward: 0it [00:00, ?it/s]"
      ]
     },
     "metadata": {},
     "output_type": "display_data"
    },
    {
     "name": "stdout",
     "output_type": "stream",
     "text": [
      "scene id 39\n",
      "scene name paper\n"
     ]
    },
    {
     "data": {
      "application/vnd.jupyter.widget-view+json": {
       "model_id": "50d1a33a2041427a8bd006fdf330d030",
       "version_major": 2,
       "version_minor": 0
      },
      "text/plain": [
       "forward: 0it [00:00, ?it/s]"
      ]
     },
     "metadata": {},
     "output_type": "display_data"
    },
    {
     "data": {
      "application/vnd.jupyter.widget-view+json": {
       "model_id": "b25ae40759fb4afeb364f06d93c59b15",
       "version_major": 2,
       "version_minor": 0
      },
      "text/plain": [
       "backward: 0it [00:00, ?it/s]"
      ]
     },
     "metadata": {},
     "output_type": "display_data"
    },
    {
     "data": {
      "application/vnd.jupyter.widget-view+json": {
       "model_id": "5e4103c655464fcdb1cbf5314307e880",
       "version_major": 2,
       "version_minor": 0
      },
      "text/plain": [
       "backward: 0it [00:00, ?it/s]"
      ]
     },
     "metadata": {},
     "output_type": "display_data"
    },
    {
     "data": {
      "application/vnd.jupyter.widget-view+json": {
       "model_id": "e86bab1d9b67417f9c7c7f565aab27ba",
       "version_major": 2,
       "version_minor": 0
      },
      "text/plain": [
       "backward: 0it [00:00, ?it/s]"
      ]
     },
     "metadata": {},
     "output_type": "display_data"
    },
    {
     "data": {
      "application/vnd.jupyter.widget-view+json": {
       "model_id": "03d23ec53b964952be2b815398030d75",
       "version_major": 2,
       "version_minor": 0
      },
      "text/plain": [
       "forward: 0it [00:00, ?it/s]"
      ]
     },
     "metadata": {},
     "output_type": "display_data"
    },
    {
     "data": {
      "application/vnd.jupyter.widget-view+json": {
       "model_id": "551bdcd014e74b36bf55158761876172",
       "version_major": 2,
       "version_minor": 0
      },
      "text/plain": [
       "backward: 0it [00:00, ?it/s]"
      ]
     },
     "metadata": {},
     "output_type": "display_data"
    },
    {
     "data": {
      "application/vnd.jupyter.widget-view+json": {
       "model_id": "525444462ed94814b2bb90868fed8539",
       "version_major": 2,
       "version_minor": 0
      },
      "text/plain": [
       "backward: 0it [00:00, ?it/s]"
      ]
     },
     "metadata": {},
     "output_type": "display_data"
    },
    {
     "name": "stdout",
     "output_type": "stream",
     "text": [
      "scene id 40\n",
      "scene name forest2\n"
     ]
    },
    {
     "data": {
      "application/vnd.jupyter.widget-view+json": {
       "model_id": "bbb56dd37bb24f71a559c37329cff49f",
       "version_major": 2,
       "version_minor": 0
      },
      "text/plain": [
       "forward: 0it [00:00, ?it/s]"
      ]
     },
     "metadata": {},
     "output_type": "display_data"
    },
    {
     "data": {
      "application/vnd.jupyter.widget-view+json": {
       "model_id": "f49f06f4b29a4efbab2d40e49a54723a",
       "version_major": 2,
       "version_minor": 0
      },
      "text/plain": [
       "backward: 0it [00:00, ?it/s]"
      ]
     },
     "metadata": {},
     "output_type": "display_data"
    },
    {
     "name": "stdout",
     "output_type": "stream",
     "text": [
      "scene id 41\n",
      "scene name face2\n"
     ]
    },
    {
     "data": {
      "application/vnd.jupyter.widget-view+json": {
       "model_id": "4053c37356244f028b77a4577ca86e5b",
       "version_major": 2,
       "version_minor": 0
      },
      "text/plain": [
       "forward: 0it [00:00, ?it/s]"
      ]
     },
     "metadata": {},
     "output_type": "display_data"
    },
    {
     "data": {
      "application/vnd.jupyter.widget-view+json": {
       "model_id": "881c2325ca7e4ff6b93a963f72810290",
       "version_major": 2,
       "version_minor": 0
      },
      "text/plain": [
       "backward: 0it [00:00, ?it/s]"
      ]
     },
     "metadata": {},
     "output_type": "display_data"
    },
    {
     "data": {
      "application/vnd.jupyter.widget-view+json": {
       "model_id": "e2528630aa3e486e9fcf47413f73ff09",
       "version_major": 2,
       "version_minor": 0
      },
      "text/plain": [
       "backward: 0it [00:00, ?it/s]"
      ]
     },
     "metadata": {},
     "output_type": "display_data"
    },
    {
     "data": {
      "application/vnd.jupyter.widget-view+json": {
       "model_id": "36c9c690fb7f49ae9913de8ba1df5317",
       "version_major": 2,
       "version_minor": 0
      },
      "text/plain": [
       "forward: 0it [00:00, ?it/s]"
      ]
     },
     "metadata": {},
     "output_type": "display_data"
    },
    {
     "data": {
      "application/vnd.jupyter.widget-view+json": {
       "model_id": "dbd4621f31f24d69901ecfaff218f9c8",
       "version_major": 2,
       "version_minor": 0
      },
      "text/plain": [
       "backward: 0it [00:00, ?it/s]"
      ]
     },
     "metadata": {},
     "output_type": "display_data"
    },
    {
     "name": "stdout",
     "output_type": "stream",
     "text": [
      "scene id 42\n",
      "scene name toy1\n"
     ]
    },
    {
     "data": {
      "application/vnd.jupyter.widget-view+json": {
       "model_id": "dbee6f99babc4c5ea71feee8e65f2eb0",
       "version_major": 2,
       "version_minor": 0
      },
      "text/plain": [
       "forward: 0it [00:00, ?it/s]"
      ]
     },
     "metadata": {},
     "output_type": "display_data"
    },
    {
     "data": {
      "application/vnd.jupyter.widget-view+json": {
       "model_id": "efdc1c42f89d4575b57d926e92881db9",
       "version_major": 2,
       "version_minor": 0
      },
      "text/plain": [
       "backward: 0it [00:00, ?it/s]"
      ]
     },
     "metadata": {},
     "output_type": "display_data"
    },
    {
     "data": {
      "application/vnd.jupyter.widget-view+json": {
       "model_id": "f7aa17246f5442e1a17a9478e034b5a5",
       "version_major": 2,
       "version_minor": 0
      },
      "text/plain": [
       "backward: 0it [00:00, ?it/s]"
      ]
     },
     "metadata": {},
     "output_type": "display_data"
    },
    {
     "data": {
      "application/vnd.jupyter.widget-view+json": {
       "model_id": "f804b42e0ab641b3bce6daac7f96d677",
       "version_major": 2,
       "version_minor": 0
      },
      "text/plain": [
       "backward: 0it [00:00, ?it/s]"
      ]
     },
     "metadata": {},
     "output_type": "display_data"
    },
    {
     "data": {
      "application/vnd.jupyter.widget-view+json": {
       "model_id": "c837528803d5466cb3c60fe6304e94f2",
       "version_major": 2,
       "version_minor": 0
      },
      "text/plain": [
       "forward: 0it [00:00, ?it/s]"
      ]
     },
     "metadata": {},
     "output_type": "display_data"
    },
    {
     "data": {
      "application/vnd.jupyter.widget-view+json": {
       "model_id": "ceab7f1d6ad9481aa411f064e5875ed6",
       "version_major": 2,
       "version_minor": 0
      },
      "text/plain": [
       "backward: 0it [00:00, ?it/s]"
      ]
     },
     "metadata": {},
     "output_type": "display_data"
    },
    {
     "name": "stdout",
     "output_type": "stream",
     "text": [
      "scene id 43\n",
      "scene name bus\n"
     ]
    },
    {
     "data": {
      "application/vnd.jupyter.widget-view+json": {
       "model_id": "8aa2fb8fb70c44ac9d57a509b629cb57",
       "version_major": 2,
       "version_minor": 0
      },
      "text/plain": [
       "forward: 0it [00:00, ?it/s]"
      ]
     },
     "metadata": {},
     "output_type": "display_data"
    },
    {
     "data": {
      "application/vnd.jupyter.widget-view+json": {
       "model_id": "3e36db33ee5340e5a93f8bfe456068f4",
       "version_major": 2,
       "version_minor": 0
      },
      "text/plain": [
       "backward: 0it [00:00, ?it/s]"
      ]
     },
     "metadata": {},
     "output_type": "display_data"
    },
    {
     "data": {
      "application/vnd.jupyter.widget-view+json": {
       "model_id": "4c3133fcaf91456181ab24233fb2bad2",
       "version_major": 2,
       "version_minor": 0
      },
      "text/plain": [
       "backward: 0it [00:00, ?it/s]"
      ]
     },
     "metadata": {},
     "output_type": "display_data"
    },
    {
     "data": {
      "application/vnd.jupyter.widget-view+json": {
       "model_id": "be6870550ede4f679aed5a043d855e13",
       "version_major": 2,
       "version_minor": 0
      },
      "text/plain": [
       "forward: 0it [00:00, ?it/s]"
      ]
     },
     "metadata": {},
     "output_type": "display_data"
    },
    {
     "data": {
      "application/vnd.jupyter.widget-view+json": {
       "model_id": "2187939f9b314a9fa6eaec3adb6371bd",
       "version_major": 2,
       "version_minor": 0
      },
      "text/plain": [
       "backward: 0it [00:00, ?it/s]"
      ]
     },
     "metadata": {},
     "output_type": "display_data"
    },
    {
     "name": "stdout",
     "output_type": "stream",
     "text": [
      "scene id 44\n",
      "scene name pool11\n"
     ]
    },
    {
     "data": {
      "application/vnd.jupyter.widget-view+json": {
       "model_id": "968ee87fa34d423e8662db08f92c2a92",
       "version_major": 2,
       "version_minor": 0
      },
      "text/plain": [
       "forward: 0it [00:00, ?it/s]"
      ]
     },
     "metadata": {},
     "output_type": "display_data"
    },
    {
     "data": {
      "application/vnd.jupyter.widget-view+json": {
       "model_id": "b81c43b10fc24395b0478f1260c5a597",
       "version_major": 2,
       "version_minor": 0
      },
      "text/plain": [
       "backward: 0it [00:00, ?it/s]"
      ]
     },
     "metadata": {},
     "output_type": "display_data"
    },
    {
     "data": {
      "application/vnd.jupyter.widget-view+json": {
       "model_id": "d1deeff630f442878772e9381443ef6b",
       "version_major": 2,
       "version_minor": 0
      },
      "text/plain": [
       "backward: 0it [00:00, ?it/s]"
      ]
     },
     "metadata": {},
     "output_type": "display_data"
    },
    {
     "data": {
      "application/vnd.jupyter.widget-view+json": {
       "model_id": "432285a4b326494d9b0e318aabbf23d8",
       "version_major": 2,
       "version_minor": 0
      },
      "text/plain": [
       "backward: 0it [00:00, ?it/s]"
      ]
     },
     "metadata": {},
     "output_type": "display_data"
    },
    {
     "data": {
      "application/vnd.jupyter.widget-view+json": {
       "model_id": "2f428d82a03d411199a02fa663e57569",
       "version_major": 2,
       "version_minor": 0
      },
      "text/plain": [
       "forward: 0it [00:00, ?it/s]"
      ]
     },
     "metadata": {},
     "output_type": "display_data"
    },
    {
     "data": {
      "application/vnd.jupyter.widget-view+json": {
       "model_id": "d5f8351c745e4c41ab5e6ef6acd80ef8",
       "version_major": 2,
       "version_minor": 0
      },
      "text/plain": [
       "backward: 0it [00:00, ?it/s]"
      ]
     },
     "metadata": {},
     "output_type": "display_data"
    },
    {
     "data": {
      "application/vnd.jupyter.widget-view+json": {
       "model_id": "77dfafdcd5c342b19181efe5e8567d60",
       "version_major": 2,
       "version_minor": 0
      },
      "text/plain": [
       "backward: 0it [00:00, ?it/s]"
      ]
     },
     "metadata": {},
     "output_type": "display_data"
    },
    {
     "name": "stdout",
     "output_type": "stream",
     "text": [
      "scene id 45\n",
      "scene name player\n"
     ]
    },
    {
     "data": {
      "application/vnd.jupyter.widget-view+json": {
       "model_id": "b6122f66293e47648f62738d6ca08d5a",
       "version_major": 2,
       "version_minor": 0
      },
      "text/plain": [
       "forward: 0it [00:00, ?it/s]"
      ]
     },
     "metadata": {},
     "output_type": "display_data"
    },
    {
     "data": {
      "application/vnd.jupyter.widget-view+json": {
       "model_id": "59464f4943094c45a45959b7348a3bfb",
       "version_major": 2,
       "version_minor": 0
      },
      "text/plain": [
       "backward: 0it [00:00, ?it/s]"
      ]
     },
     "metadata": {},
     "output_type": "display_data"
    },
    {
     "name": "stdout",
     "output_type": "stream",
     "text": [
      "scene id 46\n",
      "scene name car52\n"
     ]
    },
    {
     "data": {
      "application/vnd.jupyter.widget-view+json": {
       "model_id": "a0b793de5ab541d69eb3246e8079f2db",
       "version_major": 2,
       "version_minor": 0
      },
      "text/plain": [
       "forward: 0it [00:00, ?it/s]"
      ]
     },
     "metadata": {},
     "output_type": "display_data"
    },
    {
     "data": {
      "application/vnd.jupyter.widget-view+json": {
       "model_id": "00c1c44cab4c44ed8fc36d9e839d6023",
       "version_major": 2,
       "version_minor": 0
      },
      "text/plain": [
       "backward: 0it [00:00, ?it/s]"
      ]
     },
     "metadata": {},
     "output_type": "display_data"
    },
    {
     "data": {
      "application/vnd.jupyter.widget-view+json": {
       "model_id": "d9db43a553324eafaf571af3969c814f",
       "version_major": 2,
       "version_minor": 0
      },
      "text/plain": [
       "backward: 0it [00:00, ?it/s]"
      ]
     },
     "metadata": {},
     "output_type": "display_data"
    },
    {
     "data": {
      "application/vnd.jupyter.widget-view+json": {
       "model_id": "73b3e13738464bfcbc58cf5d63ce1db0",
       "version_major": 2,
       "version_minor": 0
      },
      "text/plain": [
       "forward: 0it [00:00, ?it/s]"
      ]
     },
     "metadata": {},
     "output_type": "display_data"
    },
    {
     "data": {
      "application/vnd.jupyter.widget-view+json": {
       "model_id": "99bcf179f0fb4578acbad28d47c68069",
       "version_major": 2,
       "version_minor": 0
      },
      "text/plain": [
       "backward: 0it [00:00, ?it/s]"
      ]
     },
     "metadata": {},
     "output_type": "display_data"
    },
    {
     "name": "stdout",
     "output_type": "stream",
     "text": [
      "scene id 47\n",
      "scene name car84\n"
     ]
    },
    {
     "data": {
      "application/vnd.jupyter.widget-view+json": {
       "model_id": "dae2bc045b4a47a2aac02126abe432f2",
       "version_major": 2,
       "version_minor": 0
      },
      "text/plain": [
       "forward: 0it [00:00, ?it/s]"
      ]
     },
     "metadata": {},
     "output_type": "display_data"
    },
    {
     "data": {
      "application/vnd.jupyter.widget-view+json": {
       "model_id": "974bc3753c2249beb722e88e3c61cb92",
       "version_major": 2,
       "version_minor": 0
      },
      "text/plain": [
       "backward: 0it [00:00, ?it/s]"
      ]
     },
     "metadata": {},
     "output_type": "display_data"
    },
    {
     "name": "stdout",
     "output_type": "stream",
     "text": [
      "scene id 48\n",
      "scene name car60\n"
     ]
    },
    {
     "data": {
      "application/vnd.jupyter.widget-view+json": {
       "model_id": "50ef54c0eb1d420890137cd811c0d611",
       "version_major": 2,
       "version_minor": 0
      },
      "text/plain": [
       "forward: 0it [00:00, ?it/s]"
      ]
     },
     "metadata": {},
     "output_type": "display_data"
    },
    {
     "data": {
      "application/vnd.jupyter.widget-view+json": {
       "model_id": "c4f93c5b6cfe47c3befe87374d8cee26",
       "version_major": 2,
       "version_minor": 0
      },
      "text/plain": [
       "backward: 0it [00:00, ?it/s]"
      ]
     },
     "metadata": {},
     "output_type": "display_data"
    },
    {
     "data": {
      "application/vnd.jupyter.widget-view+json": {
       "model_id": "f275c898fef1447b94b2a1d2595c9586",
       "version_major": 2,
       "version_minor": 0
      },
      "text/plain": [
       "backward: 0it [00:00, ?it/s]"
      ]
     },
     "metadata": {},
     "output_type": "display_data"
    },
    {
     "data": {
      "application/vnd.jupyter.widget-view+json": {
       "model_id": "d30d730684a4421bb2dc1a3adaf14c2e",
       "version_major": 2,
       "version_minor": 0
      },
      "text/plain": [
       "forward: 0it [00:00, ?it/s]"
      ]
     },
     "metadata": {},
     "output_type": "display_data"
    },
    {
     "data": {
      "application/vnd.jupyter.widget-view+json": {
       "model_id": "621141071e274eb98bd44789662542a9",
       "version_major": 2,
       "version_minor": 0
      },
      "text/plain": [
       "backward: 0it [00:00, ?it/s]"
      ]
     },
     "metadata": {},
     "output_type": "display_data"
    },
    {
     "name": "stdout",
     "output_type": "stream",
     "text": [
      "scene id 49\n",
      "scene name car79\n"
     ]
    },
    {
     "data": {
      "application/vnd.jupyter.widget-view+json": {
       "model_id": "7279a433b5744ecfb670af0668a7c028",
       "version_major": 2,
       "version_minor": 0
      },
      "text/plain": [
       "forward: 0it [00:00, ?it/s]"
      ]
     },
     "metadata": {},
     "output_type": "display_data"
    },
    {
     "data": {
      "application/vnd.jupyter.widget-view+json": {
       "model_id": "908d97e803c44c40860985dabef9d579",
       "version_major": 2,
       "version_minor": 0
      },
      "text/plain": [
       "backward: 0it [00:00, ?it/s]"
      ]
     },
     "metadata": {},
     "output_type": "display_data"
    },
    {
     "data": {
      "application/vnd.jupyter.widget-view+json": {
       "model_id": "1984aab96c2f41b8a9a4d9ffca0e4b17",
       "version_major": 2,
       "version_minor": 0
      },
      "text/plain": [
       "backward: 0it [00:00, ?it/s]"
      ]
     },
     "metadata": {},
     "output_type": "display_data"
    },
    {
     "data": {
      "application/vnd.jupyter.widget-view+json": {
       "model_id": "0dc40cbff21448cf9ddbee3dc80163ae",
       "version_major": 2,
       "version_minor": 0
      },
      "text/plain": [
       "forward: 0it [00:00, ?it/s]"
      ]
     },
     "metadata": {},
     "output_type": "display_data"
    },
    {
     "data": {
      "application/vnd.jupyter.widget-view+json": {
       "model_id": "26acfe00efd74779a1bc25a67e7bbb21",
       "version_major": 2,
       "version_minor": 0
      },
      "text/plain": [
       "backward: 0it [00:00, ?it/s]"
      ]
     },
     "metadata": {},
     "output_type": "display_data"
    },
    {
     "name": "stdout",
     "output_type": "stream",
     "text": [
      "scene id 50\n",
      "scene name basketball3\n"
     ]
    },
    {
     "data": {
      "application/vnd.jupyter.widget-view+json": {
       "model_id": "8a614c860a3b45c8a32096fd637801ab",
       "version_major": 2,
       "version_minor": 0
      },
      "text/plain": [
       "forward: 0it [00:00, ?it/s]"
      ]
     },
     "metadata": {},
     "output_type": "display_data"
    },
    {
     "data": {
      "application/vnd.jupyter.widget-view+json": {
       "model_id": "dedd5daaf75f43e9adc174ca2ca55b08",
       "version_major": 2,
       "version_minor": 0
      },
      "text/plain": [
       "backward: 0it [00:00, ?it/s]"
      ]
     },
     "metadata": {},
     "output_type": "display_data"
    },
    {
     "data": {
      "application/vnd.jupyter.widget-view+json": {
       "model_id": "75f725fcbd0240fbbab0663881cd98a7",
       "version_major": 2,
       "version_minor": 0
      },
      "text/plain": [
       "backward: 0it [00:00, ?it/s]"
      ]
     },
     "metadata": {},
     "output_type": "display_data"
    },
    {
     "data": {
      "application/vnd.jupyter.widget-view+json": {
       "model_id": "6a7fb9491df34bdfbc3242e4be8859d0",
       "version_major": 2,
       "version_minor": 0
      },
      "text/plain": [
       "backward: 0it [00:00, ?it/s]"
      ]
     },
     "metadata": {},
     "output_type": "display_data"
    },
    {
     "data": {
      "application/vnd.jupyter.widget-view+json": {
       "model_id": "2e73694f68b046a8b7e04b029ed7f18f",
       "version_major": 2,
       "version_minor": 0
      },
      "text/plain": [
       "backward: 0it [00:00, ?it/s]"
      ]
     },
     "metadata": {},
     "output_type": "display_data"
    },
    {
     "data": {
      "application/vnd.jupyter.widget-view+json": {
       "model_id": "480d257ec96f47baace1abd43011cbae",
       "version_major": 2,
       "version_minor": 0
      },
      "text/plain": [
       "backward: 0it [00:00, ?it/s]"
      ]
     },
     "metadata": {},
     "output_type": "display_data"
    },
    {
     "data": {
      "application/vnd.jupyter.widget-view+json": {
       "model_id": "86853537f2f54dc0b6d02d84322a0a5d",
       "version_major": 2,
       "version_minor": 0
      },
      "text/plain": [
       "forward: 0it [00:00, ?it/s]"
      ]
     },
     "metadata": {},
     "output_type": "display_data"
    },
    {
     "data": {
      "application/vnd.jupyter.widget-view+json": {
       "model_id": "6f7c4dbf1688488694e66abf7e175afb",
       "version_major": 2,
       "version_minor": 0
      },
      "text/plain": [
       "backward: 0it [00:00, ?it/s]"
      ]
     },
     "metadata": {},
     "output_type": "display_data"
    },
    {
     "data": {
      "application/vnd.jupyter.widget-view+json": {
       "model_id": "a28a88b1bd2e4eeead7ebf8d3a75e8e9",
       "version_major": 2,
       "version_minor": 0
      },
      "text/plain": [
       "backward: 0it [00:00, ?it/s]"
      ]
     },
     "metadata": {},
     "output_type": "display_data"
    },
    {
     "data": {
      "application/vnd.jupyter.widget-view+json": {
       "model_id": "cd53f41161a34d338c7d6695eab0dcd4",
       "version_major": 2,
       "version_minor": 0
      },
      "text/plain": [
       "backward: 0it [00:00, ?it/s]"
      ]
     },
     "metadata": {},
     "output_type": "display_data"
    },
    {
     "name": "stdout",
     "output_type": "stream",
     "text": [
      "scene id 51\n",
      "scene name car83\n"
     ]
    },
    {
     "data": {
      "application/vnd.jupyter.widget-view+json": {
       "model_id": "3b31651c28d74b2f9aa6befedf0dc52b",
       "version_major": 2,
       "version_minor": 0
      },
      "text/plain": [
       "forward: 0it [00:00, ?it/s]"
      ]
     },
     "metadata": {},
     "output_type": "display_data"
    },
    {
     "data": {
      "application/vnd.jupyter.widget-view+json": {
       "model_id": "e84e08f41c2b4d588a4a2b2b7dd9e523",
       "version_major": 2,
       "version_minor": 0
      },
      "text/plain": [
       "backward: 0it [00:00, ?it/s]"
      ]
     },
     "metadata": {},
     "output_type": "display_data"
    },
    {
     "name": "stdout",
     "output_type": "stream",
     "text": [
      "scene id 52\n",
      "scene name rider17\n"
     ]
    },
    {
     "data": {
      "application/vnd.jupyter.widget-view+json": {
       "model_id": "430bdd002ed4437fb2c4ea2b8a5ece3d",
       "version_major": 2,
       "version_minor": 0
      },
      "text/plain": [
       "forward: 0it [00:00, ?it/s]"
      ]
     },
     "metadata": {},
     "output_type": "display_data"
    },
    {
     "data": {
      "application/vnd.jupyter.widget-view+json": {
       "model_id": "9ae4067641764b2d86fc0a640874c4c3",
       "version_major": 2,
       "version_minor": 0
      },
      "text/plain": [
       "backward: 0it [00:00, ?it/s]"
      ]
     },
     "metadata": {},
     "output_type": "display_data"
    },
    {
     "data": {
      "application/vnd.jupyter.widget-view+json": {
       "model_id": "4875c052cc464a7eb6f7bbcf1a590ced",
       "version_major": 2,
       "version_minor": 0
      },
      "text/plain": [
       "backward: 0it [00:00, ?it/s]"
      ]
     },
     "metadata": {},
     "output_type": "display_data"
    },
    {
     "data": {
      "application/vnd.jupyter.widget-view+json": {
       "model_id": "98b5847a82cb482f9c4525789345265f",
       "version_major": 2,
       "version_minor": 0
      },
      "text/plain": [
       "backward: 0it [00:00, ?it/s]"
      ]
     },
     "metadata": {},
     "output_type": "display_data"
    },
    {
     "data": {
      "application/vnd.jupyter.widget-view+json": {
       "model_id": "e6129085519f41b5901185c3ff44d26c",
       "version_major": 2,
       "version_minor": 0
      },
      "text/plain": [
       "forward: 0it [00:00, ?it/s]"
      ]
     },
     "metadata": {},
     "output_type": "display_data"
    },
    {
     "data": {
      "application/vnd.jupyter.widget-view+json": {
       "model_id": "807b4ba4ea7a4a608a685e2d5b7550b1",
       "version_major": 2,
       "version_minor": 0
      },
      "text/plain": [
       "backward: 0it [00:00, ?it/s]"
      ]
     },
     "metadata": {},
     "output_type": "display_data"
    },
    {
     "data": {
      "application/vnd.jupyter.widget-view+json": {
       "model_id": "c7a2ea8f449e4f00aa9e756db3d69e70",
       "version_major": 2,
       "version_minor": 0
      },
      "text/plain": [
       "backward: 0it [00:00, ?it/s]"
      ]
     },
     "metadata": {},
     "output_type": "display_data"
    },
    {
     "name": "stdout",
     "output_type": "stream",
     "text": [
      "scene id 53\n",
      "scene name pedestrian7\n"
     ]
    },
    {
     "data": {
      "application/vnd.jupyter.widget-view+json": {
       "model_id": "f31fcf5ff30c402c8e75bde0b4a2fbf9",
       "version_major": 2,
       "version_minor": 0
      },
      "text/plain": [
       "forward: 0it [00:00, ?it/s]"
      ]
     },
     "metadata": {},
     "output_type": "display_data"
    },
    {
     "data": {
      "application/vnd.jupyter.widget-view+json": {
       "model_id": "f4dfba3fbbe242d3ae8c5a12c5a18b37",
       "version_major": 2,
       "version_minor": 0
      },
      "text/plain": [
       "backward: 0it [00:00, ?it/s]"
      ]
     },
     "metadata": {},
     "output_type": "display_data"
    },
    {
     "data": {
      "application/vnd.jupyter.widget-view+json": {
       "model_id": "f97ff86bc8f74912b20ad474b382c66b",
       "version_major": 2,
       "version_minor": 0
      },
      "text/plain": [
       "backward: 0it [00:00, ?it/s]"
      ]
     },
     "metadata": {},
     "output_type": "display_data"
    },
    {
     "data": {
      "application/vnd.jupyter.widget-view+json": {
       "model_id": "aaafa40c7a2c4449889511e1fae00383",
       "version_major": 2,
       "version_minor": 0
      },
      "text/plain": [
       "forward: 0it [00:00, ?it/s]"
      ]
     },
     "metadata": {},
     "output_type": "display_data"
    },
    {
     "data": {
      "application/vnd.jupyter.widget-view+json": {
       "model_id": "c5bd1fd222ec4f758493ef516721abe9",
       "version_major": 2,
       "version_minor": 0
      },
      "text/plain": [
       "backward: 0it [00:00, ?it/s]"
      ]
     },
     "metadata": {},
     "output_type": "display_data"
    },
    {
     "name": "stdout",
     "output_type": "stream",
     "text": [
      "scene id 54\n",
      "scene name car51\n"
     ]
    },
    {
     "data": {
      "application/vnd.jupyter.widget-view+json": {
       "model_id": "6d63ee3c84174ec3a8cc18ae62e70e9a",
       "version_major": 2,
       "version_minor": 0
      },
      "text/plain": [
       "forward: 0it [00:00, ?it/s]"
      ]
     },
     "metadata": {},
     "output_type": "display_data"
    },
    {
     "data": {
      "application/vnd.jupyter.widget-view+json": {
       "model_id": "5894ef5925d1499face426c6ddef4d4b",
       "version_major": 2,
       "version_minor": 0
      },
      "text/plain": [
       "backward: 0it [00:00, ?it/s]"
      ]
     },
     "metadata": {},
     "output_type": "display_data"
    },
    {
     "data": {
      "application/vnd.jupyter.widget-view+json": {
       "model_id": "f518d298fe594a20989aa02c33bdafe6",
       "version_major": 2,
       "version_minor": 0
      },
      "text/plain": [
       "backward: 0it [00:00, ?it/s]"
      ]
     },
     "metadata": {},
     "output_type": "display_data"
    },
    {
     "data": {
      "application/vnd.jupyter.widget-view+json": {
       "model_id": "ff88b3c52cf446c8b1bea0bc252507be",
       "version_major": 2,
       "version_minor": 0
      },
      "text/plain": [
       "backward: 0it [00:00, ?it/s]"
      ]
     },
     "metadata": {},
     "output_type": "display_data"
    },
    {
     "data": {
      "application/vnd.jupyter.widget-view+json": {
       "model_id": "bc28bb79a7b74b3a86d8f15ba2e4c69a",
       "version_major": 2,
       "version_minor": 0
      },
      "text/plain": [
       "forward: 0it [00:00, ?it/s]"
      ]
     },
     "metadata": {},
     "output_type": "display_data"
    },
    {
     "data": {
      "application/vnd.jupyter.widget-view+json": {
       "model_id": "167434d2304a4bf2a1e6ff32c375a793",
       "version_major": 2,
       "version_minor": 0
      },
      "text/plain": [
       "backward: 0it [00:00, ?it/s]"
      ]
     },
     "metadata": {},
     "output_type": "display_data"
    },
    {
     "data": {
      "application/vnd.jupyter.widget-view+json": {
       "model_id": "f8895c5a15a243c29026ef4e1399eeb4",
       "version_major": 2,
       "version_minor": 0
      },
      "text/plain": [
       "backward: 0it [00:00, ?it/s]"
      ]
     },
     "metadata": {},
     "output_type": "display_data"
    },
    {
     "data": {
      "application/vnd.jupyter.widget-view+json": {
       "model_id": "058ce43306664450b6c4742e97dc97b1",
       "version_major": 2,
       "version_minor": 0
      },
      "text/plain": [
       "forward: 0it [00:00, ?it/s]"
      ]
     },
     "metadata": {},
     "output_type": "display_data"
    },
    {
     "name": "stdout",
     "output_type": "stream",
     "text": [
      "scene id 55\n",
      "scene name rider19\n"
     ]
    },
    {
     "data": {
      "application/vnd.jupyter.widget-view+json": {
       "model_id": "32ce1481f96a4efa8f8fded95ee6f70c",
       "version_major": 2,
       "version_minor": 0
      },
      "text/plain": [
       "forward: 0it [00:00, ?it/s]"
      ]
     },
     "metadata": {},
     "output_type": "display_data"
    },
    {
     "data": {
      "application/vnd.jupyter.widget-view+json": {
       "model_id": "a39e75337ac14fa3968a79da26e23a65",
       "version_major": 2,
       "version_minor": 0
      },
      "text/plain": [
       "backward: 0it [00:00, ?it/s]"
      ]
     },
     "metadata": {},
     "output_type": "display_data"
    },
    {
     "name": "stdout",
     "output_type": "stream",
     "text": [
      "scene id 56\n",
      "scene name car63\n"
     ]
    },
    {
     "data": {
      "application/vnd.jupyter.widget-view+json": {
       "model_id": "3b62d27c432e46be8dfcf59ce601a386",
       "version_major": 2,
       "version_minor": 0
      },
      "text/plain": [
       "forward: 0it [00:00, ?it/s]"
      ]
     },
     "metadata": {},
     "output_type": "display_data"
    },
    {
     "data": {
      "application/vnd.jupyter.widget-view+json": {
       "model_id": "ec0d4d3d6ee74e86ae7b716a019b0f5f",
       "version_major": 2,
       "version_minor": 0
      },
      "text/plain": [
       "backward: 0it [00:00, ?it/s]"
      ]
     },
     "metadata": {},
     "output_type": "display_data"
    },
    {
     "name": "stdout",
     "output_type": "stream",
     "text": [
      "scene id 57\n",
      "scene name car77\n"
     ]
    },
    {
     "data": {
      "application/vnd.jupyter.widget-view+json": {
       "model_id": "f8972b10fb1643478b8d9fb844b72fb3",
       "version_major": 2,
       "version_minor": 0
      },
      "text/plain": [
       "forward: 0it [00:00, ?it/s]"
      ]
     },
     "metadata": {},
     "output_type": "display_data"
    },
    {
     "data": {
      "application/vnd.jupyter.widget-view+json": {
       "model_id": "0c78c113de7d47b6912f853de4029a78",
       "version_major": 2,
       "version_minor": 0
      },
      "text/plain": [
       "backward: 0it [00:00, ?it/s]"
      ]
     },
     "metadata": {},
     "output_type": "display_data"
    },
    {
     "name": "stdout",
     "output_type": "stream",
     "text": [
      "scene id 58\n",
      "scene name car64\n"
     ]
    },
    {
     "data": {
      "application/vnd.jupyter.widget-view+json": {
       "model_id": "50f86ed0c97249b5a46892083856ca0c",
       "version_major": 2,
       "version_minor": 0
      },
      "text/plain": [
       "forward: 0it [00:00, ?it/s]"
      ]
     },
     "metadata": {},
     "output_type": "display_data"
    },
    {
     "data": {
      "application/vnd.jupyter.widget-view+json": {
       "model_id": "35538b19b79442f3a1a312cd312c654b",
       "version_major": 2,
       "version_minor": 0
      },
      "text/plain": [
       "backward: 0it [00:00, ?it/s]"
      ]
     },
     "metadata": {},
     "output_type": "display_data"
    },
    {
     "name": "stdout",
     "output_type": "stream",
     "text": [
      "scene id 59\n",
      "scene name car80\n"
     ]
    },
    {
     "data": {
      "application/vnd.jupyter.widget-view+json": {
       "model_id": "c76ba9b450644f1ea08ee0866d2d8465",
       "version_major": 2,
       "version_minor": 0
      },
      "text/plain": [
       "forward: 0it [00:00, ?it/s]"
      ]
     },
     "metadata": {},
     "output_type": "display_data"
    },
    {
     "data": {
      "application/vnd.jupyter.widget-view+json": {
       "model_id": "a178455b706d4a54bed2763681065324",
       "version_major": 2,
       "version_minor": 0
      },
      "text/plain": [
       "backward: 0it [00:00, ?it/s]"
      ]
     },
     "metadata": {},
     "output_type": "display_data"
    },
    {
     "data": {
      "application/vnd.jupyter.widget-view+json": {
       "model_id": "6231c3ad4c2f463f89987ccefe5edfe7",
       "version_major": 2,
       "version_minor": 0
      },
      "text/plain": [
       "backward: 0it [00:00, ?it/s]"
      ]
     },
     "metadata": {},
     "output_type": "display_data"
    },
    {
     "data": {
      "application/vnd.jupyter.widget-view+json": {
       "model_id": "696b96ef69db437e959933a435716b0a",
       "version_major": 2,
       "version_minor": 0
      },
      "text/plain": [
       "forward: 0it [00:00, ?it/s]"
      ]
     },
     "metadata": {},
     "output_type": "display_data"
    },
    {
     "data": {
      "application/vnd.jupyter.widget-view+json": {
       "model_id": "f94c1a1ccf474bdc97424612309b933d",
       "version_major": 2,
       "version_minor": 0
      },
      "text/plain": [
       "backward: 0it [00:00, ?it/s]"
      ]
     },
     "metadata": {},
     "output_type": "display_data"
    },
    {
     "name": "stdout",
     "output_type": "stream",
     "text": [
      "scene id 60\n",
      "scene name car11\n"
     ]
    },
    {
     "data": {
      "application/vnd.jupyter.widget-view+json": {
       "model_id": "4854368a90204279b172dcb423718ac2",
       "version_major": 2,
       "version_minor": 0
      },
      "text/plain": [
       "forward: 0it [00:00, ?it/s]"
      ]
     },
     "metadata": {},
     "output_type": "display_data"
    },
    {
     "data": {
      "application/vnd.jupyter.widget-view+json": {
       "model_id": "4c7df68de0c64fd9bc29680ebc27340e",
       "version_major": 2,
       "version_minor": 0
      },
      "text/plain": [
       "backward: 0it [00:00, ?it/s]"
      ]
     },
     "metadata": {},
     "output_type": "display_data"
    },
    {
     "data": {
      "application/vnd.jupyter.widget-view+json": {
       "model_id": "c306e4d81ef142cb82af3c7d34cfdbd0",
       "version_major": 2,
       "version_minor": 0
      },
      "text/plain": [
       "backward: 0it [00:00, ?it/s]"
      ]
     },
     "metadata": {},
     "output_type": "display_data"
    },
    {
     "data": {
      "application/vnd.jupyter.widget-view+json": {
       "model_id": "66cd5cfd212a4cb483c15ba349b5f6f6",
       "version_major": 2,
       "version_minor": 0
      },
      "text/plain": [
       "forward: 0it [00:00, ?it/s]"
      ]
     },
     "metadata": {},
     "output_type": "display_data"
    },
    {
     "data": {
      "application/vnd.jupyter.widget-view+json": {
       "model_id": "e87e157854fc4a9c898f97b9c14f7a08",
       "version_major": 2,
       "version_minor": 0
      },
      "text/plain": [
       "backward: 0it [00:00, ?it/s]"
      ]
     },
     "metadata": {},
     "output_type": "display_data"
    },
    {
     "name": "stdout",
     "output_type": "stream",
     "text": [
      "scene id 61\n",
      "scene name car82\n"
     ]
    },
    {
     "data": {
      "application/vnd.jupyter.widget-view+json": {
       "model_id": "5dfbf106f3024783b7ed5efafed4fe83",
       "version_major": 2,
       "version_minor": 0
      },
      "text/plain": [
       "forward: 0it [00:00, ?it/s]"
      ]
     },
     "metadata": {},
     "output_type": "display_data"
    },
    {
     "data": {
      "application/vnd.jupyter.widget-view+json": {
       "model_id": "ef1c9c667bcb43549b468f44c06d0831",
       "version_major": 2,
       "version_minor": 0
      },
      "text/plain": [
       "backward: 0it [00:00, ?it/s]"
      ]
     },
     "metadata": {},
     "output_type": "display_data"
    },
    {
     "name": "stdout",
     "output_type": "stream",
     "text": [
      "scene id 62\n",
      "scene name rider16\n"
     ]
    },
    {
     "data": {
      "application/vnd.jupyter.widget-view+json": {
       "model_id": "51b6a293cc2743838d137606ef1da627",
       "version_major": 2,
       "version_minor": 0
      },
      "text/plain": [
       "forward: 0it [00:00, ?it/s]"
      ]
     },
     "metadata": {},
     "output_type": "display_data"
    },
    {
     "data": {
      "application/vnd.jupyter.widget-view+json": {
       "model_id": "b82caa116cc9467495264a1c9b9f82d4",
       "version_major": 2,
       "version_minor": 0
      },
      "text/plain": [
       "backward: 0it [00:00, ?it/s]"
      ]
     },
     "metadata": {},
     "output_type": "display_data"
    },
    {
     "data": {
      "application/vnd.jupyter.widget-view+json": {
       "model_id": "f8aac1dced394ee7bd1f635597e3b49b",
       "version_major": 2,
       "version_minor": 0
      },
      "text/plain": [
       "backward: 0it [00:00, ?it/s]"
      ]
     },
     "metadata": {},
     "output_type": "display_data"
    },
    {
     "data": {
      "application/vnd.jupyter.widget-view+json": {
       "model_id": "36348b71ddb54b5a872b29764e34546b",
       "version_major": 2,
       "version_minor": 0
      },
      "text/plain": [
       "forward: 0it [00:00, ?it/s]"
      ]
     },
     "metadata": {},
     "output_type": "display_data"
    },
    {
     "data": {
      "application/vnd.jupyter.widget-view+json": {
       "model_id": "65db4c89437741cd9eadf2c313233886",
       "version_major": 2,
       "version_minor": 0
      },
      "text/plain": [
       "backward: 0it [00:00, ?it/s]"
      ]
     },
     "metadata": {},
     "output_type": "display_data"
    },
    {
     "name": "stdout",
     "output_type": "stream",
     "text": [
      "scene id 63\n",
      "scene name car78\n"
     ]
    },
    {
     "data": {
      "application/vnd.jupyter.widget-view+json": {
       "model_id": "feed2928b24e492eb4b65c6161b40577",
       "version_major": 2,
       "version_minor": 0
      },
      "text/plain": [
       "forward: 0it [00:00, ?it/s]"
      ]
     },
     "metadata": {},
     "output_type": "display_data"
    },
    {
     "data": {
      "application/vnd.jupyter.widget-view+json": {
       "model_id": "5830d20ede4e482eafd00540e5b56660",
       "version_major": 2,
       "version_minor": 0
      },
      "text/plain": [
       "backward: 0it [00:00, ?it/s]"
      ]
     },
     "metadata": {},
     "output_type": "display_data"
    },
    {
     "name": "stdout",
     "output_type": "stream",
     "text": [
      "scene id 64\n",
      "scene name rider11\n"
     ]
    },
    {
     "data": {
      "application/vnd.jupyter.widget-view+json": {
       "model_id": "35fa5f46bf5542c0a370336e8b7e0c77",
       "version_major": 2,
       "version_minor": 0
      },
      "text/plain": [
       "forward: 0it [00:00, ?it/s]"
      ]
     },
     "metadata": {},
     "output_type": "display_data"
    },
    {
     "data": {
      "application/vnd.jupyter.widget-view+json": {
       "model_id": "a744bd1f5e194ec494e83900b3f85705",
       "version_major": 2,
       "version_minor": 0
      },
      "text/plain": [
       "backward: 0it [00:00, ?it/s]"
      ]
     },
     "metadata": {},
     "output_type": "display_data"
    },
    {
     "name": "stdout",
     "output_type": "stream",
     "text": [
      "scene id 65\n",
      "scene name car53\n"
     ]
    },
    {
     "data": {
      "application/vnd.jupyter.widget-view+json": {
       "model_id": "f8422e701046439e9ea1cc160c0798cf",
       "version_major": 2,
       "version_minor": 0
      },
      "text/plain": [
       "forward: 0it [00:00, ?it/s]"
      ]
     },
     "metadata": {},
     "output_type": "display_data"
    },
    {
     "data": {
      "application/vnd.jupyter.widget-view+json": {
       "model_id": "26105502909443ea9fdca1ef1a57813a",
       "version_major": 2,
       "version_minor": 0
      },
      "text/plain": [
       "backward: 0it [00:00, ?it/s]"
      ]
     },
     "metadata": {},
     "output_type": "display_data"
    },
    {
     "data": {
      "application/vnd.jupyter.widget-view+json": {
       "model_id": "a3fe6eda86c04a0f9f88432fa389b4ba",
       "version_major": 2,
       "version_minor": 0
      },
      "text/plain": [
       "backward: 0it [00:00, ?it/s]"
      ]
     },
     "metadata": {},
     "output_type": "display_data"
    },
    {
     "data": {
      "application/vnd.jupyter.widget-view+json": {
       "model_id": "e337fc698c834467b0f8b64a4d8e754b",
       "version_major": 2,
       "version_minor": 0
      },
      "text/plain": [
       "forward: 0it [00:00, ?it/s]"
      ]
     },
     "metadata": {},
     "output_type": "display_data"
    },
    {
     "data": {
      "application/vnd.jupyter.widget-view+json": {
       "model_id": "572e10c448f1494bb2fc70469819ccd5",
       "version_major": 2,
       "version_minor": 0
      },
      "text/plain": [
       "backward: 0it [00:00, ?it/s]"
      ]
     },
     "metadata": {},
     "output_type": "display_data"
    },
    {
     "name": "stdout",
     "output_type": "stream",
     "text": [
      "scene id 66\n",
      "scene name car59\n"
     ]
    },
    {
     "data": {
      "application/vnd.jupyter.widget-view+json": {
       "model_id": "342fe3c34bf74f5d9c88e4a8613c356b",
       "version_major": 2,
       "version_minor": 0
      },
      "text/plain": [
       "forward: 0it [00:00, ?it/s]"
      ]
     },
     "metadata": {},
     "output_type": "display_data"
    },
    {
     "data": {
      "application/vnd.jupyter.widget-view+json": {
       "model_id": "7a16ed9490a849549b33ef9d12106d44",
       "version_major": 2,
       "version_minor": 0
      },
      "text/plain": [
       "backward: 0it [00:00, ?it/s]"
      ]
     },
     "metadata": {},
     "output_type": "display_data"
    },
    {
     "data": {
      "application/vnd.jupyter.widget-view+json": {
       "model_id": "ffd6f120527e4750afe5989307e6b38b",
       "version_major": 2,
       "version_minor": 0
      },
      "text/plain": [
       "backward: 0it [00:00, ?it/s]"
      ]
     },
     "metadata": {},
     "output_type": "display_data"
    },
    {
     "data": {
      "application/vnd.jupyter.widget-view+json": {
       "model_id": "19e3dc2733af4517bf7f9dde61dd89b0",
       "version_major": 2,
       "version_minor": 0
      },
      "text/plain": [
       "backward: 0it [00:00, ?it/s]"
      ]
     },
     "metadata": {},
     "output_type": "display_data"
    },
    {
     "data": {
      "application/vnd.jupyter.widget-view+json": {
       "model_id": "fe320f7d3f924d82bcd0dd6166ab1b28",
       "version_major": 2,
       "version_minor": 0
      },
      "text/plain": [
       "forward: 0it [00:00, ?it/s]"
      ]
     },
     "metadata": {},
     "output_type": "display_data"
    },
    {
     "data": {
      "application/vnd.jupyter.widget-view+json": {
       "model_id": "39a358ce8eef4e5e88ece0cf5f94a698",
       "version_major": 2,
       "version_minor": 0
      },
      "text/plain": [
       "backward: 0it [00:00, ?it/s]"
      ]
     },
     "metadata": {},
     "output_type": "display_data"
    },
    {
     "data": {
      "application/vnd.jupyter.widget-view+json": {
       "model_id": "acb0248325fb40f8946c1dbe6f3ba971",
       "version_major": 2,
       "version_minor": 0
      },
      "text/plain": [
       "backward: 0it [00:00, ?it/s]"
      ]
     },
     "metadata": {},
     "output_type": "display_data"
    },
    {
     "data": {
      "application/vnd.jupyter.widget-view+json": {
       "model_id": "a97b98ad8a8141efac8816080aa685c1",
       "version_major": 2,
       "version_minor": 0
      },
      "text/plain": [
       "forward: 0it [00:00, ?it/s]"
      ]
     },
     "metadata": {},
     "output_type": "display_data"
    },
    {
     "name": "stdout",
     "output_type": "stream",
     "text": [
      "scene id 67\n",
      "scene name car61\n"
     ]
    },
    {
     "data": {
      "application/vnd.jupyter.widget-view+json": {
       "model_id": "768e8d2580b74862845e4295fe75038b",
       "version_major": 2,
       "version_minor": 0
      },
      "text/plain": [
       "forward: 0it [00:00, ?it/s]"
      ]
     },
     "metadata": {},
     "output_type": "display_data"
    },
    {
     "data": {
      "application/vnd.jupyter.widget-view+json": {
       "model_id": "848c070a97994ab1a63b1602952fec65",
       "version_major": 2,
       "version_minor": 0
      },
      "text/plain": [
       "backward: 0it [00:00, ?it/s]"
      ]
     },
     "metadata": {},
     "output_type": "display_data"
    },
    {
     "data": {
      "application/vnd.jupyter.widget-view+json": {
       "model_id": "f48c1194c8f54180ad32da95ae0812cb",
       "version_major": 2,
       "version_minor": 0
      },
      "text/plain": [
       "backward: 0it [00:00, ?it/s]"
      ]
     },
     "metadata": {},
     "output_type": "display_data"
    },
    {
     "data": {
      "application/vnd.jupyter.widget-view+json": {
       "model_id": "b7433bd35c504e6b97fffccca397ca5e",
       "version_major": 2,
       "version_minor": 0
      },
      "text/plain": [
       "forward: 0it [00:00, ?it/s]"
      ]
     },
     "metadata": {},
     "output_type": "display_data"
    },
    {
     "data": {
      "application/vnd.jupyter.widget-view+json": {
       "model_id": "ada0147f618e4918b5c62886d98dd4b2",
       "version_major": 2,
       "version_minor": 0
      },
      "text/plain": [
       "backward: 0it [00:00, ?it/s]"
      ]
     },
     "metadata": {},
     "output_type": "display_data"
    },
    {
     "name": "stdout",
     "output_type": "stream",
     "text": [
      "scene id 68\n",
      "scene name car85\n"
     ]
    },
    {
     "data": {
      "application/vnd.jupyter.widget-view+json": {
       "model_id": "90e758cb60934a9a8918c57c81435817",
       "version_major": 2,
       "version_minor": 0
      },
      "text/plain": [
       "forward: 0it [00:00, ?it/s]"
      ]
     },
     "metadata": {},
     "output_type": "display_data"
    },
    {
     "data": {
      "application/vnd.jupyter.widget-view+json": {
       "model_id": "c9a9e164ff8d43969ef2cd48e7e79322",
       "version_major": 2,
       "version_minor": 0
      },
      "text/plain": [
       "backward: 0it [00:00, ?it/s]"
      ]
     },
     "metadata": {},
     "output_type": "display_data"
    },
    {
     "name": "stdout",
     "output_type": "stream",
     "text": [
      "scene id 69\n",
      "scene name car81\n"
     ]
    },
    {
     "data": {
      "application/vnd.jupyter.widget-view+json": {
       "model_id": "05f84e4fc6844ff6b2d77c8309afbbe0",
       "version_major": 2,
       "version_minor": 0
      },
      "text/plain": [
       "forward: 0it [00:00, ?it/s]"
      ]
     },
     "metadata": {},
     "output_type": "display_data"
    },
    {
     "data": {
      "application/vnd.jupyter.widget-view+json": {
       "model_id": "d8274fc79d1d49fb801fabe16bc11a21",
       "version_major": 2,
       "version_minor": 0
      },
      "text/plain": [
       "backward: 0it [00:00, ?it/s]"
      ]
     },
     "metadata": {},
     "output_type": "display_data"
    },
    {
     "data": {
      "application/vnd.jupyter.widget-view+json": {
       "model_id": "f880219b9fcd4c269699cc777eab8841",
       "version_major": 2,
       "version_minor": 0
      },
      "text/plain": [
       "backward: 0it [00:00, ?it/s]"
      ]
     },
     "metadata": {},
     "output_type": "display_data"
    },
    {
     "data": {
      "application/vnd.jupyter.widget-view+json": {
       "model_id": "70e1fe5351ba49c2b8fc34b7b014b207",
       "version_major": 2,
       "version_minor": 0
      },
      "text/plain": [
       "forward: 0it [00:00, ?it/s]"
      ]
     },
     "metadata": {},
     "output_type": "display_data"
    },
    {
     "data": {
      "application/vnd.jupyter.widget-view+json": {
       "model_id": "5b6273e299b84f4b87b8c851a37cd2d3",
       "version_major": 2,
       "version_minor": 0
      },
      "text/plain": [
       "backward: 0it [00:00, ?it/s]"
      ]
     },
     "metadata": {},
     "output_type": "display_data"
    },
    {
     "name": "stdout",
     "output_type": "stream",
     "text": [
      "scene id 70\n",
      "scene name car12\n"
     ]
    },
    {
     "data": {
      "application/vnd.jupyter.widget-view+json": {
       "model_id": "6491600eab434708a904a24198986480",
       "version_major": 2,
       "version_minor": 0
      },
      "text/plain": [
       "forward: 0it [00:00, ?it/s]"
      ]
     },
     "metadata": {},
     "output_type": "display_data"
    },
    {
     "data": {
      "application/vnd.jupyter.widget-view+json": {
       "model_id": "616ba1698c12431284738d3b47ed8508",
       "version_major": 2,
       "version_minor": 0
      },
      "text/plain": [
       "backward: 0it [00:00, ?it/s]"
      ]
     },
     "metadata": {},
     "output_type": "display_data"
    },
    {
     "data": {
      "application/vnd.jupyter.widget-view+json": {
       "model_id": "37482c58b66c40bb8a896f64f7724146",
       "version_major": 2,
       "version_minor": 0
      },
      "text/plain": [
       "backward: 0it [00:00, ?it/s]"
      ]
     },
     "metadata": {},
     "output_type": "display_data"
    },
    {
     "data": {
      "application/vnd.jupyter.widget-view+json": {
       "model_id": "d9103b4da849458f8a0b79c45fdedb59",
       "version_major": 2,
       "version_minor": 0
      },
      "text/plain": [
       "forward: 0it [00:00, ?it/s]"
      ]
     },
     "metadata": {},
     "output_type": "display_data"
    },
    {
     "data": {
      "application/vnd.jupyter.widget-view+json": {
       "model_id": "054ee5fb1d3e48b5a93d4d0495060cdf",
       "version_major": 2,
       "version_minor": 0
      },
      "text/plain": [
       "backward: 0it [00:00, ?it/s]"
      ]
     },
     "metadata": {},
     "output_type": "display_data"
    },
    {
     "name": "stdout",
     "output_type": "stream",
     "text": [
      "scene id 71\n",
      "scene name car76\n"
     ]
    },
    {
     "data": {
      "application/vnd.jupyter.widget-view+json": {
       "model_id": "4952b860a42146bea0a3b9346e2fa365",
       "version_major": 2,
       "version_minor": 0
      },
      "text/plain": [
       "forward: 0it [00:00, ?it/s]"
      ]
     },
     "metadata": {},
     "output_type": "display_data"
    },
    {
     "data": {
      "application/vnd.jupyter.widget-view+json": {
       "model_id": "ac98844063784fb282ac95fafaab2571",
       "version_major": 2,
       "version_minor": 0
      },
      "text/plain": [
       "backward: 0it [00:00, ?it/s]"
      ]
     },
     "metadata": {},
     "output_type": "display_data"
    },
    {
     "name": "stdout",
     "output_type": "stream",
     "text": [
      "scene id 72\n",
      "scene name car49\n"
     ]
    },
    {
     "data": {
      "application/vnd.jupyter.widget-view+json": {
       "model_id": "ba20edddf781469aa6a8006e88b1f5f8",
       "version_major": 2,
       "version_minor": 0
      },
      "text/plain": [
       "forward: 0it [00:00, ?it/s]"
      ]
     },
     "metadata": {},
     "output_type": "display_data"
    },
    {
     "data": {
      "application/vnd.jupyter.widget-view+json": {
       "model_id": "0da0f07bd6ae4c98ae71f6f692306502",
       "version_major": 2,
       "version_minor": 0
      },
      "text/plain": [
       "backward: 0it [00:00, ?it/s]"
      ]
     },
     "metadata": {},
     "output_type": "display_data"
    },
    {
     "data": {
      "application/vnd.jupyter.widget-view+json": {
       "model_id": "933c4cc62e5d44f2b92ea80d503d79e0",
       "version_major": 2,
       "version_minor": 0
      },
      "text/plain": [
       "backward: 0it [00:00, ?it/s]"
      ]
     },
     "metadata": {},
     "output_type": "display_data"
    },
    {
     "data": {
      "application/vnd.jupyter.widget-view+json": {
       "model_id": "1f1a441168914b68b63684517bb673f5",
       "version_major": 2,
       "version_minor": 0
      },
      "text/plain": [
       "forward: 0it [00:00, ?it/s]"
      ]
     },
     "metadata": {},
     "output_type": "display_data"
    },
    {
     "data": {
      "application/vnd.jupyter.widget-view+json": {
       "model_id": "279a8f0f99344708ae9b8dcf91b14b57",
       "version_major": 2,
       "version_minor": 0
      },
      "text/plain": [
       "backward: 0it [00:00, ?it/s]"
      ]
     },
     "metadata": {},
     "output_type": "display_data"
    },
    {
     "name": "stdout",
     "output_type": "stream",
     "text": [
      "scene id 73\n",
      "scene name car50\n"
     ]
    },
    {
     "data": {
      "application/vnd.jupyter.widget-view+json": {
       "model_id": "74ca2e724bf3454c9e3663a6bc067516",
       "version_major": 2,
       "version_minor": 0
      },
      "text/plain": [
       "forward: 0it [00:00, ?it/s]"
      ]
     },
     "metadata": {},
     "output_type": "display_data"
    },
    {
     "data": {
      "application/vnd.jupyter.widget-view+json": {
       "model_id": "d5926d2681444e4aa535e7b3a3ce2128",
       "version_major": 2,
       "version_minor": 0
      },
      "text/plain": [
       "backward: 0it [00:00, ?it/s]"
      ]
     },
     "metadata": {},
     "output_type": "display_data"
    },
    {
     "data": {
      "application/vnd.jupyter.widget-view+json": {
       "model_id": "bd31df9edac445c8b6f740f8f1476dc4",
       "version_major": 2,
       "version_minor": 0
      },
      "text/plain": [
       "backward: 0it [00:00, ?it/s]"
      ]
     },
     "metadata": {},
     "output_type": "display_data"
    },
    {
     "data": {
      "application/vnd.jupyter.widget-view+json": {
       "model_id": "14c147a1fcec498eacf6906c78c28870",
       "version_major": 2,
       "version_minor": 0
      },
      "text/plain": [
       "backward: 0it [00:00, ?it/s]"
      ]
     },
     "metadata": {},
     "output_type": "display_data"
    },
    {
     "data": {
      "application/vnd.jupyter.widget-view+json": {
       "model_id": "d857a99ddf1e4144821de718fe3e1ad0",
       "version_major": 2,
       "version_minor": 0
      },
      "text/plain": [
       "forward: 0it [00:00, ?it/s]"
      ]
     },
     "metadata": {},
     "output_type": "display_data"
    },
    {
     "data": {
      "application/vnd.jupyter.widget-view+json": {
       "model_id": "d5ec6b6993514eae9a9ea600abd4d859",
       "version_major": 2,
       "version_minor": 0
      },
      "text/plain": [
       "backward: 0it [00:00, ?it/s]"
      ]
     },
     "metadata": {},
     "output_type": "display_data"
    },
    {
     "data": {
      "application/vnd.jupyter.widget-view+json": {
       "model_id": "d55ee08956254ff5b6980060c67b685b",
       "version_major": 2,
       "version_minor": 0
      },
      "text/plain": [
       "backward: 0it [00:00, ?it/s]"
      ]
     },
     "metadata": {},
     "output_type": "display_data"
    },
    {
     "data": {
      "application/vnd.jupyter.widget-view+json": {
       "model_id": "a0647edce2724cc397da640211b1a874",
       "version_major": 2,
       "version_minor": 0
      },
      "text/plain": [
       "forward: 0it [00:00, ?it/s]"
      ]
     },
     "metadata": {},
     "output_type": "display_data"
    },
    {
     "name": "stdout",
     "output_type": "stream",
     "text": [
      "scene id 74\n",
      "scene name rider18\n"
     ]
    },
    {
     "data": {
      "application/vnd.jupyter.widget-view+json": {
       "model_id": "a65ff10b58704b8085b4937cb0137b1f",
       "version_major": 2,
       "version_minor": 0
      },
      "text/plain": [
       "forward: 0it [00:00, ?it/s]"
      ]
     },
     "metadata": {},
     "output_type": "display_data"
    },
    {
     "data": {
      "application/vnd.jupyter.widget-view+json": {
       "model_id": "3159093a99244a6c8a8d15873c92fc9b",
       "version_major": 2,
       "version_minor": 0
      },
      "text/plain": [
       "backward: 0it [00:00, ?it/s]"
      ]
     },
     "metadata": {},
     "output_type": "display_data"
    },
    {
     "data": {
      "application/vnd.jupyter.widget-view+json": {
       "model_id": "46d88b01fb80465da7202554ec5a5db2",
       "version_major": 2,
       "version_minor": 0
      },
      "text/plain": [
       "backward: 0it [00:00, ?it/s]"
      ]
     },
     "metadata": {},
     "output_type": "display_data"
    },
    {
     "data": {
      "application/vnd.jupyter.widget-view+json": {
       "model_id": "e2b5600f561c4209a17b8103b64ea773",
       "version_major": 2,
       "version_minor": 0
      },
      "text/plain": [
       "forward: 0it [00:00, ?it/s]"
      ]
     },
     "metadata": {},
     "output_type": "display_data"
    },
    {
     "data": {
      "application/vnd.jupyter.widget-view+json": {
       "model_id": "ef523ed1eaf2463b9d74b24d2c4a072d",
       "version_major": 2,
       "version_minor": 0
      },
      "text/plain": [
       "backward: 0it [00:00, ?it/s]"
      ]
     },
     "metadata": {},
     "output_type": "display_data"
    },
    {
     "name": "stdout",
     "output_type": "stream",
     "text": [
      "scene id 75\n",
      "scene name car62\n"
     ]
    },
    {
     "data": {
      "application/vnd.jupyter.widget-view+json": {
       "model_id": "1dd1bb03fd39479681d515ae8bef21ea",
       "version_major": 2,
       "version_minor": 0
      },
      "text/plain": [
       "forward: 0it [00:00, ?it/s]"
      ]
     },
     "metadata": {},
     "output_type": "display_data"
    },
    {
     "data": {
      "application/vnd.jupyter.widget-view+json": {
       "model_id": "7619067889484efdab4fa4dd34bc5542",
       "version_major": 2,
       "version_minor": 0
      },
      "text/plain": [
       "backward: 0it [00:00, ?it/s]"
      ]
     },
     "metadata": {},
     "output_type": "display_data"
    },
    {
     "data": {
      "application/vnd.jupyter.widget-view+json": {
       "model_id": "b1ce9b81453c4cc7bac3a113e049e577",
       "version_major": 2,
       "version_minor": 0
      },
      "text/plain": [
       "backward: 0it [00:00, ?it/s]"
      ]
     },
     "metadata": {},
     "output_type": "display_data"
    },
    {
     "data": {
      "application/vnd.jupyter.widget-view+json": {
       "model_id": "9634e355e0084a05809d8aff2a777cd1",
       "version_major": 2,
       "version_minor": 0
      },
      "text/plain": [
       "backward: 0it [00:00, ?it/s]"
      ]
     },
     "metadata": {},
     "output_type": "display_data"
    },
    {
     "data": {
      "application/vnd.jupyter.widget-view+json": {
       "model_id": "63775ffaffc14cecb21106ce8668608b",
       "version_major": 2,
       "version_minor": 0
      },
      "text/plain": [
       "forward: 0it [00:00, ?it/s]"
      ]
     },
     "metadata": {},
     "output_type": "display_data"
    },
    {
     "data": {
      "application/vnd.jupyter.widget-view+json": {
       "model_id": "d7b84ac7926143fabc31bdf1c0101462",
       "version_major": 2,
       "version_minor": 0
      },
      "text/plain": [
       "backward: 0it [00:00, ?it/s]"
      ]
     },
     "metadata": {},
     "output_type": "display_data"
    },
    {
     "data": {
      "application/vnd.jupyter.widget-view+json": {
       "model_id": "b1d4b52db904427987e978de49669c6a",
       "version_major": 2,
       "version_minor": 0
      },
      "text/plain": [
       "backward: 0it [00:00, ?it/s]"
      ]
     },
     "metadata": {},
     "output_type": "display_data"
    },
    {
     "data": {
      "application/vnd.jupyter.widget-view+json": {
       "model_id": "62ce3d9aa7a74bbaba8589907a308c34",
       "version_major": 2,
       "version_minor": 0
      },
      "text/plain": [
       "backward: 0it [00:00, ?it/s]"
      ]
     },
     "metadata": {},
     "output_type": "display_data"
    },
    {
     "data": {
      "application/vnd.jupyter.widget-view+json": {
       "model_id": "407ecb0686bc408d92f83fcc12819996",
       "version_major": 2,
       "version_minor": 0
      },
      "text/plain": [
       "forward: 0it [00:00, ?it/s]"
      ]
     },
     "metadata": {},
     "output_type": "display_data"
    },
    {
     "name": "stdout",
     "output_type": "stream",
     "text": [
      "scene id 76\n",
      "scene name pool11\n"
     ]
    },
    {
     "data": {
      "application/vnd.jupyter.widget-view+json": {
       "model_id": "d4c326b649064856bef67b914c84ab1f",
       "version_major": 2,
       "version_minor": 0
      },
      "text/plain": [
       "forward: 0it [00:00, ?it/s]"
      ]
     },
     "metadata": {},
     "output_type": "display_data"
    },
    {
     "data": {
      "application/vnd.jupyter.widget-view+json": {
       "model_id": "3ed7b190bbcf4b76bd09218aaf44efd3",
       "version_major": 2,
       "version_minor": 0
      },
      "text/plain": [
       "backward: 0it [00:00, ?it/s]"
      ]
     },
     "metadata": {},
     "output_type": "display_data"
    },
    {
     "data": {
      "application/vnd.jupyter.widget-view+json": {
       "model_id": "4aea9aa353864aa8b8846a597629a2fd",
       "version_major": 2,
       "version_minor": 0
      },
      "text/plain": [
       "backward: 0it [00:00, ?it/s]"
      ]
     },
     "metadata": {},
     "output_type": "display_data"
    },
    {
     "data": {
      "application/vnd.jupyter.widget-view+json": {
       "model_id": "690947abad38434884a9f7e65a21c09e",
       "version_major": 2,
       "version_minor": 0
      },
      "text/plain": [
       "backward: 0it [00:00, ?it/s]"
      ]
     },
     "metadata": {},
     "output_type": "display_data"
    },
    {
     "data": {
      "application/vnd.jupyter.widget-view+json": {
       "model_id": "a30d211d3ec144b48a4b9138fbeb092f",
       "version_major": 2,
       "version_minor": 0
      },
      "text/plain": [
       "forward: 0it [00:00, ?it/s]"
      ]
     },
     "metadata": {},
     "output_type": "display_data"
    },
    {
     "data": {
      "application/vnd.jupyter.widget-view+json": {
       "model_id": "6aadb7fef8f14751879683cb1113c21e",
       "version_major": 2,
       "version_minor": 0
      },
      "text/plain": [
       "backward: 0it [00:00, ?it/s]"
      ]
     },
     "metadata": {},
     "output_type": "display_data"
    },
    {
     "data": {
      "application/vnd.jupyter.widget-view+json": {
       "model_id": "218c99e23326410c82b34378d5dfc353",
       "version_major": 2,
       "version_minor": 0
      },
      "text/plain": [
       "backward: 0it [00:00, ?it/s]"
      ]
     },
     "metadata": {},
     "output_type": "display_data"
    },
    {
     "data": {
      "application/vnd.jupyter.widget-view+json": {
       "model_id": "fa3c8731e24c4f83a7a80f1bc7f36bf9",
       "version_major": 2,
       "version_minor": 0
      },
      "text/plain": [
       "forward: 0it [00:00, ?it/s]"
      ]
     },
     "metadata": {},
     "output_type": "display_data"
    },
    {
     "name": "stdout",
     "output_type": "stream",
     "text": [
      "scene id 77\n",
      "scene name ball&mirror9\n"
     ]
    },
    {
     "data": {
      "application/vnd.jupyter.widget-view+json": {
       "model_id": "c1af6cddab4948feb71fd17d015fce78",
       "version_major": 2,
       "version_minor": 0
      },
      "text/plain": [
       "forward: 0it [00:00, ?it/s]"
      ]
     },
     "metadata": {},
     "output_type": "display_data"
    },
    {
     "data": {
      "application/vnd.jupyter.widget-view+json": {
       "model_id": "eb91a5cfff40448fa76bcd9bca3ca390",
       "version_major": 2,
       "version_minor": 0
      },
      "text/plain": [
       "backward: 0it [00:00, ?it/s]"
      ]
     },
     "metadata": {},
     "output_type": "display_data"
    },
    {
     "data": {
      "application/vnd.jupyter.widget-view+json": {
       "model_id": "dad99f488085424f8657ad9e9a84dcde",
       "version_major": 2,
       "version_minor": 0
      },
      "text/plain": [
       "backward: 0it [00:00, ?it/s]"
      ]
     },
     "metadata": {},
     "output_type": "display_data"
    },
    {
     "data": {
      "application/vnd.jupyter.widget-view+json": {
       "model_id": "cc7ccbe0865b490698d55e1443131729",
       "version_major": 2,
       "version_minor": 0
      },
      "text/plain": [
       "forward: 0it [00:00, ?it/s]"
      ]
     },
     "metadata": {},
     "output_type": "display_data"
    },
    {
     "data": {
      "application/vnd.jupyter.widget-view+json": {
       "model_id": "a4f65f6b3bef439181fc48c489a12d70",
       "version_major": 2,
       "version_minor": 0
      },
      "text/plain": [
       "backward: 0it [00:00, ?it/s]"
      ]
     },
     "metadata": {},
     "output_type": "display_data"
    },
    {
     "name": "stdout",
     "output_type": "stream",
     "text": [
      "scene id 78\n",
      "scene name cards19\n"
     ]
    },
    {
     "data": {
      "application/vnd.jupyter.widget-view+json": {
       "model_id": "1ed6e604fb844e51a088f8fae5eb3033",
       "version_major": 2,
       "version_minor": 0
      },
      "text/plain": [
       "forward: 0it [00:00, ?it/s]"
      ]
     },
     "metadata": {},
     "output_type": "display_data"
    },
    {
     "data": {
      "application/vnd.jupyter.widget-view+json": {
       "model_id": "65cfd192e94b408c89afccfeba4d8123",
       "version_major": 2,
       "version_minor": 0
      },
      "text/plain": [
       "backward: 0it [00:00, ?it/s]"
      ]
     },
     "metadata": {},
     "output_type": "display_data"
    },
    {
     "data": {
      "application/vnd.jupyter.widget-view+json": {
       "model_id": "a3f1db0e938642bab5f200ae573610d4",
       "version_major": 2,
       "version_minor": 0
      },
      "text/plain": [
       "backward: 0it [00:00, ?it/s]"
      ]
     },
     "metadata": {},
     "output_type": "display_data"
    },
    {
     "data": {
      "application/vnd.jupyter.widget-view+json": {
       "model_id": "9257737d08b847b48123450c7b046f2e",
       "version_major": 2,
       "version_minor": 0
      },
      "text/plain": [
       "backward: 0it [00:00, ?it/s]"
      ]
     },
     "metadata": {},
     "output_type": "display_data"
    },
    {
     "data": {
      "application/vnd.jupyter.widget-view+json": {
       "model_id": "e4170d4fd28648d380435b450d3402ee",
       "version_major": 2,
       "version_minor": 0
      },
      "text/plain": [
       "backward: 0it [00:00, ?it/s]"
      ]
     },
     "metadata": {},
     "output_type": "display_data"
    },
    {
     "data": {
      "application/vnd.jupyter.widget-view+json": {
       "model_id": "c252e190a432461a90968b5f76d9f0fe",
       "version_major": 2,
       "version_minor": 0
      },
      "text/plain": [
       "forward: 0it [00:00, ?it/s]"
      ]
     },
     "metadata": {},
     "output_type": "display_data"
    },
    {
     "data": {
      "application/vnd.jupyter.widget-view+json": {
       "model_id": "321bcf66a2cb40d1a3a0ca7833b538c6",
       "version_major": 2,
       "version_minor": 0
      },
      "text/plain": [
       "backward: 0it [00:00, ?it/s]"
      ]
     },
     "metadata": {},
     "output_type": "display_data"
    },
    {
     "data": {
      "application/vnd.jupyter.widget-view+json": {
       "model_id": "d0c36382186f4d76b4677240e798830a",
       "version_major": 2,
       "version_minor": 0
      },
      "text/plain": [
       "backward: 0it [00:00, ?it/s]"
      ]
     },
     "metadata": {},
     "output_type": "display_data"
    },
    {
     "data": {
      "application/vnd.jupyter.widget-view+json": {
       "model_id": "9146f76bf5ee4414a9f43296b21f1a95",
       "version_major": 2,
       "version_minor": 0
      },
      "text/plain": [
       "backward: 0it [00:00, ?it/s]"
      ]
     },
     "metadata": {},
     "output_type": "display_data"
    },
    {
     "data": {
      "application/vnd.jupyter.widget-view+json": {
       "model_id": "a8d58add0a6e43c48874692d588109b8",
       "version_major": 2,
       "version_minor": 0
      },
      "text/plain": [
       "forward: 0it [00:00, ?it/s]"
      ]
     },
     "metadata": {},
     "output_type": "display_data"
    },
    {
     "name": "stdout",
     "output_type": "stream",
     "text": [
      "scene id 79\n",
      "scene name whitecup1\n"
     ]
    },
    {
     "data": {
      "application/vnd.jupyter.widget-view+json": {
       "model_id": "2aa2207802664354904776cbe4457bfd",
       "version_major": 2,
       "version_minor": 0
      },
      "text/plain": [
       "forward: 0it [00:00, ?it/s]"
      ]
     },
     "metadata": {},
     "output_type": "display_data"
    },
    {
     "data": {
      "application/vnd.jupyter.widget-view+json": {
       "model_id": "bd87fc128fd246cca452ea2129967911",
       "version_major": 2,
       "version_minor": 0
      },
      "text/plain": [
       "backward: 0it [00:00, ?it/s]"
      ]
     },
     "metadata": {},
     "output_type": "display_data"
    },
    {
     "name": "stdout",
     "output_type": "stream",
     "text": [
      "scene id 80\n",
      "scene name dice2\n"
     ]
    },
    {
     "data": {
      "application/vnd.jupyter.widget-view+json": {
       "model_id": "345f808a4e3443c5afd20b5343983bc7",
       "version_major": 2,
       "version_minor": 0
      },
      "text/plain": [
       "forward: 0it [00:00, ?it/s]"
      ]
     },
     "metadata": {},
     "output_type": "display_data"
    },
    {
     "data": {
      "application/vnd.jupyter.widget-view+json": {
       "model_id": "3cc1c1cf88e24a538dbd2519f66144dd",
       "version_major": 2,
       "version_minor": 0
      },
      "text/plain": [
       "backward: 0it [00:00, ?it/s]"
      ]
     },
     "metadata": {},
     "output_type": "display_data"
    },
    {
     "data": {
      "application/vnd.jupyter.widget-view+json": {
       "model_id": "684dc62e61e94a238ea2718f65072267",
       "version_major": 2,
       "version_minor": 0
      },
      "text/plain": [
       "backward: 0it [00:00, ?it/s]"
      ]
     },
     "metadata": {},
     "output_type": "display_data"
    },
    {
     "data": {
      "application/vnd.jupyter.widget-view+json": {
       "model_id": "8a360d8d798e45c592bf01c75e58a855",
       "version_major": 2,
       "version_minor": 0
      },
      "text/plain": [
       "backward: 0it [00:00, ?it/s]"
      ]
     },
     "metadata": {},
     "output_type": "display_data"
    },
    {
     "data": {
      "application/vnd.jupyter.widget-view+json": {
       "model_id": "ce26465b788e47fb8c1f9df32b3b565f",
       "version_major": 2,
       "version_minor": 0
      },
      "text/plain": [
       "forward: 0it [00:00, ?it/s]"
      ]
     },
     "metadata": {},
     "output_type": "display_data"
    },
    {
     "data": {
      "application/vnd.jupyter.widget-view+json": {
       "model_id": "fcc0c686927a44e182f8407ae3ab4ed8",
       "version_major": 2,
       "version_minor": 0
      },
      "text/plain": [
       "backward: 0it [00:00, ?it/s]"
      ]
     },
     "metadata": {},
     "output_type": "display_data"
    },
    {
     "data": {
      "application/vnd.jupyter.widget-view+json": {
       "model_id": "545212c8264644a8a72b8b2b01d27867",
       "version_major": 2,
       "version_minor": 0
      },
      "text/plain": [
       "backward: 0it [00:00, ?it/s]"
      ]
     },
     "metadata": {},
     "output_type": "display_data"
    },
    {
     "name": "stdout",
     "output_type": "stream",
     "text": [
      "scene id 81\n",
      "scene name rainystreet16\n"
     ]
    },
    {
     "data": {
      "application/vnd.jupyter.widget-view+json": {
       "model_id": "d5fc0989bc82453b9732a7f786798129",
       "version_major": 2,
       "version_minor": 0
      },
      "text/plain": [
       "forward: 0it [00:00, ?it/s]"
      ]
     },
     "metadata": {},
     "output_type": "display_data"
    },
    {
     "data": {
      "application/vnd.jupyter.widget-view+json": {
       "model_id": "afcf7da082404f0eb5b4cd2b0966b27e",
       "version_major": 2,
       "version_minor": 0
      },
      "text/plain": [
       "backward: 0it [00:00, ?it/s]"
      ]
     },
     "metadata": {},
     "output_type": "display_data"
    },
    {
     "data": {
      "application/vnd.jupyter.widget-view+json": {
       "model_id": "cdba0b079c5a4219a52f3187cd851d25",
       "version_major": 2,
       "version_minor": 0
      },
      "text/plain": [
       "backward: 0it [00:00, ?it/s]"
      ]
     },
     "metadata": {},
     "output_type": "display_data"
    },
    {
     "data": {
      "application/vnd.jupyter.widget-view+json": {
       "model_id": "506fc46f74e645bf9a8e0e62a6af7ce2",
       "version_major": 2,
       "version_minor": 0
      },
      "text/plain": [
       "backward: 0it [00:00, ?it/s]"
      ]
     },
     "metadata": {},
     "output_type": "display_data"
    },
    {
     "data": {
      "application/vnd.jupyter.widget-view+json": {
       "model_id": "7ca13f74ed4f411e8e0005d12ca86997",
       "version_major": 2,
       "version_minor": 0
      },
      "text/plain": [
       "forward: 0it [00:00, ?it/s]"
      ]
     },
     "metadata": {},
     "output_type": "display_data"
    },
    {
     "data": {
      "application/vnd.jupyter.widget-view+json": {
       "model_id": "93f06dfef4064075ab553cbd420ea5be",
       "version_major": 2,
       "version_minor": 0
      },
      "text/plain": [
       "backward: 0it [00:00, ?it/s]"
      ]
     },
     "metadata": {},
     "output_type": "display_data"
    },
    {
     "data": {
      "application/vnd.jupyter.widget-view+json": {
       "model_id": "4e45327dd4f54fdbb68c939454d09878",
       "version_major": 2,
       "version_minor": 0
      },
      "text/plain": [
       "backward: 0it [00:00, ?it/s]"
      ]
     },
     "metadata": {},
     "output_type": "display_data"
    },
    {
     "data": {
      "application/vnd.jupyter.widget-view+json": {
       "model_id": "5e03f1144b6b4d17a1c9f01879efb5a0",
       "version_major": 2,
       "version_minor": 0
      },
      "text/plain": [
       "forward: 0it [00:00, ?it/s]"
      ]
     },
     "metadata": {},
     "output_type": "display_data"
    },
    {
     "name": "stdout",
     "output_type": "stream",
     "text": [
      "scene id 82\n",
      "scene name pool10\n"
     ]
    },
    {
     "data": {
      "application/vnd.jupyter.widget-view+json": {
       "model_id": "82eeb0ee861c42bcbefa8d2e5c05aebe",
       "version_major": 2,
       "version_minor": 0
      },
      "text/plain": [
       "forward: 0it [00:00, ?it/s]"
      ]
     },
     "metadata": {},
     "output_type": "display_data"
    },
    {
     "data": {
      "application/vnd.jupyter.widget-view+json": {
       "model_id": "8c4e3b92e2a34deca38a6ebd088b946f",
       "version_major": 2,
       "version_minor": 0
      },
      "text/plain": [
       "backward: 0it [00:00, ?it/s]"
      ]
     },
     "metadata": {},
     "output_type": "display_data"
    },
    {
     "data": {
      "application/vnd.jupyter.widget-view+json": {
       "model_id": "62ab8b91def8456e9d113599ecd8cc8a",
       "version_major": 2,
       "version_minor": 0
      },
      "text/plain": [
       "backward: 0it [00:00, ?it/s]"
      ]
     },
     "metadata": {},
     "output_type": "display_data"
    },
    {
     "data": {
      "application/vnd.jupyter.widget-view+json": {
       "model_id": "e64638103f55427185dbfbbd3b2ea551",
       "version_major": 2,
       "version_minor": 0
      },
      "text/plain": [
       "backward: 0it [00:00, ?it/s]"
      ]
     },
     "metadata": {},
     "output_type": "display_data"
    },
    {
     "data": {
      "application/vnd.jupyter.widget-view+json": {
       "model_id": "c93ec32281cb461bb7607faf3b540b39",
       "version_major": 2,
       "version_minor": 0
      },
      "text/plain": [
       "forward: 0it [00:00, ?it/s]"
      ]
     },
     "metadata": {},
     "output_type": "display_data"
    },
    {
     "data": {
      "application/vnd.jupyter.widget-view+json": {
       "model_id": "d26ccb5e8b3747209b6f9efcfaef7557",
       "version_major": 2,
       "version_minor": 0
      },
      "text/plain": [
       "backward: 0it [00:00, ?it/s]"
      ]
     },
     "metadata": {},
     "output_type": "display_data"
    },
    {
     "data": {
      "application/vnd.jupyter.widget-view+json": {
       "model_id": "e7db84b6502840b1bafa643dbb0ce0d2",
       "version_major": 2,
       "version_minor": 0
      },
      "text/plain": [
       "backward: 0it [00:00, ?it/s]"
      ]
     },
     "metadata": {},
     "output_type": "display_data"
    },
    {
     "data": {
      "application/vnd.jupyter.widget-view+json": {
       "model_id": "8e3a82f3890947e9bb113a4628836510",
       "version_major": 2,
       "version_minor": 0
      },
      "text/plain": [
       "forward: 0it [00:00, ?it/s]"
      ]
     },
     "metadata": {},
     "output_type": "display_data"
    },
    {
     "name": "stdout",
     "output_type": "stream",
     "text": [
      "scene id 83\n",
      "scene name partylights6\n"
     ]
    },
    {
     "data": {
      "application/vnd.jupyter.widget-view+json": {
       "model_id": "a19854ee1fd147df8148f16b7cc0f950",
       "version_major": 2,
       "version_minor": 0
      },
      "text/plain": [
       "forward: 0it [00:00, ?it/s]"
      ]
     },
     "metadata": {},
     "output_type": "display_data"
    },
    {
     "data": {
      "application/vnd.jupyter.widget-view+json": {
       "model_id": "cb29891c2e114ddba173e6d0c739049e",
       "version_major": 2,
       "version_minor": 0
      },
      "text/plain": [
       "backward: 0it [00:00, ?it/s]"
      ]
     },
     "metadata": {},
     "output_type": "display_data"
    },
    {
     "data": {
      "application/vnd.jupyter.widget-view+json": {
       "model_id": "62454277886f44c09ce77132d56e1350",
       "version_major": 2,
       "version_minor": 0
      },
      "text/plain": [
       "backward: 0it [00:00, ?it/s]"
      ]
     },
     "metadata": {},
     "output_type": "display_data"
    },
    {
     "data": {
      "application/vnd.jupyter.widget-view+json": {
       "model_id": "cb5f83e8889d444eb68d0778b3ae614e",
       "version_major": 2,
       "version_minor": 0
      },
      "text/plain": [
       "backward: 0it [00:00, ?it/s]"
      ]
     },
     "metadata": {},
     "output_type": "display_data"
    },
    {
     "data": {
      "application/vnd.jupyter.widget-view+json": {
       "model_id": "b4f9766ff5794f7e8bf15d13ee507cf5",
       "version_major": 2,
       "version_minor": 0
      },
      "text/plain": [
       "backward: 0it [00:00, ?it/s]"
      ]
     },
     "metadata": {},
     "output_type": "display_data"
    },
    {
     "data": {
      "application/vnd.jupyter.widget-view+json": {
       "model_id": "baad346aa04147e4b453c8100299fe58",
       "version_major": 2,
       "version_minor": 0
      },
      "text/plain": [
       "backward: 0it [00:00, ?it/s]"
      ]
     },
     "metadata": {},
     "output_type": "display_data"
    },
    {
     "data": {
      "application/vnd.jupyter.widget-view+json": {
       "model_id": "86060c8d9f774eeb8ee6da0fe9461df1",
       "version_major": 2,
       "version_minor": 0
      },
      "text/plain": [
       "backward: 0it [00:00, ?it/s]"
      ]
     },
     "metadata": {},
     "output_type": "display_data"
    },
    {
     "data": {
      "application/vnd.jupyter.widget-view+json": {
       "model_id": "72e5cdc354e54078a2bc7c02e8b62726",
       "version_major": 2,
       "version_minor": 0
      },
      "text/plain": [
       "forward: 0it [00:00, ?it/s]"
      ]
     },
     "metadata": {},
     "output_type": "display_data"
    },
    {
     "data": {
      "application/vnd.jupyter.widget-view+json": {
       "model_id": "f46cec92698944fc94a346ca48450b14",
       "version_major": 2,
       "version_minor": 0
      },
      "text/plain": [
       "backward: 0it [00:00, ?it/s]"
      ]
     },
     "metadata": {},
     "output_type": "display_data"
    },
    {
     "data": {
      "application/vnd.jupyter.widget-view+json": {
       "model_id": "881b02158b2d42b5ac704867bad26ca2",
       "version_major": 2,
       "version_minor": 0
      },
      "text/plain": [
       "backward: 0it [00:00, ?it/s]"
      ]
     },
     "metadata": {},
     "output_type": "display_data"
    },
    {
     "data": {
      "application/vnd.jupyter.widget-view+json": {
       "model_id": "e772e51793d5487c8f1e2405aed61940",
       "version_major": 2,
       "version_minor": 0
      },
      "text/plain": [
       "backward: 0it [00:00, ?it/s]"
      ]
     },
     "metadata": {},
     "output_type": "display_data"
    },
    {
     "data": {
      "application/vnd.jupyter.widget-view+json": {
       "model_id": "bd2b46db033e48b483e3c9259fa377c2",
       "version_major": 2,
       "version_minor": 0
      },
      "text/plain": [
       "backward: 0it [00:00, ?it/s]"
      ]
     },
     "metadata": {},
     "output_type": "display_data"
    },
    {
     "data": {
      "application/vnd.jupyter.widget-view+json": {
       "model_id": "4f895fb4356e4628ac38e0b6eaadd800",
       "version_major": 2,
       "version_minor": 0
      },
      "text/plain": [
       "backward: 0it [00:00, ?it/s]"
      ]
     },
     "metadata": {},
     "output_type": "display_data"
    },
    {
     "data": {
      "application/vnd.jupyter.widget-view+json": {
       "model_id": "abba0014e9e548efa6369e84c2a49674",
       "version_major": 2,
       "version_minor": 0
      },
      "text/plain": [
       "forward: 0it [00:00, ?it/s]"
      ]
     },
     "metadata": {},
     "output_type": "display_data"
    },
    {
     "name": "stdout",
     "output_type": "stream",
     "text": [
      "scene id 84\n",
      "scene name duck5\n"
     ]
    },
    {
     "data": {
      "application/vnd.jupyter.widget-view+json": {
       "model_id": "e76189e5ccb344e2bccd57bd41dad59f",
       "version_major": 2,
       "version_minor": 0
      },
      "text/plain": [
       "forward: 0it [00:00, ?it/s]"
      ]
     },
     "metadata": {},
     "output_type": "display_data"
    },
    {
     "data": {
      "application/vnd.jupyter.widget-view+json": {
       "model_id": "f962e7c985ee40cfac35bada12688d5b",
       "version_major": 2,
       "version_minor": 0
      },
      "text/plain": [
       "backward: 0it [00:00, ?it/s]"
      ]
     },
     "metadata": {},
     "output_type": "display_data"
    },
    {
     "data": {
      "application/vnd.jupyter.widget-view+json": {
       "model_id": "89263aae3d53488a96a05fe4ca5ffe23",
       "version_major": 2,
       "version_minor": 0
      },
      "text/plain": [
       "backward: 0it [00:00, ?it/s]"
      ]
     },
     "metadata": {},
     "output_type": "display_data"
    },
    {
     "data": {
      "application/vnd.jupyter.widget-view+json": {
       "model_id": "88d37f18d8924446bbc76b3ddfb0ffa2",
       "version_major": 2,
       "version_minor": 0
      },
      "text/plain": [
       "backward: 0it [00:00, ?it/s]"
      ]
     },
     "metadata": {},
     "output_type": "display_data"
    },
    {
     "data": {
      "application/vnd.jupyter.widget-view+json": {
       "model_id": "036e81b83efc43e4a3b6e5a2485d2786",
       "version_major": 2,
       "version_minor": 0
      },
      "text/plain": [
       "forward: 0it [00:00, ?it/s]"
      ]
     },
     "metadata": {},
     "output_type": "display_data"
    },
    {
     "data": {
      "application/vnd.jupyter.widget-view+json": {
       "model_id": "de6ae883744b4add84718dc9a4e32608",
       "version_major": 2,
       "version_minor": 0
      },
      "text/plain": [
       "backward: 0it [00:00, ?it/s]"
      ]
     },
     "metadata": {},
     "output_type": "display_data"
    },
    {
     "data": {
      "application/vnd.jupyter.widget-view+json": {
       "model_id": "2fee432fb72b430983b79599b66e5ccc",
       "version_major": 2,
       "version_minor": 0
      },
      "text/plain": [
       "backward: 0it [00:00, ?it/s]"
      ]
     },
     "metadata": {},
     "output_type": "display_data"
    },
    {
     "data": {
      "application/vnd.jupyter.widget-view+json": {
       "model_id": "57cc576b07d34b7488580c0902a53115",
       "version_major": 2,
       "version_minor": 0
      },
      "text/plain": [
       "forward: 0it [00:00, ?it/s]"
      ]
     },
     "metadata": {},
     "output_type": "display_data"
    },
    {
     "name": "stdout",
     "output_type": "stream",
     "text": [
      "scene id 85\n",
      "scene name rainystreet10\n"
     ]
    },
    {
     "data": {
      "application/vnd.jupyter.widget-view+json": {
       "model_id": "48ba8c3a846f4b108451dc2081067fde",
       "version_major": 2,
       "version_minor": 0
      },
      "text/plain": [
       "forward: 0it [00:00, ?it/s]"
      ]
     },
     "metadata": {},
     "output_type": "display_data"
    },
    {
     "data": {
      "application/vnd.jupyter.widget-view+json": {
       "model_id": "05daabbe5df84cedbf670455f22cc0d1",
       "version_major": 2,
       "version_minor": 0
      },
      "text/plain": [
       "backward: 0it [00:00, ?it/s]"
      ]
     },
     "metadata": {},
     "output_type": "display_data"
    },
    {
     "name": "stdout",
     "output_type": "stream",
     "text": [
      "scene id 86\n",
      "scene name cards16\n"
     ]
    },
    {
     "data": {
      "application/vnd.jupyter.widget-view+json": {
       "model_id": "0f99800d247d45f996ee281ca2fe89ae",
       "version_major": 2,
       "version_minor": 0
      },
      "text/plain": [
       "forward: 0it [00:00, ?it/s]"
      ]
     },
     "metadata": {},
     "output_type": "display_data"
    },
    {
     "data": {
      "application/vnd.jupyter.widget-view+json": {
       "model_id": "9f4f7b31cdfb460eb833e890b249a54b",
       "version_major": 2,
       "version_minor": 0
      },
      "text/plain": [
       "backward: 0it [00:00, ?it/s]"
      ]
     },
     "metadata": {},
     "output_type": "display_data"
    },
    {
     "data": {
      "application/vnd.jupyter.widget-view+json": {
       "model_id": "b1ec6bc090904a43b2efdb961f1a8174",
       "version_major": 2,
       "version_minor": 0
      },
      "text/plain": [
       "backward: 0it [00:00, ?it/s]"
      ]
     },
     "metadata": {},
     "output_type": "display_data"
    },
    {
     "data": {
      "application/vnd.jupyter.widget-view+json": {
       "model_id": "e61c11cc439e4cc19654fd87a0dc9204",
       "version_major": 2,
       "version_minor": 0
      },
      "text/plain": [
       "forward: 0it [00:00, ?it/s]"
      ]
     },
     "metadata": {},
     "output_type": "display_data"
    },
    {
     "data": {
      "application/vnd.jupyter.widget-view+json": {
       "model_id": "1ae3719cb7024179869437624c41e43b",
       "version_major": 2,
       "version_minor": 0
      },
      "text/plain": [
       "backward: 0it [00:00, ?it/s]"
      ]
     },
     "metadata": {},
     "output_type": "display_data"
    }
   ],
   "source": [
    "version = \"v1\"\n",
    "\n",
    "for scene in scenes:\n",
    "    print(\"scene id\", scene)\n",
    "    scene = dataset[scene]\n",
    "    print(\"scene name\", scene.name)\n",
    "    \n",
    "    output_dir = f\"../outputs/model_predictions/forward-backward-neighbours_{version}/{dataset.dataset_type}/{scene.camera_type}\"\n",
    "    pred_path = f\"{output_dir}/{scene.name}.txt\"\n",
    "    \n",
    "    frames = scene.falsecolor\n",
    "    bbox_init = scene.y_true[0]\n",
    "    forward = backward_forward(ostrack, frames, bbox_init, scene, debug=False, maxiter=3)\n",
    "    \n",
    "    os.makedirs(output_dir, exist_ok=True)\n",
    "    save_rects(pred_path, forward)\n",
    "    \n",
    "    \n",
    "for scene in val_scenes:\n",
    "    print(\"scene id\", scene)\n",
    "    scene = val_dataset[scene]\n",
    "    print(\"scene name\", scene.name)\n",
    "    \n",
    "    output_dir = f\"../outputs/model_predictions/forward-backward-neighbours_{version}/{val_dataset.dataset_type}/{scene.camera_type}\"\n",
    "    pred_path = f\"{output_dir}/{scene.name}.txt\"\n",
    "    \n",
    "    frames = scene.falsecolor\n",
    "    bbox_init = scene.y_true[0]\n",
    "    forward = backward_forward(ostrack, frames, bbox_init, scene, debug=False, maxiter=3)\n",
    "    \n",
    "    os.makedirs(output_dir, exist_ok=True)\n",
    "    save_rects(pred_path, forward)"
   ]
  },
  {
   "cell_type": "code",
   "execution_count": 8,
   "id": "2a042128",
   "metadata": {},
   "outputs": [
    {
     "data": {
      "text/html": [
       "<div>\n",
       "<style scoped>\n",
       "    .dataframe tbody tr th:only-of-type {\n",
       "        vertical-align: middle;\n",
       "    }\n",
       "\n",
       "    .dataframe tbody tr th {\n",
       "        vertical-align: top;\n",
       "    }\n",
       "\n",
       "    .dataframe thead th {\n",
       "        text-align: right;\n",
       "    }\n",
       "</style>\n",
       "<table border=\"1\" class=\"dataframe\">\n",
       "  <thead>\n",
       "    <tr style=\"text-align: right;\">\n",
       "      <th>metric</th>\n",
       "      <th>model</th>\n",
       "      <th>mean AUC</th>\n",
       "      <th>mean DP20</th>\n",
       "    </tr>\n",
       "  </thead>\n",
       "  <tbody>\n",
       "    <tr>\n",
       "      <th>0</th>\n",
       "      <td>forward-backward-neighbours_v1</td>\n",
       "      <td>0.590463</td>\n",
       "      <td>0.793185</td>\n",
       "    </tr>\n",
       "    <tr>\n",
       "      <th>2</th>\n",
       "      <td>forward-backward_v3</td>\n",
       "      <td>0.590235</td>\n",
       "      <td>0.795138</td>\n",
       "    </tr>\n",
       "    <tr>\n",
       "      <th>1</th>\n",
       "      <td>forward-backward_baseline</td>\n",
       "      <td>0.583911</td>\n",
       "      <td>0.772806</td>\n",
       "    </tr>\n",
       "  </tbody>\n",
       "</table>\n",
       "</div>"
      ],
      "text/plain": [
       "metric                           model  mean AUC  mean DP20\n",
       "0       forward-backward-neighbours_v1  0.590463   0.793185\n",
       "2                  forward-backward_v3  0.590235   0.795138\n",
       "1            forward-backward_baseline  0.583911   0.772806"
      ]
     },
     "execution_count": 8,
     "metadata": {},
     "output_type": "execute_result"
    },
    {
     "data": {
      "image/png": "[encoded data removed]",
      "text/plain": [
       "<Figure size 1200x900 with 2 Axes>"
      ]
     },
     "metadata": {},
     "output_type": "display_data"
    }
   ],
   "source": [
    "_, summary = eval_results_v2(\n",
    "    dataset,\n",
    "    [\"forward-backward_baseline\", \"forward-backward_v3\",\"forward-backward-neighbours_v1\"],\n",
    "    plot=True,\n",
    ")\n",
    "#     sequence_ids=test_scenes)\n",
    "summary"
   ]
  },
  {
   "cell_type": "code",
   "execution_count": 9,
   "id": "3563fdb4",
   "metadata": {},
   "outputs": [
    {
     "data": {
      "text/html": [
       "<div>\n",
       "<style scoped>\n",
       "    .dataframe tbody tr th:only-of-type {\n",
       "        vertical-align: middle;\n",
       "    }\n",
       "\n",
       "    .dataframe tbody tr th {\n",
       "        vertical-align: top;\n",
       "    }\n",
       "\n",
       "    .dataframe thead th {\n",
       "        text-align: right;\n",
       "    }\n",
       "</style>\n",
       "<table border=\"1\" class=\"dataframe\">\n",
       "  <thead>\n",
       "    <tr style=\"text-align: right;\">\n",
       "      <th>metric</th>\n",
       "      <th>model</th>\n",
       "      <th>mean AUC</th>\n",
       "      <th>mean DP20</th>\n",
       "    </tr>\n",
       "  </thead>\n",
       "  <tbody>\n",
       "    <tr>\n",
       "      <th>0</th>\n",
       "      <td>forward-backward-neighbours_v1</td>\n",
       "      <td>0.627657</td>\n",
       "      <td>0.841613</td>\n",
       "    </tr>\n",
       "    <tr>\n",
       "      <th>2</th>\n",
       "      <td>forward-backward_v3</td>\n",
       "      <td>0.605431</td>\n",
       "      <td>0.820590</td>\n",
       "    </tr>\n",
       "    <tr>\n",
       "      <th>1</th>\n",
       "      <td>forward-backward_baseline</td>\n",
       "      <td>0.599976</td>\n",
       "      <td>0.805493</td>\n",
       "    </tr>\n",
       "  </tbody>\n",
       "</table>\n",
       "</div>"
      ],
      "text/plain": [
       "metric                           model  mean AUC  mean DP20\n",
       "0       forward-backward-neighbours_v1  0.627657   0.841613\n",
       "2                  forward-backward_v3  0.605431   0.820590\n",
       "1            forward-backward_baseline  0.599976   0.805493"
      ]
     },
     "execution_count": 9,
     "metadata": {},
     "output_type": "execute_result"
    },
    {
     "data": {
      "image/png": "[encoded data removed]",
      "text/plain": [
       "<Figure size 1200x900 with 2 Axes>"
      ]
     },
     "metadata": {},
     "output_type": "display_data"
    }
   ],
   "source": [
    "_, summary = eval_results_v2(\n",
    "    val_dataset,\n",
    "    [\"forward-backward_baseline\", \"forward-backward_v3\",\"forward-backward-neighbours_v1\"],\n",
    "    plot=True,\n",
    ")\n",
    "#     sequence_ids=test_scenes)\n",
    "summary"
   ]
  }
 ],
 "metadata": {
  "kernelspec": {
   "display_name": "Python 3 (ipykernel)",
   "language": "python",
   "name": "python3"
  },
  "language_info": {
   "codemirror_mode": {
    "name": "ipython",
    "version": 3
   },
   "file_extension": ".py",
   "mimetype": "text/x-python",
   "name": "python",
   "nbconvert_exporter": "python",
   "pygments_lexer": "ipython3",
   "version": "3.10.6"
  }
 },
 "nbformat": 4,
 "nbformat_minor": 5
}
