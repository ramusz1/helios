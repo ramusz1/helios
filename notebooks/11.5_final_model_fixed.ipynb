{
 "cells": [
  {
   "cell_type": "markdown",
   "id": "6b0f872e",
   "metadata": {},
   "source": [
    "## Note\n",
    "\n",
    "* Fixing the bug in the model submitted for the competition\n",
    "* mostly this is a copy of the 11.4 notebook"
   ]
  },
  {
   "cell_type": "markdown",
   "id": "8458cce3",
   "metadata": {},
   "source": [
    "## Imports"
   ]
  },
  {
   "cell_type": "code",
   "execution_count": 1,
   "id": "9dbdfcaa",
   "metadata": {},
   "outputs": [],
   "source": [
    "%load_ext autoreload"
   ]
  },
  {
   "cell_type": "code",
   "execution_count": 2,
   "id": "c4ae5fee",
   "metadata": {},
   "outputs": [],
   "source": [
    "%autoreload 2\n",
    "\n",
    "import numpy as np\n",
    "import torch\n",
    "import torch.nn as nn\n",
    "import torch.nn.functional as F\n",
    "import numpy as np\n",
    "from sklearn.preprocessing import Normalizer, RobustScaler, MinMaxScaler\n",
    "from sklearn.pipeline import Pipeline\n",
    "import matplotlib.pyplot as plt\n",
    "import cv2\n",
    "from tqdm import tqdm\n",
    "import datetime\n",
    "import os\n",
    "import pickle\n",
    "\n",
    "import sys\n",
    "sys.path.append(\"../\")\n",
    "sys.path.append(\"../ext/OSTrack/\")\n",
    "\n",
    "from src.util import load_rects, draw_rect, HOTDataset, HOTDatasetMultiCam, save_rects\n",
    "from src.eval import eval_results, eval_results_v2\n",
    "from src.tracker import OSTrackWrapper, clip_box\n",
    "from src.HyperTools import overlap_ratio"
   ]
  },
  {
   "cell_type": "code",
   "execution_count": 3,
   "id": "8c0573c8",
   "metadata": {},
   "outputs": [],
   "source": [
    "device = 'cuda'"
   ]
  },
  {
   "cell_type": "markdown",
   "id": "72132e93",
   "metadata": {},
   "source": [
    "## Data"
   ]
  },
  {
   "cell_type": "code",
   "execution_count": 4,
   "id": "6332b436",
   "metadata": {},
   "outputs": [
    {
     "name": "stdout",
     "output_type": "stream",
     "text": [
      "train / test split: 96 14\n"
     ]
    }
   ],
   "source": [
    "dataset_type = \"training\"\n",
    "dataset_path = f\"/scratch/datasets/hot_2023/{dataset_type}\"\n",
    "dataset = HOTDatasetMultiCam(dataset_path)\n",
    "scene_names = {}\n",
    "for i in range(len(dataset)):\n",
    "    name = dataset[i].name\n",
    "    if name in scene_names:\n",
    "        scene_names[name].append(i)\n",
    "    else:\n",
    "        scene_names[name] = [i]\n",
    "\n",
    "scene_groups = list(scene_names.values())\n",
    "\n",
    "scenes = np.arange(len(dataset))\n",
    "rng = np.random.default_rng(seed = 15)\n",
    "rng.shuffle(scene_groups)\n",
    "train_n = int(len(scene_groups) * 0.9)\n",
    "train_scenes = np.concatenate(scene_groups[:train_n])\n",
    "test_scenes = np.concatenate(scene_groups[train_n:])\n",
    "print(\"train / test split:\", len(train_scenes), len(test_scenes))\n",
    "test_scenes\n",
    "\n",
    "\n",
    "val_dataset = HOTDatasetMultiCam(\"/scratch/datasets/hot_2023/validation\")\n",
    "val_scenes = np.arange(len(val_dataset))"
   ]
  },
  {
   "cell_type": "markdown",
   "id": "aebca869",
   "metadata": {},
   "source": [
    "## Dim reduction code"
   ]
  },
  {
   "cell_type": "code",
   "execution_count": 5,
   "id": "d428fdb4",
   "metadata": {},
   "outputs": [],
   "source": [
    "import math\n",
    "\n",
    "# modified from ostrack source\n",
    "def get_ostrack_search_crop(im, target_bb, search_area_factor=5.0):\n",
    "\n",
    "    if not isinstance(target_bb, list):\n",
    "        x, y, w, h = target_bb.tolist()\n",
    "    else:\n",
    "        x, y, w, h = target_bb\n",
    "    # Crop image\n",
    "    crop_sz = math.ceil(math.sqrt(w * h) * search_area_factor)\n",
    "\n",
    "    if crop_sz < 1:\n",
    "        raise Exception('Too small bounding box.')\n",
    "\n",
    "    x1 = round(x + 0.5 * w - crop_sz * 0.5)\n",
    "    x2 = x1 + crop_sz\n",
    "\n",
    "    y1 = round(y + 0.5 * h - crop_sz * 0.5)\n",
    "    y2 = y1 + crop_sz\n",
    "\n",
    "    x1_pad = max(0, -x1)\n",
    "    x2_pad = max(x2 - im.shape[1] + 1, 0)\n",
    "\n",
    "    y1_pad = max(0, -y1)\n",
    "    y2_pad = max(y2 - im.shape[0] + 1, 0)\n",
    "\n",
    "    # Crop target\n",
    "#     im_crop = im[y1 + y1_pad:y2 - y2_pad, x1 + x1_pad:x2 - x2_pad, :]\n",
    "#     return im_crop\n",
    "    x1, y1, x2, y2 = x1 + x1_pad, y1 + y1_pad, x2 - x2_pad, y2 - y2_pad\n",
    "    return x1, y1, x2 - x1, y2 - y1\n"
   ]
  },
  {
   "cell_type": "code",
   "execution_count": 6,
   "id": "6bf0a9c0",
   "metadata": {},
   "outputs": [],
   "source": [
    "def pick_best_spread(fi, alpha=0.005):\n",
    "    i = np.argmax(fi)\n",
    "    n = len(fi)\n",
    "    best_score = -np.inf\n",
    "    for j in range(n):\n",
    "        for k in range(j+1, n):\n",
    "            if j == i or k == i:\n",
    "                continue\n",
    "            bands = np.array(sorted([i,j,k], reverse=True))\n",
    "            score = np.sum(fi[bands])\n",
    "            bn = bands / (n-1)\n",
    "            def spread_fn(x, y):\n",
    "                return 1.0 / np.abs(x - y)\n",
    "            spread = spread_fn(bn[0], bn[1]) + spread_fn(bn[1], bn[2]) \n",
    "            score -= spread * alpha\n",
    "            if score > best_score:\n",
    "                top_bands = bands\n",
    "                best_score = score\n",
    "\n",
    "    return top_bands, best_score\n",
    "\n",
    "\n",
    "# fi =\"\"\"0.08796189 0.09221482 0.05206456 0.05772328 0.03985118 0.04093191\\\n",
    "#  0.04739796 0.05800938 0.05057602 0.06673987 0.0819459 0.05645527\\\n",
    "#  0.0517992 0.06167444 0.07334358 0.08131075\"\"\"\n",
    "\n",
    "# fi = np.array([float(x) for x in fi.split(' ')])\n",
    "\n",
    "# print(\"Alpha, bands, scores, adjusted score\")\n",
    "# for alpha in [0, 0.001, 0.005, 0.01, 0.05, 0.1, 0.5, 1.0]:\n",
    "#     bands, score = pick_best_spread(fi, alpha=alpha)\n",
    "#     print(alpha, bands, fi[bands], score)"
   ]
  },
  {
   "cell_type": "code",
   "execution_count": 7,
   "id": "1d41d796",
   "metadata": {},
   "outputs": [],
   "source": [
    "import xgboost as xgb\n",
    "from src.dim_reduction_util import CustomPreproc, BandDenoiser, crop\n",
    "\n",
    "\n",
    "class ToUint8:\n",
    "    \n",
    "    def fit(self, X, y=None, **fit_params):\n",
    "        return self\n",
    "    \n",
    "    def transform(self, X):\n",
    "        return (X * 255.0).astype(np.uint8)\n",
    "\n",
    "class ImadjustV5:\n",
    "    \n",
    "    def __init__(self, alpha=0.5, transform_perc=(0.01,0.99), fit_perc=(0.0,1.0), hist_eq_strength=0.5, debug=False):\n",
    "        self.alpha = alpha\n",
    "        self.fit_perc = fit_perc\n",
    "        self.transform_perc = transform_perc\n",
    "        self.debug = debug\n",
    "        self.hist_eq_strength = hist_eq_strength\n",
    "    \n",
    "#         thanks to\n",
    "#         https://stackoverflow.com/questions/28518684/histogram-equalization-of-grayscale-images-with-numpy\n",
    "    \n",
    "    def _get_tonemapping(self, X, lowp, highp):\n",
    "        number_bins = 1024\n",
    "            \n",
    "        X = np.clip(X, 0, number_bins-1)\n",
    "        cdf = np.zeros((X.shape[-1], number_bins))\n",
    "        for i in range(X.shape[-1]):\n",
    "            channel = X[...,i].flatten()\n",
    "            bins = np.arange(number_bins + 1)\n",
    "            hist, bins = np.histogram(channel, bins=bins, density=True)\n",
    "            cdf[i] = hist.cumsum()\n",
    "            cdf[i] /= cdf[i][-1] # normalize\n",
    "            # normalize cdf and clip value range\n",
    "            low = np.min(np.argwhere(cdf[i] >= lowp))\n",
    "            high = np.max(np.argwhere(cdf[i] <= max(highp,cdf[i][0])))\n",
    "            span = cdf[i][high] - cdf[i][low]\n",
    "            if span > 0:\n",
    "                cdf[i] = np.clip((cdf[i] - cdf[i][low]) / span, 0, 1)\n",
    "            else:\n",
    "                cdf[i] = np.linspace(0, 1, number_bins)\n",
    "                \n",
    "            # also calculate a linear cdf and blend them\n",
    "            ln_cdf = np.zeros(number_bins, dtype=np.float32)\n",
    "#             idx = np.argwhere(hist > 0)\n",
    "#             low = max(np.min(idx) - 1, 0)\n",
    "#             high = np.max(idx)\n",
    "#             print(low, high)\n",
    "            ln_cdf[low:high+1] = np.linspace(0, 1, high + 1 - low)\n",
    "            ln_cdf[high+1:] = 1.0\n",
    "            \n",
    "            cdf[i] = self.hist_eq_strength * cdf[i] + (1-self.hist_eq_strength) * ln_cdf\n",
    "            cdf[i] /= cdf[i][-1] # renormalize to be sure\n",
    "        return cdf\n",
    "    \n",
    "    def fit(self, X, y=None, **fit_params):\n",
    "        self.cdf = self._get_tonemapping(X, *self.fit_perc)\n",
    "        \n",
    "    def transform(self, X):\n",
    "        # blend current frame cdf and the target cdf\n",
    "        frame_cdf = self._get_tonemapping(X, *self.transform_perc)\n",
    "        \n",
    "        if self.debug:\n",
    "            for i in range(3):\n",
    "                plt.plot(self.cdf[i], label=\"self_cdf\")\n",
    "                plt.plot(frame_cdf[i], label=\"frame_cdf\")\n",
    "                plt.legend()\n",
    "                plt.show()\n",
    "        \n",
    "        frame_cdf = self.alpha * frame_cdf + (1 - self.alpha) * self.cdf\n",
    "        \n",
    "        # apply the tonemapping\n",
    "        out = np.empty_like(X, dtype=np.float32)\n",
    "        X = np.clip(X, 0, frame_cdf.shape[1] - 1)\n",
    "        for i in range(X.shape[-1]):\n",
    "            channel = X[...,i].flatten()\n",
    "#             out[...,i] = frame_cdf[i][X[...,i].flatten()].reshape(*X.shape[:-1])\n",
    "            out[...,i] = frame_cdf[i][channel].reshape(out.shape[:-1])\n",
    "            \n",
    "        return out\n",
    "\n",
    "class XGBBandSelectorV6:\n",
    "    \n",
    "    def __init__(self, alpha=0.005, **params):\n",
    "        self.classifier = xgb.XGBClassifier(**params)\n",
    "        self.alpha = alpha\n",
    "        \n",
    "    def fit(self, X, y, **fit_params):\n",
    "        c = X.shape[-1]\n",
    "        self.classifier.fit(X.reshape(-1,c), y.flatten())\n",
    "        fi = self.classifier.feature_importances_\n",
    "        self.bands, pbs_score = pick_best_spread(fi, self.alpha)\n",
    "        self.scores = fi[self.bands]\n",
    "        return self\n",
    "    \n",
    "    def transform(self, X):\n",
    "        return X[..., self.bands]\n",
    "    \n",
    "    def predict_proba(self, X):\n",
    "        proba = self.classifier.predict_proba(X.reshape(-1, X.shape[-1]))\n",
    "        return proba.reshape(*X.shape[:-1], proba.shape[-1])\n",
    "    \n",
    "class BilateralFilter:\n",
    "    \n",
    "    def __init__(self, d=5, sigma_color=10, sigma_space=10):\n",
    "        self.d = d\n",
    "        self.sigma_color = 10\n",
    "        self.sigma_space = 10\n",
    "    \n",
    "    def fit(self, X, y=None, **fit_params):\n",
    "        return self\n",
    "    \n",
    "    def transform(self, X, y=None, **fit_params):\n",
    "        out = X.astype(np.float32)\n",
    "        c = X.shape[-1]\n",
    "        if c <= 3:\n",
    "            out = cv2.bilateralFilter(out, self.d, self.sigma_color, self.sigma_space)\n",
    "        else:\n",
    "            for i in range(X.shape[-1]):\n",
    "                out[...,i] = cv2.bilateralFilter(out[...,i], self.d, self.sigma_color, self.sigma_space)\n",
    "        return out.astype(X.dtype)\n",
    "    \n",
    "                \n",
    "class DimReduceV4:\n",
    "    \n",
    "    def __init__(self, band_selector, imadjust, spatial_filtering):\n",
    "        self.bs = band_selector\n",
    "        self.imadjust = imadjust\n",
    "        self.spatial_filtering = spatial_filtering\n",
    "        \n",
    "    def initialize(self, hsi, init_bbox, camera_type):\n",
    "        self.camera_type = camera_type\n",
    "        # initial preprocessing\n",
    "        if self.camera_type == \"HSI-VIS\":\n",
    "            hsi = CustomPreproc().transform(hsi)\n",
    "        hsi = BandDenoiser().transform(hsi)\n",
    "#         hsi = BilateralFilter().transform(hsi)\n",
    "        hsi = self.spatial_filtering.transform(hsi)\n",
    "\n",
    "        # preapare target mask\n",
    "        h,w,c = hsi.shape\n",
    "        mask = draw_rect(np.zeros((h,w),dtype=np.uint8), init_bbox, color=1, thickness=-1).astype(bool)\n",
    "        roi = get_ostrack_search_crop(hsi, init_bbox)\n",
    "        X = crop(hsi, roi).copy()\n",
    "        y = crop(mask, roi)\n",
    "\n",
    "        # imadjus\n",
    "        self.imadjust.fit(crop(hsi, roi))\n",
    "        hsi = self.imadjust.transform(hsi)\n",
    "        hsi = (hsi * 255.0).astype(np.uint8)\n",
    "\n",
    "        # feature selection\n",
    "        X = crop(hsi, roi).copy()\n",
    "        y = crop(mask, roi)\n",
    "        self.bs.fit(X, y)\n",
    "        rgb = self.bs.transform(hsi)\n",
    "        \n",
    "        # select bands in imadjust\n",
    "        self.imadjust.cdf = self.imadjust.cdf[self.bs.bands]\n",
    "        \n",
    "        if self.camera_type == \"HSI-VIS\":\n",
    "            self.band_selection_pipeline = Pipeline([\n",
    "                (\"custom_preproc\", CustomPreproc()),\n",
    "                (\"denoising\", BandDenoiser()),\n",
    "                (\"bs\", self.bs),\n",
    "                (\"spatial_denoising\", self.spatial_filtering),\n",
    "            ])\n",
    "        else:\n",
    "            self.band_selection_pipeline = Pipeline([\n",
    "                (\"denoising\", BandDenoiser()),\n",
    "                (\"bs\", self.bs),\n",
    "                (\"spatial_denoising\", self.spatial_filtering),\n",
    "            ])\n",
    "            \n",
    "        return rgb\n",
    "\n",
    "    def __call__(self, frame, bbox):\n",
    "        frame = self.band_selection_pipeline.transform(frame)\n",
    "        roi = get_ostrack_search_crop(frame, bbox)\n",
    "        self.imadjust.fit(crop(frame, roi))\n",
    "        frame = self.imadjust.transform(frame)\n",
    "        return (frame * 255.0).astype(np.uint8)\n",
    "\n",
    "\n",
    "\n",
    "\n",
    "dim_reduction = DimReduceV4(\n",
    "    XGBBandSelectorV6(alpha=0.005),\n",
    "    ImadjustV5(0.1, (0.005, 0.995), (0.005, 0.995), 0.5, debug=False),\n",
    "    BilateralFilter()\n",
    ")"
   ]
  },
  {
   "cell_type": "markdown",
   "id": "284db84c",
   "metadata": {},
   "source": [
    "## Tracking experiments"
   ]
  },
  {
   "cell_type": "code",
   "execution_count": 8,
   "id": "211dd2aa",
   "metadata": {},
   "outputs": [
    {
     "name": "stdout",
     "output_type": "stream",
     "text": [
      "test config:  {'MODEL': {'PRETRAIN_FILE': 'mae_pretrain_vit_base.pth', 'EXTRA_MERGER': False, 'RETURN_INTER': False, 'RETURN_STAGES': [], 'BACKBONE': {'TYPE': 'vit_base_patch16_224_ce', 'STRIDE': 16, 'MID_PE': False, 'SEP_SEG': False, 'CAT_MODE': 'direct', 'MERGE_LAYER': 0, 'ADD_CLS_TOKEN': False, 'CLS_TOKEN_USE_MODE': 'ignore', 'CE_LOC': [3, 6, 9], 'CE_KEEP_RATIO': [0.7, 0.7, 0.7], 'CE_TEMPLATE_RANGE': 'CTR_POINT'}, 'HEAD': {'TYPE': 'CENTER', 'NUM_CHANNELS': 256}}, 'TRAIN': {'LR': 0.0004, 'WEIGHT_DECAY': 0.0001, 'EPOCH': 300, 'LR_DROP_EPOCH': 240, 'BATCH_SIZE': 32, 'NUM_WORKER': 10, 'OPTIMIZER': 'ADAMW', 'BACKBONE_MULTIPLIER': 0.1, 'GIOU_WEIGHT': 2.0, 'L1_WEIGHT': 5.0, 'FREEZE_LAYERS': [0], 'PRINT_INTERVAL': 50, 'VAL_EPOCH_INTERVAL': 20, 'GRAD_CLIP_NORM': 0.1, 'AMP': False, 'CE_START_EPOCH': 20, 'CE_WARM_EPOCH': 80, 'DROP_PATH_RATE': 0.1, 'SCHEDULER': {'TYPE': 'step', 'DECAY_RATE': 0.1}}, 'DATA': {'SAMPLER_MODE': 'causal', 'MEAN': [0.485, 0.456, 0.406], 'STD': [0.229, 0.224, 0.225], 'MAX_SAMPLE_INTERVAL': 200, 'TRAIN': {'DATASETS_NAME': ['LASOT', 'GOT10K_vottrain', 'COCO17', 'TRACKINGNET'], 'DATASETS_RATIO': [1, 1, 1, 1], 'SAMPLE_PER_EPOCH': 60000}, 'VAL': {'DATASETS_NAME': ['GOT10K_votval'], 'DATASETS_RATIO': [1], 'SAMPLE_PER_EPOCH': 10000}, 'SEARCH': {'SIZE': 384, 'FACTOR': 5.0, 'CENTER_JITTER': 4.5, 'SCALE_JITTER': 0.5, 'NUMBER': 1}, 'TEMPLATE': {'NUMBER': 1, 'SIZE': 192, 'FACTOR': 2.0, 'CENTER_JITTER': 0, 'SCALE_JITTER': 0}}, 'TEST': {'TEMPLATE_FACTOR': 2.0, 'TEMPLATE_SIZE': 192, 'SEARCH_FACTOR': 5.0, 'SEARCH_SIZE': 384, 'EPOCH': 300}}\n"
     ]
    }
   ],
   "source": [
    "from src.util import load_rects, draw_rect, HOTDataset, HOTDatasetMultiCam, save_rects\n",
    "from src.eval import eval_results, eval_results_v2\n",
    "from src.tracker import OSTrackWrapper, clip_box\n",
    "from src.HyperTools import overlap_ratio\n",
    "\n",
    "from tqdm.notebook import trange, tqdm\n",
    "from torchdata.datapipes.iter import Prefetcher\n",
    "\n",
    "from dataclasses import dataclass\n",
    "\n",
    "@dataclass\n",
    "class Track:\n",
    "    bboxes: np.ndarray\n",
    "    scores: np.ndarray \n",
    "    \n",
    "    def __len__(self):\n",
    "        return len(self.bboxes)\n",
    "\n",
    "class ImageLoaderRanged:\n",
    "    \n",
    "    def __init__(self, image_loaders, start, end, inc):\n",
    "        self.image_loaders = image_loaders\n",
    "        self.start = start\n",
    "        self.end = end\n",
    "        self.inc = inc\n",
    "        \n",
    "    def __len__(self):\n",
    "        return (self.end - self.start) * self.inc\n",
    "\n",
    "    def __getitem__(self, i):\n",
    "        if i >= len(self):\n",
    "            raise IndexError            \n",
    "        frame_id = self.start + i * self.inc\n",
    "        return frame_id, self.image_loaders[0][frame_id], self.image_loaders[1][frame_id]\n",
    "\n",
    "def get_distractions(bbox, prev_merged, score, tracks, frame_id, inc, start_frame_id, start_bbox, debug=False):\n",
    "    # the track is going in the other direction\n",
    "    if len(tracks) == 0:\n",
    "        return []\n",
    "    merged = []\n",
    "    distractions = []\n",
    "    for i,t in enumerate(tracks):\n",
    "        tbbox = t.bboxes[frame_id]\n",
    "        iou = overlap_ratio(bbox.reshape(-1,4), tbbox.reshape(-1,4))\n",
    "        original_iou = overlap_ratio(\n",
    "            start_bbox.reshape(-1,4),\n",
    "            t.bboxes[start_frame_id].reshape(-1,4))[0]\n",
    "        # calculate how well is the tbbox connected to other boxes in it's track\n",
    "        prev_frame_id = frame_id - inc\n",
    "        tfit = min(\n",
    "            t.scores[frame_id], # current score\n",
    "            t.scores[prev_frame_id]) # previous score\n",
    "        if iou > 0.8:\n",
    "            if score > 0.6 or i in prev_merged:\n",
    "                continue\n",
    "            elif tfit > 1.1 * score and original_iou < 0.2:\n",
    "#                 if debug:\n",
    "#                     print(\"iou, tfit, score, original_iou\", iou, tfit, score, original_iou)\n",
    "                distractions.append(i)\n",
    "    return distractions\n",
    "\n",
    "def run_ostrack(\n",
    "    ostrack: OSTrackWrapper,\n",
    "    dim_reduction, camera_type, # new addition\n",
    "    frames, init_bbox, start, end,\n",
    "    known_tracks, debug=False\n",
    "):\n",
    "    if end > start:\n",
    "        desc = \"forward\"\n",
    "        known_tracks = known_tracks[\"backward\"]\n",
    "        inc = 1\n",
    "    else:\n",
    "        desc = \"backward\"\n",
    "        inc = -1\n",
    "        known_tracks = known_tracks[\"forward\"]\n",
    "        \n",
    "    frames_range = ImageLoaderRanged(frames, start, end, inc)\n",
    "    \n",
    "    for i, (frame_id, hsi, falsecolor) in enumerate(tqdm(Prefetcher(frames_range), desc=desc)):\n",
    "        if i == 0:\n",
    "            h,w = falsecolor.shape[:2]\n",
    "            init_bbox = np.array(clip_box(init_bbox, h, w, margin=5))\n",
    "            bbox = init_bbox\n",
    "            dim_reduction.initialize(hsi, bbox, camera_type) # mew addition\n",
    "            init_hsi_reduced = dim_reduction(hsi, bbox)\n",
    "            init_falsecolor = falsecolor.copy()\n",
    "            track = [bbox]\n",
    "            track_scores = [1.0]\n",
    "            if debug:\n",
    "                init_frame = falsecolor.copy()\n",
    "            merged = []\n",
    "        else:\n",
    "            bbox = np.array(clip_box(bbox, h, w, margin=5))\n",
    "            hsi_reduced = dim_reduction(hsi, bbox)  # new addition\n",
    "            ostrack.initialize(init_hsi_reduced, init_bbox)\n",
    "            candidates, scores, _ = ostrack.track(hsi_reduced, bbox, 0)\n",
    "            candidates = candidates.numpy(force=True)\n",
    "            scores = scores.numpy(force=True).flatten()\n",
    "            ostrack.initialize(init_falsecolor, init_bbox)\n",
    "            candidates2, scores2, _ = ostrack.track(falsecolor, bbox, 0)\n",
    "            candidates2 = candidates2.numpy(force=True)\n",
    "            scores2 = scores2.numpy(force=True).flatten()\n",
    "            # combine predictions pick the tracker with higher score\n",
    "            candidates = np.concatenate((candidates, candidates2))\n",
    "            scores = np.concatenate((0.9 * scores, scores2))\n",
    "            \n",
    "            n_pred = len(candidates)\n",
    "            if len(known_tracks) > 0:\n",
    "                candidates = np.concatenate((candidates, [t.bboxes[frame_id] for t in known_tracks]))\n",
    "                scores = np.concatenate((scores, np.full(len(known_tracks), 0.2)))\n",
    "            for j, (c, s) in enumerate(zip(candidates, scores)):\n",
    "                distr = get_distractions(c, merged, s, known_tracks, frame_id, inc, start, init_bbox, debug)\n",
    "                if len(distr) > 0:\n",
    "                    scores[j] = 0\n",
    "                    distr_id = distr[0]\n",
    "#                     if debug:\n",
    "#                         print(\"frame id\", frame_id)\n",
    "#                         print(f\"distractor from track {j}\")\n",
    "#                         fig, axs = plt.subplots(1,2)\n",
    "#                         init_frame_copy = draw_rect(init_frame.copy(), init_bbox, color=(0,255,0))\n",
    "#                         init_frame_copy = draw_rect(init_frame_copy, known_tracks[distr_id].bboxes[start], color=(255,0,0))\n",
    "#                         axs[0].imshow(init_frame_copy)\n",
    "#                         frame_copy = draw_rect(frame.copy(), c)\n",
    "#                         axs[1].imshow(frame_copy)\n",
    "#                         plt.show()\n",
    "                        \n",
    "            j = np.argmax(scores)\n",
    "            if scores[j] > 0:\n",
    "                bbox, score = candidates[j], scores[j]\n",
    "                merged = []\n",
    "                for k,t in enumerate(known_tracks):\n",
    "                    if overlap_ratio(t.bboxes[frame_id].reshape(-1,4), bbox.reshape(-1,4)) > 0.8:\n",
    "                        merged.append(k)\n",
    "            else:\n",
    "                bbox, score = bbox, 0\n",
    "                merged = []\n",
    "            track.append(bbox)\n",
    "            track_scores.append(score)\n",
    "    return Track(np.array(track, dtype=int), np.array(track_scores))\n",
    "\n",
    "ostrack = OSTrackWrapper(\n",
    "    use_hann=True,\n",
    "    candidate_bbox_threshold=0.7,\n",
    "    nms_iou_thresh=0.7,\n",
    "    max_candidates=3\n",
    ")"
   ]
  },
  {
   "cell_type": "code",
   "execution_count": 11,
   "id": "ac32e258",
   "metadata": {},
   "outputs": [],
   "source": [
    "def backward_forward(\n",
    "    ostrack: OSTrackWrapper, dim_reduction,\n",
    "    frames, bbox_init, scene, debug=False, iou_thrsh=0.2, maxiter=3\n",
    "):\n",
    "    if debug:\n",
    "        out_dir = f\"../outputs/forward_backward-neighbour/training/{scene.camera_type}/{scene.name}\"\n",
    "        os.makedirs(out_dir, exist_ok=True)\n",
    "    niter = 0\n",
    "    start = 0\n",
    "    end = len(frames[0])\n",
    "    tracks = {\"forward\": [], \"backward\": []}\n",
    "    dbg_backward = None\n",
    "    print(\"niter: [start, end]\")\n",
    "    while start + 1 < end and niter < maxiter:\n",
    "        print(f\"{niter}: [{start},{end}]\")\n",
    "        niter += 1\n",
    "        # run forward\n",
    "        forward = run_ostrack(\n",
    "            ostrack, dim_reduction, scene.camera_type,\n",
    "            frames, bbox_init, start, end, tracks, debug\n",
    "        )\n",
    "        if len(tracks[\"forward\"]) > 0:\n",
    "            # pad forward pass with the previous one\n",
    "            forward.bboxes = np.concatenate((tracks[\"forward\"][-1].bboxes[:start], forward.bboxes))\n",
    "            forward.scores = np.concatenate((np.ones(start), forward.scores))\n",
    "        tracks[\"forward\"].append(forward)\n",
    "        if debug:\n",
    "            save_rects(os.path.join(out_dir, f\"forward_{niter}.txt\"), forward.bboxes)\n",
    "            \n",
    "        if len(forward) != len(frames[0]):\n",
    "            print(len(forward), len(frames[0]))\n",
    "            assert False\n",
    "        \n",
    "        # bisect until backtracking is consistent\n",
    "        consistent = False\n",
    "        _start = start\n",
    "        _end = end\n",
    "        _backtracking_runs = 0\n",
    "        while not consistent and niter < maxiter:\n",
    "            _backtracking_runs += 1\n",
    "            if debug:\n",
    "                print(\"consistency check on:\", _start, _end)\n",
    "            backward = run_ostrack(\n",
    "                ostrack, dim_reduction, scene.camera_type,\n",
    "                frames, forward.bboxes[_end-1], _end - 1, _start - 1, tracks, debug)\n",
    "            backward.bboxes = backward.bboxes[::-1] # reverse\n",
    "            backward.scores = backward.scores[::-1] # reverse\n",
    "            # pad backward\n",
    "            backward.bboxes = np.concatenate((\n",
    "                np.zeros_like(forward.bboxes[:_start]),\n",
    "                backward.bboxes,\n",
    "                forward.bboxes[_end:]\n",
    "            ))\n",
    "            backward.scores = np.concatenate((\n",
    "                np.zeros_like(forward.scores[:_start]),\n",
    "                backward.scores,\n",
    "                forward.scores[_end:]\n",
    "            ))\n",
    "            if len(backward) != len(frames[0]) or len(backward.bboxes) != len(backward.scores):\n",
    "                print(len(forward), len(frames[0]), len(backward), len(backward.bboxes), len(backward.scores))\n",
    "                assert False\n",
    "            tracks[\"backward\"].append(backward)\n",
    "            if dbg_backward is None:\n",
    "                dbg_backward = backward.bboxes.copy()\n",
    "                if debug:\n",
    "                    save_rects(os.path.join(out_dir, f\"backward_0.txt\"), dbg_backward)\n",
    "            \n",
    "            iou = overlap_ratio(forward.bboxes[_start:_end], backward.bboxes[_start:_end])\n",
    "            if debug:\n",
    "                plt.plot(np.arange(_start, _end), iou, label=str(_backtracking_runs))\n",
    "            idx = np.argwhere(iou < iou_thrsh) # inconsistency check\n",
    "            idx += _start\n",
    "            if len(idx) == 0:\n",
    "                consistent = True\n",
    "                continue\n",
    "            last_consistent = np.max(idx)\n",
    "            _end = (last_consistent + _start) // 2 # bug fix\n",
    "#             _end = last_consistent - 1\n",
    "            if _start + 1 >= _end:\n",
    "                break\n",
    "\n",
    "        if not consistent:\n",
    "            if debug:\n",
    "                print(\"failure to find consistent backtracking\")\n",
    "            break\n",
    "        else:\n",
    "            if debug:\n",
    "                print(\"success, consistent range: \", _start, _end)\n",
    "            dbg_backward[_start:_end] = backward.bboxes[_start:_end]\n",
    "            if debug:\n",
    "                save_rects(os.path.join(out_dir, f\"backward_{niter}.txt\"), dbg_backward)\n",
    "            start = _end - 1\n",
    "            bbox_init = forward.bboxes[start]\n",
    "    \n",
    "        if debug:\n",
    "            plt.ylim(0,1)\n",
    "            plt.legend()\n",
    "            plt.show()\n",
    "    return tracks[\"forward\"][-1].bboxes"
   ]
  },
  {
   "cell_type": "code",
   "execution_count": 12,
   "id": "3e396ab5",
   "metadata": {},
   "outputs": [
    {
     "name": "stdout",
     "output_type": "stream",
     "text": [
      "scene id 0\n",
      "scene name car3\n",
      "niter: [start, end]\n",
      "0: [0,331]\n"
     ]
    },
    {
     "data": {
      "application/vnd.jupyter.widget-view+json": {
       "model_id": "310b6bbd02774c2e9b2961cf3c3a8d2e",
       "version_major": 2,
       "version_minor": 0
      },
      "text/plain": [
       "forward: 0it [00:00, ?it/s]"
      ]
     },
     "metadata": {},
     "output_type": "display_data"
    },
    {
     "data": {
      "application/vnd.jupyter.widget-view+json": {
       "model_id": "b2a1369c5170446480e2edecae2f8367",
       "version_major": 2,
       "version_minor": 0
      },
      "text/plain": [
       "backward: 0it [00:00, ?it/s]"
      ]
     },
     "metadata": {},
     "output_type": "display_data"
    },
    {
     "data": {
      "application/vnd.jupyter.widget-view+json": {
       "model_id": "157b98cad36f491aa38fa713358b6d10",
       "version_major": 2,
       "version_minor": 0
      },
      "text/plain": [
       "backward: 0it [00:00, ?it/s]"
      ]
     },
     "metadata": {},
     "output_type": "display_data"
    },
    {
     "name": "stdout",
     "output_type": "stream",
     "text": [
      "1: [132,331]\n"
     ]
    },
    {
     "data": {
      "application/vnd.jupyter.widget-view+json": {
       "model_id": "cdfb578b60354bdd98a09eea8742b3e7",
       "version_major": 2,
       "version_minor": 0
      },
      "text/plain": [
       "forward: 0it [00:00, ?it/s]"
      ]
     },
     "metadata": {},
     "output_type": "display_data"
    },
    {
     "data": {
      "application/vnd.jupyter.widget-view+json": {
       "model_id": "05602dc5b97a497bbbc39e6d15f0c0e9",
       "version_major": 2,
       "version_minor": 0
      },
      "text/plain": [
       "backward: 0it [00:00, ?it/s]"
      ]
     },
     "metadata": {},
     "output_type": "display_data"
    },
    {
     "data": {
      "application/vnd.jupyter.widget-view+json": {
       "model_id": "78395687ce2b43f3a1ab8217facd98c1",
       "version_major": 2,
       "version_minor": 0
      },
      "text/plain": [
       "backward: 0it [00:00, ?it/s]"
      ]
     },
     "metadata": {},
     "output_type": "display_data"
    },
    {
     "name": "stdout",
     "output_type": "stream",
     "text": [
      "2: [196,331]\n"
     ]
    },
    {
     "data": {
      "application/vnd.jupyter.widget-view+json": {
       "model_id": "8bd1ebb224d34daeab3cd219f22fd88e",
       "version_major": 2,
       "version_minor": 0
      },
      "text/plain": [
       "forward: 0it [00:00, ?it/s]"
      ]
     },
     "metadata": {},
     "output_type": "display_data"
    },
    {
     "name": "stdout",
     "output_type": "stream",
     "text": [
      "scene id 1\n",
      "scene name coin\n",
      "niter: [start, end]\n",
      "0: [0,149]\n"
     ]
    },
    {
     "data": {
      "application/vnd.jupyter.widget-view+json": {
       "model_id": "460a2e9907964dd7a98187400721f00d",
       "version_major": 2,
       "version_minor": 0
      },
      "text/plain": [
       "forward: 0it [00:00, ?it/s]"
      ]
     },
     "metadata": {},
     "output_type": "display_data"
    },
    {
     "data": {
      "application/vnd.jupyter.widget-view+json": {
       "model_id": "40a8fa672ef84aa8928f12e81e860cab",
       "version_major": 2,
       "version_minor": 0
      },
      "text/plain": [
       "backward: 0it [00:00, ?it/s]"
      ]
     },
     "metadata": {},
     "output_type": "display_data"
    },
    {
     "name": "stdout",
     "output_type": "stream",
     "text": [
      "scene id 2\n",
      "scene name cards19\n",
      "niter: [start, end]\n",
      "0: [0,275]\n"
     ]
    },
    {
     "data": {
      "application/vnd.jupyter.widget-view+json": {
       "model_id": "0d12d8c605204c5c879053d59f9fac29",
       "version_major": 2,
       "version_minor": 0
      },
      "text/plain": [
       "forward: 0it [00:00, ?it/s]"
      ]
     },
     "metadata": {},
     "output_type": "display_data"
    },
    {
     "data": {
      "application/vnd.jupyter.widget-view+json": {
       "model_id": "98728fa23bbd4f6db5707438a4957e4c",
       "version_major": 2,
       "version_minor": 0
      },
      "text/plain": [
       "backward: 0it [00:00, ?it/s]"
      ]
     },
     "metadata": {},
     "output_type": "display_data"
    },
    {
     "data": {
      "application/vnd.jupyter.widget-view+json": {
       "model_id": "249015e0f2984561ab0b4db26225ff80",
       "version_major": 2,
       "version_minor": 0
      },
      "text/plain": [
       "backward: 0it [00:00, ?it/s]"
      ]
     },
     "metadata": {},
     "output_type": "display_data"
    },
    {
     "data": {
      "application/vnd.jupyter.widget-view+json": {
       "model_id": "222dcdf20e9e44bd8dae8dc70606647f",
       "version_major": 2,
       "version_minor": 0
      },
      "text/plain": [
       "backward: 0it [00:00, ?it/s]"
      ]
     },
     "metadata": {},
     "output_type": "display_data"
    },
    {
     "name": "stdout",
     "output_type": "stream",
     "text": [
      "1: [43,275]\n"
     ]
    },
    {
     "data": {
      "application/vnd.jupyter.widget-view+json": {
       "model_id": "efc256f0be684345896fe28001d360eb",
       "version_major": 2,
       "version_minor": 0
      },
      "text/plain": [
       "forward: 0it [00:00, ?it/s]"
      ]
     },
     "metadata": {},
     "output_type": "display_data"
    },
    {
     "data": {
      "application/vnd.jupyter.widget-view+json": {
       "model_id": "c1272ecbbb264aaf90d9f185b8f41aa1",
       "version_major": 2,
       "version_minor": 0
      },
      "text/plain": [
       "backward: 0it [00:00, ?it/s]"
      ]
     },
     "metadata": {},
     "output_type": "display_data"
    },
    {
     "data": {
      "application/vnd.jupyter.widget-view+json": {
       "model_id": "5c5cd90e864e4391a296b9857fe9c697",
       "version_major": 2,
       "version_minor": 0
      },
      "text/plain": [
       "backward: 0it [00:00, ?it/s]"
      ]
     },
     "metadata": {},
     "output_type": "display_data"
    },
    {
     "data": {
      "application/vnd.jupyter.widget-view+json": {
       "model_id": "2e4a5827277c4926a87114505f178c2f",
       "version_major": 2,
       "version_minor": 0
      },
      "text/plain": [
       "backward: 0it [00:00, ?it/s]"
      ]
     },
     "metadata": {},
     "output_type": "display_data"
    },
    {
     "name": "stdout",
     "output_type": "stream",
     "text": [
      "2: [88,275]\n"
     ]
    },
    {
     "data": {
      "application/vnd.jupyter.widget-view+json": {
       "model_id": "b2b4b148836e4201bba9fa130400cc80",
       "version_major": 2,
       "version_minor": 0
      },
      "text/plain": [
       "forward: 0it [00:00, ?it/s]"
      ]
     },
     "metadata": {},
     "output_type": "display_data"
    },
    {
     "name": "stdout",
     "output_type": "stream",
     "text": [
      "scene id 3\n",
      "scene name coke\n",
      "niter: [start, end]\n",
      "0: [0,731]\n"
     ]
    },
    {
     "data": {
      "application/vnd.jupyter.widget-view+json": {
       "model_id": "c4e86776d9dc4f1690d3fc4baf0fae3c",
       "version_major": 2,
       "version_minor": 0
      },
      "text/plain": [
       "forward: 0it [00:00, ?it/s]"
      ]
     },
     "metadata": {},
     "output_type": "display_data"
    },
    {
     "data": {
      "application/vnd.jupyter.widget-view+json": {
       "model_id": "6905b8314f58404db7f23c1e1f8ba2ed",
       "version_major": 2,
       "version_minor": 0
      },
      "text/plain": [
       "backward: 0it [00:00, ?it/s]"
      ]
     },
     "metadata": {},
     "output_type": "display_data"
    },
    {
     "data": {
      "application/vnd.jupyter.widget-view+json": {
       "model_id": "32c763ab2e424babba2ea81889e7f6e3",
       "version_major": 2,
       "version_minor": 0
      },
      "text/plain": [
       "backward: 0it [00:00, ?it/s]"
      ]
     },
     "metadata": {},
     "output_type": "display_data"
    },
    {
     "name": "stdout",
     "output_type": "stream",
     "text": [
      "1: [198,731]\n"
     ]
    },
    {
     "data": {
      "application/vnd.jupyter.widget-view+json": {
       "model_id": "ce9a38506dfd4ba7ac76d3d384545894",
       "version_major": 2,
       "version_minor": 0
      },
      "text/plain": [
       "forward: 0it [00:00, ?it/s]"
      ]
     },
     "metadata": {},
     "output_type": "display_data"
    },
    {
     "data": {
      "application/vnd.jupyter.widget-view+json": {
       "model_id": "256ebf8cd0c74421933122f535097fd2",
       "version_major": 2,
       "version_minor": 0
      },
      "text/plain": [
       "backward: 0it [00:00, ?it/s]"
      ]
     },
     "metadata": {},
     "output_type": "display_data"
    },
    {
     "data": {
      "application/vnd.jupyter.widget-view+json": {
       "model_id": "5fc7d5652447457ab1a5908d45e929ca",
       "version_major": 2,
       "version_minor": 0
      },
      "text/plain": [
       "backward: 0it [00:00, ?it/s]"
      ]
     },
     "metadata": {},
     "output_type": "display_data"
    },
    {
     "name": "stdout",
     "output_type": "stream",
     "text": [
      "2: [451,731]\n"
     ]
    },
    {
     "data": {
      "application/vnd.jupyter.widget-view+json": {
       "model_id": "8d453486bcfa42a78dfd91049cdb1656",
       "version_major": 2,
       "version_minor": 0
      },
      "text/plain": [
       "forward: 0it [00:00, ?it/s]"
      ]
     },
     "metadata": {},
     "output_type": "display_data"
    },
    {
     "name": "stdout",
     "output_type": "stream",
     "text": [
      "scene id 4\n",
      "scene name hand\n",
      "niter: [start, end]\n",
      "0: [0,184]\n"
     ]
    },
    {
     "data": {
      "application/vnd.jupyter.widget-view+json": {
       "model_id": "10fd064ba18a408ab6c8e31f88ca2b3f",
       "version_major": 2,
       "version_minor": 0
      },
      "text/plain": [
       "forward: 0it [00:00, ?it/s]"
      ]
     },
     "metadata": {},
     "output_type": "display_data"
    },
    {
     "data": {
      "application/vnd.jupyter.widget-view+json": {
       "model_id": "1a174850d42b46a1883aa3cabd4f8298",
       "version_major": 2,
       "version_minor": 0
      },
      "text/plain": [
       "backward: 0it [00:00, ?it/s]"
      ]
     },
     "metadata": {},
     "output_type": "display_data"
    },
    {
     "name": "stdout",
     "output_type": "stream",
     "text": [
      "scene id 5\n",
      "scene name duck5\n",
      "niter: [start, end]\n",
      "0: [0,325]\n"
     ]
    },
    {
     "data": {
      "application/vnd.jupyter.widget-view+json": {
       "model_id": "524188697f4e4e8e99948d65c15a6aa7",
       "version_major": 2,
       "version_minor": 0
      },
      "text/plain": [
       "forward: 0it [00:00, ?it/s]"
      ]
     },
     "metadata": {},
     "output_type": "display_data"
    },
    {
     "data": {
      "application/vnd.jupyter.widget-view+json": {
       "model_id": "ad839a0baae5457ca983dd1081f56d67",
       "version_major": 2,
       "version_minor": 0
      },
      "text/plain": [
       "backward: 0it [00:00, ?it/s]"
      ]
     },
     "metadata": {},
     "output_type": "display_data"
    },
    {
     "data": {
      "application/vnd.jupyter.widget-view+json": {
       "model_id": "217cc0cc49d94fd193392979ed3369cd",
       "version_major": 2,
       "version_minor": 0
      },
      "text/plain": [
       "backward: 0it [00:00, ?it/s]"
      ]
     },
     "metadata": {},
     "output_type": "display_data"
    },
    {
     "name": "stdout",
     "output_type": "stream",
     "text": [
      "1: [150,325]\n"
     ]
    },
    {
     "data": {
      "application/vnd.jupyter.widget-view+json": {
       "model_id": "b38a63417dff42368ebd0bde5b2fdc4f",
       "version_major": 2,
       "version_minor": 0
      },
      "text/plain": [
       "forward: 0it [00:00, ?it/s]"
      ]
     },
     "metadata": {},
     "output_type": "display_data"
    },
    {
     "data": {
      "application/vnd.jupyter.widget-view+json": {
       "model_id": "09921c8d84b24b32a18bf0dc744c02a0",
       "version_major": 2,
       "version_minor": 0
      },
      "text/plain": [
       "backward: 0it [00:00, ?it/s]"
      ]
     },
     "metadata": {},
     "output_type": "display_data"
    },
    {
     "data": {
      "application/vnd.jupyter.widget-view+json": {
       "model_id": "c97d4cfd849243859c6c6241599d6f4e",
       "version_major": 2,
       "version_minor": 0
      },
      "text/plain": [
       "backward: 0it [00:00, ?it/s]"
      ]
     },
     "metadata": {},
     "output_type": "display_data"
    },
    {
     "name": "stdout",
     "output_type": "stream",
     "text": [
      "2: [224,325]\n"
     ]
    },
    {
     "data": {
      "application/vnd.jupyter.widget-view+json": {
       "model_id": "7df3f7a5911e42e597da8e22fd9d5583",
       "version_major": 2,
       "version_minor": 0
      },
      "text/plain": [
       "forward: 0it [00:00, ?it/s]"
      ]
     },
     "metadata": {},
     "output_type": "display_data"
    },
    {
     "name": "stdout",
     "output_type": "stream",
     "text": [
      "scene id 6\n",
      "scene name rubik\n",
      "niter: [start, end]\n",
      "0: [0,526]\n"
     ]
    },
    {
     "data": {
      "application/vnd.jupyter.widget-view+json": {
       "model_id": "19221810e913468e9921bfb8aa072d4d",
       "version_major": 2,
       "version_minor": 0
      },
      "text/plain": [
       "forward: 0it [00:00, ?it/s]"
      ]
     },
     "metadata": {},
     "output_type": "display_data"
    },
    {
     "data": {
      "application/vnd.jupyter.widget-view+json": {
       "model_id": "a567b8f70f8b4eb0a483341d81df99af",
       "version_major": 2,
       "version_minor": 0
      },
      "text/plain": [
       "backward: 0it [00:00, ?it/s]"
      ]
     },
     "metadata": {},
     "output_type": "display_data"
    },
    {
     "name": "stdout",
     "output_type": "stream",
     "text": [
      "scene id 7\n",
      "scene name pedestrain\n",
      "niter: [start, end]\n",
      "0: [0,306]\n"
     ]
    },
    {
     "data": {
      "application/vnd.jupyter.widget-view+json": {
       "model_id": "45aaf7c22b1741aa9397292f9bb62bf2",
       "version_major": 2,
       "version_minor": 0
      },
      "text/plain": [
       "forward: 0it [00:00, ?it/s]"
      ]
     },
     "metadata": {},
     "output_type": "display_data"
    },
    {
     "data": {
      "application/vnd.jupyter.widget-view+json": {
       "model_id": "d4a4bafd9cfd40048df10266f017ec52",
       "version_major": 2,
       "version_minor": 0
      },
      "text/plain": [
       "backward: 0it [00:00, ?it/s]"
      ]
     },
     "metadata": {},
     "output_type": "display_data"
    },
    {
     "name": "stdout",
     "output_type": "stream",
     "text": [
      "scene id 8\n",
      "scene name card\n",
      "niter: [start, end]\n",
      "0: [0,930]\n"
     ]
    },
    {
     "data": {
      "application/vnd.jupyter.widget-view+json": {
       "model_id": "e47c06967a6e4826bad7f5a8246c1c2d",
       "version_major": 2,
       "version_minor": 0
      },
      "text/plain": [
       "forward: 0it [00:00, ?it/s]"
      ]
     },
     "metadata": {},
     "output_type": "display_data"
    },
    {
     "data": {
      "application/vnd.jupyter.widget-view+json": {
       "model_id": "fc216f576bb44372929ca8021edebbd1",
       "version_major": 2,
       "version_minor": 0
      },
      "text/plain": [
       "backward: 0it [00:00, ?it/s]"
      ]
     },
     "metadata": {},
     "output_type": "display_data"
    },
    {
     "data": {
      "application/vnd.jupyter.widget-view+json": {
       "model_id": "62db80b8edb442d1b44d4761c973d8eb",
       "version_major": 2,
       "version_minor": 0
      },
      "text/plain": [
       "backward: 0it [00:00, ?it/s]"
      ]
     },
     "metadata": {},
     "output_type": "display_data"
    },
    {
     "data": {
      "application/vnd.jupyter.widget-view+json": {
       "model_id": "f28a2981d7cc4f3c91e176285ccb7471",
       "version_major": 2,
       "version_minor": 0
      },
      "text/plain": [
       "backward: 0it [00:00, ?it/s]"
      ]
     },
     "metadata": {},
     "output_type": "display_data"
    },
    {
     "name": "stdout",
     "output_type": "stream",
     "text": [
      "1: [221,930]\n"
     ]
    },
    {
     "data": {
      "application/vnd.jupyter.widget-view+json": {
       "model_id": "1d33d1ac96e6427abae5b8d4b8fa84c8",
       "version_major": 2,
       "version_minor": 0
      },
      "text/plain": [
       "forward: 0it [00:00, ?it/s]"
      ]
     },
     "metadata": {},
     "output_type": "display_data"
    },
    {
     "data": {
      "application/vnd.jupyter.widget-view+json": {
       "model_id": "1cd43077b7d744e488ba7be3f6f8c6dc",
       "version_major": 2,
       "version_minor": 0
      },
      "text/plain": [
       "backward: 0it [00:00, ?it/s]"
      ]
     },
     "metadata": {},
     "output_type": "display_data"
    },
    {
     "data": {
      "application/vnd.jupyter.widget-view+json": {
       "model_id": "26156ae8784b4a089b24f521e2e9fc52",
       "version_major": 2,
       "version_minor": 0
      },
      "text/plain": [
       "backward: 0it [00:00, ?it/s]"
      ]
     },
     "metadata": {},
     "output_type": "display_data"
    },
    {
     "data": {
      "application/vnd.jupyter.widget-view+json": {
       "model_id": "3dd08a7edfe849fba4797f75ce7efe19",
       "version_major": 2,
       "version_minor": 0
      },
      "text/plain": [
       "backward: 0it [00:00, ?it/s]"
      ]
     },
     "metadata": {},
     "output_type": "display_data"
    },
    {
     "data": {
      "application/vnd.jupyter.widget-view+json": {
       "model_id": "3d23369caa47446c9ae08a17ab348260",
       "version_major": 2,
       "version_minor": 0
      },
      "text/plain": [
       "backward: 0it [00:00, ?it/s]"
      ]
     },
     "metadata": {},
     "output_type": "display_data"
    },
    {
     "data": {
      "application/vnd.jupyter.widget-view+json": {
       "model_id": "28bc32e634f34398b7fa2b8f9c150cb8",
       "version_major": 2,
       "version_minor": 0
      },
      "text/plain": [
       "backward: 0it [00:00, ?it/s]"
      ]
     },
     "metadata": {},
     "output_type": "display_data"
    },
    {
     "name": "stdout",
     "output_type": "stream",
     "text": [
      "2: [235,930]\n"
     ]
    },
    {
     "data": {
      "application/vnd.jupyter.widget-view+json": {
       "model_id": "1cd04ac1f03f42ddae502fab5ebd6322",
       "version_major": 2,
       "version_minor": 0
      },
      "text/plain": [
       "forward: 0it [00:00, ?it/s]"
      ]
     },
     "metadata": {},
     "output_type": "display_data"
    },
    {
     "name": "stdout",
     "output_type": "stream",
     "text": [
      "scene id 9\n",
      "scene name pedestrian2\n",
      "niter: [start, end]\n",
      "0: [0,363]\n"
     ]
    },
    {
     "data": {
      "application/vnd.jupyter.widget-view+json": {
       "model_id": "61e6413632364d61abc81dc4d01ca529",
       "version_major": 2,
       "version_minor": 0
      },
      "text/plain": [
       "forward: 0it [00:00, ?it/s]"
      ]
     },
     "metadata": {},
     "output_type": "display_data"
    },
    {
     "data": {
      "application/vnd.jupyter.widget-view+json": {
       "model_id": "ffd5ab2619b541269d45496c7a991ce2",
       "version_major": 2,
       "version_minor": 0
      },
      "text/plain": [
       "backward: 0it [00:00, ?it/s]"
      ]
     },
     "metadata": {},
     "output_type": "display_data"
    },
    {
     "data": {
      "application/vnd.jupyter.widget-view+json": {
       "model_id": "e6d09dc362d6412aaa32fc28c6ac593b",
       "version_major": 2,
       "version_minor": 0
      },
      "text/plain": [
       "backward: 0it [00:00, ?it/s]"
      ]
     },
     "metadata": {},
     "output_type": "display_data"
    },
    {
     "name": "stdout",
     "output_type": "stream",
     "text": [
      "1: [133,363]\n"
     ]
    },
    {
     "data": {
      "application/vnd.jupyter.widget-view+json": {
       "model_id": "38b4d3020f054b548bc6d0fcd6295519",
       "version_major": 2,
       "version_minor": 0
      },
      "text/plain": [
       "forward: 0it [00:00, ?it/s]"
      ]
     },
     "metadata": {},
     "output_type": "display_data"
    },
    {
     "data": {
      "application/vnd.jupyter.widget-view+json": {
       "model_id": "1be3a0199cd4490994ae9c80397fcfa1",
       "version_major": 2,
       "version_minor": 0
      },
      "text/plain": [
       "backward: 0it [00:00, ?it/s]"
      ]
     },
     "metadata": {},
     "output_type": "display_data"
    },
    {
     "data": {
      "application/vnd.jupyter.widget-view+json": {
       "model_id": "18407c447d0a42f2b961627a5fcc8b25",
       "version_major": 2,
       "version_minor": 0
      },
      "text/plain": [
       "backward: 0it [00:00, ?it/s]"
      ]
     },
     "metadata": {},
     "output_type": "display_data"
    },
    {
     "name": "stdout",
     "output_type": "stream",
     "text": [
      "2: [197,363]\n"
     ]
    },
    {
     "data": {
      "application/vnd.jupyter.widget-view+json": {
       "model_id": "002692550171409b925364df53ebdc0e",
       "version_major": 2,
       "version_minor": 0
      },
      "text/plain": [
       "forward: 0it [00:00, ?it/s]"
      ]
     },
     "metadata": {},
     "output_type": "display_data"
    },
    {
     "name": "stdout",
     "output_type": "stream",
     "text": [
      "scene id 10\n",
      "scene name basketball\n",
      "niter: [start, end]\n",
      "0: [0,186]\n"
     ]
    },
    {
     "data": {
      "application/vnd.jupyter.widget-view+json": {
       "model_id": "ef65e2bddc9a44df81da579e68757f20",
       "version_major": 2,
       "version_minor": 0
      },
      "text/plain": [
       "forward: 0it [00:00, ?it/s]"
      ]
     },
     "metadata": {},
     "output_type": "display_data"
    },
    {
     "data": {
      "application/vnd.jupyter.widget-view+json": {
       "model_id": "86ee8a896ca04349b015d4d2020dd52a",
       "version_major": 2,
       "version_minor": 0
      },
      "text/plain": [
       "backward: 0it [00:00, ?it/s]"
      ]
     },
     "metadata": {},
     "output_type": "display_data"
    },
    {
     "data": {
      "application/vnd.jupyter.widget-view+json": {
       "model_id": "7f88a3c652f841018cbc86ff6c330f72",
       "version_major": 2,
       "version_minor": 0
      },
      "text/plain": [
       "backward: 0it [00:00, ?it/s]"
      ]
     },
     "metadata": {},
     "output_type": "display_data"
    },
    {
     "name": "stdout",
     "output_type": "stream",
     "text": [
      "1: [37,186]\n"
     ]
    },
    {
     "data": {
      "application/vnd.jupyter.widget-view+json": {
       "model_id": "12d3a478836f4515ac9456bb89fab1bc",
       "version_major": 2,
       "version_minor": 0
      },
      "text/plain": [
       "forward: 0it [00:00, ?it/s]"
      ]
     },
     "metadata": {},
     "output_type": "display_data"
    },
    {
     "data": {
      "application/vnd.jupyter.widget-view+json": {
       "model_id": "ce76123bf8a6401b8a619fd4da66f0c6",
       "version_major": 2,
       "version_minor": 0
      },
      "text/plain": [
       "backward: 0it [00:00, ?it/s]"
      ]
     },
     "metadata": {},
     "output_type": "display_data"
    },
    {
     "data": {
      "application/vnd.jupyter.widget-view+json": {
       "model_id": "0f1acb3501bc421d97c9b48a0eef00b9",
       "version_major": 2,
       "version_minor": 0
      },
      "text/plain": [
       "backward: 0it [00:00, ?it/s]"
      ]
     },
     "metadata": {},
     "output_type": "display_data"
    },
    {
     "name": "stdout",
     "output_type": "stream",
     "text": [
      "2: [54,186]\n"
     ]
    },
    {
     "data": {
      "application/vnd.jupyter.widget-view+json": {
       "model_id": "97e5089f8e9b48be90a968745622fb6f",
       "version_major": 2,
       "version_minor": 0
      },
      "text/plain": [
       "forward: 0it [00:00, ?it/s]"
      ]
     },
     "metadata": {},
     "output_type": "display_data"
    },
    {
     "name": "stdout",
     "output_type": "stream",
     "text": [
      "scene id 11\n",
      "scene name student\n",
      "niter: [start, end]\n",
      "0: [0,396]\n"
     ]
    },
    {
     "data": {
      "application/vnd.jupyter.widget-view+json": {
       "model_id": "e6d450b28a614ffe8c6790a951b94816",
       "version_major": 2,
       "version_minor": 0
      },
      "text/plain": [
       "forward: 0it [00:00, ?it/s]"
      ]
     },
     "metadata": {},
     "output_type": "display_data"
    },
    {
     "data": {
      "application/vnd.jupyter.widget-view+json": {
       "model_id": "fba83329e1074cd9a6e3a1f2cce90cdf",
       "version_major": 2,
       "version_minor": 0
      },
      "text/plain": [
       "backward: 0it [00:00, ?it/s]"
      ]
     },
     "metadata": {},
     "output_type": "display_data"
    },
    {
     "name": "stdout",
     "output_type": "stream",
     "text": [
      "scene id 12\n",
      "scene name rainystreet16\n",
      "niter: [start, end]\n",
      "0: [0,400]\n"
     ]
    },
    {
     "data": {
      "application/vnd.jupyter.widget-view+json": {
       "model_id": "1aa9321af474494a89997ba345f3d83b",
       "version_major": 2,
       "version_minor": 0
      },
      "text/plain": [
       "forward: 0it [00:00, ?it/s]"
      ]
     },
     "metadata": {},
     "output_type": "display_data"
    },
    {
     "data": {
      "application/vnd.jupyter.widget-view+json": {
       "model_id": "1b8574f4fe304417be1944c80d36fdea",
       "version_major": 2,
       "version_minor": 0
      },
      "text/plain": [
       "backward: 0it [00:00, ?it/s]"
      ]
     },
     "metadata": {},
     "output_type": "display_data"
    },
    {
     "data": {
      "application/vnd.jupyter.widget-view+json": {
       "model_id": "66ab2305fd7e4fde85907cdbae448f72",
       "version_major": 2,
       "version_minor": 0
      },
      "text/plain": [
       "backward: 0it [00:00, ?it/s]"
      ]
     },
     "metadata": {},
     "output_type": "display_data"
    },
    {
     "data": {
      "application/vnd.jupyter.widget-view+json": {
       "model_id": "d5b9c00d4ea54f78adc89ffdefa8fd53",
       "version_major": 2,
       "version_minor": 0
      },
      "text/plain": [
       "backward: 0it [00:00, ?it/s]"
      ]
     },
     "metadata": {},
     "output_type": "display_data"
    },
    {
     "name": "stdout",
     "output_type": "stream",
     "text": [
      "1: [87,400]\n"
     ]
    },
    {
     "data": {
      "application/vnd.jupyter.widget-view+json": {
       "model_id": "2e7eb8a7c03a41638c78d031eaaeb01c",
       "version_major": 2,
       "version_minor": 0
      },
      "text/plain": [
       "forward: 0it [00:00, ?it/s]"
      ]
     },
     "metadata": {},
     "output_type": "display_data"
    },
    {
     "data": {
      "application/vnd.jupyter.widget-view+json": {
       "model_id": "c49a196f360549cbbd6bd9dfd6bab3f9",
       "version_major": 2,
       "version_minor": 0
      },
      "text/plain": [
       "backward: 0it [00:00, ?it/s]"
      ]
     },
     "metadata": {},
     "output_type": "display_data"
    },
    {
     "data": {
      "application/vnd.jupyter.widget-view+json": {
       "model_id": "7af3713ecdc141df8732d84debf0f349",
       "version_major": 2,
       "version_minor": 0
      },
      "text/plain": [
       "backward: 0it [00:00, ?it/s]"
      ]
     },
     "metadata": {},
     "output_type": "display_data"
    },
    {
     "data": {
      "application/vnd.jupyter.widget-view+json": {
       "model_id": "bb143dfb841e4734811d69fe8745f825",
       "version_major": 2,
       "version_minor": 0
      },
      "text/plain": [
       "backward: 0it [00:00, ?it/s]"
      ]
     },
     "metadata": {},
     "output_type": "display_data"
    },
    {
     "name": "stdout",
     "output_type": "stream",
     "text": [
      "2: [152,400]\n"
     ]
    },
    {
     "data": {
      "application/vnd.jupyter.widget-view+json": {
       "model_id": "18775544642d43b99412f015f8183ec8",
       "version_major": 2,
       "version_minor": 0
      },
      "text/plain": [
       "forward: 0it [00:00, ?it/s]"
      ]
     },
     "metadata": {},
     "output_type": "display_data"
    },
    {
     "name": "stdout",
     "output_type": "stream",
     "text": [
      "scene id 13\n",
      "scene name board\n",
      "niter: [start, end]\n",
      "0: [0,471]\n"
     ]
    },
    {
     "data": {
      "application/vnd.jupyter.widget-view+json": {
       "model_id": "d9026998a1ab4c3e92772f18288fa0f3",
       "version_major": 2,
       "version_minor": 0
      },
      "text/plain": [
       "forward: 0it [00:00, ?it/s]"
      ]
     },
     "metadata": {},
     "output_type": "display_data"
    },
    {
     "data": {
      "application/vnd.jupyter.widget-view+json": {
       "model_id": "072d655d5da746afbc3e80abece412ea",
       "version_major": 2,
       "version_minor": 0
      },
      "text/plain": [
       "backward: 0it [00:00, ?it/s]"
      ]
     },
     "metadata": {},
     "output_type": "display_data"
    },
    {
     "name": "stdout",
     "output_type": "stream",
     "text": [
      "scene id 14\n",
      "scene name ball&mirror9\n",
      "niter: [start, end]\n",
      "0: [0,250]\n"
     ]
    },
    {
     "data": {
      "application/vnd.jupyter.widget-view+json": {
       "model_id": "4cc21ef7895243138ba10d9d578ea72a",
       "version_major": 2,
       "version_minor": 0
      },
      "text/plain": [
       "forward: 0it [00:00, ?it/s]"
      ]
     },
     "metadata": {},
     "output_type": "display_data"
    },
    {
     "data": {
      "application/vnd.jupyter.widget-view+json": {
       "model_id": "e00ffd95a2504c19ac4190c0a5fd6f6a",
       "version_major": 2,
       "version_minor": 0
      },
      "text/plain": [
       "backward: 0it [00:00, ?it/s]"
      ]
     },
     "metadata": {},
     "output_type": "display_data"
    },
    {
     "data": {
      "application/vnd.jupyter.widget-view+json": {
       "model_id": "5147beaf4bc9425291f445106275caa6",
       "version_major": 2,
       "version_minor": 0
      },
      "text/plain": [
       "backward: 0it [00:00, ?it/s]"
      ]
     },
     "metadata": {},
     "output_type": "display_data"
    },
    {
     "name": "stdout",
     "output_type": "stream",
     "text": [
      "1: [40,250]\n"
     ]
    },
    {
     "data": {
      "application/vnd.jupyter.widget-view+json": {
       "model_id": "1c4d72e284d0474eb459330395a0491a",
       "version_major": 2,
       "version_minor": 0
      },
      "text/plain": [
       "forward: 0it [00:00, ?it/s]"
      ]
     },
     "metadata": {},
     "output_type": "display_data"
    },
    {
     "data": {
      "application/vnd.jupyter.widget-view+json": {
       "model_id": "506b18e6b57c4ecca42e9bfa8da7e3b9",
       "version_major": 2,
       "version_minor": 0
      },
      "text/plain": [
       "backward: 0it [00:00, ?it/s]"
      ]
     },
     "metadata": {},
     "output_type": "display_data"
    },
    {
     "data": {
      "application/vnd.jupyter.widget-view+json": {
       "model_id": "5f3de412048d4c47bd1eda218b23f772",
       "version_major": 2,
       "version_minor": 0
      },
      "text/plain": [
       "backward: 0it [00:00, ?it/s]"
      ]
     },
     "metadata": {},
     "output_type": "display_data"
    },
    {
     "name": "stdout",
     "output_type": "stream",
     "text": [
      "2: [60,250]\n"
     ]
    },
    {
     "data": {
      "application/vnd.jupyter.widget-view+json": {
       "model_id": "dd4d2d8e918e46f893a93a7c072d1510",
       "version_major": 2,
       "version_minor": 0
      },
      "text/plain": [
       "forward: 0it [00:00, ?it/s]"
      ]
     },
     "metadata": {},
     "output_type": "display_data"
    },
    {
     "name": "stdout",
     "output_type": "stream",
     "text": [
      "scene id 15\n",
      "scene name pool10\n",
      "niter: [start, end]\n",
      "0: [0,250]\n"
     ]
    },
    {
     "data": {
      "application/vnd.jupyter.widget-view+json": {
       "model_id": "d7b6ba89127d48c8a397c342d6ff3dd0",
       "version_major": 2,
       "version_minor": 0
      },
      "text/plain": [
       "forward: 0it [00:00, ?it/s]"
      ]
     },
     "metadata": {},
     "output_type": "display_data"
    },
    {
     "data": {
      "application/vnd.jupyter.widget-view+json": {
       "model_id": "c2ca1da387aa409d84813e79bbddddf1",
       "version_major": 2,
       "version_minor": 0
      },
      "text/plain": [
       "backward: 0it [00:00, ?it/s]"
      ]
     },
     "metadata": {},
     "output_type": "display_data"
    },
    {
     "data": {
      "application/vnd.jupyter.widget-view+json": {
       "model_id": "bf826e4798584d159aecb8e082e75ea6",
       "version_major": 2,
       "version_minor": 0
      },
      "text/plain": [
       "backward: 0it [00:00, ?it/s]"
      ]
     },
     "metadata": {},
     "output_type": "display_data"
    },
    {
     "data": {
      "application/vnd.jupyter.widget-view+json": {
       "model_id": "eb8c8f5763784cf3b9d94e82165bfa06",
       "version_major": 2,
       "version_minor": 0
      },
      "text/plain": [
       "backward: 0it [00:00, ?it/s]"
      ]
     },
     "metadata": {},
     "output_type": "display_data"
    },
    {
     "name": "stdout",
     "output_type": "stream",
     "text": [
      "1: [39,250]\n"
     ]
    },
    {
     "data": {
      "application/vnd.jupyter.widget-view+json": {
       "model_id": "6ed28836f8b948e290e4100216b5b3b3",
       "version_major": 2,
       "version_minor": 0
      },
      "text/plain": [
       "forward: 0it [00:00, ?it/s]"
      ]
     },
     "metadata": {},
     "output_type": "display_data"
    },
    {
     "data": {
      "application/vnd.jupyter.widget-view+json": {
       "model_id": "a255ce8d5e61418d80e66e703fe2e82d",
       "version_major": 2,
       "version_minor": 0
      },
      "text/plain": [
       "backward: 0it [00:00, ?it/s]"
      ]
     },
     "metadata": {},
     "output_type": "display_data"
    },
    {
     "data": {
      "application/vnd.jupyter.widget-view+json": {
       "model_id": "fc4260804649415abeb7769593163d6c",
       "version_major": 2,
       "version_minor": 0
      },
      "text/plain": [
       "backward: 0it [00:00, ?it/s]"
      ]
     },
     "metadata": {},
     "output_type": "display_data"
    },
    {
     "data": {
      "application/vnd.jupyter.widget-view+json": {
       "model_id": "776a0f7339d94bd09a4a659759c5d97c",
       "version_major": 2,
       "version_minor": 0
      },
      "text/plain": [
       "backward: 0it [00:00, ?it/s]"
      ]
     },
     "metadata": {},
     "output_type": "display_data"
    },
    {
     "name": "stdout",
     "output_type": "stream",
     "text": [
      "2: [71,250]\n"
     ]
    },
    {
     "data": {
      "application/vnd.jupyter.widget-view+json": {
       "model_id": "96042a2289264b3788746bba4ce3b79b",
       "version_major": 2,
       "version_minor": 0
      },
      "text/plain": [
       "forward: 0it [00:00, ?it/s]"
      ]
     },
     "metadata": {},
     "output_type": "display_data"
    },
    {
     "name": "stdout",
     "output_type": "stream",
     "text": [
      "scene id 16\n",
      "scene name worker\n",
      "niter: [start, end]\n",
      "0: [0,1209]\n"
     ]
    },
    {
     "data": {
      "application/vnd.jupyter.widget-view+json": {
       "model_id": "fa9fe0b60c7f469e85023c29efd29fdd",
       "version_major": 2,
       "version_minor": 0
      },
      "text/plain": [
       "forward: 0it [00:00, ?it/s]"
      ]
     },
     "metadata": {},
     "output_type": "display_data"
    },
    {
     "data": {
      "application/vnd.jupyter.widget-view+json": {
       "model_id": "aceaaab04d614d95bcc0e146dcbdafaf",
       "version_major": 2,
       "version_minor": 0
      },
      "text/plain": [
       "backward: 0it [00:00, ?it/s]"
      ]
     },
     "metadata": {},
     "output_type": "display_data"
    },
    {
     "data": {
      "application/vnd.jupyter.widget-view+json": {
       "model_id": "28a80dd67fdc4ecc998413a4df44bf5b",
       "version_major": 2,
       "version_minor": 0
      },
      "text/plain": [
       "backward: 0it [00:00, ?it/s]"
      ]
     },
     "metadata": {},
     "output_type": "display_data"
    },
    {
     "name": "stdout",
     "output_type": "stream",
     "text": [
      "1: [114,1209]\n"
     ]
    },
    {
     "data": {
      "application/vnd.jupyter.widget-view+json": {
       "model_id": "d9a5e1b8db3448738d1227d45f751b91",
       "version_major": 2,
       "version_minor": 0
      },
      "text/plain": [
       "forward: 0it [00:00, ?it/s]"
      ]
     },
     "metadata": {},
     "output_type": "display_data"
    },
    {
     "data": {
      "application/vnd.jupyter.widget-view+json": {
       "model_id": "d2048f62d515434a8dd975e0b531bb7d",
       "version_major": 2,
       "version_minor": 0
      },
      "text/plain": [
       "backward: 0it [00:00, ?it/s]"
      ]
     },
     "metadata": {},
     "output_type": "display_data"
    },
    {
     "data": {
      "application/vnd.jupyter.widget-view+json": {
       "model_id": "e03d60aaebbf41d68a490b4d75bea5dd",
       "version_major": 2,
       "version_minor": 0
      },
      "text/plain": [
       "backward: 0it [00:00, ?it/s]"
      ]
     },
     "metadata": {},
     "output_type": "display_data"
    },
    {
     "data": {
      "application/vnd.jupyter.widget-view+json": {
       "model_id": "9a0e7ab6763a4aaca370170632a501e2",
       "version_major": 2,
       "version_minor": 0
      },
      "text/plain": [
       "backward: 0it [00:00, ?it/s]"
      ]
     },
     "metadata": {},
     "output_type": "display_data"
    },
    {
     "data": {
      "application/vnd.jupyter.widget-view+json": {
       "model_id": "8be135887e374997a83ea32296a369bc",
       "version_major": 2,
       "version_minor": 0
      },
      "text/plain": [
       "backward: 0it [00:00, ?it/s]"
      ]
     },
     "metadata": {},
     "output_type": "display_data"
    },
    {
     "name": "stdout",
     "output_type": "stream",
     "text": [
      "2: [176,1209]\n"
     ]
    },
    {
     "data": {
      "application/vnd.jupyter.widget-view+json": {
       "model_id": "40eb4c1377a84ff4a222190c244b6533",
       "version_major": 2,
       "version_minor": 0
      },
      "text/plain": [
       "forward: 0it [00:00, ?it/s]"
      ]
     },
     "metadata": {},
     "output_type": "display_data"
    },
    {
     "name": "stdout",
     "output_type": "stream",
     "text": [
      "scene id 17\n",
      "scene name forest\n",
      "niter: [start, end]\n",
      "0: [0,530]\n"
     ]
    },
    {
     "data": {
      "application/vnd.jupyter.widget-view+json": {
       "model_id": "c38fa5db98a84f1b935ed0533970a3c5",
       "version_major": 2,
       "version_minor": 0
      },
      "text/plain": [
       "forward: 0it [00:00, ?it/s]"
      ]
     },
     "metadata": {},
     "output_type": "display_data"
    },
    {
     "data": {
      "application/vnd.jupyter.widget-view+json": {
       "model_id": "88b7923282ca455691e59d6f587d1137",
       "version_major": 2,
       "version_minor": 0
      },
      "text/plain": [
       "backward: 0it [00:00, ?it/s]"
      ]
     },
     "metadata": {},
     "output_type": "display_data"
    },
    {
     "name": "stdout",
     "output_type": "stream",
     "text": [
      "scene id 18\n",
      "scene name kangaroo\n",
      "niter: [start, end]\n",
      "0: [0,117]\n"
     ]
    },
    {
     "data": {
      "application/vnd.jupyter.widget-view+json": {
       "model_id": "df05129e054440afb76835ef550b7532",
       "version_major": 2,
       "version_minor": 0
      },
      "text/plain": [
       "forward: 0it [00:00, ?it/s]"
      ]
     },
     "metadata": {},
     "output_type": "display_data"
    },
    {
     "data": {
      "application/vnd.jupyter.widget-view+json": {
       "model_id": "b8e14a7460de4e0b80f920b2a3190cf4",
       "version_major": 2,
       "version_minor": 0
      },
      "text/plain": [
       "backward: 0it [00:00, ?it/s]"
      ]
     },
     "metadata": {},
     "output_type": "display_data"
    },
    {
     "data": {
      "application/vnd.jupyter.widget-view+json": {
       "model_id": "029552df5f044659afd7ac0c378252a7",
       "version_major": 2,
       "version_minor": 0
      },
      "text/plain": [
       "backward: 0it [00:00, ?it/s]"
      ]
     },
     "metadata": {},
     "output_type": "display_data"
    },
    {
     "name": "stdout",
     "output_type": "stream",
     "text": [
      "1: [44,117]\n"
     ]
    },
    {
     "data": {
      "application/vnd.jupyter.widget-view+json": {
       "model_id": "88dab3024b554a05bd599666b2308278",
       "version_major": 2,
       "version_minor": 0
      },
      "text/plain": [
       "forward: 0it [00:00, ?it/s]"
      ]
     },
     "metadata": {},
     "output_type": "display_data"
    },
    {
     "data": {
      "application/vnd.jupyter.widget-view+json": {
       "model_id": "a7954db7bee844c3afb54fed089c67e6",
       "version_major": 2,
       "version_minor": 0
      },
      "text/plain": [
       "backward: 0it [00:00, ?it/s]"
      ]
     },
     "metadata": {},
     "output_type": "display_data"
    },
    {
     "data": {
      "application/vnd.jupyter.widget-view+json": {
       "model_id": "d146fc0e019042cca316f09c6bce83b2",
       "version_major": 2,
       "version_minor": 0
      },
      "text/plain": [
       "backward: 0it [00:00, ?it/s]"
      ]
     },
     "metadata": {},
     "output_type": "display_data"
    },
    {
     "name": "stdout",
     "output_type": "stream",
     "text": [
      "2: [65,117]\n"
     ]
    },
    {
     "data": {
      "application/vnd.jupyter.widget-view+json": {
       "model_id": "768e6e6e18104885a305523e0c09f9c7",
       "version_major": 2,
       "version_minor": 0
      },
      "text/plain": [
       "forward: 0it [00:00, ?it/s]"
      ]
     },
     "metadata": {},
     "output_type": "display_data"
    },
    {
     "name": "stdout",
     "output_type": "stream",
     "text": [
      "scene id 19\n",
      "scene name excavator\n",
      "niter: [start, end]\n",
      "0: [0,501]\n"
     ]
    },
    {
     "data": {
      "application/vnd.jupyter.widget-view+json": {
       "model_id": "d1de8c13074a4c16815513d2d57939c9",
       "version_major": 2,
       "version_minor": 0
      },
      "text/plain": [
       "forward: 0it [00:00, ?it/s]"
      ]
     },
     "metadata": {},
     "output_type": "display_data"
    },
    {
     "data": {
      "application/vnd.jupyter.widget-view+json": {
       "model_id": "de3b87ffb7e24fb388f9bc1ee537df63",
       "version_major": 2,
       "version_minor": 0
      },
      "text/plain": [
       "backward: 0it [00:00, ?it/s]"
      ]
     },
     "metadata": {},
     "output_type": "display_data"
    },
    {
     "name": "stdout",
     "output_type": "stream",
     "text": [
      "scene id 20\n",
      "scene name playground\n",
      "niter: [start, end]\n",
      "0: [0,800]\n"
     ]
    },
    {
     "data": {
      "application/vnd.jupyter.widget-view+json": {
       "model_id": "8f14f56abf534a6eb2d9dabe95595f7d",
       "version_major": 2,
       "version_minor": 0
      },
      "text/plain": [
       "forward: 0it [00:00, ?it/s]"
      ]
     },
     "metadata": {},
     "output_type": "display_data"
    },
    {
     "data": {
      "application/vnd.jupyter.widget-view+json": {
       "model_id": "5a603da02c724c498ee3bc497f5d556f",
       "version_major": 2,
       "version_minor": 0
      },
      "text/plain": [
       "backward: 0it [00:00, ?it/s]"
      ]
     },
     "metadata": {},
     "output_type": "display_data"
    },
    {
     "data": {
      "application/vnd.jupyter.widget-view+json": {
       "model_id": "7b41a5e46d134d33b471121ba9ca6617",
       "version_major": 2,
       "version_minor": 0
      },
      "text/plain": [
       "backward: 0it [00:00, ?it/s]"
      ]
     },
     "metadata": {},
     "output_type": "display_data"
    },
    {
     "data": {
      "application/vnd.jupyter.widget-view+json": {
       "model_id": "c3d1ac13c3984ae3a6367c4a1d9cd3fa",
       "version_major": 2,
       "version_minor": 0
      },
      "text/plain": [
       "backward: 0it [00:00, ?it/s]"
      ]
     },
     "metadata": {},
     "output_type": "display_data"
    },
    {
     "data": {
      "application/vnd.jupyter.widget-view+json": {
       "model_id": "2f62a9cf76074a8e8c17caaf5186827a",
       "version_major": 2,
       "version_minor": 0
      },
      "text/plain": [
       "backward: 0it [00:00, ?it/s]"
      ]
     },
     "metadata": {},
     "output_type": "display_data"
    },
    {
     "name": "stdout",
     "output_type": "stream",
     "text": [
      "1: [88,800]\n"
     ]
    },
    {
     "data": {
      "application/vnd.jupyter.widget-view+json": {
       "model_id": "255e4b165b794611b3dbeb6003e9b17d",
       "version_major": 2,
       "version_minor": 0
      },
      "text/plain": [
       "forward: 0it [00:00, ?it/s]"
      ]
     },
     "metadata": {},
     "output_type": "display_data"
    },
    {
     "data": {
      "application/vnd.jupyter.widget-view+json": {
       "model_id": "2e8ec7bbd6e54d58bf70f9752be9ec8a",
       "version_major": 2,
       "version_minor": 0
      },
      "text/plain": [
       "backward: 0it [00:00, ?it/s]"
      ]
     },
     "metadata": {},
     "output_type": "display_data"
    },
    {
     "data": {
      "application/vnd.jupyter.widget-view+json": {
       "model_id": "72e97d2be2b04a16971eb0f3e26e3391",
       "version_major": 2,
       "version_minor": 0
      },
      "text/plain": [
       "backward: 0it [00:00, ?it/s]"
      ]
     },
     "metadata": {},
     "output_type": "display_data"
    },
    {
     "data": {
      "application/vnd.jupyter.widget-view+json": {
       "model_id": "8a17ab01f410435c942546ef9a9830ad",
       "version_major": 2,
       "version_minor": 0
      },
      "text/plain": [
       "backward: 0it [00:00, ?it/s]"
      ]
     },
     "metadata": {},
     "output_type": "display_data"
    },
    {
     "name": "stdout",
     "output_type": "stream",
     "text": [
      "2: [137,800]\n"
     ]
    },
    {
     "data": {
      "application/vnd.jupyter.widget-view+json": {
       "model_id": "1dad1e7bb50f477ebfd78802c198fdc5",
       "version_major": 2,
       "version_minor": 0
      },
      "text/plain": [
       "forward: 0it [00:00, ?it/s]"
      ]
     },
     "metadata": {},
     "output_type": "display_data"
    },
    {
     "name": "stdout",
     "output_type": "stream",
     "text": [
      "scene id 21\n",
      "scene name car\n",
      "niter: [start, end]\n",
      "0: [0,101]\n"
     ]
    },
    {
     "data": {
      "application/vnd.jupyter.widget-view+json": {
       "model_id": "d9e81a559ffa43a985f83f0f475d0a4e",
       "version_major": 2,
       "version_minor": 0
      },
      "text/plain": [
       "forward: 0it [00:00, ?it/s]"
      ]
     },
     "metadata": {},
     "output_type": "display_data"
    },
    {
     "data": {
      "application/vnd.jupyter.widget-view+json": {
       "model_id": "4fcefcd75b59478689197051c01be934",
       "version_major": 2,
       "version_minor": 0
      },
      "text/plain": [
       "backward: 0it [00:00, ?it/s]"
      ]
     },
     "metadata": {},
     "output_type": "display_data"
    },
    {
     "name": "stdout",
     "output_type": "stream",
     "text": [
      "scene id 22\n",
      "scene name face\n",
      "niter: [start, end]\n",
      "0: [0,279]\n"
     ]
    },
    {
     "data": {
      "application/vnd.jupyter.widget-view+json": {
       "model_id": "8212b705d6e343fb9766932dbea7103d",
       "version_major": 2,
       "version_minor": 0
      },
      "text/plain": [
       "forward: 0it [00:00, ?it/s]"
      ]
     },
     "metadata": {},
     "output_type": "display_data"
    },
    {
     "data": {
      "application/vnd.jupyter.widget-view+json": {
       "model_id": "6bdfd948042e4f0cb67fdc824cb8affc",
       "version_major": 2,
       "version_minor": 0
      },
      "text/plain": [
       "backward: 0it [00:00, ?it/s]"
      ]
     },
     "metadata": {},
     "output_type": "display_data"
    },
    {
     "name": "stdout",
     "output_type": "stream",
     "text": [
      "scene id 23\n",
      "scene name whitecup1\n",
      "niter: [start, end]\n",
      "0: [0,400]\n"
     ]
    },
    {
     "data": {
      "application/vnd.jupyter.widget-view+json": {
       "model_id": "91918e5dce074299ab681b3831fdbf85",
       "version_major": 2,
       "version_minor": 0
      },
      "text/plain": [
       "forward: 0it [00:00, ?it/s]"
      ]
     },
     "metadata": {},
     "output_type": "display_data"
    },
    {
     "data": {
      "application/vnd.jupyter.widget-view+json": {
       "model_id": "1f360b45543f435692f4ac1774dee1f9",
       "version_major": 2,
       "version_minor": 0
      },
      "text/plain": [
       "backward: 0it [00:00, ?it/s]"
      ]
     },
     "metadata": {},
     "output_type": "display_data"
    },
    {
     "name": "stdout",
     "output_type": "stream",
     "text": [
      "scene id 24\n",
      "scene name ball\n",
      "niter: [start, end]\n",
      "0: [0,625]\n"
     ]
    },
    {
     "data": {
      "application/vnd.jupyter.widget-view+json": {
       "model_id": "33f3a1dcdd86483e9307606cfe4e0240",
       "version_major": 2,
       "version_minor": 0
      },
      "text/plain": [
       "forward: 0it [00:00, ?it/s]"
      ]
     },
     "metadata": {},
     "output_type": "display_data"
    },
    {
     "data": {
      "application/vnd.jupyter.widget-view+json": {
       "model_id": "ef11584d52c641d88a1f9f1a6a4c2cd5",
       "version_major": 2,
       "version_minor": 0
      },
      "text/plain": [
       "backward: 0it [00:00, ?it/s]"
      ]
     },
     "metadata": {},
     "output_type": "display_data"
    },
    {
     "data": {
      "application/vnd.jupyter.widget-view+json": {
       "model_id": "550420c4825547d5bb2f1b2b0ada42bf",
       "version_major": 2,
       "version_minor": 0
      },
      "text/plain": [
       "backward: 0it [00:00, ?it/s]"
      ]
     },
     "metadata": {},
     "output_type": "display_data"
    },
    {
     "name": "stdout",
     "output_type": "stream",
     "text": [
      "1: [295,625]\n"
     ]
    },
    {
     "data": {
      "application/vnd.jupyter.widget-view+json": {
       "model_id": "e7cca811e6334efd9267ec15dcd58d10",
       "version_major": 2,
       "version_minor": 0
      },
      "text/plain": [
       "forward: 0it [00:00, ?it/s]"
      ]
     },
     "metadata": {},
     "output_type": "display_data"
    },
    {
     "data": {
      "application/vnd.jupyter.widget-view+json": {
       "model_id": "83ee7377784d4d73b2ef764cf9a47b34",
       "version_major": 2,
       "version_minor": 0
      },
      "text/plain": [
       "backward: 0it [00:00, ?it/s]"
      ]
     },
     "metadata": {},
     "output_type": "display_data"
    },
    {
     "data": {
      "application/vnd.jupyter.widget-view+json": {
       "model_id": "cffcda14578e4373a952a3cba3073386",
       "version_major": 2,
       "version_minor": 0
      },
      "text/plain": [
       "backward: 0it [00:00, ?it/s]"
      ]
     },
     "metadata": {},
     "output_type": "display_data"
    },
    {
     "name": "stdout",
     "output_type": "stream",
     "text": [
      "2: [442,625]\n"
     ]
    },
    {
     "data": {
      "application/vnd.jupyter.widget-view+json": {
       "model_id": "c19e0a5719b943afb92ca7ac34669255",
       "version_major": 2,
       "version_minor": 0
      },
      "text/plain": [
       "forward: 0it [00:00, ?it/s]"
      ]
     },
     "metadata": {},
     "output_type": "display_data"
    },
    {
     "name": "stdout",
     "output_type": "stream",
     "text": [
      "scene id 25\n",
      "scene name rider1\n",
      "niter: [start, end]\n",
      "0: [0,336]\n"
     ]
    },
    {
     "data": {
      "application/vnd.jupyter.widget-view+json": {
       "model_id": "ff6c644e3b6d43208bce43580a9d1af5",
       "version_major": 2,
       "version_minor": 0
      },
      "text/plain": [
       "forward: 0it [00:00, ?it/s]"
      ]
     },
     "metadata": {},
     "output_type": "display_data"
    },
    {
     "data": {
      "application/vnd.jupyter.widget-view+json": {
       "model_id": "32f50a0465f343c5a939614519532de5",
       "version_major": 2,
       "version_minor": 0
      },
      "text/plain": [
       "backward: 0it [00:00, ?it/s]"
      ]
     },
     "metadata": {},
     "output_type": "display_data"
    },
    {
     "data": {
      "application/vnd.jupyter.widget-view+json": {
       "model_id": "f133289f1162418e90fa3b4f4505d76c",
       "version_major": 2,
       "version_minor": 0
      },
      "text/plain": [
       "backward: 0it [00:00, ?it/s]"
      ]
     },
     "metadata": {},
     "output_type": "display_data"
    },
    {
     "name": "stdout",
     "output_type": "stream",
     "text": [
      "1: [155,336]\n"
     ]
    },
    {
     "data": {
      "application/vnd.jupyter.widget-view+json": {
       "model_id": "00ca34f5f9bd40da9ebc88d37d63ec37",
       "version_major": 2,
       "version_minor": 0
      },
      "text/plain": [
       "forward: 0it [00:00, ?it/s]"
      ]
     },
     "metadata": {},
     "output_type": "display_data"
    },
    {
     "data": {
      "application/vnd.jupyter.widget-view+json": {
       "model_id": "94fda2c56e2645bda38da9d108982c7b",
       "version_major": 2,
       "version_minor": 0
      },
      "text/plain": [
       "backward: 0it [00:00, ?it/s]"
      ]
     },
     "metadata": {},
     "output_type": "display_data"
    },
    {
     "data": {
      "application/vnd.jupyter.widget-view+json": {
       "model_id": "5011695982884938aa27dc3778ea78e4",
       "version_major": 2,
       "version_minor": 0
      },
      "text/plain": [
       "backward: 0it [00:00, ?it/s]"
      ]
     },
     "metadata": {},
     "output_type": "display_data"
    },
    {
     "name": "stdout",
     "output_type": "stream",
     "text": [
      "2: [238,336]\n"
     ]
    },
    {
     "data": {
      "application/vnd.jupyter.widget-view+json": {
       "model_id": "c87937df71ce45868d47913c91c1b3d8",
       "version_major": 2,
       "version_minor": 0
      },
      "text/plain": [
       "forward: 0it [00:00, ?it/s]"
      ]
     },
     "metadata": {},
     "output_type": "display_data"
    },
    {
     "name": "stdout",
     "output_type": "stream",
     "text": [
      "scene id 26\n",
      "scene name toy2\n",
      "niter: [start, end]\n",
      "0: [0,601]\n"
     ]
    },
    {
     "data": {
      "application/vnd.jupyter.widget-view+json": {
       "model_id": "218ffd2e13d54363bc8b8515715fb036",
       "version_major": 2,
       "version_minor": 0
      },
      "text/plain": [
       "forward: 0it [00:00, ?it/s]"
      ]
     },
     "metadata": {},
     "output_type": "display_data"
    },
    {
     "data": {
      "application/vnd.jupyter.widget-view+json": {
       "model_id": "1150cf89743f4fc38e8c74da5ff8f1a4",
       "version_major": 2,
       "version_minor": 0
      },
      "text/plain": [
       "backward: 0it [00:00, ?it/s]"
      ]
     },
     "metadata": {},
     "output_type": "display_data"
    },
    {
     "data": {
      "application/vnd.jupyter.widget-view+json": {
       "model_id": "7664ea349108431fb695a29d5cc0674b",
       "version_major": 2,
       "version_minor": 0
      },
      "text/plain": [
       "backward: 0it [00:00, ?it/s]"
      ]
     },
     "metadata": {},
     "output_type": "display_data"
    },
    {
     "name": "stdout",
     "output_type": "stream",
     "text": [
      "1: [82,601]\n"
     ]
    },
    {
     "data": {
      "application/vnd.jupyter.widget-view+json": {
       "model_id": "b66e7813cefe4337bab9e565081fb59c",
       "version_major": 2,
       "version_minor": 0
      },
      "text/plain": [
       "forward: 0it [00:00, ?it/s]"
      ]
     },
     "metadata": {},
     "output_type": "display_data"
    },
    {
     "data": {
      "application/vnd.jupyter.widget-view+json": {
       "model_id": "267f3a63dc4d478082f99e7642ea75d3",
       "version_major": 2,
       "version_minor": 0
      },
      "text/plain": [
       "backward: 0it [00:00, ?it/s]"
      ]
     },
     "metadata": {},
     "output_type": "display_data"
    },
    {
     "data": {
      "application/vnd.jupyter.widget-view+json": {
       "model_id": "0300de7ac7da493eb376fb406239f174",
       "version_major": 2,
       "version_minor": 0
      },
      "text/plain": [
       "backward: 0it [00:00, ?it/s]"
      ]
     },
     "metadata": {},
     "output_type": "display_data"
    },
    {
     "name": "stdout",
     "output_type": "stream",
     "text": [
      "2: [134,601]\n"
     ]
    },
    {
     "data": {
      "application/vnd.jupyter.widget-view+json": {
       "model_id": "eaa6e7aa9122462a9fb7c34547546312",
       "version_major": 2,
       "version_minor": 0
      },
      "text/plain": [
       "forward: 0it [00:00, ?it/s]"
      ]
     },
     "metadata": {},
     "output_type": "display_data"
    },
    {
     "name": "stdout",
     "output_type": "stream",
     "text": [
      "scene id 27\n",
      "scene name car2\n",
      "niter: [start, end]\n",
      "0: [0,131]\n"
     ]
    },
    {
     "data": {
      "application/vnd.jupyter.widget-view+json": {
       "model_id": "6fac2b86908646c1b4888cbd12f5a46d",
       "version_major": 2,
       "version_minor": 0
      },
      "text/plain": [
       "forward: 0it [00:00, ?it/s]"
      ]
     },
     "metadata": {},
     "output_type": "display_data"
    },
    {
     "data": {
      "application/vnd.jupyter.widget-view+json": {
       "model_id": "b35220ec0d2543afb690430222ff7ef0",
       "version_major": 2,
       "version_minor": 0
      },
      "text/plain": [
       "backward: 0it [00:00, ?it/s]"
      ]
     },
     "metadata": {},
     "output_type": "display_data"
    },
    {
     "data": {
      "application/vnd.jupyter.widget-view+json": {
       "model_id": "0ef43303789048b5adb93dc577f56218",
       "version_major": 2,
       "version_minor": 0
      },
      "text/plain": [
       "backward: 0it [00:00, ?it/s]"
      ]
     },
     "metadata": {},
     "output_type": "display_data"
    },
    {
     "name": "stdout",
     "output_type": "stream",
     "text": [
      "1: [45,131]\n"
     ]
    },
    {
     "data": {
      "application/vnd.jupyter.widget-view+json": {
       "model_id": "bf90addfe00b43be9f6d96e6e081a4aa",
       "version_major": 2,
       "version_minor": 0
      },
      "text/plain": [
       "forward: 0it [00:00, ?it/s]"
      ]
     },
     "metadata": {},
     "output_type": "display_data"
    },
    {
     "data": {
      "application/vnd.jupyter.widget-view+json": {
       "model_id": "dd527fe4b704474bb59f9f28b572f2c1",
       "version_major": 2,
       "version_minor": 0
      },
      "text/plain": [
       "backward: 0it [00:00, ?it/s]"
      ]
     },
     "metadata": {},
     "output_type": "display_data"
    },
    {
     "data": {
      "application/vnd.jupyter.widget-view+json": {
       "model_id": "f7dbdb5c7bdf4993b27a89cdff804774",
       "version_major": 2,
       "version_minor": 0
      },
      "text/plain": [
       "backward: 0it [00:00, ?it/s]"
      ]
     },
     "metadata": {},
     "output_type": "display_data"
    },
    {
     "name": "stdout",
     "output_type": "stream",
     "text": [
      "2: [67,131]\n"
     ]
    },
    {
     "data": {
      "application/vnd.jupyter.widget-view+json": {
       "model_id": "50d3d5749987439ea6c67be71a5f304c",
       "version_major": 2,
       "version_minor": 0
      },
      "text/plain": [
       "forward: 0it [00:00, ?it/s]"
      ]
     },
     "metadata": {},
     "output_type": "display_data"
    },
    {
     "name": "stdout",
     "output_type": "stream",
     "text": [
      "scene id 28\n",
      "scene name dice2\n",
      "niter: [start, end]\n",
      "0: [0,450]\n"
     ]
    },
    {
     "data": {
      "application/vnd.jupyter.widget-view+json": {
       "model_id": "c399a6af98a740b29ccdd4b2feb7b2be",
       "version_major": 2,
       "version_minor": 0
      },
      "text/plain": [
       "forward: 0it [00:00, ?it/s]"
      ]
     },
     "metadata": {},
     "output_type": "display_data"
    },
    {
     "data": {
      "application/vnd.jupyter.widget-view+json": {
       "model_id": "d635463f554049309f9f5b9dbca73373",
       "version_major": 2,
       "version_minor": 0
      },
      "text/plain": [
       "backward: 0it [00:00, ?it/s]"
      ]
     },
     "metadata": {},
     "output_type": "display_data"
    },
    {
     "data": {
      "application/vnd.jupyter.widget-view+json": {
       "model_id": "ad019267d73d4a88a5740a402e31d9cc",
       "version_major": 2,
       "version_minor": 0
      },
      "text/plain": [
       "backward: 0it [00:00, ?it/s]"
      ]
     },
     "metadata": {},
     "output_type": "display_data"
    },
    {
     "name": "stdout",
     "output_type": "stream",
     "text": [
      "1: [145,450]\n"
     ]
    },
    {
     "data": {
      "application/vnd.jupyter.widget-view+json": {
       "model_id": "bdbac2ef33d34b8289134d5cc974ed0c",
       "version_major": 2,
       "version_minor": 0
      },
      "text/plain": [
       "forward: 0it [00:00, ?it/s]"
      ]
     },
     "metadata": {},
     "output_type": "display_data"
    },
    {
     "data": {
      "application/vnd.jupyter.widget-view+json": {
       "model_id": "b37507a8c28b440d979efc5441e5afa7",
       "version_major": 2,
       "version_minor": 0
      },
      "text/plain": [
       "backward: 0it [00:00, ?it/s]"
      ]
     },
     "metadata": {},
     "output_type": "display_data"
    },
    {
     "data": {
      "application/vnd.jupyter.widget-view+json": {
       "model_id": "52aacaf221654512a6add5bd1867b054",
       "version_major": 2,
       "version_minor": 0
      },
      "text/plain": [
       "backward: 0it [00:00, ?it/s]"
      ]
     },
     "metadata": {},
     "output_type": "display_data"
    },
    {
     "data": {
      "application/vnd.jupyter.widget-view+json": {
       "model_id": "a9b71139d71a4c94bc5ac3ffc7b8204f",
       "version_major": 2,
       "version_minor": 0
      },
      "text/plain": [
       "backward: 0it [00:00, ?it/s]"
      ]
     },
     "metadata": {},
     "output_type": "display_data"
    },
    {
     "name": "stdout",
     "output_type": "stream",
     "text": [
      "2: [200,450]\n"
     ]
    },
    {
     "data": {
      "application/vnd.jupyter.widget-view+json": {
       "model_id": "a96c60bcf919479bb5b3a5892cf740fd",
       "version_major": 2,
       "version_minor": 0
      },
      "text/plain": [
       "forward: 0it [00:00, ?it/s]"
      ]
     },
     "metadata": {},
     "output_type": "display_data"
    },
    {
     "name": "stdout",
     "output_type": "stream",
     "text": [
      "scene id 29\n",
      "scene name partylights6\n",
      "niter: [start, end]\n",
      "0: [0,250]\n"
     ]
    },
    {
     "data": {
      "application/vnd.jupyter.widget-view+json": {
       "model_id": "f98713ec66fd45da80c7e2e45f11617f",
       "version_major": 2,
       "version_minor": 0
      },
      "text/plain": [
       "forward: 0it [00:00, ?it/s]"
      ]
     },
     "metadata": {},
     "output_type": "display_data"
    },
    {
     "data": {
      "application/vnd.jupyter.widget-view+json": {
       "model_id": "2d8675ffbba74159a400dc9ce21ce6dd",
       "version_major": 2,
       "version_minor": 0
      },
      "text/plain": [
       "backward: 0it [00:00, ?it/s]"
      ]
     },
     "metadata": {},
     "output_type": "display_data"
    },
    {
     "data": {
      "application/vnd.jupyter.widget-view+json": {
       "model_id": "5d3fde4eb8514302a9fa02cbd2c44be1",
       "version_major": 2,
       "version_minor": 0
      },
      "text/plain": [
       "backward: 0it [00:00, ?it/s]"
      ]
     },
     "metadata": {},
     "output_type": "display_data"
    },
    {
     "data": {
      "application/vnd.jupyter.widget-view+json": {
       "model_id": "00073f0a963743bb9c8d4f95b5bcf0bc",
       "version_major": 2,
       "version_minor": 0
      },
      "text/plain": [
       "backward: 0it [00:00, ?it/s]"
      ]
     },
     "metadata": {},
     "output_type": "display_data"
    },
    {
     "data": {
      "application/vnd.jupyter.widget-view+json": {
       "model_id": "85ec71a0e29543ffbd1dfa75a3091390",
       "version_major": 2,
       "version_minor": 0
      },
      "text/plain": [
       "backward: 0it [00:00, ?it/s]"
      ]
     },
     "metadata": {},
     "output_type": "display_data"
    },
    {
     "data": {
      "application/vnd.jupyter.widget-view+json": {
       "model_id": "035449cdbf134c32875d82c50cff4552",
       "version_major": 2,
       "version_minor": 0
      },
      "text/plain": [
       "backward: 0it [00:00, ?it/s]"
      ]
     },
     "metadata": {},
     "output_type": "display_data"
    },
    {
     "name": "stdout",
     "output_type": "stream",
     "text": [
      "1: [6,250]\n"
     ]
    },
    {
     "data": {
      "application/vnd.jupyter.widget-view+json": {
       "model_id": "e2e65f385d094fa790b96cab8ac126fa",
       "version_major": 2,
       "version_minor": 0
      },
      "text/plain": [
       "forward: 0it [00:00, ?it/s]"
      ]
     },
     "metadata": {},
     "output_type": "display_data"
    },
    {
     "data": {
      "application/vnd.jupyter.widget-view+json": {
       "model_id": "83fe0cfcff744524bf7f30c316b5cbbf",
       "version_major": 2,
       "version_minor": 0
      },
      "text/plain": [
       "backward: 0it [00:00, ?it/s]"
      ]
     },
     "metadata": {},
     "output_type": "display_data"
    },
    {
     "data": {
      "application/vnd.jupyter.widget-view+json": {
       "model_id": "0384f63617ee4f7ea4f05fbda98ef7f6",
       "version_major": 2,
       "version_minor": 0
      },
      "text/plain": [
       "backward: 0it [00:00, ?it/s]"
      ]
     },
     "metadata": {},
     "output_type": "display_data"
    },
    {
     "data": {
      "application/vnd.jupyter.widget-view+json": {
       "model_id": "bd8e491bcff04d61b23f2e06e5278c91",
       "version_major": 2,
       "version_minor": 0
      },
      "text/plain": [
       "backward: 0it [00:00, ?it/s]"
      ]
     },
     "metadata": {},
     "output_type": "display_data"
    },
    {
     "data": {
      "application/vnd.jupyter.widget-view+json": {
       "model_id": "23a10f4567664121bb634da0f5a9fea9",
       "version_major": 2,
       "version_minor": 0
      },
      "text/plain": [
       "backward: 0it [00:00, ?it/s]"
      ]
     },
     "metadata": {},
     "output_type": "display_data"
    },
    {
     "data": {
      "application/vnd.jupyter.widget-view+json": {
       "model_id": "1f9b31c87b9f48d5b67d61f4a81ef64b",
       "version_major": 2,
       "version_minor": 0
      },
      "text/plain": [
       "backward: 0it [00:00, ?it/s]"
      ]
     },
     "metadata": {},
     "output_type": "display_data"
    },
    {
     "data": {
      "application/vnd.jupyter.widget-view+json": {
       "model_id": "78d53d6b164f4660a7d9335d887dc097",
       "version_major": 2,
       "version_minor": 0
      },
      "text/plain": [
       "backward: 0it [00:00, ?it/s]"
      ]
     },
     "metadata": {},
     "output_type": "display_data"
    },
    {
     "name": "stdout",
     "output_type": "stream",
     "text": [
      "2: [7,250]\n"
     ]
    },
    {
     "data": {
      "application/vnd.jupyter.widget-view+json": {
       "model_id": "7eeb4ca5f3634bbdac3b1be92987d395",
       "version_major": 2,
       "version_minor": 0
      },
      "text/plain": [
       "forward: 0it [00:00, ?it/s]"
      ]
     },
     "metadata": {},
     "output_type": "display_data"
    },
    {
     "name": "stdout",
     "output_type": "stream",
     "text": [
      "scene id 30\n",
      "scene name campus\n",
      "niter: [start, end]\n",
      "0: [0,976]\n"
     ]
    },
    {
     "data": {
      "application/vnd.jupyter.widget-view+json": {
       "model_id": "297136c2c89b4efda3cc54fba89bb528",
       "version_major": 2,
       "version_minor": 0
      },
      "text/plain": [
       "forward: 0it [00:00, ?it/s]"
      ]
     },
     "metadata": {},
     "output_type": "display_data"
    },
    {
     "data": {
      "application/vnd.jupyter.widget-view+json": {
       "model_id": "05dc86330b214854bf11bdd47c8274c7",
       "version_major": 2,
       "version_minor": 0
      },
      "text/plain": [
       "backward: 0it [00:00, ?it/s]"
      ]
     },
     "metadata": {},
     "output_type": "display_data"
    },
    {
     "data": {
      "application/vnd.jupyter.widget-view+json": {
       "model_id": "d1ad1d71e6124689826df5474425245b",
       "version_major": 2,
       "version_minor": 0
      },
      "text/plain": [
       "backward: 0it [00:00, ?it/s]"
      ]
     },
     "metadata": {},
     "output_type": "display_data"
    },
    {
     "data": {
      "application/vnd.jupyter.widget-view+json": {
       "model_id": "494816ae1dfb48b591efb781b54e5ee2",
       "version_major": 2,
       "version_minor": 0
      },
      "text/plain": [
       "backward: 0it [00:00, ?it/s]"
      ]
     },
     "metadata": {},
     "output_type": "display_data"
    },
    {
     "data": {
      "application/vnd.jupyter.widget-view+json": {
       "model_id": "fe90e49f00e34d5c9e23408c79fb3ac8",
       "version_major": 2,
       "version_minor": 0
      },
      "text/plain": [
       "backward: 0it [00:00, ?it/s]"
      ]
     },
     "metadata": {},
     "output_type": "display_data"
    },
    {
     "data": {
      "application/vnd.jupyter.widget-view+json": {
       "model_id": "0a7552c380a64d179390c6b785938857",
       "version_major": 2,
       "version_minor": 0
      },
      "text/plain": [
       "backward: 0it [00:00, ?it/s]"
      ]
     },
     "metadata": {},
     "output_type": "display_data"
    },
    {
     "name": "stdout",
     "output_type": "stream",
     "text": [
      "1: [30,976]\n"
     ]
    },
    {
     "data": {
      "application/vnd.jupyter.widget-view+json": {
       "model_id": "d6b5ce5c316e415e96eb43bd89c45b99",
       "version_major": 2,
       "version_minor": 0
      },
      "text/plain": [
       "forward: 0it [00:00, ?it/s]"
      ]
     },
     "metadata": {},
     "output_type": "display_data"
    },
    {
     "data": {
      "application/vnd.jupyter.widget-view+json": {
       "model_id": "a88a0b98215143b785930bce6995e7be",
       "version_major": 2,
       "version_minor": 0
      },
      "text/plain": [
       "backward: 0it [00:00, ?it/s]"
      ]
     },
     "metadata": {},
     "output_type": "display_data"
    },
    {
     "data": {
      "application/vnd.jupyter.widget-view+json": {
       "model_id": "b174dadcdd05420ba649fcb25fbdc440",
       "version_major": 2,
       "version_minor": 0
      },
      "text/plain": [
       "backward: 0it [00:00, ?it/s]"
      ]
     },
     "metadata": {},
     "output_type": "display_data"
    },
    {
     "data": {
      "application/vnd.jupyter.widget-view+json": {
       "model_id": "254489be48904e1a9bb6accf218a5ce7",
       "version_major": 2,
       "version_minor": 0
      },
      "text/plain": [
       "backward: 0it [00:00, ?it/s]"
      ]
     },
     "metadata": {},
     "output_type": "display_data"
    },
    {
     "data": {
      "application/vnd.jupyter.widget-view+json": {
       "model_id": "07d0db9610f943778db3b9224fa6a2af",
       "version_major": 2,
       "version_minor": 0
      },
      "text/plain": [
       "backward: 0it [00:00, ?it/s]"
      ]
     },
     "metadata": {},
     "output_type": "display_data"
    },
    {
     "data": {
      "application/vnd.jupyter.widget-view+json": {
       "model_id": "110a29d799064096beab59c0fe60de1a",
       "version_major": 2,
       "version_minor": 0
      },
      "text/plain": [
       "backward: 0it [00:00, ?it/s]"
      ]
     },
     "metadata": {},
     "output_type": "display_data"
    },
    {
     "name": "stdout",
     "output_type": "stream",
     "text": [
      "2: [39,976]\n"
     ]
    },
    {
     "data": {
      "application/vnd.jupyter.widget-view+json": {
       "model_id": "5336483271e34f6baf31720e2b5ee97e",
       "version_major": 2,
       "version_minor": 0
      },
      "text/plain": [
       "forward: 0it [00:00, ?it/s]"
      ]
     },
     "metadata": {},
     "output_type": "display_data"
    },
    {
     "name": "stdout",
     "output_type": "stream",
     "text": [
      "scene id 31\n",
      "scene name book\n",
      "niter: [start, end]\n",
      "0: [0,601]\n"
     ]
    },
    {
     "data": {
      "application/vnd.jupyter.widget-view+json": {
       "model_id": "2fa82bc604694eeb8810d4d5d3553ebc",
       "version_major": 2,
       "version_minor": 0
      },
      "text/plain": [
       "forward: 0it [00:00, ?it/s]"
      ]
     },
     "metadata": {},
     "output_type": "display_data"
    },
    {
     "data": {
      "application/vnd.jupyter.widget-view+json": {
       "model_id": "aac1bedb652d4c75bed2dd2ae94e02eb",
       "version_major": 2,
       "version_minor": 0
      },
      "text/plain": [
       "backward: 0it [00:00, ?it/s]"
      ]
     },
     "metadata": {},
     "output_type": "display_data"
    },
    {
     "name": "stdout",
     "output_type": "stream",
     "text": [
      "scene id 32\n",
      "scene name rainystreet10\n",
      "niter: [start, end]\n",
      "0: [0,275]\n"
     ]
    },
    {
     "data": {
      "application/vnd.jupyter.widget-view+json": {
       "model_id": "6529a72d1d294ab68633d663cee542b8",
       "version_major": 2,
       "version_minor": 0
      },
      "text/plain": [
       "forward: 0it [00:00, ?it/s]"
      ]
     },
     "metadata": {},
     "output_type": "display_data"
    },
    {
     "data": {
      "application/vnd.jupyter.widget-view+json": {
       "model_id": "d15dfde563514400827e3f95d5fb8bbf",
       "version_major": 2,
       "version_minor": 0
      },
      "text/plain": [
       "backward: 0it [00:00, ?it/s]"
      ]
     },
     "metadata": {},
     "output_type": "display_data"
    },
    {
     "data": {
      "application/vnd.jupyter.widget-view+json": {
       "model_id": "126bfdfbac0b4bfea4b54039c377b0dc",
       "version_major": 2,
       "version_minor": 0
      },
      "text/plain": [
       "backward: 0it [00:00, ?it/s]"
      ]
     },
     "metadata": {},
     "output_type": "display_data"
    },
    {
     "data": {
      "application/vnd.jupyter.widget-view+json": {
       "model_id": "9a7d93993f3d445aa8d7692cb41de877",
       "version_major": 2,
       "version_minor": 0
      },
      "text/plain": [
       "backward: 0it [00:00, ?it/s]"
      ]
     },
     "metadata": {},
     "output_type": "display_data"
    },
    {
     "name": "stdout",
     "output_type": "stream",
     "text": [
      "1: [30,275]\n"
     ]
    },
    {
     "data": {
      "application/vnd.jupyter.widget-view+json": {
       "model_id": "ef8f471a89e240ca8f533ed120a65a3e",
       "version_major": 2,
       "version_minor": 0
      },
      "text/plain": [
       "forward: 0it [00:00, ?it/s]"
      ]
     },
     "metadata": {},
     "output_type": "display_data"
    },
    {
     "data": {
      "application/vnd.jupyter.widget-view+json": {
       "model_id": "8f08a33d1c6b4b1e8c3fa21ad4d93a67",
       "version_major": 2,
       "version_minor": 0
      },
      "text/plain": [
       "backward: 0it [00:00, ?it/s]"
      ]
     },
     "metadata": {},
     "output_type": "display_data"
    },
    {
     "data": {
      "application/vnd.jupyter.widget-view+json": {
       "model_id": "31d313275fa6417e90c4d84352f8a531",
       "version_major": 2,
       "version_minor": 0
      },
      "text/plain": [
       "backward: 0it [00:00, ?it/s]"
      ]
     },
     "metadata": {},
     "output_type": "display_data"
    },
    {
     "data": {
      "application/vnd.jupyter.widget-view+json": {
       "model_id": "5b4513882cb64936976ff14e0c2c3222",
       "version_major": 2,
       "version_minor": 0
      },
      "text/plain": [
       "backward: 0it [00:00, ?it/s]"
      ]
     },
     "metadata": {},
     "output_type": "display_data"
    },
    {
     "name": "stdout",
     "output_type": "stream",
     "text": [
      "2: [43,275]\n"
     ]
    },
    {
     "data": {
      "application/vnd.jupyter.widget-view+json": {
       "model_id": "1ab58071ec5745d4a88372eb8db995c0",
       "version_major": 2,
       "version_minor": 0
      },
      "text/plain": [
       "forward: 0it [00:00, ?it/s]"
      ]
     },
     "metadata": {},
     "output_type": "display_data"
    },
    {
     "name": "stdout",
     "output_type": "stream",
     "text": [
      "scene id 33\n",
      "scene name cards16\n",
      "niter: [start, end]\n",
      "0: [0,375]\n"
     ]
    },
    {
     "data": {
      "application/vnd.jupyter.widget-view+json": {
       "model_id": "8cf51334255c46c4a53538744588e70e",
       "version_major": 2,
       "version_minor": 0
      },
      "text/plain": [
       "forward: 0it [00:00, ?it/s]"
      ]
     },
     "metadata": {},
     "output_type": "display_data"
    },
    {
     "data": {
      "application/vnd.jupyter.widget-view+json": {
       "model_id": "2701ae9c518b408badca791227629e24",
       "version_major": 2,
       "version_minor": 0
      },
      "text/plain": [
       "backward: 0it [00:00, ?it/s]"
      ]
     },
     "metadata": {},
     "output_type": "display_data"
    },
    {
     "data": {
      "application/vnd.jupyter.widget-view+json": {
       "model_id": "020d8496020d43a3bea7c89a28de0d76",
       "version_major": 2,
       "version_minor": 0
      },
      "text/plain": [
       "backward: 0it [00:00, ?it/s]"
      ]
     },
     "metadata": {},
     "output_type": "display_data"
    },
    {
     "data": {
      "application/vnd.jupyter.widget-view+json": {
       "model_id": "a776aa4ef22e4a1dbc7ae9a684fafaab",
       "version_major": 2,
       "version_minor": 0
      },
      "text/plain": [
       "backward: 0it [00:00, ?it/s]"
      ]
     },
     "metadata": {},
     "output_type": "display_data"
    },
    {
     "name": "stdout",
     "output_type": "stream",
     "text": [
      "1: [39,375]\n"
     ]
    },
    {
     "data": {
      "application/vnd.jupyter.widget-view+json": {
       "model_id": "f868d0f323204f3893127b666f15bb8c",
       "version_major": 2,
       "version_minor": 0
      },
      "text/plain": [
       "forward: 0it [00:00, ?it/s]"
      ]
     },
     "metadata": {},
     "output_type": "display_data"
    },
    {
     "data": {
      "application/vnd.jupyter.widget-view+json": {
       "model_id": "69da43dcc006484cb92e141923b31a49",
       "version_major": 2,
       "version_minor": 0
      },
      "text/plain": [
       "backward: 0it [00:00, ?it/s]"
      ]
     },
     "metadata": {},
     "output_type": "display_data"
    },
    {
     "name": "stdout",
     "output_type": "stream",
     "text": [
      "scene id 34\n",
      "scene name rider2\n",
      "niter: [start, end]\n",
      "0: [0,210]\n"
     ]
    },
    {
     "data": {
      "application/vnd.jupyter.widget-view+json": {
       "model_id": "b5f100b0f62846f385841f82f257eb4d",
       "version_major": 2,
       "version_minor": 0
      },
      "text/plain": [
       "forward: 0it [00:00, ?it/s]"
      ]
     },
     "metadata": {},
     "output_type": "display_data"
    },
    {
     "data": {
      "application/vnd.jupyter.widget-view+json": {
       "model_id": "05500e4111a4447d92ddd8880673f412",
       "version_major": 2,
       "version_minor": 0
      },
      "text/plain": [
       "backward: 0it [00:00, ?it/s]"
      ]
     },
     "metadata": {},
     "output_type": "display_data"
    },
    {
     "data": {
      "application/vnd.jupyter.widget-view+json": {
       "model_id": "3ee162443ac94d23ba7e29a5060339d5",
       "version_major": 2,
       "version_minor": 0
      },
      "text/plain": [
       "backward: 0it [00:00, ?it/s]"
      ]
     },
     "metadata": {},
     "output_type": "display_data"
    },
    {
     "name": "stdout",
     "output_type": "stream",
     "text": [
      "1: [71,210]\n"
     ]
    },
    {
     "data": {
      "application/vnd.jupyter.widget-view+json": {
       "model_id": "aec0b2d686bc467489a7ad98153e33e0",
       "version_major": 2,
       "version_minor": 0
      },
      "text/plain": [
       "forward: 0it [00:00, ?it/s]"
      ]
     },
     "metadata": {},
     "output_type": "display_data"
    },
    {
     "data": {
      "application/vnd.jupyter.widget-view+json": {
       "model_id": "c6b07b3a8bcb453b8805bd0556eae110",
       "version_major": 2,
       "version_minor": 0
      },
      "text/plain": [
       "backward: 0it [00:00, ?it/s]"
      ]
     },
     "metadata": {},
     "output_type": "display_data"
    },
    {
     "data": {
      "application/vnd.jupyter.widget-view+json": {
       "model_id": "8c2549279be544ecb1cb9ce923bd33f6",
       "version_major": 2,
       "version_minor": 0
      },
      "text/plain": [
       "backward: 0it [00:00, ?it/s]"
      ]
     },
     "metadata": {},
     "output_type": "display_data"
    },
    {
     "name": "stdout",
     "output_type": "stream",
     "text": [
      "2: [105,210]\n"
     ]
    },
    {
     "data": {
      "application/vnd.jupyter.widget-view+json": {
       "model_id": "d28c9897c43443d79bf9db11167e619c",
       "version_major": 2,
       "version_minor": 0
      },
      "text/plain": [
       "forward: 0it [00:00, ?it/s]"
      ]
     },
     "metadata": {},
     "output_type": "display_data"
    },
    {
     "name": "stdout",
     "output_type": "stream",
     "text": [
      "scene id 35\n",
      "scene name bus2\n",
      "niter: [start, end]\n",
      "0: [0,326]\n"
     ]
    },
    {
     "data": {
      "application/vnd.jupyter.widget-view+json": {
       "model_id": "37105971759441d0bf88fd1012aa13c9",
       "version_major": 2,
       "version_minor": 0
      },
      "text/plain": [
       "forward: 0it [00:00, ?it/s]"
      ]
     },
     "metadata": {},
     "output_type": "display_data"
    },
    {
     "data": {
      "application/vnd.jupyter.widget-view+json": {
       "model_id": "1bcb0f4f923f4cf99636b6756dc34b6a",
       "version_major": 2,
       "version_minor": 0
      },
      "text/plain": [
       "backward: 0it [00:00, ?it/s]"
      ]
     },
     "metadata": {},
     "output_type": "display_data"
    },
    {
     "name": "stdout",
     "output_type": "stream",
     "text": [
      "scene id 36\n",
      "scene name trucker\n",
      "niter: [start, end]\n",
      "0: [0,221]\n"
     ]
    },
    {
     "data": {
      "application/vnd.jupyter.widget-view+json": {
       "model_id": "b8b0d6a140f543df959ccb3395813e02",
       "version_major": 2,
       "version_minor": 0
      },
      "text/plain": [
       "forward: 0it [00:00, ?it/s]"
      ]
     },
     "metadata": {},
     "output_type": "display_data"
    },
    {
     "data": {
      "application/vnd.jupyter.widget-view+json": {
       "model_id": "46d82f069e36428a8b953fb387975388",
       "version_major": 2,
       "version_minor": 0
      },
      "text/plain": [
       "backward: 0it [00:00, ?it/s]"
      ]
     },
     "metadata": {},
     "output_type": "display_data"
    },
    {
     "data": {
      "application/vnd.jupyter.widget-view+json": {
       "model_id": "8af7af1701e043899e8daf306bcfdaa4",
       "version_major": 2,
       "version_minor": 0
      },
      "text/plain": [
       "backward: 0it [00:00, ?it/s]"
      ]
     },
     "metadata": {},
     "output_type": "display_data"
    },
    {
     "name": "stdout",
     "output_type": "stream",
     "text": [
      "1: [106,221]\n"
     ]
    },
    {
     "data": {
      "application/vnd.jupyter.widget-view+json": {
       "model_id": "98d1c457df364f3dbcd43fa1591f6f50",
       "version_major": 2,
       "version_minor": 0
      },
      "text/plain": [
       "forward: 0it [00:00, ?it/s]"
      ]
     },
     "metadata": {},
     "output_type": "display_data"
    },
    {
     "data": {
      "application/vnd.jupyter.widget-view+json": {
       "model_id": "87ebbbde5d3541d2a8b0db9b7b98957e",
       "version_major": 2,
       "version_minor": 0
      },
      "text/plain": [
       "backward: 0it [00:00, ?it/s]"
      ]
     },
     "metadata": {},
     "output_type": "display_data"
    },
    {
     "name": "stdout",
     "output_type": "stream",
     "text": [
      "scene id 37\n",
      "scene name drive\n",
      "niter: [start, end]\n",
      "0: [0,725]\n"
     ]
    },
    {
     "data": {
      "application/vnd.jupyter.widget-view+json": {
       "model_id": "21a0dd40d2f74c608888b334f4423201",
       "version_major": 2,
       "version_minor": 0
      },
      "text/plain": [
       "forward: 0it [00:00, ?it/s]"
      ]
     },
     "metadata": {},
     "output_type": "display_data"
    },
    {
     "data": {
      "application/vnd.jupyter.widget-view+json": {
       "model_id": "f1b23d1a64fe4df0992f2ea1cba108e0",
       "version_major": 2,
       "version_minor": 0
      },
      "text/plain": [
       "backward: 0it [00:00, ?it/s]"
      ]
     },
     "metadata": {},
     "output_type": "display_data"
    },
    {
     "data": {
      "application/vnd.jupyter.widget-view+json": {
       "model_id": "106b9b349b634298bdacdeba42430139",
       "version_major": 2,
       "version_minor": 0
      },
      "text/plain": [
       "backward: 0it [00:00, ?it/s]"
      ]
     },
     "metadata": {},
     "output_type": "display_data"
    },
    {
     "name": "stdout",
     "output_type": "stream",
     "text": [
      "1: [232,725]\n"
     ]
    },
    {
     "data": {
      "application/vnd.jupyter.widget-view+json": {
       "model_id": "93eda7d8d2814de18fdf30329548265c",
       "version_major": 2,
       "version_minor": 0
      },
      "text/plain": [
       "forward: 0it [00:00, ?it/s]"
      ]
     },
     "metadata": {},
     "output_type": "display_data"
    },
    {
     "data": {
      "application/vnd.jupyter.widget-view+json": {
       "model_id": "5c9202e6a84847caa80af00a29a0fae9",
       "version_major": 2,
       "version_minor": 0
      },
      "text/plain": [
       "backward: 0it [00:00, ?it/s]"
      ]
     },
     "metadata": {},
     "output_type": "display_data"
    },
    {
     "data": {
      "application/vnd.jupyter.widget-view+json": {
       "model_id": "57ec74f8641e411184975bdb8acaa11f",
       "version_major": 2,
       "version_minor": 0
      },
      "text/plain": [
       "backward: 0it [00:00, ?it/s]"
      ]
     },
     "metadata": {},
     "output_type": "display_data"
    },
    {
     "name": "stdout",
     "output_type": "stream",
     "text": [
      "2: [346,725]\n"
     ]
    },
    {
     "data": {
      "application/vnd.jupyter.widget-view+json": {
       "model_id": "32b73be0c1a141ada4898863688238f9",
       "version_major": 2,
       "version_minor": 0
      },
      "text/plain": [
       "forward: 0it [00:00, ?it/s]"
      ]
     },
     "metadata": {},
     "output_type": "display_data"
    },
    {
     "name": "stdout",
     "output_type": "stream",
     "text": [
      "scene id 38\n",
      "scene name fruit\n",
      "niter: [start, end]\n",
      "0: [0,552]\n"
     ]
    },
    {
     "data": {
      "application/vnd.jupyter.widget-view+json": {
       "model_id": "7f6607fecc6240a2809fe44e66b3b0df",
       "version_major": 2,
       "version_minor": 0
      },
      "text/plain": [
       "forward: 0it [00:00, ?it/s]"
      ]
     },
     "metadata": {},
     "output_type": "display_data"
    },
    {
     "data": {
      "application/vnd.jupyter.widget-view+json": {
       "model_id": "cdc258e58a814b60a18a3a7ee12202c2",
       "version_major": 2,
       "version_minor": 0
      },
      "text/plain": [
       "backward: 0it [00:00, ?it/s]"
      ]
     },
     "metadata": {},
     "output_type": "display_data"
    },
    {
     "data": {
      "application/vnd.jupyter.widget-view+json": {
       "model_id": "07afa0459b8e4024aee685dcf0c4ceea",
       "version_major": 2,
       "version_minor": 0
      },
      "text/plain": [
       "backward: 0it [00:00, ?it/s]"
      ]
     },
     "metadata": {},
     "output_type": "display_data"
    },
    {
     "name": "stdout",
     "output_type": "stream",
     "text": [
      "1: [143,552]\n"
     ]
    },
    {
     "data": {
      "application/vnd.jupyter.widget-view+json": {
       "model_id": "ea2c79c4e9114313bff17b66db6b9314",
       "version_major": 2,
       "version_minor": 0
      },
      "text/plain": [
       "forward: 0it [00:00, ?it/s]"
      ]
     },
     "metadata": {},
     "output_type": "display_data"
    },
    {
     "data": {
      "application/vnd.jupyter.widget-view+json": {
       "model_id": "fb0125f0b1f14cdca1f2c97cfed7fbc8",
       "version_major": 2,
       "version_minor": 0
      },
      "text/plain": [
       "backward: 0it [00:00, ?it/s]"
      ]
     },
     "metadata": {},
     "output_type": "display_data"
    },
    {
     "data": {
      "application/vnd.jupyter.widget-view+json": {
       "model_id": "d330bb95695146f8b75e2807966ca13f",
       "version_major": 2,
       "version_minor": 0
      },
      "text/plain": [
       "backward: 0it [00:00, ?it/s]"
      ]
     },
     "metadata": {},
     "output_type": "display_data"
    },
    {
     "name": "stdout",
     "output_type": "stream",
     "text": [
      "2: [215,552]\n"
     ]
    },
    {
     "data": {
      "application/vnd.jupyter.widget-view+json": {
       "model_id": "6cb2b3e750344b018cac98205bb6e522",
       "version_major": 2,
       "version_minor": 0
      },
      "text/plain": [
       "forward: 0it [00:00, ?it/s]"
      ]
     },
     "metadata": {},
     "output_type": "display_data"
    },
    {
     "name": "stdout",
     "output_type": "stream",
     "text": [
      "scene id 39\n",
      "scene name paper\n",
      "niter: [start, end]\n",
      "0: [0,278]\n"
     ]
    },
    {
     "data": {
      "application/vnd.jupyter.widget-view+json": {
       "model_id": "9a1ff5588d5045fcaf86d0a9ee835004",
       "version_major": 2,
       "version_minor": 0
      },
      "text/plain": [
       "forward: 0it [00:00, ?it/s]"
      ]
     },
     "metadata": {},
     "output_type": "display_data"
    },
    {
     "data": {
      "application/vnd.jupyter.widget-view+json": {
       "model_id": "e47777536acf4a638958210bc2756adb",
       "version_major": 2,
       "version_minor": 0
      },
      "text/plain": [
       "backward: 0it [00:00, ?it/s]"
      ]
     },
     "metadata": {},
     "output_type": "display_data"
    },
    {
     "name": "stdout",
     "output_type": "stream",
     "text": [
      "scene id 40\n",
      "scene name forest2\n",
      "niter: [start, end]\n",
      "0: [0,363]\n"
     ]
    },
    {
     "data": {
      "application/vnd.jupyter.widget-view+json": {
       "model_id": "ca6c36434bea4c08b305f8669a1baa14",
       "version_major": 2,
       "version_minor": 0
      },
      "text/plain": [
       "forward: 0it [00:00, ?it/s]"
      ]
     },
     "metadata": {},
     "output_type": "display_data"
    },
    {
     "data": {
      "application/vnd.jupyter.widget-view+json": {
       "model_id": "934a2173dade4b4c90c6d1494b2f2f00",
       "version_major": 2,
       "version_minor": 0
      },
      "text/plain": [
       "backward: 0it [00:00, ?it/s]"
      ]
     },
     "metadata": {},
     "output_type": "display_data"
    },
    {
     "name": "stdout",
     "output_type": "stream",
     "text": [
      "scene id 41\n",
      "scene name face2\n",
      "niter: [start, end]\n",
      "0: [0,1111]\n"
     ]
    },
    {
     "data": {
      "application/vnd.jupyter.widget-view+json": {
       "model_id": "95bdd2d2d53b425cade9fe1caaa6051a",
       "version_major": 2,
       "version_minor": 0
      },
      "text/plain": [
       "forward: 0it [00:00, ?it/s]"
      ]
     },
     "metadata": {},
     "output_type": "display_data"
    },
    {
     "data": {
      "application/vnd.jupyter.widget-view+json": {
       "model_id": "0c26fb8ede254c249ae42060c85c12c0",
       "version_major": 2,
       "version_minor": 0
      },
      "text/plain": [
       "backward: 0it [00:00, ?it/s]"
      ]
     },
     "metadata": {},
     "output_type": "display_data"
    },
    {
     "data": {
      "application/vnd.jupyter.widget-view+json": {
       "model_id": "e77028fd044947fa9fa5c6c65b88a3b6",
       "version_major": 2,
       "version_minor": 0
      },
      "text/plain": [
       "backward: 0it [00:00, ?it/s]"
      ]
     },
     "metadata": {},
     "output_type": "display_data"
    },
    {
     "name": "stdout",
     "output_type": "stream",
     "text": [
      "1: [531,1111]\n"
     ]
    },
    {
     "data": {
      "application/vnd.jupyter.widget-view+json": {
       "model_id": "bfadd303b43d4f329f009518724ea030",
       "version_major": 2,
       "version_minor": 0
      },
      "text/plain": [
       "forward: 0it [00:00, ?it/s]"
      ]
     },
     "metadata": {},
     "output_type": "display_data"
    },
    {
     "data": {
      "application/vnd.jupyter.widget-view+json": {
       "model_id": "797f4b9d0e75401ab47d4024106363c6",
       "version_major": 2,
       "version_minor": 0
      },
      "text/plain": [
       "backward: 0it [00:00, ?it/s]"
      ]
     },
     "metadata": {},
     "output_type": "display_data"
    },
    {
     "data": {
      "application/vnd.jupyter.widget-view+json": {
       "model_id": "ea8a7a20aab5401c8aae8372ce72a9fb",
       "version_major": 2,
       "version_minor": 0
      },
      "text/plain": [
       "backward: 0it [00:00, ?it/s]"
      ]
     },
     "metadata": {},
     "output_type": "display_data"
    },
    {
     "name": "stdout",
     "output_type": "stream",
     "text": [
      "2: [758,1111]\n"
     ]
    },
    {
     "data": {
      "application/vnd.jupyter.widget-view+json": {
       "model_id": "56198b9753d9464dbba04895f3e6bf4e",
       "version_major": 2,
       "version_minor": 0
      },
      "text/plain": [
       "forward: 0it [00:00, ?it/s]"
      ]
     },
     "metadata": {},
     "output_type": "display_data"
    },
    {
     "name": "stdout",
     "output_type": "stream",
     "text": [
      "scene id 42\n",
      "scene name toy1\n",
      "niter: [start, end]\n",
      "0: [0,376]\n"
     ]
    },
    {
     "data": {
      "application/vnd.jupyter.widget-view+json": {
       "model_id": "4da729e5af2346d18cfd25aa7693007d",
       "version_major": 2,
       "version_minor": 0
      },
      "text/plain": [
       "forward: 0it [00:00, ?it/s]"
      ]
     },
     "metadata": {},
     "output_type": "display_data"
    },
    {
     "data": {
      "application/vnd.jupyter.widget-view+json": {
       "model_id": "31ce69146ef4415eb250d8a5fb11b4f1",
       "version_major": 2,
       "version_minor": 0
      },
      "text/plain": [
       "backward: 0it [00:00, ?it/s]"
      ]
     },
     "metadata": {},
     "output_type": "display_data"
    },
    {
     "data": {
      "application/vnd.jupyter.widget-view+json": {
       "model_id": "e54e1aa7a2a1484698f931db16d40af0",
       "version_major": 2,
       "version_minor": 0
      },
      "text/plain": [
       "backward: 0it [00:00, ?it/s]"
      ]
     },
     "metadata": {},
     "output_type": "display_data"
    },
    {
     "name": "stdout",
     "output_type": "stream",
     "text": [
      "1: [153,376]\n"
     ]
    },
    {
     "data": {
      "application/vnd.jupyter.widget-view+json": {
       "model_id": "fca87f27e4cb4b83a7750a0635cc703c",
       "version_major": 2,
       "version_minor": 0
      },
      "text/plain": [
       "forward: 0it [00:00, ?it/s]"
      ]
     },
     "metadata": {},
     "output_type": "display_data"
    },
    {
     "data": {
      "application/vnd.jupyter.widget-view+json": {
       "model_id": "7d9b5179f57d468aa044fac0ce08e82c",
       "version_major": 2,
       "version_minor": 0
      },
      "text/plain": [
       "backward: 0it [00:00, ?it/s]"
      ]
     },
     "metadata": {},
     "output_type": "display_data"
    },
    {
     "data": {
      "application/vnd.jupyter.widget-view+json": {
       "model_id": "d605a66369b94a37a500fbd1578ef1f4",
       "version_major": 2,
       "version_minor": 0
      },
      "text/plain": [
       "backward: 0it [00:00, ?it/s]"
      ]
     },
     "metadata": {},
     "output_type": "display_data"
    },
    {
     "data": {
      "application/vnd.jupyter.widget-view+json": {
       "model_id": "23ad5a5fef0e4086ae2a92d142657897",
       "version_major": 2,
       "version_minor": 0
      },
      "text/plain": [
       "backward: 0it [00:00, ?it/s]"
      ]
     },
     "metadata": {},
     "output_type": "display_data"
    },
    {
     "data": {
      "application/vnd.jupyter.widget-view+json": {
       "model_id": "9d07ad546fc144a0b41f6c1792e6b542",
       "version_major": 2,
       "version_minor": 0
      },
      "text/plain": [
       "backward: 0it [00:00, ?it/s]"
      ]
     },
     "metadata": {},
     "output_type": "display_data"
    },
    {
     "name": "stdout",
     "output_type": "stream",
     "text": [
      "2: [161,376]\n"
     ]
    },
    {
     "data": {
      "application/vnd.jupyter.widget-view+json": {
       "model_id": "c3a58e6725d8490fb6633ab335c60c3b",
       "version_major": 2,
       "version_minor": 0
      },
      "text/plain": [
       "forward: 0it [00:00, ?it/s]"
      ]
     },
     "metadata": {},
     "output_type": "display_data"
    },
    {
     "name": "stdout",
     "output_type": "stream",
     "text": [
      "scene id 43\n",
      "scene name bus\n",
      "niter: [start, end]\n",
      "0: [0,131]\n"
     ]
    },
    {
     "data": {
      "application/vnd.jupyter.widget-view+json": {
       "model_id": "bf723b078a334947aff4c238437d62ea",
       "version_major": 2,
       "version_minor": 0
      },
      "text/plain": [
       "forward: 0it [00:00, ?it/s]"
      ]
     },
     "metadata": {},
     "output_type": "display_data"
    },
    {
     "data": {
      "application/vnd.jupyter.widget-view+json": {
       "model_id": "744d2ceeabb842f89c26b7425cafd4cd",
       "version_major": 2,
       "version_minor": 0
      },
      "text/plain": [
       "backward: 0it [00:00, ?it/s]"
      ]
     },
     "metadata": {},
     "output_type": "display_data"
    },
    {
     "name": "stdout",
     "output_type": "stream",
     "text": [
      "scene id 44\n",
      "scene name pool11\n",
      "niter: [start, end]\n",
      "0: [0,250]\n"
     ]
    },
    {
     "data": {
      "application/vnd.jupyter.widget-view+json": {
       "model_id": "03313dc64dec409c8d4d829aa7a368a8",
       "version_major": 2,
       "version_minor": 0
      },
      "text/plain": [
       "forward: 0it [00:00, ?it/s]"
      ]
     },
     "metadata": {},
     "output_type": "display_data"
    },
    {
     "data": {
      "application/vnd.jupyter.widget-view+json": {
       "model_id": "b93b61d658cc443d952894ab945563ae",
       "version_major": 2,
       "version_minor": 0
      },
      "text/plain": [
       "backward: 0it [00:00, ?it/s]"
      ]
     },
     "metadata": {},
     "output_type": "display_data"
    },
    {
     "data": {
      "application/vnd.jupyter.widget-view+json": {
       "model_id": "e24bf4ec325d4f1c95db45bd19ef6957",
       "version_major": 2,
       "version_minor": 0
      },
      "text/plain": [
       "backward: 0it [00:00, ?it/s]"
      ]
     },
     "metadata": {},
     "output_type": "display_data"
    },
    {
     "data": {
      "application/vnd.jupyter.widget-view+json": {
       "model_id": "965d8c599719496c98c1fb4cbc329b4d",
       "version_major": 2,
       "version_minor": 0
      },
      "text/plain": [
       "backward: 0it [00:00, ?it/s]"
      ]
     },
     "metadata": {},
     "output_type": "display_data"
    },
    {
     "name": "stdout",
     "output_type": "stream",
     "text": [
      "1: [26,250]\n"
     ]
    },
    {
     "data": {
      "application/vnd.jupyter.widget-view+json": {
       "model_id": "2cb0a48c952c4f0ca21727c886e4c5fa",
       "version_major": 2,
       "version_minor": 0
      },
      "text/plain": [
       "forward: 0it [00:00, ?it/s]"
      ]
     },
     "metadata": {},
     "output_type": "display_data"
    },
    {
     "data": {
      "application/vnd.jupyter.widget-view+json": {
       "model_id": "4143f04e727a456c90cb865dd1c25db9",
       "version_major": 2,
       "version_minor": 0
      },
      "text/plain": [
       "backward: 0it [00:00, ?it/s]"
      ]
     },
     "metadata": {},
     "output_type": "display_data"
    },
    {
     "data": {
      "application/vnd.jupyter.widget-view+json": {
       "model_id": "a046a833e271417cb1edc9382cf02d78",
       "version_major": 2,
       "version_minor": 0
      },
      "text/plain": [
       "backward: 0it [00:00, ?it/s]"
      ]
     },
     "metadata": {},
     "output_type": "display_data"
    },
    {
     "data": {
      "application/vnd.jupyter.widget-view+json": {
       "model_id": "6974ab67cd50425aaf1226b1763fea4b",
       "version_major": 2,
       "version_minor": 0
      },
      "text/plain": [
       "backward: 0it [00:00, ?it/s]"
      ]
     },
     "metadata": {},
     "output_type": "display_data"
    },
    {
     "data": {
      "application/vnd.jupyter.widget-view+json": {
       "model_id": "02be3707855246058f2b0de42710a491",
       "version_major": 2,
       "version_minor": 0
      },
      "text/plain": [
       "backward: 0it [00:00, ?it/s]"
      ]
     },
     "metadata": {},
     "output_type": "display_data"
    },
    {
     "name": "stdout",
     "output_type": "stream",
     "text": [
      "2: [39,250]\n"
     ]
    },
    {
     "data": {
      "application/vnd.jupyter.widget-view+json": {
       "model_id": "35c052cf968e4582b24b4438559c042b",
       "version_major": 2,
       "version_minor": 0
      },
      "text/plain": [
       "forward: 0it [00:00, ?it/s]"
      ]
     },
     "metadata": {},
     "output_type": "display_data"
    },
    {
     "name": "stdout",
     "output_type": "stream",
     "text": [
      "scene id 45\n",
      "scene name player\n",
      "niter: [start, end]\n",
      "0: [0,901]\n"
     ]
    },
    {
     "data": {
      "application/vnd.jupyter.widget-view+json": {
       "model_id": "4c9eb65c95e64a5bb70423e3ea979d19",
       "version_major": 2,
       "version_minor": 0
      },
      "text/plain": [
       "forward: 0it [00:00, ?it/s]"
      ]
     },
     "metadata": {},
     "output_type": "display_data"
    },
    {
     "data": {
      "application/vnd.jupyter.widget-view+json": {
       "model_id": "91ec2816b2dc46b1b9f817334d31ecbe",
       "version_major": 2,
       "version_minor": 0
      },
      "text/plain": [
       "backward: 0it [00:00, ?it/s]"
      ]
     },
     "metadata": {},
     "output_type": "display_data"
    },
    {
     "name": "stdout",
     "output_type": "stream",
     "text": [
      "scene id 46\n",
      "scene name car52\n",
      "niter: [start, end]\n",
      "0: [0,93]\n"
     ]
    },
    {
     "data": {
      "application/vnd.jupyter.widget-view+json": {
       "model_id": "d5c25be20dcf4ea0aba723f189078433",
       "version_major": 2,
       "version_minor": 0
      },
      "text/plain": [
       "forward: 0it [00:00, ?it/s]"
      ]
     },
     "metadata": {},
     "output_type": "display_data"
    },
    {
     "data": {
      "application/vnd.jupyter.widget-view+json": {
       "model_id": "0e08ac910b3946bf9d4391bbe5af315f",
       "version_major": 2,
       "version_minor": 0
      },
      "text/plain": [
       "backward: 0it [00:00, ?it/s]"
      ]
     },
     "metadata": {},
     "output_type": "display_data"
    },
    {
     "data": {
      "application/vnd.jupyter.widget-view+json": {
       "model_id": "3fbe46f2f75547c9a297ba2c05321083",
       "version_major": 2,
       "version_minor": 0
      },
      "text/plain": [
       "backward: 0it [00:00, ?it/s]"
      ]
     },
     "metadata": {},
     "output_type": "display_data"
    },
    {
     "name": "stdout",
     "output_type": "stream",
     "text": [
      "1: [13,93]\n"
     ]
    },
    {
     "data": {
      "application/vnd.jupyter.widget-view+json": {
       "model_id": "8b25bb64da8a42c4aabdf96cf2310410",
       "version_major": 2,
       "version_minor": 0
      },
      "text/plain": [
       "forward: 0it [00:00, ?it/s]"
      ]
     },
     "metadata": {},
     "output_type": "display_data"
    },
    {
     "data": {
      "application/vnd.jupyter.widget-view+json": {
       "model_id": "d9e149558491482ab1d5584332273c90",
       "version_major": 2,
       "version_minor": 0
      },
      "text/plain": [
       "backward: 0it [00:00, ?it/s]"
      ]
     },
     "metadata": {},
     "output_type": "display_data"
    },
    {
     "data": {
      "application/vnd.jupyter.widget-view+json": {
       "model_id": "7139232850994213bbccc791bab66149",
       "version_major": 2,
       "version_minor": 0
      },
      "text/plain": [
       "backward: 0it [00:00, ?it/s]"
      ]
     },
     "metadata": {},
     "output_type": "display_data"
    },
    {
     "name": "stdout",
     "output_type": "stream",
     "text": [
      "2: [20,93]\n"
     ]
    },
    {
     "data": {
      "application/vnd.jupyter.widget-view+json": {
       "model_id": "6ce91d6b2b674f73aa0dd22cdee55673",
       "version_major": 2,
       "version_minor": 0
      },
      "text/plain": [
       "forward: 0it [00:00, ?it/s]"
      ]
     },
     "metadata": {},
     "output_type": "display_data"
    },
    {
     "name": "stdout",
     "output_type": "stream",
     "text": [
      "scene id 47\n",
      "scene name car84\n",
      "niter: [start, end]\n",
      "0: [0,178]\n"
     ]
    },
    {
     "data": {
      "application/vnd.jupyter.widget-view+json": {
       "model_id": "c74c28880ffa4c5e89cd8539c05bce81",
       "version_major": 2,
       "version_minor": 0
      },
      "text/plain": [
       "forward: 0it [00:00, ?it/s]"
      ]
     },
     "metadata": {},
     "output_type": "display_data"
    },
    {
     "data": {
      "application/vnd.jupyter.widget-view+json": {
       "model_id": "9d4675260848403cb9503c5c265cbcde",
       "version_major": 2,
       "version_minor": 0
      },
      "text/plain": [
       "backward: 0it [00:00, ?it/s]"
      ]
     },
     "metadata": {},
     "output_type": "display_data"
    },
    {
     "name": "stdout",
     "output_type": "stream",
     "text": [
      "scene id 48\n",
      "scene name car60\n",
      "niter: [start, end]\n",
      "0: [0,82]\n"
     ]
    },
    {
     "data": {
      "application/vnd.jupyter.widget-view+json": {
       "model_id": "59284cec910e4b4f8cfe9d2a0056ca71",
       "version_major": 2,
       "version_minor": 0
      },
      "text/plain": [
       "forward: 0it [00:00, ?it/s]"
      ]
     },
     "metadata": {},
     "output_type": "display_data"
    },
    {
     "data": {
      "application/vnd.jupyter.widget-view+json": {
       "model_id": "429030fcb39e43df9bbbe7be3073f141",
       "version_major": 2,
       "version_minor": 0
      },
      "text/plain": [
       "backward: 0it [00:00, ?it/s]"
      ]
     },
     "metadata": {},
     "output_type": "display_data"
    },
    {
     "data": {
      "application/vnd.jupyter.widget-view+json": {
       "model_id": "097dd7fe91f744148e86f391dc38ee5f",
       "version_major": 2,
       "version_minor": 0
      },
      "text/plain": [
       "backward: 0it [00:00, ?it/s]"
      ]
     },
     "metadata": {},
     "output_type": "display_data"
    },
    {
     "name": "stdout",
     "output_type": "stream",
     "text": [
      "1: [23,82]\n"
     ]
    },
    {
     "data": {
      "application/vnd.jupyter.widget-view+json": {
       "model_id": "019c9304f83146a896d7efcc7c44f6e1",
       "version_major": 2,
       "version_minor": 0
      },
      "text/plain": [
       "forward: 0it [00:00, ?it/s]"
      ]
     },
     "metadata": {},
     "output_type": "display_data"
    },
    {
     "data": {
      "application/vnd.jupyter.widget-view+json": {
       "model_id": "4ab51579c0eb4a6d8b10b113a8715f37",
       "version_major": 2,
       "version_minor": 0
      },
      "text/plain": [
       "backward: 0it [00:00, ?it/s]"
      ]
     },
     "metadata": {},
     "output_type": "display_data"
    },
    {
     "name": "stdout",
     "output_type": "stream",
     "text": [
      "scene id 49\n",
      "scene name car79\n",
      "niter: [start, end]\n",
      "0: [0,132]\n"
     ]
    },
    {
     "data": {
      "application/vnd.jupyter.widget-view+json": {
       "model_id": "81cd7e670307474b8742f46c131478d1",
       "version_major": 2,
       "version_minor": 0
      },
      "text/plain": [
       "forward: 0it [00:00, ?it/s]"
      ]
     },
     "metadata": {},
     "output_type": "display_data"
    },
    {
     "data": {
      "application/vnd.jupyter.widget-view+json": {
       "model_id": "98374b90824940f38a3677f2d6a07c02",
       "version_major": 2,
       "version_minor": 0
      },
      "text/plain": [
       "backward: 0it [00:00, ?it/s]"
      ]
     },
     "metadata": {},
     "output_type": "display_data"
    },
    {
     "data": {
      "application/vnd.jupyter.widget-view+json": {
       "model_id": "a3b496b5e15a407aaf3cb8404d0a83b5",
       "version_major": 2,
       "version_minor": 0
      },
      "text/plain": [
       "backward: 0it [00:00, ?it/s]"
      ]
     },
     "metadata": {},
     "output_type": "display_data"
    },
    {
     "name": "stdout",
     "output_type": "stream",
     "text": [
      "1: [51,132]\n"
     ]
    },
    {
     "data": {
      "application/vnd.jupyter.widget-view+json": {
       "model_id": "fbe8f9346c1242d8bcc6cd3cd17f90ca",
       "version_major": 2,
       "version_minor": 0
      },
      "text/plain": [
       "forward: 0it [00:00, ?it/s]"
      ]
     },
     "metadata": {},
     "output_type": "display_data"
    },
    {
     "data": {
      "application/vnd.jupyter.widget-view+json": {
       "model_id": "773da524325d48128cfe16f19014a4f2",
       "version_major": 2,
       "version_minor": 0
      },
      "text/plain": [
       "backward: 0it [00:00, ?it/s]"
      ]
     },
     "metadata": {},
     "output_type": "display_data"
    },
    {
     "data": {
      "application/vnd.jupyter.widget-view+json": {
       "model_id": "ed837a88935c410d9df6969b516a9a91",
       "version_major": 2,
       "version_minor": 0
      },
      "text/plain": [
       "backward: 0it [00:00, ?it/s]"
      ]
     },
     "metadata": {},
     "output_type": "display_data"
    },
    {
     "data": {
      "application/vnd.jupyter.widget-view+json": {
       "model_id": "60b81bc778e9413595410b63cfc0608a",
       "version_major": 2,
       "version_minor": 0
      },
      "text/plain": [
       "backward: 0it [00:00, ?it/s]"
      ]
     },
     "metadata": {},
     "output_type": "display_data"
    },
    {
     "name": "stdout",
     "output_type": "stream",
     "text": [
      "2: [66,132]\n"
     ]
    },
    {
     "data": {
      "application/vnd.jupyter.widget-view+json": {
       "model_id": "4dad9f2877b54d0aa316a11fc944430d",
       "version_major": 2,
       "version_minor": 0
      },
      "text/plain": [
       "forward: 0it [00:00, ?it/s]"
      ]
     },
     "metadata": {},
     "output_type": "display_data"
    },
    {
     "name": "stdout",
     "output_type": "stream",
     "text": [
      "scene id 50\n",
      "scene name basketball3\n",
      "niter: [start, end]\n",
      "0: [0,778]\n"
     ]
    },
    {
     "data": {
      "application/vnd.jupyter.widget-view+json": {
       "model_id": "985ab2f20d3b4dd987d7a072206da15f",
       "version_major": 2,
       "version_minor": 0
      },
      "text/plain": [
       "forward: 0it [00:00, ?it/s]"
      ]
     },
     "metadata": {},
     "output_type": "display_data"
    },
    {
     "data": {
      "application/vnd.jupyter.widget-view+json": {
       "model_id": "c76e139fae964f8eb267deb77c8ac94a",
       "version_major": 2,
       "version_minor": 0
      },
      "text/plain": [
       "backward: 0it [00:00, ?it/s]"
      ]
     },
     "metadata": {},
     "output_type": "display_data"
    },
    {
     "data": {
      "application/vnd.jupyter.widget-view+json": {
       "model_id": "60a1c8d599be43ed9b3bb3f7e94489df",
       "version_major": 2,
       "version_minor": 0
      },
      "text/plain": [
       "backward: 0it [00:00, ?it/s]"
      ]
     },
     "metadata": {},
     "output_type": "display_data"
    },
    {
     "data": {
      "application/vnd.jupyter.widget-view+json": {
       "model_id": "11ba44bce12f453e9c6ba7848c856ba3",
       "version_major": 2,
       "version_minor": 0
      },
      "text/plain": [
       "backward: 0it [00:00, ?it/s]"
      ]
     },
     "metadata": {},
     "output_type": "display_data"
    },
    {
     "data": {
      "application/vnd.jupyter.widget-view+json": {
       "model_id": "8bc0452c50a3432aa623b0ea4df73c09",
       "version_major": 2,
       "version_minor": 0
      },
      "text/plain": [
       "backward: 0it [00:00, ?it/s]"
      ]
     },
     "metadata": {},
     "output_type": "display_data"
    },
    {
     "name": "stdout",
     "output_type": "stream",
     "text": [
      "1: [71,778]\n"
     ]
    },
    {
     "data": {
      "application/vnd.jupyter.widget-view+json": {
       "model_id": "737430c970f946de8c73adf2173f8971",
       "version_major": 2,
       "version_minor": 0
      },
      "text/plain": [
       "forward: 0it [00:00, ?it/s]"
      ]
     },
     "metadata": {},
     "output_type": "display_data"
    },
    {
     "data": {
      "application/vnd.jupyter.widget-view+json": {
       "model_id": "360b991331504c64a98737bde9181b16",
       "version_major": 2,
       "version_minor": 0
      },
      "text/plain": [
       "backward: 0it [00:00, ?it/s]"
      ]
     },
     "metadata": {},
     "output_type": "display_data"
    },
    {
     "data": {
      "application/vnd.jupyter.widget-view+json": {
       "model_id": "92fb3ff546064edabe4cef55344c3b43",
       "version_major": 2,
       "version_minor": 0
      },
      "text/plain": [
       "backward: 0it [00:00, ?it/s]"
      ]
     },
     "metadata": {},
     "output_type": "display_data"
    },
    {
     "data": {
      "application/vnd.jupyter.widget-view+json": {
       "model_id": "5642f0ccd8ec4d59beb9f75040212c04",
       "version_major": 2,
       "version_minor": 0
      },
      "text/plain": [
       "backward: 0it [00:00, ?it/s]"
      ]
     },
     "metadata": {},
     "output_type": "display_data"
    },
    {
     "data": {
      "application/vnd.jupyter.widget-view+json": {
       "model_id": "746b0221a6a24325b45ae2740d0598bc",
       "version_major": 2,
       "version_minor": 0
      },
      "text/plain": [
       "backward: 0it [00:00, ?it/s]"
      ]
     },
     "metadata": {},
     "output_type": "display_data"
    },
    {
     "data": {
      "application/vnd.jupyter.widget-view+json": {
       "model_id": "d39aeb1dd96049c4827e499aed0c3342",
       "version_major": 2,
       "version_minor": 0
      },
      "text/plain": [
       "backward: 0it [00:00, ?it/s]"
      ]
     },
     "metadata": {},
     "output_type": "display_data"
    },
    {
     "name": "stdout",
     "output_type": "stream",
     "text": [
      "2: [104,778]\n"
     ]
    },
    {
     "data": {
      "application/vnd.jupyter.widget-view+json": {
       "model_id": "ddfe5cacbff9409098916e3e82b5eb59",
       "version_major": 2,
       "version_minor": 0
      },
      "text/plain": [
       "forward: 0it [00:00, ?it/s]"
      ]
     },
     "metadata": {},
     "output_type": "display_data"
    },
    {
     "name": "stdout",
     "output_type": "stream",
     "text": [
      "scene id 51\n",
      "scene name car83\n",
      "niter: [start, end]\n",
      "0: [0,122]\n"
     ]
    },
    {
     "data": {
      "application/vnd.jupyter.widget-view+json": {
       "model_id": "cd03c8de7a6c4b218b72d9f4db4a9226",
       "version_major": 2,
       "version_minor": 0
      },
      "text/plain": [
       "forward: 0it [00:00, ?it/s]"
      ]
     },
     "metadata": {},
     "output_type": "display_data"
    },
    {
     "data": {
      "application/vnd.jupyter.widget-view+json": {
       "model_id": "b811415aa41d48d6ba5f4cc6153eded2",
       "version_major": 2,
       "version_minor": 0
      },
      "text/plain": [
       "backward: 0it [00:00, ?it/s]"
      ]
     },
     "metadata": {},
     "output_type": "display_data"
    },
    {
     "name": "stdout",
     "output_type": "stream",
     "text": [
      "scene id 52\n",
      "scene name rider17\n",
      "niter: [start, end]\n",
      "0: [0,165]\n"
     ]
    },
    {
     "data": {
      "application/vnd.jupyter.widget-view+json": {
       "model_id": "5e741eea43e144d0b622877791f698eb",
       "version_major": 2,
       "version_minor": 0
      },
      "text/plain": [
       "forward: 0it [00:00, ?it/s]"
      ]
     },
     "metadata": {},
     "output_type": "display_data"
    },
    {
     "data": {
      "application/vnd.jupyter.widget-view+json": {
       "model_id": "2b921c1d05d94f77a716cb9b0038703f",
       "version_major": 2,
       "version_minor": 0
      },
      "text/plain": [
       "backward: 0it [00:00, ?it/s]"
      ]
     },
     "metadata": {},
     "output_type": "display_data"
    },
    {
     "data": {
      "application/vnd.jupyter.widget-view+json": {
       "model_id": "1474d2a61a1b4b2fa282b8df4307dbfe",
       "version_major": 2,
       "version_minor": 0
      },
      "text/plain": [
       "backward: 0it [00:00, ?it/s]"
      ]
     },
     "metadata": {},
     "output_type": "display_data"
    },
    {
     "data": {
      "application/vnd.jupyter.widget-view+json": {
       "model_id": "f9a1fc9b8ad0411a8e005fc4f3fab6c7",
       "version_major": 2,
       "version_minor": 0
      },
      "text/plain": [
       "backward: 0it [00:00, ?it/s]"
      ]
     },
     "metadata": {},
     "output_type": "display_data"
    },
    {
     "name": "stdout",
     "output_type": "stream",
     "text": [
      "1: [11,165]\n"
     ]
    },
    {
     "data": {
      "application/vnd.jupyter.widget-view+json": {
       "model_id": "5d02f09bc3f14528ba642967aefff8aa",
       "version_major": 2,
       "version_minor": 0
      },
      "text/plain": [
       "forward: 0it [00:00, ?it/s]"
      ]
     },
     "metadata": {},
     "output_type": "display_data"
    },
    {
     "data": {
      "application/vnd.jupyter.widget-view+json": {
       "model_id": "0c297263636242cf9ed5837405d68d10",
       "version_major": 2,
       "version_minor": 0
      },
      "text/plain": [
       "backward: 0it [00:00, ?it/s]"
      ]
     },
     "metadata": {},
     "output_type": "display_data"
    },
    {
     "data": {
      "application/vnd.jupyter.widget-view+json": {
       "model_id": "d8bd7504aeaf482ea3b1abd1e66d9b69",
       "version_major": 2,
       "version_minor": 0
      },
      "text/plain": [
       "backward: 0it [00:00, ?it/s]"
      ]
     },
     "metadata": {},
     "output_type": "display_data"
    },
    {
     "data": {
      "application/vnd.jupyter.widget-view+json": {
       "model_id": "71358171d5484b9097a4e85aedc4c5f3",
       "version_major": 2,
       "version_minor": 0
      },
      "text/plain": [
       "backward: 0it [00:00, ?it/s]"
      ]
     },
     "metadata": {},
     "output_type": "display_data"
    },
    {
     "name": "stdout",
     "output_type": "stream",
     "text": [
      "2: [16,165]\n"
     ]
    },
    {
     "data": {
      "application/vnd.jupyter.widget-view+json": {
       "model_id": "c87c2e85886b4fa8a850506e7df98ca9",
       "version_major": 2,
       "version_minor": 0
      },
      "text/plain": [
       "forward: 0it [00:00, ?it/s]"
      ]
     },
     "metadata": {},
     "output_type": "display_data"
    },
    {
     "name": "stdout",
     "output_type": "stream",
     "text": [
      "scene id 53\n",
      "scene name pedestrian7\n",
      "niter: [start, end]\n",
      "0: [0,271]\n"
     ]
    },
    {
     "data": {
      "application/vnd.jupyter.widget-view+json": {
       "model_id": "012afebc929d45adb01e6eaabd27677b",
       "version_major": 2,
       "version_minor": 0
      },
      "text/plain": [
       "forward: 0it [00:00, ?it/s]"
      ]
     },
     "metadata": {},
     "output_type": "display_data"
    },
    {
     "data": {
      "application/vnd.jupyter.widget-view+json": {
       "model_id": "1e8af8c3c72947138b2e8ee6f04545bf",
       "version_major": 2,
       "version_minor": 0
      },
      "text/plain": [
       "backward: 0it [00:00, ?it/s]"
      ]
     },
     "metadata": {},
     "output_type": "display_data"
    },
    {
     "data": {
      "application/vnd.jupyter.widget-view+json": {
       "model_id": "9d7be9cb699c485498e7b343275aeae8",
       "version_major": 2,
       "version_minor": 0
      },
      "text/plain": [
       "backward: 0it [00:00, ?it/s]"
      ]
     },
     "metadata": {},
     "output_type": "display_data"
    },
    {
     "data": {
      "application/vnd.jupyter.widget-view+json": {
       "model_id": "b47835172ab241159e1bad5ede93ef9d",
       "version_major": 2,
       "version_minor": 0
      },
      "text/plain": [
       "backward: 0it [00:00, ?it/s]"
      ]
     },
     "metadata": {},
     "output_type": "display_data"
    },
    {
     "name": "stdout",
     "output_type": "stream",
     "text": [
      "1: [1,271]\n"
     ]
    },
    {
     "data": {
      "application/vnd.jupyter.widget-view+json": {
       "model_id": "72f7bbb0cdf44314a36b7bc1e0274122",
       "version_major": 2,
       "version_minor": 0
      },
      "text/plain": [
       "forward: 0it [00:00, ?it/s]"
      ]
     },
     "metadata": {},
     "output_type": "display_data"
    },
    {
     "data": {
      "application/vnd.jupyter.widget-view+json": {
       "model_id": "43b99166b4384dd59fea4de9acc73073",
       "version_major": 2,
       "version_minor": 0
      },
      "text/plain": [
       "backward: 0it [00:00, ?it/s]"
      ]
     },
     "metadata": {},
     "output_type": "display_data"
    },
    {
     "name": "stdout",
     "output_type": "stream",
     "text": [
      "scene id 54\n",
      "scene name car51\n",
      "niter: [start, end]\n",
      "0: [0,102]\n"
     ]
    },
    {
     "data": {
      "application/vnd.jupyter.widget-view+json": {
       "model_id": "bfb2d77fe6a34d49bd42ea44ab23648f",
       "version_major": 2,
       "version_minor": 0
      },
      "text/plain": [
       "forward: 0it [00:00, ?it/s]"
      ]
     },
     "metadata": {},
     "output_type": "display_data"
    },
    {
     "data": {
      "application/vnd.jupyter.widget-view+json": {
       "model_id": "f9b804c839bb464181882d700b0361fc",
       "version_major": 2,
       "version_minor": 0
      },
      "text/plain": [
       "backward: 0it [00:00, ?it/s]"
      ]
     },
     "metadata": {},
     "output_type": "display_data"
    },
    {
     "data": {
      "application/vnd.jupyter.widget-view+json": {
       "model_id": "6fde5636effd4fc5a24aed2a85274e26",
       "version_major": 2,
       "version_minor": 0
      },
      "text/plain": [
       "backward: 0it [00:00, ?it/s]"
      ]
     },
     "metadata": {},
     "output_type": "display_data"
    },
    {
     "data": {
      "application/vnd.jupyter.widget-view+json": {
       "model_id": "499ba6574b6c4c8f97958a4dd94e2521",
       "version_major": 2,
       "version_minor": 0
      },
      "text/plain": [
       "backward: 0it [00:00, ?it/s]"
      ]
     },
     "metadata": {},
     "output_type": "display_data"
    },
    {
     "name": "stdout",
     "output_type": "stream",
     "text": [
      "1: [12,102]\n"
     ]
    },
    {
     "data": {
      "application/vnd.jupyter.widget-view+json": {
       "model_id": "ed934ffbac8041aea85f49bee5c7b11c",
       "version_major": 2,
       "version_minor": 0
      },
      "text/plain": [
       "forward: 0it [00:00, ?it/s]"
      ]
     },
     "metadata": {},
     "output_type": "display_data"
    },
    {
     "data": {
      "application/vnd.jupyter.widget-view+json": {
       "model_id": "bc44a1071e0246f390456f8c73804719",
       "version_major": 2,
       "version_minor": 0
      },
      "text/plain": [
       "backward: 0it [00:00, ?it/s]"
      ]
     },
     "metadata": {},
     "output_type": "display_data"
    },
    {
     "data": {
      "application/vnd.jupyter.widget-view+json": {
       "model_id": "933cc66d22a7459b9ce615c214a40986",
       "version_major": 2,
       "version_minor": 0
      },
      "text/plain": [
       "backward: 0it [00:00, ?it/s]"
      ]
     },
     "metadata": {},
     "output_type": "display_data"
    },
    {
     "name": "stdout",
     "output_type": "stream",
     "text": [
      "2: [28,102]\n"
     ]
    },
    {
     "data": {
      "application/vnd.jupyter.widget-view+json": {
       "model_id": "2277ee3581ca4bcb8cb82bbbc7298aaf",
       "version_major": 2,
       "version_minor": 0
      },
      "text/plain": [
       "forward: 0it [00:00, ?it/s]"
      ]
     },
     "metadata": {},
     "output_type": "display_data"
    },
    {
     "name": "stdout",
     "output_type": "stream",
     "text": [
      "scene id 55\n",
      "scene name rider19\n",
      "niter: [start, end]\n",
      "0: [0,160]\n"
     ]
    },
    {
     "data": {
      "application/vnd.jupyter.widget-view+json": {
       "model_id": "f7969e8fa15c4a158eb016d94c9a0efe",
       "version_major": 2,
       "version_minor": 0
      },
      "text/plain": [
       "forward: 0it [00:00, ?it/s]"
      ]
     },
     "metadata": {},
     "output_type": "display_data"
    },
    {
     "data": {
      "application/vnd.jupyter.widget-view+json": {
       "model_id": "e266218a83fd489cb3800e3d0eb53804",
       "version_major": 2,
       "version_minor": 0
      },
      "text/plain": [
       "backward: 0it [00:00, ?it/s]"
      ]
     },
     "metadata": {},
     "output_type": "display_data"
    },
    {
     "name": "stdout",
     "output_type": "stream",
     "text": [
      "scene id 56\n",
      "scene name car63\n",
      "niter: [start, end]\n",
      "0: [0,151]\n"
     ]
    },
    {
     "data": {
      "application/vnd.jupyter.widget-view+json": {
       "model_id": "b042910425e14ba3b28680fc71c5edce",
       "version_major": 2,
       "version_minor": 0
      },
      "text/plain": [
       "forward: 0it [00:00, ?it/s]"
      ]
     },
     "metadata": {},
     "output_type": "display_data"
    },
    {
     "data": {
      "application/vnd.jupyter.widget-view+json": {
       "model_id": "a3267d8931d2468ab8d3c75c280306a9",
       "version_major": 2,
       "version_minor": 0
      },
      "text/plain": [
       "backward: 0it [00:00, ?it/s]"
      ]
     },
     "metadata": {},
     "output_type": "display_data"
    },
    {
     "name": "stdout",
     "output_type": "stream",
     "text": [
      "scene id 57\n",
      "scene name car77\n",
      "niter: [start, end]\n",
      "0: [0,93]\n"
     ]
    },
    {
     "data": {
      "application/vnd.jupyter.widget-view+json": {
       "model_id": "01639d941f234f81b61cbb6a2798f083",
       "version_major": 2,
       "version_minor": 0
      },
      "text/plain": [
       "forward: 0it [00:00, ?it/s]"
      ]
     },
     "metadata": {},
     "output_type": "display_data"
    },
    {
     "data": {
      "application/vnd.jupyter.widget-view+json": {
       "model_id": "71164f1911ed498db8afe4358694aa24",
       "version_major": 2,
       "version_minor": 0
      },
      "text/plain": [
       "backward: 0it [00:00, ?it/s]"
      ]
     },
     "metadata": {},
     "output_type": "display_data"
    },
    {
     "data": {
      "application/vnd.jupyter.widget-view+json": {
       "model_id": "6d3f00312b474e9793169ab7653a5577",
       "version_major": 2,
       "version_minor": 0
      },
      "text/plain": [
       "backward: 0it [00:00, ?it/s]"
      ]
     },
     "metadata": {},
     "output_type": "display_data"
    },
    {
     "name": "stdout",
     "output_type": "stream",
     "text": [
      "1: [40,93]\n"
     ]
    },
    {
     "data": {
      "application/vnd.jupyter.widget-view+json": {
       "model_id": "9e20169804d44cd69dc2313d6be83ff0",
       "version_major": 2,
       "version_minor": 0
      },
      "text/plain": [
       "forward: 0it [00:00, ?it/s]"
      ]
     },
     "metadata": {},
     "output_type": "display_data"
    },
    {
     "data": {
      "application/vnd.jupyter.widget-view+json": {
       "model_id": "69d5190d5f404190badcf352572e8759",
       "version_major": 2,
       "version_minor": 0
      },
      "text/plain": [
       "backward: 0it [00:00, ?it/s]"
      ]
     },
     "metadata": {},
     "output_type": "display_data"
    },
    {
     "data": {
      "application/vnd.jupyter.widget-view+json": {
       "model_id": "407134b071594752b1146c32851caf11",
       "version_major": 2,
       "version_minor": 0
      },
      "text/plain": [
       "backward: 0it [00:00, ?it/s]"
      ]
     },
     "metadata": {},
     "output_type": "display_data"
    },
    {
     "name": "stdout",
     "output_type": "stream",
     "text": [
      "2: [61,93]\n"
     ]
    },
    {
     "data": {
      "application/vnd.jupyter.widget-view+json": {
       "model_id": "bdb6610cdd8b4617b8d2851781872fc4",
       "version_major": 2,
       "version_minor": 0
      },
      "text/plain": [
       "forward: 0it [00:00, ?it/s]"
      ]
     },
     "metadata": {},
     "output_type": "display_data"
    },
    {
     "name": "stdout",
     "output_type": "stream",
     "text": [
      "scene id 58\n",
      "scene name car64\n",
      "niter: [start, end]\n",
      "0: [0,68]\n"
     ]
    },
    {
     "data": {
      "application/vnd.jupyter.widget-view+json": {
       "model_id": "e198414cc7764fc1987958e9d2bc3d10",
       "version_major": 2,
       "version_minor": 0
      },
      "text/plain": [
       "forward: 0it [00:00, ?it/s]"
      ]
     },
     "metadata": {},
     "output_type": "display_data"
    },
    {
     "data": {
      "application/vnd.jupyter.widget-view+json": {
       "model_id": "5840adfe45e6486695b1bec3424fd97b",
       "version_major": 2,
       "version_minor": 0
      },
      "text/plain": [
       "backward: 0it [00:00, ?it/s]"
      ]
     },
     "metadata": {},
     "output_type": "display_data"
    },
    {
     "name": "stdout",
     "output_type": "stream",
     "text": [
      "scene id 59\n",
      "scene name car80\n",
      "niter: [start, end]\n",
      "0: [0,164]\n"
     ]
    },
    {
     "data": {
      "application/vnd.jupyter.widget-view+json": {
       "model_id": "086ae305a8694c478b82bafd477efeb0",
       "version_major": 2,
       "version_minor": 0
      },
      "text/plain": [
       "forward: 0it [00:00, ?it/s]"
      ]
     },
     "metadata": {},
     "output_type": "display_data"
    },
    {
     "data": {
      "application/vnd.jupyter.widget-view+json": {
       "model_id": "610e00224cad4a28b592eb386beba28c",
       "version_major": 2,
       "version_minor": 0
      },
      "text/plain": [
       "backward: 0it [00:00, ?it/s]"
      ]
     },
     "metadata": {},
     "output_type": "display_data"
    },
    {
     "name": "stdout",
     "output_type": "stream",
     "text": [
      "scene id 60\n",
      "scene name car11\n",
      "niter: [start, end]\n",
      "0: [0,101]\n"
     ]
    },
    {
     "data": {
      "application/vnd.jupyter.widget-view+json": {
       "model_id": "3df98d4e008d4d84a9ed2446d523995e",
       "version_major": 2,
       "version_minor": 0
      },
      "text/plain": [
       "forward: 0it [00:00, ?it/s]"
      ]
     },
     "metadata": {},
     "output_type": "display_data"
    },
    {
     "data": {
      "application/vnd.jupyter.widget-view+json": {
       "model_id": "9e92ede6d99b483a96bfa4144c3ade3c",
       "version_major": 2,
       "version_minor": 0
      },
      "text/plain": [
       "backward: 0it [00:00, ?it/s]"
      ]
     },
     "metadata": {},
     "output_type": "display_data"
    },
    {
     "data": {
      "application/vnd.jupyter.widget-view+json": {
       "model_id": "414569769f5e400982777ae8108f55a0",
       "version_major": 2,
       "version_minor": 0
      },
      "text/plain": [
       "backward: 0it [00:00, ?it/s]"
      ]
     },
     "metadata": {},
     "output_type": "display_data"
    },
    {
     "name": "stdout",
     "output_type": "stream",
     "text": [
      "1: [24,101]\n"
     ]
    },
    {
     "data": {
      "application/vnd.jupyter.widget-view+json": {
       "model_id": "6d3f4cc850e44240a42d49c58403e1f6",
       "version_major": 2,
       "version_minor": 0
      },
      "text/plain": [
       "forward: 0it [00:00, ?it/s]"
      ]
     },
     "metadata": {},
     "output_type": "display_data"
    },
    {
     "data": {
      "application/vnd.jupyter.widget-view+json": {
       "model_id": "c1ca8108b05440758b4514e04dc38a5e",
       "version_major": 2,
       "version_minor": 0
      },
      "text/plain": [
       "backward: 0it [00:00, ?it/s]"
      ]
     },
     "metadata": {},
     "output_type": "display_data"
    },
    {
     "data": {
      "application/vnd.jupyter.widget-view+json": {
       "model_id": "add67d59f1054b1fbcb246064a2a4938",
       "version_major": 2,
       "version_minor": 0
      },
      "text/plain": [
       "backward: 0it [00:00, ?it/s]"
      ]
     },
     "metadata": {},
     "output_type": "display_data"
    },
    {
     "name": "stdout",
     "output_type": "stream",
     "text": [
      "2: [36,101]\n"
     ]
    },
    {
     "data": {
      "application/vnd.jupyter.widget-view+json": {
       "model_id": "03952a9e02864200acd1703a974ad2c9",
       "version_major": 2,
       "version_minor": 0
      },
      "text/plain": [
       "forward: 0it [00:00, ?it/s]"
      ]
     },
     "metadata": {},
     "output_type": "display_data"
    },
    {
     "name": "stdout",
     "output_type": "stream",
     "text": [
      "scene id 61\n",
      "scene name car82\n",
      "niter: [start, end]\n",
      "0: [0,105]\n"
     ]
    },
    {
     "data": {
      "application/vnd.jupyter.widget-view+json": {
       "model_id": "7d9a7269798d416cb2f060322be28a33",
       "version_major": 2,
       "version_minor": 0
      },
      "text/plain": [
       "forward: 0it [00:00, ?it/s]"
      ]
     },
     "metadata": {},
     "output_type": "display_data"
    },
    {
     "data": {
      "application/vnd.jupyter.widget-view+json": {
       "model_id": "78bd5f7b82e54c2fa063783860252753",
       "version_major": 2,
       "version_minor": 0
      },
      "text/plain": [
       "backward: 0it [00:00, ?it/s]"
      ]
     },
     "metadata": {},
     "output_type": "display_data"
    },
    {
     "name": "stdout",
     "output_type": "stream",
     "text": [
      "scene id 62\n",
      "scene name rider16\n",
      "niter: [start, end]\n",
      "0: [0,184]\n"
     ]
    },
    {
     "data": {
      "application/vnd.jupyter.widget-view+json": {
       "model_id": "ece64a0f0fa34715b97989352b5bfc02",
       "version_major": 2,
       "version_minor": 0
      },
      "text/plain": [
       "forward: 0it [00:00, ?it/s]"
      ]
     },
     "metadata": {},
     "output_type": "display_data"
    },
    {
     "data": {
      "application/vnd.jupyter.widget-view+json": {
       "model_id": "89fa1981f2ca4e7d99eb12270599429f",
       "version_major": 2,
       "version_minor": 0
      },
      "text/plain": [
       "backward: 0it [00:00, ?it/s]"
      ]
     },
     "metadata": {},
     "output_type": "display_data"
    },
    {
     "name": "stdout",
     "output_type": "stream",
     "text": [
      "scene id 63\n",
      "scene name car78\n",
      "niter: [start, end]\n",
      "0: [0,119]\n"
     ]
    },
    {
     "data": {
      "application/vnd.jupyter.widget-view+json": {
       "model_id": "fbdf41cf2d2447799dd879655dd1951d",
       "version_major": 2,
       "version_minor": 0
      },
      "text/plain": [
       "forward: 0it [00:00, ?it/s]"
      ]
     },
     "metadata": {},
     "output_type": "display_data"
    },
    {
     "data": {
      "application/vnd.jupyter.widget-view+json": {
       "model_id": "d32e463d1c294e8083a5eca7b864231f",
       "version_major": 2,
       "version_minor": 0
      },
      "text/plain": [
       "backward: 0it [00:00, ?it/s]"
      ]
     },
     "metadata": {},
     "output_type": "display_data"
    },
    {
     "data": {
      "application/vnd.jupyter.widget-view+json": {
       "model_id": "e068ec8fccfc410985d5b656254b2c73",
       "version_major": 2,
       "version_minor": 0
      },
      "text/plain": [
       "backward: 0it [00:00, ?it/s]"
      ]
     },
     "metadata": {},
     "output_type": "display_data"
    },
    {
     "name": "stdout",
     "output_type": "stream",
     "text": [
      "1: [12,119]\n"
     ]
    },
    {
     "data": {
      "application/vnd.jupyter.widget-view+json": {
       "model_id": "80e30eb34fb441bd8ffddba6e31b2246",
       "version_major": 2,
       "version_minor": 0
      },
      "text/plain": [
       "forward: 0it [00:00, ?it/s]"
      ]
     },
     "metadata": {},
     "output_type": "display_data"
    },
    {
     "data": {
      "application/vnd.jupyter.widget-view+json": {
       "model_id": "de58a0e818f14494aa90ed7ae9ca2eec",
       "version_major": 2,
       "version_minor": 0
      },
      "text/plain": [
       "backward: 0it [00:00, ?it/s]"
      ]
     },
     "metadata": {},
     "output_type": "display_data"
    },
    {
     "data": {
      "application/vnd.jupyter.widget-view+json": {
       "model_id": "99ef62c94df947509f8b772748ab0b14",
       "version_major": 2,
       "version_minor": 0
      },
      "text/plain": [
       "backward: 0it [00:00, ?it/s]"
      ]
     },
     "metadata": {},
     "output_type": "display_data"
    },
    {
     "name": "stdout",
     "output_type": "stream",
     "text": [
      "2: [29,119]\n"
     ]
    },
    {
     "data": {
      "application/vnd.jupyter.widget-view+json": {
       "model_id": "b0a715e8ff604cafa55531cce7042476",
       "version_major": 2,
       "version_minor": 0
      },
      "text/plain": [
       "forward: 0it [00:00, ?it/s]"
      ]
     },
     "metadata": {},
     "output_type": "display_data"
    },
    {
     "name": "stdout",
     "output_type": "stream",
     "text": [
      "scene id 64\n",
      "scene name rider11\n",
      "niter: [start, end]\n",
      "0: [0,142]\n"
     ]
    },
    {
     "data": {
      "application/vnd.jupyter.widget-view+json": {
       "model_id": "73542104628c44519668ebff964a597f",
       "version_major": 2,
       "version_minor": 0
      },
      "text/plain": [
       "forward: 0it [00:00, ?it/s]"
      ]
     },
     "metadata": {},
     "output_type": "display_data"
    },
    {
     "data": {
      "application/vnd.jupyter.widget-view+json": {
       "model_id": "cc0ac53370bb41fe8b73d20e971aebd0",
       "version_major": 2,
       "version_minor": 0
      },
      "text/plain": [
       "backward: 0it [00:00, ?it/s]"
      ]
     },
     "metadata": {},
     "output_type": "display_data"
    },
    {
     "name": "stdout",
     "output_type": "stream",
     "text": [
      "scene id 65\n",
      "scene name car53\n",
      "niter: [start, end]\n",
      "0: [0,160]\n"
     ]
    },
    {
     "data": {
      "application/vnd.jupyter.widget-view+json": {
       "model_id": "99ae021364864f0f872a0d911b37f26a",
       "version_major": 2,
       "version_minor": 0
      },
      "text/plain": [
       "forward: 0it [00:00, ?it/s]"
      ]
     },
     "metadata": {},
     "output_type": "display_data"
    },
    {
     "data": {
      "application/vnd.jupyter.widget-view+json": {
       "model_id": "464f1a3dda68407cb991ae35723b15c7",
       "version_major": 2,
       "version_minor": 0
      },
      "text/plain": [
       "backward: 0it [00:00, ?it/s]"
      ]
     },
     "metadata": {},
     "output_type": "display_data"
    },
    {
     "data": {
      "application/vnd.jupyter.widget-view+json": {
       "model_id": "838051b39137461ca9410d84448f3354",
       "version_major": 2,
       "version_minor": 0
      },
      "text/plain": [
       "backward: 0it [00:00, ?it/s]"
      ]
     },
     "metadata": {},
     "output_type": "display_data"
    },
    {
     "name": "stdout",
     "output_type": "stream",
     "text": [
      "1: [11,160]\n"
     ]
    },
    {
     "data": {
      "application/vnd.jupyter.widget-view+json": {
       "model_id": "2a17202b87fb43668d1df640adcd59c6",
       "version_major": 2,
       "version_minor": 0
      },
      "text/plain": [
       "forward: 0it [00:00, ?it/s]"
      ]
     },
     "metadata": {},
     "output_type": "display_data"
    },
    {
     "data": {
      "application/vnd.jupyter.widget-view+json": {
       "model_id": "9be05c5ff90d4326ba3eaf8956fa50d7",
       "version_major": 2,
       "version_minor": 0
      },
      "text/plain": [
       "backward: 0it [00:00, ?it/s]"
      ]
     },
     "metadata": {},
     "output_type": "display_data"
    },
    {
     "data": {
      "application/vnd.jupyter.widget-view+json": {
       "model_id": "dbe030d5a059405eb1c458096d4b771a",
       "version_major": 2,
       "version_minor": 0
      },
      "text/plain": [
       "backward: 0it [00:00, ?it/s]"
      ]
     },
     "metadata": {},
     "output_type": "display_data"
    },
    {
     "name": "stdout",
     "output_type": "stream",
     "text": [
      "2: [21,160]\n"
     ]
    },
    {
     "data": {
      "application/vnd.jupyter.widget-view+json": {
       "model_id": "2ff4b3b6565a4cc782c4523c78f75381",
       "version_major": 2,
       "version_minor": 0
      },
      "text/plain": [
       "forward: 0it [00:00, ?it/s]"
      ]
     },
     "metadata": {},
     "output_type": "display_data"
    },
    {
     "name": "stdout",
     "output_type": "stream",
     "text": [
      "scene id 66\n",
      "scene name car59\n",
      "niter: [start, end]\n",
      "0: [0,185]\n"
     ]
    },
    {
     "data": {
      "application/vnd.jupyter.widget-view+json": {
       "model_id": "1b5b4aab6b1d47fd886838d36a0bd39a",
       "version_major": 2,
       "version_minor": 0
      },
      "text/plain": [
       "forward: 0it [00:00, ?it/s]"
      ]
     },
     "metadata": {},
     "output_type": "display_data"
    },
    {
     "data": {
      "application/vnd.jupyter.widget-view+json": {
       "model_id": "fdaf28a2a2eb41b49db1998bc92b30ac",
       "version_major": 2,
       "version_minor": 0
      },
      "text/plain": [
       "backward: 0it [00:00, ?it/s]"
      ]
     },
     "metadata": {},
     "output_type": "display_data"
    },
    {
     "data": {
      "application/vnd.jupyter.widget-view+json": {
       "model_id": "de9b2d4c96ac4478bf6c48c6f470b23d",
       "version_major": 2,
       "version_minor": 0
      },
      "text/plain": [
       "backward: 0it [00:00, ?it/s]"
      ]
     },
     "metadata": {},
     "output_type": "display_data"
    },
    {
     "data": {
      "application/vnd.jupyter.widget-view+json": {
       "model_id": "249341b8ce2f45549353be6d26df1833",
       "version_major": 2,
       "version_minor": 0
      },
      "text/plain": [
       "backward: 0it [00:00, ?it/s]"
      ]
     },
     "metadata": {},
     "output_type": "display_data"
    },
    {
     "name": "stdout",
     "output_type": "stream",
     "text": [
      "1: [20,185]\n"
     ]
    },
    {
     "data": {
      "application/vnd.jupyter.widget-view+json": {
       "model_id": "10af1dd85ce2442c90811a1e23a54865",
       "version_major": 2,
       "version_minor": 0
      },
      "text/plain": [
       "forward: 0it [00:00, ?it/s]"
      ]
     },
     "metadata": {},
     "output_type": "display_data"
    },
    {
     "data": {
      "application/vnd.jupyter.widget-view+json": {
       "model_id": "630e2d577bf74f8ca420107c91d60f3a",
       "version_major": 2,
       "version_minor": 0
      },
      "text/plain": [
       "backward: 0it [00:00, ?it/s]"
      ]
     },
     "metadata": {},
     "output_type": "display_data"
    },
    {
     "data": {
      "application/vnd.jupyter.widget-view+json": {
       "model_id": "1a9bf1a5daf144e381dd8fa4a327eaf0",
       "version_major": 2,
       "version_minor": 0
      },
      "text/plain": [
       "backward: 0it [00:00, ?it/s]"
      ]
     },
     "metadata": {},
     "output_type": "display_data"
    },
    {
     "data": {
      "application/vnd.jupyter.widget-view+json": {
       "model_id": "1691625b6b994001b2b5cae3012b2373",
       "version_major": 2,
       "version_minor": 0
      },
      "text/plain": [
       "backward: 0it [00:00, ?it/s]"
      ]
     },
     "metadata": {},
     "output_type": "display_data"
    },
    {
     "name": "stdout",
     "output_type": "stream",
     "text": [
      "2: [32,185]\n"
     ]
    },
    {
     "data": {
      "application/vnd.jupyter.widget-view+json": {
       "model_id": "b69dad2e0a1240129433df45d28d0817",
       "version_major": 2,
       "version_minor": 0
      },
      "text/plain": [
       "forward: 0it [00:00, ?it/s]"
      ]
     },
     "metadata": {},
     "output_type": "display_data"
    },
    {
     "name": "stdout",
     "output_type": "stream",
     "text": [
      "scene id 67\n",
      "scene name car61\n",
      "niter: [start, end]\n",
      "0: [0,127]\n"
     ]
    },
    {
     "data": {
      "application/vnd.jupyter.widget-view+json": {
       "model_id": "3ab68266af254316b28ac7d618d888f6",
       "version_major": 2,
       "version_minor": 0
      },
      "text/plain": [
       "forward: 0it [00:00, ?it/s]"
      ]
     },
     "metadata": {},
     "output_type": "display_data"
    },
    {
     "data": {
      "application/vnd.jupyter.widget-view+json": {
       "model_id": "902b8344f9154870ae760bf88be57877",
       "version_major": 2,
       "version_minor": 0
      },
      "text/plain": [
       "backward: 0it [00:00, ?it/s]"
      ]
     },
     "metadata": {},
     "output_type": "display_data"
    },
    {
     "data": {
      "application/vnd.jupyter.widget-view+json": {
       "model_id": "aafb307c69ba4595947476baf2b74eaf",
       "version_major": 2,
       "version_minor": 0
      },
      "text/plain": [
       "backward: 0it [00:00, ?it/s]"
      ]
     },
     "metadata": {},
     "output_type": "display_data"
    },
    {
     "name": "stdout",
     "output_type": "stream",
     "text": [
      "1: [57,127]\n"
     ]
    },
    {
     "data": {
      "application/vnd.jupyter.widget-view+json": {
       "model_id": "e868bd0e3d794bbd921182c965bdd3f1",
       "version_major": 2,
       "version_minor": 0
      },
      "text/plain": [
       "forward: 0it [00:00, ?it/s]"
      ]
     },
     "metadata": {},
     "output_type": "display_data"
    },
    {
     "data": {
      "application/vnd.jupyter.widget-view+json": {
       "model_id": "4cac388dc1be424dadc98fef2edeecdd",
       "version_major": 2,
       "version_minor": 0
      },
      "text/plain": [
       "backward: 0it [00:00, ?it/s]"
      ]
     },
     "metadata": {},
     "output_type": "display_data"
    },
    {
     "data": {
      "application/vnd.jupyter.widget-view+json": {
       "model_id": "d5afa34b11f7457a9ad07c955ccac888",
       "version_major": 2,
       "version_minor": 0
      },
      "text/plain": [
       "backward: 0it [00:00, ?it/s]"
      ]
     },
     "metadata": {},
     "output_type": "display_data"
    },
    {
     "name": "stdout",
     "output_type": "stream",
     "text": [
      "2: [88,127]\n"
     ]
    },
    {
     "data": {
      "application/vnd.jupyter.widget-view+json": {
       "model_id": "476a5bf23e87446ea782a895e104a6f1",
       "version_major": 2,
       "version_minor": 0
      },
      "text/plain": [
       "forward: 0it [00:00, ?it/s]"
      ]
     },
     "metadata": {},
     "output_type": "display_data"
    },
    {
     "name": "stdout",
     "output_type": "stream",
     "text": [
      "scene id 68\n",
      "scene name car85\n",
      "niter: [start, end]\n",
      "0: [0,155]\n"
     ]
    },
    {
     "data": {
      "application/vnd.jupyter.widget-view+json": {
       "model_id": "b367d788b1c5488ba3df611053d9818d",
       "version_major": 2,
       "version_minor": 0
      },
      "text/plain": [
       "forward: 0it [00:00, ?it/s]"
      ]
     },
     "metadata": {},
     "output_type": "display_data"
    },
    {
     "data": {
      "application/vnd.jupyter.widget-view+json": {
       "model_id": "2796b40a29994189b104fc9d34112dcb",
       "version_major": 2,
       "version_minor": 0
      },
      "text/plain": [
       "backward: 0it [00:00, ?it/s]"
      ]
     },
     "metadata": {},
     "output_type": "display_data"
    },
    {
     "name": "stdout",
     "output_type": "stream",
     "text": [
      "scene id 69\n",
      "scene name car81\n",
      "niter: [start, end]\n",
      "0: [0,111]\n"
     ]
    },
    {
     "data": {
      "application/vnd.jupyter.widget-view+json": {
       "model_id": "860a0168454a4a1eaf4c63aed4798096",
       "version_major": 2,
       "version_minor": 0
      },
      "text/plain": [
       "forward: 0it [00:00, ?it/s]"
      ]
     },
     "metadata": {},
     "output_type": "display_data"
    },
    {
     "data": {
      "application/vnd.jupyter.widget-view+json": {
       "model_id": "e595d778c84c4d7bac4591baa1d90c10",
       "version_major": 2,
       "version_minor": 0
      },
      "text/plain": [
       "backward: 0it [00:00, ?it/s]"
      ]
     },
     "metadata": {},
     "output_type": "display_data"
    },
    {
     "data": {
      "application/vnd.jupyter.widget-view+json": {
       "model_id": "0ecc2b453eba4284850cdf616c8f8409",
       "version_major": 2,
       "version_minor": 0
      },
      "text/plain": [
       "backward: 0it [00:00, ?it/s]"
      ]
     },
     "metadata": {},
     "output_type": "display_data"
    },
    {
     "name": "stdout",
     "output_type": "stream",
     "text": [
      "1: [48,111]\n"
     ]
    },
    {
     "data": {
      "application/vnd.jupyter.widget-view+json": {
       "model_id": "3060a3773ae542178180807361baefb2",
       "version_major": 2,
       "version_minor": 0
      },
      "text/plain": [
       "forward: 0it [00:00, ?it/s]"
      ]
     },
     "metadata": {},
     "output_type": "display_data"
    },
    {
     "data": {
      "application/vnd.jupyter.widget-view+json": {
       "model_id": "b1bf31fa488348bf83ffc34389937df9",
       "version_major": 2,
       "version_minor": 0
      },
      "text/plain": [
       "backward: 0it [00:00, ?it/s]"
      ]
     },
     "metadata": {},
     "output_type": "display_data"
    },
    {
     "data": {
      "application/vnd.jupyter.widget-view+json": {
       "model_id": "4cc4d05861784185802e4e620fe55b7a",
       "version_major": 2,
       "version_minor": 0
      },
      "text/plain": [
       "backward: 0it [00:00, ?it/s]"
      ]
     },
     "metadata": {},
     "output_type": "display_data"
    },
    {
     "name": "stdout",
     "output_type": "stream",
     "text": [
      "2: [72,111]\n"
     ]
    },
    {
     "data": {
      "application/vnd.jupyter.widget-view+json": {
       "model_id": "9d7b3d9dace144879752adfc3eb35ec1",
       "version_major": 2,
       "version_minor": 0
      },
      "text/plain": [
       "forward: 0it [00:00, ?it/s]"
      ]
     },
     "metadata": {},
     "output_type": "display_data"
    },
    {
     "name": "stdout",
     "output_type": "stream",
     "text": [
      "scene id 70\n",
      "scene name car12\n",
      "niter: [start, end]\n",
      "0: [0,182]\n"
     ]
    },
    {
     "data": {
      "application/vnd.jupyter.widget-view+json": {
       "model_id": "d57df67f5336461194315a875afc2298",
       "version_major": 2,
       "version_minor": 0
      },
      "text/plain": [
       "forward: 0it [00:00, ?it/s]"
      ]
     },
     "metadata": {},
     "output_type": "display_data"
    },
    {
     "data": {
      "application/vnd.jupyter.widget-view+json": {
       "model_id": "b85974f172344571975c8a301123f2e5",
       "version_major": 2,
       "version_minor": 0
      },
      "text/plain": [
       "backward: 0it [00:00, ?it/s]"
      ]
     },
     "metadata": {},
     "output_type": "display_data"
    },
    {
     "data": {
      "application/vnd.jupyter.widget-view+json": {
       "model_id": "1055955e64e4429198b6ccafa3137850",
       "version_major": 2,
       "version_minor": 0
      },
      "text/plain": [
       "backward: 0it [00:00, ?it/s]"
      ]
     },
     "metadata": {},
     "output_type": "display_data"
    },
    {
     "name": "stdout",
     "output_type": "stream",
     "text": [
      "1: [84,182]\n"
     ]
    },
    {
     "data": {
      "application/vnd.jupyter.widget-view+json": {
       "model_id": "deb566f3e5734bd09565295ab21233dc",
       "version_major": 2,
       "version_minor": 0
      },
      "text/plain": [
       "forward: 0it [00:00, ?it/s]"
      ]
     },
     "metadata": {},
     "output_type": "display_data"
    },
    {
     "data": {
      "application/vnd.jupyter.widget-view+json": {
       "model_id": "8b96124ca08a4360973621158898af0d",
       "version_major": 2,
       "version_minor": 0
      },
      "text/plain": [
       "backward: 0it [00:00, ?it/s]"
      ]
     },
     "metadata": {},
     "output_type": "display_data"
    },
    {
     "data": {
      "application/vnd.jupyter.widget-view+json": {
       "model_id": "f0f62f74c2e04b9ebc5bc8c3eb9b8328",
       "version_major": 2,
       "version_minor": 0
      },
      "text/plain": [
       "backward: 0it [00:00, ?it/s]"
      ]
     },
     "metadata": {},
     "output_type": "display_data"
    },
    {
     "name": "stdout",
     "output_type": "stream",
     "text": [
      "2: [130,182]\n"
     ]
    },
    {
     "data": {
      "application/vnd.jupyter.widget-view+json": {
       "model_id": "f77a3e8536644fdd992083eaa8c30dfe",
       "version_major": 2,
       "version_minor": 0
      },
      "text/plain": [
       "forward: 0it [00:00, ?it/s]"
      ]
     },
     "metadata": {},
     "output_type": "display_data"
    },
    {
     "name": "stdout",
     "output_type": "stream",
     "text": [
      "scene id 71\n",
      "scene name car76\n",
      "niter: [start, end]\n",
      "0: [0,138]\n"
     ]
    },
    {
     "data": {
      "application/vnd.jupyter.widget-view+json": {
       "model_id": "88dd6c5f56d24253b1f8e4e7e5e39ca7",
       "version_major": 2,
       "version_minor": 0
      },
      "text/plain": [
       "forward: 0it [00:00, ?it/s]"
      ]
     },
     "metadata": {},
     "output_type": "display_data"
    },
    {
     "data": {
      "application/vnd.jupyter.widget-view+json": {
       "model_id": "9f94d1ce9095429fba81efbe38c32dc9",
       "version_major": 2,
       "version_minor": 0
      },
      "text/plain": [
       "backward: 0it [00:00, ?it/s]"
      ]
     },
     "metadata": {},
     "output_type": "display_data"
    },
    {
     "name": "stdout",
     "output_type": "stream",
     "text": [
      "scene id 72\n",
      "scene name car49\n",
      "niter: [start, end]\n",
      "0: [0,150]\n"
     ]
    },
    {
     "data": {
      "application/vnd.jupyter.widget-view+json": {
       "model_id": "e6fda61ff75343a98e78fc055c13d5be",
       "version_major": 2,
       "version_minor": 0
      },
      "text/plain": [
       "forward: 0it [00:00, ?it/s]"
      ]
     },
     "metadata": {},
     "output_type": "display_data"
    },
    {
     "data": {
      "application/vnd.jupyter.widget-view+json": {
       "model_id": "ec15c4c2c0cf456e9a64f16bfc4741ba",
       "version_major": 2,
       "version_minor": 0
      },
      "text/plain": [
       "backward: 0it [00:00, ?it/s]"
      ]
     },
     "metadata": {},
     "output_type": "display_data"
    },
    {
     "name": "stdout",
     "output_type": "stream",
     "text": [
      "scene id 73\n",
      "scene name car50\n",
      "niter: [start, end]\n",
      "0: [0,155]\n"
     ]
    },
    {
     "data": {
      "application/vnd.jupyter.widget-view+json": {
       "model_id": "d674fdbacd2b479aad9b36f12a877957",
       "version_major": 2,
       "version_minor": 0
      },
      "text/plain": [
       "forward: 0it [00:00, ?it/s]"
      ]
     },
     "metadata": {},
     "output_type": "display_data"
    },
    {
     "data": {
      "application/vnd.jupyter.widget-view+json": {
       "model_id": "581cfe27e58f45e3ad030890f7c999cb",
       "version_major": 2,
       "version_minor": 0
      },
      "text/plain": [
       "backward: 0it [00:00, ?it/s]"
      ]
     },
     "metadata": {},
     "output_type": "display_data"
    },
    {
     "data": {
      "application/vnd.jupyter.widget-view+json": {
       "model_id": "1a31bea89b8e4e9dbc701c9f60f25ef0",
       "version_major": 2,
       "version_minor": 0
      },
      "text/plain": [
       "backward: 0it [00:00, ?it/s]"
      ]
     },
     "metadata": {},
     "output_type": "display_data"
    },
    {
     "data": {
      "application/vnd.jupyter.widget-view+json": {
       "model_id": "95dece047597417f80c41d9c70a0a30a",
       "version_major": 2,
       "version_minor": 0
      },
      "text/plain": [
       "backward: 0it [00:00, ?it/s]"
      ]
     },
     "metadata": {},
     "output_type": "display_data"
    },
    {
     "name": "stdout",
     "output_type": "stream",
     "text": [
      "1: [19,155]\n"
     ]
    },
    {
     "data": {
      "application/vnd.jupyter.widget-view+json": {
       "model_id": "adc404024ac1451fac5b8b5117747eb9",
       "version_major": 2,
       "version_minor": 0
      },
      "text/plain": [
       "forward: 0it [00:00, ?it/s]"
      ]
     },
     "metadata": {},
     "output_type": "display_data"
    },
    {
     "data": {
      "application/vnd.jupyter.widget-view+json": {
       "model_id": "178ebaf5a269466fa9c1d6dd52b76b48",
       "version_major": 2,
       "version_minor": 0
      },
      "text/plain": [
       "backward: 0it [00:00, ?it/s]"
      ]
     },
     "metadata": {},
     "output_type": "display_data"
    },
    {
     "data": {
      "application/vnd.jupyter.widget-view+json": {
       "model_id": "0e5dacc7a8534bd28b02f821af27d013",
       "version_major": 2,
       "version_minor": 0
      },
      "text/plain": [
       "backward: 0it [00:00, ?it/s]"
      ]
     },
     "metadata": {},
     "output_type": "display_data"
    },
    {
     "data": {
      "application/vnd.jupyter.widget-view+json": {
       "model_id": "5e350f7f5c1b483d900fbd795ffdfd24",
       "version_major": 2,
       "version_minor": 0
      },
      "text/plain": [
       "backward: 0it [00:00, ?it/s]"
      ]
     },
     "metadata": {},
     "output_type": "display_data"
    },
    {
     "name": "stdout",
     "output_type": "stream",
     "text": [
      "2: [42,155]\n"
     ]
    },
    {
     "data": {
      "application/vnd.jupyter.widget-view+json": {
       "model_id": "a72611a710f74903afde295b4d57bdd0",
       "version_major": 2,
       "version_minor": 0
      },
      "text/plain": [
       "forward: 0it [00:00, ?it/s]"
      ]
     },
     "metadata": {},
     "output_type": "display_data"
    },
    {
     "name": "stdout",
     "output_type": "stream",
     "text": [
      "scene id 74\n",
      "scene name rider18\n",
      "niter: [start, end]\n",
      "0: [0,124]\n"
     ]
    },
    {
     "data": {
      "application/vnd.jupyter.widget-view+json": {
       "model_id": "1ca11103d00e4f18a559c57ebd9b9e39",
       "version_major": 2,
       "version_minor": 0
      },
      "text/plain": [
       "forward: 0it [00:00, ?it/s]"
      ]
     },
     "metadata": {},
     "output_type": "display_data"
    },
    {
     "data": {
      "application/vnd.jupyter.widget-view+json": {
       "model_id": "80c16956e8094d8cba9f4afb30c2d249",
       "version_major": 2,
       "version_minor": 0
      },
      "text/plain": [
       "backward: 0it [00:00, ?it/s]"
      ]
     },
     "metadata": {},
     "output_type": "display_data"
    },
    {
     "data": {
      "application/vnd.jupyter.widget-view+json": {
       "model_id": "0c0ddc7d07134a9ea271f0e61baba59d",
       "version_major": 2,
       "version_minor": 0
      },
      "text/plain": [
       "backward: 0it [00:00, ?it/s]"
      ]
     },
     "metadata": {},
     "output_type": "display_data"
    },
    {
     "name": "stdout",
     "output_type": "stream",
     "text": [
      "1: [58,124]\n"
     ]
    },
    {
     "data": {
      "application/vnd.jupyter.widget-view+json": {
       "model_id": "764b178dec984e5e850d4597480a0c04",
       "version_major": 2,
       "version_minor": 0
      },
      "text/plain": [
       "forward: 0it [00:00, ?it/s]"
      ]
     },
     "metadata": {},
     "output_type": "display_data"
    },
    {
     "data": {
      "application/vnd.jupyter.widget-view+json": {
       "model_id": "d8573b158d7e4e5b94ee0b3c769b9b46",
       "version_major": 2,
       "version_minor": 0
      },
      "text/plain": [
       "backward: 0it [00:00, ?it/s]"
      ]
     },
     "metadata": {},
     "output_type": "display_data"
    },
    {
     "name": "stdout",
     "output_type": "stream",
     "text": [
      "scene id 75\n",
      "scene name car62\n",
      "niter: [start, end]\n",
      "0: [0,159]\n"
     ]
    },
    {
     "data": {
      "application/vnd.jupyter.widget-view+json": {
       "model_id": "b01827e50dda476784add58fed290ed6",
       "version_major": 2,
       "version_minor": 0
      },
      "text/plain": [
       "forward: 0it [00:00, ?it/s]"
      ]
     },
     "metadata": {},
     "output_type": "display_data"
    },
    {
     "data": {
      "application/vnd.jupyter.widget-view+json": {
       "model_id": "9d06f6ed88814291b4ddf72eae9b65da",
       "version_major": 2,
       "version_minor": 0
      },
      "text/plain": [
       "backward: 0it [00:00, ?it/s]"
      ]
     },
     "metadata": {},
     "output_type": "display_data"
    },
    {
     "data": {
      "application/vnd.jupyter.widget-view+json": {
       "model_id": "023d39e4b2424008af2b04187a89d1b1",
       "version_major": 2,
       "version_minor": 0
      },
      "text/plain": [
       "backward: 0it [00:00, ?it/s]"
      ]
     },
     "metadata": {},
     "output_type": "display_data"
    },
    {
     "data": {
      "application/vnd.jupyter.widget-view+json": {
       "model_id": "3319e54206ff40baaf38e0ec33872757",
       "version_major": 2,
       "version_minor": 0
      },
      "text/plain": [
       "backward: 0it [00:00, ?it/s]"
      ]
     },
     "metadata": {},
     "output_type": "display_data"
    },
    {
     "name": "stdout",
     "output_type": "stream",
     "text": [
      "1: [2,159]\n"
     ]
    },
    {
     "data": {
      "application/vnd.jupyter.widget-view+json": {
       "model_id": "57fb14067d704d30990dd80b865de6f1",
       "version_major": 2,
       "version_minor": 0
      },
      "text/plain": [
       "forward: 0it [00:00, ?it/s]"
      ]
     },
     "metadata": {},
     "output_type": "display_data"
    },
    {
     "data": {
      "application/vnd.jupyter.widget-view+json": {
       "model_id": "dffd7043feeb4ac9a5328dd05416383f",
       "version_major": 2,
       "version_minor": 0
      },
      "text/plain": [
       "backward: 0it [00:00, ?it/s]"
      ]
     },
     "metadata": {},
     "output_type": "display_data"
    },
    {
     "data": {
      "application/vnd.jupyter.widget-view+json": {
       "model_id": "b210d2a5f4d34778a78595126707664a",
       "version_major": 2,
       "version_minor": 0
      },
      "text/plain": [
       "backward: 0it [00:00, ?it/s]"
      ]
     },
     "metadata": {},
     "output_type": "display_data"
    },
    {
     "data": {
      "application/vnd.jupyter.widget-view+json": {
       "model_id": "aab1d6354b1b48938c1058a19fe73e22",
       "version_major": 2,
       "version_minor": 0
      },
      "text/plain": [
       "backward: 0it [00:00, ?it/s]"
      ]
     },
     "metadata": {},
     "output_type": "display_data"
    },
    {
     "name": "stdout",
     "output_type": "stream",
     "text": [
      "2: [12,159]\n"
     ]
    },
    {
     "data": {
      "application/vnd.jupyter.widget-view+json": {
       "model_id": "1cfe50bc760c4508aa97926811c229f4",
       "version_major": 2,
       "version_minor": 0
      },
      "text/plain": [
       "forward: 0it [00:00, ?it/s]"
      ]
     },
     "metadata": {},
     "output_type": "display_data"
    },
    {
     "name": "stdout",
     "output_type": "stream",
     "text": [
      "scene id 76\n",
      "scene name pool11\n",
      "niter: [start, end]\n",
      "0: [0,250]\n"
     ]
    },
    {
     "data": {
      "application/vnd.jupyter.widget-view+json": {
       "model_id": "5b4e47a36aae419d8e16e42744f1f9b4",
       "version_major": 2,
       "version_minor": 0
      },
      "text/plain": [
       "forward: 0it [00:00, ?it/s]"
      ]
     },
     "metadata": {},
     "output_type": "display_data"
    },
    {
     "data": {
      "application/vnd.jupyter.widget-view+json": {
       "model_id": "4285026917d94e2c92f6b294e74c9ece",
       "version_major": 2,
       "version_minor": 0
      },
      "text/plain": [
       "backward: 0it [00:00, ?it/s]"
      ]
     },
     "metadata": {},
     "output_type": "display_data"
    },
    {
     "data": {
      "application/vnd.jupyter.widget-view+json": {
       "model_id": "531c0181fae74ed6b56f705070bb446c",
       "version_major": 2,
       "version_minor": 0
      },
      "text/plain": [
       "backward: 0it [00:00, ?it/s]"
      ]
     },
     "metadata": {},
     "output_type": "display_data"
    },
    {
     "name": "stdout",
     "output_type": "stream",
     "text": [
      "1: [25,250]\n"
     ]
    },
    {
     "data": {
      "application/vnd.jupyter.widget-view+json": {
       "model_id": "663938b8103c41d8a5a297ece7a394d5",
       "version_major": 2,
       "version_minor": 0
      },
      "text/plain": [
       "forward: 0it [00:00, ?it/s]"
      ]
     },
     "metadata": {},
     "output_type": "display_data"
    },
    {
     "data": {
      "application/vnd.jupyter.widget-view+json": {
       "model_id": "49b9ae40fbd6489da7e2fa9b7f56849a",
       "version_major": 2,
       "version_minor": 0
      },
      "text/plain": [
       "backward: 0it [00:00, ?it/s]"
      ]
     },
     "metadata": {},
     "output_type": "display_data"
    },
    {
     "data": {
      "application/vnd.jupyter.widget-view+json": {
       "model_id": "189858e9a50849a6827b66257c0cf403",
       "version_major": 2,
       "version_minor": 0
      },
      "text/plain": [
       "backward: 0it [00:00, ?it/s]"
      ]
     },
     "metadata": {},
     "output_type": "display_data"
    },
    {
     "name": "stdout",
     "output_type": "stream",
     "text": [
      "2: [37,250]\n"
     ]
    },
    {
     "data": {
      "application/vnd.jupyter.widget-view+json": {
       "model_id": "86ca871a091c4658b238957b4757fae0",
       "version_major": 2,
       "version_minor": 0
      },
      "text/plain": [
       "forward: 0it [00:00, ?it/s]"
      ]
     },
     "metadata": {},
     "output_type": "display_data"
    },
    {
     "name": "stdout",
     "output_type": "stream",
     "text": [
      "scene id 77\n",
      "scene name ball&mirror9\n",
      "niter: [start, end]\n",
      "0: [0,250]\n"
     ]
    },
    {
     "data": {
      "application/vnd.jupyter.widget-view+json": {
       "model_id": "347f533053e84d2d85f566b837b032bd",
       "version_major": 2,
       "version_minor": 0
      },
      "text/plain": [
       "forward: 0it [00:00, ?it/s]"
      ]
     },
     "metadata": {},
     "output_type": "display_data"
    },
    {
     "data": {
      "application/vnd.jupyter.widget-view+json": {
       "model_id": "5bcb77494fa24b94b58363144c377df5",
       "version_major": 2,
       "version_minor": 0
      },
      "text/plain": [
       "backward: 0it [00:00, ?it/s]"
      ]
     },
     "metadata": {},
     "output_type": "display_data"
    },
    {
     "data": {
      "application/vnd.jupyter.widget-view+json": {
       "model_id": "874227eab1b04db6a839e3d21276340f",
       "version_major": 2,
       "version_minor": 0
      },
      "text/plain": [
       "backward: 0it [00:00, ?it/s]"
      ]
     },
     "metadata": {},
     "output_type": "display_data"
    },
    {
     "name": "stdout",
     "output_type": "stream",
     "text": [
      "1: [40,250]\n"
     ]
    },
    {
     "data": {
      "application/vnd.jupyter.widget-view+json": {
       "model_id": "70fc2f1b4fc1418995a4c036a65b08aa",
       "version_major": 2,
       "version_minor": 0
      },
      "text/plain": [
       "forward: 0it [00:00, ?it/s]"
      ]
     },
     "metadata": {},
     "output_type": "display_data"
    },
    {
     "data": {
      "application/vnd.jupyter.widget-view+json": {
       "model_id": "518082970a1f4007bfd5ee397ef03ad0",
       "version_major": 2,
       "version_minor": 0
      },
      "text/plain": [
       "backward: 0it [00:00, ?it/s]"
      ]
     },
     "metadata": {},
     "output_type": "display_data"
    },
    {
     "data": {
      "application/vnd.jupyter.widget-view+json": {
       "model_id": "046420645bd64c22afd1fba7ceed594d",
       "version_major": 2,
       "version_minor": 0
      },
      "text/plain": [
       "backward: 0it [00:00, ?it/s]"
      ]
     },
     "metadata": {},
     "output_type": "display_data"
    },
    {
     "name": "stdout",
     "output_type": "stream",
     "text": [
      "2: [66,250]\n"
     ]
    },
    {
     "data": {
      "application/vnd.jupyter.widget-view+json": {
       "model_id": "8bbb84085e514ec59a9b5d23d9487d79",
       "version_major": 2,
       "version_minor": 0
      },
      "text/plain": [
       "forward: 0it [00:00, ?it/s]"
      ]
     },
     "metadata": {},
     "output_type": "display_data"
    },
    {
     "name": "stdout",
     "output_type": "stream",
     "text": [
      "scene id 78\n",
      "scene name cards19\n",
      "niter: [start, end]\n",
      "0: [0,275]\n"
     ]
    },
    {
     "data": {
      "application/vnd.jupyter.widget-view+json": {
       "model_id": "e6b2658e743a4a7fa368c375ba4ed9a9",
       "version_major": 2,
       "version_minor": 0
      },
      "text/plain": [
       "forward: 0it [00:00, ?it/s]"
      ]
     },
     "metadata": {},
     "output_type": "display_data"
    },
    {
     "data": {
      "application/vnd.jupyter.widget-view+json": {
       "model_id": "80bca037908f49538bcb7418c6acd452",
       "version_major": 2,
       "version_minor": 0
      },
      "text/plain": [
       "backward: 0it [00:00, ?it/s]"
      ]
     },
     "metadata": {},
     "output_type": "display_data"
    },
    {
     "data": {
      "application/vnd.jupyter.widget-view+json": {
       "model_id": "a2aa0dfc49d2439b8cbc7be9bbcac49d",
       "version_major": 2,
       "version_minor": 0
      },
      "text/plain": [
       "backward: 0it [00:00, ?it/s]"
      ]
     },
     "metadata": {},
     "output_type": "display_data"
    },
    {
     "data": {
      "application/vnd.jupyter.widget-view+json": {
       "model_id": "953129268b974fb38080a8547d9b933d",
       "version_major": 2,
       "version_minor": 0
      },
      "text/plain": [
       "backward: 0it [00:00, ?it/s]"
      ]
     },
     "metadata": {},
     "output_type": "display_data"
    },
    {
     "data": {
      "application/vnd.jupyter.widget-view+json": {
       "model_id": "0f2631ff905945adbdee722683c9589a",
       "version_major": 2,
       "version_minor": 0
      },
      "text/plain": [
       "backward: 0it [00:00, ?it/s]"
      ]
     },
     "metadata": {},
     "output_type": "display_data"
    },
    {
     "name": "stdout",
     "output_type": "stream",
     "text": [
      "1: [4,275]\n"
     ]
    },
    {
     "data": {
      "application/vnd.jupyter.widget-view+json": {
       "model_id": "4e96c3a915f445759c0cf89bd631b124",
       "version_major": 2,
       "version_minor": 0
      },
      "text/plain": [
       "forward: 0it [00:00, ?it/s]"
      ]
     },
     "metadata": {},
     "output_type": "display_data"
    },
    {
     "data": {
      "application/vnd.jupyter.widget-view+json": {
       "model_id": "88b458b8953745549102f31a87685e5c",
       "version_major": 2,
       "version_minor": 0
      },
      "text/plain": [
       "backward: 0it [00:00, ?it/s]"
      ]
     },
     "metadata": {},
     "output_type": "display_data"
    },
    {
     "data": {
      "application/vnd.jupyter.widget-view+json": {
       "model_id": "e1f17c1bfff343059fa46b0508edfb29",
       "version_major": 2,
       "version_minor": 0
      },
      "text/plain": [
       "backward: 0it [00:00, ?it/s]"
      ]
     },
     "metadata": {},
     "output_type": "display_data"
    },
    {
     "data": {
      "application/vnd.jupyter.widget-view+json": {
       "model_id": "d225dd515d544a13bb7f81c237201cfb",
       "version_major": 2,
       "version_minor": 0
      },
      "text/plain": [
       "backward: 0it [00:00, ?it/s]"
      ]
     },
     "metadata": {},
     "output_type": "display_data"
    },
    {
     "name": "stdout",
     "output_type": "stream",
     "text": [
      "2: [45,275]\n"
     ]
    },
    {
     "data": {
      "application/vnd.jupyter.widget-view+json": {
       "model_id": "ac460eef7f604b4c85dea9c1f7bdb179",
       "version_major": 2,
       "version_minor": 0
      },
      "text/plain": [
       "forward: 0it [00:00, ?it/s]"
      ]
     },
     "metadata": {},
     "output_type": "display_data"
    },
    {
     "name": "stdout",
     "output_type": "stream",
     "text": [
      "scene id 79\n",
      "scene name whitecup1\n",
      "niter: [start, end]\n",
      "0: [0,400]\n"
     ]
    },
    {
     "data": {
      "application/vnd.jupyter.widget-view+json": {
       "model_id": "2c6bb2e84adb43a0a57617a5b77a946c",
       "version_major": 2,
       "version_minor": 0
      },
      "text/plain": [
       "forward: 0it [00:00, ?it/s]"
      ]
     },
     "metadata": {},
     "output_type": "display_data"
    },
    {
     "data": {
      "application/vnd.jupyter.widget-view+json": {
       "model_id": "d5d20086f7db4903bcc139b3e8877a89",
       "version_major": 2,
       "version_minor": 0
      },
      "text/plain": [
       "backward: 0it [00:00, ?it/s]"
      ]
     },
     "metadata": {},
     "output_type": "display_data"
    },
    {
     "name": "stdout",
     "output_type": "stream",
     "text": [
      "scene id 80\n",
      "scene name dice2\n",
      "niter: [start, end]\n",
      "0: [0,450]\n"
     ]
    },
    {
     "data": {
      "application/vnd.jupyter.widget-view+json": {
       "model_id": "c1812e34e67b4867b9e047f4f134cf8a",
       "version_major": 2,
       "version_minor": 0
      },
      "text/plain": [
       "forward: 0it [00:00, ?it/s]"
      ]
     },
     "metadata": {},
     "output_type": "display_data"
    },
    {
     "data": {
      "application/vnd.jupyter.widget-view+json": {
       "model_id": "f0493f91f6dd4298a03bd864088730d7",
       "version_major": 2,
       "version_minor": 0
      },
      "text/plain": [
       "backward: 0it [00:00, ?it/s]"
      ]
     },
     "metadata": {},
     "output_type": "display_data"
    },
    {
     "data": {
      "application/vnd.jupyter.widget-view+json": {
       "model_id": "3c383dd6e1b8416b92ee2aadfdccdaac",
       "version_major": 2,
       "version_minor": 0
      },
      "text/plain": [
       "backward: 0it [00:00, ?it/s]"
      ]
     },
     "metadata": {},
     "output_type": "display_data"
    },
    {
     "name": "stdout",
     "output_type": "stream",
     "text": [
      "1: [45,450]\n"
     ]
    },
    {
     "data": {
      "application/vnd.jupyter.widget-view+json": {
       "model_id": "f860568bac8c49f28e3cc3aa00d56e16",
       "version_major": 2,
       "version_minor": 0
      },
      "text/plain": [
       "forward: 0it [00:00, ?it/s]"
      ]
     },
     "metadata": {},
     "output_type": "display_data"
    },
    {
     "data": {
      "application/vnd.jupyter.widget-view+json": {
       "model_id": "04777e654bf5444bb9a309093ec7892e",
       "version_major": 2,
       "version_minor": 0
      },
      "text/plain": [
       "backward: 0it [00:00, ?it/s]"
      ]
     },
     "metadata": {},
     "output_type": "display_data"
    },
    {
     "data": {
      "application/vnd.jupyter.widget-view+json": {
       "model_id": "2314b6a704d74e9d960099ad8eb8a577",
       "version_major": 2,
       "version_minor": 0
      },
      "text/plain": [
       "backward: 0it [00:00, ?it/s]"
      ]
     },
     "metadata": {},
     "output_type": "display_data"
    },
    {
     "data": {
      "application/vnd.jupyter.widget-view+json": {
       "model_id": "35f263aca42f4988bf1262c4b387cf9f",
       "version_major": 2,
       "version_minor": 0
      },
      "text/plain": [
       "backward: 0it [00:00, ?it/s]"
      ]
     },
     "metadata": {},
     "output_type": "display_data"
    },
    {
     "name": "stdout",
     "output_type": "stream",
     "text": [
      "2: [64,450]\n"
     ]
    },
    {
     "data": {
      "application/vnd.jupyter.widget-view+json": {
       "model_id": "0aba943cd0c5434cb0f149c0d4542b11",
       "version_major": 2,
       "version_minor": 0
      },
      "text/plain": [
       "forward: 0it [00:00, ?it/s]"
      ]
     },
     "metadata": {},
     "output_type": "display_data"
    },
    {
     "name": "stdout",
     "output_type": "stream",
     "text": [
      "scene id 81\n",
      "scene name rainystreet16\n",
      "niter: [start, end]\n",
      "0: [0,400]\n"
     ]
    },
    {
     "data": {
      "application/vnd.jupyter.widget-view+json": {
       "model_id": "8ae6358a408249d996da39f3b43c7ad7",
       "version_major": 2,
       "version_minor": 0
      },
      "text/plain": [
       "forward: 0it [00:00, ?it/s]"
      ]
     },
     "metadata": {},
     "output_type": "display_data"
    },
    {
     "data": {
      "application/vnd.jupyter.widget-view+json": {
       "model_id": "0dd62a13de374aaeb2a05b870f9567e4",
       "version_major": 2,
       "version_minor": 0
      },
      "text/plain": [
       "backward: 0it [00:00, ?it/s]"
      ]
     },
     "metadata": {},
     "output_type": "display_data"
    },
    {
     "data": {
      "application/vnd.jupyter.widget-view+json": {
       "model_id": "620caaf29acc4a2297d765a89a223e01",
       "version_major": 2,
       "version_minor": 0
      },
      "text/plain": [
       "backward: 0it [00:00, ?it/s]"
      ]
     },
     "metadata": {},
     "output_type": "display_data"
    },
    {
     "data": {
      "application/vnd.jupyter.widget-view+json": {
       "model_id": "350d5ee2c8184355a3d9b44c4ffb3184",
       "version_major": 2,
       "version_minor": 0
      },
      "text/plain": [
       "backward: 0it [00:00, ?it/s]"
      ]
     },
     "metadata": {},
     "output_type": "display_data"
    },
    {
     "name": "stdout",
     "output_type": "stream",
     "text": [
      "1: [90,400]\n"
     ]
    },
    {
     "data": {
      "application/vnd.jupyter.widget-view+json": {
       "model_id": "f3db13c22a0447c8918ec6b17be5dc8e",
       "version_major": 2,
       "version_minor": 0
      },
      "text/plain": [
       "forward: 0it [00:00, ?it/s]"
      ]
     },
     "metadata": {},
     "output_type": "display_data"
    },
    {
     "data": {
      "application/vnd.jupyter.widget-view+json": {
       "model_id": "bf26660a7905414ab70322f1b33a6014",
       "version_major": 2,
       "version_minor": 0
      },
      "text/plain": [
       "backward: 0it [00:00, ?it/s]"
      ]
     },
     "metadata": {},
     "output_type": "display_data"
    },
    {
     "data": {
      "application/vnd.jupyter.widget-view+json": {
       "model_id": "db10457ff6734fe78bbb59a1597e147f",
       "version_major": 2,
       "version_minor": 0
      },
      "text/plain": [
       "backward: 0it [00:00, ?it/s]"
      ]
     },
     "metadata": {},
     "output_type": "display_data"
    },
    {
     "data": {
      "application/vnd.jupyter.widget-view+json": {
       "model_id": "052a5dc824eb40e59e78dcbb9571d4e0",
       "version_major": 2,
       "version_minor": 0
      },
      "text/plain": [
       "backward: 0it [00:00, ?it/s]"
      ]
     },
     "metadata": {},
     "output_type": "display_data"
    },
    {
     "name": "stdout",
     "output_type": "stream",
     "text": [
      "2: [129,400]\n"
     ]
    },
    {
     "data": {
      "application/vnd.jupyter.widget-view+json": {
       "model_id": "25b87577a4f3454d8e3c8f73a0150724",
       "version_major": 2,
       "version_minor": 0
      },
      "text/plain": [
       "forward: 0it [00:00, ?it/s]"
      ]
     },
     "metadata": {},
     "output_type": "display_data"
    },
    {
     "name": "stdout",
     "output_type": "stream",
     "text": [
      "scene id 82\n",
      "scene name pool10\n",
      "niter: [start, end]\n",
      "0: [0,250]\n"
     ]
    },
    {
     "data": {
      "application/vnd.jupyter.widget-view+json": {
       "model_id": "6725e1a2ee724a4986d98559df80b39e",
       "version_major": 2,
       "version_minor": 0
      },
      "text/plain": [
       "forward: 0it [00:00, ?it/s]"
      ]
     },
     "metadata": {},
     "output_type": "display_data"
    },
    {
     "data": {
      "application/vnd.jupyter.widget-view+json": {
       "model_id": "e59021657e9c48b29edab142b078846f",
       "version_major": 2,
       "version_minor": 0
      },
      "text/plain": [
       "backward: 0it [00:00, ?it/s]"
      ]
     },
     "metadata": {},
     "output_type": "display_data"
    },
    {
     "data": {
      "application/vnd.jupyter.widget-view+json": {
       "model_id": "6f1a243abe274219b0236a7c224a5c42",
       "version_major": 2,
       "version_minor": 0
      },
      "text/plain": [
       "backward: 0it [00:00, ?it/s]"
      ]
     },
     "metadata": {},
     "output_type": "display_data"
    },
    {
     "data": {
      "application/vnd.jupyter.widget-view+json": {
       "model_id": "29ccd2d8b4c447da8a1500a2537a80d8",
       "version_major": 2,
       "version_minor": 0
      },
      "text/plain": [
       "backward: 0it [00:00, ?it/s]"
      ]
     },
     "metadata": {},
     "output_type": "display_data"
    },
    {
     "name": "stdout",
     "output_type": "stream",
     "text": [
      "1: [49,250]\n"
     ]
    },
    {
     "data": {
      "application/vnd.jupyter.widget-view+json": {
       "model_id": "0936e6ba756c4b099461ddee975697cf",
       "version_major": 2,
       "version_minor": 0
      },
      "text/plain": [
       "forward: 0it [00:00, ?it/s]"
      ]
     },
     "metadata": {},
     "output_type": "display_data"
    },
    {
     "data": {
      "application/vnd.jupyter.widget-view+json": {
       "model_id": "c5541df455f847fbb5e8d8e78ea17204",
       "version_major": 2,
       "version_minor": 0
      },
      "text/plain": [
       "backward: 0it [00:00, ?it/s]"
      ]
     },
     "metadata": {},
     "output_type": "display_data"
    },
    {
     "data": {
      "application/vnd.jupyter.widget-view+json": {
       "model_id": "188cc7051e13443e98743ebc059dffa2",
       "version_major": 2,
       "version_minor": 0
      },
      "text/plain": [
       "backward: 0it [00:00, ?it/s]"
      ]
     },
     "metadata": {},
     "output_type": "display_data"
    },
    {
     "data": {
      "application/vnd.jupyter.widget-view+json": {
       "model_id": "4a107663345045b0b3ef6968d1999908",
       "version_major": 2,
       "version_minor": 0
      },
      "text/plain": [
       "backward: 0it [00:00, ?it/s]"
      ]
     },
     "metadata": {},
     "output_type": "display_data"
    },
    {
     "name": "stdout",
     "output_type": "stream",
     "text": [
      "2: [76,250]\n"
     ]
    },
    {
     "data": {
      "application/vnd.jupyter.widget-view+json": {
       "model_id": "779d4c9ffb3e455187bfb4a60b7469d8",
       "version_major": 2,
       "version_minor": 0
      },
      "text/plain": [
       "forward: 0it [00:00, ?it/s]"
      ]
     },
     "metadata": {},
     "output_type": "display_data"
    },
    {
     "name": "stdout",
     "output_type": "stream",
     "text": [
      "scene id 83\n",
      "scene name partylights6\n",
      "niter: [start, end]\n",
      "0: [0,250]\n"
     ]
    },
    {
     "data": {
      "application/vnd.jupyter.widget-view+json": {
       "model_id": "671c6653f64b4d14a67e06c94cd71a92",
       "version_major": 2,
       "version_minor": 0
      },
      "text/plain": [
       "forward: 0it [00:00, ?it/s]"
      ]
     },
     "metadata": {},
     "output_type": "display_data"
    },
    {
     "data": {
      "application/vnd.jupyter.widget-view+json": {
       "model_id": "91439ba112ca444fa01a85bc5c88df62",
       "version_major": 2,
       "version_minor": 0
      },
      "text/plain": [
       "backward: 0it [00:00, ?it/s]"
      ]
     },
     "metadata": {},
     "output_type": "display_data"
    },
    {
     "data": {
      "application/vnd.jupyter.widget-view+json": {
       "model_id": "c86d329cc8fb4f42af8b7ffaa9426769",
       "version_major": 2,
       "version_minor": 0
      },
      "text/plain": [
       "backward: 0it [00:00, ?it/s]"
      ]
     },
     "metadata": {},
     "output_type": "display_data"
    },
    {
     "data": {
      "application/vnd.jupyter.widget-view+json": {
       "model_id": "73d9d3a3823049929a1fb09e003da084",
       "version_major": 2,
       "version_minor": 0
      },
      "text/plain": [
       "backward: 0it [00:00, ?it/s]"
      ]
     },
     "metadata": {},
     "output_type": "display_data"
    },
    {
     "data": {
      "application/vnd.jupyter.widget-view+json": {
       "model_id": "f87a78cdbe7741c3afd8701cda2f532d",
       "version_major": 2,
       "version_minor": 0
      },
      "text/plain": [
       "backward: 0it [00:00, ?it/s]"
      ]
     },
     "metadata": {},
     "output_type": "display_data"
    },
    {
     "data": {
      "application/vnd.jupyter.widget-view+json": {
       "model_id": "eca7d48671ad41d7a56b5f619713937f",
       "version_major": 2,
       "version_minor": 0
      },
      "text/plain": [
       "backward: 0it [00:00, ?it/s]"
      ]
     },
     "metadata": {},
     "output_type": "display_data"
    },
    {
     "name": "stdout",
     "output_type": "stream",
     "text": [
      "1: [8,250]\n"
     ]
    },
    {
     "data": {
      "application/vnd.jupyter.widget-view+json": {
       "model_id": "63381ff5aa8e4ff6981cecda75716fb2",
       "version_major": 2,
       "version_minor": 0
      },
      "text/plain": [
       "forward: 0it [00:00, ?it/s]"
      ]
     },
     "metadata": {},
     "output_type": "display_data"
    },
    {
     "data": {
      "application/vnd.jupyter.widget-view+json": {
       "model_id": "885f767872ea494db3b75f7244f234bb",
       "version_major": 2,
       "version_minor": 0
      },
      "text/plain": [
       "backward: 0it [00:00, ?it/s]"
      ]
     },
     "metadata": {},
     "output_type": "display_data"
    },
    {
     "data": {
      "application/vnd.jupyter.widget-view+json": {
       "model_id": "71c3998b233f42afbff46ec62149fec1",
       "version_major": 2,
       "version_minor": 0
      },
      "text/plain": [
       "backward: 0it [00:00, ?it/s]"
      ]
     },
     "metadata": {},
     "output_type": "display_data"
    },
    {
     "data": {
      "application/vnd.jupyter.widget-view+json": {
       "model_id": "9522db97c4d54dd1b6ef7226723e52f1",
       "version_major": 2,
       "version_minor": 0
      },
      "text/plain": [
       "backward: 0it [00:00, ?it/s]"
      ]
     },
     "metadata": {},
     "output_type": "display_data"
    },
    {
     "data": {
      "application/vnd.jupyter.widget-view+json": {
       "model_id": "a9a499ad71444cdfb07de5a34b975f7c",
       "version_major": 2,
       "version_minor": 0
      },
      "text/plain": [
       "backward: 0it [00:00, ?it/s]"
      ]
     },
     "metadata": {},
     "output_type": "display_data"
    },
    {
     "data": {
      "application/vnd.jupyter.widget-view+json": {
       "model_id": "1b63b6aa50a8448ca1f950fa6dd673d3",
       "version_major": 2,
       "version_minor": 0
      },
      "text/plain": [
       "backward: 0it [00:00, ?it/s]"
      ]
     },
     "metadata": {},
     "output_type": "display_data"
    },
    {
     "name": "stdout",
     "output_type": "stream",
     "text": [
      "2: [11,250]\n"
     ]
    },
    {
     "data": {
      "application/vnd.jupyter.widget-view+json": {
       "model_id": "fbd6014321874294900cf6b74ee22b31",
       "version_major": 2,
       "version_minor": 0
      },
      "text/plain": [
       "forward: 0it [00:00, ?it/s]"
      ]
     },
     "metadata": {},
     "output_type": "display_data"
    },
    {
     "name": "stdout",
     "output_type": "stream",
     "text": [
      "scene id 84\n",
      "scene name duck5\n",
      "niter: [start, end]\n",
      "0: [0,325]\n"
     ]
    },
    {
     "data": {
      "application/vnd.jupyter.widget-view+json": {
       "model_id": "0672c42fb4c149568084d0199f47d239",
       "version_major": 2,
       "version_minor": 0
      },
      "text/plain": [
       "forward: 0it [00:00, ?it/s]"
      ]
     },
     "metadata": {},
     "output_type": "display_data"
    },
    {
     "data": {
      "application/vnd.jupyter.widget-view+json": {
       "model_id": "cb28311d69374b5ca77f9b145180ae25",
       "version_major": 2,
       "version_minor": 0
      },
      "text/plain": [
       "backward: 0it [00:00, ?it/s]"
      ]
     },
     "metadata": {},
     "output_type": "display_data"
    },
    {
     "data": {
      "application/vnd.jupyter.widget-view+json": {
       "model_id": "09749a386871447984bbda6e669f73b4",
       "version_major": 2,
       "version_minor": 0
      },
      "text/plain": [
       "backward: 0it [00:00, ?it/s]"
      ]
     },
     "metadata": {},
     "output_type": "display_data"
    },
    {
     "name": "stdout",
     "output_type": "stream",
     "text": [
      "1: [153,325]\n"
     ]
    },
    {
     "data": {
      "application/vnd.jupyter.widget-view+json": {
       "model_id": "b27c6dde94014f73ae2e0631b6b0095f",
       "version_major": 2,
       "version_minor": 0
      },
      "text/plain": [
       "forward: 0it [00:00, ?it/s]"
      ]
     },
     "metadata": {},
     "output_type": "display_data"
    },
    {
     "data": {
      "application/vnd.jupyter.widget-view+json": {
       "model_id": "1f40260280604e2fbf1484db6ca996e5",
       "version_major": 2,
       "version_minor": 0
      },
      "text/plain": [
       "backward: 0it [00:00, ?it/s]"
      ]
     },
     "metadata": {},
     "output_type": "display_data"
    },
    {
     "name": "stdout",
     "output_type": "stream",
     "text": [
      "scene id 85\n",
      "scene name rainystreet10\n",
      "niter: [start, end]\n",
      "0: [0,275]\n"
     ]
    },
    {
     "data": {
      "application/vnd.jupyter.widget-view+json": {
       "model_id": "66cf8ee2225a4eb3886376b53be5503f",
       "version_major": 2,
       "version_minor": 0
      },
      "text/plain": [
       "forward: 0it [00:00, ?it/s]"
      ]
     },
     "metadata": {},
     "output_type": "display_data"
    },
    {
     "data": {
      "application/vnd.jupyter.widget-view+json": {
       "model_id": "83c83bc5b7444af3bf9fe219854e00bf",
       "version_major": 2,
       "version_minor": 0
      },
      "text/plain": [
       "backward: 0it [00:00, ?it/s]"
      ]
     },
     "metadata": {},
     "output_type": "display_data"
    },
    {
     "data": {
      "application/vnd.jupyter.widget-view+json": {
       "model_id": "ba82044b09394e3dad85fcdf6b9d58e8",
       "version_major": 2,
       "version_minor": 0
      },
      "text/plain": [
       "backward: 0it [00:00, ?it/s]"
      ]
     },
     "metadata": {},
     "output_type": "display_data"
    },
    {
     "name": "stdout",
     "output_type": "stream",
     "text": [
      "1: [25,275]\n"
     ]
    },
    {
     "data": {
      "application/vnd.jupyter.widget-view+json": {
       "model_id": "69417db14b0c4c9b96d2001d0b869b33",
       "version_major": 2,
       "version_minor": 0
      },
      "text/plain": [
       "forward: 0it [00:00, ?it/s]"
      ]
     },
     "metadata": {},
     "output_type": "display_data"
    },
    {
     "data": {
      "application/vnd.jupyter.widget-view+json": {
       "model_id": "2a4403a18a054dfbbc4857901c535551",
       "version_major": 2,
       "version_minor": 0
      },
      "text/plain": [
       "backward: 0it [00:00, ?it/s]"
      ]
     },
     "metadata": {},
     "output_type": "display_data"
    },
    {
     "data": {
      "application/vnd.jupyter.widget-view+json": {
       "model_id": "976bacbaeb4f46c78495ad91bbf3bbb5",
       "version_major": 2,
       "version_minor": 0
      },
      "text/plain": [
       "backward: 0it [00:00, ?it/s]"
      ]
     },
     "metadata": {},
     "output_type": "display_data"
    },
    {
     "name": "stdout",
     "output_type": "stream",
     "text": [
      "2: [34,275]\n"
     ]
    },
    {
     "data": {
      "application/vnd.jupyter.widget-view+json": {
       "model_id": "03771e48f3e8433cbc89d75ec9cf797b",
       "version_major": 2,
       "version_minor": 0
      },
      "text/plain": [
       "forward: 0it [00:00, ?it/s]"
      ]
     },
     "metadata": {},
     "output_type": "display_data"
    },
    {
     "name": "stdout",
     "output_type": "stream",
     "text": [
      "scene id 86\n",
      "scene name cards16\n",
      "niter: [start, end]\n",
      "0: [0,375]\n"
     ]
    },
    {
     "data": {
      "application/vnd.jupyter.widget-view+json": {
       "model_id": "6f9b92f46f3c4448a969fe1ca30a46e2",
       "version_major": 2,
       "version_minor": 0
      },
      "text/plain": [
       "forward: 0it [00:00, ?it/s]"
      ]
     },
     "metadata": {},
     "output_type": "display_data"
    },
    {
     "data": {
      "application/vnd.jupyter.widget-view+json": {
       "model_id": "9e72731e4d894f51bb2271b8039d2ec1",
       "version_major": 2,
       "version_minor": 0
      },
      "text/plain": [
       "backward: 0it [00:00, ?it/s]"
      ]
     },
     "metadata": {},
     "output_type": "display_data"
    },
    {
     "data": {
      "application/vnd.jupyter.widget-view+json": {
       "model_id": "e02e408f05914e1fb75e1efdb6732ea8",
       "version_major": 2,
       "version_minor": 0
      },
      "text/plain": [
       "backward: 0it [00:00, ?it/s]"
      ]
     },
     "metadata": {},
     "output_type": "display_data"
    },
    {
     "data": {
      "application/vnd.jupyter.widget-view+json": {
       "model_id": "ebc389a2962c4a5db8cbea83d595cc97",
       "version_major": 2,
       "version_minor": 0
      },
      "text/plain": [
       "backward: 0it [00:00, ?it/s]"
      ]
     },
     "metadata": {},
     "output_type": "display_data"
    },
    {
     "name": "stdout",
     "output_type": "stream",
     "text": [
      "1: [78,375]\n"
     ]
    },
    {
     "data": {
      "application/vnd.jupyter.widget-view+json": {
       "model_id": "7ba59d21df4f426f9c23f4844ad01869",
       "version_major": 2,
       "version_minor": 0
      },
      "text/plain": [
       "forward: 0it [00:00, ?it/s]"
      ]
     },
     "metadata": {},
     "output_type": "display_data"
    },
    {
     "data": {
      "application/vnd.jupyter.widget-view+json": {
       "model_id": "c4b6fb2fa5a14e6cb6c85d2ba3ee840e",
       "version_major": 2,
       "version_minor": 0
      },
      "text/plain": [
       "backward: 0it [00:00, ?it/s]"
      ]
     },
     "metadata": {},
     "output_type": "display_data"
    },
    {
     "data": {
      "application/vnd.jupyter.widget-view+json": {
       "model_id": "d411ba32337142a985742ba529bd9f9c",
       "version_major": 2,
       "version_minor": 0
      },
      "text/plain": [
       "backward: 0it [00:00, ?it/s]"
      ]
     },
     "metadata": {},
     "output_type": "display_data"
    },
    {
     "name": "stdout",
     "output_type": "stream",
     "text": [
      "2: [150,375]\n"
     ]
    },
    {
     "data": {
      "application/vnd.jupyter.widget-view+json": {
       "model_id": "d98905f6372549b69d0cbfe9fc3fe876",
       "version_major": 2,
       "version_minor": 0
      },
      "text/plain": [
       "forward: 0it [00:00, ?it/s]"
      ]
     },
     "metadata": {},
     "output_type": "display_data"
    }
   ],
   "source": [
    "version = \"v1-hsi-xgboost-falsecolor-mix-09-fixed\"\n",
    "\n",
    "for scene in val_scenes:\n",
    "    print(\"scene id\", scene)\n",
    "    scene = val_dataset[scene]\n",
    "    print(\"scene name\", scene.name)\n",
    "    \n",
    "    output_dir = f\"../outputs/model_predictions/forward-backward-neighbours_{version}/{val_dataset.dataset_type}/{scene.camera_type}\"\n",
    "    pred_path = f\"{output_dir}/{scene.name}.txt\"\n",
    "    \n",
    "    frames = scene.hsi, scene.falsecolor\n",
    "    bbox_init = scene.y_true[0]\n",
    "    forward = backward_forward(ostrack, dim_reduction, frames, bbox_init, scene, debug=False, maxiter=3)\n",
    "    \n",
    "    os.makedirs(output_dir, exist_ok=True)\n",
    "    save_rects(pred_path, forward)\n",
    "    \n",
    "    \n",
    "# ranking_dataset = HOTDatasetMultiCam(\"/scratch/datasets/hot_2023/ranking/\")\n",
    "\n",
    "\n",
    "# for scene in range(len(ranking_dataset)):\n",
    "#     print(\"scene id\", scene)\n",
    "#     scene = ranking_dataset[scene]\n",
    "#     print(\"scene name\", scene.name)\n",
    "    \n",
    "#     output_dir = f\"../outputs/model_predictions/forward-backward-neighbours_{version}/{ranking_dataset.dataset_type}/{scene.camera_type}\"\n",
    "#     pred_path = f\"{output_dir}/{scene.name}.txt\"\n",
    "    \n",
    "#     frames = scene.hsi, scene.falsecolor\n",
    "    \n",
    "#     bbox_init = scene.init_bbox\n",
    "#     forward = backward_forward(ostrack, dim_reduction, frames, bbox_init, scene, debug=False, maxiter=3)\n",
    "    \n",
    "#     os.makedirs(output_dir, exist_ok=True)\n",
    "#     save_rects(pred_path, forward)\n",
    "    "
   ]
  },
  {
   "cell_type": "code",
   "execution_count": 13,
   "id": "4b1a3511",
   "metadata": {},
   "outputs": [
    {
     "data": {
      "text/html": [
       "<div>\n",
       "<style scoped>\n",
       "    .dataframe tbody tr th:only-of-type {\n",
       "        vertical-align: middle;\n",
       "    }\n",
       "\n",
       "    .dataframe tbody tr th {\n",
       "        vertical-align: top;\n",
       "    }\n",
       "\n",
       "    .dataframe thead th {\n",
       "        text-align: right;\n",
       "    }\n",
       "</style>\n",
       "<table border=\"1\" class=\"dataframe\">\n",
       "  <thead>\n",
       "    <tr style=\"text-align: right;\">\n",
       "      <th>metric</th>\n",
       "      <th>model</th>\n",
       "      <th>mean AUC</th>\n",
       "      <th>mean DP20</th>\n",
       "    </tr>\n",
       "  </thead>\n",
       "  <tbody>\n",
       "    <tr>\n",
       "      <th>2</th>\n",
       "      <td>forward-backward-neighbours_v1-hsi-xgboost-fal...</td>\n",
       "      <td>0.634193</td>\n",
       "      <td>0.845616</td>\n",
       "    </tr>\n",
       "    <tr>\n",
       "      <th>3</th>\n",
       "      <td>forward-backward-neighbours_v1-hsi-xgboost-fal...</td>\n",
       "      <td>0.630208</td>\n",
       "      <td>0.841545</td>\n",
       "    </tr>\n",
       "    <tr>\n",
       "      <th>1</th>\n",
       "      <td>forward-backward-neighbours_v1</td>\n",
       "      <td>0.627657</td>\n",
       "      <td>0.841613</td>\n",
       "    </tr>\n",
       "    <tr>\n",
       "      <th>0</th>\n",
       "      <td>6.4_dim_reduction_v7.1_xgboost_blt_local_imadjust</td>\n",
       "      <td>0.620763</td>\n",
       "      <td>0.820088</td>\n",
       "    </tr>\n",
       "    <tr>\n",
       "      <th>5</th>\n",
       "      <td>forward-backward_v3</td>\n",
       "      <td>0.605431</td>\n",
       "      <td>0.820590</td>\n",
       "    </tr>\n",
       "    <tr>\n",
       "      <th>4</th>\n",
       "      <td>forward-backward_baseline</td>\n",
       "      <td>0.599976</td>\n",
       "      <td>0.805493</td>\n",
       "    </tr>\n",
       "  </tbody>\n",
       "</table>\n",
       "</div>"
      ],
      "text/plain": [
       "metric                                              model  mean AUC  mean DP20\n",
       "2       forward-backward-neighbours_v1-hsi-xgboost-fal...  0.634193   0.845616\n",
       "3       forward-backward-neighbours_v1-hsi-xgboost-fal...  0.630208   0.841545\n",
       "1                          forward-backward-neighbours_v1  0.627657   0.841613\n",
       "0       6.4_dim_reduction_v7.1_xgboost_blt_local_imadjust  0.620763   0.820088\n",
       "5                                     forward-backward_v3  0.605431   0.820590\n",
       "4                               forward-backward_baseline  0.599976   0.805493"
      ]
     },
     "metadata": {},
     "output_type": "display_data"
    },
    {
     "data": {
      "image/png": "[encoded data removed]",
      "text/plain": [
       "<Figure size 1200x900 with 2 Axes>"
      ]
     },
     "metadata": {},
     "output_type": "display_data"
    }
   ],
   "source": [
    "_, summary = eval_results_v2(\n",
    "    val_dataset,\n",
    "    [\n",
    "        \"forward-backward_baseline\",\n",
    "        \"forward-backward_v3\",\"forward-backward-neighbours_v1\",\n",
    "        # \"forward-backward-neighbours_v1-hsi-xgboost\",\n",
    "        \"6.4_dim_reduction_v7.1_xgboost_blt_local_imadjust\",\n",
    "        \"forward-backward-neighbours_v1-hsi-xgboost-falsecolor-mix-09\",\n",
    "        \"forward-backward-neighbours_v1-hsi-xgboost-falsecolor-mix-09-fixed\"\n",
    "    ],\n",
    "    plot=True,\n",
    ")\n",
    "#     sequence_ids=test_scenes)\n",
    "display(summary)"
   ]
  },
  {
   "cell_type": "code",
   "execution_count": 14,
   "id": "fb2228c3",
   "metadata": {},
   "outputs": [
    {
     "name": "stdout",
     "output_type": "stream",
     "text": [
      "metric                                                               model  mean AUC  mean DP20\n",
      "2             forward-backward-neighbours_v1-hsi-xgboost-falsecolor-mix-09  0.634193   0.845616\n",
      "3       forward-backward-neighbours_v1-hsi-xgboost-falsecolor-mix-09-fixed  0.630208   0.841545\n",
      "1                                           forward-backward-neighbours_v1  0.627657   0.841613\n",
      "0                        6.4_dim_reduction_v7.1_xgboost_blt_local_imadjust  0.620763   0.820088\n",
      "5                                                      forward-backward_v3  0.605431   0.820590\n",
      "4                                                forward-backward_baseline  0.599976   0.805493\n"
     ]
    }
   ],
   "source": [
    "print(summary.to_string())"
   ]
  }
 ],
 "metadata": {
  "kernelspec": {
   "display_name": "Python 3 (ipykernel)",
   "language": "python",
   "name": "python3"
  },
  "language_info": {
   "codemirror_mode": {
    "name": "ipython",
    "version": 3
   },
   "file_extension": ".py",
   "mimetype": "text/x-python",
   "name": "python",
   "nbconvert_exporter": "python",
   "pygments_lexer": "ipython3",
   "version": "3.10.6"
  }
 },
 "nbformat": 4,
 "nbformat_minor": 5
}
