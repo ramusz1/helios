{
 "cells": [
  {
   "cell_type": "markdown",
   "id": "6b0f872e",
   "metadata": {},
   "source": [
    "## Note\n",
    "\n",
    "* Copy of 11.3 with dimensionality reduction from 6.4\n",
    "* Code used to generate the final Hyperspectral Object Tracking challenge 2023 submission"
   ]
  },
  {
   "cell_type": "markdown",
   "id": "8458cce3",
   "metadata": {},
   "source": [
    "## Imports"
   ]
  },
  {
   "cell_type": "code",
   "execution_count": 1,
   "id": "9dbdfcaa",
   "metadata": {},
   "outputs": [],
   "source": [
    "%load_ext autoreload"
   ]
  },
  {
   "cell_type": "code",
   "execution_count": 2,
   "id": "c4ae5fee",
   "metadata": {},
   "outputs": [],
   "source": [
    "%autoreload 2\n",
    "\n",
    "import numpy as np\n",
    "import torch\n",
    "import torch.nn as nn\n",
    "import torch.nn.functional as F\n",
    "import numpy as np\n",
    "from sklearn.preprocessing import Normalizer, RobustScaler, MinMaxScaler\n",
    "from sklearn.pipeline import Pipeline\n",
    "import matplotlib.pyplot as plt\n",
    "import cv2\n",
    "from tqdm import tqdm\n",
    "import datetime\n",
    "import os\n",
    "import pickle\n",
    "\n",
    "import sys\n",
    "sys.path.append(\"../\")\n",
    "sys.path.append(\"../ext/OSTrack/\")\n",
    "\n",
    "from src.util import load_rects, draw_rect, HOTDataset, HOTDatasetMultiCam, save_rects\n",
    "from src.eval import eval_results, eval_results_v2\n",
    "from src.tracker import OSTrackWrapper, clip_box\n",
    "from src.HyperTools import overlap_ratio"
   ]
  },
  {
   "cell_type": "code",
   "execution_count": 3,
   "id": "8c0573c8",
   "metadata": {},
   "outputs": [],
   "source": [
    "device = 'cuda'"
   ]
  },
  {
   "cell_type": "markdown",
   "id": "72132e93",
   "metadata": {},
   "source": [
    "## Data"
   ]
  },
  {
   "cell_type": "code",
   "execution_count": 4,
   "id": "6332b436",
   "metadata": {},
   "outputs": [
    {
     "name": "stdout",
     "output_type": "stream",
     "text": [
      "train / test split: 96 14\n"
     ]
    }
   ],
   "source": [
    "dataset_type = \"training\"\n",
    "dataset_path = f\"/scratch/datasets/hot_2023/{dataset_type}\"\n",
    "dataset = HOTDatasetMultiCam(dataset_path)\n",
    "scene_names = {}\n",
    "for i in range(len(dataset)):\n",
    "    name = dataset[i].name\n",
    "    if name in scene_names:\n",
    "        scene_names[name].append(i)\n",
    "    else:\n",
    "        scene_names[name] = [i]\n",
    "\n",
    "scene_groups = list(scene_names.values())\n",
    "\n",
    "scenes = np.arange(len(dataset))\n",
    "rng = np.random.default_rng(seed = 15)\n",
    "rng.shuffle(scene_groups)\n",
    "train_n = int(len(scene_groups) * 0.9)\n",
    "train_scenes = np.concatenate(scene_groups[:train_n])\n",
    "test_scenes = np.concatenate(scene_groups[train_n:])\n",
    "print(\"train / test split:\", len(train_scenes), len(test_scenes))\n",
    "test_scenes\n",
    "\n",
    "\n",
    "val_dataset = HOTDatasetMultiCam(\"/scratch/datasets/hot_2023/validation\")\n",
    "val_scenes = np.arange(len(val_dataset))"
   ]
  },
  {
   "cell_type": "markdown",
   "id": "aebca869",
   "metadata": {},
   "source": [
    "## Dim reduction code"
   ]
  },
  {
   "cell_type": "code",
   "execution_count": 5,
   "id": "d428fdb4",
   "metadata": {},
   "outputs": [],
   "source": [
    "import math\n",
    "\n",
    "# modified from ostrack source\n",
    "def get_ostrack_search_crop(im, target_bb, search_area_factor=5.0):\n",
    "\n",
    "    if not isinstance(target_bb, list):\n",
    "        x, y, w, h = target_bb.tolist()\n",
    "    else:\n",
    "        x, y, w, h = target_bb\n",
    "    # Crop image\n",
    "    crop_sz = math.ceil(math.sqrt(w * h) * search_area_factor)\n",
    "\n",
    "    if crop_sz < 1:\n",
    "        raise Exception('Too small bounding box.')\n",
    "\n",
    "    x1 = round(x + 0.5 * w - crop_sz * 0.5)\n",
    "    x2 = x1 + crop_sz\n",
    "\n",
    "    y1 = round(y + 0.5 * h - crop_sz * 0.5)\n",
    "    y2 = y1 + crop_sz\n",
    "\n",
    "    x1_pad = max(0, -x1)\n",
    "    x2_pad = max(x2 - im.shape[1] + 1, 0)\n",
    "\n",
    "    y1_pad = max(0, -y1)\n",
    "    y2_pad = max(y2 - im.shape[0] + 1, 0)\n",
    "\n",
    "    # Crop target\n",
    "#     im_crop = im[y1 + y1_pad:y2 - y2_pad, x1 + x1_pad:x2 - x2_pad, :]\n",
    "#     return im_crop\n",
    "    x1, y1, x2, y2 = x1 + x1_pad, y1 + y1_pad, x2 - x2_pad, y2 - y2_pad\n",
    "    return x1, y1, x2 - x1, y2 - y1\n"
   ]
  },
  {
   "cell_type": "code",
   "execution_count": 6,
   "id": "6bf0a9c0",
   "metadata": {},
   "outputs": [],
   "source": [
    "def pick_best_spread(fi, alpha=0.005):\n",
    "    i = np.argmax(fi)\n",
    "    n = len(fi)\n",
    "    best_score = -np.inf\n",
    "    for j in range(n):\n",
    "        for k in range(j+1, n):\n",
    "            if j == i or k == i:\n",
    "                continue\n",
    "            bands = np.array(sorted([i,j,k], reverse=True))\n",
    "            score = np.sum(fi[bands])\n",
    "            bn = bands / (n-1)\n",
    "            def spread_fn(x, y):\n",
    "                return 1.0 / np.abs(x - y)\n",
    "            spread = spread_fn(bn[0], bn[1]) + spread_fn(bn[1], bn[2]) \n",
    "            score -= spread * alpha\n",
    "            if score > best_score:\n",
    "                top_bands = bands\n",
    "                best_score = score\n",
    "\n",
    "    return top_bands, best_score\n",
    "\n",
    "\n",
    "# fi =\"\"\"0.08796189 0.09221482 0.05206456 0.05772328 0.03985118 0.04093191\\\n",
    "#  0.04739796 0.05800938 0.05057602 0.06673987 0.0819459 0.05645527\\\n",
    "#  0.0517992 0.06167444 0.07334358 0.08131075\"\"\"\n",
    "\n",
    "# fi = np.array([float(x) for x in fi.split(' ')])\n",
    "\n",
    "# print(\"Alpha, bands, scores, adjusted score\")\n",
    "# for alpha in [0, 0.001, 0.005, 0.01, 0.05, 0.1, 0.5, 1.0]:\n",
    "#     bands, score = pick_best_spread(fi, alpha=alpha)\n",
    "#     print(alpha, bands, fi[bands], score)"
   ]
  },
  {
   "cell_type": "code",
   "execution_count": 7,
   "id": "1d41d796",
   "metadata": {},
   "outputs": [],
   "source": [
    "import xgboost as xgb\n",
    "from src.dim_reduction_util import CustomPreproc, BandDenoiser, crop\n",
    "\n",
    "\n",
    "class ToUint8:\n",
    "    \n",
    "    def fit(self, X, y=None, **fit_params):\n",
    "        return self\n",
    "    \n",
    "    def transform(self, X):\n",
    "        return (X * 255.0).astype(np.uint8)\n",
    "\n",
    "class ImadjustV5:\n",
    "    \n",
    "    def __init__(self, alpha=0.5, transform_perc=(0.01,0.99), fit_perc=(0.0,1.0), hist_eq_strength=0.5, debug=False):\n",
    "        self.alpha = alpha\n",
    "        self.fit_perc = fit_perc\n",
    "        self.transform_perc = transform_perc\n",
    "        self.debug = debug\n",
    "        self.hist_eq_strength = hist_eq_strength\n",
    "    \n",
    "#         thanks to\n",
    "#         https://stackoverflow.com/questions/28518684/histogram-equalization-of-grayscale-images-with-numpy\n",
    "    \n",
    "    def _get_tonemapping(self, X, lowp, highp):\n",
    "        number_bins = 1024\n",
    "            \n",
    "        X = np.clip(X, 0, number_bins-1)\n",
    "        cdf = np.zeros((X.shape[-1], number_bins))\n",
    "        for i in range(X.shape[-1]):\n",
    "            channel = X[...,i].flatten()\n",
    "            bins = np.arange(number_bins + 1)\n",
    "            hist, bins = np.histogram(channel, bins=bins, density=True)\n",
    "            cdf[i] = hist.cumsum()\n",
    "            cdf[i] /= cdf[i][-1] # normalize\n",
    "            # normalize cdf and clip value range\n",
    "            low = np.min(np.argwhere(cdf[i] >= lowp))\n",
    "            high = np.max(np.argwhere(cdf[i] <= max(highp,cdf[i][0])))\n",
    "            span = cdf[i][high] - cdf[i][low]\n",
    "            if span > 0:\n",
    "                cdf[i] = np.clip((cdf[i] - cdf[i][low]) / span, 0, 1)\n",
    "            else:\n",
    "                cdf[i] = np.linspace(0, 1, number_bins)\n",
    "                \n",
    "            # also calculate a linear cdf and blend them\n",
    "            ln_cdf = np.zeros(number_bins, dtype=np.float32)\n",
    "#             idx = np.argwhere(hist > 0)\n",
    "#             low = max(np.min(idx) - 1, 0)\n",
    "#             high = np.max(idx)\n",
    "#             print(low, high)\n",
    "            ln_cdf[low:high+1] = np.linspace(0, 1, high + 1 - low)\n",
    "            ln_cdf[high+1:] = 1.0\n",
    "            \n",
    "            cdf[i] = self.hist_eq_strength * cdf[i] + (1-self.hist_eq_strength) * ln_cdf\n",
    "            cdf[i] /= cdf[i][-1] # renormalize to be sure\n",
    "        return cdf\n",
    "    \n",
    "    def fit(self, X, y=None, **fit_params):\n",
    "        self.cdf = self._get_tonemapping(X, *self.fit_perc)\n",
    "        \n",
    "    def transform(self, X):\n",
    "        # blend current frame cdf and the target cdf\n",
    "        frame_cdf = self._get_tonemapping(X, *self.transform_perc)\n",
    "        \n",
    "        if self.debug:\n",
    "            for i in range(3):\n",
    "                plt.plot(self.cdf[i], label=\"self_cdf\")\n",
    "                plt.plot(frame_cdf[i], label=\"frame_cdf\")\n",
    "                plt.legend()\n",
    "                plt.show()\n",
    "        \n",
    "        frame_cdf = self.alpha * frame_cdf + (1 - self.alpha) * self.cdf\n",
    "        \n",
    "        # apply the tonemapping\n",
    "        out = np.empty_like(X, dtype=np.float32)\n",
    "        X = np.clip(X, 0, frame_cdf.shape[1] - 1)\n",
    "        for i in range(X.shape[-1]):\n",
    "            channel = X[...,i].flatten()\n",
    "#             out[...,i] = frame_cdf[i][X[...,i].flatten()].reshape(*X.shape[:-1])\n",
    "            out[...,i] = frame_cdf[i][channel].reshape(out.shape[:-1])\n",
    "            \n",
    "        return out\n",
    "\n",
    "class XGBBandSelectorV6:\n",
    "    \n",
    "    def __init__(self, alpha=0.005, **params):\n",
    "        self.classifier = xgb.XGBClassifier(**params)\n",
    "        self.alpha = alpha\n",
    "        \n",
    "    def fit(self, X, y, **fit_params):\n",
    "        c = X.shape[-1]\n",
    "        self.classifier.fit(X.reshape(-1,c), y.flatten())\n",
    "        fi = self.classifier.feature_importances_\n",
    "        self.bands, pbs_score = pick_best_spread(fi, self.alpha)\n",
    "        self.scores = fi[self.bands]\n",
    "        return self\n",
    "    \n",
    "    def transform(self, X):\n",
    "        return X[..., self.bands]\n",
    "    \n",
    "    def predict_proba(self, X):\n",
    "        proba = self.classifier.predict_proba(X.reshape(-1, X.shape[-1]))\n",
    "        return proba.reshape(*X.shape[:-1], proba.shape[-1])\n",
    "    \n",
    "class BilateralFilter:\n",
    "    \n",
    "    def __init__(self, d=5, sigma_color=10, sigma_space=10):\n",
    "        self.d = d\n",
    "        self.sigma_color = 10\n",
    "        self.sigma_space = 10\n",
    "    \n",
    "    def fit(self, X, y=None, **fit_params):\n",
    "        return self\n",
    "    \n",
    "    def transform(self, X, y=None, **fit_params):\n",
    "        out = X.astype(np.float32)\n",
    "        c = X.shape[-1]\n",
    "        if c <= 3:\n",
    "            out = cv2.bilateralFilter(out, self.d, self.sigma_color, self.sigma_space)\n",
    "        else:\n",
    "            for i in range(X.shape[-1]):\n",
    "                out[...,i] = cv2.bilateralFilter(out[...,i], self.d, self.sigma_color, self.sigma_space)\n",
    "        return out.astype(X.dtype)\n",
    "    \n",
    "                \n",
    "class DimReduceV4:\n",
    "    \n",
    "    def __init__(self, band_selector, imadjust, spatial_filtering):\n",
    "        self.bs = band_selector\n",
    "        self.imadjust = imadjust\n",
    "        self.spatial_filtering = spatial_filtering\n",
    "        \n",
    "    def initialize(self, hsi, init_bbox, camera_type):\n",
    "        self.camera_type = camera_type\n",
    "        # initial preprocessing\n",
    "        if self.camera_type == \"HSI-VIS\":\n",
    "            hsi = CustomPreproc().transform(hsi)\n",
    "        hsi = BandDenoiser().transform(hsi)\n",
    "#         hsi = BilateralFilter().transform(hsi)\n",
    "        hsi = self.spatial_filtering.transform(hsi)\n",
    "\n",
    "        # preapare target mask\n",
    "        h,w,c = hsi.shape\n",
    "        mask = draw_rect(np.zeros((h,w),dtype=np.uint8), init_bbox, color=1, thickness=-1).astype(bool)\n",
    "        roi = get_ostrack_search_crop(hsi, init_bbox)\n",
    "        X = crop(hsi, roi).copy()\n",
    "        y = crop(mask, roi)\n",
    "\n",
    "        # imadjus\n",
    "        self.imadjust.fit(crop(hsi, roi))\n",
    "        hsi = self.imadjust.transform(hsi)\n",
    "        hsi = (hsi * 255.0).astype(np.uint8)\n",
    "\n",
    "        # feature selection\n",
    "        X = crop(hsi, roi).copy()\n",
    "        y = crop(mask, roi)\n",
    "        self.bs.fit(X, y)\n",
    "        rgb = self.bs.transform(hsi)\n",
    "        \n",
    "        # select bands in imadjust\n",
    "        self.imadjust.cdf = self.imadjust.cdf[self.bs.bands]\n",
    "        \n",
    "        if self.camera_type == \"HSI-VIS\":\n",
    "            self.band_selection_pipeline = Pipeline([\n",
    "                (\"custom_preproc\", CustomPreproc()),\n",
    "                (\"denoising\", BandDenoiser()),\n",
    "                (\"bs\", self.bs),\n",
    "                (\"spatial_denoising\", self.spatial_filtering),\n",
    "            ])\n",
    "        else:\n",
    "            self.band_selection_pipeline = Pipeline([\n",
    "                (\"denoising\", BandDenoiser()),\n",
    "                (\"bs\", self.bs),\n",
    "                (\"spatial_denoising\", self.spatial_filtering),\n",
    "            ])\n",
    "            \n",
    "        return rgb\n",
    "\n",
    "    def __call__(self, frame, bbox):\n",
    "        frame = self.band_selection_pipeline.transform(frame)\n",
    "        roi = get_ostrack_search_crop(frame, bbox)\n",
    "        self.imadjust.fit(crop(frame, roi))\n",
    "        frame = self.imadjust.transform(frame)\n",
    "        return (frame * 255.0).astype(np.uint8)\n",
    "\n",
    "\n",
    "\n",
    "\n",
    "dim_reduction = DimReduceV4(\n",
    "    XGBBandSelectorV6(alpha=0.005),\n",
    "    ImadjustV5(0.1, (0.005, 0.995), (0.005, 0.995), 0.5, debug=False),\n",
    "    BilateralFilter()\n",
    ")"
   ]
  },
  {
   "cell_type": "markdown",
   "id": "284db84c",
   "metadata": {},
   "source": [
    "## Tracking experiments"
   ]
  },
  {
   "cell_type": "code",
   "execution_count": 8,
   "id": "211dd2aa",
   "metadata": {},
   "outputs": [
    {
     "name": "stdout",
     "output_type": "stream",
     "text": [
      "test config:  {'MODEL': {'PRETRAIN_FILE': 'mae_pretrain_vit_base.pth', 'EXTRA_MERGER': False, 'RETURN_INTER': False, 'RETURN_STAGES': [], 'BACKBONE': {'TYPE': 'vit_base_patch16_224_ce', 'STRIDE': 16, 'MID_PE': False, 'SEP_SEG': False, 'CAT_MODE': 'direct', 'MERGE_LAYER': 0, 'ADD_CLS_TOKEN': False, 'CLS_TOKEN_USE_MODE': 'ignore', 'CE_LOC': [3, 6, 9], 'CE_KEEP_RATIO': [0.7, 0.7, 0.7], 'CE_TEMPLATE_RANGE': 'CTR_POINT'}, 'HEAD': {'TYPE': 'CENTER', 'NUM_CHANNELS': 256}}, 'TRAIN': {'LR': 0.0004, 'WEIGHT_DECAY': 0.0001, 'EPOCH': 300, 'LR_DROP_EPOCH': 240, 'BATCH_SIZE': 32, 'NUM_WORKER': 10, 'OPTIMIZER': 'ADAMW', 'BACKBONE_MULTIPLIER': 0.1, 'GIOU_WEIGHT': 2.0, 'L1_WEIGHT': 5.0, 'FREEZE_LAYERS': [0], 'PRINT_INTERVAL': 50, 'VAL_EPOCH_INTERVAL': 20, 'GRAD_CLIP_NORM': 0.1, 'AMP': False, 'CE_START_EPOCH': 20, 'CE_WARM_EPOCH': 80, 'DROP_PATH_RATE': 0.1, 'SCHEDULER': {'TYPE': 'step', 'DECAY_RATE': 0.1}}, 'DATA': {'SAMPLER_MODE': 'causal', 'MEAN': [0.485, 0.456, 0.406], 'STD': [0.229, 0.224, 0.225], 'MAX_SAMPLE_INTERVAL': 200, 'TRAIN': {'DATASETS_NAME': ['LASOT', 'GOT10K_vottrain', 'COCO17', 'TRACKINGNET'], 'DATASETS_RATIO': [1, 1, 1, 1], 'SAMPLE_PER_EPOCH': 60000}, 'VAL': {'DATASETS_NAME': ['GOT10K_votval'], 'DATASETS_RATIO': [1], 'SAMPLE_PER_EPOCH': 10000}, 'SEARCH': {'SIZE': 384, 'FACTOR': 5.0, 'CENTER_JITTER': 4.5, 'SCALE_JITTER': 0.5, 'NUMBER': 1}, 'TEMPLATE': {'NUMBER': 1, 'SIZE': 192, 'FACTOR': 2.0, 'CENTER_JITTER': 0, 'SCALE_JITTER': 0}}, 'TEST': {'TEMPLATE_FACTOR': 2.0, 'TEMPLATE_SIZE': 192, 'SEARCH_FACTOR': 5.0, 'SEARCH_SIZE': 384, 'EPOCH': 300}}\n"
     ]
    }
   ],
   "source": [
    "from src.util import load_rects, draw_rect, HOTDataset, HOTDatasetMultiCam, save_rects\n",
    "from src.eval import eval_results, eval_results_v2\n",
    "from src.tracker import OSTrackWrapper, clip_box\n",
    "from src.HyperTools import overlap_ratio\n",
    "\n",
    "from tqdm.notebook import trange, tqdm\n",
    "from torchdata.datapipes.iter import Prefetcher\n",
    "\n",
    "from dataclasses import dataclass\n",
    "\n",
    "@dataclass\n",
    "class Track:\n",
    "    bboxes: np.ndarray\n",
    "    scores: np.ndarray \n",
    "    \n",
    "    def __len__(self):\n",
    "        return len(self.bboxes)\n",
    "\n",
    "class ImageLoaderRanged:\n",
    "    \n",
    "    def __init__(self, image_loaders, start, end, inc):\n",
    "        self.image_loaders = image_loaders\n",
    "        self.start = start\n",
    "        self.end = end\n",
    "        self.inc = inc\n",
    "        \n",
    "    def __len__(self):\n",
    "        return (self.end - self.start) * self.inc\n",
    "\n",
    "    def __getitem__(self, i):\n",
    "        if i >= len(self):\n",
    "            raise IndexError            \n",
    "        frame_id = self.start + i * self.inc\n",
    "        return frame_id, self.image_loaders[0][frame_id], self.image_loaders[1][frame_id]\n",
    "\n",
    "def get_distractions(bbox, prev_merged, score, tracks, frame_id, inc, start_frame_id, start_bbox, debug=False):\n",
    "    # the track is going in the other direction\n",
    "    if len(tracks) == 0:\n",
    "        return []\n",
    "    merged = []\n",
    "    distractions = []\n",
    "    for i,t in enumerate(tracks):\n",
    "        tbbox = t.bboxes[frame_id]\n",
    "        iou = overlap_ratio(bbox.reshape(-1,4), tbbox.reshape(-1,4))\n",
    "        original_iou = overlap_ratio(\n",
    "            start_bbox.reshape(-1,4),\n",
    "            t.bboxes[start_frame_id].reshape(-1,4))[0]\n",
    "        # calculate how well is the tbbox connected to other boxes in it's track\n",
    "        prev_frame_id = frame_id - inc\n",
    "        tfit = min(\n",
    "            t.scores[frame_id], # current score\n",
    "            t.scores[prev_frame_id]) # previous score\n",
    "        if iou > 0.8:\n",
    "            if score > 0.6 or i in prev_merged:\n",
    "                continue\n",
    "            elif tfit > 1.1 * score and original_iou < 0.2:\n",
    "#                 if debug:\n",
    "#                     print(\"iou, tfit, score, original_iou\", iou, tfit, score, original_iou)\n",
    "                distractions.append(i)\n",
    "    return distractions\n",
    "\n",
    "def run_ostrack(\n",
    "    ostrack: OSTrackWrapper,\n",
    "    dim_reduction, camera_type, # new addition\n",
    "    frames, init_bbox, start, end,\n",
    "    known_tracks, debug=False\n",
    "):\n",
    "    if end > start:\n",
    "        desc = \"forward\"\n",
    "        known_tracks = known_tracks[\"backward\"]\n",
    "        inc = 1\n",
    "    else:\n",
    "        desc = \"backward\"\n",
    "        inc = -1\n",
    "        known_tracks = known_tracks[\"forward\"]\n",
    "        \n",
    "    frames_range = ImageLoaderRanged(frames, start, end, inc)\n",
    "    \n",
    "    for i, (frame_id, hsi, falsecolor) in enumerate(tqdm(Prefetcher(frames_range), desc=desc)):\n",
    "        if i == 0:\n",
    "            h,w = falsecolor.shape[:2]\n",
    "            init_bbox = np.array(clip_box(init_bbox, h, w, margin=5))\n",
    "            bbox = init_bbox\n",
    "            dim_reduction.initialize(hsi, bbox, camera_type) # mew addition\n",
    "            init_hsi_reduced = dim_reduction(hsi, bbox)\n",
    "            init_falsecolor = falsecolor.copy()\n",
    "            track = [bbox]\n",
    "            track_scores = [1.0]\n",
    "            if debug:\n",
    "                init_frame = falsecolor.copy()\n",
    "            merged = []\n",
    "        else:\n",
    "            bbox = np.array(clip_box(bbox, h, w, margin=5))\n",
    "            hsi_reduced = dim_reduction(hsi, bbox)  # new addition\n",
    "            ostrack.initialize(init_hsi_reduced, init_bbox)\n",
    "            candidates, scores, _ = ostrack.track(hsi_reduced, bbox, 0)\n",
    "            candidates = candidates.numpy(force=True)\n",
    "            scores = scores.numpy(force=True).flatten()\n",
    "            ostrack.initialize(init_falsecolor, init_bbox)\n",
    "            candidates2, scores2, _ = ostrack.track(falsecolor, bbox, 0)\n",
    "            candidates2 = candidates2.numpy(force=True)\n",
    "            scores2 = scores2.numpy(force=True).flatten()\n",
    "            # combine predictions pick the tracker with higher score\n",
    "            candidates = np.concatenate((candidates, candidates2))\n",
    "            scores = np.concatenate((0.9 * scores, scores2))\n",
    "            \n",
    "            n_pred = len(candidates)\n",
    "            if len(known_tracks) > 0:\n",
    "                candidates = np.concatenate((candidates, [t.bboxes[frame_id] for t in known_tracks]))\n",
    "                scores = np.concatenate((scores, np.full(len(known_tracks), 0.2)))\n",
    "            for j, (c, s) in enumerate(zip(candidates, scores)):\n",
    "                distr = get_distractions(c, merged, s, known_tracks, frame_id, inc, start, init_bbox, debug)\n",
    "                if len(distr) > 0:\n",
    "                    scores[j] = 0\n",
    "                    distr_id = distr[0]\n",
    "#                     if debug:\n",
    "#                         print(\"frame id\", frame_id)\n",
    "#                         print(f\"distractor from track {j}\")\n",
    "#                         fig, axs = plt.subplots(1,2)\n",
    "#                         init_frame_copy = draw_rect(init_frame.copy(), init_bbox, color=(0,255,0))\n",
    "#                         init_frame_copy = draw_rect(init_frame_copy, known_tracks[distr_id].bboxes[start], color=(255,0,0))\n",
    "#                         axs[0].imshow(init_frame_copy)\n",
    "#                         frame_copy = draw_rect(frame.copy(), c)\n",
    "#                         axs[1].imshow(frame_copy)\n",
    "#                         plt.show()\n",
    "                        \n",
    "            j = np.argmax(scores)\n",
    "            if scores[j] > 0:\n",
    "                bbox, score = candidates[j], scores[j]\n",
    "                merged = []\n",
    "                for k,t in enumerate(known_tracks):\n",
    "                    if overlap_ratio(t.bboxes[frame_id].reshape(-1,4), bbox.reshape(-1,4)) > 0.8:\n",
    "                        merged.append(k)\n",
    "            else:\n",
    "                bbox, score = bbox, 0\n",
    "                merged = []\n",
    "            track.append(bbox)\n",
    "            track_scores.append(score)\n",
    "    return Track(np.array(track, dtype=int), np.array(track_scores))\n",
    "\n",
    "ostrack = OSTrackWrapper(\n",
    "    use_hann=True,\n",
    "    candidate_bbox_threshold=0.7,\n",
    "    nms_iou_thresh=0.7,\n",
    "    max_candidates=3\n",
    ")"
   ]
  },
  {
   "cell_type": "code",
   "execution_count": 9,
   "id": "ac32e258",
   "metadata": {},
   "outputs": [],
   "source": [
    "def backward_forward(\n",
    "    ostrack: OSTrackWrapper, dim_reduction,\n",
    "    frames, bbox_init, scene, debug=False, iou_thrsh=0.2, maxiter=3\n",
    "):\n",
    "    if debug:\n",
    "        out_dir = f\"../outputs/forward_backward-neighbour/training/{scene.camera_type}/{scene.name}\"\n",
    "        os.makedirs(out_dir, exist_ok=True)\n",
    "    niter = 0\n",
    "    start = 0\n",
    "    end = len(frames[0])\n",
    "    tracks = {\"forward\": [], \"backward\": []}\n",
    "    dbg_backward = None\n",
    "    while start + 1 < end and niter < maxiter:\n",
    "        niter += 1\n",
    "        # run forward\n",
    "        forward = run_ostrack(\n",
    "            ostrack, dim_reduction, scene.camera_type,\n",
    "            frames, bbox_init, start, end, tracks, debug\n",
    "        )\n",
    "        if len(tracks[\"forward\"]) > 0:\n",
    "            # pad forward pass with the previous one\n",
    "            forward.bboxes = np.concatenate((tracks[\"forward\"][-1].bboxes[:start], forward.bboxes))\n",
    "            forward.scores = np.concatenate((np.ones(start), forward.scores))\n",
    "        tracks[\"forward\"].append(forward)\n",
    "        if debug:\n",
    "            save_rects(os.path.join(out_dir, f\"forward_{niter}.txt\"), forward.bboxes)\n",
    "            \n",
    "        if len(forward) != len(frames[0]):\n",
    "            print(len(forward), len(frames[0]))\n",
    "            assert False\n",
    "        \n",
    "        # bisect until backtracking is consistent\n",
    "        consistent = False\n",
    "        _start = start\n",
    "        _end = end\n",
    "        _backtracking_runs = 0\n",
    "        while not consistent and niter < maxiter:\n",
    "            _backtracking_runs += 1\n",
    "            if debug:\n",
    "                print(\"consistency check on:\", _start, _end)\n",
    "            backward = run_ostrack(\n",
    "                ostrack, dim_reduction, scene.camera_type,\n",
    "                frames, forward.bboxes[_end-1], _end - 1, _start - 1, tracks, debug)\n",
    "            backward.bboxes = backward.bboxes[::-1] # reverse\n",
    "            backward.scores = backward.scores[::-1] # reverse\n",
    "            # pad backward\n",
    "            backward.bboxes = np.concatenate((\n",
    "                np.zeros_like(forward.bboxes[:_start]),\n",
    "                backward.bboxes,\n",
    "                forward.bboxes[_end:]\n",
    "            ))\n",
    "            backward.scores = np.concatenate((\n",
    "                np.zeros_like(forward.scores[:_start]),\n",
    "                backward.scores,\n",
    "                forward.scores[_end:]\n",
    "            ))\n",
    "            if len(backward) != len(frames[0]) or len(backward.bboxes) != len(backward.scores):\n",
    "                print(len(forward), len(frames[0]), len(backward), len(backward.bboxes), len(backward.scores))\n",
    "                assert False\n",
    "            tracks[\"backward\"].append(backward)\n",
    "            if dbg_backward is None:\n",
    "                dbg_backward = backward.bboxes.copy()\n",
    "                if debug:\n",
    "                    save_rects(os.path.join(out_dir, f\"backward_0.txt\"), dbg_backward)\n",
    "            \n",
    "            iou = overlap_ratio(forward.bboxes[_start:_end], backward.bboxes[_start:_end])\n",
    "            if debug:\n",
    "                plt.plot(np.arange(_start, _end), iou, label=str(_backtracking_runs))\n",
    "            idx = np.argwhere(iou < iou_thrsh) # inconsistency check\n",
    "            idx += _start\n",
    "            if len(idx) == 0:\n",
    "                consistent = True\n",
    "                continue\n",
    "            last_consistent = np.max(idx)\n",
    "            _end = (last_consistent - _start) // 2\n",
    "#             _end = last_consistent - 1\n",
    "            if _start + 1 >= _end:\n",
    "                break\n",
    "\n",
    "        if not consistent:\n",
    "            if debug:\n",
    "                print(\"failure to find consistent backtracking\")\n",
    "            break\n",
    "        else:\n",
    "            if debug:\n",
    "                print(\"success, consistent range: \", _start, _end)\n",
    "            dbg_backward[_start:_end] = backward.bboxes[_start:_end]\n",
    "            if debug:\n",
    "                save_rects(os.path.join(out_dir, f\"backward_{niter}.txt\"), dbg_backward)\n",
    "            start = _end - 1\n",
    "            bbox_init = forward.bboxes[start]\n",
    "    \n",
    "        if debug:\n",
    "            plt.ylim(0,1)\n",
    "            plt.legend()\n",
    "            plt.show()\n",
    "    return tracks[\"forward\"][-1].bboxes"
   ]
  },
  {
   "cell_type": "code",
   "execution_count": 10,
   "id": "3e396ab5",
   "metadata": {},
   "outputs": [
    {
     "name": "stdout",
     "output_type": "stream",
     "text": [
      "scene id 0\n",
      "scene name car3\n"
     ]
    },
    {
     "data": {
      "application/vnd.jupyter.widget-view+json": {
       "model_id": "55af75b3256d4971a95fed150cb805e4",
       "version_major": 2,
       "version_minor": 0
      },
      "text/plain": [
       "forward: 0it [00:00, ?it/s]"
      ]
     },
     "metadata": {},
     "output_type": "display_data"
    },
    {
     "data": {
      "application/vnd.jupyter.widget-view+json": {
       "model_id": "d6e967de968b45189dac4f72d5cd67db",
       "version_major": 2,
       "version_minor": 0
      },
      "text/plain": [
       "backward: 0it [00:00, ?it/s]"
      ]
     },
     "metadata": {},
     "output_type": "display_data"
    },
    {
     "data": {
      "application/vnd.jupyter.widget-view+json": {
       "model_id": "cbfaa30aa3f4436db849deb4ea7e66b1",
       "version_major": 2,
       "version_minor": 0
      },
      "text/plain": [
       "backward: 0it [00:00, ?it/s]"
      ]
     },
     "metadata": {},
     "output_type": "display_data"
    },
    {
     "data": {
      "application/vnd.jupyter.widget-view+json": {
       "model_id": "64f87bcf1f77429e92257c5283684769",
       "version_major": 2,
       "version_minor": 0
      },
      "text/plain": [
       "forward: 0it [00:00, ?it/s]"
      ]
     },
     "metadata": {},
     "output_type": "display_data"
    },
    {
     "data": {
      "application/vnd.jupyter.widget-view+json": {
       "model_id": "2ba297c793294741b98ebe24c5c8e3b0",
       "version_major": 2,
       "version_minor": 0
      },
      "text/plain": [
       "backward: 0it [00:00, ?it/s]"
      ]
     },
     "metadata": {},
     "output_type": "display_data"
    },
    {
     "name": "stdout",
     "output_type": "stream",
     "text": [
      "scene id 1\n",
      "scene name coin\n"
     ]
    },
    {
     "data": {
      "application/vnd.jupyter.widget-view+json": {
       "model_id": "6e2c55dfa67a4ba3bdbe2e840b485b76",
       "version_major": 2,
       "version_minor": 0
      },
      "text/plain": [
       "forward: 0it [00:00, ?it/s]"
      ]
     },
     "metadata": {},
     "output_type": "display_data"
    },
    {
     "data": {
      "application/vnd.jupyter.widget-view+json": {
       "model_id": "d2f5a23bf2374d9a809dfac9198dae8e",
       "version_major": 2,
       "version_minor": 0
      },
      "text/plain": [
       "backward: 0it [00:00, ?it/s]"
      ]
     },
     "metadata": {},
     "output_type": "display_data"
    },
    {
     "name": "stdout",
     "output_type": "stream",
     "text": [
      "scene id 2\n",
      "scene name cards19\n"
     ]
    },
    {
     "data": {
      "application/vnd.jupyter.widget-view+json": {
       "model_id": "04660ce10de7403eb59cc866ca0f4838",
       "version_major": 2,
       "version_minor": 0
      },
      "text/plain": [
       "forward: 0it [00:00, ?it/s]"
      ]
     },
     "metadata": {},
     "output_type": "display_data"
    },
    {
     "data": {
      "application/vnd.jupyter.widget-view+json": {
       "model_id": "d7a2d2e8a6044dbf9faa1de23afc463c",
       "version_major": 2,
       "version_minor": 0
      },
      "text/plain": [
       "backward: 0it [00:00, ?it/s]"
      ]
     },
     "metadata": {},
     "output_type": "display_data"
    },
    {
     "data": {
      "application/vnd.jupyter.widget-view+json": {
       "model_id": "fe67e189368e49868a2ea0d44bb94eb5",
       "version_major": 2,
       "version_minor": 0
      },
      "text/plain": [
       "backward: 0it [00:00, ?it/s]"
      ]
     },
     "metadata": {},
     "output_type": "display_data"
    },
    {
     "data": {
      "application/vnd.jupyter.widget-view+json": {
       "model_id": "3582793c31004c9a846afee83f4b8b74",
       "version_major": 2,
       "version_minor": 0
      },
      "text/plain": [
       "backward: 0it [00:00, ?it/s]"
      ]
     },
     "metadata": {},
     "output_type": "display_data"
    },
    {
     "data": {
      "application/vnd.jupyter.widget-view+json": {
       "model_id": "d700ceae18f54ec0a515dd959f7ce570",
       "version_major": 2,
       "version_minor": 0
      },
      "text/plain": [
       "forward: 0it [00:00, ?it/s]"
      ]
     },
     "metadata": {},
     "output_type": "display_data"
    },
    {
     "data": {
      "application/vnd.jupyter.widget-view+json": {
       "model_id": "4f73940c202443929655764c3ab9ba3e",
       "version_major": 2,
       "version_minor": 0
      },
      "text/plain": [
       "backward: 0it [00:00, ?it/s]"
      ]
     },
     "metadata": {},
     "output_type": "display_data"
    },
    {
     "data": {
      "application/vnd.jupyter.widget-view+json": {
       "model_id": "3294b31705a1421998528487e8eaf1d5",
       "version_major": 2,
       "version_minor": 0
      },
      "text/plain": [
       "backward: 0it [00:00, ?it/s]"
      ]
     },
     "metadata": {},
     "output_type": "display_data"
    },
    {
     "data": {
      "application/vnd.jupyter.widget-view+json": {
       "model_id": "1b70cf4be740407fbf62dd0804be3de9",
       "version_major": 2,
       "version_minor": 0
      },
      "text/plain": [
       "forward: 0it [00:00, ?it/s]"
      ]
     },
     "metadata": {},
     "output_type": "display_data"
    },
    {
     "name": "stdout",
     "output_type": "stream",
     "text": [
      "scene id 3\n",
      "scene name coke\n"
     ]
    },
    {
     "data": {
      "application/vnd.jupyter.widget-view+json": {
       "model_id": "b32d3a84520d4482ad824fa45d661778",
       "version_major": 2,
       "version_minor": 0
      },
      "text/plain": [
       "forward: 0it [00:00, ?it/s]"
      ]
     },
     "metadata": {},
     "output_type": "display_data"
    },
    {
     "data": {
      "application/vnd.jupyter.widget-view+json": {
       "model_id": "28870060da094ecea44b519c249151e8",
       "version_major": 2,
       "version_minor": 0
      },
      "text/plain": [
       "backward: 0it [00:00, ?it/s]"
      ]
     },
     "metadata": {},
     "output_type": "display_data"
    },
    {
     "data": {
      "application/vnd.jupyter.widget-view+json": {
       "model_id": "c29de76007d844ffbf3734b4a0a178a3",
       "version_major": 2,
       "version_minor": 0
      },
      "text/plain": [
       "backward: 0it [00:00, ?it/s]"
      ]
     },
     "metadata": {},
     "output_type": "display_data"
    },
    {
     "data": {
      "application/vnd.jupyter.widget-view+json": {
       "model_id": "68267bb2c5714a0f9351e6e9e32bca5b",
       "version_major": 2,
       "version_minor": 0
      },
      "text/plain": [
       "forward: 0it [00:00, ?it/s]"
      ]
     },
     "metadata": {},
     "output_type": "display_data"
    },
    {
     "data": {
      "application/vnd.jupyter.widget-view+json": {
       "model_id": "dc7bd3c26a26423a883216c652fa6d34",
       "version_major": 2,
       "version_minor": 0
      },
      "text/plain": [
       "backward: 0it [00:00, ?it/s]"
      ]
     },
     "metadata": {},
     "output_type": "display_data"
    },
    {
     "data": {
      "application/vnd.jupyter.widget-view+json": {
       "model_id": "ed4a47f6b4cd4b9998e21472bb527f0a",
       "version_major": 2,
       "version_minor": 0
      },
      "text/plain": [
       "backward: 0it [00:00, ?it/s]"
      ]
     },
     "metadata": {},
     "output_type": "display_data"
    },
    {
     "data": {
      "application/vnd.jupyter.widget-view+json": {
       "model_id": "a6b0a2b397a748c3a14a0fdf31ac2313",
       "version_major": 2,
       "version_minor": 0
      },
      "text/plain": [
       "forward: 0it [00:00, ?it/s]"
      ]
     },
     "metadata": {},
     "output_type": "display_data"
    },
    {
     "name": "stdout",
     "output_type": "stream",
     "text": [
      "scene id 4\n",
      "scene name hand\n"
     ]
    },
    {
     "data": {
      "application/vnd.jupyter.widget-view+json": {
       "model_id": "36c1f34fb48c498499638d788e9ccb74",
       "version_major": 2,
       "version_minor": 0
      },
      "text/plain": [
       "forward: 0it [00:00, ?it/s]"
      ]
     },
     "metadata": {},
     "output_type": "display_data"
    },
    {
     "data": {
      "application/vnd.jupyter.widget-view+json": {
       "model_id": "abdff9191f1c442abd1cd83d77aaed98",
       "version_major": 2,
       "version_minor": 0
      },
      "text/plain": [
       "backward: 0it [00:00, ?it/s]"
      ]
     },
     "metadata": {},
     "output_type": "display_data"
    },
    {
     "name": "stdout",
     "output_type": "stream",
     "text": [
      "scene id 5\n",
      "scene name duck5\n"
     ]
    },
    {
     "data": {
      "application/vnd.jupyter.widget-view+json": {
       "model_id": "58396d7449ed47d99b1cd50f9bd2a816",
       "version_major": 2,
       "version_minor": 0
      },
      "text/plain": [
       "forward: 0it [00:00, ?it/s]"
      ]
     },
     "metadata": {},
     "output_type": "display_data"
    },
    {
     "data": {
      "application/vnd.jupyter.widget-view+json": {
       "model_id": "09e1a86ae67645dca580ea55c881ffc1",
       "version_major": 2,
       "version_minor": 0
      },
      "text/plain": [
       "backward: 0it [00:00, ?it/s]"
      ]
     },
     "metadata": {},
     "output_type": "display_data"
    },
    {
     "data": {
      "application/vnd.jupyter.widget-view+json": {
       "model_id": "28b8033435074c178d82d2dac388dd60",
       "version_major": 2,
       "version_minor": 0
      },
      "text/plain": [
       "backward: 0it [00:00, ?it/s]"
      ]
     },
     "metadata": {},
     "output_type": "display_data"
    },
    {
     "data": {
      "application/vnd.jupyter.widget-view+json": {
       "model_id": "063fa79fbbb94162bb411b3422253875",
       "version_major": 2,
       "version_minor": 0
      },
      "text/plain": [
       "forward: 0it [00:00, ?it/s]"
      ]
     },
     "metadata": {},
     "output_type": "display_data"
    },
    {
     "data": {
      "application/vnd.jupyter.widget-view+json": {
       "model_id": "fe5ca057675a4181a5d6b0667a3d7a2b",
       "version_major": 2,
       "version_minor": 0
      },
      "text/plain": [
       "backward: 0it [00:00, ?it/s]"
      ]
     },
     "metadata": {},
     "output_type": "display_data"
    },
    {
     "name": "stdout",
     "output_type": "stream",
     "text": [
      "scene id 6\n",
      "scene name rubik\n"
     ]
    },
    {
     "data": {
      "application/vnd.jupyter.widget-view+json": {
       "model_id": "c48f2b1aa1594a07b0a64dd8ac1e9e2b",
       "version_major": 2,
       "version_minor": 0
      },
      "text/plain": [
       "forward: 0it [00:00, ?it/s]"
      ]
     },
     "metadata": {},
     "output_type": "display_data"
    },
    {
     "data": {
      "application/vnd.jupyter.widget-view+json": {
       "model_id": "d7bdd1d49d3c480287eb9e5d0ee625f4",
       "version_major": 2,
       "version_minor": 0
      },
      "text/plain": [
       "backward: 0it [00:00, ?it/s]"
      ]
     },
     "metadata": {},
     "output_type": "display_data"
    },
    {
     "name": "stdout",
     "output_type": "stream",
     "text": [
      "scene id 7\n",
      "scene name pedestrain\n"
     ]
    },
    {
     "data": {
      "application/vnd.jupyter.widget-view+json": {
       "model_id": "b28ed341ef374cf1b94195f68ca073fc",
       "version_major": 2,
       "version_minor": 0
      },
      "text/plain": [
       "forward: 0it [00:00, ?it/s]"
      ]
     },
     "metadata": {},
     "output_type": "display_data"
    },
    {
     "data": {
      "application/vnd.jupyter.widget-view+json": {
       "model_id": "35bca2e16266400298a8b463d1b09c2c",
       "version_major": 2,
       "version_minor": 0
      },
      "text/plain": [
       "backward: 0it [00:00, ?it/s]"
      ]
     },
     "metadata": {},
     "output_type": "display_data"
    },
    {
     "name": "stdout",
     "output_type": "stream",
     "text": [
      "scene id 8\n",
      "scene name card\n"
     ]
    },
    {
     "data": {
      "application/vnd.jupyter.widget-view+json": {
       "model_id": "6e44085131174fd88e001b323f3a9378",
       "version_major": 2,
       "version_minor": 0
      },
      "text/plain": [
       "forward: 0it [00:00, ?it/s]"
      ]
     },
     "metadata": {},
     "output_type": "display_data"
    },
    {
     "data": {
      "application/vnd.jupyter.widget-view+json": {
       "model_id": "b092f6e334674b53a65f3870f2e6d7cd",
       "version_major": 2,
       "version_minor": 0
      },
      "text/plain": [
       "backward: 0it [00:00, ?it/s]"
      ]
     },
     "metadata": {},
     "output_type": "display_data"
    },
    {
     "data": {
      "application/vnd.jupyter.widget-view+json": {
       "model_id": "b9c26785183e48f0bfc9a11b778652c5",
       "version_major": 2,
       "version_minor": 0
      },
      "text/plain": [
       "backward: 0it [00:00, ?it/s]"
      ]
     },
     "metadata": {},
     "output_type": "display_data"
    },
    {
     "data": {
      "application/vnd.jupyter.widget-view+json": {
       "model_id": "73f48a46e1b4480c9a86e7abe56b4972",
       "version_major": 2,
       "version_minor": 0
      },
      "text/plain": [
       "backward: 0it [00:00, ?it/s]"
      ]
     },
     "metadata": {},
     "output_type": "display_data"
    },
    {
     "data": {
      "application/vnd.jupyter.widget-view+json": {
       "model_id": "7d31d6c6d63a4d4499ebec184ed63ef8",
       "version_major": 2,
       "version_minor": 0
      },
      "text/plain": [
       "forward: 0it [00:00, ?it/s]"
      ]
     },
     "metadata": {},
     "output_type": "display_data"
    },
    {
     "data": {
      "application/vnd.jupyter.widget-view+json": {
       "model_id": "1bd55641b96148909d699916ec9f2cbf",
       "version_major": 2,
       "version_minor": 0
      },
      "text/plain": [
       "backward: 0it [00:00, ?it/s]"
      ]
     },
     "metadata": {},
     "output_type": "display_data"
    },
    {
     "data": {
      "application/vnd.jupyter.widget-view+json": {
       "model_id": "e0d53f35ec544bf493a106689c1dc710",
       "version_major": 2,
       "version_minor": 0
      },
      "text/plain": [
       "backward: 0it [00:00, ?it/s]"
      ]
     },
     "metadata": {},
     "output_type": "display_data"
    },
    {
     "name": "stdout",
     "output_type": "stream",
     "text": [
      "scene id 9\n",
      "scene name pedestrian2\n"
     ]
    },
    {
     "data": {
      "application/vnd.jupyter.widget-view+json": {
       "model_id": "197f9914abc744cbaf14ebe8a818351f",
       "version_major": 2,
       "version_minor": 0
      },
      "text/plain": [
       "forward: 0it [00:00, ?it/s]"
      ]
     },
     "metadata": {},
     "output_type": "display_data"
    },
    {
     "data": {
      "application/vnd.jupyter.widget-view+json": {
       "model_id": "89118ee1cc854755a4652fe633904a5d",
       "version_major": 2,
       "version_minor": 0
      },
      "text/plain": [
       "backward: 0it [00:00, ?it/s]"
      ]
     },
     "metadata": {},
     "output_type": "display_data"
    },
    {
     "data": {
      "application/vnd.jupyter.widget-view+json": {
       "model_id": "7af296a1b4994065a1e23be704246995",
       "version_major": 2,
       "version_minor": 0
      },
      "text/plain": [
       "backward: 0it [00:00, ?it/s]"
      ]
     },
     "metadata": {},
     "output_type": "display_data"
    },
    {
     "data": {
      "application/vnd.jupyter.widget-view+json": {
       "model_id": "8ba2d6daaeb24914b8f242eba8b40ff9",
       "version_major": 2,
       "version_minor": 0
      },
      "text/plain": [
       "forward: 0it [00:00, ?it/s]"
      ]
     },
     "metadata": {},
     "output_type": "display_data"
    },
    {
     "data": {
      "application/vnd.jupyter.widget-view+json": {
       "model_id": "d9ee64bbddd74800a9cba3336634b2c1",
       "version_major": 2,
       "version_minor": 0
      },
      "text/plain": [
       "backward: 0it [00:00, ?it/s]"
      ]
     },
     "metadata": {},
     "output_type": "display_data"
    },
    {
     "name": "stdout",
     "output_type": "stream",
     "text": [
      "scene id 10\n",
      "scene name basketball\n"
     ]
    },
    {
     "data": {
      "application/vnd.jupyter.widget-view+json": {
       "model_id": "d12f73d76b4a4254a544c19652a5308e",
       "version_major": 2,
       "version_minor": 0
      },
      "text/plain": [
       "forward: 0it [00:00, ?it/s]"
      ]
     },
     "metadata": {},
     "output_type": "display_data"
    },
    {
     "data": {
      "application/vnd.jupyter.widget-view+json": {
       "model_id": "d0036054d8184f3bb1633790e591995a",
       "version_major": 2,
       "version_minor": 0
      },
      "text/plain": [
       "backward: 0it [00:00, ?it/s]"
      ]
     },
     "metadata": {},
     "output_type": "display_data"
    },
    {
     "data": {
      "application/vnd.jupyter.widget-view+json": {
       "model_id": "c4633606c7ca4b46b0df5d208352f9b9",
       "version_major": 2,
       "version_minor": 0
      },
      "text/plain": [
       "backward: 0it [00:00, ?it/s]"
      ]
     },
     "metadata": {},
     "output_type": "display_data"
    },
    {
     "data": {
      "application/vnd.jupyter.widget-view+json": {
       "model_id": "1f513429da534570bb5b56ecadb941dd",
       "version_major": 2,
       "version_minor": 0
      },
      "text/plain": [
       "forward: 0it [00:00, ?it/s]"
      ]
     },
     "metadata": {},
     "output_type": "display_data"
    },
    {
     "data": {
      "application/vnd.jupyter.widget-view+json": {
       "model_id": "620d99709f604c6b96951f65c0a78dbd",
       "version_major": 2,
       "version_minor": 0
      },
      "text/plain": [
       "backward: 0it [00:00, ?it/s]"
      ]
     },
     "metadata": {},
     "output_type": "display_data"
    },
    {
     "name": "stdout",
     "output_type": "stream",
     "text": [
      "scene id 11\n",
      "scene name student\n"
     ]
    },
    {
     "data": {
      "application/vnd.jupyter.widget-view+json": {
       "model_id": "b298cddca6374d1cb9036ea081b95908",
       "version_major": 2,
       "version_minor": 0
      },
      "text/plain": [
       "forward: 0it [00:00, ?it/s]"
      ]
     },
     "metadata": {},
     "output_type": "display_data"
    },
    {
     "data": {
      "application/vnd.jupyter.widget-view+json": {
       "model_id": "725ed624767d449fb18fbc5c5278e42b",
       "version_major": 2,
       "version_minor": 0
      },
      "text/plain": [
       "backward: 0it [00:00, ?it/s]"
      ]
     },
     "metadata": {},
     "output_type": "display_data"
    },
    {
     "name": "stdout",
     "output_type": "stream",
     "text": [
      "scene id 12\n",
      "scene name rainystreet16\n"
     ]
    },
    {
     "data": {
      "application/vnd.jupyter.widget-view+json": {
       "model_id": "3142e527cbcc415f89626daad05ba340",
       "version_major": 2,
       "version_minor": 0
      },
      "text/plain": [
       "forward: 0it [00:00, ?it/s]"
      ]
     },
     "metadata": {},
     "output_type": "display_data"
    },
    {
     "data": {
      "application/vnd.jupyter.widget-view+json": {
       "model_id": "768dfba9fbb143c9b326dcd83a80058e",
       "version_major": 2,
       "version_minor": 0
      },
      "text/plain": [
       "backward: 0it [00:00, ?it/s]"
      ]
     },
     "metadata": {},
     "output_type": "display_data"
    },
    {
     "data": {
      "application/vnd.jupyter.widget-view+json": {
       "model_id": "7e1fb5553f74421ebe938d837dec80d3",
       "version_major": 2,
       "version_minor": 0
      },
      "text/plain": [
       "backward: 0it [00:00, ?it/s]"
      ]
     },
     "metadata": {},
     "output_type": "display_data"
    },
    {
     "data": {
      "application/vnd.jupyter.widget-view+json": {
       "model_id": "fe43ed971f82470faab97b94dd9a86e4",
       "version_major": 2,
       "version_minor": 0
      },
      "text/plain": [
       "backward: 0it [00:00, ?it/s]"
      ]
     },
     "metadata": {},
     "output_type": "display_data"
    },
    {
     "data": {
      "application/vnd.jupyter.widget-view+json": {
       "model_id": "1f5276a84fed4d4f89512ee830bf4aca",
       "version_major": 2,
       "version_minor": 0
      },
      "text/plain": [
       "forward: 0it [00:00, ?it/s]"
      ]
     },
     "metadata": {},
     "output_type": "display_data"
    },
    {
     "data": {
      "application/vnd.jupyter.widget-view+json": {
       "model_id": "12eeba8c785343938a27b16e2559f969",
       "version_major": 2,
       "version_minor": 0
      },
      "text/plain": [
       "backward: 0it [00:00, ?it/s]"
      ]
     },
     "metadata": {},
     "output_type": "display_data"
    },
    {
     "data": {
      "application/vnd.jupyter.widget-view+json": {
       "model_id": "373942e9e7f24209872bc1cc641ea0bf",
       "version_major": 2,
       "version_minor": 0
      },
      "text/plain": [
       "backward: 0it [00:00, ?it/s]"
      ]
     },
     "metadata": {},
     "output_type": "display_data"
    },
    {
     "data": {
      "application/vnd.jupyter.widget-view+json": {
       "model_id": "cd4cc97bc5614d02a700e8d6e390ae60",
       "version_major": 2,
       "version_minor": 0
      },
      "text/plain": [
       "forward: 0it [00:00, ?it/s]"
      ]
     },
     "metadata": {},
     "output_type": "display_data"
    },
    {
     "name": "stdout",
     "output_type": "stream",
     "text": [
      "scene id 13\n",
      "scene name board\n"
     ]
    },
    {
     "data": {
      "application/vnd.jupyter.widget-view+json": {
       "model_id": "742dd4b1299349498a61f4eec3c489eb",
       "version_major": 2,
       "version_minor": 0
      },
      "text/plain": [
       "forward: 0it [00:00, ?it/s]"
      ]
     },
     "metadata": {},
     "output_type": "display_data"
    },
    {
     "data": {
      "application/vnd.jupyter.widget-view+json": {
       "model_id": "08cd63a1999243fda038a4aa94421348",
       "version_major": 2,
       "version_minor": 0
      },
      "text/plain": [
       "backward: 0it [00:00, ?it/s]"
      ]
     },
     "metadata": {},
     "output_type": "display_data"
    },
    {
     "name": "stdout",
     "output_type": "stream",
     "text": [
      "scene id 14\n",
      "scene name ball&mirror9\n"
     ]
    },
    {
     "data": {
      "application/vnd.jupyter.widget-view+json": {
       "model_id": "650f74863721481e925f8b43cbb9c9c2",
       "version_major": 2,
       "version_minor": 0
      },
      "text/plain": [
       "forward: 0it [00:00, ?it/s]"
      ]
     },
     "metadata": {},
     "output_type": "display_data"
    },
    {
     "data": {
      "application/vnd.jupyter.widget-view+json": {
       "model_id": "2becdb719019460d8d13dac16519aa1b",
       "version_major": 2,
       "version_minor": 0
      },
      "text/plain": [
       "backward: 0it [00:00, ?it/s]"
      ]
     },
     "metadata": {},
     "output_type": "display_data"
    },
    {
     "data": {
      "application/vnd.jupyter.widget-view+json": {
       "model_id": "3c6a467f18de46b59b9458cb2e8f8205",
       "version_major": 2,
       "version_minor": 0
      },
      "text/plain": [
       "backward: 0it [00:00, ?it/s]"
      ]
     },
     "metadata": {},
     "output_type": "display_data"
    },
    {
     "data": {
      "application/vnd.jupyter.widget-view+json": {
       "model_id": "d6967626e4d245048e049c6a1d8a6d6d",
       "version_major": 2,
       "version_minor": 0
      },
      "text/plain": [
       "forward: 0it [00:00, ?it/s]"
      ]
     },
     "metadata": {},
     "output_type": "display_data"
    },
    {
     "data": {
      "application/vnd.jupyter.widget-view+json": {
       "model_id": "44cd7c0afa394d9e95ff2c25fe254b90",
       "version_major": 2,
       "version_minor": 0
      },
      "text/plain": [
       "backward: 0it [00:00, ?it/s]"
      ]
     },
     "metadata": {},
     "output_type": "display_data"
    },
    {
     "name": "stdout",
     "output_type": "stream",
     "text": [
      "scene id 15\n",
      "scene name pool10\n"
     ]
    },
    {
     "data": {
      "application/vnd.jupyter.widget-view+json": {
       "model_id": "7db74d8538a844d69a4dac50581539e1",
       "version_major": 2,
       "version_minor": 0
      },
      "text/plain": [
       "forward: 0it [00:00, ?it/s]"
      ]
     },
     "metadata": {},
     "output_type": "display_data"
    },
    {
     "data": {
      "application/vnd.jupyter.widget-view+json": {
       "model_id": "8fc9121abb9449d795efc4e3895fad5b",
       "version_major": 2,
       "version_minor": 0
      },
      "text/plain": [
       "backward: 0it [00:00, ?it/s]"
      ]
     },
     "metadata": {},
     "output_type": "display_data"
    },
    {
     "data": {
      "application/vnd.jupyter.widget-view+json": {
       "model_id": "387f81c868fd4bacba8548bf737c6c7c",
       "version_major": 2,
       "version_minor": 0
      },
      "text/plain": [
       "backward: 0it [00:00, ?it/s]"
      ]
     },
     "metadata": {},
     "output_type": "display_data"
    },
    {
     "data": {
      "application/vnd.jupyter.widget-view+json": {
       "model_id": "482c35df941349ceb6f3787ae715826d",
       "version_major": 2,
       "version_minor": 0
      },
      "text/plain": [
       "backward: 0it [00:00, ?it/s]"
      ]
     },
     "metadata": {},
     "output_type": "display_data"
    },
    {
     "data": {
      "application/vnd.jupyter.widget-view+json": {
       "model_id": "f0583f82162b45e38d6ac01c70d5c369",
       "version_major": 2,
       "version_minor": 0
      },
      "text/plain": [
       "forward: 0it [00:00, ?it/s]"
      ]
     },
     "metadata": {},
     "output_type": "display_data"
    },
    {
     "data": {
      "application/vnd.jupyter.widget-view+json": {
       "model_id": "c8222d5028804b6ca3d3b71f5920fef4",
       "version_major": 2,
       "version_minor": 0
      },
      "text/plain": [
       "backward: 0it [00:00, ?it/s]"
      ]
     },
     "metadata": {},
     "output_type": "display_data"
    },
    {
     "data": {
      "application/vnd.jupyter.widget-view+json": {
       "model_id": "afaa03e6e7bf4250b8075bf164bbb440",
       "version_major": 2,
       "version_minor": 0
      },
      "text/plain": [
       "backward: 0it [00:00, ?it/s]"
      ]
     },
     "metadata": {},
     "output_type": "display_data"
    },
    {
     "name": "stdout",
     "output_type": "stream",
     "text": [
      "scene id 16\n",
      "scene name worker\n"
     ]
    },
    {
     "data": {
      "application/vnd.jupyter.widget-view+json": {
       "model_id": "301303429c8049ad94203e5a980d41f2",
       "version_major": 2,
       "version_minor": 0
      },
      "text/plain": [
       "forward: 0it [00:00, ?it/s]"
      ]
     },
     "metadata": {},
     "output_type": "display_data"
    },
    {
     "data": {
      "application/vnd.jupyter.widget-view+json": {
       "model_id": "ef6ae66325a34573a3c776b0404fe8c8",
       "version_major": 2,
       "version_minor": 0
      },
      "text/plain": [
       "backward: 0it [00:00, ?it/s]"
      ]
     },
     "metadata": {},
     "output_type": "display_data"
    },
    {
     "data": {
      "application/vnd.jupyter.widget-view+json": {
       "model_id": "80511f7ed1ea48c7946df43d297ebc7c",
       "version_major": 2,
       "version_minor": 0
      },
      "text/plain": [
       "backward: 0it [00:00, ?it/s]"
      ]
     },
     "metadata": {},
     "output_type": "display_data"
    },
    {
     "data": {
      "application/vnd.jupyter.widget-view+json": {
       "model_id": "2cebb782f4874814ac149e6f0cd2373b",
       "version_major": 2,
       "version_minor": 0
      },
      "text/plain": [
       "forward: 0it [00:00, ?it/s]"
      ]
     },
     "metadata": {},
     "output_type": "display_data"
    },
    {
     "data": {
      "application/vnd.jupyter.widget-view+json": {
       "model_id": "28463b97bfc04d0c8e316cc3aa2a7ec6",
       "version_major": 2,
       "version_minor": 0
      },
      "text/plain": [
       "backward: 0it [00:00, ?it/s]"
      ]
     },
     "metadata": {},
     "output_type": "display_data"
    },
    {
     "data": {
      "application/vnd.jupyter.widget-view+json": {
       "model_id": "1f120a653bcb421ebd76fcc59ba87d66",
       "version_major": 2,
       "version_minor": 0
      },
      "text/plain": [
       "backward: 0it [00:00, ?it/s]"
      ]
     },
     "metadata": {},
     "output_type": "display_data"
    },
    {
     "data": {
      "application/vnd.jupyter.widget-view+json": {
       "model_id": "dfa0464210814de69f144fd6ca265566",
       "version_major": 2,
       "version_minor": 0
      },
      "text/plain": [
       "backward: 0it [00:00, ?it/s]"
      ]
     },
     "metadata": {},
     "output_type": "display_data"
    },
    {
     "data": {
      "application/vnd.jupyter.widget-view+json": {
       "model_id": "13c47278dd664af68d393cca2f9b8b9a",
       "version_major": 2,
       "version_minor": 0
      },
      "text/plain": [
       "forward: 0it [00:00, ?it/s]"
      ]
     },
     "metadata": {},
     "output_type": "display_data"
    },
    {
     "name": "stdout",
     "output_type": "stream",
     "text": [
      "scene id 17\n",
      "scene name forest\n"
     ]
    },
    {
     "data": {
      "application/vnd.jupyter.widget-view+json": {
       "model_id": "c1765cc34bc8419dbe667ec9332c8d5c",
       "version_major": 2,
       "version_minor": 0
      },
      "text/plain": [
       "forward: 0it [00:00, ?it/s]"
      ]
     },
     "metadata": {},
     "output_type": "display_data"
    },
    {
     "data": {
      "application/vnd.jupyter.widget-view+json": {
       "model_id": "d3bb41c3f45f446fab0dca57d7d964e4",
       "version_major": 2,
       "version_minor": 0
      },
      "text/plain": [
       "backward: 0it [00:00, ?it/s]"
      ]
     },
     "metadata": {},
     "output_type": "display_data"
    },
    {
     "name": "stdout",
     "output_type": "stream",
     "text": [
      "scene id 18\n",
      "scene name kangaroo\n"
     ]
    },
    {
     "data": {
      "application/vnd.jupyter.widget-view+json": {
       "model_id": "767821ff175f4d899aaf7764fb491a22",
       "version_major": 2,
       "version_minor": 0
      },
      "text/plain": [
       "forward: 0it [00:00, ?it/s]"
      ]
     },
     "metadata": {},
     "output_type": "display_data"
    },
    {
     "data": {
      "application/vnd.jupyter.widget-view+json": {
       "model_id": "342204643c874d09b05c604ce7113fb1",
       "version_major": 2,
       "version_minor": 0
      },
      "text/plain": [
       "backward: 0it [00:00, ?it/s]"
      ]
     },
     "metadata": {},
     "output_type": "display_data"
    },
    {
     "data": {
      "application/vnd.jupyter.widget-view+json": {
       "model_id": "fbbdacefa6f743b8b6bf065c7e27d334",
       "version_major": 2,
       "version_minor": 0
      },
      "text/plain": [
       "backward: 0it [00:00, ?it/s]"
      ]
     },
     "metadata": {},
     "output_type": "display_data"
    },
    {
     "data": {
      "application/vnd.jupyter.widget-view+json": {
       "model_id": "69b6c17e91bc4afe9b37833b65b6ff7c",
       "version_major": 2,
       "version_minor": 0
      },
      "text/plain": [
       "forward: 0it [00:00, ?it/s]"
      ]
     },
     "metadata": {},
     "output_type": "display_data"
    },
    {
     "data": {
      "application/vnd.jupyter.widget-view+json": {
       "model_id": "318470be378d45288afd6c99b86e92a1",
       "version_major": 2,
       "version_minor": 0
      },
      "text/plain": [
       "backward: 0it [00:00, ?it/s]"
      ]
     },
     "metadata": {},
     "output_type": "display_data"
    },
    {
     "name": "stdout",
     "output_type": "stream",
     "text": [
      "scene id 19\n",
      "scene name excavator\n"
     ]
    },
    {
     "data": {
      "application/vnd.jupyter.widget-view+json": {
       "model_id": "25760de8f95147c68b3d1c5610df6ba0",
       "version_major": 2,
       "version_minor": 0
      },
      "text/plain": [
       "forward: 0it [00:00, ?it/s]"
      ]
     },
     "metadata": {},
     "output_type": "display_data"
    },
    {
     "data": {
      "application/vnd.jupyter.widget-view+json": {
       "model_id": "a6e64e05221144508207ffbddc882038",
       "version_major": 2,
       "version_minor": 0
      },
      "text/plain": [
       "backward: 0it [00:00, ?it/s]"
      ]
     },
     "metadata": {},
     "output_type": "display_data"
    },
    {
     "name": "stdout",
     "output_type": "stream",
     "text": [
      "scene id 20\n",
      "scene name playground\n"
     ]
    },
    {
     "data": {
      "application/vnd.jupyter.widget-view+json": {
       "model_id": "1fefb4c661e64662a0d24cc2645cb5fe",
       "version_major": 2,
       "version_minor": 0
      },
      "text/plain": [
       "forward: 0it [00:00, ?it/s]"
      ]
     },
     "metadata": {},
     "output_type": "display_data"
    },
    {
     "data": {
      "application/vnd.jupyter.widget-view+json": {
       "model_id": "dbe13ac1b4cc464caa7f2dab27275109",
       "version_major": 2,
       "version_minor": 0
      },
      "text/plain": [
       "backward: 0it [00:00, ?it/s]"
      ]
     },
     "metadata": {},
     "output_type": "display_data"
    },
    {
     "data": {
      "application/vnd.jupyter.widget-view+json": {
       "model_id": "ddf9eb4a753e4979afc82641ca569e86",
       "version_major": 2,
       "version_minor": 0
      },
      "text/plain": [
       "backward: 0it [00:00, ?it/s]"
      ]
     },
     "metadata": {},
     "output_type": "display_data"
    },
    {
     "data": {
      "application/vnd.jupyter.widget-view+json": {
       "model_id": "e8f7e5ee76574c0ea94e4285ce6b2ad9",
       "version_major": 2,
       "version_minor": 0
      },
      "text/plain": [
       "backward: 0it [00:00, ?it/s]"
      ]
     },
     "metadata": {},
     "output_type": "display_data"
    },
    {
     "data": {
      "application/vnd.jupyter.widget-view+json": {
       "model_id": "38f8ce6dddb74cc1900d6fa600b9a26e",
       "version_major": 2,
       "version_minor": 0
      },
      "text/plain": [
       "backward: 0it [00:00, ?it/s]"
      ]
     },
     "metadata": {},
     "output_type": "display_data"
    },
    {
     "data": {
      "application/vnd.jupyter.widget-view+json": {
       "model_id": "c16ac9f977ac4ce4bdfc39bd156ea3ee",
       "version_major": 2,
       "version_minor": 0
      },
      "text/plain": [
       "forward: 0it [00:00, ?it/s]"
      ]
     },
     "metadata": {},
     "output_type": "display_data"
    },
    {
     "data": {
      "application/vnd.jupyter.widget-view+json": {
       "model_id": "bf0300e7444542cebad1576a661aea0c",
       "version_major": 2,
       "version_minor": 0
      },
      "text/plain": [
       "backward: 0it [00:00, ?it/s]"
      ]
     },
     "metadata": {},
     "output_type": "display_data"
    },
    {
     "data": {
      "application/vnd.jupyter.widget-view+json": {
       "model_id": "6090594089ab47a6aeaf0f11351a3122",
       "version_major": 2,
       "version_minor": 0
      },
      "text/plain": [
       "backward: 0it [00:00, ?it/s]"
      ]
     },
     "metadata": {},
     "output_type": "display_data"
    },
    {
     "name": "stdout",
     "output_type": "stream",
     "text": [
      "scene id 21\n",
      "scene name car\n"
     ]
    },
    {
     "data": {
      "application/vnd.jupyter.widget-view+json": {
       "model_id": "3d932075f83e41abad312136f7108108",
       "version_major": 2,
       "version_minor": 0
      },
      "text/plain": [
       "forward: 0it [00:00, ?it/s]"
      ]
     },
     "metadata": {},
     "output_type": "display_data"
    },
    {
     "data": {
      "application/vnd.jupyter.widget-view+json": {
       "model_id": "43e27f96f7dd4327b5215b567b37aa3e",
       "version_major": 2,
       "version_minor": 0
      },
      "text/plain": [
       "backward: 0it [00:00, ?it/s]"
      ]
     },
     "metadata": {},
     "output_type": "display_data"
    },
    {
     "name": "stdout",
     "output_type": "stream",
     "text": [
      "scene id 22\n",
      "scene name face\n"
     ]
    },
    {
     "data": {
      "application/vnd.jupyter.widget-view+json": {
       "model_id": "ac8930af451940e79e64127bb2f6268b",
       "version_major": 2,
       "version_minor": 0
      },
      "text/plain": [
       "forward: 0it [00:00, ?it/s]"
      ]
     },
     "metadata": {},
     "output_type": "display_data"
    },
    {
     "data": {
      "application/vnd.jupyter.widget-view+json": {
       "model_id": "4bd0d5b04a364636b3a18a29ebef282a",
       "version_major": 2,
       "version_minor": 0
      },
      "text/plain": [
       "backward: 0it [00:00, ?it/s]"
      ]
     },
     "metadata": {},
     "output_type": "display_data"
    },
    {
     "name": "stdout",
     "output_type": "stream",
     "text": [
      "scene id 23\n",
      "scene name whitecup1\n"
     ]
    },
    {
     "data": {
      "application/vnd.jupyter.widget-view+json": {
       "model_id": "1fc8c7299c5e4e2c95b53f2b288e4c3a",
       "version_major": 2,
       "version_minor": 0
      },
      "text/plain": [
       "forward: 0it [00:00, ?it/s]"
      ]
     },
     "metadata": {},
     "output_type": "display_data"
    },
    {
     "data": {
      "application/vnd.jupyter.widget-view+json": {
       "model_id": "7ff526edacef4b32985b826b1c7ade77",
       "version_major": 2,
       "version_minor": 0
      },
      "text/plain": [
       "backward: 0it [00:00, ?it/s]"
      ]
     },
     "metadata": {},
     "output_type": "display_data"
    },
    {
     "name": "stdout",
     "output_type": "stream",
     "text": [
      "scene id 24\n",
      "scene name ball\n"
     ]
    },
    {
     "data": {
      "application/vnd.jupyter.widget-view+json": {
       "model_id": "2b64627a65f54862a864a34e44d59a95",
       "version_major": 2,
       "version_minor": 0
      },
      "text/plain": [
       "forward: 0it [00:00, ?it/s]"
      ]
     },
     "metadata": {},
     "output_type": "display_data"
    },
    {
     "data": {
      "application/vnd.jupyter.widget-view+json": {
       "model_id": "391b0b6547024755b2ceaa22208b14c1",
       "version_major": 2,
       "version_minor": 0
      },
      "text/plain": [
       "backward: 0it [00:00, ?it/s]"
      ]
     },
     "metadata": {},
     "output_type": "display_data"
    },
    {
     "data": {
      "application/vnd.jupyter.widget-view+json": {
       "model_id": "a01528f891244be0925f48a9e333246a",
       "version_major": 2,
       "version_minor": 0
      },
      "text/plain": [
       "backward: 0it [00:00, ?it/s]"
      ]
     },
     "metadata": {},
     "output_type": "display_data"
    },
    {
     "data": {
      "application/vnd.jupyter.widget-view+json": {
       "model_id": "b2ded54f8f2e4abea3536184d85a8961",
       "version_major": 2,
       "version_minor": 0
      },
      "text/plain": [
       "forward: 0it [00:00, ?it/s]"
      ]
     },
     "metadata": {},
     "output_type": "display_data"
    },
    {
     "data": {
      "application/vnd.jupyter.widget-view+json": {
       "model_id": "e69175e1917e48dba122e693765ab6f5",
       "version_major": 2,
       "version_minor": 0
      },
      "text/plain": [
       "backward: 0it [00:00, ?it/s]"
      ]
     },
     "metadata": {},
     "output_type": "display_data"
    },
    {
     "name": "stdout",
     "output_type": "stream",
     "text": [
      "scene id 25\n",
      "scene name rider1\n"
     ]
    },
    {
     "data": {
      "application/vnd.jupyter.widget-view+json": {
       "model_id": "5a0204f2ce974e089a9d0547e80d4b0a",
       "version_major": 2,
       "version_minor": 0
      },
      "text/plain": [
       "forward: 0it [00:00, ?it/s]"
      ]
     },
     "metadata": {},
     "output_type": "display_data"
    },
    {
     "data": {
      "application/vnd.jupyter.widget-view+json": {
       "model_id": "facc10c9c50e44998e93d47cf9accefa",
       "version_major": 2,
       "version_minor": 0
      },
      "text/plain": [
       "backward: 0it [00:00, ?it/s]"
      ]
     },
     "metadata": {},
     "output_type": "display_data"
    },
    {
     "data": {
      "application/vnd.jupyter.widget-view+json": {
       "model_id": "1cf9ec516a2047cdb600ce7c7fa8f25a",
       "version_major": 2,
       "version_minor": 0
      },
      "text/plain": [
       "backward: 0it [00:00, ?it/s]"
      ]
     },
     "metadata": {},
     "output_type": "display_data"
    },
    {
     "data": {
      "application/vnd.jupyter.widget-view+json": {
       "model_id": "e09bb2d4c0e340fa845e13ebbc842be5",
       "version_major": 2,
       "version_minor": 0
      },
      "text/plain": [
       "forward: 0it [00:00, ?it/s]"
      ]
     },
     "metadata": {},
     "output_type": "display_data"
    },
    {
     "data": {
      "application/vnd.jupyter.widget-view+json": {
       "model_id": "5703690717ac44469bd9857ce428449b",
       "version_major": 2,
       "version_minor": 0
      },
      "text/plain": [
       "backward: 0it [00:00, ?it/s]"
      ]
     },
     "metadata": {},
     "output_type": "display_data"
    },
    {
     "name": "stdout",
     "output_type": "stream",
     "text": [
      "scene id 26\n",
      "scene name toy2\n"
     ]
    },
    {
     "data": {
      "application/vnd.jupyter.widget-view+json": {
       "model_id": "219b0f5e04ae423cb2fe1d5e06b0550b",
       "version_major": 2,
       "version_minor": 0
      },
      "text/plain": [
       "forward: 0it [00:00, ?it/s]"
      ]
     },
     "metadata": {},
     "output_type": "display_data"
    },
    {
     "data": {
      "application/vnd.jupyter.widget-view+json": {
       "model_id": "1c74c426537949c9a622636563095fee",
       "version_major": 2,
       "version_minor": 0
      },
      "text/plain": [
       "backward: 0it [00:00, ?it/s]"
      ]
     },
     "metadata": {},
     "output_type": "display_data"
    },
    {
     "data": {
      "application/vnd.jupyter.widget-view+json": {
       "model_id": "80fd7557cf2c4396af6168866a4fa337",
       "version_major": 2,
       "version_minor": 0
      },
      "text/plain": [
       "backward: 0it [00:00, ?it/s]"
      ]
     },
     "metadata": {},
     "output_type": "display_data"
    },
    {
     "data": {
      "application/vnd.jupyter.widget-view+json": {
       "model_id": "e7c60d2e8d97437bae0f61f91d4191d5",
       "version_major": 2,
       "version_minor": 0
      },
      "text/plain": [
       "forward: 0it [00:00, ?it/s]"
      ]
     },
     "metadata": {},
     "output_type": "display_data"
    },
    {
     "data": {
      "application/vnd.jupyter.widget-view+json": {
       "model_id": "d0cc9df4270942faade3467c11bb8a51",
       "version_major": 2,
       "version_minor": 0
      },
      "text/plain": [
       "backward: 0it [00:00, ?it/s]"
      ]
     },
     "metadata": {},
     "output_type": "display_data"
    },
    {
     "name": "stdout",
     "output_type": "stream",
     "text": [
      "scene id 27\n",
      "scene name car2\n"
     ]
    },
    {
     "data": {
      "application/vnd.jupyter.widget-view+json": {
       "model_id": "b2c962c6ffbd4cec969c3e79d5285a83",
       "version_major": 2,
       "version_minor": 0
      },
      "text/plain": [
       "forward: 0it [00:00, ?it/s]"
      ]
     },
     "metadata": {},
     "output_type": "display_data"
    },
    {
     "data": {
      "application/vnd.jupyter.widget-view+json": {
       "model_id": "b613b25b3f9a47f4aa09a3e47cffeb51",
       "version_major": 2,
       "version_minor": 0
      },
      "text/plain": [
       "backward: 0it [00:00, ?it/s]"
      ]
     },
     "metadata": {},
     "output_type": "display_data"
    },
    {
     "data": {
      "application/vnd.jupyter.widget-view+json": {
       "model_id": "2109ced2f88a4f49a91c06a5c766cf3a",
       "version_major": 2,
       "version_minor": 0
      },
      "text/plain": [
       "backward: 0it [00:00, ?it/s]"
      ]
     },
     "metadata": {},
     "output_type": "display_data"
    },
    {
     "data": {
      "application/vnd.jupyter.widget-view+json": {
       "model_id": "b824481fd2164811a9d211457282d2e8",
       "version_major": 2,
       "version_minor": 0
      },
      "text/plain": [
       "forward: 0it [00:00, ?it/s]"
      ]
     },
     "metadata": {},
     "output_type": "display_data"
    },
    {
     "data": {
      "application/vnd.jupyter.widget-view+json": {
       "model_id": "54c36620a2af4534bb232a74224615fb",
       "version_major": 2,
       "version_minor": 0
      },
      "text/plain": [
       "backward: 0it [00:00, ?it/s]"
      ]
     },
     "metadata": {},
     "output_type": "display_data"
    },
    {
     "name": "stdout",
     "output_type": "stream",
     "text": [
      "scene id 28\n",
      "scene name dice2\n"
     ]
    },
    {
     "data": {
      "application/vnd.jupyter.widget-view+json": {
       "model_id": "6fab8f3d17f24a3d896551674869d34a",
       "version_major": 2,
       "version_minor": 0
      },
      "text/plain": [
       "forward: 0it [00:00, ?it/s]"
      ]
     },
     "metadata": {},
     "output_type": "display_data"
    },
    {
     "data": {
      "application/vnd.jupyter.widget-view+json": {
       "model_id": "522526608093495b8528e0dbda54b086",
       "version_major": 2,
       "version_minor": 0
      },
      "text/plain": [
       "backward: 0it [00:00, ?it/s]"
      ]
     },
     "metadata": {},
     "output_type": "display_data"
    },
    {
     "data": {
      "application/vnd.jupyter.widget-view+json": {
       "model_id": "f845c5b4b5594f888cc5e7af84f2fdd3",
       "version_major": 2,
       "version_minor": 0
      },
      "text/plain": [
       "backward: 0it [00:00, ?it/s]"
      ]
     },
     "metadata": {},
     "output_type": "display_data"
    },
    {
     "data": {
      "application/vnd.jupyter.widget-view+json": {
       "model_id": "cbcd2dc2d5504ddf9680dcd6f6592de5",
       "version_major": 2,
       "version_minor": 0
      },
      "text/plain": [
       "forward: 0it [00:00, ?it/s]"
      ]
     },
     "metadata": {},
     "output_type": "display_data"
    },
    {
     "data": {
      "application/vnd.jupyter.widget-view+json": {
       "model_id": "003df4cf00ba4d22a7c0bd84683839d3",
       "version_major": 2,
       "version_minor": 0
      },
      "text/plain": [
       "backward: 0it [00:00, ?it/s]"
      ]
     },
     "metadata": {},
     "output_type": "display_data"
    },
    {
     "name": "stdout",
     "output_type": "stream",
     "text": [
      "scene id 29\n",
      "scene name partylights6\n"
     ]
    },
    {
     "data": {
      "application/vnd.jupyter.widget-view+json": {
       "model_id": "c0d90a873c0847e6a77070d6c180b5df",
       "version_major": 2,
       "version_minor": 0
      },
      "text/plain": [
       "forward: 0it [00:00, ?it/s]"
      ]
     },
     "metadata": {},
     "output_type": "display_data"
    },
    {
     "data": {
      "application/vnd.jupyter.widget-view+json": {
       "model_id": "a7c3bca0338443e4aef658d3f3b6793d",
       "version_major": 2,
       "version_minor": 0
      },
      "text/plain": [
       "backward: 0it [00:00, ?it/s]"
      ]
     },
     "metadata": {},
     "output_type": "display_data"
    },
    {
     "data": {
      "application/vnd.jupyter.widget-view+json": {
       "model_id": "fbaebc6b767e437f962366dacc45ad5b",
       "version_major": 2,
       "version_minor": 0
      },
      "text/plain": [
       "backward: 0it [00:00, ?it/s]"
      ]
     },
     "metadata": {},
     "output_type": "display_data"
    },
    {
     "data": {
      "application/vnd.jupyter.widget-view+json": {
       "model_id": "07412d23eecb4e22b6c87288161cc1bd",
       "version_major": 2,
       "version_minor": 0
      },
      "text/plain": [
       "backward: 0it [00:00, ?it/s]"
      ]
     },
     "metadata": {},
     "output_type": "display_data"
    },
    {
     "data": {
      "application/vnd.jupyter.widget-view+json": {
       "model_id": "1929ed60a1144f02ad81af59b8df3973",
       "version_major": 2,
       "version_minor": 0
      },
      "text/plain": [
       "backward: 0it [00:00, ?it/s]"
      ]
     },
     "metadata": {},
     "output_type": "display_data"
    },
    {
     "data": {
      "application/vnd.jupyter.widget-view+json": {
       "model_id": "d6d75963b25b4434b987b37b122706a4",
       "version_major": 2,
       "version_minor": 0
      },
      "text/plain": [
       "backward: 0it [00:00, ?it/s]"
      ]
     },
     "metadata": {},
     "output_type": "display_data"
    },
    {
     "data": {
      "application/vnd.jupyter.widget-view+json": {
       "model_id": "f2f8892cada640b6abf93b352e5d7915",
       "version_major": 2,
       "version_minor": 0
      },
      "text/plain": [
       "forward: 0it [00:00, ?it/s]"
      ]
     },
     "metadata": {},
     "output_type": "display_data"
    },
    {
     "data": {
      "application/vnd.jupyter.widget-view+json": {
       "model_id": "4fbeffa1cc504c0892799ca296d59d50",
       "version_major": 2,
       "version_minor": 0
      },
      "text/plain": [
       "backward: 0it [00:00, ?it/s]"
      ]
     },
     "metadata": {},
     "output_type": "display_data"
    },
    {
     "data": {
      "application/vnd.jupyter.widget-view+json": {
       "model_id": "2b06a4c2818a4fccaabe2dfbf73797bc",
       "version_major": 2,
       "version_minor": 0
      },
      "text/plain": [
       "backward: 0it [00:00, ?it/s]"
      ]
     },
     "metadata": {},
     "output_type": "display_data"
    },
    {
     "data": {
      "application/vnd.jupyter.widget-view+json": {
       "model_id": "c140fb31ac3f4e22a853c2f868676c1a",
       "version_major": 2,
       "version_minor": 0
      },
      "text/plain": [
       "backward: 0it [00:00, ?it/s]"
      ]
     },
     "metadata": {},
     "output_type": "display_data"
    },
    {
     "data": {
      "application/vnd.jupyter.widget-view+json": {
       "model_id": "8cfb938c862f4033b0d6bf0c38add790",
       "version_major": 2,
       "version_minor": 0
      },
      "text/plain": [
       "backward: 0it [00:00, ?it/s]"
      ]
     },
     "metadata": {},
     "output_type": "display_data"
    },
    {
     "data": {
      "application/vnd.jupyter.widget-view+json": {
       "model_id": "ead4e05806b741278f03ce3b462f7d1a",
       "version_major": 2,
       "version_minor": 0
      },
      "text/plain": [
       "forward: 0it [00:00, ?it/s]"
      ]
     },
     "metadata": {},
     "output_type": "display_data"
    },
    {
     "name": "stdout",
     "output_type": "stream",
     "text": [
      "scene id 30\n",
      "scene name campus\n"
     ]
    },
    {
     "data": {
      "application/vnd.jupyter.widget-view+json": {
       "model_id": "2496113829f944e5b61eacbef236d4ea",
       "version_major": 2,
       "version_minor": 0
      },
      "text/plain": [
       "forward: 0it [00:00, ?it/s]"
      ]
     },
     "metadata": {},
     "output_type": "display_data"
    },
    {
     "data": {
      "application/vnd.jupyter.widget-view+json": {
       "model_id": "55b5b51d354f4e4dafcc34ad857dda90",
       "version_major": 2,
       "version_minor": 0
      },
      "text/plain": [
       "backward: 0it [00:00, ?it/s]"
      ]
     },
     "metadata": {},
     "output_type": "display_data"
    },
    {
     "data": {
      "application/vnd.jupyter.widget-view+json": {
       "model_id": "14f4a34f7ee94084a83e943306c8ea0f",
       "version_major": 2,
       "version_minor": 0
      },
      "text/plain": [
       "backward: 0it [00:00, ?it/s]"
      ]
     },
     "metadata": {},
     "output_type": "display_data"
    },
    {
     "data": {
      "application/vnd.jupyter.widget-view+json": {
       "model_id": "0e3d1818a4404a37827e1352c1d21a46",
       "version_major": 2,
       "version_minor": 0
      },
      "text/plain": [
       "backward: 0it [00:00, ?it/s]"
      ]
     },
     "metadata": {},
     "output_type": "display_data"
    },
    {
     "data": {
      "application/vnd.jupyter.widget-view+json": {
       "model_id": "62e340f44a3649d98d0cbe83c5634b46",
       "version_major": 2,
       "version_minor": 0
      },
      "text/plain": [
       "backward: 0it [00:00, ?it/s]"
      ]
     },
     "metadata": {},
     "output_type": "display_data"
    },
    {
     "data": {
      "application/vnd.jupyter.widget-view+json": {
       "model_id": "617e119bbf7145928f2764dbb7dabdb5",
       "version_major": 2,
       "version_minor": 0
      },
      "text/plain": [
       "backward: 0it [00:00, ?it/s]"
      ]
     },
     "metadata": {},
     "output_type": "display_data"
    },
    {
     "data": {
      "application/vnd.jupyter.widget-view+json": {
       "model_id": "7f53547747c64aef83744a3df250b1fd",
       "version_major": 2,
       "version_minor": 0
      },
      "text/plain": [
       "forward: 0it [00:00, ?it/s]"
      ]
     },
     "metadata": {},
     "output_type": "display_data"
    },
    {
     "data": {
      "application/vnd.jupyter.widget-view+json": {
       "model_id": "dd9780fbc8694458b9ed764223702a21",
       "version_major": 2,
       "version_minor": 0
      },
      "text/plain": [
       "backward: 0it [00:00, ?it/s]"
      ]
     },
     "metadata": {},
     "output_type": "display_data"
    },
    {
     "data": {
      "application/vnd.jupyter.widget-view+json": {
       "model_id": "7444b84fff8841d8a89a270c3f323c5d",
       "version_major": 2,
       "version_minor": 0
      },
      "text/plain": [
       "backward: 0it [00:00, ?it/s]"
      ]
     },
     "metadata": {},
     "output_type": "display_data"
    },
    {
     "data": {
      "application/vnd.jupyter.widget-view+json": {
       "model_id": "c6a5cffff9b74a1b972beffdf2b4a316",
       "version_major": 2,
       "version_minor": 0
      },
      "text/plain": [
       "backward: 0it [00:00, ?it/s]"
      ]
     },
     "metadata": {},
     "output_type": "display_data"
    },
    {
     "data": {
      "application/vnd.jupyter.widget-view+json": {
       "model_id": "aca6eef9ebeb42599fd60d9f892f8abd",
       "version_major": 2,
       "version_minor": 0
      },
      "text/plain": [
       "backward: 0it [00:00, ?it/s]"
      ]
     },
     "metadata": {},
     "output_type": "display_data"
    },
    {
     "name": "stdout",
     "output_type": "stream",
     "text": [
      "scene id 31\n",
      "scene name book\n"
     ]
    },
    {
     "data": {
      "application/vnd.jupyter.widget-view+json": {
       "model_id": "de687a5ac563498186bfd590181ed0fd",
       "version_major": 2,
       "version_minor": 0
      },
      "text/plain": [
       "forward: 0it [00:00, ?it/s]"
      ]
     },
     "metadata": {},
     "output_type": "display_data"
    },
    {
     "data": {
      "application/vnd.jupyter.widget-view+json": {
       "model_id": "5e69ceae0bf547b9a6768117e897608d",
       "version_major": 2,
       "version_minor": 0
      },
      "text/plain": [
       "backward: 0it [00:00, ?it/s]"
      ]
     },
     "metadata": {},
     "output_type": "display_data"
    },
    {
     "name": "stdout",
     "output_type": "stream",
     "text": [
      "scene id 32\n",
      "scene name rainystreet10\n"
     ]
    },
    {
     "data": {
      "application/vnd.jupyter.widget-view+json": {
       "model_id": "fb57fad4d1c941c7b9c0ced85213ce7e",
       "version_major": 2,
       "version_minor": 0
      },
      "text/plain": [
       "forward: 0it [00:00, ?it/s]"
      ]
     },
     "metadata": {},
     "output_type": "display_data"
    },
    {
     "data": {
      "application/vnd.jupyter.widget-view+json": {
       "model_id": "33370ff7ad0e49ea99bc3198dad02ad3",
       "version_major": 2,
       "version_minor": 0
      },
      "text/plain": [
       "backward: 0it [00:00, ?it/s]"
      ]
     },
     "metadata": {},
     "output_type": "display_data"
    },
    {
     "data": {
      "application/vnd.jupyter.widget-view+json": {
       "model_id": "cd99d28042af48a78553aea216dc3d2b",
       "version_major": 2,
       "version_minor": 0
      },
      "text/plain": [
       "backward: 0it [00:00, ?it/s]"
      ]
     },
     "metadata": {},
     "output_type": "display_data"
    },
    {
     "data": {
      "application/vnd.jupyter.widget-view+json": {
       "model_id": "034efcf33a2046a8b8cc1b44ed3dce78",
       "version_major": 2,
       "version_minor": 0
      },
      "text/plain": [
       "backward: 0it [00:00, ?it/s]"
      ]
     },
     "metadata": {},
     "output_type": "display_data"
    },
    {
     "data": {
      "application/vnd.jupyter.widget-view+json": {
       "model_id": "0d87670bd4a54e579f4bebf2c7d0414e",
       "version_major": 2,
       "version_minor": 0
      },
      "text/plain": [
       "forward: 0it [00:00, ?it/s]"
      ]
     },
     "metadata": {},
     "output_type": "display_data"
    },
    {
     "data": {
      "application/vnd.jupyter.widget-view+json": {
       "model_id": "15e35833df064223bd972409e1438321",
       "version_major": 2,
       "version_minor": 0
      },
      "text/plain": [
       "backward: 0it [00:00, ?it/s]"
      ]
     },
     "metadata": {},
     "output_type": "display_data"
    },
    {
     "data": {
      "application/vnd.jupyter.widget-view+json": {
       "model_id": "104e1b7a61194efd90fb27fe3512a932",
       "version_major": 2,
       "version_minor": 0
      },
      "text/plain": [
       "backward: 0it [00:00, ?it/s]"
      ]
     },
     "metadata": {},
     "output_type": "display_data"
    },
    {
     "name": "stdout",
     "output_type": "stream",
     "text": [
      "scene id 33\n",
      "scene name cards16\n"
     ]
    },
    {
     "data": {
      "application/vnd.jupyter.widget-view+json": {
       "model_id": "b598bc7edc3e442fa3b66ee04c177b42",
       "version_major": 2,
       "version_minor": 0
      },
      "text/plain": [
       "forward: 0it [00:00, ?it/s]"
      ]
     },
     "metadata": {},
     "output_type": "display_data"
    },
    {
     "data": {
      "application/vnd.jupyter.widget-view+json": {
       "model_id": "fb4892dc9d834d629e982d03e31276bd",
       "version_major": 2,
       "version_minor": 0
      },
      "text/plain": [
       "backward: 0it [00:00, ?it/s]"
      ]
     },
     "metadata": {},
     "output_type": "display_data"
    },
    {
     "data": {
      "application/vnd.jupyter.widget-view+json": {
       "model_id": "8b6bd709e99141d78565ad79d8136153",
       "version_major": 2,
       "version_minor": 0
      },
      "text/plain": [
       "backward: 0it [00:00, ?it/s]"
      ]
     },
     "metadata": {},
     "output_type": "display_data"
    },
    {
     "data": {
      "application/vnd.jupyter.widget-view+json": {
       "model_id": "aace0a30f0f344a580161cb3b34ffc5d",
       "version_major": 2,
       "version_minor": 0
      },
      "text/plain": [
       "backward: 0it [00:00, ?it/s]"
      ]
     },
     "metadata": {},
     "output_type": "display_data"
    },
    {
     "data": {
      "application/vnd.jupyter.widget-view+json": {
       "model_id": "3e9199a3bec5456e8ececfd226e5beec",
       "version_major": 2,
       "version_minor": 0
      },
      "text/plain": [
       "forward: 0it [00:00, ?it/s]"
      ]
     },
     "metadata": {},
     "output_type": "display_data"
    },
    {
     "data": {
      "application/vnd.jupyter.widget-view+json": {
       "model_id": "8c7c243a530d46a4a03e508103356f6b",
       "version_major": 2,
       "version_minor": 0
      },
      "text/plain": [
       "backward: 0it [00:00, ?it/s]"
      ]
     },
     "metadata": {},
     "output_type": "display_data"
    },
    {
     "name": "stdout",
     "output_type": "stream",
     "text": [
      "scene id 34\n",
      "scene name rider2\n"
     ]
    },
    {
     "data": {
      "application/vnd.jupyter.widget-view+json": {
       "model_id": "de90597ea3584ff7bcecf1e9e5153405",
       "version_major": 2,
       "version_minor": 0
      },
      "text/plain": [
       "forward: 0it [00:00, ?it/s]"
      ]
     },
     "metadata": {},
     "output_type": "display_data"
    },
    {
     "data": {
      "application/vnd.jupyter.widget-view+json": {
       "model_id": "9ad8addc908441cdb9e40be15a75bebd",
       "version_major": 2,
       "version_minor": 0
      },
      "text/plain": [
       "backward: 0it [00:00, ?it/s]"
      ]
     },
     "metadata": {},
     "output_type": "display_data"
    },
    {
     "data": {
      "application/vnd.jupyter.widget-view+json": {
       "model_id": "7f9134b534e34aa598e696af51b1aacd",
       "version_major": 2,
       "version_minor": 0
      },
      "text/plain": [
       "backward: 0it [00:00, ?it/s]"
      ]
     },
     "metadata": {},
     "output_type": "display_data"
    },
    {
     "data": {
      "application/vnd.jupyter.widget-view+json": {
       "model_id": "e0481e77dd81489d9c9a949730a8d6fe",
       "version_major": 2,
       "version_minor": 0
      },
      "text/plain": [
       "forward: 0it [00:00, ?it/s]"
      ]
     },
     "metadata": {},
     "output_type": "display_data"
    },
    {
     "data": {
      "application/vnd.jupyter.widget-view+json": {
       "model_id": "b700ae4cc17542cfad280bda1350fcd2",
       "version_major": 2,
       "version_minor": 0
      },
      "text/plain": [
       "backward: 0it [00:00, ?it/s]"
      ]
     },
     "metadata": {},
     "output_type": "display_data"
    },
    {
     "name": "stdout",
     "output_type": "stream",
     "text": [
      "scene id 35\n",
      "scene name bus2\n"
     ]
    },
    {
     "data": {
      "application/vnd.jupyter.widget-view+json": {
       "model_id": "d278f5d100fa43e4afefc0a91bc57c05",
       "version_major": 2,
       "version_minor": 0
      },
      "text/plain": [
       "forward: 0it [00:00, ?it/s]"
      ]
     },
     "metadata": {},
     "output_type": "display_data"
    },
    {
     "data": {
      "application/vnd.jupyter.widget-view+json": {
       "model_id": "6443c408b3044f43b97385ce7868e765",
       "version_major": 2,
       "version_minor": 0
      },
      "text/plain": [
       "backward: 0it [00:00, ?it/s]"
      ]
     },
     "metadata": {},
     "output_type": "display_data"
    },
    {
     "name": "stdout",
     "output_type": "stream",
     "text": [
      "scene id 36\n",
      "scene name trucker\n"
     ]
    },
    {
     "data": {
      "application/vnd.jupyter.widget-view+json": {
       "model_id": "28c7870e6105449cb8833648476e3249",
       "version_major": 2,
       "version_minor": 0
      },
      "text/plain": [
       "forward: 0it [00:00, ?it/s]"
      ]
     },
     "metadata": {},
     "output_type": "display_data"
    },
    {
     "data": {
      "application/vnd.jupyter.widget-view+json": {
       "model_id": "fb9699a2ea2441d2b52613940f5105d4",
       "version_major": 2,
       "version_minor": 0
      },
      "text/plain": [
       "backward: 0it [00:00, ?it/s]"
      ]
     },
     "metadata": {},
     "output_type": "display_data"
    },
    {
     "data": {
      "application/vnd.jupyter.widget-view+json": {
       "model_id": "373a80e5aceb44fb94f0c2b97c88fe86",
       "version_major": 2,
       "version_minor": 0
      },
      "text/plain": [
       "backward: 0it [00:00, ?it/s]"
      ]
     },
     "metadata": {},
     "output_type": "display_data"
    },
    {
     "data": {
      "application/vnd.jupyter.widget-view+json": {
       "model_id": "369d0c6e639f4f7c9da36ace68c86d5f",
       "version_major": 2,
       "version_minor": 0
      },
      "text/plain": [
       "forward: 0it [00:00, ?it/s]"
      ]
     },
     "metadata": {},
     "output_type": "display_data"
    },
    {
     "data": {
      "application/vnd.jupyter.widget-view+json": {
       "model_id": "65c3c0e0a13545c8988938b1dd2a39ca",
       "version_major": 2,
       "version_minor": 0
      },
      "text/plain": [
       "backward: 0it [00:00, ?it/s]"
      ]
     },
     "metadata": {},
     "output_type": "display_data"
    },
    {
     "name": "stdout",
     "output_type": "stream",
     "text": [
      "scene id 37\n",
      "scene name drive\n"
     ]
    },
    {
     "data": {
      "application/vnd.jupyter.widget-view+json": {
       "model_id": "716c4bb27c2943a4a7876eaec35c37fd",
       "version_major": 2,
       "version_minor": 0
      },
      "text/plain": [
       "forward: 0it [00:00, ?it/s]"
      ]
     },
     "metadata": {},
     "output_type": "display_data"
    },
    {
     "data": {
      "application/vnd.jupyter.widget-view+json": {
       "model_id": "bc07edbe3ffd4f7397f4b2a852fa739b",
       "version_major": 2,
       "version_minor": 0
      },
      "text/plain": [
       "backward: 0it [00:00, ?it/s]"
      ]
     },
     "metadata": {},
     "output_type": "display_data"
    },
    {
     "data": {
      "application/vnd.jupyter.widget-view+json": {
       "model_id": "14c94873fdaf4f1582c64baeb6431607",
       "version_major": 2,
       "version_minor": 0
      },
      "text/plain": [
       "backward: 0it [00:00, ?it/s]"
      ]
     },
     "metadata": {},
     "output_type": "display_data"
    },
    {
     "data": {
      "application/vnd.jupyter.widget-view+json": {
       "model_id": "8c8717ae532f4c69b4b1d6974d783814",
       "version_major": 2,
       "version_minor": 0
      },
      "text/plain": [
       "forward: 0it [00:00, ?it/s]"
      ]
     },
     "metadata": {},
     "output_type": "display_data"
    },
    {
     "data": {
      "application/vnd.jupyter.widget-view+json": {
       "model_id": "34f8e458d5bc4d51826f6c713e24598c",
       "version_major": 2,
       "version_minor": 0
      },
      "text/plain": [
       "backward: 0it [00:00, ?it/s]"
      ]
     },
     "metadata": {},
     "output_type": "display_data"
    },
    {
     "name": "stdout",
     "output_type": "stream",
     "text": [
      "scene id 38\n",
      "scene name fruit\n"
     ]
    },
    {
     "data": {
      "application/vnd.jupyter.widget-view+json": {
       "model_id": "7f167d9e2c2e4739812b846b6aabfa51",
       "version_major": 2,
       "version_minor": 0
      },
      "text/plain": [
       "forward: 0it [00:00, ?it/s]"
      ]
     },
     "metadata": {},
     "output_type": "display_data"
    },
    {
     "data": {
      "application/vnd.jupyter.widget-view+json": {
       "model_id": "afcaa5b4d86f4eaeaf6c6ad868560bb6",
       "version_major": 2,
       "version_minor": 0
      },
      "text/plain": [
       "backward: 0it [00:00, ?it/s]"
      ]
     },
     "metadata": {},
     "output_type": "display_data"
    },
    {
     "data": {
      "application/vnd.jupyter.widget-view+json": {
       "model_id": "fc6d423b26634c2bb7a3e6ea6aaffd1d",
       "version_major": 2,
       "version_minor": 0
      },
      "text/plain": [
       "backward: 0it [00:00, ?it/s]"
      ]
     },
     "metadata": {},
     "output_type": "display_data"
    },
    {
     "data": {
      "application/vnd.jupyter.widget-view+json": {
       "model_id": "4e3a99cf6210492e8e2c111d5ce2acd4",
       "version_major": 2,
       "version_minor": 0
      },
      "text/plain": [
       "forward: 0it [00:00, ?it/s]"
      ]
     },
     "metadata": {},
     "output_type": "display_data"
    },
    {
     "data": {
      "application/vnd.jupyter.widget-view+json": {
       "model_id": "a883eb05ba6e49278afcda4f37dc3399",
       "version_major": 2,
       "version_minor": 0
      },
      "text/plain": [
       "backward: 0it [00:00, ?it/s]"
      ]
     },
     "metadata": {},
     "output_type": "display_data"
    },
    {
     "name": "stdout",
     "output_type": "stream",
     "text": [
      "scene id 39\n",
      "scene name paper\n"
     ]
    },
    {
     "data": {
      "application/vnd.jupyter.widget-view+json": {
       "model_id": "0096ec687a924e488aca3d6987852643",
       "version_major": 2,
       "version_minor": 0
      },
      "text/plain": [
       "forward: 0it [00:00, ?it/s]"
      ]
     },
     "metadata": {},
     "output_type": "display_data"
    },
    {
     "data": {
      "application/vnd.jupyter.widget-view+json": {
       "model_id": "a4d70faf5b484506b231d1dacb3d4f52",
       "version_major": 2,
       "version_minor": 0
      },
      "text/plain": [
       "backward: 0it [00:00, ?it/s]"
      ]
     },
     "metadata": {},
     "output_type": "display_data"
    },
    {
     "name": "stdout",
     "output_type": "stream",
     "text": [
      "scene id 40\n",
      "scene name forest2\n"
     ]
    },
    {
     "data": {
      "application/vnd.jupyter.widget-view+json": {
       "model_id": "4339a9ad92144a319190a47338f1ae40",
       "version_major": 2,
       "version_minor": 0
      },
      "text/plain": [
       "forward: 0it [00:00, ?it/s]"
      ]
     },
     "metadata": {},
     "output_type": "display_data"
    },
    {
     "data": {
      "application/vnd.jupyter.widget-view+json": {
       "model_id": "fdd573197145477bae54511650ecfc3e",
       "version_major": 2,
       "version_minor": 0
      },
      "text/plain": [
       "backward: 0it [00:00, ?it/s]"
      ]
     },
     "metadata": {},
     "output_type": "display_data"
    },
    {
     "name": "stdout",
     "output_type": "stream",
     "text": [
      "scene id 41\n",
      "scene name face2\n"
     ]
    },
    {
     "data": {
      "application/vnd.jupyter.widget-view+json": {
       "model_id": "ea4a8aa5928d489f9ac7c9c985c04808",
       "version_major": 2,
       "version_minor": 0
      },
      "text/plain": [
       "forward: 0it [00:00, ?it/s]"
      ]
     },
     "metadata": {},
     "output_type": "display_data"
    },
    {
     "data": {
      "application/vnd.jupyter.widget-view+json": {
       "model_id": "a189086294844a938d2b57e6648dde65",
       "version_major": 2,
       "version_minor": 0
      },
      "text/plain": [
       "backward: 0it [00:00, ?it/s]"
      ]
     },
     "metadata": {},
     "output_type": "display_data"
    },
    {
     "data": {
      "application/vnd.jupyter.widget-view+json": {
       "model_id": "a9b8306aae71461e93afba308b5cefd3",
       "version_major": 2,
       "version_minor": 0
      },
      "text/plain": [
       "backward: 0it [00:00, ?it/s]"
      ]
     },
     "metadata": {},
     "output_type": "display_data"
    },
    {
     "data": {
      "application/vnd.jupyter.widget-view+json": {
       "model_id": "c4fbdb9eefcd41d7b6f801e4af87b1ec",
       "version_major": 2,
       "version_minor": 0
      },
      "text/plain": [
       "forward: 0it [00:00, ?it/s]"
      ]
     },
     "metadata": {},
     "output_type": "display_data"
    },
    {
     "data": {
      "application/vnd.jupyter.widget-view+json": {
       "model_id": "eb799749bff249c286919e97c2d55926",
       "version_major": 2,
       "version_minor": 0
      },
      "text/plain": [
       "backward: 0it [00:00, ?it/s]"
      ]
     },
     "metadata": {},
     "output_type": "display_data"
    },
    {
     "name": "stdout",
     "output_type": "stream",
     "text": [
      "scene id 42\n",
      "scene name toy1\n"
     ]
    },
    {
     "data": {
      "application/vnd.jupyter.widget-view+json": {
       "model_id": "ddc5c6e86436491493bc7058aee3abff",
       "version_major": 2,
       "version_minor": 0
      },
      "text/plain": [
       "forward: 0it [00:00, ?it/s]"
      ]
     },
     "metadata": {},
     "output_type": "display_data"
    },
    {
     "data": {
      "application/vnd.jupyter.widget-view+json": {
       "model_id": "3ac8cf9c5eaf43ddb9a45f4e0dd3b766",
       "version_major": 2,
       "version_minor": 0
      },
      "text/plain": [
       "backward: 0it [00:00, ?it/s]"
      ]
     },
     "metadata": {},
     "output_type": "display_data"
    },
    {
     "data": {
      "application/vnd.jupyter.widget-view+json": {
       "model_id": "7ae5a40d46a14f818ce00d9e123be6ef",
       "version_major": 2,
       "version_minor": 0
      },
      "text/plain": [
       "backward: 0it [00:00, ?it/s]"
      ]
     },
     "metadata": {},
     "output_type": "display_data"
    },
    {
     "data": {
      "application/vnd.jupyter.widget-view+json": {
       "model_id": "14504bbc1cda4577ad495580f09354ea",
       "version_major": 2,
       "version_minor": 0
      },
      "text/plain": [
       "forward: 0it [00:00, ?it/s]"
      ]
     },
     "metadata": {},
     "output_type": "display_data"
    },
    {
     "data": {
      "application/vnd.jupyter.widget-view+json": {
       "model_id": "6eab489a93ac4c17adf89f4a0fa44f14",
       "version_major": 2,
       "version_minor": 0
      },
      "text/plain": [
       "backward: 0it [00:00, ?it/s]"
      ]
     },
     "metadata": {},
     "output_type": "display_data"
    },
    {
     "name": "stdout",
     "output_type": "stream",
     "text": [
      "scene id 43\n",
      "scene name bus\n"
     ]
    },
    {
     "data": {
      "application/vnd.jupyter.widget-view+json": {
       "model_id": "0e359559751d42f98f221362b787c2cd",
       "version_major": 2,
       "version_minor": 0
      },
      "text/plain": [
       "forward: 0it [00:00, ?it/s]"
      ]
     },
     "metadata": {},
     "output_type": "display_data"
    },
    {
     "data": {
      "application/vnd.jupyter.widget-view+json": {
       "model_id": "e4b6129af6684d4ebebffc9d80d936e6",
       "version_major": 2,
       "version_minor": 0
      },
      "text/plain": [
       "backward: 0it [00:00, ?it/s]"
      ]
     },
     "metadata": {},
     "output_type": "display_data"
    },
    {
     "name": "stdout",
     "output_type": "stream",
     "text": [
      "scene id 44\n",
      "scene name pool11\n"
     ]
    },
    {
     "data": {
      "application/vnd.jupyter.widget-view+json": {
       "model_id": "d645aacc836f482f89b07a0428b0073e",
       "version_major": 2,
       "version_minor": 0
      },
      "text/plain": [
       "forward: 0it [00:00, ?it/s]"
      ]
     },
     "metadata": {},
     "output_type": "display_data"
    },
    {
     "data": {
      "application/vnd.jupyter.widget-view+json": {
       "model_id": "5d4a569ee59247b89cfecfa8c55af4da",
       "version_major": 2,
       "version_minor": 0
      },
      "text/plain": [
       "backward: 0it [00:00, ?it/s]"
      ]
     },
     "metadata": {},
     "output_type": "display_data"
    },
    {
     "data": {
      "application/vnd.jupyter.widget-view+json": {
       "model_id": "47531226dccb40feb5bd6a2afbd06716",
       "version_major": 2,
       "version_minor": 0
      },
      "text/plain": [
       "backward: 0it [00:00, ?it/s]"
      ]
     },
     "metadata": {},
     "output_type": "display_data"
    },
    {
     "data": {
      "application/vnd.jupyter.widget-view+json": {
       "model_id": "e57cf201362d4b119bf1d6a480740411",
       "version_major": 2,
       "version_minor": 0
      },
      "text/plain": [
       "backward: 0it [00:00, ?it/s]"
      ]
     },
     "metadata": {},
     "output_type": "display_data"
    },
    {
     "data": {
      "application/vnd.jupyter.widget-view+json": {
       "model_id": "accc1544ebe44e8399faa38c6b36075a",
       "version_major": 2,
       "version_minor": 0
      },
      "text/plain": [
       "forward: 0it [00:00, ?it/s]"
      ]
     },
     "metadata": {},
     "output_type": "display_data"
    },
    {
     "data": {
      "application/vnd.jupyter.widget-view+json": {
       "model_id": "1e299d97039c4e269bdc34d1eaac9f59",
       "version_major": 2,
       "version_minor": 0
      },
      "text/plain": [
       "backward: 0it [00:00, ?it/s]"
      ]
     },
     "metadata": {},
     "output_type": "display_data"
    },
    {
     "data": {
      "application/vnd.jupyter.widget-view+json": {
       "model_id": "3a71b58324024e4eb711b5a8dbf1a1d5",
       "version_major": 2,
       "version_minor": 0
      },
      "text/plain": [
       "backward: 0it [00:00, ?it/s]"
      ]
     },
     "metadata": {},
     "output_type": "display_data"
    },
    {
     "name": "stdout",
     "output_type": "stream",
     "text": [
      "scene id 45\n",
      "scene name player\n"
     ]
    },
    {
     "data": {
      "application/vnd.jupyter.widget-view+json": {
       "model_id": "57f119b7d8464f77bbb279d24896c33c",
       "version_major": 2,
       "version_minor": 0
      },
      "text/plain": [
       "forward: 0it [00:00, ?it/s]"
      ]
     },
     "metadata": {},
     "output_type": "display_data"
    },
    {
     "data": {
      "application/vnd.jupyter.widget-view+json": {
       "model_id": "d3bbb778c3264a1bbec6b306e3870d43",
       "version_major": 2,
       "version_minor": 0
      },
      "text/plain": [
       "backward: 0it [00:00, ?it/s]"
      ]
     },
     "metadata": {},
     "output_type": "display_data"
    },
    {
     "name": "stdout",
     "output_type": "stream",
     "text": [
      "scene id 46\n",
      "scene name car52\n"
     ]
    },
    {
     "data": {
      "application/vnd.jupyter.widget-view+json": {
       "model_id": "a66f758d100f497ab9705a85d23578a3",
       "version_major": 2,
       "version_minor": 0
      },
      "text/plain": [
       "forward: 0it [00:00, ?it/s]"
      ]
     },
     "metadata": {},
     "output_type": "display_data"
    },
    {
     "data": {
      "application/vnd.jupyter.widget-view+json": {
       "model_id": "9fc831b661f041e99d323c7dc25626c4",
       "version_major": 2,
       "version_minor": 0
      },
      "text/plain": [
       "backward: 0it [00:00, ?it/s]"
      ]
     },
     "metadata": {},
     "output_type": "display_data"
    },
    {
     "data": {
      "application/vnd.jupyter.widget-view+json": {
       "model_id": "0e709c6112624afc9442b767c7e40956",
       "version_major": 2,
       "version_minor": 0
      },
      "text/plain": [
       "backward: 0it [00:00, ?it/s]"
      ]
     },
     "metadata": {},
     "output_type": "display_data"
    },
    {
     "data": {
      "application/vnd.jupyter.widget-view+json": {
       "model_id": "bf6fcd511ada43cca871004c9b1dfc58",
       "version_major": 2,
       "version_minor": 0
      },
      "text/plain": [
       "forward: 0it [00:00, ?it/s]"
      ]
     },
     "metadata": {},
     "output_type": "display_data"
    },
    {
     "data": {
      "application/vnd.jupyter.widget-view+json": {
       "model_id": "c90b1431c0784279af1831ae29c69207",
       "version_major": 2,
       "version_minor": 0
      },
      "text/plain": [
       "backward: 0it [00:00, ?it/s]"
      ]
     },
     "metadata": {},
     "output_type": "display_data"
    },
    {
     "name": "stdout",
     "output_type": "stream",
     "text": [
      "scene id 47\n",
      "scene name car84\n"
     ]
    },
    {
     "data": {
      "application/vnd.jupyter.widget-view+json": {
       "model_id": "a0710433aba5475991a6ba483b6a6fe5",
       "version_major": 2,
       "version_minor": 0
      },
      "text/plain": [
       "forward: 0it [00:00, ?it/s]"
      ]
     },
     "metadata": {},
     "output_type": "display_data"
    },
    {
     "data": {
      "application/vnd.jupyter.widget-view+json": {
       "model_id": "49c4ca3aeea94b798da5475365dc59b4",
       "version_major": 2,
       "version_minor": 0
      },
      "text/plain": [
       "backward: 0it [00:00, ?it/s]"
      ]
     },
     "metadata": {},
     "output_type": "display_data"
    },
    {
     "name": "stdout",
     "output_type": "stream",
     "text": [
      "scene id 48\n",
      "scene name car60\n"
     ]
    },
    {
     "data": {
      "application/vnd.jupyter.widget-view+json": {
       "model_id": "21be126d9e1e4ba4ac4a88ebad0a3a72",
       "version_major": 2,
       "version_minor": 0
      },
      "text/plain": [
       "forward: 0it [00:00, ?it/s]"
      ]
     },
     "metadata": {},
     "output_type": "display_data"
    },
    {
     "data": {
      "application/vnd.jupyter.widget-view+json": {
       "model_id": "4fb0b2c0d81a4c7a9d0a9c68a5eece15",
       "version_major": 2,
       "version_minor": 0
      },
      "text/plain": [
       "backward: 0it [00:00, ?it/s]"
      ]
     },
     "metadata": {},
     "output_type": "display_data"
    },
    {
     "data": {
      "application/vnd.jupyter.widget-view+json": {
       "model_id": "5de59631155e42b79e51def3ffc7d89b",
       "version_major": 2,
       "version_minor": 0
      },
      "text/plain": [
       "backward: 0it [00:00, ?it/s]"
      ]
     },
     "metadata": {},
     "output_type": "display_data"
    },
    {
     "data": {
      "application/vnd.jupyter.widget-view+json": {
       "model_id": "5e54bdecac1b43fab656face6f788bdb",
       "version_major": 2,
       "version_minor": 0
      },
      "text/plain": [
       "forward: 0it [00:00, ?it/s]"
      ]
     },
     "metadata": {},
     "output_type": "display_data"
    },
    {
     "data": {
      "application/vnd.jupyter.widget-view+json": {
       "model_id": "e5bd2166aa74458d9e313393c1149e7f",
       "version_major": 2,
       "version_minor": 0
      },
      "text/plain": [
       "backward: 0it [00:00, ?it/s]"
      ]
     },
     "metadata": {},
     "output_type": "display_data"
    },
    {
     "name": "stdout",
     "output_type": "stream",
     "text": [
      "scene id 49\n",
      "scene name car79\n"
     ]
    },
    {
     "data": {
      "application/vnd.jupyter.widget-view+json": {
       "model_id": "7096241e389646d0b74cc23df789e9f3",
       "version_major": 2,
       "version_minor": 0
      },
      "text/plain": [
       "forward: 0it [00:00, ?it/s]"
      ]
     },
     "metadata": {},
     "output_type": "display_data"
    },
    {
     "data": {
      "application/vnd.jupyter.widget-view+json": {
       "model_id": "d6cc18f2aef949c4ae3638e9d9f58a2d",
       "version_major": 2,
       "version_minor": 0
      },
      "text/plain": [
       "backward: 0it [00:00, ?it/s]"
      ]
     },
     "metadata": {},
     "output_type": "display_data"
    },
    {
     "data": {
      "application/vnd.jupyter.widget-view+json": {
       "model_id": "49a6f251987a4aac857bc8b0c5208001",
       "version_major": 2,
       "version_minor": 0
      },
      "text/plain": [
       "backward: 0it [00:00, ?it/s]"
      ]
     },
     "metadata": {},
     "output_type": "display_data"
    },
    {
     "data": {
      "application/vnd.jupyter.widget-view+json": {
       "model_id": "b7ce5f610e6e4b2481197e06a8d447c6",
       "version_major": 2,
       "version_minor": 0
      },
      "text/plain": [
       "forward: 0it [00:00, ?it/s]"
      ]
     },
     "metadata": {},
     "output_type": "display_data"
    },
    {
     "data": {
      "application/vnd.jupyter.widget-view+json": {
       "model_id": "453d8c75a3734c8b9f6c86ef14735762",
       "version_major": 2,
       "version_minor": 0
      },
      "text/plain": [
       "backward: 0it [00:00, ?it/s]"
      ]
     },
     "metadata": {},
     "output_type": "display_data"
    },
    {
     "name": "stdout",
     "output_type": "stream",
     "text": [
      "scene id 50\n",
      "scene name basketball3\n"
     ]
    },
    {
     "data": {
      "application/vnd.jupyter.widget-view+json": {
       "model_id": "9374fc195c32436e8e11bf8071d3094a",
       "version_major": 2,
       "version_minor": 0
      },
      "text/plain": [
       "forward: 0it [00:00, ?it/s]"
      ]
     },
     "metadata": {},
     "output_type": "display_data"
    },
    {
     "data": {
      "application/vnd.jupyter.widget-view+json": {
       "model_id": "074e288b277c480fb6b806e2475d8d93",
       "version_major": 2,
       "version_minor": 0
      },
      "text/plain": [
       "backward: 0it [00:00, ?it/s]"
      ]
     },
     "metadata": {},
     "output_type": "display_data"
    },
    {
     "data": {
      "application/vnd.jupyter.widget-view+json": {
       "model_id": "39c025cd50ab4880bff9256201c9ef4a",
       "version_major": 2,
       "version_minor": 0
      },
      "text/plain": [
       "backward: 0it [00:00, ?it/s]"
      ]
     },
     "metadata": {},
     "output_type": "display_data"
    },
    {
     "data": {
      "application/vnd.jupyter.widget-view+json": {
       "model_id": "dac0a88c725b47b8ac1b8eecea2d9bb6",
       "version_major": 2,
       "version_minor": 0
      },
      "text/plain": [
       "backward: 0it [00:00, ?it/s]"
      ]
     },
     "metadata": {},
     "output_type": "display_data"
    },
    {
     "data": {
      "application/vnd.jupyter.widget-view+json": {
       "model_id": "e040999e91fd4a67b9ccf39d57cebb48",
       "version_major": 2,
       "version_minor": 0
      },
      "text/plain": [
       "backward: 0it [00:00, ?it/s]"
      ]
     },
     "metadata": {},
     "output_type": "display_data"
    },
    {
     "data": {
      "application/vnd.jupyter.widget-view+json": {
       "model_id": "cbd0144c355a4c4db56c5a88a96eaffe",
       "version_major": 2,
       "version_minor": 0
      },
      "text/plain": [
       "forward: 0it [00:00, ?it/s]"
      ]
     },
     "metadata": {},
     "output_type": "display_data"
    },
    {
     "data": {
      "application/vnd.jupyter.widget-view+json": {
       "model_id": "59aa950048e747328978634f4239ed42",
       "version_major": 2,
       "version_minor": 0
      },
      "text/plain": [
       "backward: 0it [00:00, ?it/s]"
      ]
     },
     "metadata": {},
     "output_type": "display_data"
    },
    {
     "data": {
      "application/vnd.jupyter.widget-view+json": {
       "model_id": "5d871550f9514195a0b954f22f5f93fd",
       "version_major": 2,
       "version_minor": 0
      },
      "text/plain": [
       "backward: 0it [00:00, ?it/s]"
      ]
     },
     "metadata": {},
     "output_type": "display_data"
    },
    {
     "data": {
      "application/vnd.jupyter.widget-view+json": {
       "model_id": "a45ebf77573749df8ac554fdaa241d74",
       "version_major": 2,
       "version_minor": 0
      },
      "text/plain": [
       "backward: 0it [00:00, ?it/s]"
      ]
     },
     "metadata": {},
     "output_type": "display_data"
    },
    {
     "data": {
      "application/vnd.jupyter.widget-view+json": {
       "model_id": "415d0b4492ba41b5bd64f68a2381c947",
       "version_major": 2,
       "version_minor": 0
      },
      "text/plain": [
       "forward: 0it [00:00, ?it/s]"
      ]
     },
     "metadata": {},
     "output_type": "display_data"
    },
    {
     "name": "stdout",
     "output_type": "stream",
     "text": [
      "scene id 51\n",
      "scene name car83\n"
     ]
    },
    {
     "data": {
      "application/vnd.jupyter.widget-view+json": {
       "model_id": "3c14280b46004a718c6e514299acf36f",
       "version_major": 2,
       "version_minor": 0
      },
      "text/plain": [
       "forward: 0it [00:00, ?it/s]"
      ]
     },
     "metadata": {},
     "output_type": "display_data"
    },
    {
     "data": {
      "application/vnd.jupyter.widget-view+json": {
       "model_id": "a01d6c4b9fcd46b7877ee0a191e077ff",
       "version_major": 2,
       "version_minor": 0
      },
      "text/plain": [
       "backward: 0it [00:00, ?it/s]"
      ]
     },
     "metadata": {},
     "output_type": "display_data"
    },
    {
     "name": "stdout",
     "output_type": "stream",
     "text": [
      "scene id 52\n",
      "scene name rider17\n"
     ]
    },
    {
     "data": {
      "application/vnd.jupyter.widget-view+json": {
       "model_id": "b4f952c7fd5943ccb5c1436fc8926ca5",
       "version_major": 2,
       "version_minor": 0
      },
      "text/plain": [
       "forward: 0it [00:00, ?it/s]"
      ]
     },
     "metadata": {},
     "output_type": "display_data"
    },
    {
     "data": {
      "application/vnd.jupyter.widget-view+json": {
       "model_id": "f893ac1dd6d84461b138d423cabe06d0",
       "version_major": 2,
       "version_minor": 0
      },
      "text/plain": [
       "backward: 0it [00:00, ?it/s]"
      ]
     },
     "metadata": {},
     "output_type": "display_data"
    },
    {
     "data": {
      "application/vnd.jupyter.widget-view+json": {
       "model_id": "c380f1eb32ce4d63b01f223dc12cfcf0",
       "version_major": 2,
       "version_minor": 0
      },
      "text/plain": [
       "backward: 0it [00:00, ?it/s]"
      ]
     },
     "metadata": {},
     "output_type": "display_data"
    },
    {
     "data": {
      "application/vnd.jupyter.widget-view+json": {
       "model_id": "949e4e2fc828446a950f08d3d36856cd",
       "version_major": 2,
       "version_minor": 0
      },
      "text/plain": [
       "backward: 0it [00:00, ?it/s]"
      ]
     },
     "metadata": {},
     "output_type": "display_data"
    },
    {
     "data": {
      "application/vnd.jupyter.widget-view+json": {
       "model_id": "ffd32b8d6e22444587ba7258ec41e00b",
       "version_major": 2,
       "version_minor": 0
      },
      "text/plain": [
       "forward: 0it [00:00, ?it/s]"
      ]
     },
     "metadata": {},
     "output_type": "display_data"
    },
    {
     "data": {
      "application/vnd.jupyter.widget-view+json": {
       "model_id": "a9dbe71b7bc74bcd928ccb46aa1f031d",
       "version_major": 2,
       "version_minor": 0
      },
      "text/plain": [
       "backward: 0it [00:00, ?it/s]"
      ]
     },
     "metadata": {},
     "output_type": "display_data"
    },
    {
     "data": {
      "application/vnd.jupyter.widget-view+json": {
       "model_id": "047bf6b13d4d45d499492141de6acb77",
       "version_major": 2,
       "version_minor": 0
      },
      "text/plain": [
       "backward: 0it [00:00, ?it/s]"
      ]
     },
     "metadata": {},
     "output_type": "display_data"
    },
    {
     "name": "stdout",
     "output_type": "stream",
     "text": [
      "scene id 53\n",
      "scene name pedestrian7\n"
     ]
    },
    {
     "data": {
      "application/vnd.jupyter.widget-view+json": {
       "model_id": "9d3806931356471ca54c2d00d0be0f2d",
       "version_major": 2,
       "version_minor": 0
      },
      "text/plain": [
       "forward: 0it [00:00, ?it/s]"
      ]
     },
     "metadata": {},
     "output_type": "display_data"
    },
    {
     "data": {
      "application/vnd.jupyter.widget-view+json": {
       "model_id": "a2683c3dadc74e06a1ae88505d1135ea",
       "version_major": 2,
       "version_minor": 0
      },
      "text/plain": [
       "backward: 0it [00:00, ?it/s]"
      ]
     },
     "metadata": {},
     "output_type": "display_data"
    },
    {
     "data": {
      "application/vnd.jupyter.widget-view+json": {
       "model_id": "9479212f79764f718826843fc28ea365",
       "version_major": 2,
       "version_minor": 0
      },
      "text/plain": [
       "backward: 0it [00:00, ?it/s]"
      ]
     },
     "metadata": {},
     "output_type": "display_data"
    },
    {
     "data": {
      "application/vnd.jupyter.widget-view+json": {
       "model_id": "3d4bf96af5394c27aa68c4934d88b4d0",
       "version_major": 2,
       "version_minor": 0
      },
      "text/plain": [
       "backward: 0it [00:00, ?it/s]"
      ]
     },
     "metadata": {},
     "output_type": "display_data"
    },
    {
     "data": {
      "application/vnd.jupyter.widget-view+json": {
       "model_id": "f9b47bd4d63a4e37aa1793ee6e31da63",
       "version_major": 2,
       "version_minor": 0
      },
      "text/plain": [
       "forward: 0it [00:00, ?it/s]"
      ]
     },
     "metadata": {},
     "output_type": "display_data"
    },
    {
     "data": {
      "application/vnd.jupyter.widget-view+json": {
       "model_id": "9caffc513a7c45e0acec7e5f8b9fc78c",
       "version_major": 2,
       "version_minor": 0
      },
      "text/plain": [
       "backward: 0it [00:00, ?it/s]"
      ]
     },
     "metadata": {},
     "output_type": "display_data"
    },
    {
     "name": "stdout",
     "output_type": "stream",
     "text": [
      "scene id 54\n",
      "scene name car51\n"
     ]
    },
    {
     "data": {
      "application/vnd.jupyter.widget-view+json": {
       "model_id": "a4f8ef1bcd0b4961a113733780aa6e44",
       "version_major": 2,
       "version_minor": 0
      },
      "text/plain": [
       "forward: 0it [00:00, ?it/s]"
      ]
     },
     "metadata": {},
     "output_type": "display_data"
    },
    {
     "data": {
      "application/vnd.jupyter.widget-view+json": {
       "model_id": "d442edcc4f244d75a13e749b32217165",
       "version_major": 2,
       "version_minor": 0
      },
      "text/plain": [
       "backward: 0it [00:00, ?it/s]"
      ]
     },
     "metadata": {},
     "output_type": "display_data"
    },
    {
     "data": {
      "application/vnd.jupyter.widget-view+json": {
       "model_id": "17d7fecc6762490dad65f63636a008ac",
       "version_major": 2,
       "version_minor": 0
      },
      "text/plain": [
       "backward: 0it [00:00, ?it/s]"
      ]
     },
     "metadata": {},
     "output_type": "display_data"
    },
    {
     "data": {
      "application/vnd.jupyter.widget-view+json": {
       "model_id": "3c91ac8f32ad4fc78c070eada4470890",
       "version_major": 2,
       "version_minor": 0
      },
      "text/plain": [
       "backward: 0it [00:00, ?it/s]"
      ]
     },
     "metadata": {},
     "output_type": "display_data"
    },
    {
     "data": {
      "application/vnd.jupyter.widget-view+json": {
       "model_id": "2df0878b53ab468e80312da35616f941",
       "version_major": 2,
       "version_minor": 0
      },
      "text/plain": [
       "forward: 0it [00:00, ?it/s]"
      ]
     },
     "metadata": {},
     "output_type": "display_data"
    },
    {
     "data": {
      "application/vnd.jupyter.widget-view+json": {
       "model_id": "37862155e46247f3a965a87519d1a514",
       "version_major": 2,
       "version_minor": 0
      },
      "text/plain": [
       "backward: 0it [00:00, ?it/s]"
      ]
     },
     "metadata": {},
     "output_type": "display_data"
    },
    {
     "data": {
      "application/vnd.jupyter.widget-view+json": {
       "model_id": "622e443ba8404bb2833a857e11673712",
       "version_major": 2,
       "version_minor": 0
      },
      "text/plain": [
       "backward: 0it [00:00, ?it/s]"
      ]
     },
     "metadata": {},
     "output_type": "display_data"
    },
    {
     "data": {
      "application/vnd.jupyter.widget-view+json": {
       "model_id": "5e00b4c9884b4fb1b4c53ded97a2bb25",
       "version_major": 2,
       "version_minor": 0
      },
      "text/plain": [
       "forward: 0it [00:00, ?it/s]"
      ]
     },
     "metadata": {},
     "output_type": "display_data"
    },
    {
     "name": "stdout",
     "output_type": "stream",
     "text": [
      "scene id 55\n",
      "scene name rider19\n"
     ]
    },
    {
     "data": {
      "application/vnd.jupyter.widget-view+json": {
       "model_id": "8741f4e74aec488b885a0d3e3e8cc28f",
       "version_major": 2,
       "version_minor": 0
      },
      "text/plain": [
       "forward: 0it [00:00, ?it/s]"
      ]
     },
     "metadata": {},
     "output_type": "display_data"
    },
    {
     "data": {
      "application/vnd.jupyter.widget-view+json": {
       "model_id": "20b0393dda9b4a00b516216214a66d9c",
       "version_major": 2,
       "version_minor": 0
      },
      "text/plain": [
       "backward: 0it [00:00, ?it/s]"
      ]
     },
     "metadata": {},
     "output_type": "display_data"
    },
    {
     "name": "stdout",
     "output_type": "stream",
     "text": [
      "scene id 56\n",
      "scene name car63\n"
     ]
    },
    {
     "data": {
      "application/vnd.jupyter.widget-view+json": {
       "model_id": "641221e41aac47b9a98a729603464fc4",
       "version_major": 2,
       "version_minor": 0
      },
      "text/plain": [
       "forward: 0it [00:00, ?it/s]"
      ]
     },
     "metadata": {},
     "output_type": "display_data"
    },
    {
     "data": {
      "application/vnd.jupyter.widget-view+json": {
       "model_id": "15ce8dea4a614dee97df0fdc8f8940ae",
       "version_major": 2,
       "version_minor": 0
      },
      "text/plain": [
       "backward: 0it [00:00, ?it/s]"
      ]
     },
     "metadata": {},
     "output_type": "display_data"
    },
    {
     "name": "stdout",
     "output_type": "stream",
     "text": [
      "scene id 57\n",
      "scene name car77\n"
     ]
    },
    {
     "data": {
      "application/vnd.jupyter.widget-view+json": {
       "model_id": "7f6a09bd2e174964a2f05685f2ad27c0",
       "version_major": 2,
       "version_minor": 0
      },
      "text/plain": [
       "forward: 0it [00:00, ?it/s]"
      ]
     },
     "metadata": {},
     "output_type": "display_data"
    },
    {
     "data": {
      "application/vnd.jupyter.widget-view+json": {
       "model_id": "f4176419ce484a96b2221be45bb54e86",
       "version_major": 2,
       "version_minor": 0
      },
      "text/plain": [
       "backward: 0it [00:00, ?it/s]"
      ]
     },
     "metadata": {},
     "output_type": "display_data"
    },
    {
     "data": {
      "application/vnd.jupyter.widget-view+json": {
       "model_id": "335fcac2688b498b9570bcc5fbe12ad9",
       "version_major": 2,
       "version_minor": 0
      },
      "text/plain": [
       "backward: 0it [00:00, ?it/s]"
      ]
     },
     "metadata": {},
     "output_type": "display_data"
    },
    {
     "data": {
      "application/vnd.jupyter.widget-view+json": {
       "model_id": "3a6315d79cbc45c2b34b44332e0ce93f",
       "version_major": 2,
       "version_minor": 0
      },
      "text/plain": [
       "forward: 0it [00:00, ?it/s]"
      ]
     },
     "metadata": {},
     "output_type": "display_data"
    },
    {
     "data": {
      "application/vnd.jupyter.widget-view+json": {
       "model_id": "29322ecfcbb94528a94fedc77480fed8",
       "version_major": 2,
       "version_minor": 0
      },
      "text/plain": [
       "backward: 0it [00:00, ?it/s]"
      ]
     },
     "metadata": {},
     "output_type": "display_data"
    },
    {
     "name": "stdout",
     "output_type": "stream",
     "text": [
      "scene id 58\n",
      "scene name car64\n"
     ]
    },
    {
     "data": {
      "application/vnd.jupyter.widget-view+json": {
       "model_id": "1aa7bcd54baf4dc89f0ce8c8ca59d598",
       "version_major": 2,
       "version_minor": 0
      },
      "text/plain": [
       "forward: 0it [00:00, ?it/s]"
      ]
     },
     "metadata": {},
     "output_type": "display_data"
    },
    {
     "data": {
      "application/vnd.jupyter.widget-view+json": {
       "model_id": "07989c4f0ca14167b5b3de56fb87de7f",
       "version_major": 2,
       "version_minor": 0
      },
      "text/plain": [
       "backward: 0it [00:00, ?it/s]"
      ]
     },
     "metadata": {},
     "output_type": "display_data"
    },
    {
     "name": "stdout",
     "output_type": "stream",
     "text": [
      "scene id 59\n",
      "scene name car80\n"
     ]
    },
    {
     "data": {
      "application/vnd.jupyter.widget-view+json": {
       "model_id": "9a4bf8bb000848f1b6a915723b51f52c",
       "version_major": 2,
       "version_minor": 0
      },
      "text/plain": [
       "forward: 0it [00:00, ?it/s]"
      ]
     },
     "metadata": {},
     "output_type": "display_data"
    },
    {
     "data": {
      "application/vnd.jupyter.widget-view+json": {
       "model_id": "266ea74db4aa47529f0aa4326f69bf77",
       "version_major": 2,
       "version_minor": 0
      },
      "text/plain": [
       "backward: 0it [00:00, ?it/s]"
      ]
     },
     "metadata": {},
     "output_type": "display_data"
    },
    {
     "name": "stdout",
     "output_type": "stream",
     "text": [
      "scene id 60\n",
      "scene name car11\n"
     ]
    },
    {
     "data": {
      "application/vnd.jupyter.widget-view+json": {
       "model_id": "e159bae8987843698f3eeb3609894fb8",
       "version_major": 2,
       "version_minor": 0
      },
      "text/plain": [
       "forward: 0it [00:00, ?it/s]"
      ]
     },
     "metadata": {},
     "output_type": "display_data"
    },
    {
     "data": {
      "application/vnd.jupyter.widget-view+json": {
       "model_id": "5ca8c28949d043b5b3703a99c175f9cd",
       "version_major": 2,
       "version_minor": 0
      },
      "text/plain": [
       "backward: 0it [00:00, ?it/s]"
      ]
     },
     "metadata": {},
     "output_type": "display_data"
    },
    {
     "data": {
      "application/vnd.jupyter.widget-view+json": {
       "model_id": "8a53a1edee9f4c05afda1dbf53c2abb4",
       "version_major": 2,
       "version_minor": 0
      },
      "text/plain": [
       "backward: 0it [00:00, ?it/s]"
      ]
     },
     "metadata": {},
     "output_type": "display_data"
    },
    {
     "data": {
      "application/vnd.jupyter.widget-view+json": {
       "model_id": "bb5c8f2136a34ff49b5d6db838a22565",
       "version_major": 2,
       "version_minor": 0
      },
      "text/plain": [
       "forward: 0it [00:00, ?it/s]"
      ]
     },
     "metadata": {},
     "output_type": "display_data"
    },
    {
     "data": {
      "application/vnd.jupyter.widget-view+json": {
       "model_id": "f5b87f04ab5448108635f3fd08030573",
       "version_major": 2,
       "version_minor": 0
      },
      "text/plain": [
       "backward: 0it [00:00, ?it/s]"
      ]
     },
     "metadata": {},
     "output_type": "display_data"
    },
    {
     "name": "stdout",
     "output_type": "stream",
     "text": [
      "scene id 61\n",
      "scene name car82\n"
     ]
    },
    {
     "data": {
      "application/vnd.jupyter.widget-view+json": {
       "model_id": "435d7e6dcf464c2b82511f1181e84bd1",
       "version_major": 2,
       "version_minor": 0
      },
      "text/plain": [
       "forward: 0it [00:00, ?it/s]"
      ]
     },
     "metadata": {},
     "output_type": "display_data"
    },
    {
     "data": {
      "application/vnd.jupyter.widget-view+json": {
       "model_id": "0e0011ab7b3d42b0b5e41abae137a798",
       "version_major": 2,
       "version_minor": 0
      },
      "text/plain": [
       "backward: 0it [00:00, ?it/s]"
      ]
     },
     "metadata": {},
     "output_type": "display_data"
    },
    {
     "name": "stdout",
     "output_type": "stream",
     "text": [
      "scene id 62\n",
      "scene name rider16\n"
     ]
    },
    {
     "data": {
      "application/vnd.jupyter.widget-view+json": {
       "model_id": "80e8405eaeca4ae1b3aa8aaf1c274ea0",
       "version_major": 2,
       "version_minor": 0
      },
      "text/plain": [
       "forward: 0it [00:00, ?it/s]"
      ]
     },
     "metadata": {},
     "output_type": "display_data"
    },
    {
     "data": {
      "application/vnd.jupyter.widget-view+json": {
       "model_id": "a93a8d3531de41f995ac60b233def442",
       "version_major": 2,
       "version_minor": 0
      },
      "text/plain": [
       "backward: 0it [00:00, ?it/s]"
      ]
     },
     "metadata": {},
     "output_type": "display_data"
    },
    {
     "name": "stdout",
     "output_type": "stream",
     "text": [
      "scene id 63\n",
      "scene name car78\n"
     ]
    },
    {
     "data": {
      "application/vnd.jupyter.widget-view+json": {
       "model_id": "1dc3fa55df8c4d5bbc57a3b45d56d4c0",
       "version_major": 2,
       "version_minor": 0
      },
      "text/plain": [
       "forward: 0it [00:00, ?it/s]"
      ]
     },
     "metadata": {},
     "output_type": "display_data"
    },
    {
     "data": {
      "application/vnd.jupyter.widget-view+json": {
       "model_id": "909b8b12e5524e5484746ccf4a87bb39",
       "version_major": 2,
       "version_minor": 0
      },
      "text/plain": [
       "backward: 0it [00:00, ?it/s]"
      ]
     },
     "metadata": {},
     "output_type": "display_data"
    },
    {
     "data": {
      "application/vnd.jupyter.widget-view+json": {
       "model_id": "4b777747f52e489c93a558763fda6b87",
       "version_major": 2,
       "version_minor": 0
      },
      "text/plain": [
       "backward: 0it [00:00, ?it/s]"
      ]
     },
     "metadata": {},
     "output_type": "display_data"
    },
    {
     "data": {
      "application/vnd.jupyter.widget-view+json": {
       "model_id": "7ea2ad25d8114440aa05617fde1b9bc4",
       "version_major": 2,
       "version_minor": 0
      },
      "text/plain": [
       "forward: 0it [00:00, ?it/s]"
      ]
     },
     "metadata": {},
     "output_type": "display_data"
    },
    {
     "data": {
      "application/vnd.jupyter.widget-view+json": {
       "model_id": "aa8c6adfe9aa48ca8dbafc4ff36f6d85",
       "version_major": 2,
       "version_minor": 0
      },
      "text/plain": [
       "backward: 0it [00:00, ?it/s]"
      ]
     },
     "metadata": {},
     "output_type": "display_data"
    },
    {
     "data": {
      "application/vnd.jupyter.widget-view+json": {
       "model_id": "37e627320adf4f3aa66a8521227050ce",
       "version_major": 2,
       "version_minor": 0
      },
      "text/plain": [
       "backward: 0it [00:00, ?it/s]"
      ]
     },
     "metadata": {},
     "output_type": "display_data"
    },
    {
     "data": {
      "application/vnd.jupyter.widget-view+json": {
       "model_id": "002d898d65864737b8178e3f61e7a3a3",
       "version_major": 2,
       "version_minor": 0
      },
      "text/plain": [
       "forward: 0it [00:00, ?it/s]"
      ]
     },
     "metadata": {},
     "output_type": "display_data"
    },
    {
     "name": "stdout",
     "output_type": "stream",
     "text": [
      "scene id 64\n",
      "scene name rider11\n"
     ]
    },
    {
     "data": {
      "application/vnd.jupyter.widget-view+json": {
       "model_id": "2e2fc0e9d08145fa91ecc0882935fb30",
       "version_major": 2,
       "version_minor": 0
      },
      "text/plain": [
       "forward: 0it [00:00, ?it/s]"
      ]
     },
     "metadata": {},
     "output_type": "display_data"
    },
    {
     "data": {
      "application/vnd.jupyter.widget-view+json": {
       "model_id": "9264ddfb15014ad0a9043c8a745544da",
       "version_major": 2,
       "version_minor": 0
      },
      "text/plain": [
       "backward: 0it [00:00, ?it/s]"
      ]
     },
     "metadata": {},
     "output_type": "display_data"
    },
    {
     "name": "stdout",
     "output_type": "stream",
     "text": [
      "scene id 65\n",
      "scene name car53\n"
     ]
    },
    {
     "data": {
      "application/vnd.jupyter.widget-view+json": {
       "model_id": "872bd8f5d81b4adfa6149178ef453da6",
       "version_major": 2,
       "version_minor": 0
      },
      "text/plain": [
       "forward: 0it [00:00, ?it/s]"
      ]
     },
     "metadata": {},
     "output_type": "display_data"
    },
    {
     "data": {
      "application/vnd.jupyter.widget-view+json": {
       "model_id": "36cb3e4e599049578f0e3d07a57f328f",
       "version_major": 2,
       "version_minor": 0
      },
      "text/plain": [
       "backward: 0it [00:00, ?it/s]"
      ]
     },
     "metadata": {},
     "output_type": "display_data"
    },
    {
     "data": {
      "application/vnd.jupyter.widget-view+json": {
       "model_id": "5770c6fe478d4ef395017233fd2cd5eb",
       "version_major": 2,
       "version_minor": 0
      },
      "text/plain": [
       "backward: 0it [00:00, ?it/s]"
      ]
     },
     "metadata": {},
     "output_type": "display_data"
    },
    {
     "data": {
      "application/vnd.jupyter.widget-view+json": {
       "model_id": "5dac5ae5d2cc49448bf2b76fb3ca58d2",
       "version_major": 2,
       "version_minor": 0
      },
      "text/plain": [
       "forward: 0it [00:00, ?it/s]"
      ]
     },
     "metadata": {},
     "output_type": "display_data"
    },
    {
     "data": {
      "application/vnd.jupyter.widget-view+json": {
       "model_id": "95f75451a585423299630106c2d65338",
       "version_major": 2,
       "version_minor": 0
      },
      "text/plain": [
       "backward: 0it [00:00, ?it/s]"
      ]
     },
     "metadata": {},
     "output_type": "display_data"
    },
    {
     "name": "stdout",
     "output_type": "stream",
     "text": [
      "scene id 66\n",
      "scene name car59\n"
     ]
    },
    {
     "data": {
      "application/vnd.jupyter.widget-view+json": {
       "model_id": "39c054e6072741aabfc6e3ea5cad607d",
       "version_major": 2,
       "version_minor": 0
      },
      "text/plain": [
       "forward: 0it [00:00, ?it/s]"
      ]
     },
     "metadata": {},
     "output_type": "display_data"
    },
    {
     "data": {
      "application/vnd.jupyter.widget-view+json": {
       "model_id": "3770bbd6dcbc494cbe3b5772f3f9bb2f",
       "version_major": 2,
       "version_minor": 0
      },
      "text/plain": [
       "backward: 0it [00:00, ?it/s]"
      ]
     },
     "metadata": {},
     "output_type": "display_data"
    },
    {
     "data": {
      "application/vnd.jupyter.widget-view+json": {
       "model_id": "ea60d5d92da840c4b9a6f4f228a57384",
       "version_major": 2,
       "version_minor": 0
      },
      "text/plain": [
       "backward: 0it [00:00, ?it/s]"
      ]
     },
     "metadata": {},
     "output_type": "display_data"
    },
    {
     "data": {
      "application/vnd.jupyter.widget-view+json": {
       "model_id": "de4e3feb43304ccd9f4c1d5f791906e8",
       "version_major": 2,
       "version_minor": 0
      },
      "text/plain": [
       "backward: 0it [00:00, ?it/s]"
      ]
     },
     "metadata": {},
     "output_type": "display_data"
    },
    {
     "data": {
      "application/vnd.jupyter.widget-view+json": {
       "model_id": "1906d893bff14667a956d3cd8c262fac",
       "version_major": 2,
       "version_minor": 0
      },
      "text/plain": [
       "forward: 0it [00:00, ?it/s]"
      ]
     },
     "metadata": {},
     "output_type": "display_data"
    },
    {
     "data": {
      "application/vnd.jupyter.widget-view+json": {
       "model_id": "5a165c4e745743c39164559da3d376b3",
       "version_major": 2,
       "version_minor": 0
      },
      "text/plain": [
       "backward: 0it [00:00, ?it/s]"
      ]
     },
     "metadata": {},
     "output_type": "display_data"
    },
    {
     "data": {
      "application/vnd.jupyter.widget-view+json": {
       "model_id": "50390da95aaf4f1586d7e5701a1936a8",
       "version_major": 2,
       "version_minor": 0
      },
      "text/plain": [
       "backward: 0it [00:00, ?it/s]"
      ]
     },
     "metadata": {},
     "output_type": "display_data"
    },
    {
     "data": {
      "application/vnd.jupyter.widget-view+json": {
       "model_id": "eac70532305e48c399f96a2033c5d495",
       "version_major": 2,
       "version_minor": 0
      },
      "text/plain": [
       "forward: 0it [00:00, ?it/s]"
      ]
     },
     "metadata": {},
     "output_type": "display_data"
    },
    {
     "name": "stdout",
     "output_type": "stream",
     "text": [
      "scene id 67\n",
      "scene name car61\n"
     ]
    },
    {
     "data": {
      "application/vnd.jupyter.widget-view+json": {
       "model_id": "2203e009990f4637a37b23e63e018833",
       "version_major": 2,
       "version_minor": 0
      },
      "text/plain": [
       "forward: 0it [00:00, ?it/s]"
      ]
     },
     "metadata": {},
     "output_type": "display_data"
    },
    {
     "data": {
      "application/vnd.jupyter.widget-view+json": {
       "model_id": "35b7a68c259d4fa58bde9e1e393afcc9",
       "version_major": 2,
       "version_minor": 0
      },
      "text/plain": [
       "backward: 0it [00:00, ?it/s]"
      ]
     },
     "metadata": {},
     "output_type": "display_data"
    },
    {
     "data": {
      "application/vnd.jupyter.widget-view+json": {
       "model_id": "b13fadc72eb142ee941a208a09f68107",
       "version_major": 2,
       "version_minor": 0
      },
      "text/plain": [
       "backward: 0it [00:00, ?it/s]"
      ]
     },
     "metadata": {},
     "output_type": "display_data"
    },
    {
     "data": {
      "application/vnd.jupyter.widget-view+json": {
       "model_id": "8f532afaf5dd418fac138973e3bc2d61",
       "version_major": 2,
       "version_minor": 0
      },
      "text/plain": [
       "forward: 0it [00:00, ?it/s]"
      ]
     },
     "metadata": {},
     "output_type": "display_data"
    },
    {
     "data": {
      "application/vnd.jupyter.widget-view+json": {
       "model_id": "cb15a9e155a64203a105a870bab58f85",
       "version_major": 2,
       "version_minor": 0
      },
      "text/plain": [
       "backward: 0it [00:00, ?it/s]"
      ]
     },
     "metadata": {},
     "output_type": "display_data"
    },
    {
     "name": "stdout",
     "output_type": "stream",
     "text": [
      "scene id 68\n",
      "scene name car85\n"
     ]
    },
    {
     "data": {
      "application/vnd.jupyter.widget-view+json": {
       "model_id": "93f9f7edc1894446a15d1e1aeb72d075",
       "version_major": 2,
       "version_minor": 0
      },
      "text/plain": [
       "forward: 0it [00:00, ?it/s]"
      ]
     },
     "metadata": {},
     "output_type": "display_data"
    },
    {
     "data": {
      "application/vnd.jupyter.widget-view+json": {
       "model_id": "5fbc7795c77d4b1dbf82d20b132a3950",
       "version_major": 2,
       "version_minor": 0
      },
      "text/plain": [
       "backward: 0it [00:00, ?it/s]"
      ]
     },
     "metadata": {},
     "output_type": "display_data"
    },
    {
     "name": "stdout",
     "output_type": "stream",
     "text": [
      "scene id 69\n",
      "scene name car81\n"
     ]
    },
    {
     "data": {
      "application/vnd.jupyter.widget-view+json": {
       "model_id": "cc9f15fa16284d11a230a56ce4430ade",
       "version_major": 2,
       "version_minor": 0
      },
      "text/plain": [
       "forward: 0it [00:00, ?it/s]"
      ]
     },
     "metadata": {},
     "output_type": "display_data"
    },
    {
     "data": {
      "application/vnd.jupyter.widget-view+json": {
       "model_id": "8de753aa37934f8482948397fce55568",
       "version_major": 2,
       "version_minor": 0
      },
      "text/plain": [
       "backward: 0it [00:00, ?it/s]"
      ]
     },
     "metadata": {},
     "output_type": "display_data"
    },
    {
     "data": {
      "application/vnd.jupyter.widget-view+json": {
       "model_id": "dcc5b5de4cbc49c1bad9093200f2aa4b",
       "version_major": 2,
       "version_minor": 0
      },
      "text/plain": [
       "backward: 0it [00:00, ?it/s]"
      ]
     },
     "metadata": {},
     "output_type": "display_data"
    },
    {
     "data": {
      "application/vnd.jupyter.widget-view+json": {
       "model_id": "78095a85cb4740d28d27a1a6ad89eea5",
       "version_major": 2,
       "version_minor": 0
      },
      "text/plain": [
       "forward: 0it [00:00, ?it/s]"
      ]
     },
     "metadata": {},
     "output_type": "display_data"
    },
    {
     "data": {
      "application/vnd.jupyter.widget-view+json": {
       "model_id": "5925726828f54be5b39becafa928050b",
       "version_major": 2,
       "version_minor": 0
      },
      "text/plain": [
       "backward: 0it [00:00, ?it/s]"
      ]
     },
     "metadata": {},
     "output_type": "display_data"
    },
    {
     "name": "stdout",
     "output_type": "stream",
     "text": [
      "scene id 70\n",
      "scene name car12\n"
     ]
    },
    {
     "data": {
      "application/vnd.jupyter.widget-view+json": {
       "model_id": "110d84ee1b6949b6a8964c11fa7a9d58",
       "version_major": 2,
       "version_minor": 0
      },
      "text/plain": [
       "forward: 0it [00:00, ?it/s]"
      ]
     },
     "metadata": {},
     "output_type": "display_data"
    },
    {
     "data": {
      "application/vnd.jupyter.widget-view+json": {
       "model_id": "7eca28041c344649bd047248fca3d9e4",
       "version_major": 2,
       "version_minor": 0
      },
      "text/plain": [
       "backward: 0it [00:00, ?it/s]"
      ]
     },
     "metadata": {},
     "output_type": "display_data"
    },
    {
     "data": {
      "application/vnd.jupyter.widget-view+json": {
       "model_id": "273b45fcdd904d1a8bc4b342afd72dcd",
       "version_major": 2,
       "version_minor": 0
      },
      "text/plain": [
       "backward: 0it [00:00, ?it/s]"
      ]
     },
     "metadata": {},
     "output_type": "display_data"
    },
    {
     "data": {
      "application/vnd.jupyter.widget-view+json": {
       "model_id": "ac631f474d384648a68501713c8f34a9",
       "version_major": 2,
       "version_minor": 0
      },
      "text/plain": [
       "forward: 0it [00:00, ?it/s]"
      ]
     },
     "metadata": {},
     "output_type": "display_data"
    },
    {
     "data": {
      "application/vnd.jupyter.widget-view+json": {
       "model_id": "8c29402d8d40439fb4ef3f8d25d06555",
       "version_major": 2,
       "version_minor": 0
      },
      "text/plain": [
       "backward: 0it [00:00, ?it/s]"
      ]
     },
     "metadata": {},
     "output_type": "display_data"
    },
    {
     "name": "stdout",
     "output_type": "stream",
     "text": [
      "scene id 71\n",
      "scene name car76\n"
     ]
    },
    {
     "data": {
      "application/vnd.jupyter.widget-view+json": {
       "model_id": "eef15c5556184f83aa3afe522ca367e3",
       "version_major": 2,
       "version_minor": 0
      },
      "text/plain": [
       "forward: 0it [00:00, ?it/s]"
      ]
     },
     "metadata": {},
     "output_type": "display_data"
    },
    {
     "data": {
      "application/vnd.jupyter.widget-view+json": {
       "model_id": "ea2fe1bdc6904c7ba65b6a3e54a9a142",
       "version_major": 2,
       "version_minor": 0
      },
      "text/plain": [
       "backward: 0it [00:00, ?it/s]"
      ]
     },
     "metadata": {},
     "output_type": "display_data"
    },
    {
     "name": "stdout",
     "output_type": "stream",
     "text": [
      "scene id 72\n",
      "scene name car49\n"
     ]
    },
    {
     "data": {
      "application/vnd.jupyter.widget-view+json": {
       "model_id": "5bf07fd971944e4f84cff85f3b430714",
       "version_major": 2,
       "version_minor": 0
      },
      "text/plain": [
       "forward: 0it [00:00, ?it/s]"
      ]
     },
     "metadata": {},
     "output_type": "display_data"
    },
    {
     "data": {
      "application/vnd.jupyter.widget-view+json": {
       "model_id": "e3d813d4dcb44033867417981f6c1a88",
       "version_major": 2,
       "version_minor": 0
      },
      "text/plain": [
       "backward: 0it [00:00, ?it/s]"
      ]
     },
     "metadata": {},
     "output_type": "display_data"
    },
    {
     "name": "stdout",
     "output_type": "stream",
     "text": [
      "scene id 73\n",
      "scene name car50\n"
     ]
    },
    {
     "data": {
      "application/vnd.jupyter.widget-view+json": {
       "model_id": "7182d220706b453eb95a47c92de476cc",
       "version_major": 2,
       "version_minor": 0
      },
      "text/plain": [
       "forward: 0it [00:00, ?it/s]"
      ]
     },
     "metadata": {},
     "output_type": "display_data"
    },
    {
     "data": {
      "application/vnd.jupyter.widget-view+json": {
       "model_id": "40d04188a6c14758b79c01b110eff902",
       "version_major": 2,
       "version_minor": 0
      },
      "text/plain": [
       "backward: 0it [00:00, ?it/s]"
      ]
     },
     "metadata": {},
     "output_type": "display_data"
    },
    {
     "data": {
      "application/vnd.jupyter.widget-view+json": {
       "model_id": "fbcd04bf2dfa4be693671b3edd76b2df",
       "version_major": 2,
       "version_minor": 0
      },
      "text/plain": [
       "backward: 0it [00:00, ?it/s]"
      ]
     },
     "metadata": {},
     "output_type": "display_data"
    },
    {
     "data": {
      "application/vnd.jupyter.widget-view+json": {
       "model_id": "70914c6736ea486faeabec717d9ccc15",
       "version_major": 2,
       "version_minor": 0
      },
      "text/plain": [
       "backward: 0it [00:00, ?it/s]"
      ]
     },
     "metadata": {},
     "output_type": "display_data"
    },
    {
     "data": {
      "application/vnd.jupyter.widget-view+json": {
       "model_id": "dc55625d8a184bca93920a5640224bfd",
       "version_major": 2,
       "version_minor": 0
      },
      "text/plain": [
       "forward: 0it [00:00, ?it/s]"
      ]
     },
     "metadata": {},
     "output_type": "display_data"
    },
    {
     "data": {
      "application/vnd.jupyter.widget-view+json": {
       "model_id": "31f71a8af9e94fb9adb839dfe0928b3d",
       "version_major": 2,
       "version_minor": 0
      },
      "text/plain": [
       "backward: 0it [00:00, ?it/s]"
      ]
     },
     "metadata": {},
     "output_type": "display_data"
    },
    {
     "data": {
      "application/vnd.jupyter.widget-view+json": {
       "model_id": "19e3ded8c7aa4e9e921c45a7a607e963",
       "version_major": 2,
       "version_minor": 0
      },
      "text/plain": [
       "backward: 0it [00:00, ?it/s]"
      ]
     },
     "metadata": {},
     "output_type": "display_data"
    },
    {
     "data": {
      "application/vnd.jupyter.widget-view+json": {
       "model_id": "25c3f79f66a04bb6a4aea06486e7abe7",
       "version_major": 2,
       "version_minor": 0
      },
      "text/plain": [
       "forward: 0it [00:00, ?it/s]"
      ]
     },
     "metadata": {},
     "output_type": "display_data"
    },
    {
     "name": "stdout",
     "output_type": "stream",
     "text": [
      "scene id 74\n",
      "scene name rider18\n"
     ]
    },
    {
     "data": {
      "application/vnd.jupyter.widget-view+json": {
       "model_id": "797461404f484a3f96997662c5869790",
       "version_major": 2,
       "version_minor": 0
      },
      "text/plain": [
       "forward: 0it [00:00, ?it/s]"
      ]
     },
     "metadata": {},
     "output_type": "display_data"
    },
    {
     "data": {
      "application/vnd.jupyter.widget-view+json": {
       "model_id": "16a5af32162e4e7db98e66797e70765c",
       "version_major": 2,
       "version_minor": 0
      },
      "text/plain": [
       "backward: 0it [00:00, ?it/s]"
      ]
     },
     "metadata": {},
     "output_type": "display_data"
    },
    {
     "data": {
      "application/vnd.jupyter.widget-view+json": {
       "model_id": "01ed006ad41c4d89a9f8b502ada04210",
       "version_major": 2,
       "version_minor": 0
      },
      "text/plain": [
       "backward: 0it [00:00, ?it/s]"
      ]
     },
     "metadata": {},
     "output_type": "display_data"
    },
    {
     "data": {
      "application/vnd.jupyter.widget-view+json": {
       "model_id": "12a266664a2d4e2a949ade5e0c6f13c7",
       "version_major": 2,
       "version_minor": 0
      },
      "text/plain": [
       "forward: 0it [00:00, ?it/s]"
      ]
     },
     "metadata": {},
     "output_type": "display_data"
    },
    {
     "data": {
      "application/vnd.jupyter.widget-view+json": {
       "model_id": "2f04957dd5444334bea48c8fd570fe3e",
       "version_major": 2,
       "version_minor": 0
      },
      "text/plain": [
       "backward: 0it [00:00, ?it/s]"
      ]
     },
     "metadata": {},
     "output_type": "display_data"
    },
    {
     "name": "stdout",
     "output_type": "stream",
     "text": [
      "scene id 75\n",
      "scene name car62\n"
     ]
    },
    {
     "data": {
      "application/vnd.jupyter.widget-view+json": {
       "model_id": "06b3e7d8a7d745609474ce34275b5393",
       "version_major": 2,
       "version_minor": 0
      },
      "text/plain": [
       "forward: 0it [00:00, ?it/s]"
      ]
     },
     "metadata": {},
     "output_type": "display_data"
    },
    {
     "data": {
      "application/vnd.jupyter.widget-view+json": {
       "model_id": "589a54a83e944c14b057b7001bae430c",
       "version_major": 2,
       "version_minor": 0
      },
      "text/plain": [
       "backward: 0it [00:00, ?it/s]"
      ]
     },
     "metadata": {},
     "output_type": "display_data"
    },
    {
     "data": {
      "application/vnd.jupyter.widget-view+json": {
       "model_id": "14ec30dc284a4bc9a132dbd2abf61a14",
       "version_major": 2,
       "version_minor": 0
      },
      "text/plain": [
       "backward: 0it [00:00, ?it/s]"
      ]
     },
     "metadata": {},
     "output_type": "display_data"
    },
    {
     "data": {
      "application/vnd.jupyter.widget-view+json": {
       "model_id": "f2b9ad6d4d6d428098c38e9d38a0f2a5",
       "version_major": 2,
       "version_minor": 0
      },
      "text/plain": [
       "backward: 0it [00:00, ?it/s]"
      ]
     },
     "metadata": {},
     "output_type": "display_data"
    },
    {
     "data": {
      "application/vnd.jupyter.widget-view+json": {
       "model_id": "e05aa2217aea45eeb13cee7b24143498",
       "version_major": 2,
       "version_minor": 0
      },
      "text/plain": [
       "forward: 0it [00:00, ?it/s]"
      ]
     },
     "metadata": {},
     "output_type": "display_data"
    },
    {
     "data": {
      "application/vnd.jupyter.widget-view+json": {
       "model_id": "a46707957ada4b5e84c15c73622602d2",
       "version_major": 2,
       "version_minor": 0
      },
      "text/plain": [
       "backward: 0it [00:00, ?it/s]"
      ]
     },
     "metadata": {},
     "output_type": "display_data"
    },
    {
     "data": {
      "application/vnd.jupyter.widget-view+json": {
       "model_id": "ad13e423a937437eaa6151c98e09875b",
       "version_major": 2,
       "version_minor": 0
      },
      "text/plain": [
       "backward: 0it [00:00, ?it/s]"
      ]
     },
     "metadata": {},
     "output_type": "display_data"
    },
    {
     "data": {
      "application/vnd.jupyter.widget-view+json": {
       "model_id": "d9972194f75846e1b90b943fdde98bef",
       "version_major": 2,
       "version_minor": 0
      },
      "text/plain": [
       "backward: 0it [00:00, ?it/s]"
      ]
     },
     "metadata": {},
     "output_type": "display_data"
    },
    {
     "data": {
      "application/vnd.jupyter.widget-view+json": {
       "model_id": "e39d251eb0264aa09a9f7f915f00e410",
       "version_major": 2,
       "version_minor": 0
      },
      "text/plain": [
       "forward: 0it [00:00, ?it/s]"
      ]
     },
     "metadata": {},
     "output_type": "display_data"
    },
    {
     "name": "stdout",
     "output_type": "stream",
     "text": [
      "scene id 76\n",
      "scene name pool11\n"
     ]
    },
    {
     "data": {
      "application/vnd.jupyter.widget-view+json": {
       "model_id": "229cfdab7057429b830f8d402febacfa",
       "version_major": 2,
       "version_minor": 0
      },
      "text/plain": [
       "forward: 0it [00:00, ?it/s]"
      ]
     },
     "metadata": {},
     "output_type": "display_data"
    },
    {
     "data": {
      "application/vnd.jupyter.widget-view+json": {
       "model_id": "675f7626682d40aa89571d714c4ff137",
       "version_major": 2,
       "version_minor": 0
      },
      "text/plain": [
       "backward: 0it [00:00, ?it/s]"
      ]
     },
     "metadata": {},
     "output_type": "display_data"
    },
    {
     "data": {
      "application/vnd.jupyter.widget-view+json": {
       "model_id": "ee1468f498344a53bb046084675cdd13",
       "version_major": 2,
       "version_minor": 0
      },
      "text/plain": [
       "backward: 0it [00:00, ?it/s]"
      ]
     },
     "metadata": {},
     "output_type": "display_data"
    },
    {
     "data": {
      "application/vnd.jupyter.widget-view+json": {
       "model_id": "f148b4ab6f784393b12aaeb1840367da",
       "version_major": 2,
       "version_minor": 0
      },
      "text/plain": [
       "forward: 0it [00:00, ?it/s]"
      ]
     },
     "metadata": {},
     "output_type": "display_data"
    },
    {
     "data": {
      "application/vnd.jupyter.widget-view+json": {
       "model_id": "1b30062063874b5095b487aef45afe9e",
       "version_major": 2,
       "version_minor": 0
      },
      "text/plain": [
       "backward: 0it [00:00, ?it/s]"
      ]
     },
     "metadata": {},
     "output_type": "display_data"
    },
    {
     "name": "stdout",
     "output_type": "stream",
     "text": [
      "scene id 77\n",
      "scene name ball&mirror9\n"
     ]
    },
    {
     "data": {
      "application/vnd.jupyter.widget-view+json": {
       "model_id": "95ec22a484aa4666a125ee4ab16663b3",
       "version_major": 2,
       "version_minor": 0
      },
      "text/plain": [
       "forward: 0it [00:00, ?it/s]"
      ]
     },
     "metadata": {},
     "output_type": "display_data"
    },
    {
     "data": {
      "application/vnd.jupyter.widget-view+json": {
       "model_id": "334bd54152ae4202a8ad92f2ce5842e5",
       "version_major": 2,
       "version_minor": 0
      },
      "text/plain": [
       "backward: 0it [00:00, ?it/s]"
      ]
     },
     "metadata": {},
     "output_type": "display_data"
    },
    {
     "data": {
      "application/vnd.jupyter.widget-view+json": {
       "model_id": "316323d363ea400cb24c24ea0e827b98",
       "version_major": 2,
       "version_minor": 0
      },
      "text/plain": [
       "backward: 0it [00:00, ?it/s]"
      ]
     },
     "metadata": {},
     "output_type": "display_data"
    },
    {
     "data": {
      "application/vnd.jupyter.widget-view+json": {
       "model_id": "e513747896f943e2869cbb94a3953a3e",
       "version_major": 2,
       "version_minor": 0
      },
      "text/plain": [
       "forward: 0it [00:00, ?it/s]"
      ]
     },
     "metadata": {},
     "output_type": "display_data"
    },
    {
     "data": {
      "application/vnd.jupyter.widget-view+json": {
       "model_id": "89c5bb723f474cd8bd8bd7ba288ff2c7",
       "version_major": 2,
       "version_minor": 0
      },
      "text/plain": [
       "backward: 0it [00:00, ?it/s]"
      ]
     },
     "metadata": {},
     "output_type": "display_data"
    },
    {
     "name": "stdout",
     "output_type": "stream",
     "text": [
      "scene id 78\n",
      "scene name cards19\n"
     ]
    },
    {
     "data": {
      "application/vnd.jupyter.widget-view+json": {
       "model_id": "42957542047246e398700acd0965e717",
       "version_major": 2,
       "version_minor": 0
      },
      "text/plain": [
       "forward: 0it [00:00, ?it/s]"
      ]
     },
     "metadata": {},
     "output_type": "display_data"
    },
    {
     "data": {
      "application/vnd.jupyter.widget-view+json": {
       "model_id": "c64a88ea245146439b7a701d34653ec2",
       "version_major": 2,
       "version_minor": 0
      },
      "text/plain": [
       "backward: 0it [00:00, ?it/s]"
      ]
     },
     "metadata": {},
     "output_type": "display_data"
    },
    {
     "data": {
      "application/vnd.jupyter.widget-view+json": {
       "model_id": "61aff8ad7cb4484ab6201a224adcce12",
       "version_major": 2,
       "version_minor": 0
      },
      "text/plain": [
       "backward: 0it [00:00, ?it/s]"
      ]
     },
     "metadata": {},
     "output_type": "display_data"
    },
    {
     "data": {
      "application/vnd.jupyter.widget-view+json": {
       "model_id": "25401131db6741048e78f82b4f5ef2e5",
       "version_major": 2,
       "version_minor": 0
      },
      "text/plain": [
       "backward: 0it [00:00, ?it/s]"
      ]
     },
     "metadata": {},
     "output_type": "display_data"
    },
    {
     "data": {
      "application/vnd.jupyter.widget-view+json": {
       "model_id": "cd3677ce174f41da8ccc448cedefd69a",
       "version_major": 2,
       "version_minor": 0
      },
      "text/plain": [
       "backward: 0it [00:00, ?it/s]"
      ]
     },
     "metadata": {},
     "output_type": "display_data"
    },
    {
     "data": {
      "application/vnd.jupyter.widget-view+json": {
       "model_id": "ffaaccb1f66540ecb11913ea5522a7bb",
       "version_major": 2,
       "version_minor": 0
      },
      "text/plain": [
       "forward: 0it [00:00, ?it/s]"
      ]
     },
     "metadata": {},
     "output_type": "display_data"
    },
    {
     "data": {
      "application/vnd.jupyter.widget-view+json": {
       "model_id": "53c7b9ae7b1e41fa81d40017d7085c13",
       "version_major": 2,
       "version_minor": 0
      },
      "text/plain": [
       "backward: 0it [00:00, ?it/s]"
      ]
     },
     "metadata": {},
     "output_type": "display_data"
    },
    {
     "data": {
      "application/vnd.jupyter.widget-view+json": {
       "model_id": "ab24a1cf428e48e380369c8ff13b8f6e",
       "version_major": 2,
       "version_minor": 0
      },
      "text/plain": [
       "backward: 0it [00:00, ?it/s]"
      ]
     },
     "metadata": {},
     "output_type": "display_data"
    },
    {
     "data": {
      "application/vnd.jupyter.widget-view+json": {
       "model_id": "8ccc217124d94069889190f8c03f0611",
       "version_major": 2,
       "version_minor": 0
      },
      "text/plain": [
       "backward: 0it [00:00, ?it/s]"
      ]
     },
     "metadata": {},
     "output_type": "display_data"
    },
    {
     "data": {
      "application/vnd.jupyter.widget-view+json": {
       "model_id": "7ff262d125004a708d2ab719edf49e5c",
       "version_major": 2,
       "version_minor": 0
      },
      "text/plain": [
       "forward: 0it [00:00, ?it/s]"
      ]
     },
     "metadata": {},
     "output_type": "display_data"
    },
    {
     "name": "stdout",
     "output_type": "stream",
     "text": [
      "scene id 79\n",
      "scene name whitecup1\n"
     ]
    },
    {
     "data": {
      "application/vnd.jupyter.widget-view+json": {
       "model_id": "b50efee0c3c04844a3a78b3b015593fc",
       "version_major": 2,
       "version_minor": 0
      },
      "text/plain": [
       "forward: 0it [00:00, ?it/s]"
      ]
     },
     "metadata": {},
     "output_type": "display_data"
    },
    {
     "data": {
      "application/vnd.jupyter.widget-view+json": {
       "model_id": "111214a0c4624bc89dfcf2fc8f3764ff",
       "version_major": 2,
       "version_minor": 0
      },
      "text/plain": [
       "backward: 0it [00:00, ?it/s]"
      ]
     },
     "metadata": {},
     "output_type": "display_data"
    },
    {
     "name": "stdout",
     "output_type": "stream",
     "text": [
      "scene id 80\n",
      "scene name dice2\n"
     ]
    },
    {
     "data": {
      "application/vnd.jupyter.widget-view+json": {
       "model_id": "c2bf4047f06b44c192951c78d90cc412",
       "version_major": 2,
       "version_minor": 0
      },
      "text/plain": [
       "forward: 0it [00:00, ?it/s]"
      ]
     },
     "metadata": {},
     "output_type": "display_data"
    },
    {
     "data": {
      "application/vnd.jupyter.widget-view+json": {
       "model_id": "48eefc729bb544e19b5a49e52d14263a",
       "version_major": 2,
       "version_minor": 0
      },
      "text/plain": [
       "backward: 0it [00:00, ?it/s]"
      ]
     },
     "metadata": {},
     "output_type": "display_data"
    },
    {
     "data": {
      "application/vnd.jupyter.widget-view+json": {
       "model_id": "d35816deb38b4f689556f2da8857df73",
       "version_major": 2,
       "version_minor": 0
      },
      "text/plain": [
       "backward: 0it [00:00, ?it/s]"
      ]
     },
     "metadata": {},
     "output_type": "display_data"
    },
    {
     "data": {
      "application/vnd.jupyter.widget-view+json": {
       "model_id": "35464aef5624474783160ca1abe8dc1f",
       "version_major": 2,
       "version_minor": 0
      },
      "text/plain": [
       "forward: 0it [00:00, ?it/s]"
      ]
     },
     "metadata": {},
     "output_type": "display_data"
    },
    {
     "data": {
      "application/vnd.jupyter.widget-view+json": {
       "model_id": "8e7ed2a4a50248e79d8ce89002ec8c3c",
       "version_major": 2,
       "version_minor": 0
      },
      "text/plain": [
       "backward: 0it [00:00, ?it/s]"
      ]
     },
     "metadata": {},
     "output_type": "display_data"
    },
    {
     "data": {
      "application/vnd.jupyter.widget-view+json": {
       "model_id": "1edac4285b2a40c58e1b87396a7d2086",
       "version_major": 2,
       "version_minor": 0
      },
      "text/plain": [
       "backward: 0it [00:00, ?it/s]"
      ]
     },
     "metadata": {},
     "output_type": "display_data"
    },
    {
     "data": {
      "application/vnd.jupyter.widget-view+json": {
       "model_id": "09202a204433464ca13dd998a1c18a6e",
       "version_major": 2,
       "version_minor": 0
      },
      "text/plain": [
       "forward: 0it [00:00, ?it/s]"
      ]
     },
     "metadata": {},
     "output_type": "display_data"
    },
    {
     "name": "stdout",
     "output_type": "stream",
     "text": [
      "scene id 81\n",
      "scene name rainystreet16\n"
     ]
    },
    {
     "data": {
      "application/vnd.jupyter.widget-view+json": {
       "model_id": "0684b701ea6c4aff9c1d5e94b9294d4b",
       "version_major": 2,
       "version_minor": 0
      },
      "text/plain": [
       "forward: 0it [00:00, ?it/s]"
      ]
     },
     "metadata": {},
     "output_type": "display_data"
    },
    {
     "data": {
      "application/vnd.jupyter.widget-view+json": {
       "model_id": "e60f1802888c4cdfa943b7725d38c4f4",
       "version_major": 2,
       "version_minor": 0
      },
      "text/plain": [
       "backward: 0it [00:00, ?it/s]"
      ]
     },
     "metadata": {},
     "output_type": "display_data"
    },
    {
     "data": {
      "application/vnd.jupyter.widget-view+json": {
       "model_id": "11616176a3094e7fa949d2b7d217d361",
       "version_major": 2,
       "version_minor": 0
      },
      "text/plain": [
       "backward: 0it [00:00, ?it/s]"
      ]
     },
     "metadata": {},
     "output_type": "display_data"
    },
    {
     "data": {
      "application/vnd.jupyter.widget-view+json": {
       "model_id": "5e0d1aa96e7b46e7ba27e86da8665e56",
       "version_major": 2,
       "version_minor": 0
      },
      "text/plain": [
       "backward: 0it [00:00, ?it/s]"
      ]
     },
     "metadata": {},
     "output_type": "display_data"
    },
    {
     "data": {
      "application/vnd.jupyter.widget-view+json": {
       "model_id": "8559d1a9c827466b8b0360730419bb45",
       "version_major": 2,
       "version_minor": 0
      },
      "text/plain": [
       "forward: 0it [00:00, ?it/s]"
      ]
     },
     "metadata": {},
     "output_type": "display_data"
    },
    {
     "data": {
      "application/vnd.jupyter.widget-view+json": {
       "model_id": "6d7d9a12db4b4230a7ba7c36aa1ff115",
       "version_major": 2,
       "version_minor": 0
      },
      "text/plain": [
       "backward: 0it [00:00, ?it/s]"
      ]
     },
     "metadata": {},
     "output_type": "display_data"
    },
    {
     "data": {
      "application/vnd.jupyter.widget-view+json": {
       "model_id": "71bc285a0471426683833f9c2bc311f3",
       "version_major": 2,
       "version_minor": 0
      },
      "text/plain": [
       "backward: 0it [00:00, ?it/s]"
      ]
     },
     "metadata": {},
     "output_type": "display_data"
    },
    {
     "data": {
      "application/vnd.jupyter.widget-view+json": {
       "model_id": "3e2a8f397bc64b90b0bdd8b409eb71a4",
       "version_major": 2,
       "version_minor": 0
      },
      "text/plain": [
       "forward: 0it [00:00, ?it/s]"
      ]
     },
     "metadata": {},
     "output_type": "display_data"
    },
    {
     "name": "stdout",
     "output_type": "stream",
     "text": [
      "scene id 82\n",
      "scene name pool10\n"
     ]
    },
    {
     "data": {
      "application/vnd.jupyter.widget-view+json": {
       "model_id": "bfcb0c386b0e48fb92ef746ca2e80fd0",
       "version_major": 2,
       "version_minor": 0
      },
      "text/plain": [
       "forward: 0it [00:00, ?it/s]"
      ]
     },
     "metadata": {},
     "output_type": "display_data"
    },
    {
     "data": {
      "application/vnd.jupyter.widget-view+json": {
       "model_id": "af7a1383f0f74672919a0836a72e05c9",
       "version_major": 2,
       "version_minor": 0
      },
      "text/plain": [
       "backward: 0it [00:00, ?it/s]"
      ]
     },
     "metadata": {},
     "output_type": "display_data"
    },
    {
     "data": {
      "application/vnd.jupyter.widget-view+json": {
       "model_id": "5395709e0bc345d9b37d39f2eac2768b",
       "version_major": 2,
       "version_minor": 0
      },
      "text/plain": [
       "backward: 0it [00:00, ?it/s]"
      ]
     },
     "metadata": {},
     "output_type": "display_data"
    },
    {
     "data": {
      "application/vnd.jupyter.widget-view+json": {
       "model_id": "0f22066a9fa1429e975e5dba9f24d8ee",
       "version_major": 2,
       "version_minor": 0
      },
      "text/plain": [
       "backward: 0it [00:00, ?it/s]"
      ]
     },
     "metadata": {},
     "output_type": "display_data"
    },
    {
     "data": {
      "application/vnd.jupyter.widget-view+json": {
       "model_id": "c48bca15591b4a6a84fa9180129df082",
       "version_major": 2,
       "version_minor": 0
      },
      "text/plain": [
       "forward: 0it [00:00, ?it/s]"
      ]
     },
     "metadata": {},
     "output_type": "display_data"
    },
    {
     "data": {
      "application/vnd.jupyter.widget-view+json": {
       "model_id": "53c55775a1194704a8030bbdbd100754",
       "version_major": 2,
       "version_minor": 0
      },
      "text/plain": [
       "backward: 0it [00:00, ?it/s]"
      ]
     },
     "metadata": {},
     "output_type": "display_data"
    },
    {
     "data": {
      "application/vnd.jupyter.widget-view+json": {
       "model_id": "5d851c692cec44e18630909ccd98e71b",
       "version_major": 2,
       "version_minor": 0
      },
      "text/plain": [
       "backward: 0it [00:00, ?it/s]"
      ]
     },
     "metadata": {},
     "output_type": "display_data"
    },
    {
     "name": "stdout",
     "output_type": "stream",
     "text": [
      "scene id 83\n",
      "scene name partylights6\n"
     ]
    },
    {
     "data": {
      "application/vnd.jupyter.widget-view+json": {
       "model_id": "af56106a2d2a450591caf53a49d58638",
       "version_major": 2,
       "version_minor": 0
      },
      "text/plain": [
       "forward: 0it [00:00, ?it/s]"
      ]
     },
     "metadata": {},
     "output_type": "display_data"
    },
    {
     "data": {
      "application/vnd.jupyter.widget-view+json": {
       "model_id": "c6b7a1002e99449a8bcc81a66f9215ee",
       "version_major": 2,
       "version_minor": 0
      },
      "text/plain": [
       "backward: 0it [00:00, ?it/s]"
      ]
     },
     "metadata": {},
     "output_type": "display_data"
    },
    {
     "data": {
      "application/vnd.jupyter.widget-view+json": {
       "model_id": "9173588824cc471dafd7a8fa0c1de649",
       "version_major": 2,
       "version_minor": 0
      },
      "text/plain": [
       "backward: 0it [00:00, ?it/s]"
      ]
     },
     "metadata": {},
     "output_type": "display_data"
    },
    {
     "data": {
      "application/vnd.jupyter.widget-view+json": {
       "model_id": "220af527ffd540c0bda05559989ad873",
       "version_major": 2,
       "version_minor": 0
      },
      "text/plain": [
       "backward: 0it [00:00, ?it/s]"
      ]
     },
     "metadata": {},
     "output_type": "display_data"
    },
    {
     "data": {
      "application/vnd.jupyter.widget-view+json": {
       "model_id": "c756793980a14238a58a23544ee7ee9e",
       "version_major": 2,
       "version_minor": 0
      },
      "text/plain": [
       "backward: 0it [00:00, ?it/s]"
      ]
     },
     "metadata": {},
     "output_type": "display_data"
    },
    {
     "data": {
      "application/vnd.jupyter.widget-view+json": {
       "model_id": "f52ad44e154843f0a2d300be866dfb4d",
       "version_major": 2,
       "version_minor": 0
      },
      "text/plain": [
       "backward: 0it [00:00, ?it/s]"
      ]
     },
     "metadata": {},
     "output_type": "display_data"
    },
    {
     "data": {
      "application/vnd.jupyter.widget-view+json": {
       "model_id": "9640077a9cc843feabddda37cd64faba",
       "version_major": 2,
       "version_minor": 0
      },
      "text/plain": [
       "forward: 0it [00:00, ?it/s]"
      ]
     },
     "metadata": {},
     "output_type": "display_data"
    },
    {
     "data": {
      "application/vnd.jupyter.widget-view+json": {
       "model_id": "5ae6ca57e3014f188f653729d0bae4b9",
       "version_major": 2,
       "version_minor": 0
      },
      "text/plain": [
       "backward: 0it [00:00, ?it/s]"
      ]
     },
     "metadata": {},
     "output_type": "display_data"
    },
    {
     "data": {
      "application/vnd.jupyter.widget-view+json": {
       "model_id": "57bd70203f754407b429b4449c793a9c",
       "version_major": 2,
       "version_minor": 0
      },
      "text/plain": [
       "backward: 0it [00:00, ?it/s]"
      ]
     },
     "metadata": {},
     "output_type": "display_data"
    },
    {
     "data": {
      "application/vnd.jupyter.widget-view+json": {
       "model_id": "f5399e6d3b874191a9834cb20ca2a0aa",
       "version_major": 2,
       "version_minor": 0
      },
      "text/plain": [
       "backward: 0it [00:00, ?it/s]"
      ]
     },
     "metadata": {},
     "output_type": "display_data"
    },
    {
     "name": "stdout",
     "output_type": "stream",
     "text": [
      "scene id 84\n",
      "scene name duck5\n"
     ]
    },
    {
     "data": {
      "application/vnd.jupyter.widget-view+json": {
       "model_id": "84c37ee320e44fc6899165fd823070cf",
       "version_major": 2,
       "version_minor": 0
      },
      "text/plain": [
       "forward: 0it [00:00, ?it/s]"
      ]
     },
     "metadata": {},
     "output_type": "display_data"
    },
    {
     "data": {
      "application/vnd.jupyter.widget-view+json": {
       "model_id": "ea70432f107a4155a994db5e0a153b39",
       "version_major": 2,
       "version_minor": 0
      },
      "text/plain": [
       "backward: 0it [00:00, ?it/s]"
      ]
     },
     "metadata": {},
     "output_type": "display_data"
    },
    {
     "data": {
      "application/vnd.jupyter.widget-view+json": {
       "model_id": "a6779b457d6c49ab8fd49b0d70cea995",
       "version_major": 2,
       "version_minor": 0
      },
      "text/plain": [
       "backward: 0it [00:00, ?it/s]"
      ]
     },
     "metadata": {},
     "output_type": "display_data"
    },
    {
     "data": {
      "application/vnd.jupyter.widget-view+json": {
       "model_id": "cb3873c67c74404b915ddef5ae6dff95",
       "version_major": 2,
       "version_minor": 0
      },
      "text/plain": [
       "forward: 0it [00:00, ?it/s]"
      ]
     },
     "metadata": {},
     "output_type": "display_data"
    },
    {
     "data": {
      "application/vnd.jupyter.widget-view+json": {
       "model_id": "f5fb55423ec14f5f9744bf4cbad47d67",
       "version_major": 2,
       "version_minor": 0
      },
      "text/plain": [
       "backward: 0it [00:00, ?it/s]"
      ]
     },
     "metadata": {},
     "output_type": "display_data"
    },
    {
     "name": "stdout",
     "output_type": "stream",
     "text": [
      "scene id 85\n",
      "scene name rainystreet10\n"
     ]
    },
    {
     "data": {
      "application/vnd.jupyter.widget-view+json": {
       "model_id": "fd51bf9aefce4e03a4717ec2214f3042",
       "version_major": 2,
       "version_minor": 0
      },
      "text/plain": [
       "forward: 0it [00:00, ?it/s]"
      ]
     },
     "metadata": {},
     "output_type": "display_data"
    },
    {
     "data": {
      "application/vnd.jupyter.widget-view+json": {
       "model_id": "d2bbe812661946c18a0419af65374914",
       "version_major": 2,
       "version_minor": 0
      },
      "text/plain": [
       "backward: 0it [00:00, ?it/s]"
      ]
     },
     "metadata": {},
     "output_type": "display_data"
    },
    {
     "data": {
      "application/vnd.jupyter.widget-view+json": {
       "model_id": "c2fe455dad3f4aa6909ee48ffd9df8e3",
       "version_major": 2,
       "version_minor": 0
      },
      "text/plain": [
       "backward: 0it [00:00, ?it/s]"
      ]
     },
     "metadata": {},
     "output_type": "display_data"
    },
    {
     "data": {
      "application/vnd.jupyter.widget-view+json": {
       "model_id": "63df5a8d93054ca88face5b004d3078c",
       "version_major": 2,
       "version_minor": 0
      },
      "text/plain": [
       "forward: 0it [00:00, ?it/s]"
      ]
     },
     "metadata": {},
     "output_type": "display_data"
    },
    {
     "data": {
      "application/vnd.jupyter.widget-view+json": {
       "model_id": "c1e5e0d7c1344a588c72f94d7455a7fc",
       "version_major": 2,
       "version_minor": 0
      },
      "text/plain": [
       "backward: 0it [00:00, ?it/s]"
      ]
     },
     "metadata": {},
     "output_type": "display_data"
    },
    {
     "name": "stdout",
     "output_type": "stream",
     "text": [
      "scene id 86\n",
      "scene name cards16\n"
     ]
    },
    {
     "data": {
      "application/vnd.jupyter.widget-view+json": {
       "model_id": "70a21f078b4948ecb197cf9cdcea1691",
       "version_major": 2,
       "version_minor": 0
      },
      "text/plain": [
       "forward: 0it [00:00, ?it/s]"
      ]
     },
     "metadata": {},
     "output_type": "display_data"
    },
    {
     "data": {
      "application/vnd.jupyter.widget-view+json": {
       "model_id": "b004d71566bd4556998b896a965e37a5",
       "version_major": 2,
       "version_minor": 0
      },
      "text/plain": [
       "backward: 0it [00:00, ?it/s]"
      ]
     },
     "metadata": {},
     "output_type": "display_data"
    },
    {
     "data": {
      "application/vnd.jupyter.widget-view+json": {
       "model_id": "7226a633db11472c96db11e1ec49b823",
       "version_major": 2,
       "version_minor": 0
      },
      "text/plain": [
       "backward: 0it [00:00, ?it/s]"
      ]
     },
     "metadata": {},
     "output_type": "display_data"
    },
    {
     "data": {
      "application/vnd.jupyter.widget-view+json": {
       "model_id": "7fd7ad17bf8f4543a0241df0bec18dd3",
       "version_major": 2,
       "version_minor": 0
      },
      "text/plain": [
       "backward: 0it [00:00, ?it/s]"
      ]
     },
     "metadata": {},
     "output_type": "display_data"
    },
    {
     "data": {
      "application/vnd.jupyter.widget-view+json": {
       "model_id": "56d8e48c467f4008814cefd1d5226c89",
       "version_major": 2,
       "version_minor": 0
      },
      "text/plain": [
       "forward: 0it [00:00, ?it/s]"
      ]
     },
     "metadata": {},
     "output_type": "display_data"
    },
    {
     "data": {
      "application/vnd.jupyter.widget-view+json": {
       "model_id": "07c70e7f32e24daaa347f93087d09edf",
       "version_major": 2,
       "version_minor": 0
      },
      "text/plain": [
       "backward: 0it [00:00, ?it/s]"
      ]
     },
     "metadata": {},
     "output_type": "display_data"
    }
   ],
   "source": [
    "version = \"v1-hsi-xgboost-falsecolor-mix-09\"\n",
    "\n",
    "for scene in val_scenes:\n",
    "    print(\"scene id\", scene)\n",
    "    scene = val_dataset[scene]\n",
    "    print(\"scene name\", scene.name)\n",
    "    \n",
    "    output_dir = f\"../outputs/model_predictions/forward-backward-neighbours_{version}/{val_dataset.dataset_type}/{scene.camera_type}\"\n",
    "    pred_path = f\"{output_dir}/{scene.name}.txt\"\n",
    "    \n",
    "    frames = scene.hsi, scene.falsecolor\n",
    "    bbox_init = scene.y_true[0]\n",
    "    forward = backward_forward(ostrack, dim_reduction, frames, bbox_init, scene, debug=False, maxiter=3)\n",
    "    \n",
    "    os.makedirs(output_dir, exist_ok=True)\n",
    "    save_rects(pred_path, forward)\n",
    "    \n",
    "    \n",
    "# ranking_dataset = HOTDatasetMultiCam(\"/scratch/datasets/hot_2023/ranking/\")\n",
    "\n",
    "\n",
    "# for scene in range(len(ranking_dataset)):\n",
    "#     print(\"scene id\", scene)\n",
    "#     scene = ranking_dataset[scene]\n",
    "#     print(\"scene name\", scene.name)\n",
    "    \n",
    "#     output_dir = f\"../outputs/model_predictions/forward-backward-neighbours_{version}/{ranking_dataset.dataset_type}/{scene.camera_type}\"\n",
    "#     pred_path = f\"{output_dir}/{scene.name}.txt\"\n",
    "    \n",
    "#     frames = scene.hsi, scene.falsecolor\n",
    "    \n",
    "#     bbox_init = scene.init_bbox\n",
    "#     forward = backward_forward(ostrack, dim_reduction, frames, bbox_init, scene, debug=False, maxiter=3)\n",
    "    \n",
    "#     os.makedirs(output_dir, exist_ok=True)\n",
    "#     save_rects(pred_path, forward)\n",
    "    "
   ]
  },
  {
   "cell_type": "code",
   "execution_count": 11,
   "id": "4b1a3511",
   "metadata": {},
   "outputs": [
    {
     "data": {
      "text/html": [
       "<div>\n",
       "<style scoped>\n",
       "    .dataframe tbody tr th:only-of-type {\n",
       "        vertical-align: middle;\n",
       "    }\n",
       "\n",
       "    .dataframe tbody tr th {\n",
       "        vertical-align: top;\n",
       "    }\n",
       "\n",
       "    .dataframe thead th {\n",
       "        text-align: right;\n",
       "    }\n",
       "</style>\n",
       "<table border=\"1\" class=\"dataframe\">\n",
       "  <thead>\n",
       "    <tr style=\"text-align: right;\">\n",
       "      <th>metric</th>\n",
       "      <th>model</th>\n",
       "      <th>mean AUC</th>\n",
       "      <th>mean DP20</th>\n",
       "    </tr>\n",
       "  </thead>\n",
       "  <tbody>\n",
       "    <tr>\n",
       "      <th>2</th>\n",
       "      <td>forward-backward-neighbours_v1-hsi-xgboost-fal...</td>\n",
       "      <td>0.634193</td>\n",
       "      <td>0.845616</td>\n",
       "    </tr>\n",
       "    <tr>\n",
       "      <th>1</th>\n",
       "      <td>forward-backward-neighbours_v1</td>\n",
       "      <td>0.627657</td>\n",
       "      <td>0.841613</td>\n",
       "    </tr>\n",
       "    <tr>\n",
       "      <th>0</th>\n",
       "      <td>6.4_dim_reduction_v7.1_xgboost_blt_local_imadjust</td>\n",
       "      <td>0.620763</td>\n",
       "      <td>0.820088</td>\n",
       "    </tr>\n",
       "    <tr>\n",
       "      <th>4</th>\n",
       "      <td>forward-backward_v3</td>\n",
       "      <td>0.605431</td>\n",
       "      <td>0.820590</td>\n",
       "    </tr>\n",
       "    <tr>\n",
       "      <th>3</th>\n",
       "      <td>forward-backward_baseline</td>\n",
       "      <td>0.599976</td>\n",
       "      <td>0.805493</td>\n",
       "    </tr>\n",
       "  </tbody>\n",
       "</table>\n",
       "</div>"
      ],
      "text/plain": [
       "metric                                              model  mean AUC  mean DP20\n",
       "2       forward-backward-neighbours_v1-hsi-xgboost-fal...  0.634193   0.845616\n",
       "1                          forward-backward-neighbours_v1  0.627657   0.841613\n",
       "0       6.4_dim_reduction_v7.1_xgboost_blt_local_imadjust  0.620763   0.820088\n",
       "4                                     forward-backward_v3  0.605431   0.820590\n",
       "3                               forward-backward_baseline  0.599976   0.805493"
      ]
     },
     "metadata": {},
     "output_type": "display_data"
    },
    {
     "data": {
      "image/png": "[encoded data removed]",
      "text/plain": [
       "<Figure size 1200x900 with 2 Axes>"
      ]
     },
     "metadata": {},
     "output_type": "display_data"
    }
   ],
   "source": [
    "_, summary = eval_results_v2(\n",
    "    val_dataset,\n",
    "    [\n",
    "        \"forward-backward_baseline\",\n",
    "        \"forward-backward_v3\",\"forward-backward-neighbours_v1\",\n",
    "        # \"forward-backward-neighbours_v1-hsi-xgboost\",\n",
    "        \"6.4_dim_reduction_v7.1_xgboost_blt_local_imadjust\",\n",
    "        \"forward-backward-neighbours_v1-hsi-xgboost-falsecolor-mix-09\",\n",
    "    ],\n",
    "    plot=True,\n",
    ")\n",
    "#     sequence_ids=test_scenes)\n",
    "display(summary)"
   ]
  },
  {
   "cell_type": "code",
   "execution_count": 12,
   "id": "fb2228c3",
   "metadata": {},
   "outputs": [
    {
     "name": "stdout",
     "output_type": "stream",
     "text": [
      "metric                                                         model  mean AUC  mean DP20\n",
      "2       forward-backward-neighbours_v1-hsi-xgboost-falsecolor-mix-09  0.634193   0.845616\n",
      "1                                     forward-backward-neighbours_v1  0.627657   0.841613\n",
      "0                  6.4_dim_reduction_v7.1_xgboost_blt_local_imadjust  0.620763   0.820088\n",
      "4                                                forward-backward_v3  0.605431   0.820590\n",
      "3                                          forward-backward_baseline  0.599976   0.805493\n"
     ]
    }
   ],
   "source": [
    "print(summary.to_string())"
   ]
  }
 ],
 "metadata": {
  "kernelspec": {
   "display_name": "Python 3 (ipykernel)",
   "language": "python",
   "name": "python3"
  },
  "language_info": {
   "codemirror_mode": {
    "name": "ipython",
    "version": 3
   },
   "file_extension": ".py",
   "mimetype": "text/x-python",
   "name": "python",
   "nbconvert_exporter": "python",
   "pygments_lexer": "ipython3",
   "version": "3.10.6"
  }
 },
 "nbformat": 4,
 "nbformat_minor": 5
}
